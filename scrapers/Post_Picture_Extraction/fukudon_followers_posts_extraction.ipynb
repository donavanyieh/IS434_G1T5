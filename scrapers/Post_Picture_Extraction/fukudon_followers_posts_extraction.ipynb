{
 "cells": [
  {
   "cell_type": "code",
   "execution_count": 1,
   "metadata": {},
   "outputs": [],
   "source": [
    "import pandas as pd\n",
    "import csv"
   ]
  },
  {
   "cell_type": "code",
   "execution_count": null,
   "metadata": {},
   "outputs": [],
   "source": [
    "fukudon_posts_df= pd.read_csv(r'fukudon_posts_scrape.csv')"
   ]
  },
  {
   "cell_type": "code",
   "execution_count": null,
   "metadata": {},
   "outputs": [],
   "source": [
    "fukudon_posts_df_img = influencer_followers_posts_df['imgUrl']\n",
    "fukudon_posts_df_img "
   ]
  },
  {
   "cell_type": "code",
   "execution_count": 4,
   "metadata": {},
   "outputs": [
    {
     "data": {
      "text/plain": [
       "['https://scontent-bru2-1.cdninstagram.com/v/t51.2885-15/275440088_359934012516245_1406423334571149469_n.jpg?stp=dst-jpg_e35&_nc_ht=scontent-bru2-1.cdninstagram.com&_nc_cat=105&_nc_ohc=2kuPyI9n2Z4AX-BIDdx&edm=AABBvjUBAAAA&ccb=7-4&ig_cache_key=Mjc5MDA0MzA3MjY4MTgxNjY5NQ%3D%3D.2-ccb7-4&oh=00_AT-PWbeqIp47nANQeQsDMKZpktXkXI7lBE_PWuZIpcQlqw&oe=62304E26&_nc_sid=83d603',\n",
       " 'https://scontent-bru2-1.cdninstagram.com/v/t51.2885-15/275354121_492952675817027_3442355428132876212_n.jpg?stp=dst-jpg_e35&_nc_ht=scontent-bru2-1.cdninstagram.com&_nc_cat=111&_nc_ohc=rf46jTCe5MsAX_oxKwE&edm=AABBvjUBAAAA&ccb=7-4&ig_cache_key=Mjc4OTIyOTA4MjI5Mjc1MTM1OA%3D%3D.2-ccb7-4&oh=00_AT8jFa7qIPEI4t4qd82CsKnArydgDW2wWyzS1g_xK1lTpA&oe=62302696&_nc_sid=83d603',\n",
       " 'https://scontent-bru2-1.cdninstagram.com/v/t51.2885-15/275284551_1622324434812557_5563811252067410342_n.jpg?stp=dst-jpg_e35&_nc_ht=scontent-bru2-1.cdninstagram.com&_nc_cat=105&_nc_ohc=ryQ-BJ0w0s8AX8xmSqc&edm=AABBvjUBAAAA&ccb=7-4&ig_cache_key=Mjc4ODYzNjU4Njg4OTk5MDQ2NQ%3D%3D.2-ccb7-4&oh=00_AT_IrDrgIfDeECDlPmnZy0z-CfEJkTT2L5TWsU4sKqZt6Q&oe=6230E050&_nc_sid=83d603',\n",
       " 'https://scontent-bru2-1.cdninstagram.com/v/t51.2885-15/275317449_4902960823106013_2310238168457053856_n.jpg?stp=dst-jpg_e35&_nc_ht=scontent-bru2-1.cdninstagram.com&_nc_cat=109&_nc_ohc=K6qcV3BEWn4AX-m4rpg&edm=AABBvjUBAAAA&ccb=7-4&ig_cache_key=Mjc4ODUzNjQzMzcwMjMzMzIyMg%3D%3D.2-ccb7-4&oh=00_AT-AaAush6HE_7_OVZElH4W3uxzwBSQYmii8dZtiA73WDA&oe=623072DB&_nc_sid=83d603',\n",
       " 'https://scontent-bru2-1.cdninstagram.com/v/t51.2885-15/275324080_679785876798417_2094509358580874550_n.jpg?stp=dst-jpg_e35&_nc_ht=scontent-bru2-1.cdninstagram.com&_nc_cat=109&_nc_ohc=SB6YD8NpFmoAX9R7qZu&edm=AABBvjUBAAAA&ccb=7-4&ig_cache_key=Mjc4ODQ3NDUxMDIwOTE1MTU5MQ%3D%3D.2-ccb7-4&oh=00_AT88ndQMRRk6U6x-HH1PZMIGcqpYQf8tR5YSde2IUNxoEg&oe=62315CD9&_nc_sid=83d603',\n",
       " 'https://scontent-bru2-1.cdninstagram.com/v/t51.2885-15/275408714_7453204131387130_2285267288697215844_n.jpg?stp=dst-jpg_e35&_nc_ht=scontent-bru2-1.cdninstagram.com&_nc_cat=110&_nc_ohc=CcurnzJ-XfoAX_geiKa&edm=AABBvjUBAAAA&ccb=7-4&ig_cache_key=Mjc5MDQ4OTc1NTg4MjM3OTI2NA%3D%3D.2-ccb7-4&oh=00_AT_j-f4lxVf5adFEeJs_RO3AdfkVA4uieuJU8LBEvYLrCg&oe=62303668&_nc_sid=83d603',\n",
       " 'https://scontent-bru2-1.cdninstagram.com/v/t51.2885-15/275387963_1592027097838433_7206909135596922387_n.jpg?stp=dst-jpg_e35&_nc_ht=scontent-bru2-1.cdninstagram.com&_nc_cat=105&_nc_ohc=NVa9ES5UhaEAX9CnK-3&edm=AABBvjUBAAAA&ccb=7-4&ig_cache_key=Mjc4OTgwNzQzMzgyMjYxOTc1MA%3D%3D.2-ccb7-4&oh=00_AT88Z0WBPEaY3ONGzf_W2Zz74RPqtPWWYf8K5nPOQebMNQ&oe=6230F560&_nc_sid=83d603',\n",
       " 'https://scontent-bru2-1.cdninstagram.com/v/t51.2885-15/275331153_471798354668427_7479774930692413500_n.jpg?stp=dst-jpg_e35&_nc_ht=scontent-bru2-1.cdninstagram.com&_nc_cat=103&_nc_ohc=QtTDjcI38WUAX9qlQ2z&edm=AABBvjUBAAAA&ccb=7-4&ig_cache_key=Mjc4OTA4NTcwMTkzMTM4MDU1Mg%3D%3D.2-ccb7-4&oh=00_AT_EDnZtvagGcXk-oSd58a89afjtfZz5iC8kI5w2iHDPsA&oe=622FFFB3&_nc_sid=83d603',\n",
       " 'https://scontent-bru2-1.cdninstagram.com/v/t51.2885-15/275225234_483972453196233_2906689724444406453_n.jpg?stp=dst-jpg_e35&_nc_ht=scontent-bru2-1.cdninstagram.com&_nc_cat=109&_nc_ohc=-oJLCDTdsM0AX9tgdRV&edm=AABBvjUBAAAA&ccb=7-4&ig_cache_key=Mjc4ODc0NzA1Nzc1MjQwNTQ2Nw%3D%3D.2-ccb7-4&oh=00_AT8Y6fLgQJVqG6vOc6Ke4BZeNc-GEI8loG3qvT4cY7EhLg&oe=622FB1E8&_nc_sid=83d603',\n",
       " 'https://scontent-bru2-1.cdninstagram.com/v/t51.2885-15/275256565_3183473855270310_1471753869145694515_n.jpg?stp=dst-jpg_e35&_nc_ht=scontent-bru2-1.cdninstagram.com&_nc_cat=106&_nc_ohc=9HKLIP-SXmoAX_uWFu0&edm=AABBvjUBAAAA&ccb=7-4&ig_cache_key=Mjc4ODI4ODA2MjEyMTg1MDU4Mg%3D%3D.2-ccb7-4&oh=00_AT91JXVOdBeE-loYJqafMq-GKKwEvD1-M_-HdAFW7dU7uw&oe=622FE1DB&_nc_sid=83d603',\n",
       " 'https://scontent-bru2-1.cdninstagram.com/v/t51.2885-15/275384102_1996498797196821_7562473728463877865_n.jpg?stp=dst-jpg_e35&_nc_ht=scontent-bru2-1.cdninstagram.com&_nc_cat=109&_nc_ohc=NKV09T7XfVgAX-lTTVz&edm=AABBvjUBAAAA&ccb=7-4&ig_cache_key=Mjc4OTMzNDQ3MzMzMjYxODk3Mg%3D%3D.2-ccb7-4&oh=00_AT83aUUq0UaV6cVIanR7DvpEBqoIoHuddyaQei2IvUtnFQ&oe=622FF22A&_nc_sid=83d603',\n",
       " 'https://scontent-bru2-1.cdninstagram.com/v/t51.2885-15/275476346_658934452111759_3071398876072827251_n.jpg?stp=dst-jpg_e35&_nc_ht=scontent-bru2-1.cdninstagram.com&_nc_cat=107&_nc_ohc=zH2BdPWAiMgAX-C3HxM&edm=AABBvjUBAAAA&ccb=7-4&ig_cache_key=Mjc4ODY5ODIzODEwOTA2OTEzOQ%3D%3D.2-ccb7-4&oh=00_AT_Scw4eJql-9n3m69yTkFtnu0l5LyJDfdL6oZhUoy6Dpw&oe=62312B25&_nc_sid=83d603',\n",
       " 'https://scontent-bru2-1.cdninstagram.com/v/t51.2885-15/275186684_286679270245540_3751540644458645783_n.jpg?stp=dst-jpg_e35&_nc_ht=scontent-bru2-1.cdninstagram.com&_nc_cat=104&_nc_ohc=-nBybIZ_TvUAX8GywNc&edm=AABBvjUBAAAA&ccb=7-4&ig_cache_key=Mjc4NzkzMDc2NDA0NDIyMjM0NA%3D%3D.2-ccb7-4&oh=00_AT-l9EDciO84in9KZ_7GZ1LEvQ6s41maGGDiSsxpIdqMPA&oe=6230F171&_nc_sid=83d603',\n",
       " 'https://scontent-bru2-1.cdninstagram.com/v/t51.2885-15/275278231_502986224546381_8303458804141608434_n.jpg?stp=dst-jpg_e35&_nc_ht=scontent-bru2-1.cdninstagram.com&_nc_cat=105&_nc_ohc=nsFCJQJ4JTIAX9TiVy7&edm=AABBvjUBAAAA&ccb=7-4&ig_cache_key=Mjc4NzIxODUyMTkyNTIxNjYwMQ%3D%3D.2-ccb7-4&oh=00_AT-_RY46uy2MIygWnLGqSWLyxz4q8Ly3hvaay10-xm4fvA&oe=62309AB4&_nc_sid=83d603',\n",
       " 'https://scontent-bru2-1.cdninstagram.com/v/t51.2885-15/275256884_261313339509698_2746414752640077557_n.jpg?stp=dst-jpg_e35&_nc_ht=scontent-bru2-1.cdninstagram.com&_nc_cat=102&_nc_ohc=6Kdan09-tEEAX8v932h&edm=AABBvjUBAAAA&ccb=7-4&ig_cache_key=Mjc4NjQ3Njk3NjcyMDY3NzE1NA%3D%3D.2-ccb7-4&oh=00_AT8A2sRgzozU_EoGizw_yJ0jCa61RobUY4I4p5WOQpMmuQ&oe=6230DE9F&_nc_sid=83d603',\n",
       " 'https://scontent-bru2-1.cdninstagram.com/v/t51.2885-15/275418287_4662115663917316_4020982926092222160_n.jpg?stp=dst-jpg_e35&_nc_ht=scontent-bru2-1.cdninstagram.com&_nc_cat=104&_nc_ohc=E9gf2ALjSIMAX-3vUif&edm=AABBvjUBAAAA&ccb=7-4&ig_cache_key=Mjc4ODcxNTIzNTg2OTYxMjA0Mg%3D%3D.2-ccb7-4&oh=00_AT_QJvgZKTpM8pVfeTtTcCW3s8MsG1mAcuceTdO7Ec6nyQ&oe=6230A915&_nc_sid=83d603',\n",
       " 'https://scontent-bru2-1.cdninstagram.com/v/t51.2885-15/275102296_141246731727332_4798389142620981470_n.jpg?stp=dst-jpg_e35&_nc_ht=scontent-bru2-1.cdninstagram.com&_nc_cat=108&_nc_ohc=QHnYT9ZzN1oAX9-o9pb&edm=AABBvjUBAAAA&ccb=7-4&ig_cache_key=Mjc4NjU2NDE0MDEwMzg5OTQwNg%3D%3D.2-ccb7-4&oh=00_AT9M2-QuFhicIvh70RnwSNFcBLShsbuSMsgpUERoKFbxOA&oe=623154D7&_nc_sid=83d603',\n",
       " 'https://scontent-bru2-1.cdninstagram.com/v/t51.2885-15/274787123_557235195244879_4914643940238102186_n.jpg?stp=dst-jpg_e35&_nc_ht=scontent-bru2-1.cdninstagram.com&_nc_cat=107&_nc_ohc=ivEA0uGaUeEAX_M7fOH&edm=AABBvjUBAAAA&ccb=7-4&ig_cache_key=Mjc4Mjc1MjgyNTE1NzcxMDc5Mw%3D%3D.2-ccb7-4&oh=00_AT9rxKq3t-ZYXZihQPxzZoVFqg5RtmRj6VahVarz-NDW3g&oe=623179B2&_nc_sid=83d603',\n",
       " 'https://scontent-bru2-1.cdninstagram.com/v/t51.2885-15/274513323_430302238845208_1202649927800734897_n.jpg?stp=dst-jpg_e35&_nc_ht=scontent-bru2-1.cdninstagram.com&_nc_cat=104&_nc_ohc=Brl7rpsejR0AX9rU5un&edm=AABBvjUBAAAA&ccb=7-4&ig_cache_key=Mjc3ODYxNDUzODQ1MTY4NTcxMA%3D%3D.2-ccb7-4&oh=00_AT-WCHLR86oAlz_t1qo9ICCcXimpjOoaqKJ3fDgkmOY-cQ&oe=622FD3CD&_nc_sid=83d603',\n",
       " 'https://scontent-bru2-1.cdninstagram.com/v/t51.2885-15/273884141_313545394151133_2516390937280923198_n.jpg?stp=dst-jpg_e35&_nc_ht=scontent-bru2-1.cdninstagram.com&_nc_cat=109&_nc_ohc=5f2Bb9I7q6MAX9g3Nj0&tn=pZ5WdMG4qdoR0cC_&edm=AABBvjUBAAAA&ccb=7-4&ig_cache_key=Mjc3NDE1Njc4OTY1NzA1MDQzNQ%3D%3D.2-ccb7-4&oh=00_AT8I8PJlz62CWy7Zy4nzZjBPkH-4MhUqV7SVoyWV2lOfFA&oe=622F8C39&_nc_sid=83d603',\n",
       " 'https://scontent-bru2-1.cdninstagram.com/v/t51.2885-15/275641103_494626822067342_9101052915753952640_n.jpg?stp=dst-jpg_e35&_nc_ht=scontent-bru2-1.cdninstagram.com&_nc_cat=102&_nc_ohc=kEzRNBnqMpoAX90rxJb&edm=AABBvjUBAAAA&ccb=7-4&ig_cache_key=Mjc5MDEwMDM0NzE3ODA0MjkzMg%3D%3D.2-ccb7-4&oh=00_AT8phOXxOQd7jbVCrDhQLHKqSXlfEtXUfFnu0FvPzFIVmg&oe=6230927B&_nc_sid=83d603',\n",
       " 'https://scontent-bru2-1.cdninstagram.com/v/t51.2885-15/275430370_681425803050679_3944890070242287029_n.jpg?stp=dst-jpg_e35&_nc_ht=scontent-bru2-1.cdninstagram.com&_nc_cat=107&_nc_ohc=ciNIYrjZFn8AX90MG2u&edm=AABBvjUBAAAA&ccb=7-4&ig_cache_key=Mjc4OTM3NTgwNTMzNzkwMzI5MA%3D%3D.2-ccb7-4&oh=00_AT8_bwcWIv0EYQ_1c0_aERo_jl_GAEI4mT0RTIJFDvvGvQ&oe=622FD49F&_nc_sid=83d603',\n",
       " 'https://scontent-bru2-1.cdninstagram.com/v/t51.2885-15/275322813_129985496213138_8036375190338796457_n.jpg?stp=dst-jpg_e35&_nc_ht=scontent-bru2-1.cdninstagram.com&_nc_cat=102&_nc_ohc=FA5Bk9-snhMAX_9k7Sl&edm=AABBvjUBAAAA&ccb=7-4&ig_cache_key=Mjc4ODY1MDQyMzI4NjYzMDYyOQ%3D%3D.2-ccb7-4&oh=00_AT_683LKV7tZ8OKSIN2HKG1u47MdtL92ne6PurQiHPlm9w&oe=62304882&_nc_sid=83d603',\n",
       " 'https://scontent-bru2-1.cdninstagram.com/v/t51.2885-15/275192031_350027213804033_7755160283885477456_n.jpg?stp=dst-jpg_e35&_nc_ht=scontent-bru2-1.cdninstagram.com&_nc_cat=105&_nc_ohc=2DD16-JSN-0AX8Ma9NM&edm=AABBvjUBAAAA&ccb=7-4&ig_cache_key=Mjc4NzkxOTU2MjQxNzIyOTc5NQ%3D%3D.2-ccb7-4&oh=00_AT8JmiwDyBS6D6F7K0ntrNqJxWAwYc0imhgX2s5E4jHNVw&oe=62316EA9&_nc_sid=83d603',\n",
       " 'https://scontent-bru2-1.cdninstagram.com/v/t51.2885-15/275161483_4451838981587633_5196047104390768455_n.jpg?stp=dst-jpg_e35&_nc_ht=scontent-bru2-1.cdninstagram.com&_nc_cat=105&_nc_ohc=0SCVtlEhKCYAX8ZA8EF&edm=AABBvjUBAAAA&ccb=7-4&ig_cache_key=Mjc4NzE5ODkwNjU4MzEwODgxMw%3D%3D.2-ccb7-4&oh=00_AT-vuuhgxloDsPW7cJaxHrBNe0W1iY2ojgrMxgN47DirXA&oe=62301218&_nc_sid=83d603',\n",
       " 'https://scontent-bru2-1.cdninstagram.com/v/t51.2885-15/275403353_1177485739662175_5044932171896126526_n.jpg?stp=dst-jpg_e35&_nc_ht=scontent-bru2-1.cdninstagram.com&_nc_cat=107&_nc_ohc=yCruobsHYDMAX83yttI&edm=AABBvjUBAAAA&ccb=7-4&ig_cache_key=Mjc5MDE3NzE1MzcyNTc2MjM0OA%3D%3D.2-ccb7-4&oh=00_AT-K3QFu-4L0hr9D7ynKIedjYICJTDHXlHq8LZz4NKAUQA&oe=622FB151&_nc_sid=83d603',\n",
       " 'https://scontent-bru2-1.cdninstagram.com/v/t51.2885-15/275325932_1342453196221737_3050777763006833651_n.jpg?stp=dst-jpg_e35&_nc_ht=scontent-bru2-1.cdninstagram.com&_nc_cat=109&_nc_ohc=pO_MisFs--kAX84GYzU&tn=pZ5WdMG4qdoR0cC_&edm=AABBvjUBAAAA&ccb=7-4&ig_cache_key=Mjc4OTQyNTgwODE1MjYxNTU3OQ%3D%3D.2-ccb7-4&oh=00_AT_c-kEf20rlr5kyqsy-QJryFldbYd3CXnUmW0dF0R8esA&oe=62313D6F&_nc_sid=83d603',\n",
       " 'https://scontent-bru2-1.cdninstagram.com/v/t51.2885-15/275274395_369234178160359_4705072747412318345_n.jpg?stp=dst-jpg_e35&_nc_ht=scontent-bru2-1.cdninstagram.com&_nc_cat=107&_nc_ohc=31AeS9OMo0IAX8SQnz8&tn=pZ5WdMG4qdoR0cC_&edm=AABBvjUBAAAA&ccb=7-4&ig_cache_key=Mjc4ODczMDAxODUyNjY1Njg2MQ%3D%3D.2-ccb7-4&oh=00_AT8vVffdIAFFPbbeLw_LNXKXge1bCn0BQHqpl8Z2H0cL7A&oe=6230B0BA&_nc_sid=83d603',\n",
       " 'https://scontent-bru2-1.cdninstagram.com/v/t51.2885-15/275285962_636044087695622_3097815743343536067_n.jpg?stp=dst-jpg_e35&_nc_ht=scontent-bru2-1.cdninstagram.com&_nc_cat=102&_nc_ohc=s-sQvIZH2JMAX8fYHPZ&edm=AABBvjUBAAAA&ccb=7-4&ig_cache_key=Mjc4Nzk3NjU4NDY1MTMyNDAxNg%3D%3D.2-ccb7-4&oh=00_AT8qHn9kaZaf_QUJRezQqBqV6G2yorWPiXByyRBNJzkd0g&oe=622F8C8F&_nc_sid=83d603',\n",
       " 'https://scontent-bru2-1.cdninstagram.com/v/t51.2885-15/275126820_637950200956166_3052603033290120455_n.jpg?stp=dst-jpg_e35&_nc_ht=scontent-bru2-1.cdninstagram.com&_nc_cat=102&_nc_ohc=VoL3sGlHqioAX8Bk-Xr&edm=AABBvjUBAAAA&ccb=7-4&ig_cache_key=Mjc4NzI3MTM2OTI5OTkwMTIxOA%3D%3D.2-ccb7-4&oh=00_AT_c_K429wZlZNfjFzhhXoVfc_U2tbZchmPHWZyx5vmyvQ&oe=6230EFC5&_nc_sid=83d603',\n",
       " 'https://scontent-bru2-1.cdninstagram.com/v/t51.2885-15/275354128_696647924670755_5961610117255521544_n.jpg?stp=dst-jpg_e35&_nc_ht=scontent-bru2-1.cdninstagram.com&_nc_cat=111&_nc_ohc=1i5KHEt8BRkAX_H5fsW&edm=AABBvjUBAAAA&ccb=7-4&ig_cache_key=Mjc4OTQ0MDcwNjc5ODQ3OTI4Nw%3D%3D.2-ccb7-4&oh=00_AT8p6mNO13r9htpoJ8tvkCj1hkaMMveEGcz_jR7VwptL0w&oe=62311C4E&_nc_sid=83d603',\n",
       " 'https://scontent-bru2-1.cdninstagram.com/v/t51.2885-15/275362555_658892665317958_9047263381000742041_n.jpg?stp=dst-jpg_e35&_nc_ht=scontent-bru2-1.cdninstagram.com&_nc_cat=110&_nc_ohc=wP3OQgPKwJIAX-iMDWr&edm=AABBvjUBAAAA&ccb=7-4&ig_cache_key=Mjc4ODcxMTE3MjgwNTc0NzUxOA%3D%3D.2-ccb7-4&oh=00_AT_2GrV00pNjdTtbD29fPOuT4cilBslLYI-fw_boylMXqQ&oe=62308361&_nc_sid=83d603',\n",
       " 'https://scontent-bru2-1.cdninstagram.com/v/t51.2885-15/275218669_370247091540113_5292007904750572065_n.jpg?stp=dst-jpg_e35&_nc_ht=scontent-bru2-1.cdninstagram.com&_nc_cat=105&_nc_ohc=811mq62H4fwAX8TTwGQ&tn=pZ5WdMG4qdoR0cC_&edm=AABBvjUBAAAA&ccb=7-4&ig_cache_key=Mjc4NjUyOTQ0OTI3NTc5MTUwOA%3D%3D.2-ccb7-4&oh=00_AT-WWekS98n6CJ8kdmwkF6QZZHQX6ThQOBzUmCcDadcNMQ&oe=623102BB&_nc_sid=83d603',\n",
       " 'https://scontent-bru2-1.cdninstagram.com/v/t51.2885-15/274984025_502018964841964_3758801761283344010_n.jpg?stp=dst-jpg_e35&_nc_ht=scontent-bru2-1.cdninstagram.com&_nc_cat=104&_nc_ohc=QR5hXtF4hGUAX9SYdjA&edm=AABBvjUBAAAA&ccb=7-4&ig_cache_key=Mjc4NTA4MzQyMjc3MzU2NDE4MA%3D%3D.2-ccb7-4&oh=00_AT8qnR1PUmGcBXqJqRVP--wZI1CbkCTEPpJUGx-xHedq3g&oe=6230B3F8&_nc_sid=83d603',\n",
       " 'https://scontent-bru2-1.cdninstagram.com/v/t51.2885-15/275088381_154694330317590_8081062143286167187_n.jpg?stp=dst-jpg_e35&_nc_ht=scontent-bru2-1.cdninstagram.com&_nc_cat=106&_nc_ohc=qAJHBj0LObsAX-yYaBw&edm=AABBvjUBAAAA&ccb=7-4&ig_cache_key=Mjc4NDM1Mzg1NTkyNzYxOTkwOQ%3D%3D.2-ccb7-4&oh=00_AT98lz3BXeozZTu-BC2W6ysZudUj-_Sp4T8D5lqdQgeAQQ&oe=62303CC8&_nc_sid=83d603',\n",
       " 'https://scontent-bru2-1.cdninstagram.com/v/t51.2885-15/275604167_461122629089254_5470385948545063619_n.jpg?stp=dst-jpg_e35&_nc_ht=scontent-bru2-1.cdninstagram.com&_nc_cat=110&_nc_ohc=l3bQe2q1xEMAX_bAAim&edm=AABBvjUBAAAA&ccb=7-4&ig_cache_key=Mjc5MDQ0NjE0MTQ0NTg5NjIwNw%3D%3D.2-ccb7-4&oh=00_AT8T_ZFIsMQQX1SQs-i-Gkfc99rjBahYpG0uKmbHoJPBvg&oe=622F8D3E&_nc_sid=83d603',\n",
       " 'https://scontent-bru2-1.cdninstagram.com/v/t51.2885-15/275406423_938952686817411_6201748254020529871_n.jpg?stp=dst-jpg_e35&_nc_ht=scontent-bru2-1.cdninstagram.com&_nc_cat=103&_nc_ohc=98JCzBdvL2YAX_YzSn3&edm=AABBvjUBAAAA&ccb=7-4&ig_cache_key=Mjc5MDA1MjM0NTU5MTY0NzkwNA%3D%3D.2-ccb7-4&oh=00_AT8qbggM_68azNmNRWKpvJqTaX3Z3C1vDDMX-kAyLqI4Fw&oe=6230C20A&_nc_sid=83d603',\n",
       " 'https://scontent-bru2-1.cdninstagram.com/v/t51.2885-15/275450095_373748710992111_5964795375062607652_n.jpg?stp=dst-jpg_e35&_nc_ht=scontent-bru2-1.cdninstagram.com&_nc_cat=103&_nc_ohc=KNsNmvCN5rEAX8sDQHV&tn=pZ5WdMG4qdoR0cC_&edm=AABBvjUBAAAA&ccb=7-4&ig_cache_key=Mjc4OTcyMTM3NDUxNDQ2OTAxMQ%3D%3D.2-ccb7-4&oh=00_AT8QvUxZELWDoQaDXHcswzGce6Uf7c6Gf18wexz5JqnBgw&oe=622FF3D0&_nc_sid=83d603',\n",
       " 'https://scontent-bru2-1.cdninstagram.com/v/t51.2885-15/275542127_346788690705914_4731295053729790822_n.jpg?stp=dst-jpg_e35&_nc_ht=scontent-bru2-1.cdninstagram.com&_nc_cat=102&_nc_ohc=rf0r64A0G-oAX_6o8QF&edm=AABBvjUBAAAA&ccb=7-4&ig_cache_key=Mjc4OTE3MTc1ODM3OTExNTkyNA%3D%3D.2-ccb7-4&oh=00_AT_bFjrDEMHc2ONtGbOn3czlj3LM-shpHFX5A5DRHJqcKQ&oe=62309935&_nc_sid=83d603',\n",
       " 'https://scontent-bru2-1.cdninstagram.com/v/t51.2885-15/275323305_4943870755691601_3866608002873703390_n.jpg?stp=dst-jpg_e35&_nc_ht=scontent-bru2-1.cdninstagram.com&_nc_cat=109&_nc_ohc=Mlh7aMwUYXEAX8OTMm_&edm=AABBvjUBAAAA&ccb=7-4&ig_cache_key=Mjc4ODk5MjA4ODE4MjkzMzkzMg%3D%3D.2-ccb7-4&oh=00_AT-inSCwgl1QXvxVkMC81SWieAREF0OGa1IHZr8toFTOCQ&oe=6231282F&_nc_sid=83d603',\n",
       " 'https://scontent-bru2-1.cdninstagram.com/v/t51.2885-15/275162826_354217426609051_7402004325886021539_n.jpg?stp=dst-jpg_e35&_nc_ht=scontent-bru2-1.cdninstagram.com&_nc_cat=107&_nc_ohc=WaCcovTrVdgAX_mXOn6&edm=AABBvjUBAAAA&ccb=7-4&ig_cache_key=Mjc4OTA5NTgwNzEyOTk5MTMwNA%3D%3D.2-ccb7-4&oh=00_AT-b7PSjxkBsmTqgVQCF0EgVikWUdvOA-j63BaHeelbAjw&oe=62309087&_nc_sid=83d603',\n",
       " 'https://scontent-bru2-1.cdninstagram.com/v/t51.2885-15/275296940_175349694821993_3358022986939077539_n.jpg?stp=dst-jpg_e35&_nc_ht=scontent-bru2-1.cdninstagram.com&_nc_cat=105&_nc_ohc=4eHFAreErl4AX_u9dRq&edm=AABBvjUBAAAA&ccb=7-4&ig_cache_key=Mjc4NzMwNTg3MDMxMDc4NjU5Ng%3D%3D.2-ccb7-4&oh=00_AT_o-DaNl1ijJgAkjMM-CqLOmaLSeQ0HYLbZV8S6-vDDhQ&oe=62300999&_nc_sid=83d603',\n",
       " 'https://scontent-bru2-1.cdninstagram.com/v/t51.2885-15/274909793_518470533032179_2935503825271485526_n.jpg?stp=dst-jpg_e35&_nc_ht=scontent-bru2-1.cdninstagram.com&_nc_cat=107&_nc_ohc=e7jULBUZMyAAX9PPk--&edm=AABBvjUBAAAA&ccb=7-4&ig_cache_key=Mjc4NDMyNTQ2MjIzNzU2OTY1MQ%3D%3D.2-ccb7-4&oh=00_AT_Y1FgbCl_amp4my0rRbN91n6CX0UDHF7Agw7Z9g20e5w&oe=62300E78&_nc_sid=83d603',\n",
       " 'https://scontent-bru2-1.cdninstagram.com/v/t51.2885-15/274693306_150859880653361_2266287969668284890_n.jpg?stp=dst-jpg_e35&_nc_ht=scontent-bru2-1.cdninstagram.com&_nc_cat=105&_nc_ohc=RvWaJm42FI0AX8sNwKI&tn=pZ5WdMG4qdoR0cC_&edm=AABBvjUBAAAA&ccb=7-4&ig_cache_key=Mjc4MTI3MDU1MjM1Mjc4MTYyNg%3D%3D.2-ccb7-4&oh=00_AT_SZ0k6J783JmmhyipRXyyBvd-yI__isexapoYo1exdwg&oe=62305415&_nc_sid=83d603',\n",
       " 'https://scontent-bru2-1.cdninstagram.com/v/t51.2885-15/274175198_435163541725727_4509215738244647762_n.jpg?stp=dst-jpg_e35&_nc_ht=scontent-bru2-1.cdninstagram.com&_nc_cat=111&_nc_ohc=SndOqVGXd2oAX_Tcm4y&edm=AABBvjUBAAAA&ccb=7-4&ig_cache_key=Mjc3NTM0NDk5ODE5NzgzMjYyMA%3D%3D.2-ccb7-4&oh=00_AT_sOyddSQa2U-_nimIJVwNx5LkpH1LjZPSktJJswP0IEA&oe=6230B8C5&_nc_sid=83d603']"
      ]
     },
     "execution_count": 4,
     "metadata": {},
     "output_type": "execute_result"
    }
   ],
   "source": [
    "fukudon_posts_list = fukudon_posts_df_img.to_list()\n",
    "fukudon_posts_list"
   ]
  },
  {
   "cell_type": "code",
   "execution_count": 14,
   "metadata": {},
   "outputs": [
    {
     "name": "stdout",
     "output_type": "stream",
     "text": [
      "t51.2885-15.png\n",
      "Image successfully Downloaded: t51.2885-15.png\n",
      "t51.2885-15.png\n",
      "Image successfully Downloaded: t51.2885-15.png\n",
      "t51.2885-15.png\n",
      "Image successfully Downloaded: t51.2885-15.png\n",
      "t51.2885-15.png\n",
      "Image successfully Downloaded: t51.2885-15.png\n",
      "t51.2885-15.png\n",
      "Image successfully Downloaded: t51.2885-15.png\n"
     ]
    }
   ],
   "source": [
    "import requests\n",
    "import shutil\n",
    "\n",
    "for url in fukudon_posts_list:\n",
    "    url_filename = url.split(\"/\")[-2] + \".png\"\n",
    "    print(url_filename)\n",
    "\n",
    "\n",
    "    r = requests.get(url, stream=True)\n",
    "\n",
    "    if r.status_code == 200:\n",
    "        r.raw.decode_content = True\n",
    "\n",
    "        with open(url_filename, 'wb') as f:\n",
    "            shutil.copyfileobj(r.raw, f)\n",
    "            \n",
    "            print(\"Image successfully Downloaded:\", url_filename)\n",
    "    else:\n",
    "        print(\"Unable to download the image\")"
   ]
  }
 ],
 "metadata": {
  "interpreter": {
   "hash": "b90ce8b45adf7fbfaa4be836d05084f8c527b5d0f327961b386a3ec7d9430efa"
  },
  "kernelspec": {
   "display_name": "Python 3 (ipykernel)",
   "language": "python",
   "name": "python3"
  },
  "language_info": {
   "codemirror_mode": {
    "name": "ipython",
    "version": 3
   },
   "file_extension": ".py",
   "mimetype": "text/x-python",
   "name": "python",
   "nbconvert_exporter": "python",
   "pygments_lexer": "ipython3",
   "version": "3.9.7"
  }
 },
 "nbformat": 4,
 "nbformat_minor": 2
}
