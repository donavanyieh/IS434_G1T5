{
 "cells": [
  {
   "cell_type": "markdown",
   "id": "9b23cff9-88dc-4504-ab6e-5bf9c3834348",
   "metadata": {},
   "source": [
    "# Import dependencies"
   ]
  },
  {
   "cell_type": "code",
   "execution_count": 1,
   "id": "46cbc4be-9327-43e0-abf4-000e0ccf9b4e",
   "metadata": {},
   "outputs": [],
   "source": [
    "import json \n",
    "import os\n",
    "import glob\n",
    "import pandas as pd\n",
    "import matplotlib.pyplot as plt\n",
    "import numpy as np"
   ]
  },
  {
   "cell_type": "code",
   "execution_count": 2,
   "id": "4fa01142-e7c0-411a-83ff-1a27cd45fdd0",
   "metadata": {},
   "outputs": [],
   "source": [
    "obj_dict ={}\n",
    "\n",
    "#getting all json file into a list to iterate\n",
    "os.chdir(\"../../data/image_json/chewwwie\")"
   ]
  },
  {
   "cell_type": "markdown",
   "id": "2905ca67-5d4b-40c5-92b5-e02af90fa329",
   "metadata": {},
   "source": [
    "# Get Wordcloud"
   ]
  },
  {
   "cell_type": "code",
   "execution_count": 3,
   "id": "5ffe6e2e",
   "metadata": {},
   "outputs": [],
   "source": [
    "extension = 'json'\n",
    "all_filenames = [i for i in glob.glob('*.{}'.format(extension))]\n",
    "\n",
    "#combine all files in the list\n",
    "combined_json = pd.concat([pd.read_json(f) for f in all_filenames ])\n",
    "\n",
    "for object in combined_json['Name'] :\n",
    "    object = str(object)\n",
    "    #check if in dictionary else update key-value pair\n",
    "    if object in obj_dict :\n",
    "        obj_dict[object] += 1\n",
    "    else :\n",
    "        obj_dict[object] = 1"
   ]
  },
  {
   "cell_type": "code",
   "execution_count": 4,
   "id": "9f56b24c",
   "metadata": {},
   "outputs": [],
   "source": [
    "list_to_remove = ['Person', 'Human', 'Face', 'Skin', 'Head', 'Hair', 'Mammal', 'Canine', 'Woman', 'Female', 'Girl','Clothing','Apparel','Food','Meal','Dish','Plant','Text']\n",
    "\n",
    "\n",
    "for word in list_to_remove: \n",
    "    for key in obj_dict.keys():\n",
    "        if key == word:\n",
    "            del obj_dict[key]\n",
    "            break\n"
   ]
  },
  {
   "cell_type": "code",
   "execution_count": 5,
   "id": "fbd8627d",
   "metadata": {},
   "outputs": [],
   "source": [
    "obj_dict = {key:val for key, val in obj_dict.items() if val > 9}"
   ]
  },
  {
   "cell_type": "code",
   "execution_count": 6,
   "id": "31b41d8b",
   "metadata": {},
   "outputs": [
    {
     "name": "stdout",
     "output_type": "stream",
     "text": [
      "{'Outdoors': 347, 'Nature': 283, 'Accessories': 268, 'Footwear': 228, 'Furniture': 227, 'Shoe': 215, 'Animal': 208, 'Sleeve': 199, 'Accessory': 195, 'Advertisement': 179, 'Building': 173, 'Poster': 169, 'Transportation': 161, 'Sunglasses': 157, 'Vehicle': 154, 'Pants': 149, 'Water': 149, 'Coat': 127, 'Fashion': 123, 'Wood': 123, 'Pet': 118, 'Indoors': 114, 'Paper': 113, 'Electronics': 109, 'Shorts': 108, 'Smile': 108, 'Tree': 108, 'Robe': 107, 'Gown': 106, 'Car': 101, 'Evening Dress': 98, 'Long Sleeve': 92, 'Flower': 89, 'Sport': 87, 'Flyer': 86, 'Brochure': 83, 'Portrait': 81, 'Photography': 81, 'People': 81, 'Dessert': 81, 'Machine': 80, 'Dog': 78, 'Architecture': 76, 'Wheel': 76, 'Interior Design': 74, 'Art': 71, 'Beverage': 70, 'Chair': 69, 'Flooring': 69, 'Home Decor': 68, 'Urban': 66, 'Finger': 65, 'Glasses': 65, 'Jacket': 64, 'Blossom': 64, 'Room': 63, 'Couch': 62, 'City': 61, 'Cushion': 61, 'Drink': 60, 'Overcoat': 60, 'Sky': 57, 'Mobile Phone': 56, 'Restaurant': 54, 'Symbol': 54, 'Dress': 53, 'Phone': 53, 'Sea': 53, 'Photo': 52, 'Hat': 52, 'Vegetation': 51, 'Man': 51, 'Road': 51, 'Sitting': 50, 'Swimwear': 50, 'Light': 50, 'Sports': 50, 'Handrail': 49, 'Crowd': 48, 'Helmet': 47, 'Jewelry': 47, 'Cream': 47, 'Sweets': 46, 'Automobile': 45, 'Tire': 45, 'Grass': 44, 'Flower Arrangement': 42, 'Jeans': 42, 'Alcohol': 42, 'Hardwood': 42, 'Land': 40, 'Pottery': 39, 'Cell Phone': 39, 'Metropolis': 39, 'Cat': 38, 'Lighting': 38, 'Floor': 38, 'Table': 37, 'Spoke': 37, 'Confectionery': 36, 'Cake': 36, 'Bird': 35, 'Blonde': 35, 'Creme': 35, 'Bikini': 34, 'Word': 34, 'Night': 33, 'Astronomy': 33, 'Flower Bouquet': 33, 'Banister': 33, 'Flare': 33, 'Sweater': 32, 'Plywood': 32, 'Path': 32, 'Leisure Activities': 32, 'Toy': 32, 'Outer Space': 31, 'Universe': 31, 'Suit': 31, 'Tower': 31, 'Teen': 31, 'Costume': 31, 'Space': 30, 'Glass': 30, 'Working Out': 30, 'Fitness': 30, 'Beer': 30, 'Baby': 30, 'Sunlight': 30, 'Tarmac': 29, 'Bread': 29, 'Collage': 29, 'Car Wheel': 29, 'Bowl': 28, 'Alloy Wheel': 28, 'Skirt': 27, 'Burger': 27, 'Monitor': 27, 'Screen': 27, 'Shoreline': 27, 'Moon': 26, 'Fruit': 26, 'Flagstone': 26, 'Cafeteria': 26, 'Railing': 26, 'Pedestrian': 25, 'Kid': 25, 'Handwriting': 25, 'Scenery': 24, 'Town': 24, 'Denim': 24, 'Label': 24, 'Bottle': 24, 'Ice Cream': 24, 'Living Room': 24, 'Vase': 23, 'Jar': 23, 'Downtown': 23, 'Back': 23, 'Boy': 23, 'Gym': 23, 'Logo': 23, 'Housing': 22, 'Motorcycle': 22, 'Shop': 22, 'Icing': 22, 'Trademark': 22, 'Exercise': 22, 'Landscape': 21, 'Shirt': 21, 'Team Sport': 21, 'Snow': 21, 'Painting': 21, 'Shelf': 21, 'Wedding': 21, 'Door': 21, 'Document': 21, 'Underwear': 21, 'Palm Tree': 21, 'Weather': 21, 'Fir': 20, 'Team': 20, 'Musical Instrument': 20, 'Rug': 20, 'Wristwatch': 20, 'Vegetable': 20, 'Sports Car': 20, 'Pillow': 20, 'Mountain': 20, 'Spire': 19, 'Ice': 19, 'Pub': 19, 'Coffee Cup': 19, 'Cup': 19, 'Lingerie': 19, 'Computer': 19, 'Ocean': 19, 'Sunset': 19, 'Tattoo': 19, 'Waterfront': 18, 'Cosmetics': 18, 'Display': 18, 'Pasta': 18, 'Coast': 18, 'Field': 17, 'Drawing': 17, 'Office Building': 17, 'Walkway': 17, 'High Rise': 17, 'Bar Counter': 17, 'Sweatshirt': 17, 'Necklace': 17, 'Hand': 17, 'Produce': 17, 'Wedding Gown': 17, 'Potted Plant': 16, 'Dating': 16, 'Boat': 16, 'Sea Life': 16, 'Puppy': 16, 'Night Life': 15, 'Mouth': 15, 'Garden': 15, 'Vacation': 15, 'Pizza': 15, 'Rock': 15, 'Coupe': 15, 'Number': 15, 'Tie': 15, 'Haircut': 15, 'Newborn': 15, 'Blouse': 15, 'Rose': 15, 'Sun': 15, 'Sunrise': 15, 'Staircase': 15, 'Countryside': 14, 'Beard': 14, 'Hotel': 14, 'Summer': 14, 'Menu': 14, 'Bag': 14, 'Selfie': 13, 'Business Card': 13, 'Food Court': 13, 'Ornament': 13, 'Patio': 13, 'Football': 13, 'Lip': 12, 'Texture': 12, 'Arbour': 12, 'Asphalt': 12, 'Petal': 12, 'Saucer': 12, 'Sphere': 12, 'Watercraft': 12, 'Audience': 12, 'Book': 12, 'Manicure': 12, 'Nail': 12, 'T-Shirt': 12, 'Ground': 11, 'Cutlery': 11, 'Bicycle': 11, 'Panoramic': 11, 'Tub': 11, 'Pier': 11, 'Tabletop': 11, 'Guitar': 11, 'Birthday Cake': 11, 'Egg': 11, 'Hug': 11, 'Seafood': 11, 'Blazer': 11, 'Alphabet': 11, 'Promontory': 11, 'Pool': 11, 'Soccer': 11, 'Porch': 11, 'LCD Screen': 11, 'Dining Table': 11, 'Handbag': 11, 'Ball': 11, 'Doll': 11, 'Steeple': 10, 'Bed': 10, 'Rural': 10, 'Weapon': 10, 'Sun Hat': 10, 'Woodland': 10, 'Brick': 10, 'Cafe': 10, 'Graphics': 10, 'Stage': 10, 'Window': 10, 'Tropical': 10, 'Cloud': 10, 'Mountain Range': 10, 'Noodle': 10, 'Strap': 10}\n"
     ]
    }
   ],
   "source": [
    "print(dict(sorted(obj_dict.items(), key=lambda item: item[1], reverse = True)))"
   ]
  },
  {
   "cell_type": "code",
   "execution_count": 7,
   "id": "42ed8903",
   "metadata": {},
   "outputs": [],
   "source": [
    "sorted_dict = dict(sorted(obj_dict.items(), key=lambda item: item[1], reverse = True))"
   ]
  },
  {
   "cell_type": "code",
   "execution_count": 8,
   "id": "ecd3e242",
   "metadata": {},
   "outputs": [
    {
     "ename": "ModuleNotFoundError",
     "evalue": "No module named 'wordcloud'",
     "output_type": "error",
     "traceback": [
      "\u001b[1;31m---------------------------------------------------------------------------\u001b[0m",
      "\u001b[1;31mModuleNotFoundError\u001b[0m                       Traceback (most recent call last)",
      "Input \u001b[1;32mIn [8]\u001b[0m, in \u001b[0;36m<cell line: 3>\u001b[1;34m()\u001b[0m\n\u001b[0;32m      1\u001b[0m \u001b[38;5;28;01mimport\u001b[39;00m \u001b[38;5;21;01mitertools\u001b[39;00m\n\u001b[0;32m      2\u001b[0m \u001b[38;5;28;01mimport\u001b[39;00m \u001b[38;5;21;01mmatplotlib\u001b[39;00m\u001b[38;5;21;01m.\u001b[39;00m\u001b[38;5;21;01mpyplot\u001b[39;00m \u001b[38;5;28;01mas\u001b[39;00m \u001b[38;5;21;01mplt\u001b[39;00m\n\u001b[1;32m----> 3\u001b[0m \u001b[38;5;28;01mfrom\u001b[39;00m \u001b[38;5;21;01mwordcloud\u001b[39;00m \u001b[38;5;28;01mimport\u001b[39;00m WordCloud\n\u001b[0;32m      5\u001b[0m wordcloud \u001b[38;5;241m=\u001b[39m WordCloud(width \u001b[38;5;241m=\u001b[39m \u001b[38;5;241m1000\u001b[39m, height \u001b[38;5;241m=\u001b[39m \u001b[38;5;241m500\u001b[39m, background_color \u001b[38;5;241m=\u001b[39m \u001b[38;5;124m\"\u001b[39m\u001b[38;5;124mwhite\u001b[39m\u001b[38;5;124m\"\u001b[39m)\u001b[38;5;241m.\u001b[39mgenerate_from_frequencies(sorted_dict)\n\u001b[0;32m      7\u001b[0m plt\u001b[38;5;241m.\u001b[39mfigure(figsize\u001b[38;5;241m=\u001b[39m(\u001b[38;5;241m15\u001b[39m,\u001b[38;5;241m8\u001b[39m))\n",
      "\u001b[1;31mModuleNotFoundError\u001b[0m: No module named 'wordcloud'"
     ]
    }
   ],
   "source": [
    "import itertools\n",
    "import matplotlib.pyplot as plt\n",
    "from wordcloud import WordCloud\n",
    "\n",
    "wordcloud = WordCloud(width = 1000, height = 500, background_color = \"white\").generate_from_frequencies(sorted_dict)\n",
    "\n",
    "plt.figure(figsize=(15,8))\n",
    "plt.imshow(wordcloud)\n",
    "\n",
    "import plotly.graph_objects as go\n",
    "\n",
    "sorted_dict = dict(itertools.islice(sorted_dict.items(), 50))\n",
    "\n",
    "fig = go.Figure()\n",
    "fig.add_trace(go.Bar(x=list(sorted_dict.keys()), y=list(sorted_dict.values())))\n",
    "fig.show()"
   ]
  },
  {
   "cell_type": "code",
   "execution_count": null,
   "id": "494ba98a-8968-4165-841e-295f9d7f66d7",
   "metadata": {},
   "outputs": [],
   "source": []
  }
 ],
 "metadata": {
  "kernelspec": {
   "display_name": "Python 3 (ipykernel)",
   "language": "python",
   "name": "python3"
  },
  "language_info": {
   "codemirror_mode": {
    "name": "ipython",
    "version": 3
   },
   "file_extension": ".py",
   "mimetype": "text/x-python",
   "name": "python",
   "nbconvert_exporter": "python",
   "pygments_lexer": "ipython3",
   "version": "3.10.4"
  }
 },
 "nbformat": 4,
 "nbformat_minor": 5
}
