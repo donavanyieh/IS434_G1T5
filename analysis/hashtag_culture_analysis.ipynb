{
 "cells": [
  {
   "cell_type": "markdown",
   "id": "fb886b93-1ca3-41c2-aa1d-d86ac2592f6c",
   "metadata": {},
   "source": [
    "# Hashtag Culture Analysis"
   ]
  },
  {
   "cell_type": "markdown",
   "id": "84d4c3b2-c2ec-4f4a-a68c-8453b4c3f590",
   "metadata": {},
   "source": [
    "A hashtag (#) is a type of metadata tag used on social networks such as Twitter and other microblogging services. It lets users apply dynamic, user-generated tagging that helps other users easily find messages with a specific theme or content. We can borrow some basic principles from Network Science and graph theory to understand how hashtags on Instagram are connected."
   ]
  },
  {
   "cell_type": "markdown",
   "id": "08b3a9fb-51b9-4747-a35d-11620388c379",
   "metadata": {},
   "source": [
    "# What aspects of Graph Theory can we use in our analysis?\n",
    "<ul>\n",
    "    <li><b>Community Detection</b>: We can use algorithms to identify and label clusters of topics/themes</li>\n",
    "    <li><b>Degree Centrality/ Betweenness Centrality</b>: We can calculate what hashtags in the network are particularly important in linking the whole network.</li>\n",
    "    <li><b>Visualization</b>: If we plot the network using scatterplots, it’s a very compelling way to visualise a huge amount of information about hashtags that would be cumbersome to do otherwise</li>\n",
    "</ul>\n",
    "    "
   ]
  },
  {
   "cell_type": "code",
   "execution_count": 38,
   "id": "457ee6ed-8961-484e-b3a4-ce6476f77772",
   "metadata": {},
   "outputs": [],
   "source": [
    "import pandas as pd\n",
    "import numpy as np\n",
    "import time\n",
    "import networkx as nx\n",
    "from node2vec import Node2Vec\n",
    "import plotly.express as px\n",
    "from sklearn.cluster import KMeans\n",
    "from kneed import KneeLocator\n",
    "from instaloader import Instaloader, Post\n",
    "from sklearn.manifold import TSNE"
   ]
  },
  {
   "cell_type": "code",
   "execution_count": 3,
   "id": "5ac6ade4-e93c-45a6-bfd9-8e2308a3950e",
   "metadata": {},
   "outputs": [],
   "source": [
    "hashtag_cooccurence_df = pd.read_csv(\"../data/instagram_hashtag_posts.csv\")"
   ]
  },
  {
   "cell_type": "code",
   "execution_count": 4,
   "id": "3fec70fd",
   "metadata": {
    "scrolled": true
   },
   "outputs": [
    {
     "data": {
      "text/html": [
       "<div>\n",
       "<style scoped>\n",
       "    .dataframe tbody tr th:only-of-type {\n",
       "        vertical-align: middle;\n",
       "    }\n",
       "\n",
       "    .dataframe tbody tr th {\n",
       "        vertical-align: top;\n",
       "    }\n",
       "\n",
       "    .dataframe thead th {\n",
       "        text-align: right;\n",
       "    }\n",
       "</style>\n",
       "<table border=\"1\" class=\"dataframe\">\n",
       "  <thead>\n",
       "    <tr style=\"text-align: right;\">\n",
       "      <th></th>\n",
       "      <th>Unnamed: 0</th>\n",
       "      <th>post_url</th>\n",
       "      <th>hashtags</th>\n",
       "    </tr>\n",
       "  </thead>\n",
       "  <tbody>\n",
       "    <tr>\n",
       "      <th>0</th>\n",
       "      <td>0</td>\n",
       "      <td>https://www.instagram.com/p/CQ--UmMH_i8/</td>\n",
       "      <td>#sgfood, #sg, #sgfoodies, #hawkerculturesg, #k...</td>\n",
       "    </tr>\n",
       "    <tr>\n",
       "      <th>1</th>\n",
       "      <td>1</td>\n",
       "      <td>https://www.instagram.com/p/CUhn24DKP0A/</td>\n",
       "      <td>#lino, #linocutprint, #linocut, #linoprint, #l...</td>\n",
       "    </tr>\n",
       "    <tr>\n",
       "      <th>2</th>\n",
       "      <td>2</td>\n",
       "      <td>https://www.instagram.com/p/CNUz7jPnpJK/</td>\n",
       "      <td>#chinhogaixiao, #chinhojiak, #甄好吃, #甄好介绍, #sup...</td>\n",
       "    </tr>\n",
       "    <tr>\n",
       "      <th>3</th>\n",
       "      <td>3</td>\n",
       "      <td>https://www.instagram.com/p/CZlBMnEPFcy/</td>\n",
       "      <td>#hawkerculturesg, #coffeeshopsg</td>\n",
       "    </tr>\n",
       "    <tr>\n",
       "      <th>4</th>\n",
       "      <td>4</td>\n",
       "      <td>https://www.instagram.com/p/COcNod6nOhv/</td>\n",
       "      <td>#affordable, #awesomefood, #delicious, #explor...</td>\n",
       "    </tr>\n",
       "  </tbody>\n",
       "</table>\n",
       "</div>"
      ],
      "text/plain": [
       "   Unnamed: 0                                  post_url  \\\n",
       "0           0  https://www.instagram.com/p/CQ--UmMH_i8/   \n",
       "1           1  https://www.instagram.com/p/CUhn24DKP0A/   \n",
       "2           2  https://www.instagram.com/p/CNUz7jPnpJK/   \n",
       "3           3  https://www.instagram.com/p/CZlBMnEPFcy/   \n",
       "4           4  https://www.instagram.com/p/COcNod6nOhv/   \n",
       "\n",
       "                                            hashtags  \n",
       "0  #sgfood, #sg, #sgfoodies, #hawkerculturesg, #k...  \n",
       "1  #lino, #linocutprint, #linocut, #linoprint, #l...  \n",
       "2  #chinhogaixiao, #chinhojiak, #甄好吃, #甄好介绍, #sup...  \n",
       "3                    #hawkerculturesg, #coffeeshopsg  \n",
       "4  #affordable, #awesomefood, #delicious, #explor...  "
      ]
     },
     "execution_count": 4,
     "metadata": {},
     "output_type": "execute_result"
    }
   ],
   "source": [
    "# Drop rows with null values\n",
    "hashtag_cooccurence_df = hashtag_cooccurence_df[hashtag_cooccurence_df['hashtags'].notna()]\n",
    "hashtag_cooccurence_df.head()"
   ]
  },
  {
   "cell_type": "markdown",
   "id": "363bd3e6",
   "metadata": {},
   "source": [
    "## Get number of likes per post"
   ]
  },
  {
   "cell_type": "code",
   "execution_count": null,
   "id": "d6e32acb",
   "metadata": {},
   "outputs": [],
   "source": [
    "loader = Instaloader()\n",
    "loader.login(\"IS434.G1T5@gmail.com\", \"IS434@g1t5\")  "
   ]
  },
  {
   "cell_type": "code",
   "execution_count": 29,
   "id": "70c4022c",
   "metadata": {},
   "outputs": [
    {
     "name": "stdout",
     "output_type": "stream",
     "text": [
      "0\n",
      "10\n",
      "20\n",
      "30\n",
      "40\n",
      "50\n",
      "60\n",
      "70\n",
      "80\n",
      "90\n",
      "100\n",
      "110\n",
      "120\n",
      "130\n",
      "140\n",
      "150\n",
      "160\n",
      "170\n",
      "180\n",
      "190\n",
      "200\n",
      "210\n",
      "220\n",
      "230\n",
      "240\n",
      "250\n",
      "260\n",
      "280\n",
      "290\n",
      "300\n",
      "310\n",
      "320\n"
     ]
    }
   ],
   "source": [
    "post_likes_dict = {}\n",
    "for index,row in hashtag_cooccurence_df.iterrows():\n",
    "    try:\n",
    "        shortcode = row[\"post_url\"].split(\"/\")[-2]\n",
    "        post = Post.from_shortcode(loader.context, shortcode)\n",
    "        likes = post.likes\n",
    "        post_likes_dict[row[\"post_url\"]] = likes\n",
    "        time.sleep(5)\n",
    "        if index%10==0:\n",
    "            print(index)\n",
    "    except:\n",
    "        time.sleep(5)"
   ]
  },
  {
   "cell_type": "markdown",
   "id": "79b0f30d",
   "metadata": {},
   "source": [
    "## Get average likes per hashtag"
   ]
  },
  {
   "cell_type": "code",
   "execution_count": 31,
   "id": "d1be48e4",
   "metadata": {},
   "outputs": [],
   "source": [
    "hashtag_occurence_dict = {}\n",
    "hashtag_likes_dict = {}\n",
    "\n",
    "for _,row in hashtag_cooccurence_df.iterrows():\n",
    "    row_likes = post_likes_dict[row[\"post_url\"]]\n",
    "    hashtags_list = row[\"hashtags\"].split(\", \")\n",
    "    for hashtag in hashtags_list:\n",
    "        if hashtag==\"Error\":\n",
    "            pass\n",
    "        else:\n",
    "            if hashtag not in hashtag_occurence_dict:\n",
    "                hashtag_occurence_dict[hashtag] = 1\n",
    "            else:\n",
    "                hashtag_occurence_dict[hashtag] += 1\n",
    "                \n",
    "            if hashtag not in hashtag_likes_dict:\n",
    "                hashtag_likes_dict[hashtag] = row_likes\n",
    "            else:\n",
    "                hashtag_likes_dict[hashtag] += row_likes"
   ]
  },
  {
   "cell_type": "code",
   "execution_count": 32,
   "id": "f767b99a",
   "metadata": {},
   "outputs": [],
   "source": [
    "hashtag_avg_likes_dict = {}"
   ]
  },
  {
   "cell_type": "code",
   "execution_count": 33,
   "id": "bd40ef74",
   "metadata": {},
   "outputs": [],
   "source": [
    "for hashtag in hashtag_occurence_dict:\n",
    "    hashtag_avg_likes_dict[hashtag] = hashtag_likes_dict[hashtag]/hashtag_occurence_dict[hashtag]"
   ]
  },
  {
   "cell_type": "markdown",
   "id": "bb8e8379",
   "metadata": {},
   "source": [
    "## Distribution of likes"
   ]
  },
  {
   "cell_type": "code",
   "execution_count": 40,
   "id": "cf23dd1f",
   "metadata": {},
   "outputs": [],
   "source": [
    "hashtag_list = list(hashtag_avg_likes_dict.keys())\n",
    "hashtag_avg_likes = list(hashtag_avg_likes_dict.values())\n",
    "\n",
    "likes_distribution_df = pd.DataFrame()\n",
    "likes_distribution_df[\"hashtags\"] = hashtag_list\n",
    "likes_distribution_df[\"average_likes\"] = hashtag_avg_likes\n",
    "likes_distribution_df= likes_distribution_df.sort_values(by=['average_likes'])"
   ]
  },
  {
   "cell_type": "code",
   "execution_count": 41,
   "id": "335c7f77",
   "metadata": {},
   "outputs": [
    {
     "data": {
      "application/vnd.plotly.v1+json": {
       "config": {
        "plotlyServerURL": "https://plot.ly"
       },
       "data": [
        {
         "hovertemplate": "hashtags=%{x}<br>average_likes=%{y}<extra></extra>",
         "legendgroup": "",
         "marker": {
          "color": "#636efa",
          "symbol": "circle"
         },
         "mode": "markers",
         "name": "",
         "showlegend": false,
         "type": "scattergl",
         "x": [
          "#singaporenews",
          "#foodtrip",
          "#laupasat",
          "#rafflesplace",
          "#foodplaces",
          "#uniqlo",
          "#壁アート探し",
          "#壁アート",
          "#boonkeng",
          "#projectdignity",
          "#artiseverywhere",
          "#シンガポール散歩",
          "#mural",
          "#singaporelifestyle",
          "#sglife",
          "#aphotoaday",
          "#note20ultraphotography",
          "#apad",
          "#jurongpoint",
          "#proudtosupport",
          "#unpretentious",
          "#peranakanfood",
          "#peranakan",
          "#peranakancuisine",
          "#carsharing",
          "#tribecar",
          "#coffeebrew",
          "#specialtycoffee",
          "#kopi",
          "#backformore",
          "#coffeevibes",
          "#walktheworldthroughcoffee",
          "#morningfix",
          "#coffeeisdrug",
          "#latteart",
          "#haha",
          "#coffeeart",
          "#kopimore",
          "#coffeebreak",
          "#specialtycoffeesg",
          "#dreams",
          "#hainanese",
          "#morningcoffee",
          "#coffeeandfriends",
          "#travel2021",
          "#airportfood",
          "#sugarcanejuice",
          "#denial",
          "#lovehawkerfood",
          "#lovesg",
          "#meehoonkway",
          "#telokblangahcrescrentfoodcentre",
          "#hawkerlegacy",
          "#localculture",
          "#localeats",
          "#touristinhomecountry",
          "#localpeople",
          "#ytf",
          "#eatyourvegetables",
          "#cheapeats",
          "#healthyeating",
          "#ricebowl",
          "#dapaoculture",
          "#unescohawkerculture",
          "#covidtakeaway",
          "#singaporefoodscene",
          "#yummydeals",
          "#localfare",
          "#healthyliving",
          "#localcoffee",
          "#flavoursomesoup",
          "#sengkeebakchormee",
          "#weekendcoffee",
          "#sgcoffeefest",
          "#hawkersofsg",
          "#sgkopi",
          "#coffeelover",
          "#yuanyangcoffee",
          "#traditionalcoffee",
          "#coffeeortea",
          "#weekendcoffeesg",
          "#fishmaw",
          "#howilikemycoffee",
          "#braisedmushrooms",
          "#exploringamk",
          "#coffeeislove",
          "#hawkersofsingapore",
          "#traveldiary",
          "#travelathome",
          "#umami",
          "#flavourbomb",
          "#meatball",
          "#sgunited",
          "#手工面粉粿",
          "#kkitchensg",
          "#chickenball",
          "#handmade",
          "#meehoonkueh",
          "#sgeatout",
          "#bakersimfood",
          "#bakersim",
          "#coffeeshop",
          "#kopifrens",
          "#kopifrensfood",
          "#eatlikeaqueen",
          "#wakerchickensg",
          "#wakerchicken",
          "#travelsoon",
          "#travelgoals",
          "#kopio",
          "#localway",
          "#eatlikealocal",
          "#koreanfriedchicken",
          "#boonlayplace",
          "#ondehondehcake",
          "#glutenfreesg",
          "#coffeeshopsg",
          "#vegansg",
          "#vegetariansg",
          "#agarcakesingapore",
          "#agaragar",
          "#nokonnyaku",
          "#nokonjac",
          "#beoriginal",
          "#beextraordinary",
          "#besurprised",
          "#dessertsg",
          "#localbusiness",
          "#killineykopithiam",
          "#bbqseafood",
          "#hawkerheritage",
          "#city_noms",
          "#nolimit",
          "#malayfood",
          "#fondmemories",
          "#goodmorning",
          "#kuehlover",
          "#kueh",
          "#igsgdrinks",
          "#covid_19singapore",
          "#nasilemakayamtaliwang",
          "#coronavirussingapore",
          "#ᴠᴀᴄᴄɪɴᴇssᴀᴠᴇʟɪᴠᴇs",
          "#openingsoon",
          "#sgfoodtrending",
          "#nasilemakayamtaliwangsg#halalfoodie#halalfoodiesg#halalfood#hawkercentresg#hawkerculturesg",
          "#sgdelights",
          "#smallbusiness",
          "#expatsg",
          "#explore_singapore",
          "#mlxg",
          "#horfun",
          "#groupbuysg",
          "#expatsingapore",
          "#covid_19",
          "#indianexpats",
          "#bestnasilemaksg",
          "#bestnasilemakintown#worththewait",
          "#singaporeanindian",
          "#singaporeanindiannarrative",
          "#localdessert",
          "#top3kwaychapthusfar",
          "#expatlivingsg",
          "#saltedvegetable",
          "#sgopening",
          "#wahoo",
          "#singaporehistory",
          "#laosankwaychap",
          "#sourspicychili",
          "#umamibroth",
          "#coffeeislife",
          "#yuanyangpengsiudai",
          "#whatieatinaday",
          "#butfirstcoffee",
          "#singaporeculture",
          "#tapiocakueh",
          "#kopiculture",
          "#ilovecoffee",
          "#cheeseburgers",
          "#zicharnation",
          "#dapaonation",
          "#fnbsg",
          "#teamfnbsg",
          "#savefnbsg",
          "#sgrestaurants",
          "#sghistory",
          "#kasohsg",
          "#02-048,",
          "#burgers",
          "#beefburgers",
          "#the1950scoffee",
          "#hawkerstall",
          "#chaitaokueh",
          "#foodstall",
          "#urbanphotography",
          "#onsenegg",
          "#donburi",
          "#freshcoconut",
          "#coconut",
          "#prawnomelette",
          "#gluteniousrice",
          "#butterfly",
          "#gorengpisang",
          "#stickycakewithsweetpotato",
          "#janusgoesnomnom",
          "#nomnom",
          "#02-35",
          "#lorbakmama",
          "#saturday",
          "#gubakkia",
          "#sgcoffeeshop",
          "#drinksreviewsg",
          "#yuanyang",
          "#coffeeandtea",
          "#naise",
          "#takeaway",
          "#dabao",
          "#gracefulleejurongeast",
          "#igsgfood",
          "#168currychicken",
          "#thepeaksg",
          "#geylangbriyanistall",
          "#notsponsored",
          "#mobilephotography",
          "#unescointangibleculturalheritage",
          "#foodcomparing",
          "#cheecheongfun",
          "#coffeenation",
          "#sgcoffee",
          "#01-05,",
          "#01-44",
          "#fightofthebestfishballnoodle",
          "#fishball",
          "#gracefulleeTanjongPagar",
          "#braisedduckrice",
          "#kwaychap",
          "#ahsengbraisedduckrice",
          "#serangoongardenfoodcentre",
          "#01-20,",
          "#sengkeemushroommincedmeatnoodle",
          "#uniquelysingapore",
          "#greattastingfood",
          "#rediscoversingapore",
          "#nhbsg",
          "#caifan",
          "#caipng",
          "#xinglongcookedfood",
          "#communitydiningroom",
          "#singaporeidentity",
          "#kopisg",
          "#foodislife",
          "#hawkerculture#hawkerculturesg",
          "#yuanyangpeng",
          "#yypsd",
          "#coffeeartist",
          "#hawkerfood#hawkerfoodsg#hawkercentre",
          "#oneprawnnoodle#一號蝦麵",
          "#hawkercenter",
          "#munchidelights",
          "#gracefulleeJurongEast",
          "#01-02,",
          "#minjiangkueh",
          "#yishunparkhawkercentre",
          "#pancake",
          "#sweeguanhokkienmee",
          "#foodhunt",
          "#ilikefood",
          "#impressive",
          "#foodreview",
          "#foodexploring",
          "#explorefood",
          "#awesomefood",
          "#goodfood",
          "#sggdfood",
          "#affordable",
          "#hueats",
          "#hungry",
          "#meihueats",
          "#iwannacomebackhere",
          "#lovefood",
          "#liveforfood",
          "#iwillbeback",
          "#porkcutlet",
          "#ionorchard",
          "#whatiatetoday",
          "#madroaster",
          "#kingoffriedrice",
          "#蛋炒飯",
          "#猪扒饭",
          "#ourhawkerheritage",
          "#02-107,",
          "#whatihadforlunch",
          "#grandpawesternfood",
          "#bersehfoodcentre",
          "#anglohainanesecuisine",
          "#westernhawkerfood",
          "#littleindiasingapore",
          "#newfinds",
          "#kopiandtoast",
          "#maxwellfoodcentre",
          "#kolomee",
          "#tiongbahrumarketandfoodcentre",
          "#01-36,",
          "#02-93",
          "#01-27",
          "#chinatowncomplexfoodcentre",
          "#02-88,",
          "#gracefulleeCommonwealth",
          "#xiujiikanbilisyongtaufu",
          "#gracefulleeKallang",
          "#ahhockfriedhokkienmee",
          "#01-14",
          "#beprepared",
          "#lazarusisland",
          "#katonglaksa",
          "#laska",
          "#beehoon",
          "#ahterfishballnoodles",
          "#stjohnisland",
          "#burpple",
          "#singaporeheritage",
          "#lormeesg",
          "#bainianyongtaufoo",
          "#01-44,",
          "#04-67,",
          "#kopifellas",
          "#lormee",
          "#01-17",
          "#foodgrammer",
          "#01-33,",
          "#angmokiolohmeelaksa",
          "#DCfoodjournal",
          "#سنغافورة",
          "#زوروا_سنغافورة",
          "#01-26,",
          "#VisitSingapore.",
          "#unescoworldheritage",
          "#wuxiang",
          "#ngohhiang",
          "#laozhongzhong",
          "#drynoodles",
          "#prawnnoodle",
          "#muffins",
          "#02-32",
          "#muffin",
          "#oneprawnnoodle",
          "#muffinsg",
          "#sliimuffin",
          "#chompchompfoodcentre",
          "#01-93,",
          "#sghawkercentre",
          "#beautyworldcentre",
          "#蛋香味",
          "#好吃",
          "#simple",
          "#fullofflavours",
          "#eggy",
          "#foodtrend",
          "#p2ha",
          "#instafood_sg",
          "#sembawanghillsfoodcentre",
          "#sinhoehuatcafe",
          "#newton",
          "#love",
          "#positive",
          "#chongboonmarket",
          "#yummypigtrotter",
          "#foods",
          "#drawingpassion",
          "#foodpassion",
          "#cartoon",
          "#foodexplorer",
          "#sengkeebakkutteh",
          "#foodrecommendation",
          "#catdrawing",
          "#catlovers",
          "#cat",
          "#angmokio",
          "#bakkutteh",
          "#teochew",
          "#潮州美食",
          "#成記肉骨茶",
          "#sengkee",
          "#01-01,",
          "#foodillustration",
          "#singaporeteochewfood",
          "#igsgfoodies",
          "#michelinstar",
          "#hillstreettaihwaporknoodles",
          "#01-12,",
          "#wokhei",
          "#satay",
          "#shiok",
          "#hokkienmee",
          "#cantoneseporridge",
          "#oldshifucharcoalporridge",
          "#01-17,",
          "#chickencutlet",
          "#01-101,",
          "#victorfamousfriedchickenwingrice",
          "#oldairportroadfoodcentre",
          "#westernbarbeque",
          "#Hawkercentres",
          "#springleafprataplace",
          "#01-53,",
          "#cheecheongfunclub",
          "#uniquelysg",
          "#local",
          "#ion",
          "#sgfoodiary",
          "#B4-66,",
          "#01-38,",
          "#lifeblogger",
          "#livelife",
          "#livelifetothefullest",
          "#curious",
          "#grateful",
          "#exploration",
          "#lifeblog",
          "#lifestories",
          "#throwback",
          "#hawkerheroes",
          "#bedokmarketplace",
          "#unagi",
          "#japanesedon",
          "#japanese",
          "#mentaiko",
          "#salmonmentaiko",
          "#covid",
          "#ishirosg",
          "#dapao",
          "#1-30.",
          "#supportsghawkers",
          "#unagiricebowl",
          "#justsaying",
          "#ayampenyet",
          "#redcross",
          "#04-44,",
          "#wenkangji",
          "#goldenmile",
          "#wontonnoodles",
          "#wantonnoodles",
          "#bujiantiancharsiew",
          "#1",
          "#drynoodle",
          "#top1handmadenoodle",
          "#whitechicken",
          "#hainesechickenrice",
          "#handmadenoodles",
          "#muslimfood",
          "#bestchickenrice",
          "#localfood",
          "#fishsoup",
          "#famouseunosbakchormee",
          "#ramensg",
          "#anoodlestory",
          "#01-5109,",
          "#llama",
          "#heapsengleong",
          "#curiousaccountant",
          "#01-39",
          "#walkabout",
          "#ljonelrecommends",
          "#sgclean",
          "#roastmeat",
          "#angkukueh",
          "#charsiew",
          "#siobak",
          "#wfh",
          "#hakkacusine",
          "#hawker",
          "#pngkueh",
          "#meerebus",
          "#hawkerculture",
          "#nomsh",
          "#meekia",
          "#noodlesoup",
          "#bedokbarchormee",
          "#nomeatballsplease",
          "#boatquay",
          "#artablyinlove",
          "#tiongbahru",
          "#vegetarian",
          "#sgheritage",
          "#noodles",
          "#instagood",
          "#legacy",
          "#chillicrab🦀",
          "#zichardinner",
          "#history",
          "#cuisine",
          "#tbt",
          "#f4f",
          "#phase2",
          "#follow",
          "#like",
          "#youth",
          "#genz",
          "#supporthawkers",
          "#lfl",
          "#chillicrabs",
          "#foodheaven",
          "#brandcodes",
          "#yakiniku",
          "#geylangfood",
          "#japan",
          "#wemissjapan",
          "#tiongbahrufoodcentre",
          "#sghawker",
          "#foodcoma",
          "#hawkersg",
          "#tebangardens",
          "#seafood",
          "#barchor",
          "#alexandravillage",
          "#seafoodsoup",
          "#tebangardensfoodcentre",
          "#prawnmeesoup",
          "#prawnmee",
          "#curryrice",
          "#curry",
          "#hawkercentre",
          "#friedrice",
          "#ramen",
          "#chicken",
          "#delicious",
          "#barchormee",
          "#iphonexs",
          "#streetshooting",
          "#natgeomyshot",
          "#shootoniphone",
          "#iphonephotography",
          "#natgeoyourshot",
          "#sgvegetarians",
          "#yourdailynibbles",
          "#queenstown",
          "#sgfoodblog",
          "#abcbrickworksfoodcentre",
          "#mothersday",
          "#supporthawkerfood",
          "#queenstownfood",
          "#abcbrickworksmarket",
          "#ahgohgohlaksa",
          "#breakfast",
          "#worththecalories",
          "#ghimmoh",
          "#tiongbahrufood",
          "#streetphotography",
          "#thaibasil",
          "#thaibasilchicken",
          "#fishballnoodles",
          "#thaicuisine",
          "#sgfooddiary",
          "#sdphbt",
          "#westernfood",
          "#plqmall",
          "#fishandchips",
          "#yoursdp",
          "#sgfoodieparadise",
          "#hollandbukittimahgrc",
          "#sghawkerfest",
          "#sghawkereats",
          "#banmee",
          "#tomyumdry",
          "#drybanmee",
          "#banmian",
          "#drybanmian",
          "#tomyumdrybanmian",
          "#bukittimahhawkercentre",
          "#tomyum",
          "#longtimenoeat",
          "#sghawkerfare",
          "#newtonfoodcentre",
          "#Singapore",
          "#madaboutsingapore",
          "#bukittimah",
          "#hollandbukittimah",
          "#sglocal",
          "#supporthawker",
          "#wheretodapao",
          "#pigorgansoup",
          "#exploresingapore",
          "#comfortfood",
          "#菜头粿",
          "#abcmarket",
          "#tebangarden",
          "#tiongbahruhawkercentre",
          "#tiongbahruhawker",
          "#abcfood",
          "#prata",
          "#barchormeesoup",
          "#eunos",
          "#eunosbarchormee",
          "#michelinguide",
          "#tiongbahrumarket",
          "#rotiprata",
          "#eatingfortheinsta",
          "#yapkeewantonmee",
          "#sgfoodporn",
          "#cafefood",
          "#chinesenasilemak",
          "#tanjongpagar",
          "#sgvegetarian",
          "#kinexmallsg",
          "#lifangcongee",
          "#yuzu",
          "#yummydinner",
          "#brunch",
          "#cafesg",
          "#indulgence",
          "#zichar",
          "#zicharsg",
          "#honglimfoodcentre",
          "#甄好吃",
          "#singaporefoodculture",
          "#chinhogaixiao",
          "#chinhojiak",
          "#甄好介绍",
          "#sgfoodie",
          "#prawnnoodles",
          "#lixinteochewfishballnoodle",
          "#blessed",
          "#shiokfoodsg",
          "#singaporefoodporn",
          "#nourishyoursoul",
          "#sgbreakfast",
          "#foodpornography",
          "#sgfoodhunter",
          "#instafood",
          "#chickenpot",
          "#serangoon",
          "#P2HA",
          "#serangoonfood",
          "#tabaolunch",
          "#sglocaleats",
          "#yummylunch",
          "#hawkerfood",
          "#timsum点心",
          "#oystermeesua蚵仔面线",
          "#sgcafe",
          "#sgfoodpic",
          "#sgrestaurant",
          "#meepok",
          "#paofan",
          "#fishballnoodle",
          "#泡饭",
          "#ahmachimian",
          "#yummy",
          "#sghawkerculture",
          "#localjiak",
          "#vegetarianbeehoon",
          "#amoy",
          "#redhill",
          "#吃不到不要怪我",
          "#dumplings",
          "#veg_littledragon",
          "#wanton",
          "#redhillcoffeeshop",
          "#amoyfoodcentre",
          "#meepokdry",
          "#locateats",
          "#foodie",
          "#igfood",
          "#jalanbesar",
          "#hainanesecurryrice",
          "#toapayoh",
          "#toapayohfood",
          "#claypot",
          "#scissorscutcurryrice",
          "#toapayohhawker",
          "#songkeefishball",
          "#toapayohcoffeeshop",
          "#sgstreetcollective",
          "#everydayasia",
          "#womeninstreet",
          "#wetmarket",
          "#singaporestreetphotography",
          "#peopleofsingapore",
          "#nasilemakayam",
          "#changivillagehawkercentre",
          "#watercolour",
          "#watercoloursketch",
          "#clementi",
          "#localdelicacy",
          "#urbansketcher",
          "#travelsketchers",
          "#clementifoodcentre",
          "#clementifood",
          "#clementihawker",
          "#油鸡面",
          "#dinner",
          "#womeninstreetsg",
          "#femalephotographers",
          "#fochroad",
          "#streetphotographytribe",
          "#soysaucechicken",
          "#星際寶貝",
          "#soysaucechickennoodle",
          "#スティッチ",
          "#fujifilm",
          "#xt3",
          "#womenstreetphotographers",
          "#streetphotographer",
          "#streetstorytelling",
          "#fromstreetswithlove",
          "#friendsinstreets",
          "#wearethestreets",
          "#moments_in_streetlife",
          "#streethunters",
          "#sg_street_collective",
          "#xhhawker",
          "#life_is_street",
          "#hawkerculturesg",
          "#8dayseatout",
          "#foodstamping",
          "#eatsg",
          "#hawkersinwatercolours",
          "#nyonyafusion",
          "#rendangchicken",
          "#xpphawker",
          "#butterflypea",
          "#culturespoonsg",
          "#coworkingkitchen",
          "#bluepea",
          "#米其林一星",
          "#chinesefood",
          "#chinese",
          "#zicharfood",
          "#foodphotography",
          "#jixiangangkukueh",
          "#nasilemak",
          "#吉祥红龟粿",
          "#红龟粿",
          "#yongtaufoodry",
          "#tanglinhalttraditionalpeanutpancake",
          "#月光河粉",
          "#tanglinhaltfoodcentre",
          "#sgheritagefood",
          "#peanutpancake",
          "#michiamkueh",
          "#stayhomestaysafe🏠",
          "#staypositive💯",
          "#fruitsrojak",
          "#saltedbeanpancake",
          "#superwokhey",
          "#sghawkerfood",
          "#singaporeeats",
          "#localdelights",
          "#abchawkercentre",
          "#taiwanesefood",
          "#foodpornsg",
          "#炒饭",
          "#claypotcurrychicken",
          "#sgeats",
          "#whatieatforlunch",
          "#bakchormee",
          "#oldschooltaste",
          "#singaporehawkerfood",
          "#byo",
          "#hokkienprawnmee",
          "#ghimmohfoodcentre",
          "#capturestreets",
          "#seafoodhorfun",
          "#fooddiarysg",
          "#claypotrice",
          "#沙爹",
          "#春联",
          "#greatcatchup",
          "#thankful",
          "#一得阁",
          "#meesiam",
          "#一得阁墨汁",
          "#毛笔",
          "#红纸",
          "#楷书",
          "#小贩",
          "#singaporefood",
          "#ourhawkerculture",
          "#SgHawkerFood",
          "#eat3bowlssg",
          "#GoldenMileFoodCentre",
          "#BenEatsApr2021",
          "#bubbletea",
          "#YouFuHokkienMeeSG",
          "#luruofan",
          "#hawkerfoodsg",
          "#hillstreettaihwaporknoodle",
          "#michelinsg",
          "#sgfoodunion",
          "#instagramsg",
          "#exploresingaporeeat",
          "#相機先食",
          "#cameraeatsfirst",
          "#玩具攝影",
          "#toyinstagra",
          "#sgigers",
          "#小贩中心",
          "#sgfoodgram",
          "#sgfoodpics",
          "#sgfoodshares",
          "#吃货",
          "#sgfoodshare",
          "#jrecollectionfood",
          "#蚝煎",
          "#蚝煎🍳",
          "#peoplesparkfoodcentre",
          "#oysterlover",
          "#friedoysters",
          "#friedoyster",
          "#foodpictures",
          "#foodpicture",
          "#shotbyiphone",
          "#oysterlovers",
          "#foodpic",
          "#foodiesoninstagram",
          "#sgfood",
          "#fooddiary",
          "#covidlifestyle",
          "#prelockdownlife",
          "#wontonmee",
          "#lifeinsingapore",
          "#twgrammersy",
          "#instamagazine",
          "#illgrammers",
          "#nikonphotography",
          "#igersone",
          "#nikonsg",
          "#shoot2kill",
          "#imaginatones",
          "#urbanstreet",
          "#nikonz7",
          "#streetgrammers",
          "#streetshots",
          "#sgphotographer",
          "#street_gallery",
          "#singaporestreetscape",
          "#streetframe",
          "#streetvision",
          "#chinatownsg",
          "#exploretocreate",
          "#bepositive",
          "#印度煎饼",
          "#kosong",
          "#cityscape",
          "#rotiprataegg",
          "#neverstopexploring",
          "#urbangallery",
          "#eidilfitri",
          "#hariraya",
          "#kayabuttertoast",
          "#softboiledeggs",
          "#limkopi",
          "#rwp",
          "#rayyanswaroengupnormal",
          "#staysafe",
          "#halalsg",
          "#amoystreetfoodcentre",
          "#amoystreetfoodcenter",
          "#stayhealthy",
          "#eidmubarak",
          "#janggutlaksa",
          "#movingplates",
          "#otah",
          "#laksa",
          "#sgfoodies",
          "#chinatown",
          "#changicitypoint_sg",
          "#linoprinting",
          "#printmakingstudio",
          "#printmakingart",
          "#linoleumprint",
          "#linocutting",
          "#printmaker",
          "#printstudio",
          "#print",
          "#prints",
          "#printmaking",
          "#lino",
          "#Congress",
          "#Seafood",
          "#prawns",
          "#pasirris",
          "#seafoodcongee",
          "#supportlocal",
          "#yongtaufoo",
          "#yummyfood",
          "#supporthawkersg",
          "#ironfrogpress",
          "#braisedduck",
          "#lunchtime",
          "#SupportLocal",
          "#CoffeeAroma",
          "#SgVibes",
          "#OurCoffeeshopFood",
          "#小日子",
          "#鱼丸面",
          "#鱼圆面",
          "#咖啡店吃喝",
          "#早安咖啡",
          "#FishballNoodles",
          "#foodstagram",
          "#linoprint",
          "#linocut",
          "#linocutprint",
          "#whattoeat",
          "#cranfieldcolours",
          "#awagamipaper",
          "#dabaosg",
          "#singaporeinsiders",
          "#awagami",
          "#food",
          "#kiiroitori",
          "#rilakkuma",
          "#orhluaksg",
          "#oysteromellete",
          "#oyster",
          "#松弛熊",
          "#リラックマ",
          "#コリラックマ",
          "#キイロイトリ",
          "#orhluak",
          "#korilakkuma",
          "#sgfoodtrend",
          "#coffee",
          "#yearendthanks",
          "#travelsketching",
          "#watercolorsketchbook",
          "#sgfoodstagram",
          "#supportlocalsg",
          "#whati8today",
          "#sghawkers",
          "#urbansketching",
          "#foodgram",
          "#urbansketch",
          "#usksg",
          "#usk",
          "#traditionalsnacks",
          "#tanglinhalt",
          "#carrotcake",
          "#lunch",
          "#sgfoodblogger",
          "#bcm",
          "#foodforthought",
          "#foodbloggerSG",
          "#foodgramsg",
          "#meepoktah",
          "#mincedporknoodles",
          "#foodies",
          "#livetoeat",
          "#singapore",
          "#foodporn",
          "#instafoodsg",
          "#amkfood",
          "#singaporefoodie",
          "#shiokfoodfind",
          "#igsg",
          "#eatersg",
          "#sgdining",
          "#igfoodies",
          "#eeeeeats",
          "#foodinstagram",
          "#delish",
          "#thesingaporefoodbutler",
          "#eatingforinsta",
          "#zerowastelifestyle",
          "#ecofriendlyliving",
          "#sustainablelivingsg",
          "#internationalfoodieschat",
          "#zerowaste",
          "#環境問題",
          "#foodtogo",
          "#reuserevolution",
          "#不塑之客",
          "#减塑生活",
          "#無痕飲食",
          "#noplastic",
          "#BYOsuccess",
          "#packagefree",
          "#refuseplastic",
          "#channelnewsasia",
          "#foodiesg",
          "#koreanfood",
          "#durian",
          "#visitsingapore",
          "#wantonmee",
          "#byoc",
          "#chickenrice",
          "#sginstagram",
          "#byocontainer",
          "#reusablenotdisposable",
          "#byosg",
          "#yummylocalfare",
          "#wavebye21",
          "#DaJie",
          "#DaJieBedok",
          "#DaJieMakanPlace",
          "#DaJieNiangDouFu",
          "#sghalal",
          "#halalfoodsg",
          "#8DaysEat",
          "#SgHeritageFood",
          "#yongtaufu",
          "#釀豆腐",
          "#hakkayongtaufoo",
          "#ampangyongtaufoo",
          "#01-71",
          "#mala",
          "#麻辣香锅",
          "#kampungfriedrice",
          "#simpangbedok",
          "#咖啡香",
          "#supportsmallbusiness",
          "#",
          "#goldenmilefoodcentre",
          "#nosingleuseplastic",
          "#ecofriendly",
          "#sustainablesg",
          "#popiah",
          "#foodreviewssg",
          "#lunchtimesg",
          "#igdaily",
          "#ibringmyownsg",
          "#byosingapore",
          "#localfoodsg",
          "#muralart",
          "#wallart",
          "#sgigfoodies",
          "#foodshare",
          "#singapore🇸🇬",
          "#sgfoodphotography",
          "#foodlovers",
          "#foodgasm",
          "#ilovehawkerfood",
          "#simsvista",
          "#friedcarrotcake",
          "#greenchilichickenrice",
          "#flightmeal✈️",
          "#airlinefoodselfie",
          "#joyousdec21",
          "#simsvistamarketandfoodcentre",
          "#hawkers",
          "#friedchicken",
          "#foodblogger",
          "#foodlover",
          "#foodiesofinstagram",
          "#SupportLocalSg",
          "#singaporean",
          "#singaporelife",
          "#sgdaily",
          "#sginfluencer",
          "#肉骨茶",
          "#HawkercultureSg",
          "#burpplesg",
          "#sgfoodreview",
          "#hawkerfare",
          "#sgfoodlover",
          "#thefoodiesinitiative",
          "#charkwayteowsg",
          "#01-13",
          "#好好吃饭",
          "#GoodEats",
          "#CKT",
          "#LetsEatAndPlay",
          "#SeeSeeEatEat",
          "#蓝天白云",
          "#sgfoodiegram",
          "#HawkerCultureSg",
          "#foodpics",
          "#supportlocalbusiness",
          "#instadaily",
          "#natgeoasia",
          "#OurHawkerCulture",
          "#WhatMakesSG",
          "#HawkerFood",
          "#ExploreSG",
          "#YourSingapore",
          "#HawkerCenter",
          "#eatoutsg",
          "#porridge",
          "#yoursingapore",
          "#mooping",
          "#Singaporeinsiders",
          "#korean",
          "#koreanfoodlovers",
          "#foodprep",
          "#trending",
          "#training",
          "#travelpics",
          "#koreanfoodsg",
          "#korea",
          "#stfoodtrending",
          "#malaysiastreetfood",
          "#streetfoodsg",
          "#sgloklok",
          "#loklok",
          "#sgffxhawkerpicks",
          "#LokLokKingSg",
          "#LokLokKing",
          "#sgfoodhunt",
          "#BBQ",
          "#BCM",
          "#hawkerFavourite",
          "#NewtonCircus",
          "#NewtonFood",
          "#吃货最棒",
          "#neighbourhoodsg",
          "#whatlingeats",
          "#SingaporeFoodie",
          "#纽顿",
          "#新加坡美食",
          "#新加坡双语美食库",
          "#双语美食库",
          "#纽顿熟食中心",
          "#肉脞面",
          "#烤虾",
          "#馋嘴双兔",
          "#eatatNewton",
          "#越来越宅",
          "#foodspotting",
          "#8dayseat",
          "#japanesefood",
          "#sgigfood",
          "#discoverunder10k.",
          "#foodvibes",
          "#mediainvite",
          "#sgtastebud",
          "#sgigfoodporn",
          "#thisissingapore",
          "#foodinsg",
          "#eatbooksg",
          "#whatissingapore",
          "#travelblogger",
          "#traveladdict",
          "#foodart",
          "#foodiegram",
          "#foodstylist",
          "#sg",
          "#travel",
          "#travelphotography",
          "#charkwayteow",
          "#HawkerCultureSG",
          "#foodsg",
          "#hawkercentrefood",
          "#localtravel",
          "#sgtravelblogger",
          "#singaporecity",
          "#singapore_insta",
          "#sgphotoshoot",
          "#sgphotography",
          "#hawkercentres",
          "#singaporetrip",
          "#singaporetravel",
          "#sginstagrammers",
          "#leekuanyewtribute",
          "#hawkercentresg",
          "#leehsienloong",
          "#wallpainting",
          "#muralartist",
          "#localtrails",
          "#wallmural",
          "#leekuanyew",
          "#murals",
          "#fooddeliverysg",
          "#hotpot",
          "#travelawesome",
          "#haidilao",
          "#haidilaosingapore",
          "#foodbloggers",
          "#foodstyling",
          "#cheap",
          "#support",
          "#foodblog",
          "#kopitiam",
          "#sgig",
          "#jiaksimipng",
          "#jiaklocal",
          "#instasg",
          "#zionriverside",
          "#01-26",
          "#hawkerCultureSG",
          "#tedsingapore",
          "#hainanesechickenrice",
          "#exploreSG",
          "#whatmakesSG",
          "#thankyouhawkers",
          "#instasgsunday10pm",
          "#instasgSundayOurHawkers",
          "#communityfirst",
          "#支持小贩文化",
          "#米其林必比登推薦",
          "#bibgourmand2021",
          "#从容",
          "#BakKutTeh",
          "#SgFoodie",
          "#JooSiahBKT",
          "#小確幸",
          "#CoffeeShopEats",
          "#FoodieSg",
          "#globaleats",
          "#oldschool",
          "#whati8todaysg",
          "#yishunfood",
          "#sgblogger",
          "#01-235,",
          "#beefbrisketnoodle",
          "#chefkin",
          "#bakchormee#yishunparkhawkercentre#meekia#meekiadry#chashu#chashupork#porkball#porkballs#fishball#mincedpork#mincedmeat#noodles#porklard#onsenegg#egg#porkfat#saucynoodles#hawkers#hawkerculture#hawkerculturesg#sgfoodie#sgfoodies#sgfoodporn#foodporn#sgeats",
          "#01-27,",
          "#iluvsg",
          "#foodiesinternationalchat",
          "#yishun",
          "#porridgesg",
          "#kekoumian",
          "#yishuneats",
          "#Grab50thHawkerCentre",
          "#GrabforGood",
          "#grabfood",
          "#thefoodieinitiative",
          "#travelgram",
          "#friedchickenwings",
          "#koungwantonmee",
          "#geylang",
          "#instafoodie",
          "#singaporetimes",
          "#tonkatsu",
          "#maruhachi",
          "#sembawang",
          "#foodpornasia",
          "#eatnowburnnexttime",
          "#foodiesofig",
          "#foodphotographer",
          "#foodforfoodies",
          "#SingaporeFood",
          "#foodofinstagram",
          "#SGFoodies",
          "#citygrammers",
          "#safrasg",
          "#raw_snap_morning",
          "#字述一年2021",
          "#字述一年",
          "#rediscoversg",
          "#beautifuldestinations",
          "#instagood10",
          "#killeverygram",
          "#sghome",
          "#portraitphotography",
          "#raw_community",
          "#coffeeaddict",
          "#snapwithcanon",
          "#instagram"
         ],
         "xaxis": "x",
         "y": [
          -1,
          -1,
          -1,
          -1,
          -1,
          -1,
          -1,
          -1,
          -1,
          -1,
          -1,
          -1,
          -1,
          -1,
          1,
          1,
          1,
          1,
          1.5,
          2,
          2,
          2,
          2,
          2,
          2,
          2,
          3,
          3,
          3,
          3,
          3,
          3,
          3,
          3,
          3,
          3,
          3,
          3,
          3,
          3,
          3,
          3,
          3,
          3,
          4,
          4,
          4,
          4,
          5,
          5,
          5,
          5,
          5.333333333333333,
          5.333333333333333,
          5.333333333333333,
          5.666666666666667,
          6,
          6,
          6.333333333333333,
          6.333333333333333,
          6.333333333333333,
          6.333333333333333,
          6.333333333333333,
          6.333333333333333,
          6.333333333333333,
          6.333333333333333,
          6.333333333333333,
          6.333333333333333,
          6.333333333333333,
          6.5,
          7,
          7,
          7,
          7,
          7,
          7,
          7,
          7,
          7,
          7,
          7,
          7,
          7,
          7,
          7,
          7,
          7,
          7,
          7,
          7,
          7,
          7.666666666666667,
          8,
          8,
          8,
          8,
          8,
          8,
          8,
          9.5,
          9.5,
          10,
          10,
          10,
          10,
          10,
          10,
          10,
          10,
          10,
          10,
          10,
          10,
          10,
          10.2,
          10.4,
          10.5,
          10.5,
          10.5,
          10.5,
          10.5,
          10.5,
          10.5,
          10.5,
          10.5,
          10.5,
          10.5,
          10.857142857142858,
          11,
          11,
          11,
          11,
          11,
          11,
          11,
          11,
          11,
          11,
          11.5,
          12,
          12,
          12,
          12,
          12,
          12,
          12,
          12,
          12,
          12,
          12,
          12,
          12,
          12,
          12,
          12,
          12,
          12,
          12,
          12,
          12,
          12,
          12,
          12,
          12,
          12,
          12,
          12,
          12,
          12,
          12,
          12.5,
          12.5,
          12.5,
          12.5,
          13,
          13.5,
          13.666666666666666,
          13.666666666666666,
          14,
          14,
          14,
          14,
          14,
          14,
          14,
          14,
          14,
          14,
          14,
          14,
          14,
          14,
          14,
          14,
          14,
          14.333333333333334,
          15,
          15,
          15,
          15,
          16,
          16,
          16,
          16,
          16,
          16,
          16,
          16,
          16,
          16,
          16,
          16,
          16,
          16,
          16,
          16,
          16,
          16,
          16,
          16,
          16,
          16,
          16.5,
          16.5,
          16.666666666666668,
          17,
          17,
          17,
          17,
          17,
          17,
          17,
          17,
          17,
          17,
          17,
          17,
          18,
          18,
          18,
          18,
          18,
          18,
          18,
          18,
          18,
          18,
          18,
          18,
          18,
          18,
          18,
          18,
          18,
          18,
          18,
          18,
          18.5,
          19,
          19,
          19,
          19,
          19,
          19,
          19,
          19.333333333333332,
          19.333333333333332,
          19.333333333333332,
          19.333333333333332,
          19.333333333333332,
          19.333333333333332,
          19.333333333333332,
          19.333333333333332,
          19.333333333333332,
          19.333333333333332,
          19.333333333333332,
          19.333333333333332,
          19.333333333333332,
          19.333333333333332,
          19.333333333333332,
          19.333333333333332,
          19.333333333333332,
          20,
          20,
          20,
          20,
          20,
          20,
          20,
          20,
          20,
          20,
          20,
          20,
          20,
          20,
          20,
          20,
          20.166666666666668,
          20.5,
          20.5,
          21,
          21,
          21,
          21,
          21,
          21,
          21,
          21,
          21,
          21,
          21,
          21,
          21,
          21,
          21,
          21,
          21,
          21,
          21.2972972972973,
          22,
          22,
          22,
          22,
          22,
          22,
          22,
          22,
          22,
          22,
          22,
          22.61764705882353,
          23,
          23,
          23,
          23,
          23,
          24,
          24,
          24,
          24,
          24,
          24,
          24,
          24,
          24,
          24,
          24,
          24,
          24,
          24,
          24.5,
          25,
          25,
          25,
          25,
          25,
          25,
          25,
          25,
          25,
          25,
          25,
          25,
          25,
          25,
          25,
          25,
          25,
          25,
          25,
          25,
          25,
          25,
          25,
          25,
          25,
          25,
          25,
          25,
          25,
          25,
          25,
          25,
          25,
          25,
          25,
          25,
          25,
          25,
          25,
          25.5,
          25.5,
          25.8,
          26,
          26,
          26,
          26,
          26,
          26,
          26,
          26,
          26,
          26,
          26,
          26,
          26,
          26,
          26,
          26,
          26,
          26,
          26.428571428571427,
          26.428571428571427,
          26.428571428571427,
          26.428571428571427,
          26.428571428571427,
          26.428571428571427,
          26.428571428571427,
          26.428571428571427,
          26.5,
          27,
          27,
          27,
          27,
          27,
          27,
          27,
          27,
          27,
          27,
          27,
          27,
          27,
          27,
          27,
          27,
          27,
          27,
          27,
          27,
          27,
          27,
          27,
          27,
          27,
          27,
          27,
          27,
          27,
          27,
          27.333333333333332,
          27.5,
          28,
          29,
          29,
          29,
          29,
          29,
          29,
          29,
          29,
          30,
          30,
          30,
          30,
          30,
          30,
          30,
          30,
          30.23076923076923,
          30.3,
          30.333333333333332,
          30.894736842105264,
          31,
          31,
          31,
          31,
          31,
          31,
          31,
          31.333333333333332,
          31.5,
          31.5,
          31.875,
          32,
          32,
          32,
          32,
          32,
          32,
          32,
          32,
          32,
          32,
          32,
          32,
          32,
          32,
          32,
          32,
          32.5,
          32.666666666666664,
          33,
          33,
          33,
          33,
          33,
          33.13636363636363,
          33.5,
          33.78333333333333,
          34,
          34,
          34,
          34,
          34,
          34,
          34,
          34,
          34.5,
          34.5,
          34.56716417910448,
          35,
          35,
          35,
          35.25,
          35.5,
          36,
          36,
          36,
          36,
          36,
          36,
          36,
          36,
          36,
          36,
          36,
          36,
          36,
          36,
          36,
          36,
          36,
          36.5,
          36.5,
          36.5,
          36.8,
          37,
          37,
          37,
          37,
          37.48936170212766,
          38,
          38,
          38,
          38,
          38,
          38,
          38,
          38,
          38,
          38,
          38,
          38,
          38,
          38,
          38,
          38,
          38,
          38,
          38,
          38,
          38,
          38,
          38,
          38,
          38,
          38.03703703703704,
          38.714285714285715,
          39,
          39,
          39.333333333333336,
          39.5,
          39.5,
          40,
          40,
          40,
          40,
          40,
          40,
          40,
          40,
          40,
          40,
          40.333333333333336,
          40.666666666666664,
          40.666666666666664,
          40.93478260869565,
          41,
          41,
          41,
          41,
          41,
          41,
          41,
          41,
          41,
          41,
          41,
          41.4,
          41.5,
          41.5,
          41.68421052631579,
          41.68421052631579,
          41.68421052631579,
          41.68421052631579,
          41.68421052631579,
          41.91150442477876,
          42,
          42,
          42,
          42.333333333333336,
          42.333333333333336,
          42.333333333333336,
          42.333333333333336,
          42.333333333333336,
          42.333333333333336,
          42.8421052631579,
          43,
          43,
          43,
          43,
          43,
          43.5,
          43.5,
          43.58378378378379,
          44,
          44,
          44.142857142857146,
          44.5,
          44.666666666666664,
          44.666666666666664,
          45,
          45,
          45,
          45,
          45.111111111111114,
          45.30952380952381,
          45.94117647058823,
          46,
          46,
          46,
          46,
          46,
          46,
          46,
          46,
          46,
          46,
          46.08571428571429,
          46.30434782608695,
          46.714285714285715,
          47,
          47,
          47,
          47,
          47,
          47,
          47,
          47,
          47,
          47,
          47,
          47,
          47,
          47,
          47,
          47,
          47,
          47,
          47,
          47,
          47,
          47,
          47,
          47,
          47,
          47,
          47,
          47,
          47,
          47,
          47,
          47,
          47,
          47,
          47,
          47,
          47,
          47,
          47,
          47,
          47,
          47,
          47,
          47,
          47,
          47,
          47,
          47,
          47,
          47.33571428571429,
          47.5,
          47.5,
          47.53846153846154,
          48,
          48,
          48,
          48,
          48,
          48,
          48,
          48,
          48,
          48.2,
          48.2,
          48.75,
          49,
          49,
          49,
          49,
          49,
          49,
          49,
          49,
          49,
          49,
          49,
          49,
          49,
          49,
          49,
          49,
          49,
          49.23863636363637,
          49.5,
          49.714285714285715,
          50,
          50,
          50,
          50,
          50,
          50.11578947368421,
          50.25,
          50.4,
          50.5,
          50.714285714285715,
          51,
          51,
          51,
          51,
          51,
          51,
          51.5,
          52,
          52,
          52,
          52,
          52,
          52,
          52,
          52,
          52,
          52,
          52,
          52.02962962962963,
          52.74193548387097,
          53,
          53,
          53,
          53,
          53,
          53,
          53,
          53.36144578313253,
          53.666666666666664,
          53.666666666666664,
          53.666666666666664,
          53.666666666666664,
          53.666666666666664,
          53.666666666666664,
          53.666666666666664,
          53.666666666666664,
          53.666666666666664,
          53.666666666666664,
          54,
          54,
          54,
          54,
          54,
          54,
          54,
          54,
          54,
          54,
          54,
          54,
          54,
          54,
          54,
          54,
          54,
          54,
          54,
          54.16546762589928,
          54.5,
          55,
          55,
          55,
          55,
          55,
          55,
          55,
          55,
          55,
          55,
          55,
          55,
          55,
          55,
          55,
          55,
          55,
          55,
          55,
          55,
          55,
          55,
          55,
          55,
          55,
          55,
          55,
          55,
          55,
          55,
          56,
          56,
          56,
          56,
          56,
          56,
          56,
          56,
          56,
          56,
          56,
          56,
          56,
          57,
          57,
          57,
          57.5,
          57.9390243902439,
          58,
          58,
          58.89473684210526,
          58.89473684210526,
          58.89473684210526,
          58.89473684210526,
          58.89473684210526,
          58.89473684210526,
          58.89473684210526,
          58.89473684210526,
          58.89473684210526,
          58.89473684210526,
          59.91891891891892,
          60,
          60,
          60,
          60,
          60,
          60.27777777777778,
          60.5,
          61,
          61.333333333333336,
          61.9375,
          62,
          62,
          62,
          62,
          62,
          62,
          62,
          62,
          62,
          62,
          62,
          62,
          62.638888888888886,
          62.80769230769231,
          62.80769230769231,
          62.80769230769231,
          63.5,
          64,
          64,
          64.33333333333333,
          65.25,
          65.33333333333333,
          65.55555555555556,
          66,
          66,
          66,
          66,
          66,
          66,
          66,
          66,
          66,
          66,
          66,
          66.18518518518519,
          66.75,
          67,
          67,
          67,
          67.45454545454545,
          67.75862068965517,
          68.07692307692308,
          68.26315789473684,
          68.5,
          69.25,
          70,
          70,
          70,
          70,
          70,
          70.2,
          70.42857142857143,
          70.71698113207547,
          73,
          73,
          73,
          73,
          73,
          73,
          73.16666666666667,
          74.25,
          74.82352941176471,
          75.03030303030303,
          76.86538461538461,
          78,
          78.075,
          79.6,
          81.88888888888889,
          83,
          83,
          83,
          83,
          83,
          83,
          83,
          83,
          83,
          83,
          83,
          83,
          83,
          83,
          83,
          83,
          83,
          83,
          83,
          83,
          83,
          83,
          83,
          88,
          88.44444444444444,
          89.5,
          90.5,
          91.2,
          91.22222222222223,
          91.33333333333333,
          93.75,
          95.25,
          95.5,
          95.5,
          95.5,
          98,
          98,
          100,
          100,
          100,
          100,
          100,
          100,
          100,
          100,
          100,
          100,
          100,
          100,
          100,
          100,
          100,
          100,
          100,
          106,
          106.44444444444444,
          107.33333333333333,
          107.66666666666667,
          108,
          108,
          108,
          108,
          108,
          108,
          108,
          108,
          108,
          108,
          109.5,
          109.5,
          109.5,
          112.2,
          115,
          116,
          120.5,
          121.16666666666667,
          123,
          123,
          123,
          123,
          123,
          123,
          123,
          123,
          123.5,
          123.5,
          123.9,
          124,
          127.5,
          128.5,
          131.66666666666666,
          131.7,
          134,
          135,
          135,
          135.5,
          138.46666666666667,
          145.5,
          145.5,
          145.77777777777777,
          149,
          149,
          149,
          150,
          150,
          150,
          150,
          150,
          150,
          151,
          152.33333333333334,
          153.2,
          159.66666666666666,
          160.33333333333334,
          163,
          163,
          163,
          163,
          163,
          163,
          163,
          164.5,
          165,
          169.75,
          171,
          171,
          171,
          171,
          171,
          171,
          171,
          171,
          171,
          171,
          171,
          171,
          171,
          171,
          171,
          171,
          171,
          171,
          174.5,
          175,
          175,
          175,
          175,
          175,
          175,
          175,
          175,
          175,
          175,
          175,
          175,
          175,
          175,
          175,
          175,
          175,
          175,
          175,
          175.66666666666666,
          182.1818181818182,
          184,
          193.4,
          194,
          194,
          194,
          194,
          194,
          194.75,
          196.5,
          198.75,
          199,
          199.5,
          199.5,
          200.5,
          205,
          209.66666666666666,
          209.66666666666666,
          209.66666666666666,
          209.66666666666666,
          210.5,
          218,
          219.22222222222223,
          220,
          220,
          220,
          220,
          220,
          220,
          220,
          220,
          220,
          220,
          220,
          220,
          220,
          220,
          220,
          220,
          220,
          220,
          220,
          220,
          223,
          228,
          228,
          228,
          228,
          228,
          229,
          230,
          230,
          230,
          230,
          231.6,
          232.75,
          232.75,
          237,
          238,
          238,
          239,
          239,
          239,
          239,
          239,
          239,
          239,
          239,
          239,
          245,
          245,
          245,
          245,
          245,
          245,
          245,
          245,
          245,
          245,
          253.28571428571428,
          254,
          255,
          255,
          255,
          255,
          255,
          255,
          257,
          257,
          259,
          259.14285714285717,
          270,
          270,
          270,
          270,
          275,
          275,
          275,
          277.5,
          279,
          279.6666666666667,
          289,
          289,
          300,
          338.5,
          341,
          341,
          341,
          361,
          361,
          361,
          361,
          361,
          361,
          361,
          361,
          438,
          438,
          438,
          438,
          438,
          438,
          438,
          438,
          438,
          438,
          438,
          438,
          438,
          438,
          438
         ],
         "yaxis": "y"
        }
       ],
       "layout": {
        "autosize": true,
        "legend": {
         "tracegroupgap": 0
        },
        "margin": {
         "t": 60
        },
        "template": {
         "data": {
          "bar": [
           {
            "error_x": {
             "color": "#2a3f5f"
            },
            "error_y": {
             "color": "#2a3f5f"
            },
            "marker": {
             "line": {
              "color": "#E5ECF6",
              "width": 0.5
             },
             "pattern": {
              "fillmode": "overlay",
              "size": 10,
              "solidity": 0.2
             }
            },
            "type": "bar"
           }
          ],
          "barpolar": [
           {
            "marker": {
             "line": {
              "color": "#E5ECF6",
              "width": 0.5
             },
             "pattern": {
              "fillmode": "overlay",
              "size": 10,
              "solidity": 0.2
             }
            },
            "type": "barpolar"
           }
          ],
          "carpet": [
           {
            "aaxis": {
             "endlinecolor": "#2a3f5f",
             "gridcolor": "white",
             "linecolor": "white",
             "minorgridcolor": "white",
             "startlinecolor": "#2a3f5f"
            },
            "baxis": {
             "endlinecolor": "#2a3f5f",
             "gridcolor": "white",
             "linecolor": "white",
             "minorgridcolor": "white",
             "startlinecolor": "#2a3f5f"
            },
            "type": "carpet"
           }
          ],
          "choropleth": [
           {
            "colorbar": {
             "outlinewidth": 0,
             "ticks": ""
            },
            "type": "choropleth"
           }
          ],
          "contour": [
           {
            "colorbar": {
             "outlinewidth": 0,
             "ticks": ""
            },
            "colorscale": [
             [
              0,
              "#0d0887"
             ],
             [
              0.1111111111111111,
              "#46039f"
             ],
             [
              0.2222222222222222,
              "#7201a8"
             ],
             [
              0.3333333333333333,
              "#9c179e"
             ],
             [
              0.4444444444444444,
              "#bd3786"
             ],
             [
              0.5555555555555556,
              "#d8576b"
             ],
             [
              0.6666666666666666,
              "#ed7953"
             ],
             [
              0.7777777777777778,
              "#fb9f3a"
             ],
             [
              0.8888888888888888,
              "#fdca26"
             ],
             [
              1,
              "#f0f921"
             ]
            ],
            "type": "contour"
           }
          ],
          "contourcarpet": [
           {
            "colorbar": {
             "outlinewidth": 0,
             "ticks": ""
            },
            "type": "contourcarpet"
           }
          ],
          "heatmap": [
           {
            "colorbar": {
             "outlinewidth": 0,
             "ticks": ""
            },
            "colorscale": [
             [
              0,
              "#0d0887"
             ],
             [
              0.1111111111111111,
              "#46039f"
             ],
             [
              0.2222222222222222,
              "#7201a8"
             ],
             [
              0.3333333333333333,
              "#9c179e"
             ],
             [
              0.4444444444444444,
              "#bd3786"
             ],
             [
              0.5555555555555556,
              "#d8576b"
             ],
             [
              0.6666666666666666,
              "#ed7953"
             ],
             [
              0.7777777777777778,
              "#fb9f3a"
             ],
             [
              0.8888888888888888,
              "#fdca26"
             ],
             [
              1,
              "#f0f921"
             ]
            ],
            "type": "heatmap"
           }
          ],
          "heatmapgl": [
           {
            "colorbar": {
             "outlinewidth": 0,
             "ticks": ""
            },
            "colorscale": [
             [
              0,
              "#0d0887"
             ],
             [
              0.1111111111111111,
              "#46039f"
             ],
             [
              0.2222222222222222,
              "#7201a8"
             ],
             [
              0.3333333333333333,
              "#9c179e"
             ],
             [
              0.4444444444444444,
              "#bd3786"
             ],
             [
              0.5555555555555556,
              "#d8576b"
             ],
             [
              0.6666666666666666,
              "#ed7953"
             ],
             [
              0.7777777777777778,
              "#fb9f3a"
             ],
             [
              0.8888888888888888,
              "#fdca26"
             ],
             [
              1,
              "#f0f921"
             ]
            ],
            "type": "heatmapgl"
           }
          ],
          "histogram": [
           {
            "marker": {
             "pattern": {
              "fillmode": "overlay",
              "size": 10,
              "solidity": 0.2
             }
            },
            "type": "histogram"
           }
          ],
          "histogram2d": [
           {
            "colorbar": {
             "outlinewidth": 0,
             "ticks": ""
            },
            "colorscale": [
             [
              0,
              "#0d0887"
             ],
             [
              0.1111111111111111,
              "#46039f"
             ],
             [
              0.2222222222222222,
              "#7201a8"
             ],
             [
              0.3333333333333333,
              "#9c179e"
             ],
             [
              0.4444444444444444,
              "#bd3786"
             ],
             [
              0.5555555555555556,
              "#d8576b"
             ],
             [
              0.6666666666666666,
              "#ed7953"
             ],
             [
              0.7777777777777778,
              "#fb9f3a"
             ],
             [
              0.8888888888888888,
              "#fdca26"
             ],
             [
              1,
              "#f0f921"
             ]
            ],
            "type": "histogram2d"
           }
          ],
          "histogram2dcontour": [
           {
            "colorbar": {
             "outlinewidth": 0,
             "ticks": ""
            },
            "colorscale": [
             [
              0,
              "#0d0887"
             ],
             [
              0.1111111111111111,
              "#46039f"
             ],
             [
              0.2222222222222222,
              "#7201a8"
             ],
             [
              0.3333333333333333,
              "#9c179e"
             ],
             [
              0.4444444444444444,
              "#bd3786"
             ],
             [
              0.5555555555555556,
              "#d8576b"
             ],
             [
              0.6666666666666666,
              "#ed7953"
             ],
             [
              0.7777777777777778,
              "#fb9f3a"
             ],
             [
              0.8888888888888888,
              "#fdca26"
             ],
             [
              1,
              "#f0f921"
             ]
            ],
            "type": "histogram2dcontour"
           }
          ],
          "mesh3d": [
           {
            "colorbar": {
             "outlinewidth": 0,
             "ticks": ""
            },
            "type": "mesh3d"
           }
          ],
          "parcoords": [
           {
            "line": {
             "colorbar": {
              "outlinewidth": 0,
              "ticks": ""
             }
            },
            "type": "parcoords"
           }
          ],
          "pie": [
           {
            "automargin": true,
            "type": "pie"
           }
          ],
          "scatter": [
           {
            "marker": {
             "colorbar": {
              "outlinewidth": 0,
              "ticks": ""
             }
            },
            "type": "scatter"
           }
          ],
          "scatter3d": [
           {
            "line": {
             "colorbar": {
              "outlinewidth": 0,
              "ticks": ""
             }
            },
            "marker": {
             "colorbar": {
              "outlinewidth": 0,
              "ticks": ""
             }
            },
            "type": "scatter3d"
           }
          ],
          "scattercarpet": [
           {
            "marker": {
             "colorbar": {
              "outlinewidth": 0,
              "ticks": ""
             }
            },
            "type": "scattercarpet"
           }
          ],
          "scattergeo": [
           {
            "marker": {
             "colorbar": {
              "outlinewidth": 0,
              "ticks": ""
             }
            },
            "type": "scattergeo"
           }
          ],
          "scattergl": [
           {
            "marker": {
             "colorbar": {
              "outlinewidth": 0,
              "ticks": ""
             }
            },
            "type": "scattergl"
           }
          ],
          "scattermapbox": [
           {
            "marker": {
             "colorbar": {
              "outlinewidth": 0,
              "ticks": ""
             }
            },
            "type": "scattermapbox"
           }
          ],
          "scatterpolar": [
           {
            "marker": {
             "colorbar": {
              "outlinewidth": 0,
              "ticks": ""
             }
            },
            "type": "scatterpolar"
           }
          ],
          "scatterpolargl": [
           {
            "marker": {
             "colorbar": {
              "outlinewidth": 0,
              "ticks": ""
             }
            },
            "type": "scatterpolargl"
           }
          ],
          "scatterternary": [
           {
            "marker": {
             "colorbar": {
              "outlinewidth": 0,
              "ticks": ""
             }
            },
            "type": "scatterternary"
           }
          ],
          "surface": [
           {
            "colorbar": {
             "outlinewidth": 0,
             "ticks": ""
            },
            "colorscale": [
             [
              0,
              "#0d0887"
             ],
             [
              0.1111111111111111,
              "#46039f"
             ],
             [
              0.2222222222222222,
              "#7201a8"
             ],
             [
              0.3333333333333333,
              "#9c179e"
             ],
             [
              0.4444444444444444,
              "#bd3786"
             ],
             [
              0.5555555555555556,
              "#d8576b"
             ],
             [
              0.6666666666666666,
              "#ed7953"
             ],
             [
              0.7777777777777778,
              "#fb9f3a"
             ],
             [
              0.8888888888888888,
              "#fdca26"
             ],
             [
              1,
              "#f0f921"
             ]
            ],
            "type": "surface"
           }
          ],
          "table": [
           {
            "cells": {
             "fill": {
              "color": "#EBF0F8"
             },
             "line": {
              "color": "white"
             }
            },
            "header": {
             "fill": {
              "color": "#C8D4E3"
             },
             "line": {
              "color": "white"
             }
            },
            "type": "table"
           }
          ]
         },
         "layout": {
          "annotationdefaults": {
           "arrowcolor": "#2a3f5f",
           "arrowhead": 0,
           "arrowwidth": 1
          },
          "autotypenumbers": "strict",
          "coloraxis": {
           "colorbar": {
            "outlinewidth": 0,
            "ticks": ""
           }
          },
          "colorscale": {
           "diverging": [
            [
             0,
             "#8e0152"
            ],
            [
             0.1,
             "#c51b7d"
            ],
            [
             0.2,
             "#de77ae"
            ],
            [
             0.3,
             "#f1b6da"
            ],
            [
             0.4,
             "#fde0ef"
            ],
            [
             0.5,
             "#f7f7f7"
            ],
            [
             0.6,
             "#e6f5d0"
            ],
            [
             0.7,
             "#b8e186"
            ],
            [
             0.8,
             "#7fbc41"
            ],
            [
             0.9,
             "#4d9221"
            ],
            [
             1,
             "#276419"
            ]
           ],
           "sequential": [
            [
             0,
             "#0d0887"
            ],
            [
             0.1111111111111111,
             "#46039f"
            ],
            [
             0.2222222222222222,
             "#7201a8"
            ],
            [
             0.3333333333333333,
             "#9c179e"
            ],
            [
             0.4444444444444444,
             "#bd3786"
            ],
            [
             0.5555555555555556,
             "#d8576b"
            ],
            [
             0.6666666666666666,
             "#ed7953"
            ],
            [
             0.7777777777777778,
             "#fb9f3a"
            ],
            [
             0.8888888888888888,
             "#fdca26"
            ],
            [
             1,
             "#f0f921"
            ]
           ],
           "sequentialminus": [
            [
             0,
             "#0d0887"
            ],
            [
             0.1111111111111111,
             "#46039f"
            ],
            [
             0.2222222222222222,
             "#7201a8"
            ],
            [
             0.3333333333333333,
             "#9c179e"
            ],
            [
             0.4444444444444444,
             "#bd3786"
            ],
            [
             0.5555555555555556,
             "#d8576b"
            ],
            [
             0.6666666666666666,
             "#ed7953"
            ],
            [
             0.7777777777777778,
             "#fb9f3a"
            ],
            [
             0.8888888888888888,
             "#fdca26"
            ],
            [
             1,
             "#f0f921"
            ]
           ]
          },
          "colorway": [
           "#636efa",
           "#EF553B",
           "#00cc96",
           "#ab63fa",
           "#FFA15A",
           "#19d3f3",
           "#FF6692",
           "#B6E880",
           "#FF97FF",
           "#FECB52"
          ],
          "font": {
           "color": "#2a3f5f"
          },
          "geo": {
           "bgcolor": "white",
           "lakecolor": "white",
           "landcolor": "#E5ECF6",
           "showlakes": true,
           "showland": true,
           "subunitcolor": "white"
          },
          "hoverlabel": {
           "align": "left"
          },
          "hovermode": "closest",
          "mapbox": {
           "style": "light"
          },
          "paper_bgcolor": "white",
          "plot_bgcolor": "#E5ECF6",
          "polar": {
           "angularaxis": {
            "gridcolor": "white",
            "linecolor": "white",
            "ticks": ""
           },
           "bgcolor": "#E5ECF6",
           "radialaxis": {
            "gridcolor": "white",
            "linecolor": "white",
            "ticks": ""
           }
          },
          "scene": {
           "xaxis": {
            "backgroundcolor": "#E5ECF6",
            "gridcolor": "white",
            "gridwidth": 2,
            "linecolor": "white",
            "showbackground": true,
            "ticks": "",
            "zerolinecolor": "white"
           },
           "yaxis": {
            "backgroundcolor": "#E5ECF6",
            "gridcolor": "white",
            "gridwidth": 2,
            "linecolor": "white",
            "showbackground": true,
            "ticks": "",
            "zerolinecolor": "white"
           },
           "zaxis": {
            "backgroundcolor": "#E5ECF6",
            "gridcolor": "white",
            "gridwidth": 2,
            "linecolor": "white",
            "showbackground": true,
            "ticks": "",
            "zerolinecolor": "white"
           }
          },
          "shapedefaults": {
           "line": {
            "color": "#2a3f5f"
           }
          },
          "ternary": {
           "aaxis": {
            "gridcolor": "white",
            "linecolor": "white",
            "ticks": ""
           },
           "baxis": {
            "gridcolor": "white",
            "linecolor": "white",
            "ticks": ""
           },
           "bgcolor": "#E5ECF6",
           "caxis": {
            "gridcolor": "white",
            "linecolor": "white",
            "ticks": ""
           }
          },
          "title": {
           "x": 0.05
          },
          "xaxis": {
           "automargin": true,
           "gridcolor": "white",
           "linecolor": "white",
           "ticks": "",
           "title": {
            "standoff": 15
           },
           "zerolinecolor": "white",
           "zerolinewidth": 2
          },
          "yaxis": {
           "automargin": true,
           "gridcolor": "white",
           "linecolor": "white",
           "ticks": "",
           "title": {
            "standoff": 15
           },
           "zerolinecolor": "white",
           "zerolinewidth": 2
          }
         }
        },
        "xaxis": {
         "anchor": "y",
         "autorange": true,
         "domain": [
          0,
          1
         ],
         "range": [
          -86.36268754076971,
          1335.3626875407697
         ],
         "title": {
          "text": "hashtags"
         },
         "type": "category"
        },
        "yaxis": {
         "anchor": "x",
         "autorange": true,
         "domain": [
          0,
          1
         ],
         "range": [
          -47.087188612099645,
          484.0871886120996
         ],
         "title": {
          "text": "average_likes"
         },
         "type": "linear"
        }
       }
      },
      "image/png": "[encoded data removed]",
      "text/html": [
       "<div>                            <div id=\"822c0aa5-126f-4e80-b09a-c4186ea674c2\" class=\"plotly-graph-div\" style=\"height:525px; width:100%;\"></div>            <script type=\"text/javascript\">                require([\"plotly\"], function(Plotly) {                    window.PLOTLYENV=window.PLOTLYENV || {};                                    if (document.getElementById(\"822c0aa5-126f-4e80-b09a-c4186ea674c2\")) {                    Plotly.newPlot(                        \"822c0aa5-126f-4e80-b09a-c4186ea674c2\",                        [{\"hovertemplate\":\"hashtags=%{x}<br>average_likes=%{y}<extra></extra>\",\"legendgroup\":\"\",\"marker\":{\"color\":\"#636efa\",\"symbol\":\"circle\"},\"mode\":\"markers\",\"name\":\"\",\"showlegend\":false,\"x\":[\"#singaporenews\",\"#foodtrip\",\"#laupasat\",\"#rafflesplace\",\"#foodplaces\",\"#uniqlo\",\"#\\u58c1\\u30a2\\u30fc\\u30c8\\u63a2\\u3057\",\"#\\u58c1\\u30a2\\u30fc\\u30c8\",\"#boonkeng\",\"#projectdignity\",\"#artiseverywhere\",\"#\\u30b7\\u30f3\\u30ac\\u30dd\\u30fc\\u30eb\\u6563\\u6b69\",\"#mural\",\"#singaporelifestyle\",\"#sglife\",\"#aphotoaday\",\"#note20ultraphotography\",\"#apad\",\"#jurongpoint\",\"#proudtosupport\",\"#unpretentious\",\"#peranakanfood\",\"#peranakan\",\"#peranakancuisine\",\"#carsharing\",\"#tribecar\",\"#coffeebrew\",\"#specialtycoffee\",\"#kopi\",\"#backformore\",\"#coffeevibes\",\"#walktheworldthroughcoffee\",\"#morningfix\",\"#coffeeisdrug\",\"#latteart\",\"#haha\",\"#coffeeart\",\"#kopimore\",\"#coffeebreak\",\"#specialtycoffeesg\",\"#dreams\",\"#hainanese\",\"#morningcoffee\",\"#coffeeandfriends\",\"#travel2021\",\"#airportfood\",\"#sugarcanejuice\",\"#denial\",\"#lovehawkerfood\",\"#lovesg\",\"#meehoonkway\",\"#telokblangahcrescrentfoodcentre\",\"#hawkerlegacy\",\"#localculture\",\"#localeats\",\"#touristinhomecountry\",\"#localpeople\",\"#ytf\",\"#eatyourvegetables\",\"#cheapeats\",\"#healthyeating\",\"#ricebowl\",\"#dapaoculture\",\"#unescohawkerculture\",\"#covidtakeaway\",\"#singaporefoodscene\",\"#yummydeals\",\"#localfare\",\"#healthyliving\",\"#localcoffee\",\"#flavoursomesoup\",\"#sengkeebakchormee\",\"#weekendcoffee\",\"#sgcoffeefest\",\"#hawkersofsg\",\"#sgkopi\",\"#coffeelover\",\"#yuanyangcoffee\",\"#traditionalcoffee\",\"#coffeeortea\",\"#weekendcoffeesg\",\"#fishmaw\",\"#howilikemycoffee\",\"#braisedmushrooms\",\"#exploringamk\",\"#coffeeislove\",\"#hawkersofsingapore\",\"#traveldiary\",\"#travelathome\",\"#umami\",\"#flavourbomb\",\"#meatball\",\"#sgunited\",\"#\\u624b\\u5de5\\u9762\\u7c89\\u7cbf\",\"#kkitchensg\",\"#chickenball\",\"#handmade\",\"#meehoonkueh\",\"#sgeatout\",\"#bakersimfood\",\"#bakersim\",\"#coffeeshop\",\"#kopifrens\",\"#kopifrensfood\",\"#eatlikeaqueen\",\"#wakerchickensg\",\"#wakerchicken\",\"#travelsoon\",\"#travelgoals\",\"#kopio\",\"#localway\",\"#eatlikealocal\",\"#koreanfriedchicken\",\"#boonlayplace\",\"#ondehondehcake\",\"#glutenfreesg\",\"#coffeeshopsg\",\"#vegansg\",\"#vegetariansg\",\"#agarcakesingapore\",\"#agaragar\",\"#nokonnyaku\",\"#nokonjac\",\"#beoriginal\",\"#beextraordinary\",\"#besurprised\",\"#dessertsg\",\"#localbusiness\",\"#killineykopithiam\",\"#bbqseafood\",\"#hawkerheritage\",\"#city_noms\",\"#nolimit\",\"#malayfood\",\"#fondmemories\",\"#goodmorning\",\"#kuehlover\",\"#kueh\",\"#igsgdrinks\",\"#covid_19singapore\",\"#nasilemakayamtaliwang\",\"#coronavirussingapore\",\"#\\u1d20\\u1d00\\u1d04\\u1d04\\u026a\\u0274\\u1d07ss\\u1d00\\u1d20\\u1d07\\u029f\\u026a\\u1d20\\u1d07s\",\"#openingsoon\",\"#sgfoodtrending\",\"#nasilemakayamtaliwangsg#halalfoodie#halalfoodiesg#halalfood#hawkercentresg#hawkerculturesg\",\"#sgdelights\",\"#smallbusiness\",\"#expatsg\",\"#explore_singapore\",\"#mlxg\",\"#horfun\",\"#groupbuysg\",\"#expatsingapore\",\"#covid_19\",\"#indianexpats\",\"#bestnasilemaksg\",\"#bestnasilemakintown#worththewait\",\"#singaporeanindian\",\"#singaporeanindiannarrative\",\"#localdessert\",\"#top3kwaychapthusfar\",\"#expatlivingsg\",\"#saltedvegetable\",\"#sgopening\",\"#wahoo\",\"#singaporehistory\",\"#laosankwaychap\",\"#sourspicychili\",\"#umamibroth\",\"#coffeeislife\",\"#yuanyangpengsiudai\",\"#whatieatinaday\",\"#butfirstcoffee\",\"#singaporeculture\",\"#tapiocakueh\",\"#kopiculture\",\"#ilovecoffee\",\"#cheeseburgers\",\"#zicharnation\",\"#dapaonation\",\"#fnbsg\",\"#teamfnbsg\",\"#savefnbsg\",\"#sgrestaurants\",\"#sghistory\",\"#kasohsg\",\"#02-048,\",\"#burgers\",\"#beefburgers\",\"#the1950scoffee\",\"#hawkerstall\",\"#chaitaokueh\",\"#foodstall\",\"#urbanphotography\",\"#onsenegg\",\"#donburi\",\"#freshcoconut\",\"#coconut\",\"#prawnomelette\",\"#gluteniousrice\",\"#butterfly\",\"#gorengpisang\",\"#stickycakewithsweetpotato\",\"#janusgoesnomnom\",\"#nomnom\",\"#02-35\",\"#lorbakmama\",\"#saturday\",\"#gubakkia\",\"#sgcoffeeshop\",\"#drinksreviewsg\",\"#yuanyang\",\"#coffeeandtea\",\"#naise\",\"#takeaway\",\"#dabao\",\"#gracefulleejurongeast\",\"#igsgfood\",\"#168currychicken\",\"#thepeaksg\",\"#geylangbriyanistall\",\"#notsponsored\",\"#mobilephotography\",\"#unescointangibleculturalheritage\",\"#foodcomparing\",\"#cheecheongfun\",\"#coffeenation\",\"#sgcoffee\",\"#01-05,\",\"#01-44\",\"#fightofthebestfishballnoodle\",\"#fishball\",\"#gracefulleeTanjongPagar\",\"#braisedduckrice\",\"#kwaychap\",\"#ahsengbraisedduckrice\",\"#serangoongardenfoodcentre\",\"#01-20,\",\"#sengkeemushroommincedmeatnoodle\",\"#uniquelysingapore\",\"#greattastingfood\",\"#rediscoversingapore\",\"#nhbsg\",\"#caifan\",\"#caipng\",\"#xinglongcookedfood\",\"#communitydiningroom\",\"#singaporeidentity\",\"#kopisg\",\"#foodislife\",\"#hawkerculture#hawkerculturesg\",\"#yuanyangpeng\",\"#yypsd\",\"#coffeeartist\",\"#hawkerfood#hawkerfoodsg#hawkercentre\",\"#oneprawnnoodle#\\u4e00\\u865f\\u8766\\u9eb5\",\"#hawkercenter\",\"#munchidelights\",\"#gracefulleeJurongEast\",\"#01-02,\",\"#minjiangkueh\",\"#yishunparkhawkercentre\",\"#pancake\",\"#sweeguanhokkienmee\",\"#foodhunt\",\"#ilikefood\",\"#impressive\",\"#foodreview\",\"#foodexploring\",\"#explorefood\",\"#awesomefood\",\"#goodfood\",\"#sggdfood\",\"#affordable\",\"#hueats\",\"#hungry\",\"#meihueats\",\"#iwannacomebackhere\",\"#lovefood\",\"#liveforfood\",\"#iwillbeback\",\"#porkcutlet\",\"#ionorchard\",\"#whatiatetoday\",\"#madroaster\",\"#kingoffriedrice\",\"#\\u86cb\\u7092\\u98ef\",\"#\\u732a\\u6252\\u996d\",\"#ourhawkerheritage\",\"#02-107,\",\"#whatihadforlunch\",\"#grandpawesternfood\",\"#bersehfoodcentre\",\"#anglohainanesecuisine\",\"#westernhawkerfood\",\"#littleindiasingapore\",\"#newfinds\",\"#kopiandtoast\",\"#maxwellfoodcentre\",\"#kolomee\",\"#tiongbahrumarketandfoodcentre\",\"#01-36,\",\"#02-93\",\"#01-27\",\"#chinatowncomplexfoodcentre\",\"#02-88,\",\"#gracefulleeCommonwealth\",\"#xiujiikanbilisyongtaufu\",\"#gracefulleeKallang\",\"#ahhockfriedhokkienmee\",\"#01-14\",\"#beprepared\",\"#lazarusisland\",\"#katonglaksa\",\"#laska\",\"#beehoon\",\"#ahterfishballnoodles\",\"#stjohnisland\",\"#burpple\",\"#singaporeheritage\",\"#lormeesg\",\"#bainianyongtaufoo\",\"#01-44,\",\"#04-67,\",\"#kopifellas\",\"#lormee\",\"#01-17\",\"#foodgrammer\",\"#01-33,\",\"#angmokiolohmeelaksa\",\"#DCfoodjournal\",\"#\\u0633\\u0646\\u063a\\u0627\\u0641\\u0648\\u0631\\u0629\",\"#\\u0632\\u0648\\u0631\\u0648\\u0627_\\u0633\\u0646\\u063a\\u0627\\u0641\\u0648\\u0631\\u0629\",\"#01-26,\",\"#VisitSingapore.\",\"#unescoworldheritage\",\"#wuxiang\",\"#ngohhiang\",\"#laozhongzhong\",\"#drynoodles\",\"#prawnnoodle\",\"#muffins\",\"#02-32\",\"#muffin\",\"#oneprawnnoodle\",\"#muffinsg\",\"#sliimuffin\",\"#chompchompfoodcentre\",\"#01-93,\",\"#sghawkercentre\",\"#beautyworldcentre\",\"#\\u86cb\\u9999\\u5473\",\"#\\u597d\\u5403\",\"#simple\",\"#fullofflavours\",\"#eggy\",\"#foodtrend\",\"#p2ha\",\"#instafood_sg\",\"#sembawanghillsfoodcentre\",\"#sinhoehuatcafe\",\"#newton\",\"#love\",\"#positive\",\"#chongboonmarket\",\"#yummypigtrotter\",\"#foods\",\"#drawingpassion\",\"#foodpassion\",\"#cartoon\",\"#foodexplorer\",\"#sengkeebakkutteh\",\"#foodrecommendation\",\"#catdrawing\",\"#catlovers\",\"#cat\",\"#angmokio\",\"#bakkutteh\",\"#teochew\",\"#\\u6f6e\\u5dde\\u7f8e\\u98df\",\"#\\u6210\\u8a18\\u8089\\u9aa8\\u8336\",\"#sengkee\",\"#01-01,\",\"#foodillustration\",\"#singaporeteochewfood\",\"#igsgfoodies\",\"#michelinstar\",\"#hillstreettaihwaporknoodles\",\"#01-12,\",\"#wokhei\",\"#satay\",\"#shiok\",\"#hokkienmee\",\"#cantoneseporridge\",\"#oldshifucharcoalporridge\",\"#01-17,\",\"#chickencutlet\",\"#01-101,\",\"#victorfamousfriedchickenwingrice\",\"#oldairportroadfoodcentre\",\"#westernbarbeque\",\"#Hawkercentres\",\"#springleafprataplace\",\"#01-53,\",\"#cheecheongfunclub\",\"#uniquelysg\",\"#local\",\"#ion\",\"#sgfoodiary\",\"#B4-66,\",\"#01-38,\",\"#lifeblogger\",\"#livelife\",\"#livelifetothefullest\",\"#curious\",\"#grateful\",\"#exploration\",\"#lifeblog\",\"#lifestories\",\"#throwback\",\"#hawkerheroes\",\"#bedokmarketplace\",\"#unagi\",\"#japanesedon\",\"#japanese\",\"#mentaiko\",\"#salmonmentaiko\",\"#covid\",\"#ishirosg\",\"#dapao\",\"#1-30.\",\"#supportsghawkers\",\"#unagiricebowl\",\"#justsaying\",\"#ayampenyet\",\"#redcross\",\"#04-44,\",\"#wenkangji\",\"#goldenmile\",\"#wontonnoodles\",\"#wantonnoodles\",\"#bujiantiancharsiew\",\"#1\",\"#drynoodle\",\"#top1handmadenoodle\",\"#whitechicken\",\"#hainesechickenrice\",\"#handmadenoodles\",\"#muslimfood\",\"#bestchickenrice\",\"#localfood\",\"#fishsoup\",\"#famouseunosbakchormee\",\"#ramensg\",\"#anoodlestory\",\"#01-5109,\",\"#llama\",\"#heapsengleong\",\"#curiousaccountant\",\"#01-39\",\"#walkabout\",\"#ljonelrecommends\",\"#sgclean\",\"#roastmeat\",\"#angkukueh\",\"#charsiew\",\"#siobak\",\"#wfh\",\"#hakkacusine\",\"#hawker\",\"#pngkueh\",\"#meerebus\",\"#hawkerculture\",\"#nomsh\",\"#meekia\",\"#noodlesoup\",\"#bedokbarchormee\",\"#nomeatballsplease\",\"#boatquay\",\"#artablyinlove\",\"#tiongbahru\",\"#vegetarian\",\"#sgheritage\",\"#noodles\",\"#instagood\",\"#legacy\",\"#chillicrab\\ud83e\\udd80\",\"#zichardinner\",\"#history\",\"#cuisine\",\"#tbt\",\"#f4f\",\"#phase2\",\"#follow\",\"#like\",\"#youth\",\"#genz\",\"#supporthawkers\",\"#lfl\",\"#chillicrabs\",\"#foodheaven\",\"#brandcodes\",\"#yakiniku\",\"#geylangfood\",\"#japan\",\"#wemissjapan\",\"#tiongbahrufoodcentre\",\"#sghawker\",\"#foodcoma\",\"#hawkersg\",\"#tebangardens\",\"#seafood\",\"#barchor\",\"#alexandravillage\",\"#seafoodsoup\",\"#tebangardensfoodcentre\",\"#prawnmeesoup\",\"#prawnmee\",\"#curryrice\",\"#curry\",\"#hawkercentre\",\"#friedrice\",\"#ramen\",\"#chicken\",\"#delicious\",\"#barchormee\",\"#iphonexs\",\"#streetshooting\",\"#natgeomyshot\",\"#shootoniphone\",\"#iphonephotography\",\"#natgeoyourshot\",\"#sgvegetarians\",\"#yourdailynibbles\",\"#queenstown\",\"#sgfoodblog\",\"#abcbrickworksfoodcentre\",\"#mothersday\",\"#supporthawkerfood\",\"#queenstownfood\",\"#abcbrickworksmarket\",\"#ahgohgohlaksa\",\"#breakfast\",\"#worththecalories\",\"#ghimmoh\",\"#tiongbahrufood\",\"#streetphotography\",\"#thaibasil\",\"#thaibasilchicken\",\"#fishballnoodles\",\"#thaicuisine\",\"#sgfooddiary\",\"#sdphbt\",\"#westernfood\",\"#plqmall\",\"#fishandchips\",\"#yoursdp\",\"#sgfoodieparadise\",\"#hollandbukittimahgrc\",\"#sghawkerfest\",\"#sghawkereats\",\"#banmee\",\"#tomyumdry\",\"#drybanmee\",\"#banmian\",\"#drybanmian\",\"#tomyumdrybanmian\",\"#bukittimahhawkercentre\",\"#tomyum\",\"#longtimenoeat\",\"#sghawkerfare\",\"#newtonfoodcentre\",\"#Singapore\",\"#madaboutsingapore\",\"#bukittimah\",\"#hollandbukittimah\",\"#sglocal\",\"#supporthawker\",\"#wheretodapao\",\"#pigorgansoup\",\"#exploresingapore\",\"#comfortfood\",\"#\\u83dc\\u5934\\u7cbf\",\"#abcmarket\",\"#tebangarden\",\"#tiongbahruhawkercentre\",\"#tiongbahruhawker\",\"#abcfood\",\"#prata\",\"#barchormeesoup\",\"#eunos\",\"#eunosbarchormee\",\"#michelinguide\",\"#tiongbahrumarket\",\"#rotiprata\",\"#eatingfortheinsta\",\"#yapkeewantonmee\",\"#sgfoodporn\",\"#cafefood\",\"#chinesenasilemak\",\"#tanjongpagar\",\"#sgvegetarian\",\"#kinexmallsg\",\"#lifangcongee\",\"#yuzu\",\"#yummydinner\",\"#brunch\",\"#cafesg\",\"#indulgence\",\"#zichar\",\"#zicharsg\",\"#honglimfoodcentre\",\"#\\u7504\\u597d\\u5403\",\"#singaporefoodculture\",\"#chinhogaixiao\",\"#chinhojiak\",\"#\\u7504\\u597d\\u4ecb\\u7ecd\",\"#sgfoodie\",\"#prawnnoodles\",\"#lixinteochewfishballnoodle\",\"#blessed\",\"#shiokfoodsg\",\"#singaporefoodporn\",\"#nourishyoursoul\",\"#sgbreakfast\",\"#foodpornography\",\"#sgfoodhunter\",\"#instafood\",\"#chickenpot\",\"#serangoon\",\"#P2HA\",\"#serangoonfood\",\"#tabaolunch\",\"#sglocaleats\",\"#yummylunch\",\"#hawkerfood\",\"#timsum\\u70b9\\u5fc3\",\"#oystermeesua\\u86b5\\u4ed4\\u9762\\u7ebf\",\"#sgcafe\",\"#sgfoodpic\",\"#sgrestaurant\",\"#meepok\",\"#paofan\",\"#fishballnoodle\",\"#\\u6ce1\\u996d\",\"#ahmachimian\",\"#yummy\",\"#sghawkerculture\",\"#localjiak\",\"#vegetarianbeehoon\",\"#amoy\",\"#redhill\",\"#\\u5403\\u4e0d\\u5230\\u4e0d\\u8981\\u602a\\u6211\",\"#dumplings\",\"#veg_littledragon\",\"#wanton\",\"#redhillcoffeeshop\",\"#amoyfoodcentre\",\"#meepokdry\",\"#locateats\",\"#foodie\",\"#igfood\",\"#jalanbesar\",\"#hainanesecurryrice\",\"#toapayoh\",\"#toapayohfood\",\"#claypot\",\"#scissorscutcurryrice\",\"#toapayohhawker\",\"#songkeefishball\",\"#toapayohcoffeeshop\",\"#sgstreetcollective\",\"#everydayasia\",\"#womeninstreet\",\"#wetmarket\",\"#singaporestreetphotography\",\"#peopleofsingapore\",\"#nasilemakayam\",\"#changivillagehawkercentre\",\"#watercolour\",\"#watercoloursketch\",\"#clementi\",\"#localdelicacy\",\"#urbansketcher\",\"#travelsketchers\",\"#clementifoodcentre\",\"#clementifood\",\"#clementihawker\",\"#\\u6cb9\\u9e21\\u9762\",\"#dinner\",\"#womeninstreetsg\",\"#femalephotographers\",\"#fochroad\",\"#streetphotographytribe\",\"#soysaucechicken\",\"#\\u661f\\u969b\\u5bf6\\u8c9d\",\"#soysaucechickennoodle\",\"#\\u30b9\\u30c6\\u30a3\\u30c3\\u30c1\",\"#fujifilm\",\"#xt3\",\"#womenstreetphotographers\",\"#streetphotographer\",\"#streetstorytelling\",\"#fromstreetswithlove\",\"#friendsinstreets\",\"#wearethestreets\",\"#moments_in_streetlife\",\"#streethunters\",\"#sg_street_collective\",\"#xhhawker\",\"#life_is_street\",\"#hawkerculturesg\",\"#8dayseatout\",\"#foodstamping\",\"#eatsg\",\"#hawkersinwatercolours\",\"#nyonyafusion\",\"#rendangchicken\",\"#xpphawker\",\"#butterflypea\",\"#culturespoonsg\",\"#coworkingkitchen\",\"#bluepea\",\"#\\u7c73\\u5176\\u6797\\u4e00\\u661f\",\"#chinesefood\",\"#chinese\",\"#zicharfood\",\"#foodphotography\",\"#jixiangangkukueh\",\"#nasilemak\",\"#\\u5409\\u7965\\u7ea2\\u9f9f\\u7cbf\",\"#\\u7ea2\\u9f9f\\u7cbf\",\"#yongtaufoodry\",\"#tanglinhalttraditionalpeanutpancake\",\"#\\u6708\\u5149\\u6cb3\\u7c89\",\"#tanglinhaltfoodcentre\",\"#sgheritagefood\",\"#peanutpancake\",\"#michiamkueh\",\"#stayhomestaysafe\\ud83c\\udfe0\",\"#staypositive\\ud83d\\udcaf\",\"#fruitsrojak\",\"#saltedbeanpancake\",\"#superwokhey\",\"#sghawkerfood\",\"#singaporeeats\",\"#localdelights\",\"#abchawkercentre\",\"#taiwanesefood\",\"#foodpornsg\",\"#\\u7092\\u996d\",\"#claypotcurrychicken\",\"#sgeats\",\"#whatieatforlunch\",\"#bakchormee\",\"#oldschooltaste\",\"#singaporehawkerfood\",\"#byo\",\"#hokkienprawnmee\",\"#ghimmohfoodcentre\",\"#capturestreets\",\"#seafoodhorfun\",\"#fooddiarysg\",\"#claypotrice\",\"#\\u6c99\\u7239\",\"#\\u6625\\u8054\",\"#greatcatchup\",\"#thankful\",\"#\\u4e00\\u5f97\\u9601\",\"#meesiam\",\"#\\u4e00\\u5f97\\u9601\\u58a8\\u6c41\",\"#\\u6bdb\\u7b14\",\"#\\u7ea2\\u7eb8\",\"#\\u6977\\u4e66\",\"#\\u5c0f\\u8d29\",\"#singaporefood\",\"#ourhawkerculture\",\"#SgHawkerFood\",\"#eat3bowlssg\",\"#GoldenMileFoodCentre\",\"#BenEatsApr2021\",\"#bubbletea\",\"#YouFuHokkienMeeSG\",\"#luruofan\",\"#hawkerfoodsg\",\"#hillstreettaihwaporknoodle\",\"#michelinsg\",\"#sgfoodunion\",\"#instagramsg\",\"#exploresingaporeeat\",\"#\\u76f8\\u6a5f\\u5148\\u98df\",\"#cameraeatsfirst\",\"#\\u73a9\\u5177\\u651d\\u5f71\",\"#toyinstagra\",\"#sgigers\",\"#\\u5c0f\\u8d29\\u4e2d\\u5fc3\",\"#sgfoodgram\",\"#sgfoodpics\",\"#sgfoodshares\",\"#\\u5403\\u8d27\",\"#sgfoodshare\",\"#jrecollectionfood\",\"#\\u869d\\u714e\",\"#\\u869d\\u714e\\ud83c\\udf73\",\"#peoplesparkfoodcentre\",\"#oysterlover\",\"#friedoysters\",\"#friedoyster\",\"#foodpictures\",\"#foodpicture\",\"#shotbyiphone\",\"#oysterlovers\",\"#foodpic\",\"#foodiesoninstagram\",\"#sgfood\",\"#fooddiary\",\"#covidlifestyle\",\"#prelockdownlife\",\"#wontonmee\",\"#lifeinsingapore\",\"#twgrammersy\",\"#instamagazine\",\"#illgrammers\",\"#nikonphotography\",\"#igersone\",\"#nikonsg\",\"#shoot2kill\",\"#imaginatones\",\"#urbanstreet\",\"#nikonz7\",\"#streetgrammers\",\"#streetshots\",\"#sgphotographer\",\"#street_gallery\",\"#singaporestreetscape\",\"#streetframe\",\"#streetvision\",\"#chinatownsg\",\"#exploretocreate\",\"#bepositive\",\"#\\u5370\\u5ea6\\u714e\\u997c\",\"#kosong\",\"#cityscape\",\"#rotiprataegg\",\"#neverstopexploring\",\"#urbangallery\",\"#eidilfitri\",\"#hariraya\",\"#kayabuttertoast\",\"#softboiledeggs\",\"#limkopi\",\"#rwp\",\"#rayyanswaroengupnormal\",\"#staysafe\",\"#halalsg\",\"#amoystreetfoodcentre\",\"#amoystreetfoodcenter\",\"#stayhealthy\",\"#eidmubarak\",\"#janggutlaksa\",\"#movingplates\",\"#otah\",\"#laksa\",\"#sgfoodies\",\"#chinatown\",\"#changicitypoint_sg\",\"#linoprinting\",\"#printmakingstudio\",\"#printmakingart\",\"#linoleumprint\",\"#linocutting\",\"#printmaker\",\"#printstudio\",\"#print\",\"#prints\",\"#printmaking\",\"#lino\",\"#Congress\",\"#Seafood\",\"#prawns\",\"#pasirris\",\"#seafoodcongee\",\"#supportlocal\",\"#yongtaufoo\",\"#yummyfood\",\"#supporthawkersg\",\"#ironfrogpress\",\"#braisedduck\",\"#lunchtime\",\"#SupportLocal\",\"#CoffeeAroma\",\"#SgVibes\",\"#OurCoffeeshopFood\",\"#\\u5c0f\\u65e5\\u5b50\",\"#\\u9c7c\\u4e38\\u9762\",\"#\\u9c7c\\u5706\\u9762\",\"#\\u5496\\u5561\\u5e97\\u5403\\u559d\",\"#\\u65e9\\u5b89\\u5496\\u5561\",\"#FishballNoodles\",\"#foodstagram\",\"#linoprint\",\"#linocut\",\"#linocutprint\",\"#whattoeat\",\"#cranfieldcolours\",\"#awagamipaper\",\"#dabaosg\",\"#singaporeinsiders\",\"#awagami\",\"#food\",\"#kiiroitori\",\"#rilakkuma\",\"#orhluaksg\",\"#oysteromellete\",\"#oyster\",\"#\\u677e\\u5f1b\\u718a\",\"#\\u30ea\\u30e9\\u30c3\\u30af\\u30de\",\"#\\u30b3\\u30ea\\u30e9\\u30c3\\u30af\\u30de\",\"#\\u30ad\\u30a4\\u30ed\\u30a4\\u30c8\\u30ea\",\"#orhluak\",\"#korilakkuma\",\"#sgfoodtrend\",\"#coffee\",\"#yearendthanks\",\"#travelsketching\",\"#watercolorsketchbook\",\"#sgfoodstagram\",\"#supportlocalsg\",\"#whati8today\",\"#sghawkers\",\"#urbansketching\",\"#foodgram\",\"#urbansketch\",\"#usksg\",\"#usk\",\"#traditionalsnacks\",\"#tanglinhalt\",\"#carrotcake\",\"#lunch\",\"#sgfoodblogger\",\"#bcm\",\"#foodforthought\",\"#foodbloggerSG\",\"#foodgramsg\",\"#meepoktah\",\"#mincedporknoodles\",\"#foodies\",\"#livetoeat\",\"#singapore\",\"#foodporn\",\"#instafoodsg\",\"#amkfood\",\"#singaporefoodie\",\"#shiokfoodfind\",\"#igsg\",\"#eatersg\",\"#sgdining\",\"#igfoodies\",\"#eeeeeats\",\"#foodinstagram\",\"#delish\",\"#thesingaporefoodbutler\",\"#eatingforinsta\",\"#zerowastelifestyle\",\"#ecofriendlyliving\",\"#sustainablelivingsg\",\"#internationalfoodieschat\",\"#zerowaste\",\"#\\u74b0\\u5883\\u554f\\u984c\",\"#foodtogo\",\"#reuserevolution\",\"#\\u4e0d\\u5851\\u4e4b\\u5ba2\",\"#\\u51cf\\u5851\\u751f\\u6d3b\",\"#\\u7121\\u75d5\\u98f2\\u98df\",\"#noplastic\",\"#BYOsuccess\",\"#packagefree\",\"#refuseplastic\",\"#channelnewsasia\",\"#foodiesg\",\"#koreanfood\",\"#durian\",\"#visitsingapore\",\"#wantonmee\",\"#byoc\",\"#chickenrice\",\"#sginstagram\",\"#byocontainer\",\"#reusablenotdisposable\",\"#byosg\",\"#yummylocalfare\",\"#wavebye21\",\"#DaJie\",\"#DaJieBedok\",\"#DaJieMakanPlace\",\"#DaJieNiangDouFu\",\"#sghalal\",\"#halalfoodsg\",\"#8DaysEat\",\"#SgHeritageFood\",\"#yongtaufu\",\"#\\u91c0\\u8c46\\u8150\",\"#hakkayongtaufoo\",\"#ampangyongtaufoo\",\"#01-71\",\"#mala\",\"#\\u9ebb\\u8fa3\\u9999\\u9505\",\"#kampungfriedrice\",\"#simpangbedok\",\"#\\u5496\\u5561\\u9999\",\"#supportsmallbusiness\",\"#\",\"#goldenmilefoodcentre\",\"#nosingleuseplastic\",\"#ecofriendly\",\"#sustainablesg\",\"#popiah\",\"#foodreviewssg\",\"#lunchtimesg\",\"#igdaily\",\"#ibringmyownsg\",\"#byosingapore\",\"#localfoodsg\",\"#muralart\",\"#wallart\",\"#sgigfoodies\",\"#foodshare\",\"#singapore\\ud83c\\uddf8\\ud83c\\uddec\",\"#sgfoodphotography\",\"#foodlovers\",\"#foodgasm\",\"#ilovehawkerfood\",\"#simsvista\",\"#friedcarrotcake\",\"#greenchilichickenrice\",\"#flightmeal\\u2708\\ufe0f\",\"#airlinefoodselfie\",\"#joyousdec21\",\"#simsvistamarketandfoodcentre\",\"#hawkers\",\"#friedchicken\",\"#foodblogger\",\"#foodlover\",\"#foodiesofinstagram\",\"#SupportLocalSg\",\"#singaporean\",\"#singaporelife\",\"#sgdaily\",\"#sginfluencer\",\"#\\u8089\\u9aa8\\u8336\",\"#HawkercultureSg\",\"#burpplesg\",\"#sgfoodreview\",\"#hawkerfare\",\"#sgfoodlover\",\"#thefoodiesinitiative\",\"#charkwayteowsg\",\"#01-13\",\"#\\u597d\\u597d\\u5403\\u996d\",\"#GoodEats\",\"#CKT\",\"#LetsEatAndPlay\",\"#SeeSeeEatEat\",\"#\\u84dd\\u5929\\u767d\\u4e91\",\"#sgfoodiegram\",\"#HawkerCultureSg\",\"#foodpics\",\"#supportlocalbusiness\",\"#instadaily\",\"#natgeoasia\",\"#OurHawkerCulture\",\"#WhatMakesSG\",\"#HawkerFood\",\"#ExploreSG\",\"#YourSingapore\",\"#HawkerCenter\",\"#eatoutsg\",\"#porridge\",\"#yoursingapore\",\"#mooping\",\"#Singaporeinsiders\",\"#korean\",\"#koreanfoodlovers\",\"#foodprep\",\"#trending\",\"#training\",\"#travelpics\",\"#koreanfoodsg\",\"#korea\",\"#stfoodtrending\",\"#malaysiastreetfood\",\"#streetfoodsg\",\"#sgloklok\",\"#loklok\",\"#sgffxhawkerpicks\",\"#LokLokKingSg\",\"#LokLokKing\",\"#sgfoodhunt\",\"#BBQ\",\"#BCM\",\"#hawkerFavourite\",\"#NewtonCircus\",\"#NewtonFood\",\"#\\u5403\\u8d27\\u6700\\u68d2\",\"#neighbourhoodsg\",\"#whatlingeats\",\"#SingaporeFoodie\",\"#\\u7ebd\\u987f\",\"#\\u65b0\\u52a0\\u5761\\u7f8e\\u98df\",\"#\\u65b0\\u52a0\\u5761\\u53cc\\u8bed\\u7f8e\\u98df\\u5e93\",\"#\\u53cc\\u8bed\\u7f8e\\u98df\\u5e93\",\"#\\u7ebd\\u987f\\u719f\\u98df\\u4e2d\\u5fc3\",\"#\\u8089\\u811e\\u9762\",\"#\\u70e4\\u867e\",\"#\\u998b\\u5634\\u53cc\\u5154\",\"#eatatNewton\",\"#\\u8d8a\\u6765\\u8d8a\\u5b85\",\"#foodspotting\",\"#8dayseat\",\"#japanesefood\",\"#sgigfood\",\"#discoverunder10k.\",\"#foodvibes\",\"#mediainvite\",\"#sgtastebud\",\"#sgigfoodporn\",\"#thisissingapore\",\"#foodinsg\",\"#eatbooksg\",\"#whatissingapore\",\"#travelblogger\",\"#traveladdict\",\"#foodart\",\"#foodiegram\",\"#foodstylist\",\"#sg\",\"#travel\",\"#travelphotography\",\"#charkwayteow\",\"#HawkerCultureSG\",\"#foodsg\",\"#hawkercentrefood\",\"#localtravel\",\"#sgtravelblogger\",\"#singaporecity\",\"#singapore_insta\",\"#sgphotoshoot\",\"#sgphotography\",\"#hawkercentres\",\"#singaporetrip\",\"#singaporetravel\",\"#sginstagrammers\",\"#leekuanyewtribute\",\"#hawkercentresg\",\"#leehsienloong\",\"#wallpainting\",\"#muralartist\",\"#localtrails\",\"#wallmural\",\"#leekuanyew\",\"#murals\",\"#fooddeliverysg\",\"#hotpot\",\"#travelawesome\",\"#haidilao\",\"#haidilaosingapore\",\"#foodbloggers\",\"#foodstyling\",\"#cheap\",\"#support\",\"#foodblog\",\"#kopitiam\",\"#sgig\",\"#jiaksimipng\",\"#jiaklocal\",\"#instasg\",\"#zionriverside\",\"#01-26\",\"#hawkerCultureSG\",\"#tedsingapore\",\"#hainanesechickenrice\",\"#exploreSG\",\"#whatmakesSG\",\"#thankyouhawkers\",\"#instasgsunday10pm\",\"#instasgSundayOurHawkers\",\"#communityfirst\",\"#\\u652f\\u6301\\u5c0f\\u8d29\\u6587\\u5316\",\"#\\u7c73\\u5176\\u6797\\u5fc5\\u6bd4\\u767b\\u63a8\\u85a6\",\"#bibgourmand2021\",\"#\\u4ece\\u5bb9\",\"#BakKutTeh\",\"#SgFoodie\",\"#JooSiahBKT\",\"#\\u5c0f\\u78ba\\u5e78\",\"#CoffeeShopEats\",\"#FoodieSg\",\"#globaleats\",\"#oldschool\",\"#whati8todaysg\",\"#yishunfood\",\"#sgblogger\",\"#01-235,\",\"#beefbrisketnoodle\",\"#chefkin\",\"#bakchormee#yishunparkhawkercentre#meekia#meekiadry#chashu#chashupork#porkball#porkballs#fishball#mincedpork#mincedmeat#noodles#porklard#onsenegg#egg#porkfat#saucynoodles#hawkers#hawkerculture#hawkerculturesg#sgfoodie#sgfoodies#sgfoodporn#foodporn#sgeats\",\"#01-27,\",\"#iluvsg\",\"#foodiesinternationalchat\",\"#yishun\",\"#porridgesg\",\"#kekoumian\",\"#yishuneats\",\"#Grab50thHawkerCentre\",\"#GrabforGood\",\"#grabfood\",\"#thefoodieinitiative\",\"#travelgram\",\"#friedchickenwings\",\"#koungwantonmee\",\"#geylang\",\"#instafoodie\",\"#singaporetimes\",\"#tonkatsu\",\"#maruhachi\",\"#sembawang\",\"#foodpornasia\",\"#eatnowburnnexttime\",\"#foodiesofig\",\"#foodphotographer\",\"#foodforfoodies\",\"#SingaporeFood\",\"#foodofinstagram\",\"#SGFoodies\",\"#citygrammers\",\"#safrasg\",\"#raw_snap_morning\",\"#\\u5b57\\u8ff0\\u4e00\\u5e742021\",\"#\\u5b57\\u8ff0\\u4e00\\u5e74\",\"#rediscoversg\",\"#beautifuldestinations\",\"#instagood10\",\"#killeverygram\",\"#sghome\",\"#portraitphotography\",\"#raw_community\",\"#coffeeaddict\",\"#snapwithcanon\",\"#instagram\"],\"xaxis\":\"x\",\"y\":[-1.0,-1.0,-1.0,-1.0,-1.0,-1.0,-1.0,-1.0,-1.0,-1.0,-1.0,-1.0,-1.0,-1.0,1.0,1.0,1.0,1.0,1.5,2.0,2.0,2.0,2.0,2.0,2.0,2.0,3.0,3.0,3.0,3.0,3.0,3.0,3.0,3.0,3.0,3.0,3.0,3.0,3.0,3.0,3.0,3.0,3.0,3.0,4.0,4.0,4.0,4.0,5.0,5.0,5.0,5.0,5.333333333333333,5.333333333333333,5.333333333333333,5.666666666666667,6.0,6.0,6.333333333333333,6.333333333333333,6.333333333333333,6.333333333333333,6.333333333333333,6.333333333333333,6.333333333333333,6.333333333333333,6.333333333333333,6.333333333333333,6.333333333333333,6.5,7.0,7.0,7.0,7.0,7.0,7.0,7.0,7.0,7.0,7.0,7.0,7.0,7.0,7.0,7.0,7.0,7.0,7.0,7.0,7.0,7.0,7.666666666666667,8.0,8.0,8.0,8.0,8.0,8.0,8.0,9.5,9.5,10.0,10.0,10.0,10.0,10.0,10.0,10.0,10.0,10.0,10.0,10.0,10.0,10.0,10.2,10.4,10.5,10.5,10.5,10.5,10.5,10.5,10.5,10.5,10.5,10.5,10.5,10.857142857142858,11.0,11.0,11.0,11.0,11.0,11.0,11.0,11.0,11.0,11.0,11.5,12.0,12.0,12.0,12.0,12.0,12.0,12.0,12.0,12.0,12.0,12.0,12.0,12.0,12.0,12.0,12.0,12.0,12.0,12.0,12.0,12.0,12.0,12.0,12.0,12.0,12.0,12.0,12.0,12.0,12.0,12.0,12.5,12.5,12.5,12.5,13.0,13.5,13.666666666666666,13.666666666666666,14.0,14.0,14.0,14.0,14.0,14.0,14.0,14.0,14.0,14.0,14.0,14.0,14.0,14.0,14.0,14.0,14.0,14.333333333333334,15.0,15.0,15.0,15.0,16.0,16.0,16.0,16.0,16.0,16.0,16.0,16.0,16.0,16.0,16.0,16.0,16.0,16.0,16.0,16.0,16.0,16.0,16.0,16.0,16.0,16.0,16.5,16.5,16.666666666666668,17.0,17.0,17.0,17.0,17.0,17.0,17.0,17.0,17.0,17.0,17.0,17.0,18.0,18.0,18.0,18.0,18.0,18.0,18.0,18.0,18.0,18.0,18.0,18.0,18.0,18.0,18.0,18.0,18.0,18.0,18.0,18.0,18.5,19.0,19.0,19.0,19.0,19.0,19.0,19.0,19.333333333333332,19.333333333333332,19.333333333333332,19.333333333333332,19.333333333333332,19.333333333333332,19.333333333333332,19.333333333333332,19.333333333333332,19.333333333333332,19.333333333333332,19.333333333333332,19.333333333333332,19.333333333333332,19.333333333333332,19.333333333333332,19.333333333333332,20.0,20.0,20.0,20.0,20.0,20.0,20.0,20.0,20.0,20.0,20.0,20.0,20.0,20.0,20.0,20.0,20.166666666666668,20.5,20.5,21.0,21.0,21.0,21.0,21.0,21.0,21.0,21.0,21.0,21.0,21.0,21.0,21.0,21.0,21.0,21.0,21.0,21.0,21.2972972972973,22.0,22.0,22.0,22.0,22.0,22.0,22.0,22.0,22.0,22.0,22.0,22.61764705882353,23.0,23.0,23.0,23.0,23.0,24.0,24.0,24.0,24.0,24.0,24.0,24.0,24.0,24.0,24.0,24.0,24.0,24.0,24.0,24.5,25.0,25.0,25.0,25.0,25.0,25.0,25.0,25.0,25.0,25.0,25.0,25.0,25.0,25.0,25.0,25.0,25.0,25.0,25.0,25.0,25.0,25.0,25.0,25.0,25.0,25.0,25.0,25.0,25.0,25.0,25.0,25.0,25.0,25.0,25.0,25.0,25.0,25.0,25.0,25.5,25.5,25.8,26.0,26.0,26.0,26.0,26.0,26.0,26.0,26.0,26.0,26.0,26.0,26.0,26.0,26.0,26.0,26.0,26.0,26.0,26.428571428571427,26.428571428571427,26.428571428571427,26.428571428571427,26.428571428571427,26.428571428571427,26.428571428571427,26.428571428571427,26.5,27.0,27.0,27.0,27.0,27.0,27.0,27.0,27.0,27.0,27.0,27.0,27.0,27.0,27.0,27.0,27.0,27.0,27.0,27.0,27.0,27.0,27.0,27.0,27.0,27.0,27.0,27.0,27.0,27.0,27.0,27.333333333333332,27.5,28.0,29.0,29.0,29.0,29.0,29.0,29.0,29.0,29.0,30.0,30.0,30.0,30.0,30.0,30.0,30.0,30.0,30.23076923076923,30.3,30.333333333333332,30.894736842105264,31.0,31.0,31.0,31.0,31.0,31.0,31.0,31.333333333333332,31.5,31.5,31.875,32.0,32.0,32.0,32.0,32.0,32.0,32.0,32.0,32.0,32.0,32.0,32.0,32.0,32.0,32.0,32.0,32.5,32.666666666666664,33.0,33.0,33.0,33.0,33.0,33.13636363636363,33.5,33.78333333333333,34.0,34.0,34.0,34.0,34.0,34.0,34.0,34.0,34.5,34.5,34.56716417910448,35.0,35.0,35.0,35.25,35.5,36.0,36.0,36.0,36.0,36.0,36.0,36.0,36.0,36.0,36.0,36.0,36.0,36.0,36.0,36.0,36.0,36.0,36.5,36.5,36.5,36.8,37.0,37.0,37.0,37.0,37.48936170212766,38.0,38.0,38.0,38.0,38.0,38.0,38.0,38.0,38.0,38.0,38.0,38.0,38.0,38.0,38.0,38.0,38.0,38.0,38.0,38.0,38.0,38.0,38.0,38.0,38.0,38.03703703703704,38.714285714285715,39.0,39.0,39.333333333333336,39.5,39.5,40.0,40.0,40.0,40.0,40.0,40.0,40.0,40.0,40.0,40.0,40.333333333333336,40.666666666666664,40.666666666666664,40.93478260869565,41.0,41.0,41.0,41.0,41.0,41.0,41.0,41.0,41.0,41.0,41.0,41.4,41.5,41.5,41.68421052631579,41.68421052631579,41.68421052631579,41.68421052631579,41.68421052631579,41.91150442477876,42.0,42.0,42.0,42.333333333333336,42.333333333333336,42.333333333333336,42.333333333333336,42.333333333333336,42.333333333333336,42.8421052631579,43.0,43.0,43.0,43.0,43.0,43.5,43.5,43.58378378378379,44.0,44.0,44.142857142857146,44.5,44.666666666666664,44.666666666666664,45.0,45.0,45.0,45.0,45.111111111111114,45.30952380952381,45.94117647058823,46.0,46.0,46.0,46.0,46.0,46.0,46.0,46.0,46.0,46.0,46.08571428571429,46.30434782608695,46.714285714285715,47.0,47.0,47.0,47.0,47.0,47.0,47.0,47.0,47.0,47.0,47.0,47.0,47.0,47.0,47.0,47.0,47.0,47.0,47.0,47.0,47.0,47.0,47.0,47.0,47.0,47.0,47.0,47.0,47.0,47.0,47.0,47.0,47.0,47.0,47.0,47.0,47.0,47.0,47.0,47.0,47.0,47.0,47.0,47.0,47.0,47.0,47.0,47.0,47.0,47.33571428571429,47.5,47.5,47.53846153846154,48.0,48.0,48.0,48.0,48.0,48.0,48.0,48.0,48.0,48.2,48.2,48.75,49.0,49.0,49.0,49.0,49.0,49.0,49.0,49.0,49.0,49.0,49.0,49.0,49.0,49.0,49.0,49.0,49.0,49.23863636363637,49.5,49.714285714285715,50.0,50.0,50.0,50.0,50.0,50.11578947368421,50.25,50.4,50.5,50.714285714285715,51.0,51.0,51.0,51.0,51.0,51.0,51.5,52.0,52.0,52.0,52.0,52.0,52.0,52.0,52.0,52.0,52.0,52.0,52.02962962962963,52.74193548387097,53.0,53.0,53.0,53.0,53.0,53.0,53.0,53.36144578313253,53.666666666666664,53.666666666666664,53.666666666666664,53.666666666666664,53.666666666666664,53.666666666666664,53.666666666666664,53.666666666666664,53.666666666666664,53.666666666666664,54.0,54.0,54.0,54.0,54.0,54.0,54.0,54.0,54.0,54.0,54.0,54.0,54.0,54.0,54.0,54.0,54.0,54.0,54.0,54.16546762589928,54.5,55.0,55.0,55.0,55.0,55.0,55.0,55.0,55.0,55.0,55.0,55.0,55.0,55.0,55.0,55.0,55.0,55.0,55.0,55.0,55.0,55.0,55.0,55.0,55.0,55.0,55.0,55.0,55.0,55.0,55.0,56.0,56.0,56.0,56.0,56.0,56.0,56.0,56.0,56.0,56.0,56.0,56.0,56.0,57.0,57.0,57.0,57.5,57.9390243902439,58.0,58.0,58.89473684210526,58.89473684210526,58.89473684210526,58.89473684210526,58.89473684210526,58.89473684210526,58.89473684210526,58.89473684210526,58.89473684210526,58.89473684210526,59.91891891891892,60.0,60.0,60.0,60.0,60.0,60.27777777777778,60.5,61.0,61.333333333333336,61.9375,62.0,62.0,62.0,62.0,62.0,62.0,62.0,62.0,62.0,62.0,62.0,62.0,62.638888888888886,62.80769230769231,62.80769230769231,62.80769230769231,63.5,64.0,64.0,64.33333333333333,65.25,65.33333333333333,65.55555555555556,66.0,66.0,66.0,66.0,66.0,66.0,66.0,66.0,66.0,66.0,66.0,66.18518518518519,66.75,67.0,67.0,67.0,67.45454545454545,67.75862068965517,68.07692307692308,68.26315789473684,68.5,69.25,70.0,70.0,70.0,70.0,70.0,70.2,70.42857142857143,70.71698113207547,73.0,73.0,73.0,73.0,73.0,73.0,73.16666666666667,74.25,74.82352941176471,75.03030303030303,76.86538461538461,78.0,78.075,79.6,81.88888888888889,83.0,83.0,83.0,83.0,83.0,83.0,83.0,83.0,83.0,83.0,83.0,83.0,83.0,83.0,83.0,83.0,83.0,83.0,83.0,83.0,83.0,83.0,83.0,88.0,88.44444444444444,89.5,90.5,91.2,91.22222222222223,91.33333333333333,93.75,95.25,95.5,95.5,95.5,98.0,98.0,100.0,100.0,100.0,100.0,100.0,100.0,100.0,100.0,100.0,100.0,100.0,100.0,100.0,100.0,100.0,100.0,100.0,106.0,106.44444444444444,107.33333333333333,107.66666666666667,108.0,108.0,108.0,108.0,108.0,108.0,108.0,108.0,108.0,108.0,109.5,109.5,109.5,112.2,115.0,116.0,120.5,121.16666666666667,123.0,123.0,123.0,123.0,123.0,123.0,123.0,123.0,123.5,123.5,123.9,124.0,127.5,128.5,131.66666666666666,131.7,134.0,135.0,135.0,135.5,138.46666666666667,145.5,145.5,145.77777777777777,149.0,149.0,149.0,150.0,150.0,150.0,150.0,150.0,150.0,151.0,152.33333333333334,153.2,159.66666666666666,160.33333333333334,163.0,163.0,163.0,163.0,163.0,163.0,163.0,164.5,165.0,169.75,171.0,171.0,171.0,171.0,171.0,171.0,171.0,171.0,171.0,171.0,171.0,171.0,171.0,171.0,171.0,171.0,171.0,171.0,174.5,175.0,175.0,175.0,175.0,175.0,175.0,175.0,175.0,175.0,175.0,175.0,175.0,175.0,175.0,175.0,175.0,175.0,175.0,175.0,175.66666666666666,182.1818181818182,184.0,193.4,194.0,194.0,194.0,194.0,194.0,194.75,196.5,198.75,199.0,199.5,199.5,200.5,205.0,209.66666666666666,209.66666666666666,209.66666666666666,209.66666666666666,210.5,218.0,219.22222222222223,220.0,220.0,220.0,220.0,220.0,220.0,220.0,220.0,220.0,220.0,220.0,220.0,220.0,220.0,220.0,220.0,220.0,220.0,220.0,220.0,223.0,228.0,228.0,228.0,228.0,228.0,229.0,230.0,230.0,230.0,230.0,231.6,232.75,232.75,237.0,238.0,238.0,239.0,239.0,239.0,239.0,239.0,239.0,239.0,239.0,239.0,245.0,245.0,245.0,245.0,245.0,245.0,245.0,245.0,245.0,245.0,253.28571428571428,254.0,255.0,255.0,255.0,255.0,255.0,255.0,257.0,257.0,259.0,259.14285714285717,270.0,270.0,270.0,270.0,275.0,275.0,275.0,277.5,279.0,279.6666666666667,289.0,289.0,300.0,338.5,341.0,341.0,341.0,361.0,361.0,361.0,361.0,361.0,361.0,361.0,361.0,438.0,438.0,438.0,438.0,438.0,438.0,438.0,438.0,438.0,438.0,438.0,438.0,438.0,438.0,438.0],\"yaxis\":\"y\",\"type\":\"scattergl\"}],                        {\"template\":{\"data\":{\"bar\":[{\"error_x\":{\"color\":\"#2a3f5f\"},\"error_y\":{\"color\":\"#2a3f5f\"},\"marker\":{\"line\":{\"color\":\"#E5ECF6\",\"width\":0.5},\"pattern\":{\"fillmode\":\"overlay\",\"size\":10,\"solidity\":0.2}},\"type\":\"bar\"}],\"barpolar\":[{\"marker\":{\"line\":{\"color\":\"#E5ECF6\",\"width\":0.5},\"pattern\":{\"fillmode\":\"overlay\",\"size\":10,\"solidity\":0.2}},\"type\":\"barpolar\"}],\"carpet\":[{\"aaxis\":{\"endlinecolor\":\"#2a3f5f\",\"gridcolor\":\"white\",\"linecolor\":\"white\",\"minorgridcolor\":\"white\",\"startlinecolor\":\"#2a3f5f\"},\"baxis\":{\"endlinecolor\":\"#2a3f5f\",\"gridcolor\":\"white\",\"linecolor\":\"white\",\"minorgridcolor\":\"white\",\"startlinecolor\":\"#2a3f5f\"},\"type\":\"carpet\"}],\"choropleth\":[{\"colorbar\":{\"outlinewidth\":0,\"ticks\":\"\"},\"type\":\"choropleth\"}],\"contour\":[{\"colorbar\":{\"outlinewidth\":0,\"ticks\":\"\"},\"colorscale\":[[0.0,\"#0d0887\"],[0.1111111111111111,\"#46039f\"],[0.2222222222222222,\"#7201a8\"],[0.3333333333333333,\"#9c179e\"],[0.4444444444444444,\"#bd3786\"],[0.5555555555555556,\"#d8576b\"],[0.6666666666666666,\"#ed7953\"],[0.7777777777777778,\"#fb9f3a\"],[0.8888888888888888,\"#fdca26\"],[1.0,\"#f0f921\"]],\"type\":\"contour\"}],\"contourcarpet\":[{\"colorbar\":{\"outlinewidth\":0,\"ticks\":\"\"},\"type\":\"contourcarpet\"}],\"heatmap\":[{\"colorbar\":{\"outlinewidth\":0,\"ticks\":\"\"},\"colorscale\":[[0.0,\"#0d0887\"],[0.1111111111111111,\"#46039f\"],[0.2222222222222222,\"#7201a8\"],[0.3333333333333333,\"#9c179e\"],[0.4444444444444444,\"#bd3786\"],[0.5555555555555556,\"#d8576b\"],[0.6666666666666666,\"#ed7953\"],[0.7777777777777778,\"#fb9f3a\"],[0.8888888888888888,\"#fdca26\"],[1.0,\"#f0f921\"]],\"type\":\"heatmap\"}],\"heatmapgl\":[{\"colorbar\":{\"outlinewidth\":0,\"ticks\":\"\"},\"colorscale\":[[0.0,\"#0d0887\"],[0.1111111111111111,\"#46039f\"],[0.2222222222222222,\"#7201a8\"],[0.3333333333333333,\"#9c179e\"],[0.4444444444444444,\"#bd3786\"],[0.5555555555555556,\"#d8576b\"],[0.6666666666666666,\"#ed7953\"],[0.7777777777777778,\"#fb9f3a\"],[0.8888888888888888,\"#fdca26\"],[1.0,\"#f0f921\"]],\"type\":\"heatmapgl\"}],\"histogram\":[{\"marker\":{\"pattern\":{\"fillmode\":\"overlay\",\"size\":10,\"solidity\":0.2}},\"type\":\"histogram\"}],\"histogram2d\":[{\"colorbar\":{\"outlinewidth\":0,\"ticks\":\"\"},\"colorscale\":[[0.0,\"#0d0887\"],[0.1111111111111111,\"#46039f\"],[0.2222222222222222,\"#7201a8\"],[0.3333333333333333,\"#9c179e\"],[0.4444444444444444,\"#bd3786\"],[0.5555555555555556,\"#d8576b\"],[0.6666666666666666,\"#ed7953\"],[0.7777777777777778,\"#fb9f3a\"],[0.8888888888888888,\"#fdca26\"],[1.0,\"#f0f921\"]],\"type\":\"histogram2d\"}],\"histogram2dcontour\":[{\"colorbar\":{\"outlinewidth\":0,\"ticks\":\"\"},\"colorscale\":[[0.0,\"#0d0887\"],[0.1111111111111111,\"#46039f\"],[0.2222222222222222,\"#7201a8\"],[0.3333333333333333,\"#9c179e\"],[0.4444444444444444,\"#bd3786\"],[0.5555555555555556,\"#d8576b\"],[0.6666666666666666,\"#ed7953\"],[0.7777777777777778,\"#fb9f3a\"],[0.8888888888888888,\"#fdca26\"],[1.0,\"#f0f921\"]],\"type\":\"histogram2dcontour\"}],\"mesh3d\":[{\"colorbar\":{\"outlinewidth\":0,\"ticks\":\"\"},\"type\":\"mesh3d\"}],\"parcoords\":[{\"line\":{\"colorbar\":{\"outlinewidth\":0,\"ticks\":\"\"}},\"type\":\"parcoords\"}],\"pie\":[{\"automargin\":true,\"type\":\"pie\"}],\"scatter\":[{\"marker\":{\"colorbar\":{\"outlinewidth\":0,\"ticks\":\"\"}},\"type\":\"scatter\"}],\"scatter3d\":[{\"line\":{\"colorbar\":{\"outlinewidth\":0,\"ticks\":\"\"}},\"marker\":{\"colorbar\":{\"outlinewidth\":0,\"ticks\":\"\"}},\"type\":\"scatter3d\"}],\"scattercarpet\":[{\"marker\":{\"colorbar\":{\"outlinewidth\":0,\"ticks\":\"\"}},\"type\":\"scattercarpet\"}],\"scattergeo\":[{\"marker\":{\"colorbar\":{\"outlinewidth\":0,\"ticks\":\"\"}},\"type\":\"scattergeo\"}],\"scattergl\":[{\"marker\":{\"colorbar\":{\"outlinewidth\":0,\"ticks\":\"\"}},\"type\":\"scattergl\"}],\"scattermapbox\":[{\"marker\":{\"colorbar\":{\"outlinewidth\":0,\"ticks\":\"\"}},\"type\":\"scattermapbox\"}],\"scatterpolar\":[{\"marker\":{\"colorbar\":{\"outlinewidth\":0,\"ticks\":\"\"}},\"type\":\"scatterpolar\"}],\"scatterpolargl\":[{\"marker\":{\"colorbar\":{\"outlinewidth\":0,\"ticks\":\"\"}},\"type\":\"scatterpolargl\"}],\"scatterternary\":[{\"marker\":{\"colorbar\":{\"outlinewidth\":0,\"ticks\":\"\"}},\"type\":\"scatterternary\"}],\"surface\":[{\"colorbar\":{\"outlinewidth\":0,\"ticks\":\"\"},\"colorscale\":[[0.0,\"#0d0887\"],[0.1111111111111111,\"#46039f\"],[0.2222222222222222,\"#7201a8\"],[0.3333333333333333,\"#9c179e\"],[0.4444444444444444,\"#bd3786\"],[0.5555555555555556,\"#d8576b\"],[0.6666666666666666,\"#ed7953\"],[0.7777777777777778,\"#fb9f3a\"],[0.8888888888888888,\"#fdca26\"],[1.0,\"#f0f921\"]],\"type\":\"surface\"}],\"table\":[{\"cells\":{\"fill\":{\"color\":\"#EBF0F8\"},\"line\":{\"color\":\"white\"}},\"header\":{\"fill\":{\"color\":\"#C8D4E3\"},\"line\":{\"color\":\"white\"}},\"type\":\"table\"}]},\"layout\":{\"annotationdefaults\":{\"arrowcolor\":\"#2a3f5f\",\"arrowhead\":0,\"arrowwidth\":1},\"autotypenumbers\":\"strict\",\"coloraxis\":{\"colorbar\":{\"outlinewidth\":0,\"ticks\":\"\"}},\"colorscale\":{\"diverging\":[[0,\"#8e0152\"],[0.1,\"#c51b7d\"],[0.2,\"#de77ae\"],[0.3,\"#f1b6da\"],[0.4,\"#fde0ef\"],[0.5,\"#f7f7f7\"],[0.6,\"#e6f5d0\"],[0.7,\"#b8e186\"],[0.8,\"#7fbc41\"],[0.9,\"#4d9221\"],[1,\"#276419\"]],\"sequential\":[[0.0,\"#0d0887\"],[0.1111111111111111,\"#46039f\"],[0.2222222222222222,\"#7201a8\"],[0.3333333333333333,\"#9c179e\"],[0.4444444444444444,\"#bd3786\"],[0.5555555555555556,\"#d8576b\"],[0.6666666666666666,\"#ed7953\"],[0.7777777777777778,\"#fb9f3a\"],[0.8888888888888888,\"#fdca26\"],[1.0,\"#f0f921\"]],\"sequentialminus\":[[0.0,\"#0d0887\"],[0.1111111111111111,\"#46039f\"],[0.2222222222222222,\"#7201a8\"],[0.3333333333333333,\"#9c179e\"],[0.4444444444444444,\"#bd3786\"],[0.5555555555555556,\"#d8576b\"],[0.6666666666666666,\"#ed7953\"],[0.7777777777777778,\"#fb9f3a\"],[0.8888888888888888,\"#fdca26\"],[1.0,\"#f0f921\"]]},\"colorway\":[\"#636efa\",\"#EF553B\",\"#00cc96\",\"#ab63fa\",\"#FFA15A\",\"#19d3f3\",\"#FF6692\",\"#B6E880\",\"#FF97FF\",\"#FECB52\"],\"font\":{\"color\":\"#2a3f5f\"},\"geo\":{\"bgcolor\":\"white\",\"lakecolor\":\"white\",\"landcolor\":\"#E5ECF6\",\"showlakes\":true,\"showland\":true,\"subunitcolor\":\"white\"},\"hoverlabel\":{\"align\":\"left\"},\"hovermode\":\"closest\",\"mapbox\":{\"style\":\"light\"},\"paper_bgcolor\":\"white\",\"plot_bgcolor\":\"#E5ECF6\",\"polar\":{\"angularaxis\":{\"gridcolor\":\"white\",\"linecolor\":\"white\",\"ticks\":\"\"},\"bgcolor\":\"#E5ECF6\",\"radialaxis\":{\"gridcolor\":\"white\",\"linecolor\":\"white\",\"ticks\":\"\"}},\"scene\":{\"xaxis\":{\"backgroundcolor\":\"#E5ECF6\",\"gridcolor\":\"white\",\"gridwidth\":2,\"linecolor\":\"white\",\"showbackground\":true,\"ticks\":\"\",\"zerolinecolor\":\"white\"},\"yaxis\":{\"backgroundcolor\":\"#E5ECF6\",\"gridcolor\":\"white\",\"gridwidth\":2,\"linecolor\":\"white\",\"showbackground\":true,\"ticks\":\"\",\"zerolinecolor\":\"white\"},\"zaxis\":{\"backgroundcolor\":\"#E5ECF6\",\"gridcolor\":\"white\",\"gridwidth\":2,\"linecolor\":\"white\",\"showbackground\":true,\"ticks\":\"\",\"zerolinecolor\":\"white\"}},\"shapedefaults\":{\"line\":{\"color\":\"#2a3f5f\"}},\"ternary\":{\"aaxis\":{\"gridcolor\":\"white\",\"linecolor\":\"white\",\"ticks\":\"\"},\"baxis\":{\"gridcolor\":\"white\",\"linecolor\":\"white\",\"ticks\":\"\"},\"bgcolor\":\"#E5ECF6\",\"caxis\":{\"gridcolor\":\"white\",\"linecolor\":\"white\",\"ticks\":\"\"}},\"title\":{\"x\":0.05},\"xaxis\":{\"automargin\":true,\"gridcolor\":\"white\",\"linecolor\":\"white\",\"ticks\":\"\",\"title\":{\"standoff\":15},\"zerolinecolor\":\"white\",\"zerolinewidth\":2},\"yaxis\":{\"automargin\":true,\"gridcolor\":\"white\",\"linecolor\":\"white\",\"ticks\":\"\",\"title\":{\"standoff\":15},\"zerolinecolor\":\"white\",\"zerolinewidth\":2}}},\"xaxis\":{\"anchor\":\"y\",\"domain\":[0.0,1.0],\"title\":{\"text\":\"hashtags\"}},\"yaxis\":{\"anchor\":\"x\",\"domain\":[0.0,1.0],\"title\":{\"text\":\"average_likes\"}},\"legend\":{\"tracegroupgap\":0},\"margin\":{\"t\":60}},                        {\"responsive\": true}                    ).then(function(){\n",
       "                            \n",
       "var gd = document.getElementById('822c0aa5-126f-4e80-b09a-c4186ea674c2');\n",
       "var x = new MutationObserver(function (mutations, observer) {{\n",
       "        var display = window.getComputedStyle(gd).display;\n",
       "        if (!display || display === 'none') {{\n",
       "            console.log([gd, 'removed!']);\n",
       "            Plotly.purge(gd);\n",
       "            observer.disconnect();\n",
       "        }}\n",
       "}});\n",
       "\n",
       "// Listen for the removal of the full notebook cells\n",
       "var notebookContainer = gd.closest('#notebook-container');\n",
       "if (notebookContainer) {{\n",
       "    x.observe(notebookContainer, {childList: true});\n",
       "}}\n",
       "\n",
       "// Listen for the clearing of the current output cell\n",
       "var outputEl = gd.closest('.output');\n",
       "if (outputEl) {{\n",
       "    x.observe(outputEl, {childList: true});\n",
       "}}\n",
       "\n",
       "                        })                };                });            </script>        </div>"
      ]
     },
     "metadata": {},
     "output_type": "display_data"
    }
   ],
   "source": [
    "fig = px.scatter(likes_distribution_df, x=\"hashtags\", y=\"average_likes\")\n",
    "fig.show()"
   ]
  },
  {
   "cell_type": "markdown",
   "id": "e7d738cc",
   "metadata": {},
   "source": [
    "## Create adjacency matrix"
   ]
  },
  {
   "cell_type": "code",
   "execution_count": 42,
   "id": "e3c0d773",
   "metadata": {},
   "outputs": [],
   "source": [
    "occurence = hashtag_cooccurence_df[\"hashtags\"].tolist()"
   ]
  },
  {
   "cell_type": "code",
   "execution_count": 43,
   "id": "b6aed3eb",
   "metadata": {},
   "outputs": [],
   "source": [
    "# Create set of all unique hashtags\n",
    "\n",
    "unique_hashtags = set()\n",
    "for combination in occurence:\n",
    "    combination = combination.split(\", \")\n",
    "    for hashtag in combination:\n",
    "        unique_hashtags.add(hashtag)"
   ]
  },
  {
   "cell_type": "code",
   "execution_count": 44,
   "id": "4bad9d10",
   "metadata": {},
   "outputs": [
    {
     "data": {
      "text/plain": [
       "['#grateful',\n",
       " '#01-27,',\n",
       " '#refuseplastic',\n",
       " '#吃货最棒',\n",
       " '#trending',\n",
       " '#printstudio',\n",
       " '#igfood',\n",
       " '#porridgesg',\n",
       " '#japanesefood',\n",
       " '#sgblogger',\n",
       " '#',\n",
       " '#simpangbedok',\n",
       " '#stjohnisland',\n",
       " '#chefkin',\n",
       " '#shiok',\n",
       " '#besurprised',\n",
       " '#红龟粿',\n",
       " '#meihueats',\n",
       " '#travelsketching',\n",
       " '#sghawkerfood',\n",
       " '#hawkercentresg',\n",
       " '#yummylunch',\n",
       " '#lifestories',\n",
       " '#usksg',\n",
       " '#好吃',\n",
       " '#angmokiolohmeelaksa',\n",
       " '#umami',\n",
       " '#nomsh',\n",
       " '#victorfamousfriedchickenwingrice',\n",
       " '#sghome',\n",
       " '#SgHeritageFood',\n",
       " '#nasilemakayamtaliwang',\n",
       " '#01-02,',\n",
       " '#cafefood',\n",
       " '#oystermeesua蚵仔面线',\n",
       " '#natgeomyshot',\n",
       " '#nolimit',\n",
       " '#bestnasilemakintown#worththewait',\n",
       " '#freshcoconut',\n",
       " '#toapayohfood',\n",
       " '#openingsoon',\n",
       " '#localtrails',\n",
       " '#foodislife',\n",
       " '#eatsg',\n",
       " '#沙爹',\n",
       " '#01-05,',\n",
       " '#haidilaosingapore',\n",
       " '#streetphotographer',\n",
       " '#travelgoals',\n",
       " '#teochew',\n",
       " '#rwp',\n",
       " '#sginfluencer',\n",
       " '#sgfoodstagram',\n",
       " '#hawkerculture#hawkerculturesg',\n",
       " '#wavebye21',\n",
       " '#mooping',\n",
       " '#麻辣香锅',\n",
       " '#singaporefood',\n",
       " '#foodexplorer',\n",
       " '#eidilfitri',\n",
       " '#fishsoup',\n",
       " '#katonglaksa',\n",
       " '#toyinstagra',\n",
       " '#shiokfoodsg',\n",
       " '#甄好介绍',\n",
       " '#beefbrisketnoodle',\n",
       " '#hotpot',\n",
       " '#foodies',\n",
       " '#168currychicken',\n",
       " '#seafood',\n",
       " '#friedrice',\n",
       " '#Hawkercentres',\n",
       " '#sourspicychili',\n",
       " '#gluteniousrice',\n",
       " '#streetshooting',\n",
       " '#sgigfoodies',\n",
       " '#chongboonmarket',\n",
       " '#airlinefoodselfie',\n",
       " '#exploresingaporeeat',\n",
       " '#flavourbomb',\n",
       " '#foodillustration',\n",
       " '#city_noms',\n",
       " '#westernbarbeque',\n",
       " '#fishmaw',\n",
       " '#braisedduckrice',\n",
       " '#butfirstcoffee',\n",
       " '#angmokio',\n",
       " '#01-20,',\n",
       " '#sengkeebakkutteh',\n",
       " '#iphonephotography',\n",
       " '#fishballnoodles',\n",
       " '#grabfood',\n",
       " '#cat',\n",
       " '#01-71',\n",
       " '#linoprinting',\n",
       " '#B4-66,',\n",
       " '#ngohhiang',\n",
       " '#singaporeeats',\n",
       " '#supporthawkersg',\n",
       " '#killineykopithiam',\n",
       " '#lovefood',\n",
       " '#tomyum',\n",
       " '#redcross',\n",
       " '#simsvista',\n",
       " '#charkwayteow',\n",
       " '#foodbloggerSG',\n",
       " '#prawnnoodles',\n",
       " '#春联',\n",
       " '#foodiesinternationalchat',\n",
       " '#hawkersinwatercolours',\n",
       " '#glutenfreesg',\n",
       " '#impressive',\n",
       " '#sgphotographer',\n",
       " '#exploretocreate',\n",
       " '#ᴠᴀᴄᴄɪɴᴇssᴀᴠᴇʟɪᴠᴇs',\n",
       " '#01-17',\n",
       " '#mediainvite',\n",
       " '#imaginatones',\n",
       " '#rendangchicken',\n",
       " '#sgrestaurant',\n",
       " '#sghawkerculture',\n",
       " '#sgrestaurants',\n",
       " '#livelife',\n",
       " '#foodpic',\n",
       " '#sgfoodblog',\n",
       " '#packagefree',\n",
       " '#coffeeartist',\n",
       " '#exploreSG',\n",
       " '#lixinteochewfishballnoodle',\n",
       " '#chicken',\n",
       " '#tanglinhalttraditionalpeanutpancake',\n",
       " '#Grab50thHawkerCentre',\n",
       " '#nasilemakayamtaliwangsg#halalfoodie#halalfoodiesg#halalfood#hawkercentresg#hawkerculturesg',\n",
       " '#koreanfriedchicken',\n",
       " '#moments_in_streetlife',\n",
       " '#SingaporeFoodie',\n",
       " '#safrasg',\n",
       " '#pancake',\n",
       " '#localfare',\n",
       " '#sgtastebud',\n",
       " '#hawkerlegacy',\n",
       " '#yishunfood',\n",
       " '#02-32',\n",
       " '#红纸',\n",
       " '#note20ultraphotography',\n",
       " '#YourSingapore',\n",
       " '#lifeblogger',\n",
       " '#bepositive',\n",
       " '#bbqseafood',\n",
       " '#supportlocalbusiness',\n",
       " '#HawkerCenter',\n",
       " '#projectdignity',\n",
       " '#蛋香味',\n",
       " '#HawkercultureSg',\n",
       " '#cheecheongfun',\n",
       " '#prints',\n",
       " '#whitechicken',\n",
       " '#sugarcanejuice',\n",
       " '#双语美食库',\n",
       " '#hawkerstall',\n",
       " '#sglocal',\n",
       " '#泡饭',\n",
       " '#肉脞面',\n",
       " '#clementi',\n",
       " '#fochroad',\n",
       " '#singapore🇸🇬',\n",
       " '#01-53,',\n",
       " '#bakkutteh',\n",
       " '#cheecheongfunclub',\n",
       " '#yishun',\n",
       " '#limkopi',\n",
       " '#awagami',\n",
       " '#猪扒饭',\n",
       " '#01-39',\n",
       " '#tebangardensfoodcentre',\n",
       " '#wallmural',\n",
       " '#زوروا_سنغافورة',\n",
       " '#peopleofsingapore',\n",
       " '#grandpawesternfood',\n",
       " '#geylangbriyanistall',\n",
       " '#rediscoversingapore',\n",
       " '#wantonmee',\n",
       " '#byosingapore',\n",
       " '#nikonphotography',\n",
       " '#kueh',\n",
       " '#laska',\n",
       " '#comfortfood',\n",
       " '#morningcoffee',\n",
       " '#thaibasil',\n",
       " '#sustainablesg',\n",
       " '#yongtaufoo',\n",
       " '#chinatown',\n",
       " '#foodiegram',\n",
       " '#wetmarket',\n",
       " '#lino',\n",
       " '#foodiesoninstagram',\n",
       " '#koreanfoodsg',\n",
       " '#gracefulleeJurongEast',\n",
       " '#coffeeshop',\n",
       " '#leekuanyewtribute',\n",
       " '#prawnmee',\n",
       " '#cartoon',\n",
       " '#wuxiang',\n",
       " '#DCfoodjournal',\n",
       " '#eatlikeaqueen',\n",
       " '#local',\n",
       " '#eatnowburnnexttime',\n",
       " '#chickenpot',\n",
       " '#plqmall',\n",
       " '#coffeeisdrug',\n",
       " '#dapaoculture',\n",
       " '#instagood',\n",
       " '#01-27',\n",
       " '#yypsd',\n",
       " '#koreanfood',\n",
       " '#byo',\n",
       " '#soysaucechicken',\n",
       " '#sgvegetarians',\n",
       " '#koreanfoodlovers',\n",
       " '#coffeeart',\n",
       " '#curiousaccountant',\n",
       " '#foodinstagram',\n",
       " '#geylangfood',\n",
       " '#tiongbahrumarket',\n",
       " '#環境問題',\n",
       " '#sgvegetarian',\n",
       " '#sgfoodpic',\n",
       " '#byocontainer',\n",
       " '#streetphotography',\n",
       " '#laozhongzhong',\n",
       " '#ampangyongtaufoo',\n",
       " '#nasilemak',\n",
       " '#dabao',\n",
       " '#lovesg',\n",
       " '#visitsingapore',\n",
       " '#kopiandtoast',\n",
       " '#gracefulleejurongeast',\n",
       " '#localjiak',\n",
       " '#urbanstreet',\n",
       " '#pasirris',\n",
       " '#saltedbeanpancake',\n",
       " '#simple',\n",
       " '#hillstreettaihwaporknoodles',\n",
       " '#delish',\n",
       " '#localway',\n",
       " '#byoc',\n",
       " '#agarcakesingapore',\n",
       " '#thesingaporefoodbutler',\n",
       " 'Error',\n",
       " '#channelnewsasia',\n",
       " '#meerebus',\n",
       " '#seafoodcongee',\n",
       " '#DaJieNiangDouFu',\n",
       " '#luruofan',\n",
       " '#geylang',\n",
       " '#localcoffee',\n",
       " '#wearethestreets',\n",
       " '#heapsengleong',\n",
       " '#GrabforGood',\n",
       " '#tanglinhaltfoodcentre',\n",
       " '#dreams',\n",
       " '#foodpornasia',\n",
       " '#urbangallery',\n",
       " '#eatersg',\n",
       " '#wantonnoodles',\n",
       " '#fooddiarysg',\n",
       " '#whati8today',\n",
       " '#coffeenation',\n",
       " '#fromstreetswithlove',\n",
       " '#sgcoffeeshop',\n",
       " '#delicious',\n",
       " '#cuisine',\n",
       " '#SeeSeeEatEat',\n",
       " '#kopitiam',\n",
       " '#eat3bowlssg',\n",
       " '#onsenegg',\n",
       " '#HawkerFood',\n",
       " '#bestchickenrice',\n",
       " '#chinhogaixiao',\n",
       " '#kopifellas',\n",
       " '#rotiprataegg',\n",
       " '#history',\n",
       " '#bakchormee',\n",
       " '#coffeeandtea',\n",
       " '#beextraordinary',\n",
       " '#foodspotting',\n",
       " '#成記肉骨茶',\n",
       " '#legacy',\n",
       " '#烤虾',\n",
       " '#livelifetothefullest',\n",
       " '#covidtakeaway',\n",
       " '#吉祥红龟粿',\n",
       " '#sgigfoodporn',\n",
       " '#singapore',\n",
       " '#kwaychap',\n",
       " '#singaporefoodie',\n",
       " '#sgdining',\n",
       " '#kopi',\n",
       " '#famouseunosbakchormee',\n",
       " '#mincedporknoodles',\n",
       " '#BenEatsApr2021',\n",
       " '#nokonnyaku',\n",
       " '#kopisg',\n",
       " '#sginstagrammers',\n",
       " '#boonlayplace',\n",
       " '#meehoonkway',\n",
       " '#thisissingapore',\n",
       " '#yishunparkhawkercentre',\n",
       " '#jiaksimipng',\n",
       " '#curry',\n",
       " '#蛋炒飯',\n",
       " '#coffeebreak',\n",
       " '#singaporetrip',\n",
       " '#travel',\n",
       " '#sg',\n",
       " '#fightofthebestfishballnoodle',\n",
       " '#LokLokKing',\n",
       " '#meepoktah',\n",
       " '#sgfoodpics',\n",
       " '#singaporeanindiannarrative',\n",
       " '#womeninstreetsg',\n",
       " '#streetgrammers',\n",
       " '#1',\n",
       " '#chinesenasilemak',\n",
       " '#eatbooksg',\n",
       " '#zichar',\n",
       " '#printmakingstudio',\n",
       " '#meesiam',\n",
       " '#singaporeheritage',\n",
       " '#01-38,',\n",
       " '#butterfly',\n",
       " '#traditionalsnacks',\n",
       " '#小贩',\n",
       " '#炒饭',\n",
       " '#bubbletea',\n",
       " '#chompchompfoodcentre',\n",
       " '#hueats',\n",
       " '#馋嘴双兔',\n",
       " '#streethunters',\n",
       " '#tabaolunch',\n",
       " '#alexandravillage',\n",
       " '#字述一年2021',\n",
       " '#咖啡香',\n",
       " '#SGFoodies',\n",
       " '#igsgfoodies',\n",
       " '#capturestreets',\n",
       " '#malayfood',\n",
       " '#rilakkuma',\n",
       " '#eatatNewton',\n",
       " '#print',\n",
       " '#goldenmile',\n",
       " '#joyousdec21',\n",
       " '#BCM',\n",
       " '#durian',\n",
       " '#peranakancuisine',\n",
       " '#eatlikealocal',\n",
       " '#kopifrensfood',\n",
       " '#travelphotography',\n",
       " '#prawnnoodle',\n",
       " '#positive',\n",
       " '#蚝煎🍳',\n",
       " '#手工面粉粿',\n",
       " '#kopifrens',\n",
       " '#instasgsunday10pm',\n",
       " '#sgdaily',\n",
       " '#latteart',\n",
       " '#yishuneats',\n",
       " '#wanton',\n",
       " '#usk',\n",
       " '#foodrecommendation',\n",
       " '#hainanesechickenrice',\n",
       " '#janusgoesnomnom',\n",
       " '#uniquelysg',\n",
       " '#jurongpoint',\n",
       " '#roastmeat',\n",
       " '#clementifoodcentre',\n",
       " '#tedsingapore',\n",
       " '#lunchtime',\n",
       " '#sgfooddiary',\n",
       " '#foodporn',\n",
       " '#gracefulleeTanjongPagar',\n",
       " '#sgstreetcollective',\n",
       " '#zicharsg',\n",
       " '#stayhealthy',\n",
       " '#foodcomparing',\n",
       " '#haidilao',\n",
       " '#sdphbt',\n",
       " '#brunch',\n",
       " '#umamibroth',\n",
       " '#friendsinstreets',\n",
       " '#leekuanyew',\n",
       " '#kuehlover',\n",
       " '#laksa',\n",
       " '#abcmarket',\n",
       " '#singaporefoodporn',\n",
       " '#caifan',\n",
       " '#kekoumian',\n",
       " '#eatoutsg',\n",
       " '#instasg',\n",
       " '#madaboutsingapore',\n",
       " '#foodsg',\n",
       " '#training',\n",
       " '#caipng',\n",
       " '#纽顿熟食中心',\n",
       " '#ishirosg',\n",
       " '#01-44,',\n",
       " '#explore_singapore',\n",
       " '#exploration',\n",
       " '#减塑生活',\n",
       " '#meepokdry',\n",
       " '#02-35',\n",
       " '#uniquelysingapore',\n",
       " '#morningfix',\n",
       " '#yummydeals',\n",
       " '#oysterlover',\n",
       " '#oldshifucharcoalporridge',\n",
       " '#agaragar',\n",
       " '#foodtrend',\n",
       " '#singaporetravel',\n",
       " '#queenstown',\n",
       " '#sgheritagefood',\n",
       " '#yongtaufoodry',\n",
       " '#catlovers',\n",
       " '#friedcarrotcake',\n",
       " '#westernfood',\n",
       " '#natgeoasia',\n",
       " '#tiongbahrufood',\n",
       " '#sengkee',\n",
       " '#seafoodhorfun',\n",
       " '#lunchtimesg',\n",
       " '#sgffxhawkerpicks',\n",
       " '#WhatMakesSG',\n",
       " '#thefoodieinitiative',\n",
       " '#hawkerfoodsg',\n",
       " '#xiujiikanbilisyongtaufu',\n",
       " '#02-93',\n",
       " '#01-12,',\n",
       " '#ibringmyownsg',\n",
       " '#鱼丸面',\n",
       " '#wfh',\n",
       " '#backformore',\n",
       " '#coconut',\n",
       " '#nikonz7',\n",
       " '#beefburgers',\n",
       " '#chinese',\n",
       " '#whatieatforlunch',\n",
       " '#HawkerCultureSg',\n",
       " '#coronavirussingapore',\n",
       " '#instadaily',\n",
       " '#singaporeidentity',\n",
       " '#nasilemakayam',\n",
       " '#singaporeteochewfood',\n",
       " '#foodreviewssg',\n",
       " '#halalfoodsg',\n",
       " '#maxwellfoodcentre',\n",
       " '#koungwantonmee',\n",
       " '#michelinsg',\n",
       " '#sgphotoshoot',\n",
       " '#無痕飲食',\n",
       " '#groupbuysg',\n",
       " '#foodgrammer',\n",
       " '#ecofriendly',\n",
       " '#foodstagram',\n",
       " '#米其林一星',\n",
       " '#OurHawkerCulture',\n",
       " '#eatingforinsta',\n",
       " '#localfood',\n",
       " '#healthyliving',\n",
       " '#sgheritage',\n",
       " '#noodles',\n",
       " '#michelinstar',\n",
       " '#naise',\n",
       " '#dapao',\n",
       " '#eunos',\n",
       " '#weekendcoffee',\n",
       " '#CoffeeShopEats',\n",
       " '#sgeatout',\n",
       " '#sghalal',\n",
       " '#nyonyafusion',\n",
       " '#stayhomestaysafe🏠',\n",
       " '#foodexploring',\n",
       " '#ramensg',\n",
       " '#02-107,',\n",
       " '#peoplesparkfoodcentre',\n",
       " '#like',\n",
       " '#flightmeal✈️',\n",
       " '#whatihadforlunch',\n",
       " '#foodgasm',\n",
       " '#prawnmeesoup',\n",
       " '#NewtonCircus',\n",
       " '#OurCoffeeshopFood',\n",
       " '#kinexmallsg',\n",
       " '#foodstyling',\n",
       " '#linocutting',\n",
       " '#hawkerCultureSG',\n",
       " '#staypositive💯',\n",
       " '#covid_19singapore',\n",
       " '#love',\n",
       " '#uniqlo',\n",
       " '#kosong',\n",
       " '#travelawesome',\n",
       " '#worththecalories',\n",
       " '#coffeeaddict',\n",
       " '#スティッチ',\n",
       " '#yuanyangpengsiudai',\n",
       " '#watercolour',\n",
       " '#sghawkerfest',\n",
       " '#8dayseatout',\n",
       " '#jrecollectionfood',\n",
       " '#top1handmadenoodle',\n",
       " '#chinesefood',\n",
       " '#whatlingeats',\n",
       " '#tomyumdry',\n",
       " '#instagood10',\n",
       " '#instagramsg',\n",
       " '#noplastic',\n",
       " '#yuanyang',\n",
       " '#softboiledeggs',\n",
       " '#chinatowncomplexfoodcentre',\n",
       " '#シンガポール散歩',\n",
       " '#sgfoodtrending',\n",
       " '#lorbakmama',\n",
       " '#壁アート探し',\n",
       " '#westernhawkerfood',\n",
       " '#dessertsg',\n",
       " '#sglocaleats',\n",
       " '#月光河粉',\n",
       " '#cranfieldcolours',\n",
       " '#sginstagram',\n",
       " '#hawkerheroes',\n",
       " '#sgfood',\n",
       " '#changicitypoint_sg',\n",
       " '#bakersim',\n",
       " '#coffeeislife',\n",
       " '#oysteromellete',\n",
       " '#NewtonFood',\n",
       " '#beprepared',\n",
       " '#wakerchicken',\n",
       " '#foodblog',\n",
       " '#drinksreviewsg',\n",
       " '#greatcatchup',\n",
       " '#singaporestreetscape',\n",
       " '#oldschool',\n",
       " '#GoldenMileFoodCentre',\n",
       " '#dumplings',\n",
       " '#singapore_insta',\n",
       " '#supportlocalsg',\n",
       " '#globaleats',\n",
       " '#localculture',\n",
       " '#abcbrickworksmarket',\n",
       " '#travelsoon',\n",
       " '#sgclean',\n",
       " '#jixiangangkukueh',\n",
       " '#expatsg',\n",
       " '#潮州美食',\n",
       " '#キイロイトリ',\n",
       " '#hainanese',\n",
       " '#cheeseburgers',\n",
       " '#sghawkers',\n",
       " '#早安咖啡',\n",
       " '#vegetariansg',\n",
       " '#support',\n",
       " '#tanjongpagar',\n",
       " '#vegetarian',\n",
       " '#salmonmentaiko',\n",
       " '#DaJieBedok',\n",
       " '#amoyfoodcentre',\n",
       " '#instafoodsg',\n",
       " '#sgcoffeefest',\n",
       " '#ironfrogpress',\n",
       " '#wahoo',\n",
       " '#peranakanfood',\n",
       " '#kopiculture',\n",
       " '#星際寶貝',\n",
       " '#traveladdict',\n",
       " '#localpeople',\n",
       " '#yummypigtrotter',\n",
       " '#boonkeng',\n",
       " '#singaporelifestyle',\n",
       " '#sgfoodlover',\n",
       " '#communityfirst',\n",
       " '#japan',\n",
       " '#hawkerFavourite',\n",
       " '#foodpornography',\n",
       " '#bujiantiancharsiew',\n",
       " '#sglife',\n",
       " '#lunch',\n",
       " '#kiiroitori',\n",
       " '#肉骨茶',\n",
       " '#fruitsrojak',\n",
       " '#wheretodapao',\n",
       " '#reuserevolution',\n",
       " '#shoot2kill',\n",
       " '#oyster',\n",
       " '#壁アート',\n",
       " '#小日子',\n",
       " '#SupportLocalSg',\n",
       " '#handmade',\n",
       " '#muffins',\n",
       " '#SgVibes',\n",
       " '#04-44,',\n",
       " '#urbanphotography',\n",
       " '#top3kwaychapthusfar',\n",
       " '#taiwanesefood',\n",
       " '#maruhachi',\n",
       " '#muralartist',\n",
       " '#carsharing',\n",
       " '#kopio',\n",
       " '#burpple',\n",
       " '#bcm',\n",
       " '#abcbrickworksfoodcentre',\n",
       " '#hawkersofsg',\n",
       " '#zerowaste',\n",
       " '#小確幸',\n",
       " '#foodphotography',\n",
       " '#nosingleuseplastic',\n",
       " '#travelsketchers',\n",
       " '#foodlovers',\n",
       " '#yummylocalfare',\n",
       " '#thefoodiesinitiative',\n",
       " '#localtravel',\n",
       " '#chillicrab🦀',\n",
       " '#queenstownfood',\n",
       " '#culturespoonsg',\n",
       " '#twgrammersy',\n",
       " '#singaporeculture',\n",
       " '#friedoyster',\n",
       " '#walkabout',\n",
       " '#telokblangahcrescrentfoodcentre',\n",
       " '#sweeguanhokkienmee',\n",
       " '#hainanesecurryrice',\n",
       " '#油鸡面',\n",
       " '#streetvision',\n",
       " '#goldenmilefoodcentre',\n",
       " '#fooddeliverysg',\n",
       " '#foodpictures',\n",
       " '#savefnbsg',\n",
       " '#amoystreetfoodcenter',\n",
       " '#linoprint',\n",
       " '#yearendthanks',\n",
       " '#foodreview',\n",
       " '#ourhawkerculture',\n",
       " '#nokonjac',\n",
       " '#yuanyangpeng',\n",
       " '#sgeats',\n",
       " '#oldschooltaste',\n",
       " '#urbansketching',\n",
       " '#igsg',\n",
       " '#food',\n",
       " '#sgfoodgram',\n",
       " '#sengkeemushroommincedmeatnoodle',\n",
       " '#beautyworldcentre',\n",
       " '#01-101,',\n",
       " '#coffeeortea',\n",
       " '#specialtycoffeesg',\n",
       " '#printmakingart',\n",
       " '#exploresingapore',\n",
       " '#beehoon',\n",
       " '#thankyouhawkers',\n",
       " '#01-33,',\n",
       " '#neighbourhoodsg',\n",
       " '#vegansg',\n",
       " '#artiseverywhere',\n",
       " '#streetframe',\n",
       " '#barchor',\n",
       " '#foodofinstagram',\n",
       " '#yummydinner',\n",
       " '#ytf',\n",
       " '#seafoodsoup',\n",
       " '#Seafood',\n",
       " '#ahmachimian',\n",
       " '#redhillcoffeeshop',\n",
       " '#natgeoyourshot',\n",
       " '#newton',\n",
       " '#claypotrice',\n",
       " '#linoleumprint',\n",
       " '#hawkercentre',\n",
       " '#foodbloggers',\n",
       " '#sgkopi',\n",
       " '#awagamipaper',\n",
       " '#barchormeesoup',\n",
       " '#新加坡美食',\n",
       " '#claypot',\n",
       " '#FoodieSg',\n",
       " '#serangoonfood',\n",
       " '#wallpainting',\n",
       " '#friedchickenwings',\n",
       " '#iphonexs',\n",
       " '#claypotcurrychicken',\n",
       " '#curryrice',\n",
       " '#supporthawkers',\n",
       " '#munchidelights',\n",
       " '#braisedduck',\n",
       " '#greenchilichickenrice',\n",
       " '#indianexpats',\n",
       " '#popiah',\n",
       " '#gorengpisang',\n",
       " '#singaporefoodscene',\n",
       " '#好好吃饭',\n",
       " '#chickenball',\n",
       " '#eggy',\n",
       " '#02-048,',\n",
       " '#whatieatinaday',\n",
       " '#ilovehawkerfood',\n",
       " '#printmaking',\n",
       " '#zionriverside',\n",
       " '#eidmubarak',\n",
       " '#foods',\n",
       " '#1-30.',\n",
       " '#ahhockfriedhokkienmee',\n",
       " '#malaysiastreetfood',\n",
       " '#fishandchips',\n",
       " '#甄好吃',\n",
       " '#foodshare',\n",
       " '#سنغافورة',\n",
       " '#yuanyangcoffee',\n",
       " '#sghawkereats',\n",
       " '#sgig',\n",
       " '#sgigfood',\n",
       " '#BBQ',\n",
       " '#littleindiasingapore',\n",
       " '#02-88,',\n",
       " '#kolomee',\n",
       " '#一得阁',\n",
       " '#aphotoaday',\n",
       " '#foodgramsg',\n",
       " '#sgloklok',\n",
       " '#sghistory',\n",
       " '#zichardinner',\n",
       " '#oneprawnnoodle#一號蝦麵',\n",
       " '#松弛熊',\n",
       " '#tiongbahruhawker',\n",
       " '#BakKutTeh',\n",
       " '#sgfoodblogger',\n",
       " '#sembawanghillsfoodcentre',\n",
       " '#eatingfortheinsta',\n",
       " '#lifangcongee',\n",
       " '#kkitchensg',\n",
       " '#lifeblog',\n",
       " '#01-01,',\n",
       " '#lazarusisland',\n",
       " '#sengkeebakchormee',\n",
       " '#simsvistamarketandfoodcentre',\n",
       " '#travelathome',\n",
       " '#boatquay',\n",
       " '#prawns',\n",
       " '#porridge',\n",
       " '#GoodEats',\n",
       " '#bakchormee#yishunparkhawkercentre#meekia#meekiadry#chashu#chashupork#porkball#porkballs#fishball#mincedpork#mincedmeat#noodles#porklard#onsenegg#egg#porkfat#saucynoodles#hawkers#hawkerculture#hawkerculturesg#sgfoodie#sgfoodies#sgfoodporn#foodporn#sgeats',\n",
       " '#amoy',\n",
       " '#burgers',\n",
       " '#foodvibes',\n",
       " '#japanese',\n",
       " '#bibgourmand2021',\n",
       " '#shootoniphone',\n",
       " '#dabaosg',\n",
       " '#meehoonkueh',\n",
       " '#hawkerfood',\n",
       " '#drynoodle',\n",
       " '#sgfoodiegram',\n",
       " '#tonkatsu',\n",
       " '#travelblogger',\n",
       " '#hollandbukittimah',\n",
       " '#sghawker',\n",
       " '#foodart',\n",
       " '#howilikemycoffee',\n",
       " '#horfun',\n",
       " '#whati8todaysg',\n",
       " '#exploringamk',\n",
       " '#supporthawker',\n",
       " '#street_gallery',\n",
       " '#sgphotography',\n",
       " '#cityscape',\n",
       " '#CoffeeAroma',\n",
       " '#instafood_sg',\n",
       " '#coffeelover',\n",
       " '#curious',\n",
       " '#loklok',\n",
       " '#walktheworldthroughcoffee',\n",
       " '#brandcodes',\n",
       " '#muffin',\n",
       " '#stfoodtrending',\n",
       " '#wallart',\n",
       " '#peanutpancake',\n",
       " '#吃货',\n",
       " '#ExploreSG',\n",
       " '#ricebowl',\n",
       " '#hollandbukittimahgrc',\n",
       " '#ilikefood',\n",
       " '#singaporean',\n",
       " '#raw_snap_morning',\n",
       " '#不塑之客',\n",
       " '#tribecar',\n",
       " '#madroaster',\n",
       " '#zicharnation',\n",
       " '#byosg',\n",
       " '#toapayohhawker',\n",
       " '#sgfoodiary',\n",
       " '#localbusiness',\n",
       " '#urbansketcher',\n",
       " '#sgfoodshare',\n",
       " '#stickycakewithsweetpotato',\n",
       " '#notsponsored',\n",
       " '#janggutlaksa',\n",
       " '#foodcoma',\n",
       " '#Singaporeinsiders',\n",
       " '#localdessert',\n",
       " '#ayampenyet',\n",
       " '#hainesechickenrice',\n",
       " '#hawkersg',\n",
       " '#shiokfoodfind',\n",
       " '#mobilephotography',\n",
       " '#handmadenoodles',\n",
       " '#travelgram',\n",
       " '#eeeeeats',\n",
       " '#sgtravelblogger',\n",
       " '#eunosbarchormee',\n",
       " '#reusablenotdisposable',\n",
       " '#sgfoodhunter',\n",
       " '#thaibasilchicken',\n",
       " '#anglohainanesecuisine',\n",
       " '#ghimmohfoodcentre',\n",
       " '#gubakkia',\n",
       " '#ourhawkerheritage',\n",
       " '#carrotcake',\n",
       " '#beoriginal',\n",
       " '#instagram',\n",
       " '#lormeesg',\n",
       " '#clementihawker',\n",
       " '#iluvsg',\n",
       " '#takeaway',\n",
       " '#hawkers',\n",
       " '#laupasat',\n",
       " '#charkwayteowsg',\n",
       " '#drynoodles',\n",
       " '#fooddiary',\n",
       " '#thaicuisine',\n",
       " '#igersone',\n",
       " '#楷书',\n",
       " '#meepok',\n",
       " '#indulgence',\n",
       " '#hawkercenter',\n",
       " '#illgrammers',\n",
       " '#04-67,',\n",
       " '#nourishyoursoul',\n",
       " '#hawkerculturesg',\n",
       " '#sgopening',\n",
       " '#sgfoodunion',\n",
       " '#01-26',\n",
       " '#muslimfood',\n",
       " '#hawker',\n",
       " '#01-5109,',\n",
       " '#leehsienloong',\n",
       " '#airportfood',\n",
       " '#unescointangibleculturalheritage',\n",
       " '#beautifuldestinations',\n",
       " '#oneprawnnoodle',\n",
       " '#rediscoversg',\n",
       " '#banmee',\n",
       " '#ahterfishballnoodles',\n",
       " '#sg_street_collective',\n",
       " '#angkukueh',\n",
       " '#tiongbahrufoodcentre',\n",
       " '#smallbusiness',\n",
       " '#吃不到不要怪我',\n",
       " '#oysterlovers',\n",
       " '#unagiricebowl',\n",
       " '#JooSiahBKT',\n",
       " '#pngkueh',\n",
       " '#korea',\n",
       " '#cheapeats',\n",
       " '#noodlesoup',\n",
       " '#breakfast',\n",
       " '#throwback',\n",
       " '#sgunited',\n",
       " '#YouFuHokkienMeeSG',\n",
       " '#korilakkuma',\n",
       " '#ecofriendlyliving',\n",
       " '#foodpassion',\n",
       " '#新加坡双语美食库',\n",
       " '#chickencutlet',\n",
       " '#foodinsg',\n",
       " '#pigorgansoup',\n",
       " '#xinglongcookedfood',\n",
       " '#whatissingapore',\n",
       " '#awesomefood',\n",
       " '#hillstreettaihwaporknoodle',\n",
       " '#watercolorsketchbook',\n",
       " '#saltedvegetable',\n",
       " '#livetoeat',\n",
       " '#foodgram',\n",
       " '#foodlover',\n",
       " '#bersehfoodcentre',\n",
       " '#chinhojiak',\n",
       " '#supportsmallbusiness',\n",
       " '#xhhawker',\n",
       " '#soysaucechickennoodle',\n",
       " '#teamfnbsg',\n",
       " '#fondmemories',\n",
       " '#sgfoodporn',\n",
       " '#igsgfood',\n",
       " '#p2ha',\n",
       " '#foodforthought',\n",
       " '#catdrawing',\n",
       " '#barchormee',\n",
       " '#changivillagehawkercentre',\n",
       " '#expatlivingsg',\n",
       " '#fnbsg',\n",
       " '#nhbsg',\n",
       " '#localdelights',\n",
       " '#womeninstreet',\n",
       " '#fullofflavours',\n",
       " '#tbt',\n",
       " '#foodpics',\n",
       " '#kasohsg',\n",
       " '#tiongbahrumarketandfoodcentre',\n",
       " '#hungry',\n",
       " '#supportlocal',\n",
       " '#life_is_street',\n",
       " '#instasgSundayOurHawkers',\n",
       " '#xt3',\n",
       " '#killeverygram',\n",
       " '#玩具攝影',\n",
       " '#sgdelights',\n",
       " '#chaitaokueh',\n",
       " '#sgfoodtrend',\n",
       " '#snapwithcanon',\n",
       " '#denial',\n",
       " '#satay',\n",
       " '#bedokbarchormee',\n",
       " '#sghawkerfare',\n",
       " '#honglimfoodcentre',\n",
       " '#sgbreakfast',\n",
       " '#Singapore',\n",
       " '#minjiangkueh',\n",
       " '#streetstorytelling',\n",
       " '#dinner',\n",
       " '#coworkingkitchen',\n",
       " '#the1950scoffee',\n",
       " '#travelpics',\n",
       " '#foodpicture',\n",
       " '#foodiesofinstagram',\n",
       " '#laosankwaychap',\n",
       " '#neverstopexploring',\n",
       " '#specialtycoffee',\n",
       " '#foodforfoodies',\n",
       " '#friedchicken',\n",
       " '#yapkeewantonmee',\n",
       " '#ghimmoh',\n",
       " '#コリラックマ',\n",
       " '#singaporehawkerfood',\n",
       " '#coffee',\n",
       " '#localeats',\n",
       " '#communitydiningroom',\n",
       " '#kingoffriedrice',\n",
       " '#SgFoodie',\n",
       " '#cheap',\n",
       " '#foodpornsg',\n",
       " '#weekendcoffeesg',\n",
       " '#phase2',\n",
       " '#drybanmee',\n",
       " '#michelinguide',\n",
       " '#foodhunt',\n",
       " '#一得阁墨汁',\n",
       " '#hokkienprawnmee',\n",
       " '#yuzu',\n",
       " '#proudtosupport',\n",
       " '#iwillbeback',\n",
       " '#yummyfood',\n",
       " '#artablyinlove',\n",
       " '#sgcafe',\n",
       " '#orhluaksg',\n",
       " '#muralart',\n",
       " '#sgcoffee',\n",
       " '#coffeebrew',\n",
       " '#supportsghawkers',\n",
       " '#yongtaufu',\n",
       " '#01-235,',\n",
       " '#CKT',\n",
       " '#internationalfoodieschat',\n",
       " '#01-14',\n",
       " '#affordable',\n",
       " '#lifeinsingapore',\n",
       " '#01-26,',\n",
       " '#jalanbesar',\n",
       " '#bestnasilemaksg',\n",
       " '#gracefulleeCommonwealth',\n",
       " '#ahsengbraisedduckrice',\n",
       " '#ondehondehcake',\n",
       " '#bainianyongtaufoo',\n",
       " '#fishballnoodle',\n",
       " '#halalsg',\n",
       " '#咖啡店吃喝',\n",
       " '#singaporelife',\n",
       " '#songkeefishball',\n",
       " '#igfoodies',\n",
       " '#jiaklocal',\n",
       " '#travel2021',\n",
       " '#hakkacusine',\n",
       " '#印度煎饼',\n",
       " ...]"
      ]
     },
     "execution_count": 44,
     "metadata": {},
     "output_type": "execute_result"
    }
   ],
   "source": [
    "unique_hashtags = list(unique_hashtags)\n",
    "unique_hashtags"
   ]
  },
  {
   "cell_type": "code",
   "execution_count": 45,
   "id": "0656ba2a",
   "metadata": {},
   "outputs": [],
   "source": [
    "# Create adjecency dictionary, where\n",
    "# adjacency_dict = k(#n, #n+1) => v: int(number of co-occurence across all posts)\n",
    "adjacency_dict = {}\n",
    "for hashtag in unique_hashtags:\n",
    "     for hashtag2 in unique_hashtags:\n",
    "            if (hashtag,hashtag2) not in adjacency_dict:\n",
    "                adjacency_dict[(hashtag,hashtag2)] = 0"
   ]
  },
  {
   "cell_type": "code",
   "execution_count": 46,
   "id": "899cdb2c",
   "metadata": {},
   "outputs": [
    {
     "data": {
      "text/plain": [
       "{('#grateful', '#grateful'): 0,\n",
       " ('#grateful', '#01-27,'): 0,\n",
       " ('#grateful', '#refuseplastic'): 0,\n",
       " ('#grateful', '#吃货最棒'): 0,\n",
       " ('#grateful', '#trending'): 0,\n",
       " ('#grateful', '#printstudio'): 0,\n",
       " ('#grateful', '#igfood'): 0,\n",
       " ('#grateful', '#porridgesg'): 0,\n",
       " ('#grateful', '#japanesefood'): 0,\n",
       " ('#grateful', '#sgblogger'): 0,\n",
       " ('#grateful', '#'): 0,\n",
       " ('#grateful', '#simpangbedok'): 0,\n",
       " ('#grateful', '#stjohnisland'): 0,\n",
       " ('#grateful', '#chefkin'): 0,\n",
       " ('#grateful', '#shiok'): 0,\n",
       " ('#grateful', '#besurprised'): 0,\n",
       " ('#grateful', '#红龟粿'): 0,\n",
       " ('#grateful', '#meihueats'): 0,\n",
       " ('#grateful', '#travelsketching'): 0,\n",
       " ('#grateful', '#sghawkerfood'): 0,\n",
       " ('#grateful', '#hawkercentresg'): 0,\n",
       " ('#grateful', '#yummylunch'): 0,\n",
       " ('#grateful', '#lifestories'): 0,\n",
       " ('#grateful', '#usksg'): 0,\n",
       " ('#grateful', '#好吃'): 0,\n",
       " ('#grateful', '#angmokiolohmeelaksa'): 0,\n",
       " ('#grateful', '#umami'): 0,\n",
       " ('#grateful', '#nomsh'): 0,\n",
       " ('#grateful', '#victorfamousfriedchickenwingrice'): 0,\n",
       " ('#grateful', '#sghome'): 0,\n",
       " ('#grateful', '#SgHeritageFood'): 0,\n",
       " ('#grateful', '#nasilemakayamtaliwang'): 0,\n",
       " ('#grateful', '#01-02,'): 0,\n",
       " ('#grateful', '#cafefood'): 0,\n",
       " ('#grateful', '#oystermeesua蚵仔面线'): 0,\n",
       " ('#grateful', '#natgeomyshot'): 0,\n",
       " ('#grateful', '#nolimit'): 0,\n",
       " ('#grateful', '#bestnasilemakintown#worththewait'): 0,\n",
       " ('#grateful', '#freshcoconut'): 0,\n",
       " ('#grateful', '#toapayohfood'): 0,\n",
       " ('#grateful', '#openingsoon'): 0,\n",
       " ('#grateful', '#localtrails'): 0,\n",
       " ('#grateful', '#foodislife'): 0,\n",
       " ('#grateful', '#eatsg'): 0,\n",
       " ('#grateful', '#沙爹'): 0,\n",
       " ('#grateful', '#01-05,'): 0,\n",
       " ('#grateful', '#haidilaosingapore'): 0,\n",
       " ('#grateful', '#streetphotographer'): 0,\n",
       " ('#grateful', '#travelgoals'): 0,\n",
       " ('#grateful', '#teochew'): 0,\n",
       " ('#grateful', '#rwp'): 0,\n",
       " ('#grateful', '#sginfluencer'): 0,\n",
       " ('#grateful', '#sgfoodstagram'): 0,\n",
       " ('#grateful', '#hawkerculture#hawkerculturesg'): 0,\n",
       " ('#grateful', '#wavebye21'): 0,\n",
       " ('#grateful', '#mooping'): 0,\n",
       " ('#grateful', '#麻辣香锅'): 0,\n",
       " ('#grateful', '#singaporefood'): 0,\n",
       " ('#grateful', '#foodexplorer'): 0,\n",
       " ('#grateful', '#eidilfitri'): 0,\n",
       " ('#grateful', '#fishsoup'): 0,\n",
       " ('#grateful', '#katonglaksa'): 0,\n",
       " ('#grateful', '#toyinstagra'): 0,\n",
       " ('#grateful', '#shiokfoodsg'): 0,\n",
       " ('#grateful', '#甄好介绍'): 0,\n",
       " ('#grateful', '#beefbrisketnoodle'): 0,\n",
       " ('#grateful', '#hotpot'): 0,\n",
       " ('#grateful', '#foodies'): 0,\n",
       " ('#grateful', '#168currychicken'): 0,\n",
       " ('#grateful', '#seafood'): 0,\n",
       " ('#grateful', '#friedrice'): 0,\n",
       " ('#grateful', '#Hawkercentres'): 0,\n",
       " ('#grateful', '#sourspicychili'): 0,\n",
       " ('#grateful', '#gluteniousrice'): 0,\n",
       " ('#grateful', '#streetshooting'): 0,\n",
       " ('#grateful', '#sgigfoodies'): 0,\n",
       " ('#grateful', '#chongboonmarket'): 0,\n",
       " ('#grateful', '#airlinefoodselfie'): 0,\n",
       " ('#grateful', '#exploresingaporeeat'): 0,\n",
       " ('#grateful', '#flavourbomb'): 0,\n",
       " ('#grateful', '#foodillustration'): 0,\n",
       " ('#grateful', '#city_noms'): 0,\n",
       " ('#grateful', '#westernbarbeque'): 0,\n",
       " ('#grateful', '#fishmaw'): 0,\n",
       " ('#grateful', '#braisedduckrice'): 0,\n",
       " ('#grateful', '#butfirstcoffee'): 0,\n",
       " ('#grateful', '#angmokio'): 0,\n",
       " ('#grateful', '#01-20,'): 0,\n",
       " ('#grateful', '#sengkeebakkutteh'): 0,\n",
       " ('#grateful', '#iphonephotography'): 0,\n",
       " ('#grateful', '#fishballnoodles'): 0,\n",
       " ('#grateful', '#grabfood'): 0,\n",
       " ('#grateful', '#cat'): 0,\n",
       " ('#grateful', '#01-71'): 0,\n",
       " ('#grateful', '#linoprinting'): 0,\n",
       " ('#grateful', '#B4-66,'): 0,\n",
       " ('#grateful', '#ngohhiang'): 0,\n",
       " ('#grateful', '#singaporeeats'): 0,\n",
       " ('#grateful', '#supporthawkersg'): 0,\n",
       " ('#grateful', '#killineykopithiam'): 0,\n",
       " ('#grateful', '#lovefood'): 0,\n",
       " ('#grateful', '#tomyum'): 0,\n",
       " ('#grateful', '#redcross'): 0,\n",
       " ('#grateful', '#simsvista'): 0,\n",
       " ('#grateful', '#charkwayteow'): 0,\n",
       " ('#grateful', '#foodbloggerSG'): 0,\n",
       " ('#grateful', '#prawnnoodles'): 0,\n",
       " ('#grateful', '#春联'): 0,\n",
       " ('#grateful', '#foodiesinternationalchat'): 0,\n",
       " ('#grateful', '#hawkersinwatercolours'): 0,\n",
       " ('#grateful', '#glutenfreesg'): 0,\n",
       " ('#grateful', '#impressive'): 0,\n",
       " ('#grateful', '#sgphotographer'): 0,\n",
       " ('#grateful', '#exploretocreate'): 0,\n",
       " ('#grateful', '#ᴠᴀᴄᴄɪɴᴇssᴀᴠᴇʟɪᴠᴇs'): 0,\n",
       " ('#grateful', '#01-17'): 0,\n",
       " ('#grateful', '#mediainvite'): 0,\n",
       " ('#grateful', '#imaginatones'): 0,\n",
       " ('#grateful', '#rendangchicken'): 0,\n",
       " ('#grateful', '#sgrestaurant'): 0,\n",
       " ('#grateful', '#sghawkerculture'): 0,\n",
       " ('#grateful', '#sgrestaurants'): 0,\n",
       " ('#grateful', '#livelife'): 0,\n",
       " ('#grateful', '#foodpic'): 0,\n",
       " ('#grateful', '#sgfoodblog'): 0,\n",
       " ('#grateful', '#packagefree'): 0,\n",
       " ('#grateful', '#coffeeartist'): 0,\n",
       " ('#grateful', '#exploreSG'): 0,\n",
       " ('#grateful', '#lixinteochewfishballnoodle'): 0,\n",
       " ('#grateful', '#chicken'): 0,\n",
       " ('#grateful', '#tanglinhalttraditionalpeanutpancake'): 0,\n",
       " ('#grateful', '#Grab50thHawkerCentre'): 0,\n",
       " ('#grateful',\n",
       "  '#nasilemakayamtaliwangsg#halalfoodie#halalfoodiesg#halalfood#hawkercentresg#hawkerculturesg'): 0,\n",
       " ('#grateful', '#koreanfriedchicken'): 0,\n",
       " ('#grateful', '#moments_in_streetlife'): 0,\n",
       " ('#grateful', '#SingaporeFoodie'): 0,\n",
       " ('#grateful', '#safrasg'): 0,\n",
       " ('#grateful', '#pancake'): 0,\n",
       " ('#grateful', '#localfare'): 0,\n",
       " ('#grateful', '#sgtastebud'): 0,\n",
       " ('#grateful', '#hawkerlegacy'): 0,\n",
       " ('#grateful', '#yishunfood'): 0,\n",
       " ('#grateful', '#02-32'): 0,\n",
       " ('#grateful', '#红纸'): 0,\n",
       " ('#grateful', '#note20ultraphotography'): 0,\n",
       " ('#grateful', '#YourSingapore'): 0,\n",
       " ('#grateful', '#lifeblogger'): 0,\n",
       " ('#grateful', '#bepositive'): 0,\n",
       " ('#grateful', '#bbqseafood'): 0,\n",
       " ('#grateful', '#supportlocalbusiness'): 0,\n",
       " ('#grateful', '#HawkerCenter'): 0,\n",
       " ('#grateful', '#projectdignity'): 0,\n",
       " ('#grateful', '#蛋香味'): 0,\n",
       " ('#grateful', '#HawkercultureSg'): 0,\n",
       " ('#grateful', '#cheecheongfun'): 0,\n",
       " ('#grateful', '#prints'): 0,\n",
       " ('#grateful', '#whitechicken'): 0,\n",
       " ('#grateful', '#sugarcanejuice'): 0,\n",
       " ('#grateful', '#双语美食库'): 0,\n",
       " ('#grateful', '#hawkerstall'): 0,\n",
       " ('#grateful', '#sglocal'): 0,\n",
       " ('#grateful', '#泡饭'): 0,\n",
       " ('#grateful', '#肉脞面'): 0,\n",
       " ('#grateful', '#clementi'): 0,\n",
       " ('#grateful', '#fochroad'): 0,\n",
       " ('#grateful', '#singapore🇸🇬'): 0,\n",
       " ('#grateful', '#01-53,'): 0,\n",
       " ('#grateful', '#bakkutteh'): 0,\n",
       " ('#grateful', '#cheecheongfunclub'): 0,\n",
       " ('#grateful', '#yishun'): 0,\n",
       " ('#grateful', '#limkopi'): 0,\n",
       " ('#grateful', '#awagami'): 0,\n",
       " ('#grateful', '#猪扒饭'): 0,\n",
       " ('#grateful', '#01-39'): 0,\n",
       " ('#grateful', '#tebangardensfoodcentre'): 0,\n",
       " ('#grateful', '#wallmural'): 0,\n",
       " ('#grateful', '#زوروا_سنغافورة'): 0,\n",
       " ('#grateful', '#peopleofsingapore'): 0,\n",
       " ('#grateful', '#grandpawesternfood'): 0,\n",
       " ('#grateful', '#geylangbriyanistall'): 0,\n",
       " ('#grateful', '#rediscoversingapore'): 0,\n",
       " ('#grateful', '#wantonmee'): 0,\n",
       " ('#grateful', '#byosingapore'): 0,\n",
       " ('#grateful', '#nikonphotography'): 0,\n",
       " ('#grateful', '#kueh'): 0,\n",
       " ('#grateful', '#laska'): 0,\n",
       " ('#grateful', '#comfortfood'): 0,\n",
       " ('#grateful', '#morningcoffee'): 0,\n",
       " ('#grateful', '#thaibasil'): 0,\n",
       " ('#grateful', '#sustainablesg'): 0,\n",
       " ('#grateful', '#yongtaufoo'): 0,\n",
       " ('#grateful', '#chinatown'): 0,\n",
       " ('#grateful', '#foodiegram'): 0,\n",
       " ('#grateful', '#wetmarket'): 0,\n",
       " ('#grateful', '#lino'): 0,\n",
       " ('#grateful', '#foodiesoninstagram'): 0,\n",
       " ('#grateful', '#koreanfoodsg'): 0,\n",
       " ('#grateful', '#gracefulleeJurongEast'): 0,\n",
       " ('#grateful', '#coffeeshop'): 0,\n",
       " ('#grateful', '#leekuanyewtribute'): 0,\n",
       " ('#grateful', '#prawnmee'): 0,\n",
       " ('#grateful', '#cartoon'): 0,\n",
       " ('#grateful', '#wuxiang'): 0,\n",
       " ('#grateful', '#DCfoodjournal'): 0,\n",
       " ('#grateful', '#eatlikeaqueen'): 0,\n",
       " ('#grateful', '#local'): 0,\n",
       " ('#grateful', '#eatnowburnnexttime'): 0,\n",
       " ('#grateful', '#chickenpot'): 0,\n",
       " ('#grateful', '#plqmall'): 0,\n",
       " ('#grateful', '#coffeeisdrug'): 0,\n",
       " ('#grateful', '#dapaoculture'): 0,\n",
       " ('#grateful', '#instagood'): 0,\n",
       " ('#grateful', '#01-27'): 0,\n",
       " ('#grateful', '#yypsd'): 0,\n",
       " ('#grateful', '#koreanfood'): 0,\n",
       " ('#grateful', '#byo'): 0,\n",
       " ('#grateful', '#soysaucechicken'): 0,\n",
       " ('#grateful', '#sgvegetarians'): 0,\n",
       " ('#grateful', '#koreanfoodlovers'): 0,\n",
       " ('#grateful', '#coffeeart'): 0,\n",
       " ('#grateful', '#curiousaccountant'): 0,\n",
       " ('#grateful', '#foodinstagram'): 0,\n",
       " ('#grateful', '#geylangfood'): 0,\n",
       " ('#grateful', '#tiongbahrumarket'): 0,\n",
       " ('#grateful', '#環境問題'): 0,\n",
       " ('#grateful', '#sgvegetarian'): 0,\n",
       " ('#grateful', '#sgfoodpic'): 0,\n",
       " ('#grateful', '#byocontainer'): 0,\n",
       " ('#grateful', '#streetphotography'): 0,\n",
       " ('#grateful', '#laozhongzhong'): 0,\n",
       " ('#grateful', '#ampangyongtaufoo'): 0,\n",
       " ('#grateful', '#nasilemak'): 0,\n",
       " ('#grateful', '#dabao'): 0,\n",
       " ('#grateful', '#lovesg'): 0,\n",
       " ('#grateful', '#visitsingapore'): 0,\n",
       " ('#grateful', '#kopiandtoast'): 0,\n",
       " ('#grateful', '#gracefulleejurongeast'): 0,\n",
       " ('#grateful', '#localjiak'): 0,\n",
       " ('#grateful', '#urbanstreet'): 0,\n",
       " ('#grateful', '#pasirris'): 0,\n",
       " ('#grateful', '#saltedbeanpancake'): 0,\n",
       " ('#grateful', '#simple'): 0,\n",
       " ('#grateful', '#hillstreettaihwaporknoodles'): 0,\n",
       " ('#grateful', '#delish'): 0,\n",
       " ('#grateful', '#localway'): 0,\n",
       " ('#grateful', '#byoc'): 0,\n",
       " ('#grateful', '#agarcakesingapore'): 0,\n",
       " ('#grateful', '#thesingaporefoodbutler'): 0,\n",
       " ('#grateful', 'Error'): 0,\n",
       " ('#grateful', '#channelnewsasia'): 0,\n",
       " ('#grateful', '#meerebus'): 0,\n",
       " ('#grateful', '#seafoodcongee'): 0,\n",
       " ('#grateful', '#DaJieNiangDouFu'): 0,\n",
       " ('#grateful', '#luruofan'): 0,\n",
       " ('#grateful', '#geylang'): 0,\n",
       " ('#grateful', '#localcoffee'): 0,\n",
       " ('#grateful', '#wearethestreets'): 0,\n",
       " ('#grateful', '#heapsengleong'): 0,\n",
       " ('#grateful', '#GrabforGood'): 0,\n",
       " ('#grateful', '#tanglinhaltfoodcentre'): 0,\n",
       " ('#grateful', '#dreams'): 0,\n",
       " ('#grateful', '#foodpornasia'): 0,\n",
       " ('#grateful', '#urbangallery'): 0,\n",
       " ('#grateful', '#eatersg'): 0,\n",
       " ('#grateful', '#wantonnoodles'): 0,\n",
       " ('#grateful', '#fooddiarysg'): 0,\n",
       " ('#grateful', '#whati8today'): 0,\n",
       " ('#grateful', '#coffeenation'): 0,\n",
       " ('#grateful', '#fromstreetswithlove'): 0,\n",
       " ('#grateful', '#sgcoffeeshop'): 0,\n",
       " ('#grateful', '#delicious'): 0,\n",
       " ('#grateful', '#cuisine'): 0,\n",
       " ('#grateful', '#SeeSeeEatEat'): 0,\n",
       " ('#grateful', '#kopitiam'): 0,\n",
       " ('#grateful', '#eat3bowlssg'): 0,\n",
       " ('#grateful', '#onsenegg'): 0,\n",
       " ('#grateful', '#HawkerFood'): 0,\n",
       " ('#grateful', '#bestchickenrice'): 0,\n",
       " ('#grateful', '#chinhogaixiao'): 0,\n",
       " ('#grateful', '#kopifellas'): 0,\n",
       " ('#grateful', '#rotiprataegg'): 0,\n",
       " ('#grateful', '#history'): 0,\n",
       " ('#grateful', '#bakchormee'): 0,\n",
       " ('#grateful', '#coffeeandtea'): 0,\n",
       " ('#grateful', '#beextraordinary'): 0,\n",
       " ('#grateful', '#foodspotting'): 0,\n",
       " ('#grateful', '#成記肉骨茶'): 0,\n",
       " ('#grateful', '#legacy'): 0,\n",
       " ('#grateful', '#烤虾'): 0,\n",
       " ('#grateful', '#livelifetothefullest'): 0,\n",
       " ('#grateful', '#covidtakeaway'): 0,\n",
       " ('#grateful', '#吉祥红龟粿'): 0,\n",
       " ('#grateful', '#sgigfoodporn'): 0,\n",
       " ('#grateful', '#singapore'): 0,\n",
       " ('#grateful', '#kwaychap'): 0,\n",
       " ('#grateful', '#singaporefoodie'): 0,\n",
       " ('#grateful', '#sgdining'): 0,\n",
       " ('#grateful', '#kopi'): 0,\n",
       " ('#grateful', '#famouseunosbakchormee'): 0,\n",
       " ('#grateful', '#mincedporknoodles'): 0,\n",
       " ('#grateful', '#BenEatsApr2021'): 0,\n",
       " ('#grateful', '#nokonnyaku'): 0,\n",
       " ('#grateful', '#kopisg'): 0,\n",
       " ('#grateful', '#sginstagrammers'): 0,\n",
       " ('#grateful', '#boonlayplace'): 0,\n",
       " ('#grateful', '#meehoonkway'): 0,\n",
       " ('#grateful', '#thisissingapore'): 0,\n",
       " ('#grateful', '#yishunparkhawkercentre'): 0,\n",
       " ('#grateful', '#jiaksimipng'): 0,\n",
       " ('#grateful', '#curry'): 0,\n",
       " ('#grateful', '#蛋炒飯'): 0,\n",
       " ('#grateful', '#coffeebreak'): 0,\n",
       " ('#grateful', '#singaporetrip'): 0,\n",
       " ('#grateful', '#travel'): 0,\n",
       " ('#grateful', '#sg'): 0,\n",
       " ('#grateful', '#fightofthebestfishballnoodle'): 0,\n",
       " ('#grateful', '#LokLokKing'): 0,\n",
       " ('#grateful', '#meepoktah'): 0,\n",
       " ('#grateful', '#sgfoodpics'): 0,\n",
       " ('#grateful', '#singaporeanindiannarrative'): 0,\n",
       " ('#grateful', '#womeninstreetsg'): 0,\n",
       " ('#grateful', '#streetgrammers'): 0,\n",
       " ('#grateful', '#1'): 0,\n",
       " ('#grateful', '#chinesenasilemak'): 0,\n",
       " ('#grateful', '#eatbooksg'): 0,\n",
       " ('#grateful', '#zichar'): 0,\n",
       " ('#grateful', '#printmakingstudio'): 0,\n",
       " ('#grateful', '#meesiam'): 0,\n",
       " ('#grateful', '#singaporeheritage'): 0,\n",
       " ('#grateful', '#01-38,'): 0,\n",
       " ('#grateful', '#butterfly'): 0,\n",
       " ('#grateful', '#traditionalsnacks'): 0,\n",
       " ('#grateful', '#小贩'): 0,\n",
       " ('#grateful', '#炒饭'): 0,\n",
       " ('#grateful', '#bubbletea'): 0,\n",
       " ('#grateful', '#chompchompfoodcentre'): 0,\n",
       " ('#grateful', '#hueats'): 0,\n",
       " ('#grateful', '#馋嘴双兔'): 0,\n",
       " ('#grateful', '#streethunters'): 0,\n",
       " ('#grateful', '#tabaolunch'): 0,\n",
       " ('#grateful', '#alexandravillage'): 0,\n",
       " ('#grateful', '#字述一年2021'): 0,\n",
       " ('#grateful', '#咖啡香'): 0,\n",
       " ('#grateful', '#SGFoodies'): 0,\n",
       " ('#grateful', '#igsgfoodies'): 0,\n",
       " ('#grateful', '#capturestreets'): 0,\n",
       " ('#grateful', '#malayfood'): 0,\n",
       " ('#grateful', '#rilakkuma'): 0,\n",
       " ('#grateful', '#eatatNewton'): 0,\n",
       " ('#grateful', '#print'): 0,\n",
       " ('#grateful', '#goldenmile'): 0,\n",
       " ('#grateful', '#joyousdec21'): 0,\n",
       " ('#grateful', '#BCM'): 0,\n",
       " ('#grateful', '#durian'): 0,\n",
       " ('#grateful', '#peranakancuisine'): 0,\n",
       " ('#grateful', '#eatlikealocal'): 0,\n",
       " ('#grateful', '#kopifrensfood'): 0,\n",
       " ('#grateful', '#travelphotography'): 0,\n",
       " ('#grateful', '#prawnnoodle'): 0,\n",
       " ('#grateful', '#positive'): 0,\n",
       " ('#grateful', '#蚝煎🍳'): 0,\n",
       " ('#grateful', '#手工面粉粿'): 0,\n",
       " ('#grateful', '#kopifrens'): 0,\n",
       " ('#grateful', '#instasgsunday10pm'): 0,\n",
       " ('#grateful', '#sgdaily'): 0,\n",
       " ('#grateful', '#latteart'): 0,\n",
       " ('#grateful', '#yishuneats'): 0,\n",
       " ('#grateful', '#wanton'): 0,\n",
       " ('#grateful', '#usk'): 0,\n",
       " ('#grateful', '#foodrecommendation'): 0,\n",
       " ('#grateful', '#hainanesechickenrice'): 0,\n",
       " ('#grateful', '#janusgoesnomnom'): 0,\n",
       " ('#grateful', '#uniquelysg'): 0,\n",
       " ('#grateful', '#jurongpoint'): 0,\n",
       " ('#grateful', '#roastmeat'): 0,\n",
       " ('#grateful', '#clementifoodcentre'): 0,\n",
       " ('#grateful', '#tedsingapore'): 0,\n",
       " ('#grateful', '#lunchtime'): 0,\n",
       " ('#grateful', '#sgfooddiary'): 0,\n",
       " ('#grateful', '#foodporn'): 0,\n",
       " ('#grateful', '#gracefulleeTanjongPagar'): 0,\n",
       " ('#grateful', '#sgstreetcollective'): 0,\n",
       " ('#grateful', '#zicharsg'): 0,\n",
       " ('#grateful', '#stayhealthy'): 0,\n",
       " ('#grateful', '#foodcomparing'): 0,\n",
       " ('#grateful', '#haidilao'): 0,\n",
       " ('#grateful', '#sdphbt'): 0,\n",
       " ('#grateful', '#brunch'): 0,\n",
       " ('#grateful', '#umamibroth'): 0,\n",
       " ('#grateful', '#friendsinstreets'): 0,\n",
       " ('#grateful', '#leekuanyew'): 0,\n",
       " ('#grateful', '#kuehlover'): 0,\n",
       " ('#grateful', '#laksa'): 0,\n",
       " ('#grateful', '#abcmarket'): 0,\n",
       " ('#grateful', '#singaporefoodporn'): 0,\n",
       " ('#grateful', '#caifan'): 0,\n",
       " ('#grateful', '#kekoumian'): 0,\n",
       " ('#grateful', '#eatoutsg'): 0,\n",
       " ('#grateful', '#instasg'): 0,\n",
       " ('#grateful', '#madaboutsingapore'): 0,\n",
       " ('#grateful', '#foodsg'): 0,\n",
       " ('#grateful', '#training'): 0,\n",
       " ('#grateful', '#caipng'): 0,\n",
       " ('#grateful', '#纽顿熟食中心'): 0,\n",
       " ('#grateful', '#ishirosg'): 0,\n",
       " ('#grateful', '#01-44,'): 0,\n",
       " ('#grateful', '#explore_singapore'): 0,\n",
       " ('#grateful', '#exploration'): 0,\n",
       " ('#grateful', '#减塑生活'): 0,\n",
       " ('#grateful', '#meepokdry'): 0,\n",
       " ('#grateful', '#02-35'): 0,\n",
       " ('#grateful', '#uniquelysingapore'): 0,\n",
       " ('#grateful', '#morningfix'): 0,\n",
       " ('#grateful', '#yummydeals'): 0,\n",
       " ('#grateful', '#oysterlover'): 0,\n",
       " ('#grateful', '#oldshifucharcoalporridge'): 0,\n",
       " ('#grateful', '#agaragar'): 0,\n",
       " ('#grateful', '#foodtrend'): 0,\n",
       " ('#grateful', '#singaporetravel'): 0,\n",
       " ('#grateful', '#queenstown'): 0,\n",
       " ('#grateful', '#sgheritagefood'): 0,\n",
       " ('#grateful', '#yongtaufoodry'): 0,\n",
       " ('#grateful', '#catlovers'): 0,\n",
       " ('#grateful', '#friedcarrotcake'): 0,\n",
       " ('#grateful', '#westernfood'): 0,\n",
       " ('#grateful', '#natgeoasia'): 0,\n",
       " ('#grateful', '#tiongbahrufood'): 0,\n",
       " ('#grateful', '#sengkee'): 0,\n",
       " ('#grateful', '#seafoodhorfun'): 0,\n",
       " ('#grateful', '#lunchtimesg'): 0,\n",
       " ('#grateful', '#sgffxhawkerpicks'): 0,\n",
       " ('#grateful', '#WhatMakesSG'): 0,\n",
       " ('#grateful', '#thefoodieinitiative'): 0,\n",
       " ('#grateful', '#hawkerfoodsg'): 0,\n",
       " ('#grateful', '#xiujiikanbilisyongtaufu'): 0,\n",
       " ('#grateful', '#02-93'): 0,\n",
       " ('#grateful', '#01-12,'): 0,\n",
       " ('#grateful', '#ibringmyownsg'): 0,\n",
       " ('#grateful', '#鱼丸面'): 0,\n",
       " ('#grateful', '#wfh'): 0,\n",
       " ('#grateful', '#backformore'): 0,\n",
       " ('#grateful', '#coconut'): 0,\n",
       " ('#grateful', '#nikonz7'): 0,\n",
       " ('#grateful', '#beefburgers'): 0,\n",
       " ('#grateful', '#chinese'): 0,\n",
       " ('#grateful', '#whatieatforlunch'): 0,\n",
       " ('#grateful', '#HawkerCultureSg'): 0,\n",
       " ('#grateful', '#coronavirussingapore'): 0,\n",
       " ('#grateful', '#instadaily'): 0,\n",
       " ('#grateful', '#singaporeidentity'): 0,\n",
       " ('#grateful', '#nasilemakayam'): 0,\n",
       " ('#grateful', '#singaporeteochewfood'): 0,\n",
       " ('#grateful', '#foodreviewssg'): 0,\n",
       " ('#grateful', '#halalfoodsg'): 0,\n",
       " ('#grateful', '#maxwellfoodcentre'): 0,\n",
       " ('#grateful', '#koungwantonmee'): 0,\n",
       " ('#grateful', '#michelinsg'): 0,\n",
       " ('#grateful', '#sgphotoshoot'): 0,\n",
       " ('#grateful', '#無痕飲食'): 0,\n",
       " ('#grateful', '#groupbuysg'): 0,\n",
       " ('#grateful', '#foodgrammer'): 0,\n",
       " ('#grateful', '#ecofriendly'): 0,\n",
       " ('#grateful', '#foodstagram'): 0,\n",
       " ('#grateful', '#米其林一星'): 0,\n",
       " ('#grateful', '#OurHawkerCulture'): 0,\n",
       " ('#grateful', '#eatingforinsta'): 0,\n",
       " ('#grateful', '#localfood'): 0,\n",
       " ('#grateful', '#healthyliving'): 0,\n",
       " ('#grateful', '#sgheritage'): 0,\n",
       " ('#grateful', '#noodles'): 0,\n",
       " ('#grateful', '#michelinstar'): 0,\n",
       " ('#grateful', '#naise'): 0,\n",
       " ('#grateful', '#dapao'): 0,\n",
       " ('#grateful', '#eunos'): 0,\n",
       " ('#grateful', '#weekendcoffee'): 0,\n",
       " ('#grateful', '#CoffeeShopEats'): 0,\n",
       " ('#grateful', '#sgeatout'): 0,\n",
       " ('#grateful', '#sghalal'): 0,\n",
       " ('#grateful', '#nyonyafusion'): 0,\n",
       " ('#grateful', '#stayhomestaysafe🏠'): 0,\n",
       " ('#grateful', '#foodexploring'): 0,\n",
       " ('#grateful', '#ramensg'): 0,\n",
       " ('#grateful', '#02-107,'): 0,\n",
       " ('#grateful', '#peoplesparkfoodcentre'): 0,\n",
       " ('#grateful', '#like'): 0,\n",
       " ('#grateful', '#flightmeal✈️'): 0,\n",
       " ('#grateful', '#whatihadforlunch'): 0,\n",
       " ('#grateful', '#foodgasm'): 0,\n",
       " ('#grateful', '#prawnmeesoup'): 0,\n",
       " ('#grateful', '#NewtonCircus'): 0,\n",
       " ('#grateful', '#OurCoffeeshopFood'): 0,\n",
       " ('#grateful', '#kinexmallsg'): 0,\n",
       " ('#grateful', '#foodstyling'): 0,\n",
       " ('#grateful', '#linocutting'): 0,\n",
       " ('#grateful', '#hawkerCultureSG'): 0,\n",
       " ('#grateful', '#staypositive💯'): 0,\n",
       " ('#grateful', '#covid_19singapore'): 0,\n",
       " ('#grateful', '#love'): 0,\n",
       " ('#grateful', '#uniqlo'): 0,\n",
       " ('#grateful', '#kosong'): 0,\n",
       " ('#grateful', '#travelawesome'): 0,\n",
       " ('#grateful', '#worththecalories'): 0,\n",
       " ('#grateful', '#coffeeaddict'): 0,\n",
       " ('#grateful', '#スティッチ'): 0,\n",
       " ('#grateful', '#yuanyangpengsiudai'): 0,\n",
       " ('#grateful', '#watercolour'): 0,\n",
       " ('#grateful', '#sghawkerfest'): 0,\n",
       " ('#grateful', '#8dayseatout'): 0,\n",
       " ('#grateful', '#jrecollectionfood'): 0,\n",
       " ('#grateful', '#top1handmadenoodle'): 0,\n",
       " ('#grateful', '#chinesefood'): 0,\n",
       " ('#grateful', '#whatlingeats'): 0,\n",
       " ('#grateful', '#tomyumdry'): 0,\n",
       " ('#grateful', '#instagood10'): 0,\n",
       " ('#grateful', '#instagramsg'): 0,\n",
       " ('#grateful', '#noplastic'): 0,\n",
       " ('#grateful', '#yuanyang'): 0,\n",
       " ('#grateful', '#softboiledeggs'): 0,\n",
       " ('#grateful', '#chinatowncomplexfoodcentre'): 0,\n",
       " ('#grateful', '#シンガポール散歩'): 0,\n",
       " ('#grateful', '#sgfoodtrending'): 0,\n",
       " ('#grateful', '#lorbakmama'): 0,\n",
       " ('#grateful', '#壁アート探し'): 0,\n",
       " ('#grateful', '#westernhawkerfood'): 0,\n",
       " ('#grateful', '#dessertsg'): 0,\n",
       " ('#grateful', '#sglocaleats'): 0,\n",
       " ('#grateful', '#月光河粉'): 0,\n",
       " ('#grateful', '#cranfieldcolours'): 0,\n",
       " ('#grateful', '#sginstagram'): 0,\n",
       " ('#grateful', '#hawkerheroes'): 0,\n",
       " ('#grateful', '#sgfood'): 0,\n",
       " ('#grateful', '#changicitypoint_sg'): 0,\n",
       " ('#grateful', '#bakersim'): 0,\n",
       " ('#grateful', '#coffeeislife'): 0,\n",
       " ('#grateful', '#oysteromellete'): 0,\n",
       " ('#grateful', '#NewtonFood'): 0,\n",
       " ('#grateful', '#beprepared'): 0,\n",
       " ('#grateful', '#wakerchicken'): 0,\n",
       " ('#grateful', '#foodblog'): 0,\n",
       " ('#grateful', '#drinksreviewsg'): 0,\n",
       " ('#grateful', '#greatcatchup'): 0,\n",
       " ('#grateful', '#singaporestreetscape'): 0,\n",
       " ('#grateful', '#oldschool'): 0,\n",
       " ('#grateful', '#GoldenMileFoodCentre'): 0,\n",
       " ('#grateful', '#dumplings'): 0,\n",
       " ('#grateful', '#singapore_insta'): 0,\n",
       " ('#grateful', '#supportlocalsg'): 0,\n",
       " ('#grateful', '#globaleats'): 0,\n",
       " ('#grateful', '#localculture'): 0,\n",
       " ('#grateful', '#abcbrickworksmarket'): 0,\n",
       " ('#grateful', '#travelsoon'): 0,\n",
       " ('#grateful', '#sgclean'): 0,\n",
       " ('#grateful', '#jixiangangkukueh'): 0,\n",
       " ('#grateful', '#expatsg'): 0,\n",
       " ('#grateful', '#潮州美食'): 0,\n",
       " ('#grateful', '#キイロイトリ'): 0,\n",
       " ('#grateful', '#hainanese'): 0,\n",
       " ('#grateful', '#cheeseburgers'): 0,\n",
       " ('#grateful', '#sghawkers'): 0,\n",
       " ('#grateful', '#早安咖啡'): 0,\n",
       " ('#grateful', '#vegetariansg'): 0,\n",
       " ('#grateful', '#support'): 0,\n",
       " ('#grateful', '#tanjongpagar'): 0,\n",
       " ('#grateful', '#vegetarian'): 0,\n",
       " ('#grateful', '#salmonmentaiko'): 0,\n",
       " ('#grateful', '#DaJieBedok'): 0,\n",
       " ('#grateful', '#amoyfoodcentre'): 0,\n",
       " ('#grateful', '#instafoodsg'): 0,\n",
       " ('#grateful', '#sgcoffeefest'): 0,\n",
       " ('#grateful', '#ironfrogpress'): 0,\n",
       " ('#grateful', '#wahoo'): 0,\n",
       " ('#grateful', '#peranakanfood'): 0,\n",
       " ('#grateful', '#kopiculture'): 0,\n",
       " ('#grateful', '#星際寶貝'): 0,\n",
       " ('#grateful', '#traveladdict'): 0,\n",
       " ('#grateful', '#localpeople'): 0,\n",
       " ('#grateful', '#yummypigtrotter'): 0,\n",
       " ('#grateful', '#boonkeng'): 0,\n",
       " ('#grateful', '#singaporelifestyle'): 0,\n",
       " ('#grateful', '#sgfoodlover'): 0,\n",
       " ('#grateful', '#communityfirst'): 0,\n",
       " ('#grateful', '#japan'): 0,\n",
       " ('#grateful', '#hawkerFavourite'): 0,\n",
       " ('#grateful', '#foodpornography'): 0,\n",
       " ('#grateful', '#bujiantiancharsiew'): 0,\n",
       " ('#grateful', '#sglife'): 0,\n",
       " ('#grateful', '#lunch'): 0,\n",
       " ('#grateful', '#kiiroitori'): 0,\n",
       " ('#grateful', '#肉骨茶'): 0,\n",
       " ('#grateful', '#fruitsrojak'): 0,\n",
       " ('#grateful', '#wheretodapao'): 0,\n",
       " ('#grateful', '#reuserevolution'): 0,\n",
       " ('#grateful', '#shoot2kill'): 0,\n",
       " ('#grateful', '#oyster'): 0,\n",
       " ('#grateful', '#壁アート'): 0,\n",
       " ('#grateful', '#小日子'): 0,\n",
       " ('#grateful', '#SupportLocalSg'): 0,\n",
       " ('#grateful', '#handmade'): 0,\n",
       " ('#grateful', '#muffins'): 0,\n",
       " ('#grateful', '#SgVibes'): 0,\n",
       " ('#grateful', '#04-44,'): 0,\n",
       " ('#grateful', '#urbanphotography'): 0,\n",
       " ('#grateful', '#top3kwaychapthusfar'): 0,\n",
       " ('#grateful', '#taiwanesefood'): 0,\n",
       " ('#grateful', '#maruhachi'): 0,\n",
       " ('#grateful', '#muralartist'): 0,\n",
       " ('#grateful', '#carsharing'): 0,\n",
       " ('#grateful', '#kopio'): 0,\n",
       " ('#grateful', '#burpple'): 0,\n",
       " ('#grateful', '#bcm'): 0,\n",
       " ('#grateful', '#abcbrickworksfoodcentre'): 0,\n",
       " ('#grateful', '#hawkersofsg'): 0,\n",
       " ('#grateful', '#zerowaste'): 0,\n",
       " ('#grateful', '#小確幸'): 0,\n",
       " ('#grateful', '#foodphotography'): 0,\n",
       " ('#grateful', '#nosingleuseplastic'): 0,\n",
       " ('#grateful', '#travelsketchers'): 0,\n",
       " ('#grateful', '#foodlovers'): 0,\n",
       " ('#grateful', '#yummylocalfare'): 0,\n",
       " ('#grateful', '#thefoodiesinitiative'): 0,\n",
       " ('#grateful', '#localtravel'): 0,\n",
       " ('#grateful', '#chillicrab🦀'): 0,\n",
       " ('#grateful', '#queenstownfood'): 0,\n",
       " ('#grateful', '#culturespoonsg'): 0,\n",
       " ('#grateful', '#twgrammersy'): 0,\n",
       " ('#grateful', '#singaporeculture'): 0,\n",
       " ('#grateful', '#friedoyster'): 0,\n",
       " ('#grateful', '#walkabout'): 0,\n",
       " ('#grateful', '#telokblangahcrescrentfoodcentre'): 0,\n",
       " ('#grateful', '#sweeguanhokkienmee'): 0,\n",
       " ('#grateful', '#hainanesecurryrice'): 0,\n",
       " ('#grateful', '#油鸡面'): 0,\n",
       " ('#grateful', '#streetvision'): 0,\n",
       " ('#grateful', '#goldenmilefoodcentre'): 0,\n",
       " ('#grateful', '#fooddeliverysg'): 0,\n",
       " ('#grateful', '#foodpictures'): 0,\n",
       " ('#grateful', '#savefnbsg'): 0,\n",
       " ('#grateful', '#amoystreetfoodcenter'): 0,\n",
       " ('#grateful', '#linoprint'): 0,\n",
       " ('#grateful', '#yearendthanks'): 0,\n",
       " ('#grateful', '#foodreview'): 0,\n",
       " ('#grateful', '#ourhawkerculture'): 0,\n",
       " ('#grateful', '#nokonjac'): 0,\n",
       " ('#grateful', '#yuanyangpeng'): 0,\n",
       " ('#grateful', '#sgeats'): 0,\n",
       " ('#grateful', '#oldschooltaste'): 0,\n",
       " ('#grateful', '#urbansketching'): 0,\n",
       " ('#grateful', '#igsg'): 0,\n",
       " ('#grateful', '#food'): 0,\n",
       " ('#grateful', '#sgfoodgram'): 0,\n",
       " ('#grateful', '#sengkeemushroommincedmeatnoodle'): 0,\n",
       " ('#grateful', '#beautyworldcentre'): 0,\n",
       " ('#grateful', '#01-101,'): 0,\n",
       " ('#grateful', '#coffeeortea'): 0,\n",
       " ('#grateful', '#specialtycoffeesg'): 0,\n",
       " ('#grateful', '#printmakingart'): 0,\n",
       " ('#grateful', '#exploresingapore'): 0,\n",
       " ('#grateful', '#beehoon'): 0,\n",
       " ('#grateful', '#thankyouhawkers'): 0,\n",
       " ('#grateful', '#01-33,'): 0,\n",
       " ('#grateful', '#neighbourhoodsg'): 0,\n",
       " ('#grateful', '#vegansg'): 0,\n",
       " ('#grateful', '#artiseverywhere'): 0,\n",
       " ('#grateful', '#streetframe'): 0,\n",
       " ('#grateful', '#barchor'): 0,\n",
       " ('#grateful', '#foodofinstagram'): 0,\n",
       " ('#grateful', '#yummydinner'): 0,\n",
       " ('#grateful', '#ytf'): 0,\n",
       " ('#grateful', '#seafoodsoup'): 0,\n",
       " ('#grateful', '#Seafood'): 0,\n",
       " ('#grateful', '#ahmachimian'): 0,\n",
       " ('#grateful', '#redhillcoffeeshop'): 0,\n",
       " ('#grateful', '#natgeoyourshot'): 0,\n",
       " ('#grateful', '#newton'): 0,\n",
       " ('#grateful', '#claypotrice'): 0,\n",
       " ('#grateful', '#linoleumprint'): 0,\n",
       " ('#grateful', '#hawkercentre'): 0,\n",
       " ('#grateful', '#foodbloggers'): 0,\n",
       " ('#grateful', '#sgkopi'): 0,\n",
       " ('#grateful', '#awagamipaper'): 0,\n",
       " ('#grateful', '#barchormeesoup'): 0,\n",
       " ('#grateful', '#新加坡美食'): 0,\n",
       " ('#grateful', '#claypot'): 0,\n",
       " ('#grateful', '#FoodieSg'): 0,\n",
       " ('#grateful', '#serangoonfood'): 0,\n",
       " ('#grateful', '#wallpainting'): 0,\n",
       " ('#grateful', '#friedchickenwings'): 0,\n",
       " ('#grateful', '#iphonexs'): 0,\n",
       " ('#grateful', '#claypotcurrychicken'): 0,\n",
       " ('#grateful', '#curryrice'): 0,\n",
       " ('#grateful', '#supporthawkers'): 0,\n",
       " ('#grateful', '#munchidelights'): 0,\n",
       " ('#grateful', '#braisedduck'): 0,\n",
       " ('#grateful', '#greenchilichickenrice'): 0,\n",
       " ('#grateful', '#indianexpats'): 0,\n",
       " ('#grateful', '#popiah'): 0,\n",
       " ('#grateful', '#gorengpisang'): 0,\n",
       " ('#grateful', '#singaporefoodscene'): 0,\n",
       " ('#grateful', '#好好吃饭'): 0,\n",
       " ('#grateful', '#chickenball'): 0,\n",
       " ('#grateful', '#eggy'): 0,\n",
       " ('#grateful', '#02-048,'): 0,\n",
       " ('#grateful', '#whatieatinaday'): 0,\n",
       " ('#grateful', '#ilovehawkerfood'): 0,\n",
       " ('#grateful', '#printmaking'): 0,\n",
       " ('#grateful', '#zionriverside'): 0,\n",
       " ('#grateful', '#eidmubarak'): 0,\n",
       " ('#grateful', '#foods'): 0,\n",
       " ('#grateful', '#1-30.'): 0,\n",
       " ('#grateful', '#ahhockfriedhokkienmee'): 0,\n",
       " ('#grateful', '#malaysiastreetfood'): 0,\n",
       " ('#grateful', '#fishandchips'): 0,\n",
       " ('#grateful', '#甄好吃'): 0,\n",
       " ('#grateful', '#foodshare'): 0,\n",
       " ('#grateful', '#سنغافورة'): 0,\n",
       " ('#grateful', '#yuanyangcoffee'): 0,\n",
       " ('#grateful', '#sghawkereats'): 0,\n",
       " ('#grateful', '#sgig'): 0,\n",
       " ('#grateful', '#sgigfood'): 0,\n",
       " ('#grateful', '#BBQ'): 0,\n",
       " ('#grateful', '#littleindiasingapore'): 0,\n",
       " ('#grateful', '#02-88,'): 0,\n",
       " ('#grateful', '#kolomee'): 0,\n",
       " ('#grateful', '#一得阁'): 0,\n",
       " ('#grateful', '#aphotoaday'): 0,\n",
       " ('#grateful', '#foodgramsg'): 0,\n",
       " ('#grateful', '#sgloklok'): 0,\n",
       " ('#grateful', '#sghistory'): 0,\n",
       " ('#grateful', '#zichardinner'): 0,\n",
       " ('#grateful', '#oneprawnnoodle#一號蝦麵'): 0,\n",
       " ('#grateful', '#松弛熊'): 0,\n",
       " ('#grateful', '#tiongbahruhawker'): 0,\n",
       " ('#grateful', '#BakKutTeh'): 0,\n",
       " ('#grateful', '#sgfoodblogger'): 0,\n",
       " ('#grateful', '#sembawanghillsfoodcentre'): 0,\n",
       " ('#grateful', '#eatingfortheinsta'): 0,\n",
       " ('#grateful', '#lifangcongee'): 0,\n",
       " ('#grateful', '#kkitchensg'): 0,\n",
       " ('#grateful', '#lifeblog'): 0,\n",
       " ('#grateful', '#01-01,'): 0,\n",
       " ('#grateful', '#lazarusisland'): 0,\n",
       " ('#grateful', '#sengkeebakchormee'): 0,\n",
       " ('#grateful', '#simsvistamarketandfoodcentre'): 0,\n",
       " ('#grateful', '#travelathome'): 0,\n",
       " ('#grateful', '#boatquay'): 0,\n",
       " ('#grateful', '#prawns'): 0,\n",
       " ('#grateful', '#porridge'): 0,\n",
       " ('#grateful', '#GoodEats'): 0,\n",
       " ('#grateful',\n",
       "  '#bakchormee#yishunparkhawkercentre#meekia#meekiadry#chashu#chashupork#porkball#porkballs#fishball#mincedpork#mincedmeat#noodles#porklard#onsenegg#egg#porkfat#saucynoodles#hawkers#hawkerculture#hawkerculturesg#sgfoodie#sgfoodies#sgfoodporn#foodporn#sgeats'): 0,\n",
       " ('#grateful', '#amoy'): 0,\n",
       " ('#grateful', '#burgers'): 0,\n",
       " ('#grateful', '#foodvibes'): 0,\n",
       " ('#grateful', '#japanese'): 0,\n",
       " ('#grateful', '#bibgourmand2021'): 0,\n",
       " ('#grateful', '#shootoniphone'): 0,\n",
       " ('#grateful', '#dabaosg'): 0,\n",
       " ('#grateful', '#meehoonkueh'): 0,\n",
       " ('#grateful', '#hawkerfood'): 0,\n",
       " ('#grateful', '#drynoodle'): 0,\n",
       " ('#grateful', '#sgfoodiegram'): 0,\n",
       " ('#grateful', '#tonkatsu'): 0,\n",
       " ('#grateful', '#travelblogger'): 0,\n",
       " ('#grateful', '#hollandbukittimah'): 0,\n",
       " ('#grateful', '#sghawker'): 0,\n",
       " ('#grateful', '#foodart'): 0,\n",
       " ('#grateful', '#howilikemycoffee'): 0,\n",
       " ('#grateful', '#horfun'): 0,\n",
       " ('#grateful', '#whati8todaysg'): 0,\n",
       " ('#grateful', '#exploringamk'): 0,\n",
       " ('#grateful', '#supporthawker'): 0,\n",
       " ('#grateful', '#street_gallery'): 0,\n",
       " ('#grateful', '#sgphotography'): 0,\n",
       " ('#grateful', '#cityscape'): 0,\n",
       " ('#grateful', '#CoffeeAroma'): 0,\n",
       " ('#grateful', '#instafood_sg'): 0,\n",
       " ('#grateful', '#coffeelover'): 0,\n",
       " ('#grateful', '#curious'): 0,\n",
       " ('#grateful', '#loklok'): 0,\n",
       " ('#grateful', '#walktheworldthroughcoffee'): 0,\n",
       " ('#grateful', '#brandcodes'): 0,\n",
       " ('#grateful', '#muffin'): 0,\n",
       " ('#grateful', '#stfoodtrending'): 0,\n",
       " ('#grateful', '#wallart'): 0,\n",
       " ('#grateful', '#peanutpancake'): 0,\n",
       " ('#grateful', '#吃货'): 0,\n",
       " ('#grateful', '#ExploreSG'): 0,\n",
       " ('#grateful', '#ricebowl'): 0,\n",
       " ('#grateful', '#hollandbukittimahgrc'): 0,\n",
       " ('#grateful', '#ilikefood'): 0,\n",
       " ('#grateful', '#singaporean'): 0,\n",
       " ('#grateful', '#raw_snap_morning'): 0,\n",
       " ('#grateful', '#不塑之客'): 0,\n",
       " ('#grateful', '#tribecar'): 0,\n",
       " ('#grateful', '#madroaster'): 0,\n",
       " ('#grateful', '#zicharnation'): 0,\n",
       " ('#grateful', '#byosg'): 0,\n",
       " ('#grateful', '#toapayohhawker'): 0,\n",
       " ('#grateful', '#sgfoodiary'): 0,\n",
       " ('#grateful', '#localbusiness'): 0,\n",
       " ('#grateful', '#urbansketcher'): 0,\n",
       " ('#grateful', '#sgfoodshare'): 0,\n",
       " ('#grateful', '#stickycakewithsweetpotato'): 0,\n",
       " ('#grateful', '#notsponsored'): 0,\n",
       " ('#grateful', '#janggutlaksa'): 0,\n",
       " ('#grateful', '#foodcoma'): 0,\n",
       " ('#grateful', '#Singaporeinsiders'): 0,\n",
       " ('#grateful', '#localdessert'): 0,\n",
       " ('#grateful', '#ayampenyet'): 0,\n",
       " ('#grateful', '#hainesechickenrice'): 0,\n",
       " ('#grateful', '#hawkersg'): 0,\n",
       " ('#grateful', '#shiokfoodfind'): 0,\n",
       " ('#grateful', '#mobilephotography'): 0,\n",
       " ('#grateful', '#handmadenoodles'): 0,\n",
       " ('#grateful', '#travelgram'): 0,\n",
       " ('#grateful', '#eeeeeats'): 0,\n",
       " ('#grateful', '#sgtravelblogger'): 0,\n",
       " ('#grateful', '#eunosbarchormee'): 0,\n",
       " ('#grateful', '#reusablenotdisposable'): 0,\n",
       " ('#grateful', '#sgfoodhunter'): 0,\n",
       " ('#grateful', '#thaibasilchicken'): 0,\n",
       " ('#grateful', '#anglohainanesecuisine'): 0,\n",
       " ('#grateful', '#ghimmohfoodcentre'): 0,\n",
       " ('#grateful', '#gubakkia'): 0,\n",
       " ('#grateful', '#ourhawkerheritage'): 0,\n",
       " ('#grateful', '#carrotcake'): 0,\n",
       " ('#grateful', '#beoriginal'): 0,\n",
       " ('#grateful', '#instagram'): 0,\n",
       " ('#grateful', '#lormeesg'): 0,\n",
       " ('#grateful', '#clementihawker'): 0,\n",
       " ('#grateful', '#iluvsg'): 0,\n",
       " ('#grateful', '#takeaway'): 0,\n",
       " ('#grateful', '#hawkers'): 0,\n",
       " ('#grateful', '#laupasat'): 0,\n",
       " ('#grateful', '#charkwayteowsg'): 0,\n",
       " ('#grateful', '#drynoodles'): 0,\n",
       " ('#grateful', '#fooddiary'): 0,\n",
       " ('#grateful', '#thaicuisine'): 0,\n",
       " ('#grateful', '#igersone'): 0,\n",
       " ('#grateful', '#楷书'): 0,\n",
       " ('#grateful', '#meepok'): 0,\n",
       " ('#grateful', '#indulgence'): 0,\n",
       " ('#grateful', '#hawkercenter'): 0,\n",
       " ('#grateful', '#illgrammers'): 0,\n",
       " ('#grateful', '#04-67,'): 0,\n",
       " ('#grateful', '#nourishyoursoul'): 0,\n",
       " ('#grateful', '#hawkerculturesg'): 0,\n",
       " ('#grateful', '#sgopening'): 0,\n",
       " ('#grateful', '#sgfoodunion'): 0,\n",
       " ('#grateful', '#01-26'): 0,\n",
       " ('#grateful', '#muslimfood'): 0,\n",
       " ('#grateful', '#hawker'): 0,\n",
       " ('#grateful', '#01-5109,'): 0,\n",
       " ('#grateful', '#leehsienloong'): 0,\n",
       " ('#grateful', '#airportfood'): 0,\n",
       " ('#grateful', '#unescointangibleculturalheritage'): 0,\n",
       " ('#grateful', '#beautifuldestinations'): 0,\n",
       " ('#grateful', '#oneprawnnoodle'): 0,\n",
       " ('#grateful', '#rediscoversg'): 0,\n",
       " ('#grateful', '#banmee'): 0,\n",
       " ('#grateful', '#ahterfishballnoodles'): 0,\n",
       " ('#grateful', '#sg_street_collective'): 0,\n",
       " ('#grateful', '#angkukueh'): 0,\n",
       " ('#grateful', '#tiongbahrufoodcentre'): 0,\n",
       " ('#grateful', '#smallbusiness'): 0,\n",
       " ('#grateful', '#吃不到不要怪我'): 0,\n",
       " ('#grateful', '#oysterlovers'): 0,\n",
       " ('#grateful', '#unagiricebowl'): 0,\n",
       " ('#grateful', '#JooSiahBKT'): 0,\n",
       " ('#grateful', '#pngkueh'): 0,\n",
       " ('#grateful', '#korea'): 0,\n",
       " ('#grateful', '#cheapeats'): 0,\n",
       " ('#grateful', '#noodlesoup'): 0,\n",
       " ('#grateful', '#breakfast'): 0,\n",
       " ('#grateful', '#throwback'): 0,\n",
       " ('#grateful', '#sgunited'): 0,\n",
       " ('#grateful', '#YouFuHokkienMeeSG'): 0,\n",
       " ('#grateful', '#korilakkuma'): 0,\n",
       " ('#grateful', '#ecofriendlyliving'): 0,\n",
       " ('#grateful', '#foodpassion'): 0,\n",
       " ('#grateful', '#新加坡双语美食库'): 0,\n",
       " ('#grateful', '#chickencutlet'): 0,\n",
       " ('#grateful', '#foodinsg'): 0,\n",
       " ('#grateful', '#pigorgansoup'): 0,\n",
       " ('#grateful', '#xinglongcookedfood'): 0,\n",
       " ('#grateful', '#whatissingapore'): 0,\n",
       " ('#grateful', '#awesomefood'): 0,\n",
       " ('#grateful', '#hillstreettaihwaporknoodle'): 0,\n",
       " ('#grateful', '#watercolorsketchbook'): 0,\n",
       " ('#grateful', '#saltedvegetable'): 0,\n",
       " ('#grateful', '#livetoeat'): 0,\n",
       " ('#grateful', '#foodgram'): 0,\n",
       " ('#grateful', '#foodlover'): 0,\n",
       " ('#grateful', '#bersehfoodcentre'): 0,\n",
       " ('#grateful', '#chinhojiak'): 0,\n",
       " ('#grateful', '#supportsmallbusiness'): 0,\n",
       " ('#grateful', '#xhhawker'): 0,\n",
       " ('#grateful', '#soysaucechickennoodle'): 0,\n",
       " ('#grateful', '#teamfnbsg'): 0,\n",
       " ('#grateful', '#fondmemories'): 0,\n",
       " ('#grateful', '#sgfoodporn'): 0,\n",
       " ('#grateful', '#igsgfood'): 0,\n",
       " ('#grateful', '#p2ha'): 0,\n",
       " ('#grateful', '#foodforthought'): 0,\n",
       " ('#grateful', '#catdrawing'): 0,\n",
       " ('#grateful', '#barchormee'): 0,\n",
       " ('#grateful', '#changivillagehawkercentre'): 0,\n",
       " ('#grateful', '#expatlivingsg'): 0,\n",
       " ('#grateful', '#fnbsg'): 0,\n",
       " ('#grateful', '#nhbsg'): 0,\n",
       " ('#grateful', '#localdelights'): 0,\n",
       " ('#grateful', '#womeninstreet'): 0,\n",
       " ('#grateful', '#fullofflavours'): 0,\n",
       " ('#grateful', '#tbt'): 0,\n",
       " ('#grateful', '#foodpics'): 0,\n",
       " ('#grateful', '#kasohsg'): 0,\n",
       " ('#grateful', '#tiongbahrumarketandfoodcentre'): 0,\n",
       " ('#grateful', '#hungry'): 0,\n",
       " ('#grateful', '#supportlocal'): 0,\n",
       " ('#grateful', '#life_is_street'): 0,\n",
       " ('#grateful', '#instasgSundayOurHawkers'): 0,\n",
       " ('#grateful', '#xt3'): 0,\n",
       " ('#grateful', '#killeverygram'): 0,\n",
       " ('#grateful', '#玩具攝影'): 0,\n",
       " ('#grateful', '#sgdelights'): 0,\n",
       " ('#grateful', '#chaitaokueh'): 0,\n",
       " ('#grateful', '#sgfoodtrend'): 0,\n",
       " ('#grateful', '#snapwithcanon'): 0,\n",
       " ('#grateful', '#denial'): 0,\n",
       " ('#grateful', '#satay'): 0,\n",
       " ('#grateful', '#bedokbarchormee'): 0,\n",
       " ('#grateful', '#sghawkerfare'): 0,\n",
       " ('#grateful', '#honglimfoodcentre'): 0,\n",
       " ('#grateful', '#sgbreakfast'): 0,\n",
       " ('#grateful', '#Singapore'): 0,\n",
       " ('#grateful', '#minjiangkueh'): 0,\n",
       " ('#grateful', '#streetstorytelling'): 0,\n",
       " ('#grateful', '#dinner'): 0,\n",
       " ('#grateful', '#coworkingkitchen'): 0,\n",
       " ('#grateful', '#the1950scoffee'): 0,\n",
       " ('#grateful', '#travelpics'): 0,\n",
       " ('#grateful', '#foodpicture'): 0,\n",
       " ('#grateful', '#foodiesofinstagram'): 0,\n",
       " ('#grateful', '#laosankwaychap'): 0,\n",
       " ('#grateful', '#neverstopexploring'): 0,\n",
       " ('#grateful', '#specialtycoffee'): 0,\n",
       " ('#grateful', '#foodforfoodies'): 0,\n",
       " ('#grateful', '#friedchicken'): 0,\n",
       " ('#grateful', '#yapkeewantonmee'): 0,\n",
       " ('#grateful', '#ghimmoh'): 0,\n",
       " ('#grateful', '#コリラックマ'): 0,\n",
       " ('#grateful', '#singaporehawkerfood'): 0,\n",
       " ('#grateful', '#coffee'): 0,\n",
       " ('#grateful', '#localeats'): 0,\n",
       " ('#grateful', '#communitydiningroom'): 0,\n",
       " ('#grateful', '#kingoffriedrice'): 0,\n",
       " ('#grateful', '#SgFoodie'): 0,\n",
       " ('#grateful', '#cheap'): 0,\n",
       " ('#grateful', '#foodpornsg'): 0,\n",
       " ('#grateful', '#weekendcoffeesg'): 0,\n",
       " ('#grateful', '#phase2'): 0,\n",
       " ('#grateful', '#drybanmee'): 0,\n",
       " ('#grateful', '#michelinguide'): 0,\n",
       " ('#grateful', '#foodhunt'): 0,\n",
       " ('#grateful', '#一得阁墨汁'): 0,\n",
       " ('#grateful', '#hokkienprawnmee'): 0,\n",
       " ('#grateful', '#yuzu'): 0,\n",
       " ('#grateful', '#proudtosupport'): 0,\n",
       " ('#grateful', '#iwillbeback'): 0,\n",
       " ('#grateful', '#yummyfood'): 0,\n",
       " ('#grateful', '#artablyinlove'): 0,\n",
       " ('#grateful', '#sgcafe'): 0,\n",
       " ('#grateful', '#orhluaksg'): 0,\n",
       " ('#grateful', '#muralart'): 0,\n",
       " ('#grateful', '#sgcoffee'): 0,\n",
       " ('#grateful', '#coffeebrew'): 0,\n",
       " ('#grateful', '#supportsghawkers'): 0,\n",
       " ('#grateful', '#yongtaufu'): 0,\n",
       " ('#grateful', '#01-235,'): 0,\n",
       " ('#grateful', '#CKT'): 0,\n",
       " ('#grateful', '#internationalfoodieschat'): 0,\n",
       " ('#grateful', '#01-14'): 0,\n",
       " ('#grateful', '#affordable'): 0,\n",
       " ('#grateful', '#lifeinsingapore'): 0,\n",
       " ('#grateful', '#01-26,'): 0,\n",
       " ('#grateful', '#jalanbesar'): 0,\n",
       " ('#grateful', '#bestnasilemaksg'): 0,\n",
       " ('#grateful', '#gracefulleeCommonwealth'): 0,\n",
       " ('#grateful', '#ahsengbraisedduckrice'): 0,\n",
       " ('#grateful', '#ondehondehcake'): 0,\n",
       " ('#grateful', '#bainianyongtaufoo'): 0,\n",
       " ('#grateful', '#fishballnoodle'): 0,\n",
       " ('#grateful', '#halalsg'): 0,\n",
       " ('#grateful', '#咖啡店吃喝'): 0,\n",
       " ('#grateful', '#singaporelife'): 0,\n",
       " ('#grateful', '#songkeefishball'): 0,\n",
       " ('#grateful', '#igfoodies'): 0,\n",
       " ('#grateful', '#jiaklocal'): 0,\n",
       " ('#grateful', '#travel2021'): 0,\n",
       " ('#grateful', '#hakkacusine'): 0,\n",
       " ('#grateful', '#印度煎饼'): 0,\n",
       " ...}"
      ]
     },
     "execution_count": 46,
     "metadata": {},
     "output_type": "execute_result"
    }
   ],
   "source": [
    "adjacency_dict"
   ]
  },
  {
   "cell_type": "code",
   "execution_count": 47,
   "id": "b875a7ec",
   "metadata": {},
   "outputs": [
    {
     "data": {
      "text/plain": [
       "['#sgfood, #sg, #sgfoodies, #hawkerculturesg, #koreanfoodsg, #singapore, #korean, #korea, #koreanfood, #koreanfoodlovers, #8dayseat, #food, #foodie, #foodporn, #foodstagram, #foodblogger, #foodie, #foodstylist, #foodpics, #foodprep, #foodblogger, #foodart, #foodgram, #travel, #travelphotography, #trending, #travelblogger, #travelgram, #training, #traveladdict, #travelpics',\n",
       " '#lino, #linocutprint, #linocut, #linoprint, #linoleumprint, #linocutting, #linoprinting, #print, #prints, #printmaking, #printstudio, #printmaker, #printmakingart, #printmakingstudio, #singapore, #singaporefood, #hawkerfood, #hawkerfoodsg, #hawkerculturesg, #sghawkerfood, #sghawkerculture, #sghawkers',\n",
       " '#chinhogaixiao, #chinhojiak, #甄好吃, #甄好介绍, #supporthawker, #supportlocal, #hawkerfoodsg, #hawkerfood, #hawkersg, #hawkerculturesg, #hawkercentre, #hawker, #hawkerculture, #ourhawkerculture, #singaporefood, #singaporefoodie, #singaporehawkerfood, #sgfoodie, #sgfood, #sghawker, #sghawkerculture, #singaporefoodculture, #soysaucechicken, #soysaucechickennoodle, #clementi, #clementifoodcentre, #clementifood, #clementihawker, #油鸡面',\n",
       " '#hawkerculturesg, #coffeeshopsg',\n",
       " '#affordable, #awesomefood, #delicious, #explorefood, #foodporn, #food, #foodie, #foodhunt, #foodreview, #foodexploring, #goodfood, #hueats, #hawkerculturesg, #hawker, #hawkerfood, #hungry, #iwannacomebackhere, #ilikefood, #impressive, #iwillbeback, #lovefood, #liveforfood, #meihueats, #sggdfood, #sgfood, #chickenrice, #chicken, #whitechicken, #hainesechickenrice, #bestchickenrice',\n",
       " '#lino, #linocutprint, #linocut, #linoprint, #linoleumprint, #linocutting, #linoprinting, #print, #prints, #printmaking, #printstudio, #printmaker, #printmakingart, #printmakingstudio, #singapore, #singaporefood, #hawkerfood, #hawkerfoodsg, #hawkerculturesg, #sghawkerfood, #sghawkerculture, #sghawkers',\n",
       " '#food, #foodie, #foodiesg, #foodspotting, #eatersg, #hawkerculturesg, #hawkersg, #hawkerfood, #wontonmee, #noodles, #singaporefoodie, #shiok, #sgdining, #sgeats, #delish, #eeeeeats, #delicious, #foodcoma, #foodspotting, #foodpics, #eatingforinsta, #igfoodies, #instafood, #foodinstagram, #thesingaporefoodbutler',\n",
       " '#lino, #linoleumprint, #linocutting, #linoprinting, #print, #prints, #printmaking, #printstudio, #printmaker, #printmakingart, #printmakingstudio, #awagami, #awagamipaper, #cranfieldcolours, #ironfrogpress, #singapore, #singaporefood, #hawkerfood, #hawkerfoodsg, #hawkerculturesg, #pngkueh',\n",
       " '#instafoodsg, #instafood, #locateats, #sgeats, #sgfoodie, #foodiesg, #sgfood, #hawkerculturesg, #hawkerfoodsg, #hawkerfood, #sghawkerfood, #localdelights, #supportlocalsg, #lunch, #fooddiarysg, #localjiak, #eatsg, #meerebus, #meesiam',\n",
       " '#justsaying, #singaporenews, #uniqlo, #supportlocalsg, #hawkerculturesg, #hawkerfood, #hawkerculture, #singapore, #singaporelife, #singaporelifestyle',\n",
       " '#OurCoffeeshopFood, #SupportLocal, #HawkerCultureSg, #CoffeeAroma, #FishballNoodles, #SgVibes, #小日子, #鱼丸面, #鱼圆面, #咖啡店吃喝, #早安咖啡, #咖啡香',\n",
       " '#DCfoodjournal, #killineykopithiam, #kopiandtoast, #hawker, #hawkerfood, #hawkercentre, #sghawker, #hawkerfoodsg, #hawkersg, #sghawkerfood, #hawkerculture, #hawkerculturesg, #sgfood, #sgfoodies, #sgfoodie, #sgeats, #sgfoodtrend, #sgfoodblogger, #burpple, #sgfoodporn, #singaporefood, #sgfooddiary',\n",
       " '#yuanyangpengsiudai, #weekendcoffee, #weekendcoffeesg, #sgcoffeefest, #coffeelover, #yuanyangcoffee, #traditionalcoffee, #coffeeortea, #coffeelover, #butfirstcoffee, #howilikemycoffee, #coffeeislove, #coffeeislife, #sgkopi, #igsgfood, #igsgdrinks, #ilovecoffee, #kopiculture, #hawkerculturesg',\n",
       " '#yummylocalfare, #hawkersg, #hawkerfood, #hawkerculturesg, #wavebye21',\n",
       " 'Error',\n",
       " '#01-5109,, #DCfoodjournal, #heapsengleong, #kopiandtoast, #hawker, #hawkerfood, #hawkercentre, #sghawker, #hawkerfoodsg, #hawkersg, #sghawkerfood, #hawkerculture, #hawkerculturesg, #sgfood, #sgfoodies, #sgfoodie, #sgeats, #sgfoodtrend, #sgfoodblogger, #burpple, #sgfoodporn, #singaporefood, #sgfooddiary',\n",
       " '#instafoodsg, #instafood, #locateats, #sgeats, #localjiak, #sgfoodie, #foodiesg, #sgfood, #comfortfood, #hawkerfood, #hawkerculturesg, #hawkerfoodsg, #dinner, #oystermeesua蚵仔面线, #timsum点心',\n",
       " '#sgclean, #hawkersinwatercolours, #hawkerculturesg, #sgfoodie, #sghawkers, #',\n",
       " '#chinhogaixiao, #chinhojiak, #甄好吃, #甄好介绍, #supporthawker, #supportlocal, #hawkerfoodsg, #hawkerfood, #hawkersg, #hawkerculturesg, #hawkercentre, #hawker, #hawkerculture, #ourhawkerculture, #singaporefood, #singaporefoodie, #singaporehawkerfood, #sgfoodie, #sgfood, #sghawker, #sghawkerculture, #singaporefoodculture, #fochroad, #paofan, #泡饭',\n",
       " '#1-30., #wheretodapao, #supportlocalsg, #supportsghawkers, #sgfoodies, #whattoeat, #sgeats, #muslimfood, #ayampenyet, #hawkerculturesg, #dabaosg',\n",
       " '#hawkerculturesg',\n",
       " '#lino, #linoleumprint, #linocutting, #linoprinting, #print, #prints, #printmaking, #printstudio, #printmaker, #printmakingart, #printmakingstudio, #singapore, #singaporefood, #hawkerfood, #hawkerfoodsg, #hawkerculturesg, #pngkueh',\n",
       " '#01-235,, #sgig, #igsg, #instadaily, #supportlocalsg, #supportlocalbusiness, #supportlocal, #singaporehawkerfood, #hawkerculturesg, #sgfoodie, #sgfoodreview, #sgfoodtrend, #sgfoodlover, #sgfoodblogger, #sgblogger, #sgfoodpic, #eatbooksg, #whati8todaysg',\n",
       " '#sgfoodies, #sgfood, #sgeats, #burpplesg, #instafoodsg, #jiaksimipng, #jiaklocal, #hawkerfoodsg, #sgfoodtrend, #globaleats, #thefoodieinitiative, #foodiesinternationalchat, #sgfoodblogger, #foodiesg, #foodsg, #singaporefood, #singaporefoodie, #eatbooksg, #8dayseat, #sgfoodhunt, #sgigfood, #hawkerculturesg, #eatoutsg, #yishunfood, #beefbrisketnoodle, #wantonmee, #chefkin',\n",
       " '#01-14, #DCfoodjournal, #ahterfishballnoodles, #fishballnoodles, #hawker, #hawkerfood, #hawkercentre, #sghawker, #hawkerfoodsg, #hawkersg, #sghawkerfood, #hawkerculture, #hawkerculturesg, #sgfood, #sgfoodies, #instafood, #foodstagram, #foodie, #sgfoodie, #sgeats, #foodphotography, #sgfoodtrend, #sgfoodblogger, #burpple, #igfood, #sgfoodporn, #singaporefood, #sgfooddiary',\n",
       " '#lino, #linoleumprint, #linocutting, #linoprinting, #print, #prints, #printmaking, #printstudio, #printmaker, #printmakingart, #printmakingstudio, #awagami, #awagamipaper, #cranfieldcolours, #singapore, #singaporefood, #hawkerfood, #hawkerfoodsg, #hawkerculturesg, #coffee',\n",
       " '#laosankwaychap, #umamibroth, #sourspicychili, #saltedvegetable, #top3kwaychapthusfar, #bakersim, #bakersimfood, #hawkerfoodsg, #hawkerculturesg, #unescointangibleculturalheritage',\n",
       " '#hawkerculturesg, #hawkerfood, #hawkerfoodsg, #lunchtime, #chickenrice, #sgfoodlover, #dabaosg, #byoc, #zerowastelifestyle, #noplastic, #byocontainer, #sgfood, #dabaosg, #internationalfoodieschat, #zerowaste, #reuserevolution, #不塑之客, #减塑生活, #無痕飲食, #byosg, #BYOsuccess, #byoc, #byo, #reusablenotdisposable, #refuseplastic, #sgfood, #packagefree, #foodtogo, #環境問題, #sustainablelivingsg, #ecofriendlyliving, #lunchtime',\n",
       " '#01-20,, #DCfoodjournal, #xinglongcookedfood, #caipng, #caifan, #hawker, #hawkerfood, #hawkercentre, #sghawker, #hawkerfoodsg, #hawkersg, #sghawkerfood, #hawkerculture, #hawkerculturesg, #sgfood, #sgfoodies, #foodie, #sgfoodie, #sgeats, #sgfoodtrend, #sgfoodblogger, #burpple, #sgfoodporn, #singaporefood, #sgfooddiary',\n",
       " '#singaporeanindian, #singaporeanindiannarrative, #singaporean, #singaporehistory, #singapore, #indianexpats, #expatlivingsg, #expatsingapore, #expatsg, #singaporeculture, #singaporeheritage, #covid_19singapore, #covid, #covid_19, #coronavirussingapore, #ᴠᴀᴄᴄɪɴᴇssᴀᴠᴇʟɪᴠᴇs, #hawkerfoodsg, #hawkerculture, #hawkerculturesg, #sgfood, #sgfoodies, #sgfooddiary',\n",
       " '#lino, #linocutprint, #linocut, #linoprint, #linoleumprint, #linocutting, #linoprinting, #print, #prints, #printmaking, #printstudio, #printmaker, #printmakingart, #printmakingstudio, #singapore, #singaporefood, #hawkerfood, #hawkerfoodsg, #hawkerculturesg, #sghawkerfood, #sghawkerculture, #sghawkers, #durian',\n",
       " '#chinhogaixiao, #chinhojiak, #甄好吃, #甄好介绍, #supporthawker, #supportlocal, #hawkerfoodsg, #hawkerfood, #hawkersg, #hawkerculturesg, #hawkercentre, #hawker, #hawkerculture, #ourhawkerculture, #singaporefood, #singaporefoodie, #singaporehawkerfood, #sgfoodie, #sgfood, #sghawker, #sghawkerculture, #singaporefoodculture, #prata, #rotiprata, #tebangarden',\n",
       " '#instafoodsg, #instafood, #locateats, #sgeats, #localjiak, #sgfoodie, #foodiesg, #sgfood, #eatsg, #fooddiarysg, #hawkerfood, #sghawkerfood, #hawkerculturesg, #claypotrice',\n",
       " '#foodstagram, #foodporn, #food, #sgfood, #sgfoodies, #sgcafe, #whati8today, #hawkerfood, #sgrestaurant, #sgfoodies, #sgfooddiary, #sgfoodhunt, #sgfoodblogger, #chinesefood, #chinese, #dumplings, #wanton, #noodles, #wantonmee, #amoy, #amoyfoodcentre, #hawker, #hawkerfoodsg, #supportsmallbusiness, #hawkerculture, #hawkerculturesg, #foodiesg',\n",
       " '#wakerchickensg, #wakerchicken, #supportlocal, #supporthawker, #openingsoon, #sgopening, #hawkerculturesg, #hawkerfood, #whatieatinaday, #sgfoodtrend, #sgfoodtrending, #sgdelights',\n",
       " '#01-26,, #DCfoodjournal, #katonglaksa, #laska, #hawker, #hawkerfood, #hawkercentre, #sghawker, #hawkerfoodsg, #hawkersg, #sghawkerfood, #hawkerculture, #hawkerculturesg, #sgfood, #sgfoodies, #instafood, #foodstagram, #foodie, #sgfoodie, #sgeats, #foodphotography, #sgfoodtrend, #sgfoodblogger, #burpple, #igfood, #sgfoodporn, #singaporefood, #sgfooddiary',\n",
       " '#sgfoodies, #sgfood, #sgeats, #burpplesg, #instafoodsg, #jiaksimipng, #jiaklocal, #hawkerfoodsg, #sgfoodtrend, #globaleats, #thefoodieinitiative, #foodiesinternationalchat, #sgfoodblogger, #foodiesg, #foodsg, #singaporefood, #singaporefoodie, #eatbooksg, #8dayseat, #sgfoodhunt, #sgigfood, #hawkerculturesg, #eatoutsg, #geylang, #wantonmee, #koungwantonmee',\n",
       " '#instafoodsg, #instafood, #locateats, #localjiak, #sgeats, #sgfoodie, #foodiesg, #sgfood, #hawkerculturesg, #hawkerfoodsg, #hawkerfood, #sghawkerfood, #fooddiarysg, #localdelights, #supportlocalsg, #fruitsrojak, #staypositive💯, #stayhomestaysafe🏠',\n",
       " '#gracefulleeJurongEast',\n",
       " '#prawnomelette, #coconut, #freshcoconut, #hawkerculture, #hawkerculturesg, #hawkerfood, #hawkerfoodsg, #maxwellfoodcentre, #unescointangibleculturalheritage',\n",
       " '#mural, #muralart, #wallart, #artiseverywhere, #projectdignity, #hawkerculturesg, #streetphotography, #boonkeng, #壁アート, #壁アート探し, #シンガポール散歩',\n",
       " '#meehoonkueh, #handmade, #meatball, #chickenball, #onsenegg, #kkitchensg, #手工面粉粿, #hawkerheritage, #comfortfood, #hawkerculturesg',\n",
       " '#01-36,, #DCfoodjournal, #sengkeemushroommincedmeatnoodle, #serangoongardenfoodcentre, #bakchormee, #hawker, #hawkerfood, #hawkercentre, #sghawker, #hawkerfoodsg, #hawkersg, #sghawkerfood, #hawkerculture, #hawkerculturesg, #sgfood, #sgfoodies, #sgfoodie, #sgeats, #sgfoodtrend, #sgfoodblogger, #burpple, #sgfoodporn, #singaporefood, #sgfooddiary',\n",
       " '#movingplates, #brandcodes, #lino, #linocutprint, #linocut, #linoprint, #linoleumprint, #linocutting, #linoprinting, #print, #prints, #printmaking, #printstudio, #printmaker, #printmakingart, #printmakingstudio, #awagami, #awagamipaper, #cranfieldcolours, #ironfrogpress, #singapore, #singaporefood, #hawkerfood, #hawkerfoodsg, #hawkerculturesg',\n",
       " '#movingplates, #brandcodes',\n",
       " '#hawkerculturesg, #singaporefood',\n",
       " '#peranakan, #peranakancuisine, #peranakanfood, #hawkerculture, #hawkerculturesg, #hawkerfood, #hawkercentre, #hawkerlegacy, #sghawkerculture, #localculture, #localpeople, #localfood, #localeats, #unpretentious',\n",
       " '#hawkerculturesg',\n",
       " '#coffeenation, #sgcoffee, #coffeeshopsg, #sgcoffeeshop, #igsgdrinks, #drinksreviewsg, #ilovecoffee, #yuanyang, #coffeeandtea, #hawkerculturesg, #naise, #kopiculture, #takeaway, #dabao',\n",
       " '#sgfood, #sgeats, #sgfoodie, #sgfoodtrend, #sgfoodpic, #explore_singapore, #supportlocal, #burpplesg, #instafoodsg, #hawkerculturesg, #hokkienmee',\n",
       " '#lino, #linocutprint, #linocut, #linoprint, #linoleumprint, #linocutting, #linoprinting, #print, #prints, #printmaking, #printstudio, #printmaker, #printmakingart, #printmakingstudio, #awagami, #awagamipaper, #cranfieldcolours, #ironfrogpress, #singapore, #singaporefood, #hawkerfood, #hawkerfoodsg, #hawkerculturesg',\n",
       " '#lino, #linocutprint, #linocut, #linoprint, #linoleumprint, #linocutting, #linoprinting, #print, #prints, #printmaking, #printstudio, #printmaker, #printmakingart, #printmakingstudio, #singapore, #singaporefood, #hawkerfood, #hawkerfoodsg, #hawkerculturesg, #sghawkerfood, #sghawkerculture, #sghawkers',\n",
       " '#YouFuHokkienMeeSG, #SgHawkerFood, #HawkerCultureSG, #GoldenMileFoodCentre, #BenEatsApr2021',\n",
       " '#instafoodsg, #instafood, #locateats, #localjiak, #sgeats, #sgfoodie, #foodiesg, #sgfood, #hawkerculturesg, #hawkerfoodsg, #hawkerfood, #sghawkerfood, #localdelights, #supportlocalsg, #eatsg, #fooddiarysg',\n",
       " '#instasg, #instasgsunday10pm, #instasgSundayOurHawkers, #ourhawkerculture, #foodies, #friedchickenwings, #hawkers, #thankyouhawkers, #friedchickenwings, #whatmakesSG, #hawkerfood, #exploreSG, #yoursingapore, #friedchicken, #hawkerCultureSG, #singapore, #yoursingapore, #singaporetimes, #thisissingapore, #iluvsg, #whatissingapore, #tedsingapore, #chickenrice, #hainanesechickenrice, #instafoodie, #foodiegram, #foodstagram, #foodporn, #sgfoodporn, #communityfirst, #singaporefood',\n",
       " '#instafoodsg, #instafood, #locateats, #sglocaleats, #sgeats, #localjiak, #sgfoodie, #foodiesg, #sgfood, #comfortfood, #hawkerfood, #hawkerculturesg, #hawkerfoodsg, #yummydinner, #lifangcongee, #kinexmallsg',\n",
       " '#02-107,, #DCfoodjournal, #madroaster, #kopiandtoast, #hawker, #hawkerfood, #hawkercentre, #sghawker, #hawkerfoodsg, #hawkersg, #sghawkerfood, #hawkerculture, #hawkerculturesg, #sgfood, #sgfoodies, #sgfoodie, #sgeats, #sgfoodtrend, #sgfoodblogger, #burpple, #sgfoodporn, #singaporefood, #sgfooddiary',\n",
       " '#instafoodsg, #instafood, #locateats, #localjiak, #sgeats, #sgfoodie, #foodiesg, #sgfood, #hawkerculturesg, #hawkerfoodsg, #hawkerfood, #sghawkerfood, #localdelights, #supportlocalsg, #lunch, #fooddiarysg, #nasilemak, #meesiam, #laksa, #changicitypoint_sg',\n",
       " '#sgfood, #sgeats, #sgfoodie, #sgfoodtrend, #whati8today, #sgfoodpic, #explore_singapore, #singapore, #supportlocal, #city_noms, #burpplesg, #instafoodsg, #hawkerculturesg, #bbqseafood, #satay',\n",
       " '#lino, #linoleumprint, #linocutting, #linoprinting, #print, #prints, #printmaking, #printstudio, #printmaker, #printmakingart, #printmakingstudio, #singapore, #singaporefood, #hawkerfood, #hawkerfoodsg, #hawkerculturesg, #pngkueh',\n",
       " '#lino, #linoleumprint, #linocutting, #linoprinting, #print, #prints, #printmaking, #printstudio, #printmaker, #printmakingart, #printmakingstudio, #awagami, #awagamipaper, #cranfieldcolours, #ironfrogpress, #singapore, #singaporefood, #hawkerfood, #hawkerfoodsg, #hawkerculturesg, #durian',\n",
       " '#sgfoodies, #sgfood, #sgeats, #burpplesg, #instafoodsg, #jiaklocal, #hawkerfoodsg, #sgfoodtrend, #globaleats, #thefoodieinitiative, #foodiesinternationalchat, #sgfoodblogger, #foodiesg, #foodsg, #singaporefood, #singaporefoodie, #eatbooksg, #8dayseat, #sgfoodhunt, #sgigfood, #hawkerculturesg, #eatoutsg, #goldenmilefoodcentre, #charkwayteow',\n",
       " '#satay, #春联, #沙爹, #毛笔, #红纸, #楷书, #小贩, #一得阁, #一得阁墨汁, #hawkerfood, #hawkerculture, #hawkerculturesg, #ourhawkerculture',\n",
       " '#B4-66,, #singaporefood, #foodphotography, #sgfoodblogger, #sgeats, #sgfoodiary, #sgfoodpic, #instafoodsg, #sgfoodie, #supportlocal, #sghawkerfood, #hawker, #localfood, #ion, #foodie, #local, #uniquelysg, #sgfood, #hawkerculturesg, #hokkienmee',\n",
       " '#lino, #linocutprint, #linocut, #linoprint, #linoleumprint, #linocutting, #linoprinting, #print, #prints, #printmaking, #printstudio, #printmaker, #printmakingart, #printmakingstudio, #singapore, #singaporefood, #hawkerfood, #hawkerfoodsg, #hawkerculturesg, #sghawkerfood, #sghawkerculture, #sghawkers',\n",
       " '#wenkangji, #goldenmilefoodcentre, #goldenmile, #wontonmee, #wantonmee, #wontonnoodles, #wantonnoodles, #bujiantiancharsiew, #sgfood, #sgfoodies, #sgfoodstagram, #sgfoodie, #sgfooddiary, #sgfoodlover, #eatsg, #hawkerfood, #hawkerfoodsg, #hawkerculturesg',\n",
       " '#queenstown, #queenstownfood, #sghawker, #supportlocal, #supporthawkers, #abcbrickworksmarket, #abcmarket, #abcbrickworksfoodcentre, #hawkerfoodsg, #hawkerculturesg',\n",
       " '#wakerchickensg, #wakerchicken, #supportlocalsg, #supporthawker, #hawkersofsg, #hawkersofsingapore, #koreanfriedchicken, #hawkerculturesg, #hawkerfood, #sgfoodies, #sgfood',\n",
       " '#LokLokKing, #LokLokKingSg, #sgffxhawkerpicks, #sgig, #instasg, #whatissingapore, #loklok, #sgloklok, #streetfoodsg, #malaysiastreetfood, #hawkerfood, #sghawkerfood, #HawkercultureSg, #ourhawkerculture, #Singaporeinsiders, #shiokfoodfind, #stfoodtrending, #burpplesg, #sgeats, #sgfoodie, #eatoutsg, #foodiegram, #sgfoodies, #foodgasm, #mooping, #fooddeliverysg, #sgfoodstagram, #whati8today',\n",
       " '#sginstagram, #igsg, #toyinstagra, #玩具攝影, #cameraeatsfirst, #相機先食, #sgfoodstagram, #exploresingaporeeat, #instagramsg, #sgigers, #supporthawker, #singaporeinsiders, #sgfoodunion, #ourhawkerculture, #hawkerfoodsg, #hawkerfood, #hawkerculturesg, #bakchormee, #hillstreettaihwaporknoodle, #michelinguide, #michelinsg, #hawkerculturesg, #localdelicacy, #sgfooddiary, #sgigfood, #foodiesofinstagram, #foodstamping, #8dayseatout, #xhhawker, #スティッチ, #星際寶貝',\n",
       " '#01-33,, #DCfoodjournal, #kolomee, #hawker, #hawkerfood, #hawkercentre, #sghawker, #hawkerfoodsg, #hawkersg, #sghawkerfood, #hawkerculture, #hawkerculturesg, #sgfood, #sgfoodies, #foodie, #sgfoodie, #sgeats, #sgfoodtrend, #sgfoodblogger, #burpple, #sgfoodporn, #singaporefood, #sgfooddiary',\n",
       " '#01-53,, #DCfoodjournal, #westernbarbeque, #oldairportroadfoodcentre, #hawker, #hawkerfood, #hawkercentre, #sghawker, #hawkerfoodsg, #hawkersg, #sghawkerfood, #hawkerculture, #hawkerculturesg, #sgfood, #sgfoodies, #sgfoodie, #sgeats, #sgfoodtrend, #sgfoodblogger, #burpple, #sgfoodporn, #singaporefood, #sgfooddiary',\n",
       " '#instafoodsg, #instafood, #locateats, #sgeats, #localjiak, #sglocaleats, #sgfoodies, #sgfood, #eatsg, #fooddiarysg, #hawkerfood, #sghawkerfood, #hawkerculturesg, #hawkerfoodsg, #whatieatforlunch, #taiwanesefood, #yummy',\n",
       " '#hawkercenter, #hawkerculturesg',\n",
       " '#foodstagram, #foodporn, #food, #sgfood, #sgfoodies, #sgcafe, #whati8today, #hawkerfood, #sgrestaurant, #sgfoodies, #sgfooddiary, #sgfoodhunt, #sgfoodblogger, #chinesefood, #chinese, #zichar, #zicharfood, #hawker, #hawkerfoodsg, #pasirris, #prawns, #Seafood, #prawnnoodles, #porridge, #Congress, #seafoodcongee, #supportsmallbusiness, #hawkerculture, #hawkerculturesg, #singaporefood, #sginfluencer',\n",
       " 'Error',\n",
       " '#denial, #satay, #sugarcanejuice, #hawkerlegacy, #hawkercentre, #hawkerfood, #hawkerculturesg, #hawkerculture, #travel2021, #traveldiary, #travelathome, #touristinhomecountry, #food, #localfood, #localeats, #localculture, #airportfood',\n",
       " '#jurongpoint, #singaporefood, #hawkerculturesg',\n",
       " '#chinhogaixiao, #chinhojiak, #甄好吃, #甄好介绍, #supporthawker, #supportlocal, #hawkerfoodsg, #hawkerfood, #hawkersg, #hawkerculturesg, #hawkercentre, #hawker, #hawkerculture, #ourhawkerculture, #singaporefood, #singaporefoodie, #singaporehawkerfood, #sgfoodie, #sgfood, #sghawker, #sghawkerculture, #singaporefoodculture, #tebangardens, #tebangardensfoodcentre, #prawnmee, #prawnmeesoup',\n",
       " '#hawkerculturesg',\n",
       " '#01-01,, #DCfoodjournal, #sinhoehuatcafe, #sembawanghillsfoodcentre, #kopiandtoast, #hawker, #hawkerfood, #hawkercentre, #sghawker, #hawkerfoodsg, #hawkersg, #sghawkerfood, #hawkerculture, #hawkerculturesg, #sgfood, #sgfoodies, #foodie, #sgfoodie, #sgeats, #sgfoodtrend, #sgfoodblogger, #burpple, #sgfoodporn, #singaporefood, #sgfooddiary',\n",
       " '#sginstagram, #igsg, #toyinstagra, #玩具攝影, #cameraeatsfirst, #相機先食, #exploresingaporeeat, #instagramsg, #sgigers, #supporthawker, #singaporeinsiders, #sgfoodunion, #ourhawkerculture, #hawkerfoodsg, #hawkerculturesg, #bakchormee, #hillstreettaihwaporknoodle, #michelinguide, #michelinsg, #米其林一星, #sgfooddiary, #sgigfood, #foodiesofinstagram, #foodstamping, #8dayseatout, #xpphawker',\n",
       " '#instafoodsg, #instafood, #locateats, #sgeats, #localjiak, #sgfoodie, #foodiesg, #sgfood, #comfortfood, #hawkerfood, #hawkerculturesg, #hawkerfoodsg, #kayabuttertoast, #softboiledeggs, #limkopi, #oldschooltaste, #breakfast',\n",
       " '#hawkersinwatercolours, #hawkerculturesg, #sghawkers, #nasilemakayam, #changivillagehawkercentre, #watercolour, #watercoloursketch, #urbansketcher, #travelsketchers',\n",
       " '#instafoodsg, #instafood, #locateats, #sgeats, #localjiak, #sgfoodie, #foodiesg, #sgfood, #eatsg, #fooddiarysg, #hawkerfood, #sghawkerfood, #hawkerculturesg, #hawkerfoodsg, #whatieatforlunch, #localdelights, #supportlocalsg, #laksa, #otah, #janggutlaksa, #yummy',\n",
       " '#michiamkueh, #peanutpancake, #saltedbeanpancake, #hawkerfood, #hawkerfoodsg, #sghawkerfood, #hawkerculture, #hawkerculturesg, #sghawkerculture, #ourhawkerculture, #tanglinhaltfoodcentre, #sgheritage, #sgheritagefood, #tanglinhalttraditionalpeanutpancake',\n",
       " '#livelife, #livelifetothefullest, #curious, #singaporefood, #singaporefoodie, #foodporn, #exploration, #lifeblog, #lifeblogger, #grateful, #foodcoma, #lifestories, #grateful, #hawkerfood, #hawkerculture, #hawkerculturesg, #noodles',\n",
       " '#wheretodapao, #sgfood, #wheretodapao, #livetoeat, #food, #hawkerfoodsg, #yapkeewantonmee, #wantonmee, #hawkerfood, #sghawker, #hawkerculture, #hawkerfoodsg, #hawkerculturesg, #sgfoodies, #sgfoodporn, #eatoutsg, #singaporefood, #singaporefoodie, #instafood, #foodie, #foodstagram, #foodgasm, #eatingfortheinsta, #eatbooksg',\n",
       " '#instafoodsg, #instafood, #locateats, #sgeats, #localjiak, #sgfoodie, #foodiesg, #sgfood, #eatsg, #fooddiarysg, #hawkerfood, #sghawkerfood, #hawkerculturesg, #wantonmee, #yummy',\n",
       " '#lino, #linocutprint, #linocut, #linoprint, #linoleumprint, #linocutting, #linoprinting, #print, #prints, #printmaking, #printstudio, #printmaker, #printmakingart, #printmakingstudio, #singapore, #singaporefood, #hawkerfood, #hawkerfoodsg, #hawkerculturesg, #sghawkerfood, #sghawkerculture, #sghawkers',\n",
       " '#OurHawkerCulture, #WhatMakesSG, #HawkerFood, #ExploreSG, #YourSingapore, #HawkerCultureSG, #HawkerCenter, #singapore, #yoursingapore, #natgeoasia, #singaporean',\n",
       " 'Error',\n",
       " '#字述一年, #字述一年2021, #raw_snap_morning, #citygrammers, #travelgram, #beautifuldestinations, #instasg, #sgig, #iluvsg, #instagood10, #killeverygram, #singapore, #sghome, #whatissingapore, #thisissingapore, #visitsingapore, #singaporelife, #singaporetimes, #portraitphotography, #coffeeaddict, #oldschool, #rediscoversg, #raw_community, #supportlocalsg, #supportsmallbusiness, #snapwithcanon, #supportlocal, #safrasg, #instagram, #HawkerCultureSG',\n",
       " '#纽顿熟食中心, #肉脞面, #烤虾, #馋嘴双兔, #吃货最棒, #越来越宅, #双语美食库, #新加坡双语美食库, #新加坡美食, #纽顿, #纽顿熟食中心, #hawkerculturesg, #livetoeat, #SingaporeFoodie, #whatlingeats, #neighbourhoodsg, #eatatNewton, #NewtonFood, #NewtonCircus, #hawkerFavourite, #hawkersg, #BCM, #BBQ',\n",
       " '#instafoodsg, #instafood, #locateats, #sgeats, #sgfoodie, #foodiesg, #sgfood, #localjiak, #eatsg, #fooddiarysg, #hawkerfood, #sghawkerfood, #hawkerculturesg, #taiwanesefood, #eat3bowlssg, #yummy, #luruofan, #bubbletea',\n",
       " '#chinhogaixiao, #chinhojiak, #甄好吃, #甄好介绍, #supporthawker, #supportlocal, #hawkerfoodsg, #hawkerfood, #hawkersg, #hawkerculturesg, #hawkercentre, #hawker, #hawkerculture, #ourhawkerculture, #singaporefood, #singaporefoodie, #singaporehawkerfood, #sgfoodie, #sgfood, #sghawker, #sghawkerculture, #singaporefoodculture, #ramen, #yuzu',\n",
       " '#01-17, #DCfoodjournal, #angmokiolohmeelaksa, #lormee, #lormeesg, #hawker, #hawkerfood, #hawkercentre, #sghawker, #hawkerfoodsg, #hawkersg, #sghawkerfood, #hawkerculture, #hawkerculturesg, #sgfood, #sgfoodies, #sgfoodie, #sgeats, #sgfoodtrend, #sgfoodblogger, #burpple, #sgfoodporn, #singaporefood, #sgfooddiary',\n",
       " '#سنغافورة, #زوروا_سنغافورة, #VisitSingapore.',\n",
       " '#nasilemakayamtaliwang, #nasilemakayamtaliwangsg#halalfoodie#halalfoodiesg#halalfood#hawkercentresg#hawkerculturesg, #bestnasilemaksg, #bestnasilemakintown#worththewait',\n",
       " '#hawkercenter, #hawkerculturesg, #singaporefood',\n",
       " '#nomsh, #artablyinlove, #hawkerculturesg, #llama',\n",
       " '#sghawkerfood, #hawkerculturesg, #sgfood, #foodiesg, #sgfoodie, #globaleats, #localfoodsg, #byosingapore, #sgfoodiegram, #ibringmyownsg, #byocontainer, #byoc, #sgfood, #sgfoodlover, #instafood, #lunchtimesg, #foodies, #popiah, #singaporefood, #igsg, #instafood, #igdaily, #ecofriendly, #reusablenotdisposable, #nosingleuseplastic, #whati8today, #foodsg, #sustainablesg, #foodporn, #foodreviewssg, #byosg',\n",
       " '#hawkerculturesg',\n",
       " '#sgfoodstagram, #sgfoodiegram, #sgfoodies, #sgfoodie, #sgfoodporn, #sgfood, #sgfoodlover, #sgfoodblogger, #sgfooddiary, #sgigfoodies, #sgigfoodporn, #foodlover, #sgfoodlover, #sghawkerfood, #hawkerculturesg, #supportlocal, #sgtastebud, #sgfoodphotography, #sginfluencer, #instadaily, #sgig, #igsg, #supportlocalsg, #supportlocalbusiness, #mediainvite, #whati8today, #eatbooksg, #sgfoodtrend, #foodvibes, #discoverunder10k.',\n",
       " '#hawkerculturesg, #singaporefood, #singapore, #chaitaokueh, #coffeeshop, #singaporeculture, #urbanphotography, #foodstall, #hawkerstall',\n",
       " '#lino, #linoleumprint, #linocutting, #linoprinting, #print, #prints, #printmaking, #printstudio, #printmaker, #printmakingart, #printmakingstudio, #awagami, #awagamipaper, #cranfieldcolours, #ironfrogpress, #singapore, #singaporefood, #hawkerfood, #hawkerfoodsg, #hawkerculturesg, #pngkueh',\n",
       " '#singaporefood, #hawkerculturesg',\n",
       " '#instafoodsg, #instafood, #locateats, #sgeats, #localjiak, #sgfoodie, #foodiesg, #sgfood, #hawkerculturesg, #hawkerfoodsg, #hawkerfood, #sghawkerfood, #chickencutlet, #yummy',\n",
       " '#01-101,, #DCfoodjournal, #victorfamousfriedchickenwingrice, #chickenrice, #hawker, #hawkerfood, #hawkercentre, #sghawker, #hawkerfoodsg, #hawkersg, #sghawkerfood, #hawkerculture, #hawkerculturesg, #sgfood, #sgfoodies, #foodie, #sgfoodie, #sgeats, #sgfoodtrend, #sgfoodblogger, #burpple, #sgfoodporn, #singaporefood, #sgfooddiary',\n",
       " '#instafoodsg, #instafood, #locateats, #sgeats, #sgfoodie, #foodiesg, #sgfood, #comfortfood, #hawkerfood, #hawkerculturesg, #hawkerfoodsg, #whatieatforlunch, #localdelights, #supportlocalsg, #seafoodhorfun, #foodsg, #singaporefood, #fooddiarysg, #eatoutsg, #sghawkerfood',\n",
       " '#meehoonkueh, #handmade, #meatball, #chickenball, #onsenegg, #kkitchensg, #手工面粉粿, #hawkerheritage, #comfortfood, #hawkerculturesg',\n",
       " '#iphonexs, #iphonephotography, #shootoniphone, #natgeoyourshot, #natgeomyshot, #streetphotography, #streetshooting, #hawkercentre, #hawkersg, #hawkerculturesg, #hawkerculture',\n",
       " '#whatissingapore, #thisissingapore, #peopleofsingapore, #singaporelife, #singaporestreetphotography, #streetphotography, #everydayasia, #chinatown, #hawkerculturesg, #wetmarket, #womeninstreet, #womeninstreetsg, #femalephotographers, #singaporestreetphotography, #friendsinstreets, #streetphotography, #streetphotographytribe, #streethunters, #sgstreetcollective, #sg_street_collective, #moments_in_streetlife, #life_is_street, #capturestreets, #moments_in_streetlife, #wearethestreets, #fromstreetswithlove, #streetstorytelling, #streetphotographer, #womenstreetphotographers, #xt3, #fujifilm',\n",
       " '#01-02,, #DCfoodjournal, #kolomee, #hawker, #hawkerfood, #hawkercentre, #sghawker, #hawkerfoodsg, #hawkersg, #sghawkerfood, #hawkerculture, #hawkerculturesg, #sgfood, #sgfoodies, #foodie, #sgfoodie, #sgeats, #sgfoodtrend, #sgfoodblogger, #burpple, #sgfoodporn, #singaporefood, #sgfooddiary',\n",
       " '#singaporefoodscene, #localfare, #supportlocalsg, #healthyliving, #sghawker, #foodies, #singaporefood, #sgfood, #sgfoodies, #sgeats, #igsg, #covidtakeaway, #unescohawkerculture, #dapaoculture, #ricebowl, #healthyeating, #burpple, #cheapeats, #visitsingapore, #shiok, #instafood, #foodstagram, #foodie, #sgfoodie, #yummydeals, #8dayseat, #eatyourvegetables, #hawkerculturesg, #hawkerculture',\n",
       " '#yearendthanks, #hawkersinwatercolours, #urbansketching, #travelsketching, #watercolorsketchbook, #hawkerculturesg, #sghawkerculture',\n",
       " '#glutenfreesg, #vegansg, #vegetariansg, #dessertsg, #ondehondehcake, #localbusiness, #hawkerculturesg, #dessertsg, #agaragar, #agarcakesingapore, #nokonnyaku, #nokonjac, #beoriginal, #beextraordinary, #besurprised',\n",
       " '#sgigfood, #sgigfoodies, #carrotcake, #simple, #菜头粿, #eggy, #fullofflavours, #wokhei, #sgfoodblogger, #sgfoodtrend, #sgfoodporn, #hawkersg, #supporthawkersg, #sgfoodies, #igsgfood, #igsgfoodies, #p2ha, #蛋香味, #好吃, #hawkerfood, #foodstagram, #whati8today, #foodtrend, #instafood_sg, #hawkerculturesg',\n",
       " '#glutenfreesg, #vegansg, #vegetariansg, #dessertsg, #ondehondehcake, #localbusiness, #hawkerculturesg, #dessertsg, #agaragar, #agarcakesingapore, #nokonnyaku, #nokonjac, #beoriginal, #beextraordinary, #besurprised',\n",
       " '#01-93,, #DCfoodjournal, #oneprawnnoodle, #prawnnoodle, #prawnnoodles, #goldenmilefoodcentre, #hawker, #hawkerfood, #hawkercentre, #sghawker, #hawkerfoodsg, #hawkersg, #sghawkerfood, #hawkerculture, #hawkerculturesg, #sgfood, #sgfoodies, #instafood, #foodstagram, #foodie, #sgfoodie, #sgeats, #foodphotography, #sgfoodtrend, #sgfoodblogger, #burpple, #igfood, #sgfoodporn, #singaporefood, #sgfooddiary',\n",
       " '#DCfoodjournal, #laozhongzhong, #ngohhiang, #wuxiang, #hawker, #hawkerfood, #hawkercentre, #sghawker, #hawkerfoodsg, #hawkersg, #sghawkerfood, #hawkerculture, #hawkerculturesg, #sgfood, #sgfoodies, #foodie, #sgfoodie, #sgeats, #sgfoodtrend, #sgfoodblogger, #burpple, #sgfoodporn, #singaporefood, #sgfooddiary',\n",
       " '#instafoodsg, #instafood, #locateats, #sgeats, #localjiak, #sgfoodie, #foodiesg, #sgfood, #hawkerculturesg, #hawkerfoodsg, #hawkerfood, #sghawkerfood, #claypotcurrychicken, #lunch, #yummy',\n",
       " '#sengkeebakkutteh, #sengkee, #成記肉骨茶, #潮州美食, #teochew, #bakkutteh, #肉骨茶, #angmokio, #singapore, #singaporefood, #hawkerculturesg, #hawkerfood, #cat, #catlovers, #catdrawing, #foodillustration, #foodrecommendation, #foodexplorer, #cartoon, #foodpassion, #singaporeteochewfood, #drawingpassion, #foods, #yummypigtrotter, #chongboonmarket, #positive, #love',\n",
       " '#foodstagram, #foodporn, #food, #sgfood, #sgfoodies, #sgcafe, #whati8today, #hawkerfood, #sgrestaurant, #sgfoodies, #sgfooddiary, #sgfoodhunt, #sgfoodblogger, #chinesefood, #chinese, #zichar, #zicharfood, #hawker, #hawkerfoodsg, #covid, #phase2, #curryrice, #curry, #supportsmallbusiness, #hawkerculture, #hawkerculturesg, #foodiesg, #supportlocal, #hainanesecurryrice, #hawkerfood, #jalanbesar, #scissorscutcurryrice',\n",
       " '#pngkueh, #lino, #linocutprint, #linocut, #linoprint, #linoleumprint, #linocutting, #linoprinting, #print, #prints, #printmaking, #printstudio, #printmaker, #printmakingart, #printmakingstudio, #singapore, #singaporefood, #hawkerfood, #hawkerfoodsg, #hawkerculturesg, #sghawkerfood, #sghawkerculture, #sghawkers',\n",
       " '#lino, #linocutprint, #linocut, #linoprint, #linoleumprint, #linocutting, #linoprinting, #print, #prints, #printmaking, #printstudio, #printmaker, #printmakingart, #printmakingstudio, #singapore, #singaporefood, #hawkerfood, #hawkerfoodsg, #hawkerculturesg, #sghawkerfood, #sghawkerculture, #sghawkers, #durian',\n",
       " '#wheretodapao, #sgfood, #wheretodapao, #livetoeat, #food, #hawkerfoodsg, #yapkeewantonmee, #wantonmee, #hawkerfood, #sghawker, #hawkerculture, #hawkerfoodsg, #hawkerculturesg, #sgfoodies, #sgfoodporn, #eatoutsg, #singaporefood, #singaporefoodie, #instafood, #foodie, #foodstagram, #foodgasm, #eatingfortheinsta, #eatbooksg',\n",
       " '#instafoodsg, #instafood, #instafoodsg, #locateats, #sgeats, #localjiak, #sgfoodie, #foodiesg, #sgfood, #hawkerculturesg, #hawkerfoodsg, #hawkerfood, #sghawkerfood, #westernfood, #lunch, #worththecalories, #yummy',\n",
       " '#glutenfreesg, #vegansg, #vegetariansg, #dessertsg, #ondehondehcake, #localbusiness, #hawkerculturesg, #dessertsg, #agaragar, #agarcakesingapore, #nokonnyaku, #nokonjac, #beoriginal, #beextraordinary, #besurprised',\n",
       " '#hawkerculture#hawkerculturesg, #hawkerfood#hawkerfoodsg#hawkercentre, #oneprawnnoodle#一號蝦麵',\n",
       " '#singaporefoodscene, #localfare, #supportlocalsg, #healthyliving, #sghawker, #foodies, #singaporefood, #sgfood, #sgfoodies, #sgeats, #igsg, #covidtakeaway, #unescohawkerculture, #dapaoculture, #ricebowl, #healthyeating, #burpple, #cheapeats, #visitsingapore, #shiok, #instafood, #foodstagram, #foodie, #sgfoodie, #yummydeals, #8dayseat, #eatyourvegetables, #hawkerculturesg, #hawkerculture',\n",
       " '#chinhogaixiao, #chinhojiak, #甄好吃, #甄好介绍, #supporthawker, #supportlocal, #hawkerfoodsg, #hawkerfood, #hawkersg, #hawkerculturesg, #hawkercentre, #hawker, #hawkerculture, #ourhawkerculture, #singaporefood, #singaporefoodie, #singaporehawkerfood, #sgfoodie, #sgfood, #sghawker, #sghawkerculture, #singaporefoodculture, #wemissjapan, #japan, #yakiniku, #geylangfood',\n",
       " '#instafoodsg, #instafood, #locateats, #sgeats, #localjiak, #sgfoodie, #foodiesg, #sgfood, #hawkerculturesg, #hawkerfoodsg, #hawkerfood, #sghawkerfood, #yongtaufoodry, #yummylunch',\n",
       " '#sdphbt, #yoursdp, #supportlocalsg, #hawkerculture, #hawkerculturesg, #bukittimahhawkercentre, #hollandbukittimahgrc, #hollandbukittimah, #bukittimah, #madaboutsingapore, #yoursingapore, #Singapore, #sgeats, #sgdaily',\n",
       " '#lino, #linocutprint, #linocut, #linoprint, #linoleumprint, #linocutting, #linoprinting, #print, #prints, #printmaking, #printstudio, #printmaker, #printmakingart, #printmakingstudio, #singapore, #singaporefood, #hawkerfood, #hawkerfoodsg, #hawkerculturesg, #sghawkerfood, #sghawkerculture, #sghawkers, #durian',\n",
       " '#foodie, #hawkerfood, #hawkerculturesg, #foodheaven, #haha',\n",
       " '#hawkerfoodsg, #hawkercentre, #hawkerculturesg, #newton, #newtonfoodcentre, #sgfoodies',\n",
       " '#lino, #linocutprint, #linocut, #linoprint, #linoleumprint, #linocutting, #linoprinting, #print, #prints, #printmaking, #printstudio, #printmaker, #printmakingart, #printmakingstudio, #singapore, #singaporefood, #hawkerfood, #hawkerfoodsg, #hawkerculturesg, #sghawkerfood, #sghawkerculture, #sghawkers',\n",
       " '#instafoodsg, #instafood, #locateats, #sgeats, #localjiak, #sgfoodie, #foodiesg, #sgfood, #hawkerculturesg, #hawkerfoodsg, #hawkerfood, #sghawkerfood, #fishballnoodle, #lixinteochewfishballnoodle',\n",
       " '#nomeatballsplease, #bedokbarchormee, #barchormee, #noodlesoup, #meekia, #boatquay, #chinhogaixiao, #chinhojiak, #甄好吃, #甄好介绍, #supporthawker, #supportlocal, #hawkerfoodsg, #hawkerfood, #hawkersg, #hawkerculturesg, #hawkercentre, #hawker, #hawkerculture, #ourhawkerculture, #singaporefood, #singaporefoodie, #singaporehawkerfood, #sgfoodie, #sgfood, #sghawker, #sghawkerculture, #singaporefoodculture',\n",
       " '#ishirosg, #bedokmarketplace, #hawkerheroes, #hawkerculturesg, #unagi, #unagiricebowl, #onsenegg, #sgfood',\n",
       " '#proudtosupport, #hawkerculturesg, #carsharing, #tribecar',\n",
       " '#foodstagram, #foodporn, #food, #sgfood, #sgfoodies, #sgcafe, #whati8today, #hawkerfood, #sgrestaurant, #sgfoodies, #sgfooddiary, #sgfoodhunt, #sgfoodblogger, #japanesefood, #japanese, #hawker, #hawkerfoodsg, #covid, #phase2, #mentaiko, #salmonmentaiko, #japanesedon, #supportsmallbusiness, #hawkerculture, #hawkerculturesg, #foodie, #yummyfood, #ourhawkerculture, #dapao',\n",
       " '#instafoodsg, #instafood, #locateats, #sgeats, #localjiak, #sgfoodie, #foodiesg, #sgfood, #hawkerculturesg, #hawkerfoodsg, #hawkerfood, #sghawkerfood, #longtimenoeat, #yummylunch',\n",
       " '#nomsh, #artablyinlove, #hawkerculturesg',\n",
       " '#instafoodsg, #instafood, #locateats, #sgeats, #localjiak, #sgfoodie, #foodiesg, #sgfood, #fooddiarysg, #hawkerculturesg, #hawkerfoodsg, #hawkerfood, #sghawkerfood, #dinner',\n",
       " '#genz, #youth, #like, #follow, #lfl, #f4f, #tbt, #instagood, #instadaily, #hawkerculturesg, #cuisine, #history, #singaporeheritage, #legacy, #foodinsg',\n",
       " '#SupportLocalSg, #groupbuysg, #smallbusiness, #hawkerculture, #hawkerculturesg',\n",
       " '#sginstagram, #igsg, #toyinstagra, #玩具攝影, #cameraeatsfirst, #相機先食, #sgfoodstagram, #exploresingaporeeat, #korilakkuma, #rilakkuma, #kiiroitori, #松弛熊, #リラックマ, #コリラックマ, #キイロイトリ, #instagramsg, #sgigers, #supporthawker, #singaporeinsiders, #sgfoodunion, #ourhawkerculture, #hawkerfoodsg, #hawkerfood, #hawkerculturesg, #bakchormee, #hillstreettaihwaporknoodle, #michelinguide, #michelinsg',\n",
       " '#coffee, #apad, #aphotoaday, #note20ultraphotography, #hawkerculturesg, #hawkerfood, #sglife',\n",
       " '#instafoodsg, #instafood, #locateats, #sgeats, #localjiak, #sglocaleats, #sgeats, #eatsg, #sgfoodie, #sgfood, #foodiesg, #hawkerfood, #hawkerfoodsg, #hawkerculturesg, #supportlocalsg, #lunch',\n",
       " '#livelife, #livelifetothefullest, #curious, #singaporefood, #singaporefoodie, #foodporn, #exploration, #lifeblog, #lifeblogger, #grateful, #foodcoma, #lifestories, #grateful, #hawkerfood, #hawkerculture, #hawkerculturesg, #thaibasilchicken, #thaibasil, #thaicuisine, #curiousaccountant',\n",
       " '#DCfoodjournal, #katonglaksa, #laska, #hawker, #hawkerfood, #hawkercentre, #sghawker, #hawkerfoodsg, #hawkersg, #sghawkerfood, #hawkerculture, #hawkerculturesg, #sgfood, #sgfoodies, #instafood, #foodstagram, #foodie, #sgfoodie, #sgeats, #foodphotography, #sgfoodtrend, #sgfoodblogger, #burpple, #igfood, #sgfoodporn, #singaporefood, #sgfooddiary',\n",
       " '#01-13, #sgfoodies, #sgfood, #sgeats, #burpplesg, #instafoodsg, #jiaksimipng, #jiaklocal, #hawkerfoodsg, #sgfoodtrend, #foodiesinternationalchat, #sgfoodblogger, #foodiesg, #foodsg, #singaporefood, #singaporefoodie, #eatbooksg, #8dayseat, #sgfoodhunt, #sgigfood, #hawkerculturesg, #eatoutsg, #amkfood, #charkwayteowsg, #charkwayteow, #thefoodiesinitiative',\n",
       " '#wheretodapao, #sgfood, #wheretodapao, #livetoeat, #food, #hawkerfoodsg, #yapkeewantonmee, #wantonmee, #hawkerfood, #sghawker, #hawkerculture, #hawkerfoodsg, #hawkerculturesg, #sgfoodies, #sgfoodporn, #eatoutsg, #singaporefood, #singaporefoodie, #instafood, #foodie, #foodstagram, #foodgasm, #eatingfortheinsta, #eatbooksg',\n",
       " '#chinhogaixiao, #chinhojiak, #甄好吃, #甄好介绍, #supporthawker, #supportlocal, #hawkerfoodsg, #hawkerfood, #hawkersg, #hawkerculturesg, #hawkercentre, #hawker, #hawkerculture, #ourhawkerculture, #singaporefood, #singaporefoodie, #singaporehawkerfood, #sgfoodie, #sgfood, #sghawker, #sghawkerculture, #singaporefoodculture, #toapayoh, #toapayohfood, #claypot, #claypotrice',\n",
       " '#gracefulleeKallang',\n",
       " '#sgfood, #sgeats, #sgfoodie, #sgfoodtrend, #sgfoodpic, #explore_singapore, #supportlocal, #burpplesg, #instafoodsg, #hawkerculturesg, #zichar, #horfun',\n",
       " '#lino, #linoleumprint, #linocutting, #linoprinting, #print, #prints, #printmaking, #printstudio, #printmaker, #printmakingart, #printmakingstudio, #awagami, #awagamipaper, #cranfieldcolours, #ironfrogpress, #singapore, #singaporefood, #hawkerfood, #hawkerfoodsg, #hawkerculturesg, #pngkueh',\n",
       " '#instafoodsg, #instafood, #locateats, #sgeats, #localjiak, #sgfoodie, #sglocaleats, #sgfoodies, #sgfood, #comfortfood, #eatoutsg, #hawkerfood, #sghawkerfood, #hawkerculturesg, #hawkerfoodsg, #oldschooltaste, #comfortfood, #ahmachimian',\n",
       " '#ghimmoh, #foodie, #foodgram, #igfood, #foodstagram, #mobilephotography, #foodgrammer, #singaporefood, #supportsmallbusiness, #hawkerculturesg, #hawkerfood, #notsponsored',\n",
       " '#affordable, #awesomefood, #delicious, #explorefood, #foodporn, #food, #foodie, #foodhunt, #foodreview, #foodexploring, #goodfood, #hueats, #hawkerculturesg, #hawker, #hawkerfood, #hungry, #iwannacomebackhere, #ilikefood, #impressive, #iwillbeback, #lovefood, #liveforfood, #meihueats, #sggdfood, #sgfood, #burgers, #cheeseburgers, #beefburgers',\n",
       " '#instafoodsg, #instafood, #locateats, #sgeats, #localjiak, #sgfoodie, #foodiesg, #sgfood, #hawkerculturesg, #hawkerfoodsg, #hawkerfood, #satay, #yummy, #worththecalories',\n",
       " '#saturday, #breakfast, #gluteniousrice, #butterfly, #tapiocakueh, #gorengpisang, #stickycakewithsweetpotato, #janusgoesnomnom, #food, #foodie, #foodporn, #nomnom, #hawkerfoodsg, #hawkerfood, #hawkerfare, #hawkercentre, #hawkerculturesg',\n",
       " '#lino, #linocutprint, #linocut, #linoprint, #linoleumprint, #linocutting, #linoprinting, #print, #prints, #printmaking, #printstudio, #printmaker, #printmakingart, #printmakingstudio, #singapore, #singaporefood, #hawkerfood, #hawkerfoodsg, #hawkerculturesg, #sghawkerfood, #sghawkerculture, #sghawkers, #durian',\n",
       " '#veg_littledragon, #sgvegetarian, #hawkerculturesg',\n",
       " '#吃不到不要怪我, #chinhogaixiao, #chinhojiak, #甄好吃, #甄好介绍, #supporthawker, #supportlocal, #hawkerfoodsg, #hawkerfood, #hawkersg, #hawkerculturesg, #hawkercentre, #hawker, #hawkerculture, #ourhawkerculture, #singaporefood, #singaporefoodie, #singaporehawkerfood, #sgfoodie, #sgfood, #sghawker, #sghawkerculture, #singaporefoodculture, #redhill, #redhillcoffeeshop, #vegetarian, #vegetarianbeehoon',\n",
       " '#04-67,, #DCfoodjournal, #kopifellas, #kopiandtoast, #beautyworldcentre, #hawker, #hawkerfood, #hawkercentre, #sghawker, #hawkerfoodsg, #hawkersg, #sghawkerfood, #hawkerculture, #hawkerculturesg, #sgfood, #sgfoodies, #sgfoodie, #sgeats, #sgfoodtrend, #sgfoodblogger, #burpple, #sgfoodporn, #singaporefood, #sgfooddiary',\n",
       " 'Error',\n",
       " '#02-32, #DCfoodjournal, #sliimuffin, #muffinsg, #muffin, #muffins, #hawker, #hawkerfood, #hawkercentre, #sghawker, #hawkerfoodsg, #hawkersg, #sghawkerfood, #hawkerculture, #hawkerculturesg, #sgfood, #sgfoodies, #instafood, #foodstagram, #foodie, #sgfoodie, #sgeats, #foodphotography, #sgfoodtrend, #sgfoodblogger, #burpple, #igfood, #sgfoodporn, #singaporefood, #sgfooddiary',\n",
       " '#sg, #sgfood, #sgfoodies, #hawkerculturesg, #singapore, #singaporelife, #singaporefood, #singapore🇸🇬, #haidilao, #haidilaosingapore, #food, #foodie, #foodporn, #foodstagram, #foodphotography, #foodblogger, #foodstylist, #foodpics, #foodstyling, #foodblogger, #foodbloggers, #hotpot, #travel, #travelphotography, #travelblogger, #travelgram, #travelawesome, #traveladdict, #travelawesome',\n",
       " '#vegansg, #vegetariansg, #dessertsg, #ondehondehcake, #localbusiness, #hawkerculturesg, #dessertsg, #agaragar, #agarcakesingapore, #nokonnyaku, #nokonjac, #beoriginal, #beextraordinary, #besurprised',\n",
       " '#chinhogaixiao, #chinhojiak, #甄好吃, #甄好介绍, #supporthawker, #supportlocal, #hawkerfoodsg, #hawkerfood, #hawkersg, #hawkerculturesg, #hawkercentre, #hawker, #hawkerculture, #ourhawkerculture, #singaporefood, #singaporefoodie, #singaporehawkerfood, #sgfoodie, #sgfood, #sghawker, #sghawkerculture, #singaporefoodculture, #meesiam, #ghimmoh, #ghimmohfoodcentre',\n",
       " '#lino, #linoleumprint, #linocutting, #linoprinting, #print, #prints, #printmaking, #printstudio, #printmaker, #printmakingart, #printmakingstudio, #singapore, #singaporefood, #hawkerfood, #hawkerfoodsg, #hawkerculturesg',\n",
       " '#coffeevibes, #coffeeisdrug, #coffeeart, #coffeebrew, #coffeebreak, #latteart, #specialtycoffee, #specialtycoffeesg, #kopimore, #kopi, #backformore, #localcoffee, #walktheworldthroughcoffee, #morningfix, #morningcoffee, #coffeeandfriends, #hainanese, #dreams, #hawkerculture, #hawkerculturesg, #touristinhomecountry',\n",
       " '#菜头粿, #chinatown, #peoplesparkfoodcentre, #carrotcake, #fooddiary, #foodporn, #shotbyiphone, #吃货, #hawkerfood, #hawkerculturesg, #hawkerculture, #小贩中心',\n",
       " '#supportlocalsg, #supporthawker, #supporthawkerfood, #supporthawkersg, #hawkerfood, #hawkersg, #hawkerfoodsg, #hawkercentre, #hawkerculture, #hawkerculturesg, #sgfood, #sgfoodies, #sgfoodtrend, #sgfoodtrend, #sgfoodlover, #sgfooddiary, #sgfoodblogger, #sgfoodreview, #sgfoodstagram, #sgfoodblog, #sgvegetarians, #sgvegetarian, #yourdailynibbles',\n",
       " '#01-27, #DCfoodjournal, #ahhockfriedhokkienmee, #hokkienmee, #hawker, #hawkerfood, #hawkercentre, #sghawker, #hawkerfoodsg, #hawkersg, #sghawkerfood, #hawkerculture, #hawkerculturesg, #sgfood, #sgfoodies, #foodie, #sgfoodie, #sgeats, #sgfoodtrend, #sgfoodblogger, #burpple, #sgfoodporn, #singaporefood, #sgfooddiary',\n",
       " '#01-44,, #DCfoodjournal, #bainianyongtaufoo, #hawker, #hawkerfood, #hawkercentre, #sghawker, #hawkerfoodsg, #hawkersg, #sghawkerfood, #hawkerculture, #hawkerculturesg, #sgfood, #sgfoodies, #sgfoodie, #sgeats, #sgfoodtrend, #sgfoodblogger, #burpple, #sgfoodporn, #singaporefood, #sgfooddiary',\n",
       " '#02-048,, #DCfoodjournal, #the1950scoffee, #michelinguide, #kopiandtoast, #hawker, #hawkerfood, #hawkercentre, #sghawker, #hawkerfoodsg, #hawkersg, #sghawkerfood, #hawkerculture, #hawkerculturesg, #sgfood, #sgfoodies, #foodie, #sgfoodie, #sgeats, #sgfoodtrend, #sgfoodblogger, #burpple, #sgfoodporn, #singaporefood, #sgfooddiary',\n",
       " '#chinhogaixiao, #chinhojiak, #甄好吃, #甄好介绍, #supporthawker, #supportlocal, #hawkerfoodsg, #hawkerfood, #hawkersg, #hawkerculturesg, #hawkercentre, #hawker, #hawkerculture, #ourhawkerculture, #singaporefood, #singaporefoodie, #singaporehawkerfood, #sgfoodie, #sgfood, #sghawker, #sghawkerculture, #singaporefoodculture, #tiongbahru, #tiongbahrufood, #tiongbahrufoodcentre, #wantonmee',\n",
       " '#Hawkercentres, #hawkerculturesg',\n",
       " '#sgfoodie, #sgfoodstagram, #whatiatetoday, #burpplesg, #newfinds, #friedrice, #porkcutlet, #ionorchard, #kingoffriedrice, #lunchtime, #蛋炒飯, #猪扒饭, #hawkerculturesg, #hawkerfood, #whatihadforlunch',\n",
       " '#DCfoodjournal, #roastmeat, #charsiew, #siobak, #hawker, #hawkerfood, #hawkercentre, #sghawker, #hawkerfoodsg, #hawkersg, #sghawkerfood, #hawkerculture, #hawkerculturesg, #sgfood, #sgfoodies, #instafood, #foodstagram, #foodie, #sgfoodie, #sgeats, #foodphotography, #sgfoodtrend, #sgfoodblogger, #burpple, #igfood, #sgfoodporn, #singaporefood, #sgfooddiary',\n",
       " '#lino, #linocutprint, #linocut, #linoprint, #linoleumprint, #linocutting, #linoprinting, #print, #prints, #printmaking, #printstudio, #printmaker, #printmakingart, #printmakingstudio, #awagami, #singapore, #singaporefood, #hawkerfood, #hawkerfoodsg, #hawkerculturesg, #channelnewsasia',\n",
       " '#hawkerfood, #hawkerculturesg, #hawkerculture, #hawkercentre, #foodtrip, #laupasat, #singaporeeats, #sgfoodies, #singaporefood, #rafflesplace, #foodporn, #foodplaces, #visitsingapore',\n",
       " '#hawkerculturesg',\n",
       " '#livelife, #livelifetothefullest, #curious, #singaporefood, #singaporefoodie, #foodporn, #exploration, #lifeblog, #lifeblogger, #grateful, #foodcoma, #lifestories, #grateful, #hawkerfood, #hawkerculture, #hawkerculturesg, #noodles, #drynoodles, #meepok, #tiongbahru, #tiongbahrumarketandfoodcentre',\n",
       " '#01-71',\n",
       " '#yuanyangpengsiudai, #coffeenation, #sgcoffee, #hawkerculturesg, #hawkerheritage, #yypsd, #yuanyangpeng, #butfirstcoffee, #coffeeislife, #coffeeartist, #ilovecoffee, #foodislife, #kopiculture, #kopisg',\n",
       " '#chinhogaixiao, #chinhojiak, #甄好吃, #甄好介绍, #supporthawker, #supportlocal, #hawkerfoodsg, #hawkerfood, #hawkersg, #hawkerculturesg, #hawkercentre, #hawker, #hawkerculture, #ourhawkerculture, #singaporefood, #singaporefoodie, #singaporehawkerfood, #sgfoodie, #sgfood, #sghawker, #sghawkerculture, #singaporefoodculture, #tiongbahru, #tiongbahrumarket, #tiongbahrufood, #tiongbahruhawkercentre, #tiongbahruhawker',\n",
       " '#pigorgansoup, #nourishyoursoul, #singaporefoodie, #singaporefoodporn, #singapore🇸🇬, #shiokfoodfind, #shiokfoodsg, #singaporefood, #singaporelife, #sgbreakfast, #sgfoodhunter, #sgfoodporn, #sgfoodstagram, #sgfoodies, #foodporn, #foodphotography, #foodshare, #foodstagram, #foodblogger, #foodheaven, #foodpornography, #foodpornsg, #supportlocalsg, #hawkerculturesg',\n",
       " '#hawkerculturesg, #singaporefood, #boonlayplace',\n",
       " '#movingplates, #lino, #linocutprint, #linocut, #linoprint, #linoleumprint, #linocutting, #linoprinting, #print, #prints, #printmaking, #printstudio, #printmaker, #printmakingart, #printmakingstudio, #awagami, #awagamipaper, #cranfieldcolours, #ironfrogpress, #singapore, #singaporefood, #hawkerfood, #hawkerfoodsg, #hawkerculturesg',\n",
       " '#tanglinhalt, #traditionalsnacks, #hawkerculturesg, #oldschool, #usk, #usksg, #urbansketch, #urbansketching, #hawkercenter',\n",
       " '#gracefulleejurongeast, #02-35',\n",
       " '#01-39, #DCfoodjournal, #anoodlestory, #ramen, #ramensg, #hawker, #hawkerfood, #hawkercentre, #sghawker, #hawkerfoodsg, #hawkersg, #sghawkerfood, #hawkerculture, #hawkerculturesg, #sgfood, #sgfoodies, #instafood, #foodstagram, #foodie, #sgfoodie, #sgeats, #foodphotography, #sgfoodtrend, #sgfoodblogger, #burpple, #igfood, #sgfoodporn, #singaporefood, #sgfooddiary',\n",
       " '#friedoyster, #friedoysters, #蚝煎, #蚝煎🍳, #hawkerfoodsg, #hawkerfood, #hawkerculturesg, #sghawker, #sghawkerfood, #sgfoodshare, #sgfoodshares, #sgfood, #sgfoodies, #sgfoodie, #sgfoodlover, #sgfoodstagram, #sgfoodpic, #sgfoodpics, #sgfoodgram, #foodstagram, #foodiesofinstagram, #foodiesoninstagram, #foodpics, #foodpic, #foodpictures, #foodpicture, #foodlover, #oysterlover, #oysterlovers, #jrecollectionfood',\n",
       " '#instafoodsg, #instafood, #locateats, #sgeats, #localjiak, #sgfoodie, #foodiesg, #sgfood, #comfortfood, #hawkerfood, #hawkerculturesg, #hawkerfoodsg, #whatieatforlunch, #fishballnoodle, #meepokdry',\n",
       " '#lino, #linocutprint, #linocut, #linoprint, #linoleumprint, #linocutting, #linoprinting, #print, #prints, #printmaking, #printstudio, #printmaker, #printmakingart, #printmakingstudio, #awagami, #awagamipaper, #cranfieldcolours, #ironfrogpress, #singapore, #singaporefood, #hawkerfood, #hawkerfoodsg, #hawkerculturesg, #coffee',\n",
       " '#singaporefoodscene, #localfare, #supportlocalsg, #healthyliving, #sghawker, #foodies, #singaporefood, #sgfood, #sgfoodies, #sgeats, #igsg, #covidtakeaway, #unescohawkerculture, #dapaoculture, #ricebowl, #healthyeating, #burpple, #cheapeats, #visitsingapore, #shiok, #instafood, #foodstagram, #foodie, #sgfoodie, #yummydeals, #8dayseat, #eatyourvegetables, #hawkerculturesg, #hawkerculture',\n",
       " '#sengkeebakchormee, #flavoursomesoup, #fishmaw, #meatball, #umami, #braisedmushrooms, #bakersimfood, #exploringamk, #amkfood, #bakersim, #hawkerculturesg, #flavourbomb',\n",
       " '#lino, #linoleumprint, #linocutting, #linoprinting, #print, #prints, #printmaking, #printstudio, #printmaker, #printmakingart, #printmakingstudio, #awagami, #awagamipaper, #cranfieldcolours, #ironfrogpress, #singapore, #singaporefood, #hawkerfood, #hawkerfoodsg, #hawkerculturesg, #durian',\n",
       " '#sgfood, #sgeats, #sgfoodie, #sgfoodtrend, #whati8today, #sgfoodpic, #explore_singapore, #supportlocal, #burpplesg, #instafoodsg, #hawkerculturesg, #friedcarrotcake, #cheecheongfun',\n",
       " '#kasohsg, #sghistory, #sgheritage, #sgrestaurants, #sgeats, #sgfood, #sgfoodies, #sgfoodie, #savefnbsg, #teamfnbsg, #fnbsg, #supportlocalsg, #hawker, #dapaonation, #zicharnation, #hawkerculturesg, #ourhawkerculture',\n",
       " '#DCfoodjournal, #sweeguanhokkienmee, #hokkienmee, #hawker, #hawkerfood, #hawkercentre, #sghawker, #hawkerfoodsg, #hawkersg, #sghawkerfood, #hawkerculture, #hawkerculturesg, #sgfood, #sgfoodies, #foodie, #sgfoodie, #sgeats, #sgfoodtrend, #sgfoodblogger, #burpple, #sgfoodporn, #singaporefood, #sgfooddiary',\n",
       " '#01-12,, #DCfoodjournal, #hillstreettaihwaporknoodles, #michelinstar, #michelinguide, #hawker, #hawkerfood, #hawkercentre, #sghawker, #hawkerfoodsg, #hawkersg, #sghawkerfood, #hawkerculture, #hawkerculturesg, #sgfood, #sgfoodies, #foodie, #sgfoodie, #sgeats, #sgfoodtrend, #sgfoodblogger, #burpple, #sgfoodporn, #singaporefood, #sgfooddiary',\n",
       " '#gracefulleeCommonwealth, #02-93',\n",
       " '#DCfoodjournal, #springleafprataplace, #rotiprata, #hawker, #hawkerfood, #hawkercentre, #sghawker, #hawkerfoodsg, #hawkersg, #sghawkerfood, #hawkerculture, #hawkerculturesg, #sgfood, #sgfoodies, #instafood, #foodstagram, #foodie, #sgfoodie, #sgeats, #foodphotography, #sgfoodtrend, #sgfoodblogger, #burpple, #igfood, #sgfoodporn, #singaporefood, #sgfooddiary',\n",
       " '#sgeats, #sgfood, #hawkerculturesg, #donburi',\n",
       " '#lino, #linocutprint, #linocut, #linoprint, #linoleumprint, #linocutting, #linoprinting, #print, #prints, #printmaking, #printstudio, #printmaker, #printmakingart, #printmakingstudio, #awagami, #awagamipaper, #cranfieldcolours, #ironfrogpress, #singapore, #singaporefood, #hawkerfood, #hawkerfoodsg, #hawkerculturesg, #coffee',\n",
       " '#grandpawesternfood, #bersehfoodcentre, #chickencutlet, #anglohainanesecuisine, #hawkerfood, #westernhawkerfood, #hawkerculture, #hawkerculturesg, #sghawkerfood, #sghawkerculture, #ourhawkerculture, #ourhawkerheritage, #littleindiasingapore',\n",
       " '#lino, #linocutprint, #linocut, #linoprint, #linoleumprint, #linocutting, #linoprinting, #print, #prints, #printmaking, #printstudio, #printmaker, #printmakingart, #printmakingstudio, #singapore, #singaporefood, #hawkerfood, #hawkerfoodsg, #hawkerculturesg, #sghawkerfood, #sghawkerculture, #sghawkers',\n",
       " '#chinhogaixiao, #chinhojiak, #甄好吃, #甄好介绍, #supporthawker, #supportlocal, #hawkerfoodsg, #hawkerfood, #hawkersg, #hawkerculturesg, #hawkercentre, #hawker, #hawkerculture, #ourhawkerculture, #singaporefood, #singaporefoodie, #singaporehawkerfood, #sgfoodie, #sgfood, #sghawker, #sghawkerculture, #singaporefoodculture, #toapayoh, #toapayohhawker, #toapayohcoffeeshop, #fishballnoodle, #songkeefishball',\n",
       " '#lino, #linocutprint, #linocut, #linoprint, #linoleumprint, #linocutting, #linoprinting, #print, #prints, #printmaking, #printstudio, #printmaker, #printmakingart, #printmakingstudio, #awagami, #awagamipaper, #cranfieldcolours, #ironfrogpress, #singapore, #singaporefood, #hawkerfood, #hawkerfoodsg, #hawkerculturesg',\n",
       " 'Error',\n",
       " '#queenstown, #queenstownfood, #mothersday, #sghawker, #sglocal, #hawkerculturesg, #abcbrickworksmarket, #abcmarket, #abcbrickworksfoodcentre',\n",
       " 'Error',\n",
       " '#livelife, #livelifetothefullest, #curious, #singaporefood, #singaporefoodie, #foodporn, #exploration, #lifeblog, #lifeblogger, #grateful, #foodcoma, #lifestories, #grateful, #hawkerfood, #hawkerculture, #hawkerculturesg',\n",
       " '#chinhogaixiao, #chinhojiak, #甄好吃, #甄好介绍, #supporthawker, #supportlocal, #hawkerfoodsg, #hawkerfood, #hawkersg, #hawkerculturesg, #hawkercentre, #hawker, #hawkerculture, #ourhawkerculture, #singaporefood, #singaporefoodie, #singaporehawkerfood, #sgfoodie, #sgfood, #sghawker, #sghawkerculture, #singaporefoodculture, #chicken, #chickenpot, #serangoon, #serangoonfood',\n",
       " '#glutenfreesg, #vegansg, #vegetariansg, #dessertsg, #ondehondehcake, #localbusiness, #hawkerculturesg, #dessertsg, #agaragar, #agarcakesingapore, #nokonnyaku, #nokonjac, #beoriginal, #beextraordinary, #besurprised',\n",
       " '#gracefulleeTanjongPagar, #01-05,',\n",
       " '#exploresingapore, #hawkerculture, #hawkerculturesg, #unescoworldheritage, #unescointangibleculturalheritage',\n",
       " '#movingplates, #lino, #linocutprint, #linocut, #linoprint, #linoleumprint, #linocutting, #linoprinting, #print, #prints, #printmaking, #printstudio, #printmaker, #printmakingart, #printmakingstudio, #awagami, #awagamipaper, #cranfieldcolours, #ironfrogpress, #singapore, #singaporefood, #hawkerfood, #hawkerfoodsg, #hawkerculturesg',\n",
       " '#justsaying, #rotiprata, #rotiprataegg, #kosong, #印度煎饼, #foodporn, #fooddiary, #hawkerfood, #hawkerculturesg, #hawkercentre, #bepositive',\n",
       " '#thepeaksg, #hawkerculturesg, #geylangbriyanistall, #168currychicken, #lorbakmama, #gubakkia',\n",
       " '#hawkerculturesg, #jurongpoint',\n",
       " '#01-44, #DCfoodjournal, #ahsengbraisedduckrice, #braisedduckrice, #hawker, #hawkerfood, #hawkercentre, #sghawker, #hawkerfoodsg, #hawkersg, #sghawkerfood, #hawkerculture, #hawkerculturesg, #sgfood, #sgfoodies, #instafood, #foodstagram, #foodie, #sgfoodie, #sgeats, #foodphotography, #sgfoodtrend, #sgfoodblogger, #burpple, #igfood, #sgfoodporn, #singaporefood, #sgfooddiary',\n",
       " '#sgfood, #sgeats, #sgfoodie, #sgfoodtrend, #sgfoodpic, #explore_singapore, #supportlocal, #burpplesg, #instafoodsg, #hawkerculturesg, #mlxg',\n",
       " '#instafoodsg, #instafood, #locateats, #sgeats, #localjiak, #sgfoodie, #foodiesg, #sgfood, #hawkerculturesg, #hawkerfoodsg, #hawkerfood, #sghawkerfood, #meerebus, #yummyfood',\n",
       " '#instafoodsg, #instafood, #locateats, #sgeats, #localjiak, #sgfoodie, #foodiesg, #sgfood, #hawkerculturesg, #hawkerfoodsg, #hawkerfood, #sghawkerfood, #zicharsg, #dinner',\n",
       " '#sgfoodies, #sgfood, #sgeats, #burpplesg, #instafoodsg, #jiaklocal, #hawkerfoodsg, #sgfoodtrend, #globaleats, #thefoodieinitiative, #foodiesinternationalchat, #sgfoodblogger, #foodiesg, #foodsg, #singaporefood, #singaporefoodie, #eatbooksg, #8dayseat, #sgfoodhunt, #sgigfood, #hawkerculturesg, #eatoutsg, #sembawang, #tonkatsu, #maruhachi, #japanesefood',\n",
       " '#02-88,, #DCfoodjournal, #xiujiikanbilisyongtaufu, #yongtaufoo, #chinatowncomplexfoodcentre, #hawker, #hawkerfood, #hawkercentre, #sghawker, #hawkerfoodsg, #hawkersg, #sghawkerfood, #hawkerculture, #hawkerculturesg, #sgfood, #sgfoodies, #foodie, #sgfoodie, #sgeats, #sgfoodtrend, #sgfoodblogger, #burpple, #sgfoodporn, #singaporefood, #sgfooddiary',\n",
       " '#sgfood, #sgeats, #sgfoodie, #sgfoodtrend, #sgfoodpic, #explore_singapore, #supportlocal, #burpplesg, #instafoodsg, #hawkerculturesg, #kwaychap, #vegetarian',\n",
       " '#glutenfreesg, #vegansg, #vegetariansg, #dessertsg, #localbusiness, #hawkerculturesg, #dessertsg, #agaragar, #agarcakesingapore, #nokonnyaku, #nokonjac, #beoriginal, #beextraordinary, #besurprised, #wahoo, #localdessert',\n",
       " '#kopitiam, #sg, #sgdaily, #sgfood, #sgfoodies, #hawkerculturesg, #hawkerfood, #hawkerfoodsg, #hawkercentre, #food, #foodie, #foodporn, #foodstagram, #foodphotography, #foodblogger, #foodstylist, #foodpics, #foodart, #foodstyling, #foodblog, #foodlovers, #singapore, #singaporelife, #singaporelife, #supportlocalsg, #supportlocal, #supportsmallbusiness, #support, #cheap, #travel, #travelphotography',\n",
       " '#Grab50thHawkerCentre, #GrabforGood, #hawkerfoodsg, #sghawkers, #fooddeliverysg, #grabfood, #hawkerfare, #sghawkerfood, #hawkerculturesg, #sghawker',\n",
       " '#DCfoodjournal, #fishsoup, #hawker, #hawkerfood, #hawkercentre, #sghawker, #hawkerfoodsg, #hawkersg, #sghawkerfood, #hawkerculture, #hawkerculturesg, #sgfood, #sgfoodies, #instafood, #foodstagram, #foodie, #sgfoodie, #sgeats, #foodphotography, #sgfoodtrend, #sgfoodblogger, #burpple, #igfood, #sgfoodporn, #singaporefood, #sgfooddiary, #supportlocal',\n",
       " '#instafoodsg, #instafood, #locateats, #sgeats, #localjiak, #sgfoodie, #foodiesg, #sgfood, #comfortfood, #hawkerfood, #hawkerculturesg, #hawkerfoodsg, #dinner, #fishandchips, #plqmall',\n",
       " '#livelife, #livelifetothefullest, #curious, #singaporefood, #singaporefoodie, #foodporn, #exploration, #lifeblog, #lifeblogger, #grateful, #foodcoma, #lifestories, #grateful, #hawkerfood, #hawkerculture, #hawkerculturesg, #lunch, #beehoon, #stjohnisland, #lazarusisland, #beprepared, #curiousaccountant',\n",
       " '#nasilemakayamtaliwang, #nasilemakayamtaliwangsg#halalfoodie#halalfoodiesg#halalfood#hawkercentresg#hawkerculturesg, #bestnasilemaksg, #bestnasilemakintown#worththewait',\n",
       " '#DaJie, #DaJieBedok, #DaJieMakanPlace, #DaJieNiangDouFu, #whattoeat, #sghalal, #halalfoodsg, #instasg, #sgig, #whatissingapore, #iluvsg, #whati8today, #sgfoodie, #shiokfoodfind, #singaporeinsiders, #eatoutsg, #8DaysEat, #singaporeeats, #SgHeritageFood, #HawkercultureSg, #ourhawkerculture, #yongtaufoo, #yongtaufu, #釀豆腐, #hakkayongtaufoo, #ampangyongtaufoo, #mala, #麻辣香锅, #kampungfriedrice, #simpangbedok',\n",
       " '#hawkerculturesg, #singaporefood',\n",
       " '#01-27,, #bakchormee#yishunparkhawkercentre#meekia#meekiadry#chashu#chashupork#porkball#porkballs#fishball#mincedpork#mincedmeat#noodles#porklard#onsenegg#egg#porkfat#saucynoodles#hawkers#hawkerculture#hawkerculturesg#sgfoodie#sgfoodies#sgfoodporn#foodporn#sgeats',\n",
       " '#instafoodsg, #instafood, #locateats, #sgeats, #localjiak, #sgfoodie, #foodiesg, #sgfood, #hawkerculturesg, #hawkerfoodsg, #hawkerfood, #sghawkerfood, #yummy, #dinner',\n",
       " '#instafoodsg, #instafood, #locateats, #localfood, #sgeats, #localjiak, #sgfoodie, #foodiesg, #sgfood, #comfortfood, #hawkerfood, #hawkerculturesg, #hawkerfoodsg, #angkukueh, #红龟粿, #吉祥红龟粿, #jixiangangkukueh',\n",
       " '#nasilemakayamtaliwang, #nasilemakayamtaliwangsg#halalfoodie#halalfoodiesg#halalfood#hawkercentresg#hawkerculturesg, #bestnasilemaksg, #bestnasilemakintown#worththewait',\n",
       " '#ahgohgohlaksa, #nourishyoursoul, #singaporefoodie, #singaporefoodporn, #singapore🇸🇬, #shiokfoodfind, #shiokfoodsg, #singaporefood, #singaporelife, #sgbreakfast, #sgfoodhunter, #sgfoodporn, #sgfoodstagram, #sgfoodies, #foodporn, #foodphotography, #foodshare, #foodstagram, #foodblogger, #foodheaven, #foodpornography, #foodpornsg, #supportlocalsg, #hawkerculturesg',\n",
       " '#chinhogaixiao, #chinhojiak, #甄好吃, #甄好介绍, #supporthawker, #supportlocal, #hawkerfoodsg, #hawkerfood, #hawkersg, #hawkerculturesg, #hawkercentre, #hawker, #hawkerculture, #ourhawkerculture, #singaporefood, #singaporefoodie, #singaporehawkerfood, #sgfoodie, #sgfood, #sghawker, #sghawkerculture, #singaporefoodculture, #fochroad, #月光河粉, #superwokhey',\n",
       " '#instafoodsg, #instafood, #locateats, #indulgence, #sgfoodie, #foodiesg, #sgfood, #eatsg, #fooddiarysg, #comfortfood, #cafefood, #cafesg, #brunch, #sgcafe, #hawkerfood, #sghawkerfood, #hawkerculturesg, #hawkerfoodsg, #localjiak, #sgeats',\n",
       " '#eatnowburnnexttime, #SingaporeFood, #SGFoodies, #sgfood, #sgfoodblogger, #sgfooddiary, #sgfoodlover, #foodporn, #foodstagram, #foodie, #foodgasm, #instafoodsg, #instafoodie, #foodofinstagram, #foodinsg, #foodpornasia, #foodshare, #foodforfoodies, #foodspotting, #igfood, #foodphotographer, #foodiesg, #foodiesofinstagram, #foodiesofig, #sgfoodtrend, #sgfoodhunt, #sgfoodporn, #sgfoodie, #friedchickenwings, #hawkerculturesg',\n",
       " '#supportlocalsg, #supporthawkersg, #hawkerculturesg, #ilovehawkerfood, #simsvista, #simsvistamarketandfoodcentre, #greenchilichickenrice, #yummyfood, #flightmeal✈️, #airlinefoodselfie, #joyousdec21',\n",
       " '#kopifrens, #kopifrensfood, #hawkerfoodsg, #sghawkerculture, #sghawker, #sghawkercentre, #sghawkerfood, #hawkerheritage, #hawkerculturesg, #honglimfoodcentre, #sgfoodie, #supportlocalsg, #hawkerfoodsg',\n",
       " '#linoleumprint, #linocutting, #linoprinting, #print, #prints, #printmaking, #printstudio, #printmaker, #printmakingart, #printmakingstudio, #singapore, #singaporefood, #hawkerfood, #hawkerfoodsg, #hawkerculturesg, #pngkueh',\n",
       " '#meepoktah, #meepok, #bakchormee, #bcm, #mincedporknoodles, #fishballnoodles, #honglimfoodcentre, #chinatown, #hawkercentre, #hawkerfood, #hawkerfoodsg, #hawkerculture, #hawkerculturesg, #sgfood, #singaporefood, #localfood, #foodporn, #foodpornsg, #instafood, #instafoodsg, #foodgram, #foodgramsg, #foodstagram, #foodblogger, #foodbloggerSG, #foodies, #foodshare, #foodgasm, #foodforthought',\n",
       " '#小確幸, #肉骨茶, #从容, #支持小贩文化, #米其林必比登推薦, #BakKutTeh, #SgFoodie, #JooSiahBKT, #FoodieSg, #SupportLocalSg, #HawkerCultureSg, #CoffeeShopEats, #bibgourmand2021',\n",
       " '#nourishyoursoul, #singaporefoodie, #singaporefoodporn, #singapore🇸🇬, #shiokfoodfind, #shiokfoodsg, #singaporefood, #singaporelife, #sgbreakfast, #sgfoodhunter, #sgfoodporn, #sgfoodstagram, #sgfoodies, #foodporn, #foodphotography, #foodshare, #foodstagram, #foodblogger, #foodheaven, #foodpornography, #foodpornsg, #supportlocalsg, #hawkerculturesg',\n",
       " '#pngkueh, #lino, #linocutprint, #linocut, #linoprint, #linoleumprint, #linocutting, #linoprinting, #print, #prints, #printmaking, #printstudio, #printmaker, #printmakingart, #printmakingstudio, #singapore, #singaporefood, #hawkerfood, #hawkerfoodsg, #hawkerculturesg, #sghawkerfood, #sghawkerculture, #sghawkers',\n",
       " '#foodstagram, #foodporn, #food, #sgfood, #sgfoodies, #sgcafe, #whati8today, #hawkerfood, #sgrestaurant, #sgfoodies, #sgfooddiary, #sgfoodhunt, #sgfoodblogger, #chinesefood, #chinese, #zichar, #zicharfood, #hawker, #hawkerfoodsg, #covid, #phase2, #curryrice, #curry, #supportsmallbusiness, #hawkerculture, #hawkerculturesg, #foodie',\n",
       " '#chinhogaixiao, #chinhojiak, #甄好吃, #甄好介绍, #supporthawker, #supportlocal, #hawkerfoodsg, #hawkerfood, #hawkersg, #hawkerculturesg, #hawkercentre, #hawker, #hawkerculture, #ourhawkerculture, #singaporefood, #singaporefoodie, #singaporehawkerfood, #sgfoodie, #sgfood, #sghawker, #sghawkerculture, #singaporefoodculture, #seafoodsoup, #seafood, #barchor, #fishsoup, #alexandravillage',\n",
       " '#movingplates, #lino, #linocutprint, #linocut, #linoprint, #linoleumprint, #linocutting, #linoprinting, #print, #prints, #printmaking, #printstudio, #printmaker, #printmakingart, #printmakingstudio, #awagami, #awagamipaper, #cranfieldcolours, #ironfrogpress, #singapore, #singaporefood, #hawkerfood, #hawkerfoodsg, #hawkerculturesg',\n",
       " '#singapore, #singaporefood, #singaporelife, #singaporehawkerfood, #hawkerfood, #hawkerfoodsg, #nhbsg, #rediscoversingapore, #hawkerculture, #hawkerculturesg, #greattastingfood, #singaporeidentity, #communitydiningroom, #uniquelysingapore',\n",
       " '#wakerchickensg, #wakerchicken, #hawkerfood, #hawkersg, #hawkerculturesg, #supportlocalsg, #localbusiness, #supportlocal, #whatieatinaday, #koreanfriedchicken',\n",
       " '#throwback, #instafoodsg, #instafood, #locateats, #localjiak, #sgeats, #sgfoodie, #foodiesg, #sgfood, #eatsg, #fooddiarysg, #hawkerfood, #sghawkerfood, #hawkerculturesg, #hawkerfoodsg, #localdelights, #supportlocalsg, #dinner',\n",
       " '#movingplates, #lino, #linocutprint, #linocut, #linoprint, #linoleumprint, #linocutting, #linoprinting, #print, #prints, #printmaking, #printstudio, #printmaker, #printmakingart, #printmakingstudio, #awagami, #awagamipaper, #cranfieldcolours, #ironfrogpress, #singapore, #singaporefood, #hawkerfood, #hawkerfoodsg, #hawkerculturesg',\n",
       " '#nasilemakayamtaliwang, #nasilemakayamtaliwangsg#halalfoodie#halalfoodiesg#halalfood#hawkercentresg#hawkerculturesg, #bestnasilemaksg, #bestnasilemakintown#worththewait',\n",
       " '#byo, #munchidelights, #yishunparkhawkercentre, #minjiangkueh, #pancake',\n",
       " '#SeeSeeEatEat, #LetsEatAndPlay, #CKT, #HawkerCultureSg, #GoodEats, #蓝天白云, #咖啡香, #好好吃饭',\n",
       " '#foodstagram, #foodporn, #food, #sgfood, #sgfoodies, #sgcafe, #whati8today, #hawkerfood, #sgrestaurant, #sgfoodies, #sgfooddiary, #sgfoodhunt, #sgfoodblogger, #chinesefood, #chinese, #zichar, #zicharfood, #hawker, #hawkerfoodsg, #orhluaksg, #orhluak, #oysteromellete, #oyster, #supportsmallbusiness, #hawkerculture, #hawkerculturesg, #singaporefood, #sginfluencer',\n",
       " '#travelsoon, #travelgoals, #traveldiary, #travelathome, #touristinhomecountry, #kopio, #carrotcake, #hawkerculture, #hawkerculturesg, #hawkerfood, #sghawkerculture, #hawkercentre, #ourhawkerculture, #foodporn, #hawkerlegacy, #eatlikeaqueen, #eatlikealocal, #localcoffee, #localculture, #localpeople, #localeats, #localfood, #localway',\n",
       " '#hawkerculturesg',\n",
       " '#coffeeshop, #noodles, #ytf, #sgfoodies, #hawkerculturesg',\n",
       " '#sgfoodies, #sgfood, #sgeats, #burpplesg, #instafoodsg, #jiaklocal, #hawkerfoodsg, #sgfoodtrend, #globaleats, #thefoodieinitiative, #foodiesinternationalchat, #sgfoodblogger, #foodiesg, #foodsg, #singaporefood, #singaporefoodie, #eatbooksg, #8dayseat, #sgfoodhunt, #sgigfood, #hawkerculturesg, #eatoutsg, #yishun, #porridgesg, #yishuneats, #porridge, #kekoumian',\n",
       " '#nasilemak, #chinesenasilemak, #tanjongpagar, #chinhogaixiao, #chinhojiak, #甄好吃, #甄好介绍, #supporthawker, #supportlocal, #hawkerfoodsg, #hawkerfood, #hawkersg, #hawkerculturesg, #hawkercentre, #hawker, #hawkerculture, #ourhawkerculture, #singaporefood, #singaporefoodie, #singaporehawkerfood, #sgfoodie, #sgfood, #sghawker, #sghawkerculture, #singaporefoodculture',\n",
       " '#lino, #linoleumprint, #linocutting, #linoprinting, #print, #prints, #printmaking, #printstudio, #printmaker, #printmakingart, #printmakingstudio, #awagami, #awagamipaper, #cranfieldcolours, #ironfrogpress, #singapore, #singaporefood, #hawkerfood, #hawkerfoodsg, #hawkerculturesg, #pngkueh',\n",
       " '#affordable, #awesomefood, #delicious, #explorefood, #foodporn, #food, #foodie, #foodhunt, #foodreview, #foodexploring, #goodfood, #hueats, #hawkerculturesg, #hawker, #hawkerfood, #hungry, #iwannacomebackhere, #ilikefood, #impressive, #iwillbeback, #lovefood, #liveforfood, #meihueats, #sggdfood, #sgfood, #noodles, #fishballnoodles, #fishball, #foodcomparing, #fightofthebestfishballnoodle',\n",
       " '#hawkerculturesg, #singaporefood',\n",
       " '#exploretocreate, #exploresingapore, #cityscape, #neverstopexploring, #urbangallery, #chinatownsg, #singaporestreetscape, #covidlifestyle, #prelockdownlife, #lifeinsingapore, #igersone, #thisissingapore, #shoot2kill, #imaginatones, #hawkerculturesg, #urbanstreet, #capturestreets, #streetshots, #street_gallery, #streetframe, #streetvision, #sgphotographer, #streetphotography, #streetgrammers, #nikonz7, #nikonsg, #nikonphotography, #illgrammers, #instamagazine, #twgrammersy',\n",
       " '#queenstown, #abcbrickworksmarket, #abcmarket, #abcfood, #abcbrickworksfoodcentre, #sghawker, #sglocal, #hawkerfoodsg, #hawkerculturesg, #queenstownfood, #meepok',\n",
       " '#01-26, #sgfoodies, #sgfood, #sgeats, #burpplesg, #instafoodsg, #jiaksimipng, #jiaklocal, #hawkerfoodsg, #sgfoodtrend, #globaleats, #thefoodieinitiative, #foodiesinternationalchat, #sgfoodblogger, #foodiesg, #foodsg, #singaporefood, #singaporefoodie, #eatbooksg, #8dayseat, #sgfoodhunt, #sgigfood, #hawkerculturesg, #eatoutsg, #zionriverside, #friedcarrotcake, #carrotcake, #foodporn, #lunch, #hawkerfood',\n",
       " '#livelife, #livelifetothefullest, #curious, #singaporefood, #singaporefoodie, #foodporn, #exploration, #lifeblog, #lifeblogger, #grateful, #foodcoma, #lifestories, #grateful, #redcross, #hawkerfood, #hawkerculture, #hawkerculturesg, #noodles, #drynoodles, #drynoodle',\n",
       " 'Error',\n",
       " '#staysafe, #stayhealthy, #rwp, #eidmubarak, #amoystreetfoodcenter, #amoystreetfoodcentre, #hawkerculture, #hawkerculturesg, #sghawkerfood, #halalsg, #rayyanswaroengupnormal, #foodstagram, #instafood, #foodporn, #hariraya, #eidilfitri',\n",
       " '#, #',\n",
       " '#chinhogaixiao, #chinhojiak, #甄好吃, #甄好介绍, #supporthawker, #supportlocal, #hawkerfoodsg, #hawkerfood, #hawkersg, #hawkerculturesg, #hawkercentre, #hawker, #hawkerculture, #ourhawkerculture, #singaporefood, #singaporefoodie, #singaporehawkerfood, #sgfoodie, #sgfood, #sghawker, #sghawkerculture, #singaporefoodculture, #barchormee, #barchormeesoup, #eunos, #eunosbarchormee',\n",
       " '#kueh, #angkukueh, #tapiocakueh, #kuehlover, #hawkerfoodsg, #hawkercentre, #hawkerculturesg, #sgfoodie, #supporthawker, #goodmorning, #fondmemories',\n",
       " '#instafoodsg, #instafood, #locateats, #sgeats, #sgfoodie, #foodiesg, #sgfood, #localjiak, #hawkerfood, #sghawkerfood, #hawkerculturesg, #hawkerfoodsg, #tabaolunch, #P2HA',\n",
       " '#lino, #linocutprint, #linocut, #linoprint, #linoleumprint, #linocutting, #linoprinting, #print, #prints, #printmaking, #printstudio, #printmaker, #printmakingart, #printmakingstudio, #singapore, #singaporefood, #hawkerfood, #hawkerfoodsg, #hawkerculturesg, #sghawkerfood, #sghawkerculture, #sghawkers',\n",
       " '#movingplates, #brandcodes, #lino, #linocutprint, #linocut, #linoprint, #linoleumprint, #linocutting, #linoprinting, #print, #prints, #printmaking, #printstudio, #printmaker, #printmakingart, #printmakingstudio, #awagami, #awagamipaper, #cranfieldcolours, #ironfrogpress, #singapore, #singaporefood, #hawkerfood, #hawkerfoodsg, #hawkerculturesg',\n",
       " '#wakerchickensg, #wakerchicken, #friedchicken, #koreanfood, #supportlocalsg, #supporthawker, #hawkers, #sgfood, #sgfoodies, #sghawkerculture, #hawkerculturesg, #sgfoodporn, #sgeats, #sgeatout, #sgunited',\n",
       " '#DCfoodjournal, #famouseunosbakchormee, #hawker, #hawkerfood, #hawkercentre, #sghawker, #hawkerfoodsg, #hawkersg, #sghawkerfood, #hawkerculture, #hawkerculturesg, #sgfood, #sgfoodies, #sgfoodie, #sgeats, #sgfoodtrend, #sgfoodblogger, #burpple, #sgfoodporn, #singaporefood, #sgfooddiary',\n",
       " '#01-36,, #DCfoodjournal, #carrotcake, #chompchompfoodcentre, #hawker, #hawkerfood, #hawkercentre, #sghawker, #hawkerfoodsg, #hawkersg, #sghawkerfood, #hawkerculture, #hawkerculturesg, #sgfood, #sgfoodies, #foodie, #sgfoodie, #sgeats, #sgfoodtrend, #sgfoodblogger, #burpple, #sgfoodporn, #singaporefood, #sgfooddiary',\n",
       " '#01-17,, #DCfoodjournal, #oldshifucharcoalporridge, #cantoneseporridge, #hawker, #hawkerfood, #hawkercentre, #sghawker, #hawkerfoodsg, #hawkersg, #sghawkerfood, #hawkerculture, #hawkerculturesg, #sgfood, #sgfoodies, #foodie, #sgfoodie, #sgeats, #sgfoodtrend, #sgfoodblogger, #burpple, #sgfoodporn, #singaporefood, #sgfooddiary',\n",
       " '#hokkienmee, #hokkienprawnmee, #newtonfoodcentre, #hawkerfood, #hawkerfoodsg, #hawkerculturesg, #sgeats, #sgfood, #sgfoodie',\n",
       " '#hawkerculture, #hawkerculturesg, #wallmural, #murals, #wallart, #muralartist, #wallpainting, #muralart, #hawkercentre, #hawkercentrefood, #hawkercentres, #hawkercentresg, #leekuanyew, #leekuanyewtribute, #leehsienloong, #singaporean, #singapore🇸🇬, #singaporetravel, #singaporetrip, #sginstagram, #sginfluencer, #sginstagrammers, #sgphotography, #sgphotoshoot, #singapore_insta, #singaporecity, #sgtravelblogger, #localtravel, #localtrails',\n",
       " '#lino, #linoleumprint, #linocutting, #linoprinting, #print, #prints, #printmaking, #printstudio, #printmaker, #printmakingart, #printmakingstudio, #singapore, #singaporefood, #hawkerfood, #hawkerfoodsg, #hawkerculturesg, #pngkueh',\n",
       " '#lino, #linocutprint, #linocut, #linoprint, #linoleumprint, #linocutting, #linoprinting, #print, #prints, #printmaking, #printstudio, #printmaker, #printmakingart, #printmakingstudio, #singapore, #singaporefood, #hawkerfood, #hawkerfoodsg, #hawkerculturesg, #sghawkerfood, #sghawkerculture, #sghawkers',\n",
       " '#instafoodsg, #instafood, #locateats, #sgeats, #localjiak, #sgfoodie, #foodiesg, #sgfood, #eatsg, #fooddiarysg, #hawkerfoodsg, #hawkerfood, #sghawkerfood, #hawkerculturesg, #braisedduck',\n",
       " '#hawkerculturesg, #singaporefood, #hawkercenter',\n",
       " '#instafoodsg, #instafood, #locateats, #localjiak, #sgeats, #sgfoodie, #foodiesg, #sgfood, #hawkerculturesg, #hawkerfoodsg, #hawkerfood, #sghawkerfood, #zicharsg, #zichardinner, #chillicrab🦀, #chillicrabs, #blessed',\n",
       " '#hawkerculturesg',\n",
       " '#telokblangahcrescrentfoodcentre, #meehoonkway, #hawkerculturesg, #hawkerfood, #lovesg, #lovehawkerfood',\n",
       " '#hawkerculturesg, #sghawkerfood',\n",
       " '#chinhogaixiao, #chinhojiak, #甄好吃, #甄好介绍, #supporthawker, #supportlocal, #hawkerfoodsg, #hawkerfood, #hawkersg, #hawkerculturesg, #hawkercentre, #hawker, #hawkerculture, #ourhawkerculture, #singaporefood, #singaporefoodie, #singaporehawkerfood, #sgfoodie, #sgfood, #sghawker, #sghawkerculture, #singaporefoodculture, #abcmarket, #abchawkercentre, #friedrice, #炒饭',\n",
       " '#livelife, #livelifetothefullest, #curious, #singaporefood, #singaporefoodie, #foodporn, #exploration, #lifeblog, #lifeblogger, #grateful, #foodcoma, #lifestories, #grateful, #hawkerfood, #hawkerculture, #hawkerculturesg, #noodles, #walkabout',\n",
       " '#instafoodsg, #instafood, #locateats, #sgeats, #localjiak, #sgfoodie, #foodiesg, #sgfood, #eatsg, #fooddiarysg, #hawkerfood, #sghawkerfood, #hawkerculturesg, #hawkerfoodsg, #dinner, #greatcatchup, #blessed, #thankful',\n",
       " '#foodblogger, #foodlovers, #foodphotography, #igfood, #foodgram, #notsponsored, #meerebus, #hawkerfood, #hawkerculturesg, #hawkerculture, #malayfood, #nolimit, #mobilephotography, #throwback',\n",
       " '#1, #04-44,, #DCfoodjournal, #top1handmadenoodle, #handmadenoodles, #beautyworldcentre, #hawker, #hawkerfood, #hawkercentre, #sghawker, #hawkerfoodsg, #hawkersg, #sghawkerfood, #hawkerculture, #hawkerculturesg, #sgfood, #sgfoodies, #foodie, #sgfoodie, #sgeats, #sgfoodtrend, #sgfoodblogger, #burpple, #sgfoodporn, #singaporefood, #sgfooddiary',\n",
       " '#01-38,, #DCfoodjournal, #cheecheongfunclub, #cheecheongfun, #maxwellfoodcentre, #hawker, #hawkerfood, #hawkercentre, #sghawker, #hawkerfoodsg, #hawkersg, #sghawkerfood, #hawkerculture, #hawkerculturesg, #sgfood, #sgfoodies, #instafood, #foodstagram, #foodie, #sgfoodie, #sgeats, #foodphotography, #sgfoodtrend, #sgfoodblogger, #burpple, #igfood, #sgfoodporn, #singaporefood, #sgfooddiary',\n",
       " '#wfh, #ljonelrecommends, #hakkacusine, #singapore, #supportlocalbusiness',\n",
       " '#culturespoonsg, #coworkingkitchen, #sgfood, #sgfoodie, #nyonyafusion, #nasilemak, #bluepea, #butterflypea, #rendangchicken, #jiaklocal, #hawkerculturesg',\n",
       " '#tomyum, #tomyumdrybanmian, #drybanmian, #banmian, #drybanmee, #tomyumdry, #banmee, #sghawker, #sghawkerfood, #sghawkerculture, #sghawkers, #sghawkereats, #sghawkerfest, #sghawkercentre, #sghawkerfare, #hawkerfood, #hawker, #hawkerfoodsg, #hawkercentre, #hawkerculture, #hawkerculturesg, #sgfood, #sgfoodieparadise, #sgfoodies, #sgfoodie, #sgfoodporn, #sgfoodpic, #sgfoodphotography, #supportlocal, #supportlocalsg']"
      ]
     },
     "execution_count": 47,
     "metadata": {},
     "output_type": "execute_result"
    }
   ],
   "source": [
    "occurence"
   ]
  },
  {
   "cell_type": "code",
   "execution_count": 48,
   "id": "cc4edac5",
   "metadata": {},
   "outputs": [],
   "source": [
    "for combination in occurence:\n",
    "    combination = combination.split(\", \")\n",
    "    for hashtag in combination:\n",
    "        for hashtag2 in combination:\n",
    "            if hashtag2!=hashtag:\n",
    "                adjacency_dict[(hashtag,hashtag2)] += 1"
   ]
  },
  {
   "cell_type": "code",
   "execution_count": 49,
   "id": "ce2bce3d",
   "metadata": {},
   "outputs": [],
   "source": [
    "# Remove records where 0 co occurence\n",
    "temp_adjacency_dict = {}\n",
    "for k,v in adjacency_dict.items():\n",
    "    if v != 0:\n",
    "        temp_adjacency_dict[k]=v\n",
    "        \n",
    "# Remove duplicates\n",
    "# e.g. (hashtag1, hashtag2) is duplicate of (hashtag2, hashtag1)\n",
    "cleaned_adjacency_dict = {}\n",
    "for k,v in temp_adjacency_dict.items():\n",
    "    if (k[1],k[0]) not in cleaned_adjacency_dict:\n",
    "        cleaned_adjacency_dict[k] = v"
   ]
  },
  {
   "cell_type": "code",
   "execution_count": 50,
   "id": "79e4614d",
   "metadata": {},
   "outputs": [
    {
     "data": {
      "text/plain": [
       "{('#grateful', '#stjohnisland'): 2,\n",
       " ('#grateful', '#lifestories'): 14,\n",
       " ('#grateful', '#singaporefood'): 14,\n",
       " ('#grateful', '#redcross'): 2,\n",
       " ('#grateful', '#livelife'): 14,\n",
       " ('#grateful', '#lifeblogger'): 14,\n",
       " ('#grateful', '#thaibasil'): 2,\n",
       " ('#grateful', '#curiousaccountant'): 4,\n",
       " ('#grateful', '#livelifetothefullest'): 14,\n",
       " ('#grateful', '#singaporefoodie'): 14,\n",
       " ('#grateful', '#foodporn'): 14,\n",
       " ('#grateful', '#exploration'): 14,\n",
       " ('#grateful', '#noodles'): 8,\n",
       " ('#grateful', '#beprepared'): 2,\n",
       " ('#grateful', '#lunch'): 2,\n",
       " ('#grateful', '#walkabout'): 2,\n",
       " ('#grateful', '#beehoon'): 2,\n",
       " ('#grateful', '#lifeblog'): 14,\n",
       " ('#grateful', '#lazarusisland'): 2,\n",
       " ('#grateful', '#hawkerfood'): 14,\n",
       " ('#grateful', '#drynoodle'): 2,\n",
       " ('#grateful', '#curious'): 14,\n",
       " ('#grateful', '#foodcoma'): 14,\n",
       " ('#grateful', '#thaibasilchicken'): 2,\n",
       " ('#grateful', '#drynoodles'): 4,\n",
       " ('#grateful', '#thaicuisine'): 2,\n",
       " ('#grateful', '#meepok'): 2,\n",
       " ('#grateful', '#hawkerculturesg'): 14,\n",
       " ('#grateful', '#tiongbahrumarketandfoodcentre'): 2,\n",
       " ('#grateful', '#tiongbahru'): 2,\n",
       " ('#grateful', '#hawkerculture'): 14,\n",
       " ('#01-27,',\n",
       "  '#bakchormee#yishunparkhawkercentre#meekia#meekiadry#chashu#chashupork#porkball#porkballs#fishball#mincedpork#mincedmeat#noodles#porklard#onsenegg#egg#porkfat#saucynoodles#hawkers#hawkerculture#hawkerculturesg#sgfoodie#sgfoodies#sgfoodporn#foodporn#sgeats'): 1,\n",
       " ('#refuseplastic', '#packagefree'): 1,\n",
       " ('#refuseplastic', '#byo'): 1,\n",
       " ('#refuseplastic', '#環境問題'): 1,\n",
       " ('#refuseplastic', '#byocontainer'): 1,\n",
       " ('#refuseplastic', '#byoc'): 2,\n",
       " ('#refuseplastic', '#lunchtime'): 2,\n",
       " ('#refuseplastic', '#减塑生活'): 1,\n",
       " ('#refuseplastic', '#hawkerfoodsg'): 1,\n",
       " ('#refuseplastic', '#無痕飲食'): 1,\n",
       " ('#refuseplastic', '#noplastic'): 1,\n",
       " ('#refuseplastic', '#sgfood'): 2,\n",
       " ('#refuseplastic', '#sgfoodlover'): 1,\n",
       " ('#refuseplastic', '#reuserevolution'): 1,\n",
       " ('#refuseplastic', '#zerowaste'): 1,\n",
       " ('#refuseplastic', '#dabaosg'): 2,\n",
       " ('#refuseplastic', '#hawkerfood'): 1,\n",
       " ('#refuseplastic', '#不塑之客'): 1,\n",
       " ('#refuseplastic', '#byosg'): 1,\n",
       " ('#refuseplastic', '#reusablenotdisposable'): 1,\n",
       " ('#refuseplastic', '#hawkerculturesg'): 1,\n",
       " ('#refuseplastic', '#ecofriendlyliving'): 1,\n",
       " ('#refuseplastic', '#internationalfoodieschat'): 1,\n",
       " ('#refuseplastic', '#sustainablelivingsg'): 1,\n",
       " ('#refuseplastic', '#BYOsuccess'): 1,\n",
       " ('#refuseplastic', '#zerowastelifestyle'): 1,\n",
       " ('#refuseplastic', '#chickenrice'): 1,\n",
       " ('#refuseplastic', '#foodtogo'): 1,\n",
       " ('#吃货最棒', '#SingaporeFoodie'): 1,\n",
       " ('#吃货最棒', '#双语美食库'): 1,\n",
       " ('#吃货最棒', '#肉脞面'): 1,\n",
       " ('#吃货最棒', '#烤虾'): 1,\n",
       " ('#吃货最棒', '#馋嘴双兔'): 1,\n",
       " ('#吃货最棒', '#eatatNewton'): 1,\n",
       " ('#吃货最棒', '#BCM'): 1,\n",
       " ('#吃货最棒', '#纽顿熟食中心'): 2,\n",
       " ('#吃货最棒', '#NewtonCircus'): 1,\n",
       " ('#吃货最棒', '#whatlingeats'): 1,\n",
       " ('#吃货最棒', '#NewtonFood'): 1,\n",
       " ('#吃货最棒', '#hawkerFavourite'): 1,\n",
       " ('#吃货最棒', '#neighbourhoodsg'): 1,\n",
       " ('#吃货最棒', '#新加坡美食'): 1,\n",
       " ('#吃货最棒', '#BBQ'): 1,\n",
       " ('#吃货最棒', '#hawkersg'): 1,\n",
       " ('#吃货最棒', '#hawkerculturesg'): 1,\n",
       " ('#吃货最棒', '#新加坡双语美食库'): 1,\n",
       " ('#吃货最棒', '#livetoeat'): 1,\n",
       " ('#吃货最棒', '#越来越宅'): 1,\n",
       " ('#吃货最棒', '#纽顿'): 1,\n",
       " ('#trending', '#koreanfoodsg'): 1,\n",
       " ('#trending', '#koreanfood'): 1,\n",
       " ('#trending', '#koreanfoodlovers'): 1,\n",
       " ('#trending', '#singapore'): 1,\n",
       " ('#trending', '#travel'): 1,\n",
       " ('#trending', '#sg'): 1,\n",
       " ('#trending', '#travelphotography'): 1,\n",
       " ('#trending', '#foodporn'): 1,\n",
       " ('#trending', '#training'): 1,\n",
       " ('#trending', '#foodstagram'): 1,\n",
       " ('#trending', '#sgfood'): 1,\n",
       " ('#trending', '#traveladdict'): 1,\n",
       " ('#trending', '#food'): 1,\n",
       " ('#trending', '#travelblogger'): 1,\n",
       " ('#trending', '#foodart'): 1,\n",
       " ('#trending', '#travelgram'): 1,\n",
       " ('#trending', '#hawkerculturesg'): 1,\n",
       " ('#trending', '#korea'): 1,\n",
       " ('#trending', '#foodgram'): 1,\n",
       " ('#trending', '#foodpics'): 1,\n",
       " ('#trending', '#travelpics'): 1,\n",
       " ('#trending', '#foodie'): 2,\n",
       " ('#trending', '#foodblogger'): 2,\n",
       " ('#trending', '#foodstylist'): 1,\n",
       " ('#trending', '#8dayseat'): 1,\n",
       " ('#trending', '#korean'): 1,\n",
       " ('#trending', '#foodprep'): 1,\n",
       " ('#trending', '#sgfoodies'): 1,\n",
       " ('#printstudio', '#sghawkerfood'): 15,\n",
       " ('#printstudio', '#singaporefood'): 38,\n",
       " ('#printstudio', '#linoprinting'): 38,\n",
       " ('#printstudio', '#sghawkerculture'): 15,\n",
       " ('#printstudio', '#prints'): 38,\n",
       " ('#printstudio', '#awagami'): 18,\n",
       " ('#printstudio', '#lino'): 37,\n",
       " ('#printstudio', '#channelnewsasia'): 1,\n",
       " ('#printstudio', '#singapore'): 38,\n",
       " ('#printstudio', '#printmakingstudio'): 38,\n",
       " ('#printstudio', '#print'): 38,\n",
       " ('#printstudio', '#durian'): 6,\n",
       " ('#printstudio', '#hawkerfoodsg'): 38,\n",
       " ('#printstudio', '#linocutting'): 38,\n",
       " ('#printstudio', '#cranfieldcolours'): 17,\n",
       " ('#printstudio', '#sghawkers'): 15,\n",
       " ('#printstudio', '#ironfrogpress'): 16,\n",
       " ('#printstudio', '#linoprint'): 26,\n",
       " ('#printstudio', '#printmakingart'): 38,\n",
       " ('#printstudio', '#linoleumprint'): 38,\n",
       " ('#printstudio', '#awagamipaper'): 17,\n",
       " ('#printstudio', '#printmaking'): 38,\n",
       " ('#printstudio', '#hawkerfood'): 38,\n",
       " ('#printstudio', '#brandcodes'): 2,\n",
       " ('#printstudio', '#hawkerculturesg'): 38,\n",
       " ('#printstudio', '#pngkueh'): 10,\n",
       " ('#printstudio', '#coffee'): 3,\n",
       " ('#printstudio', '#movingplates'): 6,\n",
       " ('#printstudio', '#linocut'): 26,\n",
       " ('#printstudio', '#printmaker'): 38,\n",
       " ('#printstudio', '#linocutprint'): 26,\n",
       " ('#igfood', '#sghawkerfood'): 11,\n",
       " ('#igfood', '#nolimit'): 1,\n",
       " ('#igfood', '#singaporefood'): 12,\n",
       " ('#igfood', '#fishsoup'): 1,\n",
       " ('#igfood', '#katonglaksa'): 2,\n",
       " ('#igfood', '#braisedduckrice'): 1,\n",
       " ('#igfood', '#fishballnoodles'): 1,\n",
       " ('#igfood', '#prawnnoodles'): 1,\n",
       " ('#igfood', '#02-32'): 1,\n",
       " ('#igfood', '#cheecheongfun'): 1,\n",
       " ('#igfood', '#cheecheongfunclub'): 1,\n",
       " ('#igfood', '#01-39'): 1,\n",
       " ('#igfood', '#laska'): 2,\n",
       " ('#igfood', '#DCfoodjournal'): 11,\n",
       " ('#igfood', '#eatnowburnnexttime'): 1,\n",
       " ('#igfood', '#meerebus'): 1,\n",
       " ('#igfood', '#foodpornasia'): 1,\n",
       " ('#igfood', '#foodspotting'): 1,\n",
       " ('#igfood', '#01-38,'): 1,\n",
       " ('#igfood', '#SGFoodies'): 1,\n",
       " ('#igfood', '#malayfood'): 1,\n",
       " ('#igfood', '#prawnnoodle'): 1,\n",
       " ('#igfood', '#roastmeat'): 1,\n",
       " ('#igfood', '#sgfooddiary'): 12,\n",
       " ('#igfood', '#foodporn'): 1,\n",
       " ('#igfood', '#hawkerfoodsg'): 11,\n",
       " ('#igfood', '#maxwellfoodcentre'): 1,\n",
       " ('#igfood', '#foodgrammer'): 1,\n",
       " ('#igfood', '#foodstagram'): 13,\n",
       " ('#igfood', '#ramensg'): 1,\n",
       " ('#igfood', '#foodgasm'): 1,\n",
       " ('#igfood', '#sgfood'): 12,\n",
       " ('#igfood', '#instafoodsg'): 1,\n",
       " ('#igfood', '#sgfoodlover'): 1,\n",
       " ('#igfood', '#muffins'): 1,\n",
       " ('#igfood', '#burpple'): 11,\n",
       " ('#igfood', '#foodphotography'): 12,\n",
       " ('#igfood', '#foodlovers'): 1,\n",
       " ('#igfood', '#goldenmilefoodcentre'): 1,\n",
       " ('#igfood', '#sgeats'): 11,\n",
       " ('#igfood', '#foodofinstagram'): 1,\n",
       " ('#igfood', '#hawkercentre'): 11,\n",
       " ('#igfood', '#friedchickenwings'): 1,\n",
       " ('#igfood', '#foodshare'): 1,\n",
       " ('#igfood', '#sgfoodblogger'): 12,\n",
       " ('#igfood', '#hawkerfood'): 13,\n",
       " ('#igfood', '#sghawker'): 11,\n",
       " ('#igfood', '#muffin'): 1,\n",
       " ('#igfood', '#notsponsored'): 2,\n",
       " ('#igfood', '#hawkersg'): 11,\n",
       " ('#igfood', '#mobilephotography'): 2,\n",
       " ('#igfood', '#hawkerculturesg'): 14,\n",
       " ('#igfood', '#hawker'): 11,\n",
       " ('#igfood', '#oneprawnnoodle'): 1,\n",
       " ('#igfood', '#ahterfishballnoodles'): 1,\n",
       " ('#igfood', '#throwback'): 1,\n",
       " ('#igfood', '#foodinsg'): 1,\n",
       " ('#igfood', '#foodgram'): 2,\n",
       " ('#igfood', '#supportsmallbusiness'): 1,\n",
       " ('#igfood', '#sgfoodporn'): 12,\n",
       " ('#igfood', '#supportlocal'): 1,\n",
       " ('#igfood', '#sgfoodtrend'): 12,\n",
       " ('#igfood', '#foodiesofinstagram'): 1,\n",
       " ('#igfood', '#foodforfoodies'): 1,\n",
       " ('#igfood', '#ghimmoh'): 1,\n",
       " ('#igfood', '#01-14'): 1,\n",
       " ('#igfood', '#01-26,'): 1,\n",
       " ('#igfood', '#ahsengbraisedduckrice'): 1,\n",
       " ('#igfood', '#foodie'): 13,\n",
       " ('#igfood', '#ramen'): 1,\n",
       " ('#igfood', '#01-93,'): 1,\n",
       " ('#igfood', '#instafoodie'): 1,\n",
       " ('#igfood', '#foodblogger'): 1,\n",
       " ('#igfood', '#foodiesg'): 1,\n",
       " ('#igfood', '#foodiesofig'): 1,\n",
       " ('#igfood', '#SingaporeFood'): 1,\n",
       " ('#igfood', '#rotiprata'): 1,\n",
       " ('#igfood', '#anoodlestory'): 1,\n",
       " ('#igfood', '#springleafprataplace'): 1,\n",
       " ('#igfood', '#muffinsg'): 1,\n",
       " ('#igfood', '#foodphotographer'): 1,\n",
       " ('#igfood', '#siobak'): 1,\n",
       " ('#igfood', '#sliimuffin'): 1,\n",
       " ('#igfood', '#instafood'): 11,\n",
       " ('#igfood', '#01-44'): 1,\n",
       " ('#igfood', '#sgfoodie'): 12,\n",
       " ('#igfood', '#charsiew'): 1,\n",
       " ('#igfood', '#sgfoodhunt'): 1,\n",
       " ('#igfood', '#sgfoodies'): 11,\n",
       " ('#igfood', '#hawkerculture'): 12,\n",
       " ('#porridgesg', '#singaporefood'): 1,\n",
       " ('#porridgesg', '#foodiesinternationalchat'): 1,\n",
       " ('#porridgesg', '#yishun'): 1,\n",
       " ('#porridgesg', '#singaporefoodie'): 1,\n",
       " ('#porridgesg', '#eatbooksg'): 1,\n",
       " ('#porridgesg', '#yishuneats'): 1,\n",
       " ('#porridgesg', '#kekoumian'): 1,\n",
       " ('#porridgesg', '#eatoutsg'): 1,\n",
       " ('#porridgesg', '#foodsg'): 1,\n",
       " ('#porridgesg', '#thefoodieinitiative'): 1,\n",
       " ('#porridgesg', '#hawkerfoodsg'): 1,\n",
       " ('#porridgesg', '#sgfood'): 1,\n",
       " ('#porridgesg', '#globaleats'): 1,\n",
       " ('#porridgesg', '#instafoodsg'): 1,\n",
       " ('#porridgesg', '#sgeats'): 1,\n",
       " ('#porridgesg', '#sgigfood'): 1,\n",
       " ('#porridgesg', '#sgfoodblogger'): 1,\n",
       " ('#porridgesg', '#porridge'): 1,\n",
       " ('#porridgesg', '#hawkerculturesg'): 1,\n",
       " ('#porridgesg', '#sgfoodtrend'): 1,\n",
       " ('#porridgesg', '#jiaklocal'): 1,\n",
       " ('#porridgesg', '#foodiesg'): 1,\n",
       " ('#porridgesg', '#8dayseat'): 1,\n",
       " ('#porridgesg', '#sgfoodhunt'): 1,\n",
       " ('#porridgesg', '#burpplesg'): 1,\n",
       " ('#porridgesg', '#sgfoodies'): 1,\n",
       " ('#japanesefood', '#singaporefood'): 1,\n",
       " ('#japanesefood', '#foodiesinternationalchat'): 1,\n",
       " ('#japanesefood', '#sgrestaurant'): 1,\n",
       " ('#japanesefood', '#whati8today'): 1,\n",
       " ('#japanesefood', '#singaporefoodie'): 1,\n",
       " ('#japanesefood', '#eatbooksg'): 1,\n",
       " ('#japanesefood', '#sgfooddiary'): 1,\n",
       " ('#japanesefood', '#foodporn'): 1,\n",
       " ('#japanesefood', '#eatoutsg'): 1,\n",
       " ('#japanesefood', '#foodsg'): 1,\n",
       " ('#japanesefood', '#thefoodieinitiative'): 1,\n",
       " ('#japanesefood', '#hawkerfoodsg'): 2,\n",
       " ('#japanesefood', '#foodstagram'): 1,\n",
       " ('#japanesefood', '#dapao'): 1,\n",
       " ('#japanesefood', '#sgfood'): 2,\n",
       " ('#japanesefood', '#globaleats'): 1,\n",
       " ('#japanesefood', '#salmonmentaiko'): 1,\n",
       " ('#japanesefood', '#instafoodsg'): 1,\n",
       " ('#japanesefood', '#maruhachi'): 1,\n",
       " ('#japanesefood', '#ourhawkerculture'): 1,\n",
       " ('#japanesefood', '#sgeats'): 1,\n",
       " ('#japanesefood', '#food'): 1,\n",
       " ('#japanesefood', '#sgigfood'): 1,\n",
       " ('#japanesefood', '#sgfoodblogger'): 2,\n",
       " ('#japanesefood', '#japanese'): 1,\n",
       " ('#japanesefood', '#hawkerfood'): 1,\n",
       " ('#japanesefood', '#tonkatsu'): 1,\n",
       " ('#japanesefood', '#hawkerculturesg'): 2,\n",
       " ('#japanesefood', '#hawker'): 1,\n",
       " ('#japanesefood', '#supportsmallbusiness'): 1,\n",
       " ('#japanesefood', '#sgfoodtrend'): 1,\n",
       " ('#japanesefood', '#phase2'): 1,\n",
       " ('#japanesefood', '#yummyfood'): 1,\n",
       " ('#japanesefood', '#sgcafe'): 1,\n",
       " ('#japanesefood', '#jiaklocal'): 1,\n",
       " ('#japanesefood', '#foodie'): 1,\n",
       " ('#japanesefood', '#sembawang'): 1,\n",
       " ('#japanesefood', '#foodiesg'): 1,\n",
       " ('#japanesefood', '#japanesedon'): 1,\n",
       " ('#japanesefood', '#8dayseat'): 1,\n",
       " ('#japanesefood', '#covid'): 1,\n",
       " ('#japanesefood', '#mentaiko'): 1,\n",
       " ('#japanesefood', '#sgfoodhunt'): 2,\n",
       " ('#japanesefood', '#burpplesg'): 1,\n",
       " ('#japanesefood', '#sgfoodies'): 3,\n",
       " ('#japanesefood', '#hawkerculture'): 1,\n",
       " ('#sgblogger', '#supportlocalbusiness'): 1,\n",
       " ('#sgblogger', '#sgfoodpic'): 1,\n",
       " ('#sgblogger', '#eatbooksg'): 1,\n",
       " ('#sgblogger', '#instadaily'): 1,\n",
       " ('#sgblogger', '#supportlocalsg'): 1,\n",
       " ('#sgblogger', '#sgfoodlover'): 1,\n",
       " ('#sgblogger', '#igsg'): 1,\n",
       " ('#sgblogger', '#sgig'): 1,\n",
       " ('#sgblogger', '#sgfoodblogger'): 1,\n",
       " ('#sgblogger', '#whati8todaysg'): 1,\n",
       " ('#sgblogger', '#hawkerculturesg'): 1,\n",
       " ('#sgblogger', '#supportlocal'): 1,\n",
       " ('#sgblogger', '#sgfoodtrend'): 1,\n",
       " ('#sgblogger', '#singaporehawkerfood'): 1,\n",
       " ('#sgblogger', '#01-235,'): 1,\n",
       " ('#sgblogger', '#sgfoodie'): 1,\n",
       " ('#sgblogger', '#sgfoodreview'): 1,\n",
       " ('#', '#hawkersinwatercolours'): 1,\n",
       " ('#', '#sgclean'): 1,\n",
       " ('#', '#sghawkers'): 1,\n",
       " ('#', '#hawkerculturesg'): 1,\n",
       " ('#', '#sgfoodie'): 1,\n",
       " ('#simpangbedok', '#SgHeritageFood'): 1,\n",
       " ('#simpangbedok', '#麻辣香锅'): 1,\n",
       " ('#simpangbedok', '#singaporeeats'): 1,\n",
       " ('#simpangbedok', '#HawkercultureSg'): 1,\n",
       " ('#simpangbedok', '#yongtaufoo'): 1,\n",
       " ('#simpangbedok', '#ampangyongtaufoo'): 1,\n",
       " ('#simpangbedok', '#DaJieNiangDouFu'): 1,\n",
       " ('#simpangbedok', '#whati8today'): 1,\n",
       " ('#simpangbedok', '#eatoutsg'): 1,\n",
       " ('#simpangbedok', '#instasg'): 1,\n",
       " ('#simpangbedok', '#halalfoodsg'): 1,\n",
       " ('#simpangbedok', '#sghalal'): 1,\n",
       " ('#simpangbedok', '#DaJieBedok'): 1,\n",
       " ('#simpangbedok', '#ourhawkerculture'): 1,\n",
       " ('#simpangbedok', '#sgig'): 1,\n",
       " ('#simpangbedok', '#shiokfoodfind'): 1,\n",
       " ('#simpangbedok', '#iluvsg'): 1,\n",
       " ('#simpangbedok', '#whatissingapore'): 1,\n",
       " ('#simpangbedok', '#yongtaufu'): 1,\n",
       " ('#simpangbedok', '#釀豆腐'): 1,\n",
       " ('#simpangbedok', '#8DaysEat'): 1,\n",
       " ('#simpangbedok', '#hakkayongtaufoo'): 1,\n",
       " ('#simpangbedok', '#singaporeinsiders'): 1,\n",
       " ('#simpangbedok', '#mala'): 1,\n",
       " ('#simpangbedok', '#whattoeat'): 1,\n",
       " ('#simpangbedok', '#DaJieMakanPlace'): 1,\n",
       " ('#simpangbedok', '#kampungfriedrice'): 1,\n",
       " ('#simpangbedok', '#sgfoodie'): 1,\n",
       " ('#simpangbedok', '#DaJie'): 1,\n",
       " ('#stjohnisland', '#lifestories'): 1,\n",
       " ('#stjohnisland', '#singaporefood'): 1,\n",
       " ('#stjohnisland', '#livelife'): 1,\n",
       " ('#stjohnisland', '#lifeblogger'): 1,\n",
       " ('#stjohnisland', '#curiousaccountant'): 1,\n",
       " ('#stjohnisland', '#livelifetothefullest'): 1,\n",
       " ('#stjohnisland', '#singaporefoodie'): 1,\n",
       " ('#stjohnisland', '#foodporn'): 1,\n",
       " ('#stjohnisland', '#exploration'): 1,\n",
       " ('#stjohnisland', '#beprepared'): 1,\n",
       " ('#stjohnisland', '#lunch'): 1,\n",
       " ('#stjohnisland', '#beehoon'): 1,\n",
       " ('#stjohnisland', '#lifeblog'): 1,\n",
       " ('#stjohnisland', '#lazarusisland'): 1,\n",
       " ('#stjohnisland', '#hawkerfood'): 1,\n",
       " ('#stjohnisland', '#curious'): 1,\n",
       " ('#stjohnisland', '#foodcoma'): 1,\n",
       " ('#stjohnisland', '#hawkerculturesg'): 1,\n",
       " ('#stjohnisland', '#hawkerculture'): 1,\n",
       " ('#chefkin', '#singaporefood'): 1,\n",
       " ('#chefkin', '#beefbrisketnoodle'): 1,\n",
       " ('#chefkin', '#foodiesinternationalchat'): 1,\n",
       " ('#chefkin', '#yishunfood'): 1,\n",
       " ('#chefkin', '#wantonmee'): 1,\n",
       " ('#chefkin', '#singaporefoodie'): 1,\n",
       " ('#chefkin', '#jiaksimipng'): 1,\n",
       " ('#chefkin', '#eatbooksg'): 1,\n",
       " ('#chefkin', '#eatoutsg'): 1,\n",
       " ('#chefkin', '#foodsg'): 1,\n",
       " ('#chefkin', '#thefoodieinitiative'): 1,\n",
       " ('#chefkin', '#hawkerfoodsg'): 1,\n",
       " ('#chefkin', '#sgfood'): 1,\n",
       " ('#chefkin', '#globaleats'): 1,\n",
       " ('#chefkin', '#instafoodsg'): 1,\n",
       " ('#chefkin', '#sgeats'): 1,\n",
       " ('#chefkin', '#sgigfood'): 1,\n",
       " ('#chefkin', '#sgfoodblogger'): 1,\n",
       " ('#chefkin', '#hawkerculturesg'): 1,\n",
       " ('#chefkin', '#sgfoodtrend'): 1,\n",
       " ('#chefkin', '#jiaklocal'): 1,\n",
       " ('#chefkin', '#foodiesg'): 1,\n",
       " ('#chefkin', '#8dayseat'): 1,\n",
       " ('#chefkin', '#sgfoodhunt'): 1,\n",
       " ('#chefkin', '#burpplesg'): 1,\n",
       " ('#chefkin', '#sgfoodies'): 1,\n",
       " ('#shiok', '#singaporefood'): 3,\n",
       " ('#shiok', '#foodies'): 3,\n",
       " ('#shiok', '#localfare'): 3,\n",
       " ('#shiok', '#dapaoculture'): 3,\n",
       " ('#shiok', '#foodinstagram'): 1,\n",
       " ('#shiok', '#visitsingapore'): 3,\n",
       " ('#shiok', '#delish'): 1,\n",
       " ('#shiok', '#thesingaporefoodbutler'): 1,\n",
       " ('#shiok', '#eatersg'): 1,\n",
       " ('#shiok', '#delicious'): 1,\n",
       " ('#shiok', '#foodspotting'): 2,\n",
       " ('#shiok', '#covidtakeaway'): 3,\n",
       " ('#shiok', '#singaporefoodie'): 1,\n",
       " ('#shiok', '#sgdining'): 1,\n",
       " ('#shiok', '#yummydeals'): 3,\n",
       " ('#shiok', '#foodstagram'): 3,\n",
       " ('#shiok', '#eatingforinsta'): 1,\n",
       " ('#shiok', '#healthyliving'): 3,\n",
       " ('#shiok', '#noodles'): 1,\n",
       " ('#shiok', '#sgfood'): 3,\n",
       " ('#shiok', '#supportlocalsg'): 3,\n",
       " ('#shiok', '#burpple'): 3,\n",
       " ('#shiok', '#sgeats'): 4,\n",
       " ('#shiok', '#igsg'): 3,\n",
       " ('#shiok', '#food'): 1,\n",
       " ('#shiok', '#singaporefoodscene'): 3,\n",
       " ('#shiok', '#hawkerfood'): 1,\n",
       " ('#shiok', '#sghawker'): 3,\n",
       " ('#shiok', '#ricebowl'): 3,\n",
       " ('#shiok', '#foodcoma'): 1,\n",
       " ('#shiok', '#hawkersg'): 1,\n",
       " ('#shiok', '#eeeeeats'): 1,\n",
       " ('#shiok', '#hawkerculturesg'): 4,\n",
       " ('#shiok', '#cheapeats'): 3,\n",
       " ('#shiok', '#foodpics'): 1,\n",
       " ('#shiok', '#igfoodies'): 1,\n",
       " ('#shiok', '#foodie'): 4,\n",
       " ('#shiok', '#unescohawkerculture'): 3,\n",
       " ('#shiok', '#foodiesg'): 1,\n",
       " ('#shiok', '#wontonmee'): 1,\n",
       " ('#shiok', '#eatyourvegetables'): 3,\n",
       " ('#shiok', '#8dayseat'): 3,\n",
       " ('#shiok', '#healthyeating'): 3,\n",
       " ('#shiok', '#instafood'): 4,\n",
       " ('#shiok', '#sgfoodie'): 3,\n",
       " ('#shiok', '#sgfoodies'): 3,\n",
       " ('#shiok', '#hawkerculture'): 3,\n",
       " ('#besurprised', '#glutenfreesg'): 5,\n",
       " ('#besurprised', '#agarcakesingapore'): 6,\n",
       " ('#besurprised', '#beextraordinary'): 6,\n",
       " ('#besurprised', '#nokonnyaku'): 6,\n",
       " ('#besurprised', '#agaragar'): 6,\n",
       " ('#besurprised', '#dessertsg'): 12,\n",
       " ('#besurprised', '#vegetariansg'): 6,\n",
       " ('#besurprised', '#wahoo'): 1,\n",
       " ('#besurprised', '#nokonjac'): 6,\n",
       " ('#besurprised', '#vegansg'): 6,\n",
       " ('#besurprised', '#localbusiness'): 6,\n",
       " ('#besurprised', '#localdessert'): 1,\n",
       " ('#besurprised', '#beoriginal'): 6,\n",
       " ('#besurprised', '#hawkerculturesg'): 6,\n",
       " ('#besurprised', '#ondehondehcake'): 5,\n",
       " ('#红龟粿', '#comfortfood'): 1,\n",
       " ('#红龟粿', '#localjiak'): 1,\n",
       " ('#红龟粿', '#吉祥红龟粿'): 1,\n",
       " ('#红龟粿', '#hawkerfoodsg'): 1,\n",
       " ('#红龟粿', '#localfood'): 1,\n",
       " ('#红龟粿', '#sgfood'): 1,\n",
       " ('#红龟粿', '#jixiangangkukueh'): 1,\n",
       " ('#红龟粿', '#instafoodsg'): 1,\n",
       " ('#红龟粿', '#sgeats'): 1,\n",
       " ('#红龟粿', '#hawkerfood'): 1,\n",
       " ('#红龟粿', '#hawkerculturesg'): 1,\n",
       " ('#红龟粿', '#angkukueh'): 1,\n",
       " ('#红龟粿', '#locateats'): 1,\n",
       " ('#红龟粿', '#foodiesg'): 1,\n",
       " ('#红龟粿', '#instafood'): 1,\n",
       " ('#红龟粿', '#sgfoodie'): 1,\n",
       " ('#meihueats', '#fishballnoodles'): 1,\n",
       " ('#meihueats', '#lovefood'): 3,\n",
       " ('#meihueats', '#impressive'): 3,\n",
       " ('#meihueats', '#chicken'): 1,\n",
       " ('#meihueats', '#whitechicken'): 1,\n",
       " ('#meihueats', '#delicious'): 3,\n",
       " ('#meihueats', '#bestchickenrice'): 1,\n",
       " ('#meihueats', '#fightofthebestfishballnoodle'): 1,\n",
       " ('#meihueats', '#hueats'): 3,\n",
       " ('#meihueats', '#foodporn'): 3,\n",
       " ('#meihueats', '#foodcomparing'): 1,\n",
       " ('#meihueats', '#beefburgers'): 1,\n",
       " ('#meihueats', '#noodles'): 1,\n",
       " ('#meihueats', '#foodexploring'): 3,\n",
       " ('#meihueats', '#sgfood'): 3,\n",
       " ('#meihueats', '#cheeseburgers'): 1,\n",
       " ('#meihueats', '#foodreview'): 3,\n",
       " ('#meihueats', '#food'): 3,\n",
       " ('#meihueats', '#burgers'): 1,\n",
       " ('#meihueats', '#hawkerfood'): 3,\n",
       " ('#meihueats', '#ilikefood'): 3,\n",
       " ('#meihueats', '#hainesechickenrice'): 1,\n",
       " ('#meihueats', '#hawkerculturesg'): 3,\n",
       " ('#meihueats', '#hawker'): 3,\n",
       " ('#meihueats', '#awesomefood'): 3,\n",
       " ('#meihueats', '#hungry'): 3,\n",
       " ('#meihueats', '#foodhunt'): 3,\n",
       " ('#meihueats', '#iwillbeback'): 3,\n",
       " ('#meihueats', '#affordable'): 3,\n",
       " ('#meihueats', '#foodie'): 3,\n",
       " ('#meihueats', '#liveforfood'): 3,\n",
       " ('#meihueats', '#goodfood'): 3,\n",
       " ('#meihueats', '#fishball'): 1,\n",
       " ('#meihueats', '#iwannacomebackhere'): 3,\n",
       " ('#meihueats', '#chickenrice'): 1,\n",
       " ('#meihueats', '#sggdfood'): 3,\n",
       " ('#meihueats', '#explorefood'): 3,\n",
       " ('#travelsketching', '#hawkersinwatercolours'): 1,\n",
       " ('#travelsketching', '#sghawkerculture'): 1,\n",
       " ('#travelsketching', '#yearendthanks'): 1,\n",
       " ('#travelsketching', '#urbansketching'): 1,\n",
       " ('#travelsketching', '#hawkerculturesg'): 1,\n",
       " ('#travelsketching', '#watercolorsketchbook'): 1,\n",
       " ('#sghawkerfood', '#yummylunch'): 2,\n",
       " ('#sghawkerfood', '#angmokiolohmeelaksa'): 1,\n",
       " ('#sghawkerfood', '#victorfamousfriedchickenwingrice'): 1,\n",
       " ('#sghawkerfood', '#01-02,'): 1,\n",
       " ('#sghawkerfood', '#cafefood'): 1,\n",
       " ('#sghawkerfood', '#eatsg'): 11,\n",
       " ('#sghawkerfood', '#rwp'): 1,\n",
       " ('#sghawkerfood', '#sginfluencer'): 1,\n",
       " ('#sghawkerfood', '#sgfoodstagram'): 3,\n",
       " ('#sghawkerfood', '#mooping'): 1,\n",
       " ('#sghawkerfood', '#singaporefood'): 52,\n",
       " ('#sghawkerfood', '#eidilfitri'): 1,\n",
       " ('#sghawkerfood', '#fishsoup'): 1,\n",
       " ('#sghawkerfood', '#katonglaksa'): 2,\n",
       " ('#sghawkerfood', '#foodies'): 1,\n",
       " ('#sghawkerfood', '#sgigfoodies'): 1,\n",
       " ('#sghawkerfood', '#westernbarbeque'): 1,\n",
       " ('#sghawkerfood', '#braisedduckrice'): 1,\n",
       " ('#sghawkerfood', '#01-20,'): 1,\n",
       " ('#sghawkerfood', '#fishballnoodles'): 1,\n",
       " ('#sghawkerfood', '#grabfood'): 1,\n",
       " ('#sghawkerfood', '#linoprinting'): 15,\n",
       " ('#sghawkerfood', '#B4-66,'): 1,\n",
       " ('#sghawkerfood', '#ngohhiang'): 1,\n",
       " ('#sghawkerfood', '#killineykopithiam'): 1,\n",
       " ('#sghawkerfood', '#tomyum'): 1,\n",
       " ('#sghawkerfood', '#prawnnoodles'): 1,\n",
       " ('#sghawkerfood', '#01-17'): 1,\n",
       " ('#sghawkerfood', '#mediainvite'): 1,\n",
       " ('#sghawkerfood', '#sghawkerculture'): 19,\n",
       " ('#sghawkerfood', '#foodpic'): 1,\n",
       " ('#sghawkerfood', '#lixinteochewfishballnoodle'): 1,\n",
       " ('#sghawkerfood', '#tanglinhalttraditionalpeanutpancake'): 1,\n",
       " ('#sghawkerfood', '#Grab50thHawkerCentre'): 1,\n",
       " ('#sghawkerfood', '#sgtastebud'): 1,\n",
       " ('#sghawkerfood', '#02-32'): 1,\n",
       " ('#sghawkerfood', '#supportlocalbusiness'): 1,\n",
       " ('#sghawkerfood', '#HawkercultureSg'): 1,\n",
       " ('#sghawkerfood', '#cheecheongfun'): 1,\n",
       " ('#sghawkerfood', '#prints'): 15,\n",
       " ('#sghawkerfood', '#01-53,'): 1,\n",
       " ('#sghawkerfood', '#cheecheongfunclub'): 1,\n",
       " ('#sghawkerfood', '#01-39'): 1,\n",
       " ('#sghawkerfood', '#grandpawesternfood'): 1,\n",
       " ('#sghawkerfood', '#wantonmee'): 1,\n",
       " ('#sghawkerfood', '#byosingapore'): 1,\n",
       " ('#sghawkerfood', '#laska'): 2,\n",
       " ('#sghawkerfood', '#comfortfood'): 4,\n",
       " ('#sghawkerfood', '#sustainablesg'): 1,\n",
       " ('#sghawkerfood', '#yongtaufoo'): 1,\n",
       " ('#sghawkerfood', '#foodiegram'): 1,\n",
       " ('#sghawkerfood', '#lino'): 15,\n",
       " ('#sghawkerfood', '#foodiesoninstagram'): 1,\n",
       " ('#sghawkerfood', '#wuxiang'): 1,\n",
       " ('#sghawkerfood', '#DCfoodjournal'): 34,\n",
       " ('#sghawkerfood', '#local'): 1,\n",
       " ('#sghawkerfood', '#01-27'): 1,\n",
       " ('#sghawkerfood', '#sgfoodpic'): 3,\n",
       " ('#sghawkerfood', '#byocontainer'): 1,\n",
       " ('#sghawkerfood', '#laozhongzhong'): 1,\n",
       " ('#sghawkerfood', '#nasilemak'): 1,\n",
       " ('#sghawkerfood', '#kopiandtoast'): 6,\n",
       " ('#sghawkerfood', '#localjiak'): 26,\n",
       " ('#sghawkerfood', '#saltedbeanpancake'): 1,\n",
       " ('#sghawkerfood', '#hillstreettaihwaporknoodles'): 1,\n",
       " ('#sghawkerfood', '#byoc'): 1,\n",
       " ('#sghawkerfood', '#meerebus'): 2,\n",
       " ('#sghawkerfood', '#luruofan'): 1,\n",
       " ('#sghawkerfood', '#heapsengleong'): 1,\n",
       " ('#sghawkerfood', '#GrabforGood'): 1,\n",
       " ('#sghawkerfood', '#tanglinhaltfoodcentre'): 1,\n",
       " ('#sghawkerfood', '#fooddiarysg'): 15,\n",
       " ('#sghawkerfood', '#whati8today'): 3,\n",
       " ('#sghawkerfood', '#eat3bowlssg'): 1,\n",
       " ('#sghawkerfood', '#kopifellas'): 1,\n",
       " ('#sghawkerfood', '#bakchormee'): 1,\n",
       " ('#sghawkerfood', '#sgigfoodporn'): 1,\n",
       " ('#sghawkerfood', '#singapore'): 15,\n",
       " ('#sghawkerfood', '#famouseunosbakchormee'): 1,\n",
       " ('#sghawkerfood', '#LokLokKing'): 1,\n",
       " ('#sghawkerfood', '#sgfoodpics'): 1,\n",
       " ('#sghawkerfood', '#1'): 1,\n",
       " ('#sghawkerfood', '#eatbooksg'): 1,\n",
       " ('#sghawkerfood', '#printmakingstudio'): 15,\n",
       " ('#sghawkerfood', '#meesiam'): 2,\n",
       " ('#sghawkerfood', '#01-38,'): 1,\n",
       " ('#sghawkerfood', '#bubbletea'): 1,\n",
       " ('#sghawkerfood', '#chompchompfoodcentre'): 1,\n",
       " ('#sghawkerfood', '#tabaolunch'): 1,\n",
       " ('#sghawkerfood', '#print'): 15,\n",
       " ('#sghawkerfood', '#durian'): 4,\n",
       " ('#sghawkerfood', '#kopifrensfood'): 1,\n",
       " ('#sghawkerfood', '#prawnnoodle'): 1,\n",
       " ('#sghawkerfood', '#蚝煎🍳'): 1,\n",
       " ('#sghawkerfood', '#kopifrens'): 1,\n",
       " ('#sghawkerfood', '#uniquelysg'): 1,\n",
       " ('#sghawkerfood', '#roastmeat'): 1,\n",
       " ('#sghawkerfood', '#sgfooddiary'): 35,\n",
       " ('#sghawkerfood', '#foodporn'): 2,\n",
       " ('#sghawkerfood', '#zicharsg'): 2,\n",
       " ('#sghawkerfood', '#stayhealthy'): 1,\n",
       " ('#sghawkerfood', '#brunch'): 1,\n",
       " ('#sghawkerfood', '#laksa'): 2,\n",
       " ('#sghawkerfood', '#caifan'): 1,\n",
       " ('#sghawkerfood', '#eatoutsg'): 3,\n",
       " ('#sghawkerfood', '#instasg'): 1,\n",
       " ('#sghawkerfood', '#foodsg'): 2,\n",
       " ('#sghawkerfood', '#caipng'): 1,\n",
       " ('#sghawkerfood', '#01-44,'): 1,\n",
       " ('#sghawkerfood', '#oysterlover'): 1,\n",
       " ('#sghawkerfood', '#oldshifucharcoalporridge'): 1,\n",
       " ('#sghawkerfood', '#sgheritagefood'): 1,\n",
       " ('#sghawkerfood', '#yongtaufoodry'): 1,\n",
       " ('#sghawkerfood', '#westernfood'): 1,\n",
       " ('#sghawkerfood', '#seafoodhorfun'): 1,\n",
       " ('#sghawkerfood', '#lunchtimesg'): 1,\n",
       " ('#sghawkerfood', '#sgffxhawkerpicks'): 1,\n",
       " ('#sghawkerfood', '#hawkerfoodsg'): 79,\n",
       " ('#sghawkerfood', '#xiujiikanbilisyongtaufu'): 1,\n",
       " ('#sghawkerfood', '#01-12,'): 1,\n",
       " ('#sghawkerfood', '#ibringmyownsg'): 1,\n",
       " ('#sghawkerfood', '#whatieatforlunch'): 3,\n",
       " ('#sghawkerfood', '#instadaily'): 1,\n",
       " ('#sghawkerfood', '#foodreviewssg'): 1,\n",
       " ('#sghawkerfood', '#maxwellfoodcentre'): 1,\n",
       " ('#sghawkerfood', '#ecofriendly'): 1,\n",
       " ('#sghawkerfood', '#foodstagram'): 13,\n",
       " ('#sghawkerfood', '#localfood'): 1,\n",
       " ('#sghawkerfood', '#sgheritage'): 1,\n",
       " ('#sghawkerfood', '#michelinstar'): 1,\n",
       " ('#sghawkerfood', '#stayhomestaysafe🏠'): 1,\n",
       " ('#sghawkerfood', '#ramensg'): 1,\n",
       " ('#sghawkerfood', '#02-107,'): 1,\n",
       " ('#sghawkerfood', '#foodgasm'): 1,\n",
       " ('#sghawkerfood', '#linocutting'): 15,\n",
       " ('#sghawkerfood', '#staypositive💯'): 1,\n",
       " ('#sghawkerfood', '#worththecalories'): 1,\n",
       " ('#sghawkerfood', '#sghawkerfest'): 1,\n",
       " ('#sghawkerfood', '#jrecollectionfood'): 1,\n",
       " ('#sghawkerfood', '#top1handmadenoodle'): 1,\n",
       " ('#sghawkerfood', '#tomyumdry'): 1,\n",
       " ('#sghawkerfood', '#chinatowncomplexfoodcentre'): 1,\n",
       " ('#sghawkerfood', '#westernhawkerfood'): 1,\n",
       " ('#sghawkerfood', '#sglocaleats'): 2,\n",
       " ('#sghawkerfood', '#sgfood'): 67,\n",
       " ('#sghawkerfood', '#changicitypoint_sg'): 1,\n",
       " ('#sghawkerfood', '#greatcatchup'): 1,\n",
       " ('#sghawkerfood', '#supportlocalsg'): 10,\n",
       " ('#sghawkerfood', '#globaleats'): 1,\n",
       " ('#sghawkerfood', '#sghawkers'): 17,\n",
       " ('#sghawkerfood', '#instafoodsg'): 29,\n",
       " ('#sghawkerfood', '#sgfoodlover'): 4,\n",
       " ('#sghawkerfood', '#lunch'): 4,\n",
       " ('#sghawkerfood', '#fruitsrojak'): 1,\n",
       " ('#sghawkerfood', '#muffins'): 1,\n",
       " ('#sghawkerfood', '#04-44,'): 1,\n",
       " ('#sghawkerfood', '#taiwanesefood'): 2,\n",
       " ('#sghawkerfood', '#burpple'): 34,\n",
       " ('#sghawkerfood', '#foodphotography'): 12,\n",
       " ('#sghawkerfood', '#nosingleuseplastic'): 1,\n",
       " ('#sghawkerfood', '#chillicrab🦀'): 1,\n",
       " ('#sghawkerfood', '#friedoyster'): 1,\n",
       " ('#sghawkerfood', '#sweeguanhokkienmee'): 1,\n",
       " ('#sghawkerfood', '#goldenmilefoodcentre'): 1,\n",
       " ('#sghawkerfood', '#fooddeliverysg'): 2,\n",
       " ('#sghawkerfood', '#foodpictures'): 1,\n",
       " ('#sghawkerfood', '#amoystreetfoodcenter'): 1,\n",
       " ('#sghawkerfood', '#linoprint'): 15,\n",
       " ('#sghawkerfood', '#ourhawkerculture'): 3,\n",
       " ('#sghawkerfood', '#sgeats'): 63,\n",
       " ('#sghawkerfood', '#oldschooltaste'): 1,\n",
       " ('#sghawkerfood', '#igsg'): 2,\n",
       " ('#sghawkerfood', '#sgfoodgram'): 1,\n",
       " ('#sghawkerfood', '#sengkeemushroommincedmeatnoodle'): 1,\n",
       " ('#sghawkerfood', '#beautyworldcentre'): 2,\n",
       " ('#sghawkerfood', '#01-101,'): 1,\n",
       " ('#sghawkerfood', '#printmakingart'): 15,\n",
       " ('#sghawkerfood', '#01-33,'): 1,\n",
       " ('#sghawkerfood', '#ahmachimian'): 1,\n",
       " ('#sghawkerfood', '#claypotrice'): 1,\n",
       " ('#sghawkerfood', '#linoleumprint'): 15,\n",
       " ('#sghawkerfood', '#hawkercentre'): 35,\n",
       " ('#sghawkerfood', '#claypotcurrychicken'): 1,\n",
       " ('#sghawkerfood', '#braisedduck'): 1,\n",
       " ('#sghawkerfood', '#popiah'): 1,\n",
       " ('#sghawkerfood', '#02-048,'): 1,\n",
       " ('#sghawkerfood', '#printmaking'): 15,\n",
       " ('#sghawkerfood', '#eidmubarak'): 1,\n",
       " ('#sghawkerfood', '#ahhockfriedhokkienmee'): 1,\n",
       " ('#sghawkerfood', '#malaysiastreetfood'): 1,\n",
       " ('#sghawkerfood', '#sghawkereats'): 1,\n",
       " ('#sghawkerfood', '#sgig'): 2,\n",
       " ('#sghawkerfood', '#littleindiasingapore'): 1,\n",
       " ('#sghawkerfood', '#02-88,'): 1,\n",
       " ('#sghawkerfood', '#kolomee'): 2,\n",
       " ('#sghawkerfood', '#sgloklok'): 1,\n",
       " ('#sghawkerfood', '#zichardinner'): 1,\n",
       " ('#sghawkerfood', '#sgfoodblogger'): 36,\n",
       " ('#sghawkerfood', '#sembawanghillsfoodcentre'): 1,\n",
       " ('#sghawkerfood', '#01-01,'): 1,\n",
       " ('#sghawkerfood', '#foodvibes'): 1,\n",
       " ('#sghawkerfood', '#hawkerfood'): 81,\n",
       " ('#sghawkerfood', '#sgfoodiegram'): 2,\n",
       " ('#sghawkerfood', '#sghawker'): 38,\n",
       " ('#sghawkerfood', '#loklok'): 1,\n",
       " ('#sghawkerfood', '#muffin'): 1,\n",
       " ('#sghawkerfood', '#stfoodtrending'): 1,\n",
       " ('#sghawkerfood', '#peanutpancake'): 1,\n",
       " ('#sghawkerfood', '#madroaster'): 1,\n",
       " ('#sghawkerfood', '#byosg'): 1,\n",
       " ('#sghawkerfood', '#sgfoodiary'): 1,\n",
       " ('#sghawkerfood', '#sgfoodshare'): 1,\n",
       " ('#sghawkerfood', '#janggutlaksa'): 1,\n",
       " ('#sghawkerfood', '#Singaporeinsiders'): 1,\n",
       " ('#sghawkerfood', '#hawkersg'): 34,\n",
       " ('#sghawkerfood', '#shiokfoodfind'): 1,\n",
       " ('#sghawkerfood', '#handmadenoodles'): 1,\n",
       " ('#sghawkerfood', '#reusablenotdisposable'): 1,\n",
       " ('#sghawkerfood', '#anglohainanesecuisine'): 1,\n",
       " ('#sghawkerfood', '#ourhawkerheritage'): 1,\n",
       " ('#sghawkerfood', '#carrotcake'): 1,\n",
       " ('#sghawkerfood', '#lormeesg'): 1,\n",
       " ('#sghawkerfood', '#indulgence'): 1,\n",
       " ('#sghawkerfood', '#04-67,'): 1,\n",
       " ('#sghawkerfood', '#hawkerculturesg'): 87,\n",
       " ('#sghawkerfood', '#hawker'): 36,\n",
       " ('#sghawkerfood', '#01-5109,'): 1,\n",
       " ('#sghawkerfood', '#oneprawnnoodle'): 1,\n",
       " ('#sghawkerfood', '#banmee'): 1,\n",
       " ('#sghawkerfood', '#ahterfishballnoodles'): 1,\n",
       " ('#sghawkerfood', '#oysterlovers'): 1,\n",
       " ('#sghawkerfood', '#pngkueh'): 2,\n",
       " ('#sghawkerfood', '#throwback'): 1,\n",
       " ('#sghawkerfood', '#chickencutlet'): 2,\n",
       " ('#sghawkerfood', '#xinglongcookedfood'): 1,\n",
       " ('#sghawkerfood', '#whatissingapore'): 1,\n",
       " ('#sghawkerfood', '#foodlover'): 2,\n",
       " ('#sghawkerfood', '#bersehfoodcentre'): 1,\n",
       " ('#sghawkerfood', '#sgfoodporn'): 36,\n",
       " ('#sghawkerfood', '#localdelights'): 7,\n",
       " ('#sghawkerfood', '#foodpics'): 1,\n",
       " ('#sghawkerfood', '#supportlocal'): 4,\n",
       " ('#sghawkerfood', '#sgfoodtrend'): 35,\n",
       " ('#sghawkerfood', '#sghawkerfare'): 1,\n",
       " ('#sghawkerfood', '#honglimfoodcentre'): 1,\n",
       " ('#sghawkerfood', '#dinner'): 5,\n",
       " ('#sghawkerfood', '#the1950scoffee'): 1,\n",
       " ('#sghawkerfood', '#foodpicture'): 1,\n",
       " ('#sghawkerfood', '#foodiesofinstagram'): 1,\n",
       " ('#sghawkerfood', '#drybanmee'): 1,\n",
       " ('#sghawkerfood', '#michelinguide'): 2,\n",
       " ('#sghawkerfood', '#yummyfood'): 1,\n",
       " ('#sghawkerfood', '#sgcafe'): 1,\n",
       " ('#sghawkerfood', '#01-14'): 1,\n",
       " ('#sghawkerfood', '#01-26,'): 1,\n",
       " ('#sghawkerfood', '#ahsengbraisedduckrice'): 1,\n",
       " ('#sghawkerfood', '#bainianyongtaufoo'): 1,\n",
       " ('#sghawkerfood', '#fishballnoodle'): 1,\n",
       " ('#sghawkerfood', '#halalsg'): 1,\n",
       " ('#sghawkerfood', '#foodie'): 26,\n",
       " ('#sghawkerfood', '#amoystreetfoodcentre'): 1,\n",
       " ('#sghawkerfood', '#sgfoodshares'): 1,\n",
       " ('#sghawkerfood', '#ramen'): 1,\n",
       " ('#sghawkerfood', '#01-93,'): 1,\n",
       " ('#sghawkerfood', '#drybanmian'): 1,\n",
       " ('#sghawkerfood', '#longtimenoeat'): 1,\n",
       " ('#sghawkerfood', '#locateats'): 27,\n",
       " ('#sghawkerfood', '#discoverunder10k.'): 1,\n",
       " ('#sghawkerfood', '#michiamkueh'): 1,\n",
       " ('#sghawkerfood', '#friedoysters'): 1,\n",
       " ('#sghawkerfood', '#cantoneseporridge'): 1,\n",
       " ('#sghawkerfood', '#hokkienmee'): 3,\n",
       " ('#sghawkerfood', '#localfoodsg'): 1,\n",
       " ('#sghawkerfood', '#hawkerfare'): 1,\n",
       " ('#sghawkerfood', '#lormee'): 1,\n",
       " ('#sghawkerfood', '#foodiesg'): 26,\n",
       " ('#sghawkerfood', '#linocut'): 15,\n",
       " ('#sghawkerfood', '#rayyanswaroengupnormal'): 1,\n",
       " ('#sghawkerfood', '#thankful'): 1,\n",
       " ('#sghawkerfood', '#蚝煎'): 1,\n",
       " ('#sghawkerfood', '#rotiprata'): 1,\n",
       " ('#sghawkerfood', '#01-36,'): 2,\n",
       " ('#sghawkerfood', '#anoodlestory'): 1,\n",
       " ('#sghawkerfood', '#LokLokKingSg'): 1,\n",
       " ('#sghawkerfood', '#P2HA'): 1,\n",
       " ('#sghawkerfood', '#springleafprataplace'): 1,\n",
       " ('#sghawkerfood', '#igdaily'): 1,\n",
       " ('#sghawkerfood', '#muffinsg'): 1,\n",
       " ('#sghawkerfood', '#sghawkercentre'): 2,\n",
       " ('#sghawkerfood', '#chickenrice'): 1,\n",
       " ('#sghawkerfood', '#cafesg'): 1,\n",
       " ('#sghawkerfood', '#otah'): 1,\n",
       " ('#sghawkerfood', '#sgfoodieparadise'): 1,\n",
       " ('#sghawkerfood', '#blessed'): 2,\n",
       " ('#sghawkerfood', '#hawkerheritage'): 1,\n",
       " ('#sghawkerfood', '#siobak'): 1,\n",
       " ('#sghawkerfood', '#hariraya'): 1,\n",
       " ('#sghawkerfood', '#sliimuffin'): 1,\n",
       " ('#sghawkerfood', '#serangoongardenfoodcentre'): 1,\n",
       " ('#sghawkerfood', '#instafood'): 41,\n",
       " ('#sghawkerfood', '#streetfoodsg'): 1,\n",
       " ('#sghawkerfood', '#banmian'): 1,\n",
       " ('#sghawkerfood', '#sgfoodphotography'): 2,\n",
       " ('#sghawkerfood', '#01-44'): 1,\n",
       " ('#sghawkerfood', '#sgfoodie'): 67,\n",
       " ('#sghawkerfood', '#printmaker'): 15,\n",
       " ('#sghawkerfood', '#linocutprint'): 15,\n",
       " ('#sghawkerfood', '#yummy'): 8,\n",
       " ('#sghawkerfood', '#ion'): 1,\n",
       " ('#sghawkerfood', '#charsiew'): 1,\n",
       " ('#sghawkerfood', '#staysafe'): 1,\n",
       " ('#sghawkerfood', '#chillicrabs'): 1,\n",
       " ('#sghawkerfood', '#sinhoehuatcafe'): 1,\n",
       " ('#sghawkerfood', '#01-17,'): 1,\n",
       " ('#sghawkerfood', '#tomyumdrybanmian'): 1,\n",
       " ('#sghawkerfood', '#burpplesg'): 1,\n",
       " ('#sghawkerfood', '#sgfoodies'): 40,\n",
       " ('#sghawkerfood', '#oldairportroadfoodcentre'): 1,\n",
       " ('#sghawkerfood', '#hawkerculture'): 38,\n",
       " ('#hawkercentresg', '#localtrails'): 1,\n",
       " ('#hawkercentresg', '#sginfluencer'): 1,\n",
       " ('#hawkercentresg', '#singapore🇸🇬'): 1,\n",
       " ('#hawkercentresg', '#wallmural'): 1,\n",
       " ('#hawkercentresg', '#leekuanyewtribute'): 1,\n",
       " ('#hawkercentresg', '#sginstagrammers'): 1,\n",
       " ('#hawkercentresg', '#singaporetrip'): 1,\n",
       " ('#hawkercentresg', '#leekuanyew'): 1,\n",
       " ('#hawkercentresg', '#singaporetravel'): 1,\n",
       " ('#hawkercentresg', '#sgphotoshoot'): 1,\n",
       " ('#hawkercentresg', '#sginstagram'): 1,\n",
       " ('#hawkercentresg', '#singapore_insta'): 1,\n",
       " ('#hawkercentresg', '#muralartist'): 1,\n",
       " ('#hawkercentresg', '#localtravel'): 1,\n",
       " ('#hawkercentresg', '#hawkercentre'): 1,\n",
       " ('#hawkercentresg', '#wallpainting'): 1,\n",
       " ('#hawkercentresg', '#sgphotography'): 1,\n",
       " ('#hawkercentresg', '#wallart'): 1,\n",
       " ('#hawkercentresg', '#singaporean'): 1,\n",
       " ('#hawkercentresg', '#sgtravelblogger'): 1,\n",
       " ('#hawkercentresg', '#hawkerculturesg'): 1,\n",
       " ('#hawkercentresg', '#leehsienloong'): 1,\n",
       " ('#hawkercentresg', '#muralart'): 1,\n",
       " ('#hawkercentresg', '#singaporecity'): 1,\n",
       " ('#hawkercentresg', '#murals'): 1,\n",
       " ('#hawkercentresg', '#hawkercentres'): 1,\n",
       " ('#hawkercentresg', '#hawkercentrefood'): 1,\n",
       " ('#hawkercentresg', '#hawkerculture'): 1,\n",
       " ('#yummylunch', '#localjiak'): 2,\n",
       " ('#yummylunch', '#yongtaufoodry'): 1,\n",
       " ('#yummylunch', '#hawkerfoodsg'): 2,\n",
       " ('#yummylunch', '#sgfood'): 2,\n",
       " ('#yummylunch', '#instafoodsg'): 2,\n",
       " ('#yummylunch', '#sgeats'): 2,\n",
       " ('#yummylunch', '#hawkerfood'): 2,\n",
       " ('#yummylunch', '#hawkerculturesg'): 2,\n",
       " ('#yummylunch', '#longtimenoeat'): 1,\n",
       " ('#yummylunch', '#locateats'): 2,\n",
       " ('#yummylunch', '#foodiesg'): 2,\n",
       " ('#yummylunch', '#instafood'): 2,\n",
       " ('#yummylunch', '#sgfoodie'): 2,\n",
       " ('#lifestories', '#singaporefood'): 7,\n",
       " ('#lifestories', '#redcross'): 1,\n",
       " ('#lifestories', '#livelife'): 7,\n",
       " ('#lifestories', '#lifeblogger'): 7,\n",
       " ('#lifestories', '#thaibasil'): 1,\n",
       " ('#lifestories', '#curiousaccountant'): 2,\n",
       " ('#lifestories', '#livelifetothefullest'): 7,\n",
       " ('#lifestories', '#singaporefoodie'): 7,\n",
       " ('#lifestories', '#foodporn'): 7,\n",
       " ('#lifestories', '#exploration'): 7,\n",
       " ('#lifestories', '#noodles'): 4,\n",
       " ('#lifestories', '#beprepared'): 1,\n",
       " ('#lifestories', '#lunch'): 1,\n",
       " ('#lifestories', '#walkabout'): 1,\n",
       " ('#lifestories', '#beehoon'): 1,\n",
       " ('#lifestories', '#lifeblog'): 7,\n",
       " ('#lifestories', '#lazarusisland'): 1,\n",
       " ('#lifestories', '#hawkerfood'): 7,\n",
       " ('#lifestories', '#drynoodle'): 1,\n",
       " ('#lifestories', '#curious'): 7,\n",
       " ('#lifestories', '#foodcoma'): 7,\n",
       " ('#lifestories', '#thaibasilchicken'): 1,\n",
       " ('#lifestories', '#drynoodles'): 2,\n",
       " ('#lifestories', '#thaicuisine'): 1,\n",
       " ('#lifestories', '#meepok'): 1,\n",
       " ('#lifestories', '#hawkerculturesg'): 7,\n",
       " ('#lifestories', '#tiongbahrumarketandfoodcentre'): 1,\n",
       " ('#lifestories', '#tiongbahru'): 1,\n",
       " ('#lifestories', '#hawkerculture'): 7,\n",
       " ('#usksg', '#traditionalsnacks'): 1,\n",
       " ('#usksg', '#usk'): 1,\n",
       " ('#usksg', '#oldschool'): 1,\n",
       " ('#usksg', '#urbansketching'): 1,\n",
       " ('#usksg', '#hawkercenter'): 1,\n",
       " ('#usksg', '#hawkerculturesg'): 1,\n",
       " ('#usksg', '#tanglinhalt'): 1,\n",
       " ('#usksg', '#urbansketch'): 1,\n",
       " ('#好吃', '#sgigfoodies'): 1,\n",
       " ('#好吃', '#supporthawkersg'): 1,\n",
       " ('#好吃', '#蛋香味'): 1,\n",
       " ('#好吃', '#simple'): 1,\n",
       " ('#好吃', '#whati8today'): 1,\n",
       " ('#好吃', '#igsgfoodies'): 1,\n",
       " ('#好吃', '#foodtrend'): 1,\n",
       " ('#好吃', '#foodstagram'): 1,\n",
       " ('#好吃', '#eggy'): 1,\n",
       " ('#好吃', '#sgigfood'): 1,\n",
       " ('#好吃', '#sgfoodblogger'): 1,\n",
       " ('#好吃', '#hawkerfood'): 1,\n",
       " ('#好吃', '#instafood_sg'): 1,\n",
       " ('#好吃', '#hawkersg'): 1,\n",
       " ('#好吃', '#carrotcake'): 1,\n",
       " ('#好吃', '#hawkerculturesg'): 1,\n",
       " ('#好吃', '#sgfoodporn'): 1,\n",
       " ('#好吃', '#igsgfood'): 1,\n",
       " ('#好吃', '#p2ha'): 1,\n",
       " ('#好吃', '#fullofflavours'): 1,\n",
       " ('#好吃', '#sgfoodtrend'): 1,\n",
       " ('#好吃', '#wokhei'): 1,\n",
       " ('#好吃', '#菜头粿'): 1,\n",
       " ('#好吃', '#sgfoodies'): 1,\n",
       " ('#angmokiolohmeelaksa', '#singaporefood'): 1,\n",
       " ('#angmokiolohmeelaksa', '#01-17'): 1,\n",
       " ('#angmokiolohmeelaksa', '#DCfoodjournal'): 1,\n",
       " ('#angmokiolohmeelaksa', '#sgfooddiary'): 1,\n",
       " ('#angmokiolohmeelaksa', '#hawkerfoodsg'): 1,\n",
       " ('#angmokiolohmeelaksa', '#sgfood'): 1,\n",
       " ('#angmokiolohmeelaksa', '#burpple'): 1,\n",
       " ('#angmokiolohmeelaksa', '#sgeats'): 1,\n",
       " ('#angmokiolohmeelaksa', '#hawkercentre'): 1,\n",
       " ('#angmokiolohmeelaksa', '#sgfoodblogger'): 1,\n",
       " ('#angmokiolohmeelaksa', '#hawkerfood'): 1,\n",
       " ('#angmokiolohmeelaksa', '#sghawker'): 1,\n",
       " ('#angmokiolohmeelaksa', '#hawkersg'): 1,\n",
       " ('#angmokiolohmeelaksa', '#lormeesg'): 1,\n",
       " ('#angmokiolohmeelaksa', '#hawkerculturesg'): 1,\n",
       " ('#angmokiolohmeelaksa', '#hawker'): 1,\n",
       " ('#angmokiolohmeelaksa', '#sgfoodporn'): 1,\n",
       " ('#angmokiolohmeelaksa', '#sgfoodtrend'): 1,\n",
       " ('#angmokiolohmeelaksa', '#lormee'): 1,\n",
       " ('#angmokiolohmeelaksa', '#sgfoodie'): 1,\n",
       " ('#angmokiolohmeelaksa', '#sgfoodies'): 1,\n",
       " ('#angmokiolohmeelaksa', '#hawkerculture'): 1,\n",
       " ('#umami', '#flavourbomb'): 1,\n",
       " ('#umami', '#fishmaw'): 1,\n",
       " ('#umami', '#bakersim'): 1,\n",
       " ('#umami', '#sengkeebakchormee'): 1,\n",
       " ('#umami', '#exploringamk'): 1,\n",
       " ('#umami', '#hawkerculturesg'): 1,\n",
       " ('#umami', '#braisedmushrooms'): 1,\n",
       " ('#umami', '#flavoursomesoup'): 1,\n",
       " ('#umami', '#meatball'): 1,\n",
       " ('#umami', '#bakersimfood'): 1,\n",
       " ('#umami', '#amkfood'): 1,\n",
       " ('#nomsh', '#hawkerculturesg'): 2,\n",
       " ('#nomsh', '#artablyinlove'): 2,\n",
       " ('#nomsh', '#llama'): 1,\n",
       " ('#victorfamousfriedchickenwingrice', '#singaporefood'): 1,\n",
       " ('#victorfamousfriedchickenwingrice', '#DCfoodjournal'): 1,\n",
       " ('#victorfamousfriedchickenwingrice', '#sgfooddiary'): 1,\n",
       " ('#victorfamousfriedchickenwingrice', '#hawkerfoodsg'): 1,\n",
       " ('#victorfamousfriedchickenwingrice', '#sgfood'): 1,\n",
       " ('#victorfamousfriedchickenwingrice', '#burpple'): 1,\n",
       " ('#victorfamousfriedchickenwingrice', '#sgeats'): 1,\n",
       " ('#victorfamousfriedchickenwingrice', '#01-101,'): 1,\n",
       " ('#victorfamousfriedchickenwingrice', '#hawkercentre'): 1,\n",
       " ('#victorfamousfriedchickenwingrice', '#sgfoodblogger'): 1,\n",
       " ('#victorfamousfriedchickenwingrice', '#hawkerfood'): 1,\n",
       " ('#victorfamousfriedchickenwingrice', '#sghawker'): 1,\n",
       " ('#victorfamousfriedchickenwingrice', '#hawkersg'): 1,\n",
       " ('#victorfamousfriedchickenwingrice', '#hawkerculturesg'): 1,\n",
       " ('#victorfamousfriedchickenwingrice', '#hawker'): 1,\n",
       " ('#victorfamousfriedchickenwingrice', '#sgfoodporn'): 1,\n",
       " ('#victorfamousfriedchickenwingrice', '#sgfoodtrend'): 1,\n",
       " ('#victorfamousfriedchickenwingrice', '#foodie'): 1,\n",
       " ('#victorfamousfriedchickenwingrice', '#chickenrice'): 1,\n",
       " ('#victorfamousfriedchickenwingrice', '#sgfoodie'): 1,\n",
       " ('#victorfamousfriedchickenwingrice', '#sgfoodies'): 1,\n",
       " ('#victorfamousfriedchickenwingrice', '#hawkerculture'): 1,\n",
       " ('#sghome', '#safrasg'): 1,\n",
       " ('#sghome', '#visitsingapore'): 1,\n",
       " ('#sghome', '#singapore'): 1,\n",
       " ...}"
      ]
     },
     "execution_count": 50,
     "metadata": {},
     "output_type": "execute_result"
    }
   ],
   "source": [
    "cleaned_adjacency_dict"
   ]
  },
  {
   "cell_type": "code",
   "execution_count": 51,
   "id": "22d7d6ff",
   "metadata": {},
   "outputs": [],
   "source": [
    "source = []\n",
    "target = []\n",
    "edge = []\n",
    "for k,v in cleaned_adjacency_dict.items():\n",
    "    edge.append(v)\n",
    "    source.append(k[0])\n",
    "    target.append(k[1])"
   ]
  },
  {
   "cell_type": "code",
   "execution_count": 52,
   "id": "f32c751b",
   "metadata": {},
   "outputs": [],
   "source": [
    "df = pd.DataFrame(list(zip(source, target, edge)),\n",
    "               columns =['source', 'target', 'edge'])"
   ]
  },
  {
   "cell_type": "code",
   "execution_count": 53,
   "id": "732e3e99",
   "metadata": {},
   "outputs": [],
   "source": [
    "adjacency_matrix = nx.from_pandas_edgelist(df, edge_attr=True)"
   ]
  },
  {
   "cell_type": "markdown",
   "id": "ba5dd96d",
   "metadata": {},
   "source": [
    "## Simulate walks with node2vec to generate node embeddings"
   ]
  },
  {
   "cell_type": "code",
   "execution_count": 327,
   "id": "fd219121",
   "metadata": {},
   "outputs": [
    {
     "data": {
      "application/vnd.jupyter.widget-view+json": {
       "model_id": "a1249ae1241e4de9b007575dc7e749d3",
       "version_major": 2,
       "version_minor": 0
      },
      "text/plain": [
       "Computing transition probabilities:   0%|          | 0/1247 [00:00<?, ?it/s]"
      ]
     },
     "metadata": {},
     "output_type": "display_data"
    },
    {
     "name": "stderr",
     "output_type": "stream",
     "text": [
      "Generating walks (CPU: 1): 100%|██████████| 50/50 [00:04<00:00, 10.64it/s]\n",
      "Generating walks (CPU: 2): 100%|██████████| 50/50 [00:04<00:00, 11.23it/s]\n",
      "Generating walks (CPU: 3): 100%|██████████| 50/50 [00:04<00:00, 12.19it/s]\n",
      "Generating walks (CPU: 4): 100%|██████████| 50/50 [00:03<00:00, 14.55it/s]\n"
     ]
    }
   ],
   "source": [
    "node2vec = Node2Vec(adjacency_matrix, dimensions=20, walk_length=5, num_walks=200, workers=4)\n",
    "model = node2vec.fit(window=10, min_count=1)"
   ]
  },
  {
   "cell_type": "code",
   "execution_count": 328,
   "id": "ab01c56f",
   "metadata": {},
   "outputs": [],
   "source": [
    "vocab, vectors =  model.wv.index2word, model.wv.vectors\n",
    "\n",
    "# get node name and embedding vector index.\n",
    "# name_index = np.array([(v[0], v[1]) for v in vocab])\n",
    "\n",
    "# init dataframe using embedding vectors and set index as node name\n",
    "# node2vec_output = pd.DataFrame(vectors[name_index[:,1].astype(int)])\n",
    "# node2vec_output.index = name_index[:,0]\n",
    "\n",
    "node2vec_output = pd.DataFrame(vectors)\n",
    "node2vec_output.index = vocab"
   ]
  },
  {
   "cell_type": "code",
   "execution_count": 329,
   "id": "0eced24e",
   "metadata": {},
   "outputs": [
    {
     "data": {
      "text/html": [
       "<div>\n",
       "<style scoped>\n",
       "    .dataframe tbody tr th:only-of-type {\n",
       "        vertical-align: middle;\n",
       "    }\n",
       "\n",
       "    .dataframe tbody tr th {\n",
       "        vertical-align: top;\n",
       "    }\n",
       "\n",
       "    .dataframe thead th {\n",
       "        text-align: right;\n",
       "    }\n",
       "</style>\n",
       "<table border=\"1\" class=\"dataframe\">\n",
       "  <thead>\n",
       "    <tr style=\"text-align: right;\">\n",
       "      <th></th>\n",
       "      <th>0</th>\n",
       "      <th>1</th>\n",
       "      <th>2</th>\n",
       "      <th>3</th>\n",
       "      <th>4</th>\n",
       "      <th>5</th>\n",
       "      <th>6</th>\n",
       "      <th>7</th>\n",
       "      <th>8</th>\n",
       "      <th>9</th>\n",
       "      <th>10</th>\n",
       "      <th>11</th>\n",
       "      <th>12</th>\n",
       "      <th>13</th>\n",
       "      <th>14</th>\n",
       "      <th>15</th>\n",
       "      <th>16</th>\n",
       "      <th>17</th>\n",
       "      <th>18</th>\n",
       "      <th>19</th>\n",
       "    </tr>\n",
       "  </thead>\n",
       "  <tbody>\n",
       "    <tr>\n",
       "      <th>#hawkerculturesg</th>\n",
       "      <td>0.231724</td>\n",
       "      <td>-0.438408</td>\n",
       "      <td>0.085082</td>\n",
       "      <td>-0.044601</td>\n",
       "      <td>-0.161880</td>\n",
       "      <td>0.230221</td>\n",
       "      <td>-0.312048</td>\n",
       "      <td>0.522622</td>\n",
       "      <td>-0.014925</td>\n",
       "      <td>-0.007604</td>\n",
       "      <td>0.310229</td>\n",
       "      <td>0.369819</td>\n",
       "      <td>-0.230521</td>\n",
       "      <td>0.176492</td>\n",
       "      <td>0.159377</td>\n",
       "      <td>-0.010545</td>\n",
       "      <td>0.514533</td>\n",
       "      <td>-0.217079</td>\n",
       "      <td>-0.077357</td>\n",
       "      <td>-0.193533</td>\n",
       "    </tr>\n",
       "    <tr>\n",
       "      <th>#hawkerfood</th>\n",
       "      <td>-0.087568</td>\n",
       "      <td>-0.358053</td>\n",
       "      <td>-0.758197</td>\n",
       "      <td>-0.267679</td>\n",
       "      <td>0.033623</td>\n",
       "      <td>0.413672</td>\n",
       "      <td>0.316812</td>\n",
       "      <td>0.782221</td>\n",
       "      <td>0.278285</td>\n",
       "      <td>-0.142948</td>\n",
       "      <td>0.200718</td>\n",
       "      <td>0.470201</td>\n",
       "      <td>0.184882</td>\n",
       "      <td>0.116649</td>\n",
       "      <td>-0.256050</td>\n",
       "      <td>0.406531</td>\n",
       "      <td>0.638809</td>\n",
       "      <td>-0.331956</td>\n",
       "      <td>0.753280</td>\n",
       "      <td>-0.195123</td>\n",
       "    </tr>\n",
       "    <tr>\n",
       "      <th>#sgfood</th>\n",
       "      <td>0.201582</td>\n",
       "      <td>-0.760565</td>\n",
       "      <td>-0.631205</td>\n",
       "      <td>0.026616</td>\n",
       "      <td>0.236416</td>\n",
       "      <td>0.332584</td>\n",
       "      <td>-0.269419</td>\n",
       "      <td>0.224787</td>\n",
       "      <td>-0.347207</td>\n",
       "      <td>0.026237</td>\n",
       "      <td>0.618476</td>\n",
       "      <td>1.018802</td>\n",
       "      <td>-0.504003</td>\n",
       "      <td>0.218506</td>\n",
       "      <td>0.108897</td>\n",
       "      <td>0.684023</td>\n",
       "      <td>-0.192418</td>\n",
       "      <td>0.369810</td>\n",
       "      <td>0.522200</td>\n",
       "      <td>-0.512197</td>\n",
       "    </tr>\n",
       "    <tr>\n",
       "      <th>#hawkerfoodsg</th>\n",
       "      <td>0.234289</td>\n",
       "      <td>-0.418587</td>\n",
       "      <td>-1.145511</td>\n",
       "      <td>-0.395781</td>\n",
       "      <td>0.274420</td>\n",
       "      <td>-0.076992</td>\n",
       "      <td>0.007005</td>\n",
       "      <td>0.231066</td>\n",
       "      <td>-0.112920</td>\n",
       "      <td>-0.646784</td>\n",
       "      <td>0.747784</td>\n",
       "      <td>0.690799</td>\n",
       "      <td>-0.525070</td>\n",
       "      <td>0.188455</td>\n",
       "      <td>0.020390</td>\n",
       "      <td>0.297954</td>\n",
       "      <td>0.663459</td>\n",
       "      <td>0.115622</td>\n",
       "      <td>0.602854</td>\n",
       "      <td>-0.552952</td>\n",
       "    </tr>\n",
       "    <tr>\n",
       "      <th>#hawkerculture</th>\n",
       "      <td>0.903687</td>\n",
       "      <td>-0.579991</td>\n",
       "      <td>-0.566129</td>\n",
       "      <td>-0.519868</td>\n",
       "      <td>0.714406</td>\n",
       "      <td>-0.034764</td>\n",
       "      <td>-0.112108</td>\n",
       "      <td>0.392918</td>\n",
       "      <td>0.003182</td>\n",
       "      <td>-0.079409</td>\n",
       "      <td>-0.491818</td>\n",
       "      <td>0.224258</td>\n",
       "      <td>-0.494966</td>\n",
       "      <td>-0.326256</td>\n",
       "      <td>0.673653</td>\n",
       "      <td>0.076890</td>\n",
       "      <td>0.897546</td>\n",
       "      <td>-0.079822</td>\n",
       "      <td>0.220579</td>\n",
       "      <td>0.141154</td>\n",
       "    </tr>\n",
       "    <tr>\n",
       "      <th>...</th>\n",
       "      <td>...</td>\n",
       "      <td>...</td>\n",
       "      <td>...</td>\n",
       "      <td>...</td>\n",
       "      <td>...</td>\n",
       "      <td>...</td>\n",
       "      <td>...</td>\n",
       "      <td>...</td>\n",
       "      <td>...</td>\n",
       "      <td>...</td>\n",
       "      <td>...</td>\n",
       "      <td>...</td>\n",
       "      <td>...</td>\n",
       "      <td>...</td>\n",
       "      <td>...</td>\n",
       "      <td>...</td>\n",
       "      <td>...</td>\n",
       "      <td>...</td>\n",
       "      <td>...</td>\n",
       "      <td>...</td>\n",
       "    </tr>\n",
       "    <tr>\n",
       "      <th>#donburi</th>\n",
       "      <td>-0.124649</td>\n",
       "      <td>-0.110425</td>\n",
       "      <td>0.102686</td>\n",
       "      <td>-0.100214</td>\n",
       "      <td>0.149678</td>\n",
       "      <td>0.015962</td>\n",
       "      <td>-0.335696</td>\n",
       "      <td>0.433864</td>\n",
       "      <td>-0.026910</td>\n",
       "      <td>-0.245476</td>\n",
       "      <td>0.086766</td>\n",
       "      <td>0.911895</td>\n",
       "      <td>-0.552029</td>\n",
       "      <td>0.207881</td>\n",
       "      <td>0.158411</td>\n",
       "      <td>0.084018</td>\n",
       "      <td>-0.342830</td>\n",
       "      <td>0.303406</td>\n",
       "      <td>0.142031</td>\n",
       "      <td>-0.060186</td>\n",
       "    </tr>\n",
       "    <tr>\n",
       "      <th>#jurongpoint</th>\n",
       "      <td>0.135279</td>\n",
       "      <td>0.253842</td>\n",
       "      <td>0.020803</td>\n",
       "      <td>0.144889</td>\n",
       "      <td>-0.076419</td>\n",
       "      <td>-0.069084</td>\n",
       "      <td>-0.115464</td>\n",
       "      <td>1.000552</td>\n",
       "      <td>0.340592</td>\n",
       "      <td>0.017009</td>\n",
       "      <td>0.442484</td>\n",
       "      <td>0.044693</td>\n",
       "      <td>-0.093934</td>\n",
       "      <td>0.074682</td>\n",
       "      <td>0.227115</td>\n",
       "      <td>-0.019293</td>\n",
       "      <td>0.552050</td>\n",
       "      <td>0.285809</td>\n",
       "      <td>0.337756</td>\n",
       "      <td>0.182938</td>\n",
       "    </tr>\n",
       "    <tr>\n",
       "      <th>#veg_littledragon</th>\n",
       "      <td>0.446218</td>\n",
       "      <td>-0.233135</td>\n",
       "      <td>0.001591</td>\n",
       "      <td>-1.023076</td>\n",
       "      <td>-0.260733</td>\n",
       "      <td>-0.338440</td>\n",
       "      <td>-0.340911</td>\n",
       "      <td>0.538603</td>\n",
       "      <td>0.317904</td>\n",
       "      <td>0.515169</td>\n",
       "      <td>0.389587</td>\n",
       "      <td>1.112406</td>\n",
       "      <td>-0.117533</td>\n",
       "      <td>0.055184</td>\n",
       "      <td>-0.390496</td>\n",
       "      <td>0.004698</td>\n",
       "      <td>-0.082096</td>\n",
       "      <td>-0.106813</td>\n",
       "      <td>-0.137916</td>\n",
       "      <td>-0.379700</td>\n",
       "    </tr>\n",
       "    <tr>\n",
       "      <th>#boonlayplace</th>\n",
       "      <td>0.127608</td>\n",
       "      <td>-0.002456</td>\n",
       "      <td>0.114164</td>\n",
       "      <td>0.105075</td>\n",
       "      <td>-0.027901</td>\n",
       "      <td>0.003161</td>\n",
       "      <td>-0.103483</td>\n",
       "      <td>0.698350</td>\n",
       "      <td>0.222533</td>\n",
       "      <td>0.033213</td>\n",
       "      <td>0.252701</td>\n",
       "      <td>0.043968</td>\n",
       "      <td>-0.066202</td>\n",
       "      <td>0.082122</td>\n",
       "      <td>0.510892</td>\n",
       "      <td>0.120980</td>\n",
       "      <td>0.391795</td>\n",
       "      <td>0.387899</td>\n",
       "      <td>0.302420</td>\n",
       "      <td>-0.075724</td>\n",
       "    </tr>\n",
       "    <tr>\n",
       "      <th>#Hawkercentres</th>\n",
       "      <td>-0.010738</td>\n",
       "      <td>-0.230385</td>\n",
       "      <td>-0.038352</td>\n",
       "      <td>-0.049714</td>\n",
       "      <td>-0.176966</td>\n",
       "      <td>-0.029929</td>\n",
       "      <td>-0.473634</td>\n",
       "      <td>0.378915</td>\n",
       "      <td>-0.028496</td>\n",
       "      <td>-0.003084</td>\n",
       "      <td>0.492299</td>\n",
       "      <td>0.564289</td>\n",
       "      <td>-0.137741</td>\n",
       "      <td>0.295685</td>\n",
       "      <td>0.209990</td>\n",
       "      <td>0.076924</td>\n",
       "      <td>0.510847</td>\n",
       "      <td>-0.104981</td>\n",
       "      <td>0.004304</td>\n",
       "      <td>-0.073190</td>\n",
       "    </tr>\n",
       "  </tbody>\n",
       "</table>\n",
       "<p>1247 rows × 20 columns</p>\n",
       "</div>"
      ],
      "text/plain": [
       "                         0         1         2         3         4         5   \\\n",
       "#hawkerculturesg   0.231724 -0.438408  0.085082 -0.044601 -0.161880  0.230221   \n",
       "#hawkerfood       -0.087568 -0.358053 -0.758197 -0.267679  0.033623  0.413672   \n",
       "#sgfood            0.201582 -0.760565 -0.631205  0.026616  0.236416  0.332584   \n",
       "#hawkerfoodsg      0.234289 -0.418587 -1.145511 -0.395781  0.274420 -0.076992   \n",
       "#hawkerculture     0.903687 -0.579991 -0.566129 -0.519868  0.714406 -0.034764   \n",
       "...                     ...       ...       ...       ...       ...       ...   \n",
       "#donburi          -0.124649 -0.110425  0.102686 -0.100214  0.149678  0.015962   \n",
       "#jurongpoint       0.135279  0.253842  0.020803  0.144889 -0.076419 -0.069084   \n",
       "#veg_littledragon  0.446218 -0.233135  0.001591 -1.023076 -0.260733 -0.338440   \n",
       "#boonlayplace      0.127608 -0.002456  0.114164  0.105075 -0.027901  0.003161   \n",
       "#Hawkercentres    -0.010738 -0.230385 -0.038352 -0.049714 -0.176966 -0.029929   \n",
       "\n",
       "                         6         7         8         9         10        11  \\\n",
       "#hawkerculturesg  -0.312048  0.522622 -0.014925 -0.007604  0.310229  0.369819   \n",
       "#hawkerfood        0.316812  0.782221  0.278285 -0.142948  0.200718  0.470201   \n",
       "#sgfood           -0.269419  0.224787 -0.347207  0.026237  0.618476  1.018802   \n",
       "#hawkerfoodsg      0.007005  0.231066 -0.112920 -0.646784  0.747784  0.690799   \n",
       "#hawkerculture    -0.112108  0.392918  0.003182 -0.079409 -0.491818  0.224258   \n",
       "...                     ...       ...       ...       ...       ...       ...   \n",
       "#donburi          -0.335696  0.433864 -0.026910 -0.245476  0.086766  0.911895   \n",
       "#jurongpoint      -0.115464  1.000552  0.340592  0.017009  0.442484  0.044693   \n",
       "#veg_littledragon -0.340911  0.538603  0.317904  0.515169  0.389587  1.112406   \n",
       "#boonlayplace     -0.103483  0.698350  0.222533  0.033213  0.252701  0.043968   \n",
       "#Hawkercentres    -0.473634  0.378915 -0.028496 -0.003084  0.492299  0.564289   \n",
       "\n",
       "                         12        13        14        15        16        17  \\\n",
       "#hawkerculturesg  -0.230521  0.176492  0.159377 -0.010545  0.514533 -0.217079   \n",
       "#hawkerfood        0.184882  0.116649 -0.256050  0.406531  0.638809 -0.331956   \n",
       "#sgfood           -0.504003  0.218506  0.108897  0.684023 -0.192418  0.369810   \n",
       "#hawkerfoodsg     -0.525070  0.188455  0.020390  0.297954  0.663459  0.115622   \n",
       "#hawkerculture    -0.494966 -0.326256  0.673653  0.076890  0.897546 -0.079822   \n",
       "...                     ...       ...       ...       ...       ...       ...   \n",
       "#donburi          -0.552029  0.207881  0.158411  0.084018 -0.342830  0.303406   \n",
       "#jurongpoint      -0.093934  0.074682  0.227115 -0.019293  0.552050  0.285809   \n",
       "#veg_littledragon -0.117533  0.055184 -0.390496  0.004698 -0.082096 -0.106813   \n",
       "#boonlayplace     -0.066202  0.082122  0.510892  0.120980  0.391795  0.387899   \n",
       "#Hawkercentres    -0.137741  0.295685  0.209990  0.076924  0.510847 -0.104981   \n",
       "\n",
       "                         18        19  \n",
       "#hawkerculturesg  -0.077357 -0.193533  \n",
       "#hawkerfood        0.753280 -0.195123  \n",
       "#sgfood            0.522200 -0.512197  \n",
       "#hawkerfoodsg      0.602854 -0.552952  \n",
       "#hawkerculture     0.220579  0.141154  \n",
       "...                     ...       ...  \n",
       "#donburi           0.142031 -0.060186  \n",
       "#jurongpoint       0.337756  0.182938  \n",
       "#veg_littledragon -0.137916 -0.379700  \n",
       "#boonlayplace      0.302420 -0.075724  \n",
       "#Hawkercentres     0.004304 -0.073190  \n",
       "\n",
       "[1247 rows x 20 columns]"
      ]
     },
     "execution_count": 329,
     "metadata": {},
     "output_type": "execute_result"
    }
   ],
   "source": [
    "node2vec_output"
   ]
  },
  {
   "cell_type": "markdown",
   "id": "698a6fe6",
   "metadata": {},
   "source": [
    "## Cluster hashtags"
   ]
  },
  {
   "cell_type": "code",
   "execution_count": 354,
   "id": "f02f1396",
   "metadata": {},
   "outputs": [
    {
     "data": {
      "image/png": "[encoded data removed]",
      "text/plain": [
       "<Figure size 1440x720 with 1 Axes>"
      ]
     },
     "metadata": {
      "needs_background": "light"
     },
     "output_type": "display_data"
    },
    {
     "name": "stdout",
     "output_type": "stream",
     "text": [
      "Optimal number of clusters: 8\n"
     ]
    }
   ],
   "source": [
    "from kneed import KneeLocator\n",
    "import seaborn as sns\n",
    "import matplotlib.pyplot as plt\n",
    "\n",
    "def elbow_plot(df):\n",
    "    \"\"\"Create elbow plot from data\"\"\"\n",
    "    \n",
    "    sse = {}\n",
    "    \n",
    "    for k in range(1, 50):\n",
    "        kmeans = KMeans(n_clusters=k, random_state=434)\n",
    "        kmeans.fit(df)\n",
    "        sse[k] = kmeans.inertia_\n",
    "        \n",
    "    plt.rcParams[\"figure.figsize\"] = (20,10)\n",
    "    plt.title('Elbow plot for K selection')\n",
    "    plt.xlabel('k')\n",
    "    plt.ylabel('SSE')\n",
    "    sns.pointplot(x=list(sse.keys()),\n",
    "                 y=list(sse.values()))\n",
    "    plt.show()\n",
    "\n",
    "    kn = KneeLocator(x=list(sse.keys()), \n",
    "                 y=list(sse.values()), \n",
    "                 curve='convex', \n",
    "                 direction='decreasing')\n",
    "    k = kn.knee\n",
    "    return k\n",
    "    \n",
    "best_k = elbow_plot(node2vec_output)\n",
    "print(f\"Optimal number of clusters: {best_k}\")"
   ]
  },
  {
   "cell_type": "code",
   "execution_count": 355,
   "id": "6d258660",
   "metadata": {},
   "outputs": [],
   "source": [
    "kmeans = KMeans(n_clusters=8, random_state=434)\n",
    "kmeans.fit(node2vec_output)\n",
    "labels = kmeans.labels_"
   ]
  },
  {
   "cell_type": "code",
   "execution_count": 356,
   "id": "84cbb222",
   "metadata": {},
   "outputs": [
    {
     "data": {
      "text/plain": [
       "array([7, 7, 7, ..., 7, 5, 5], dtype=int32)"
      ]
     },
     "execution_count": 356,
     "metadata": {},
     "output_type": "execute_result"
    }
   ],
   "source": [
    "labels"
   ]
  },
  {
   "cell_type": "code",
   "execution_count": 357,
   "id": "9e91c3d5",
   "metadata": {},
   "outputs": [],
   "source": [
    "node2vec_output[\"labels\"] = labels"
   ]
  },
  {
   "cell_type": "code",
   "execution_count": 358,
   "id": "e0a9aa33",
   "metadata": {},
   "outputs": [
    {
     "data": {
      "text/html": [
       "<div>\n",
       "<style scoped>\n",
       "    .dataframe tbody tr th:only-of-type {\n",
       "        vertical-align: middle;\n",
       "    }\n",
       "\n",
       "    .dataframe tbody tr th {\n",
       "        vertical-align: top;\n",
       "    }\n",
       "\n",
       "    .dataframe thead th {\n",
       "        text-align: right;\n",
       "    }\n",
       "</style>\n",
       "<table border=\"1\" class=\"dataframe\">\n",
       "  <thead>\n",
       "    <tr style=\"text-align: right;\">\n",
       "      <th></th>\n",
       "      <th>0</th>\n",
       "      <th>1</th>\n",
       "      <th>2</th>\n",
       "      <th>3</th>\n",
       "      <th>4</th>\n",
       "      <th>5</th>\n",
       "      <th>6</th>\n",
       "      <th>7</th>\n",
       "      <th>8</th>\n",
       "      <th>9</th>\n",
       "      <th>...</th>\n",
       "      <th>11</th>\n",
       "      <th>12</th>\n",
       "      <th>13</th>\n",
       "      <th>14</th>\n",
       "      <th>15</th>\n",
       "      <th>16</th>\n",
       "      <th>17</th>\n",
       "      <th>18</th>\n",
       "      <th>19</th>\n",
       "      <th>labels</th>\n",
       "    </tr>\n",
       "  </thead>\n",
       "  <tbody>\n",
       "    <tr>\n",
       "      <th>#hawkerculturesg</th>\n",
       "      <td>0.231724</td>\n",
       "      <td>-0.438408</td>\n",
       "      <td>0.085082</td>\n",
       "      <td>-0.044601</td>\n",
       "      <td>-0.161880</td>\n",
       "      <td>0.230221</td>\n",
       "      <td>-0.312048</td>\n",
       "      <td>0.522622</td>\n",
       "      <td>-0.014925</td>\n",
       "      <td>-0.007604</td>\n",
       "      <td>...</td>\n",
       "      <td>0.369819</td>\n",
       "      <td>-0.230521</td>\n",
       "      <td>0.176492</td>\n",
       "      <td>0.159377</td>\n",
       "      <td>-0.010545</td>\n",
       "      <td>0.514533</td>\n",
       "      <td>-0.217079</td>\n",
       "      <td>-0.077357</td>\n",
       "      <td>-0.193533</td>\n",
       "      <td>7</td>\n",
       "    </tr>\n",
       "    <tr>\n",
       "      <th>#hawkerfood</th>\n",
       "      <td>-0.087568</td>\n",
       "      <td>-0.358053</td>\n",
       "      <td>-0.758197</td>\n",
       "      <td>-0.267679</td>\n",
       "      <td>0.033623</td>\n",
       "      <td>0.413672</td>\n",
       "      <td>0.316812</td>\n",
       "      <td>0.782221</td>\n",
       "      <td>0.278285</td>\n",
       "      <td>-0.142948</td>\n",
       "      <td>...</td>\n",
       "      <td>0.470201</td>\n",
       "      <td>0.184882</td>\n",
       "      <td>0.116649</td>\n",
       "      <td>-0.256050</td>\n",
       "      <td>0.406531</td>\n",
       "      <td>0.638809</td>\n",
       "      <td>-0.331956</td>\n",
       "      <td>0.753280</td>\n",
       "      <td>-0.195123</td>\n",
       "      <td>7</td>\n",
       "    </tr>\n",
       "    <tr>\n",
       "      <th>#sgfood</th>\n",
       "      <td>0.201582</td>\n",
       "      <td>-0.760565</td>\n",
       "      <td>-0.631205</td>\n",
       "      <td>0.026616</td>\n",
       "      <td>0.236416</td>\n",
       "      <td>0.332584</td>\n",
       "      <td>-0.269419</td>\n",
       "      <td>0.224787</td>\n",
       "      <td>-0.347207</td>\n",
       "      <td>0.026237</td>\n",
       "      <td>...</td>\n",
       "      <td>1.018802</td>\n",
       "      <td>-0.504003</td>\n",
       "      <td>0.218506</td>\n",
       "      <td>0.108897</td>\n",
       "      <td>0.684023</td>\n",
       "      <td>-0.192418</td>\n",
       "      <td>0.369810</td>\n",
       "      <td>0.522200</td>\n",
       "      <td>-0.512197</td>\n",
       "      <td>7</td>\n",
       "    </tr>\n",
       "    <tr>\n",
       "      <th>#hawkerfoodsg</th>\n",
       "      <td>0.234289</td>\n",
       "      <td>-0.418587</td>\n",
       "      <td>-1.145511</td>\n",
       "      <td>-0.395781</td>\n",
       "      <td>0.274420</td>\n",
       "      <td>-0.076992</td>\n",
       "      <td>0.007005</td>\n",
       "      <td>0.231066</td>\n",
       "      <td>-0.112920</td>\n",
       "      <td>-0.646784</td>\n",
       "      <td>...</td>\n",
       "      <td>0.690799</td>\n",
       "      <td>-0.525070</td>\n",
       "      <td>0.188455</td>\n",
       "      <td>0.020390</td>\n",
       "      <td>0.297954</td>\n",
       "      <td>0.663459</td>\n",
       "      <td>0.115622</td>\n",
       "      <td>0.602854</td>\n",
       "      <td>-0.552952</td>\n",
       "      <td>7</td>\n",
       "    </tr>\n",
       "    <tr>\n",
       "      <th>#hawkerculture</th>\n",
       "      <td>0.903687</td>\n",
       "      <td>-0.579991</td>\n",
       "      <td>-0.566129</td>\n",
       "      <td>-0.519868</td>\n",
       "      <td>0.714406</td>\n",
       "      <td>-0.034764</td>\n",
       "      <td>-0.112108</td>\n",
       "      <td>0.392918</td>\n",
       "      <td>0.003182</td>\n",
       "      <td>-0.079409</td>\n",
       "      <td>...</td>\n",
       "      <td>0.224258</td>\n",
       "      <td>-0.494966</td>\n",
       "      <td>-0.326256</td>\n",
       "      <td>0.673653</td>\n",
       "      <td>0.076890</td>\n",
       "      <td>0.897546</td>\n",
       "      <td>-0.079822</td>\n",
       "      <td>0.220579</td>\n",
       "      <td>0.141154</td>\n",
       "      <td>4</td>\n",
       "    </tr>\n",
       "    <tr>\n",
       "      <th>...</th>\n",
       "      <td>...</td>\n",
       "      <td>...</td>\n",
       "      <td>...</td>\n",
       "      <td>...</td>\n",
       "      <td>...</td>\n",
       "      <td>...</td>\n",
       "      <td>...</td>\n",
       "      <td>...</td>\n",
       "      <td>...</td>\n",
       "      <td>...</td>\n",
       "      <td>...</td>\n",
       "      <td>...</td>\n",
       "      <td>...</td>\n",
       "      <td>...</td>\n",
       "      <td>...</td>\n",
       "      <td>...</td>\n",
       "      <td>...</td>\n",
       "      <td>...</td>\n",
       "      <td>...</td>\n",
       "      <td>...</td>\n",
       "      <td>...</td>\n",
       "    </tr>\n",
       "    <tr>\n",
       "      <th>#donburi</th>\n",
       "      <td>-0.124649</td>\n",
       "      <td>-0.110425</td>\n",
       "      <td>0.102686</td>\n",
       "      <td>-0.100214</td>\n",
       "      <td>0.149678</td>\n",
       "      <td>0.015962</td>\n",
       "      <td>-0.335696</td>\n",
       "      <td>0.433864</td>\n",
       "      <td>-0.026910</td>\n",
       "      <td>-0.245476</td>\n",
       "      <td>...</td>\n",
       "      <td>0.911895</td>\n",
       "      <td>-0.552029</td>\n",
       "      <td>0.207881</td>\n",
       "      <td>0.158411</td>\n",
       "      <td>0.084018</td>\n",
       "      <td>-0.342830</td>\n",
       "      <td>0.303406</td>\n",
       "      <td>0.142031</td>\n",
       "      <td>-0.060186</td>\n",
       "      <td>5</td>\n",
       "    </tr>\n",
       "    <tr>\n",
       "      <th>#jurongpoint</th>\n",
       "      <td>0.135279</td>\n",
       "      <td>0.253842</td>\n",
       "      <td>0.020803</td>\n",
       "      <td>0.144889</td>\n",
       "      <td>-0.076419</td>\n",
       "      <td>-0.069084</td>\n",
       "      <td>-0.115464</td>\n",
       "      <td>1.000552</td>\n",
       "      <td>0.340592</td>\n",
       "      <td>0.017009</td>\n",
       "      <td>...</td>\n",
       "      <td>0.044693</td>\n",
       "      <td>-0.093934</td>\n",
       "      <td>0.074682</td>\n",
       "      <td>0.227115</td>\n",
       "      <td>-0.019293</td>\n",
       "      <td>0.552050</td>\n",
       "      <td>0.285809</td>\n",
       "      <td>0.337756</td>\n",
       "      <td>0.182938</td>\n",
       "      <td>5</td>\n",
       "    </tr>\n",
       "    <tr>\n",
       "      <th>#veg_littledragon</th>\n",
       "      <td>0.446218</td>\n",
       "      <td>-0.233135</td>\n",
       "      <td>0.001591</td>\n",
       "      <td>-1.023076</td>\n",
       "      <td>-0.260733</td>\n",
       "      <td>-0.338440</td>\n",
       "      <td>-0.340911</td>\n",
       "      <td>0.538603</td>\n",
       "      <td>0.317904</td>\n",
       "      <td>0.515169</td>\n",
       "      <td>...</td>\n",
       "      <td>1.112406</td>\n",
       "      <td>-0.117533</td>\n",
       "      <td>0.055184</td>\n",
       "      <td>-0.390496</td>\n",
       "      <td>0.004698</td>\n",
       "      <td>-0.082096</td>\n",
       "      <td>-0.106813</td>\n",
       "      <td>-0.137916</td>\n",
       "      <td>-0.379700</td>\n",
       "      <td>7</td>\n",
       "    </tr>\n",
       "    <tr>\n",
       "      <th>#boonlayplace</th>\n",
       "      <td>0.127608</td>\n",
       "      <td>-0.002456</td>\n",
       "      <td>0.114164</td>\n",
       "      <td>0.105075</td>\n",
       "      <td>-0.027901</td>\n",
       "      <td>0.003161</td>\n",
       "      <td>-0.103483</td>\n",
       "      <td>0.698350</td>\n",
       "      <td>0.222533</td>\n",
       "      <td>0.033213</td>\n",
       "      <td>...</td>\n",
       "      <td>0.043968</td>\n",
       "      <td>-0.066202</td>\n",
       "      <td>0.082122</td>\n",
       "      <td>0.510892</td>\n",
       "      <td>0.120980</td>\n",
       "      <td>0.391795</td>\n",
       "      <td>0.387899</td>\n",
       "      <td>0.302420</td>\n",
       "      <td>-0.075724</td>\n",
       "      <td>5</td>\n",
       "    </tr>\n",
       "    <tr>\n",
       "      <th>#Hawkercentres</th>\n",
       "      <td>-0.010738</td>\n",
       "      <td>-0.230385</td>\n",
       "      <td>-0.038352</td>\n",
       "      <td>-0.049714</td>\n",
       "      <td>-0.176966</td>\n",
       "      <td>-0.029929</td>\n",
       "      <td>-0.473634</td>\n",
       "      <td>0.378915</td>\n",
       "      <td>-0.028496</td>\n",
       "      <td>-0.003084</td>\n",
       "      <td>...</td>\n",
       "      <td>0.564289</td>\n",
       "      <td>-0.137741</td>\n",
       "      <td>0.295685</td>\n",
       "      <td>0.209990</td>\n",
       "      <td>0.076924</td>\n",
       "      <td>0.510847</td>\n",
       "      <td>-0.104981</td>\n",
       "      <td>0.004304</td>\n",
       "      <td>-0.073190</td>\n",
       "      <td>5</td>\n",
       "    </tr>\n",
       "  </tbody>\n",
       "</table>\n",
       "<p>1247 rows × 21 columns</p>\n",
       "</div>"
      ],
      "text/plain": [
       "                          0         1         2         3         4         5  \\\n",
       "#hawkerculturesg   0.231724 -0.438408  0.085082 -0.044601 -0.161880  0.230221   \n",
       "#hawkerfood       -0.087568 -0.358053 -0.758197 -0.267679  0.033623  0.413672   \n",
       "#sgfood            0.201582 -0.760565 -0.631205  0.026616  0.236416  0.332584   \n",
       "#hawkerfoodsg      0.234289 -0.418587 -1.145511 -0.395781  0.274420 -0.076992   \n",
       "#hawkerculture     0.903687 -0.579991 -0.566129 -0.519868  0.714406 -0.034764   \n",
       "...                     ...       ...       ...       ...       ...       ...   \n",
       "#donburi          -0.124649 -0.110425  0.102686 -0.100214  0.149678  0.015962   \n",
       "#jurongpoint       0.135279  0.253842  0.020803  0.144889 -0.076419 -0.069084   \n",
       "#veg_littledragon  0.446218 -0.233135  0.001591 -1.023076 -0.260733 -0.338440   \n",
       "#boonlayplace      0.127608 -0.002456  0.114164  0.105075 -0.027901  0.003161   \n",
       "#Hawkercentres    -0.010738 -0.230385 -0.038352 -0.049714 -0.176966 -0.029929   \n",
       "\n",
       "                          6         7         8         9  ...        11  \\\n",
       "#hawkerculturesg  -0.312048  0.522622 -0.014925 -0.007604  ...  0.369819   \n",
       "#hawkerfood        0.316812  0.782221  0.278285 -0.142948  ...  0.470201   \n",
       "#sgfood           -0.269419  0.224787 -0.347207  0.026237  ...  1.018802   \n",
       "#hawkerfoodsg      0.007005  0.231066 -0.112920 -0.646784  ...  0.690799   \n",
       "#hawkerculture    -0.112108  0.392918  0.003182 -0.079409  ...  0.224258   \n",
       "...                     ...       ...       ...       ...  ...       ...   \n",
       "#donburi          -0.335696  0.433864 -0.026910 -0.245476  ...  0.911895   \n",
       "#jurongpoint      -0.115464  1.000552  0.340592  0.017009  ...  0.044693   \n",
       "#veg_littledragon -0.340911  0.538603  0.317904  0.515169  ...  1.112406   \n",
       "#boonlayplace     -0.103483  0.698350  0.222533  0.033213  ...  0.043968   \n",
       "#Hawkercentres    -0.473634  0.378915 -0.028496 -0.003084  ...  0.564289   \n",
       "\n",
       "                         12        13        14        15        16        17  \\\n",
       "#hawkerculturesg  -0.230521  0.176492  0.159377 -0.010545  0.514533 -0.217079   \n",
       "#hawkerfood        0.184882  0.116649 -0.256050  0.406531  0.638809 -0.331956   \n",
       "#sgfood           -0.504003  0.218506  0.108897  0.684023 -0.192418  0.369810   \n",
       "#hawkerfoodsg     -0.525070  0.188455  0.020390  0.297954  0.663459  0.115622   \n",
       "#hawkerculture    -0.494966 -0.326256  0.673653  0.076890  0.897546 -0.079822   \n",
       "...                     ...       ...       ...       ...       ...       ...   \n",
       "#donburi          -0.552029  0.207881  0.158411  0.084018 -0.342830  0.303406   \n",
       "#jurongpoint      -0.093934  0.074682  0.227115 -0.019293  0.552050  0.285809   \n",
       "#veg_littledragon -0.117533  0.055184 -0.390496  0.004698 -0.082096 -0.106813   \n",
       "#boonlayplace     -0.066202  0.082122  0.510892  0.120980  0.391795  0.387899   \n",
       "#Hawkercentres    -0.137741  0.295685  0.209990  0.076924  0.510847 -0.104981   \n",
       "\n",
       "                         18        19  labels  \n",
       "#hawkerculturesg  -0.077357 -0.193533       7  \n",
       "#hawkerfood        0.753280 -0.195123       7  \n",
       "#sgfood            0.522200 -0.512197       7  \n",
       "#hawkerfoodsg      0.602854 -0.552952       7  \n",
       "#hawkerculture     0.220579  0.141154       4  \n",
       "...                     ...       ...     ...  \n",
       "#donburi           0.142031 -0.060186       5  \n",
       "#jurongpoint       0.337756  0.182938       5  \n",
       "#veg_littledragon -0.137916 -0.379700       7  \n",
       "#boonlayplace      0.302420 -0.075724       5  \n",
       "#Hawkercentres     0.004304 -0.073190       5  \n",
       "\n",
       "[1247 rows x 21 columns]"
      ]
     },
     "execution_count": 358,
     "metadata": {},
     "output_type": "execute_result"
    }
   ],
   "source": [
    "node2vec_output"
   ]
  },
  {
   "cell_type": "markdown",
   "id": "86cae09c",
   "metadata": {},
   "source": [
    "## Filter average likes"
   ]
  },
  {
   "cell_type": "code",
   "execution_count": 359,
   "id": "1d798d93",
   "metadata": {},
   "outputs": [],
   "source": [
    "new_labels = []\n",
    "hashtags = list(node2vec_output.index)\n",
    "labels_list = node2vec_output[\"labels\"].to_list()"
   ]
  },
  {
   "cell_type": "code",
   "execution_count": 360,
   "id": "914a555b",
   "metadata": {},
   "outputs": [],
   "source": [
    "for index,hashtag in enumerate(hashtags):\n",
    "    label = labels_list[index]\n",
    "    if hashtag_avg_likes_dict[hashtag] < 30:\n",
    "        new_labels.append(-1)\n",
    "    else:\n",
    "        new_labels.append(label)"
   ]
  },
  {
   "cell_type": "code",
   "execution_count": 361,
   "id": "8e611625",
   "metadata": {},
   "outputs": [],
   "source": [
    "node2vec_output[\"labels\"] = new_labels"
   ]
  },
  {
   "cell_type": "code",
   "execution_count": 362,
   "id": "cb165460",
   "metadata": {},
   "outputs": [
    {
     "data": {
      "text/html": [
       "<div>\n",
       "<style scoped>\n",
       "    .dataframe tbody tr th:only-of-type {\n",
       "        vertical-align: middle;\n",
       "    }\n",
       "\n",
       "    .dataframe tbody tr th {\n",
       "        vertical-align: top;\n",
       "    }\n",
       "\n",
       "    .dataframe thead th {\n",
       "        text-align: right;\n",
       "    }\n",
       "</style>\n",
       "<table border=\"1\" class=\"dataframe\">\n",
       "  <thead>\n",
       "    <tr style=\"text-align: right;\">\n",
       "      <th></th>\n",
       "      <th>0</th>\n",
       "      <th>1</th>\n",
       "      <th>2</th>\n",
       "      <th>3</th>\n",
       "      <th>4</th>\n",
       "      <th>5</th>\n",
       "      <th>6</th>\n",
       "      <th>7</th>\n",
       "      <th>8</th>\n",
       "      <th>9</th>\n",
       "      <th>...</th>\n",
       "      <th>11</th>\n",
       "      <th>12</th>\n",
       "      <th>13</th>\n",
       "      <th>14</th>\n",
       "      <th>15</th>\n",
       "      <th>16</th>\n",
       "      <th>17</th>\n",
       "      <th>18</th>\n",
       "      <th>19</th>\n",
       "      <th>labels</th>\n",
       "    </tr>\n",
       "  </thead>\n",
       "  <tbody>\n",
       "    <tr>\n",
       "      <th>#hawkerculturesg</th>\n",
       "      <td>0.231724</td>\n",
       "      <td>-0.438408</td>\n",
       "      <td>0.085082</td>\n",
       "      <td>-0.044601</td>\n",
       "      <td>-0.161880</td>\n",
       "      <td>0.230221</td>\n",
       "      <td>-0.312048</td>\n",
       "      <td>0.522622</td>\n",
       "      <td>-0.014925</td>\n",
       "      <td>-0.007604</td>\n",
       "      <td>...</td>\n",
       "      <td>0.369819</td>\n",
       "      <td>-0.230521</td>\n",
       "      <td>0.176492</td>\n",
       "      <td>0.159377</td>\n",
       "      <td>-0.010545</td>\n",
       "      <td>0.514533</td>\n",
       "      <td>-0.217079</td>\n",
       "      <td>-0.077357</td>\n",
       "      <td>-0.193533</td>\n",
       "      <td>7</td>\n",
       "    </tr>\n",
       "    <tr>\n",
       "      <th>#hawkerfood</th>\n",
       "      <td>-0.087568</td>\n",
       "      <td>-0.358053</td>\n",
       "      <td>-0.758197</td>\n",
       "      <td>-0.267679</td>\n",
       "      <td>0.033623</td>\n",
       "      <td>0.413672</td>\n",
       "      <td>0.316812</td>\n",
       "      <td>0.782221</td>\n",
       "      <td>0.278285</td>\n",
       "      <td>-0.142948</td>\n",
       "      <td>...</td>\n",
       "      <td>0.470201</td>\n",
       "      <td>0.184882</td>\n",
       "      <td>0.116649</td>\n",
       "      <td>-0.256050</td>\n",
       "      <td>0.406531</td>\n",
       "      <td>0.638809</td>\n",
       "      <td>-0.331956</td>\n",
       "      <td>0.753280</td>\n",
       "      <td>-0.195123</td>\n",
       "      <td>7</td>\n",
       "    </tr>\n",
       "    <tr>\n",
       "      <th>#sgfood</th>\n",
       "      <td>0.201582</td>\n",
       "      <td>-0.760565</td>\n",
       "      <td>-0.631205</td>\n",
       "      <td>0.026616</td>\n",
       "      <td>0.236416</td>\n",
       "      <td>0.332584</td>\n",
       "      <td>-0.269419</td>\n",
       "      <td>0.224787</td>\n",
       "      <td>-0.347207</td>\n",
       "      <td>0.026237</td>\n",
       "      <td>...</td>\n",
       "      <td>1.018802</td>\n",
       "      <td>-0.504003</td>\n",
       "      <td>0.218506</td>\n",
       "      <td>0.108897</td>\n",
       "      <td>0.684023</td>\n",
       "      <td>-0.192418</td>\n",
       "      <td>0.369810</td>\n",
       "      <td>0.522200</td>\n",
       "      <td>-0.512197</td>\n",
       "      <td>7</td>\n",
       "    </tr>\n",
       "    <tr>\n",
       "      <th>#hawkerfoodsg</th>\n",
       "      <td>0.234289</td>\n",
       "      <td>-0.418587</td>\n",
       "      <td>-1.145511</td>\n",
       "      <td>-0.395781</td>\n",
       "      <td>0.274420</td>\n",
       "      <td>-0.076992</td>\n",
       "      <td>0.007005</td>\n",
       "      <td>0.231066</td>\n",
       "      <td>-0.112920</td>\n",
       "      <td>-0.646784</td>\n",
       "      <td>...</td>\n",
       "      <td>0.690799</td>\n",
       "      <td>-0.525070</td>\n",
       "      <td>0.188455</td>\n",
       "      <td>0.020390</td>\n",
       "      <td>0.297954</td>\n",
       "      <td>0.663459</td>\n",
       "      <td>0.115622</td>\n",
       "      <td>0.602854</td>\n",
       "      <td>-0.552952</td>\n",
       "      <td>7</td>\n",
       "    </tr>\n",
       "    <tr>\n",
       "      <th>#hawkerculture</th>\n",
       "      <td>0.903687</td>\n",
       "      <td>-0.579991</td>\n",
       "      <td>-0.566129</td>\n",
       "      <td>-0.519868</td>\n",
       "      <td>0.714406</td>\n",
       "      <td>-0.034764</td>\n",
       "      <td>-0.112108</td>\n",
       "      <td>0.392918</td>\n",
       "      <td>0.003182</td>\n",
       "      <td>-0.079409</td>\n",
       "      <td>...</td>\n",
       "      <td>0.224258</td>\n",
       "      <td>-0.494966</td>\n",
       "      <td>-0.326256</td>\n",
       "      <td>0.673653</td>\n",
       "      <td>0.076890</td>\n",
       "      <td>0.897546</td>\n",
       "      <td>-0.079822</td>\n",
       "      <td>0.220579</td>\n",
       "      <td>0.141154</td>\n",
       "      <td>4</td>\n",
       "    </tr>\n",
       "    <tr>\n",
       "      <th>...</th>\n",
       "      <td>...</td>\n",
       "      <td>...</td>\n",
       "      <td>...</td>\n",
       "      <td>...</td>\n",
       "      <td>...</td>\n",
       "      <td>...</td>\n",
       "      <td>...</td>\n",
       "      <td>...</td>\n",
       "      <td>...</td>\n",
       "      <td>...</td>\n",
       "      <td>...</td>\n",
       "      <td>...</td>\n",
       "      <td>...</td>\n",
       "      <td>...</td>\n",
       "      <td>...</td>\n",
       "      <td>...</td>\n",
       "      <td>...</td>\n",
       "      <td>...</td>\n",
       "      <td>...</td>\n",
       "      <td>...</td>\n",
       "      <td>...</td>\n",
       "    </tr>\n",
       "    <tr>\n",
       "      <th>#donburi</th>\n",
       "      <td>-0.124649</td>\n",
       "      <td>-0.110425</td>\n",
       "      <td>0.102686</td>\n",
       "      <td>-0.100214</td>\n",
       "      <td>0.149678</td>\n",
       "      <td>0.015962</td>\n",
       "      <td>-0.335696</td>\n",
       "      <td>0.433864</td>\n",
       "      <td>-0.026910</td>\n",
       "      <td>-0.245476</td>\n",
       "      <td>...</td>\n",
       "      <td>0.911895</td>\n",
       "      <td>-0.552029</td>\n",
       "      <td>0.207881</td>\n",
       "      <td>0.158411</td>\n",
       "      <td>0.084018</td>\n",
       "      <td>-0.342830</td>\n",
       "      <td>0.303406</td>\n",
       "      <td>0.142031</td>\n",
       "      <td>-0.060186</td>\n",
       "      <td>-1</td>\n",
       "    </tr>\n",
       "    <tr>\n",
       "      <th>#jurongpoint</th>\n",
       "      <td>0.135279</td>\n",
       "      <td>0.253842</td>\n",
       "      <td>0.020803</td>\n",
       "      <td>0.144889</td>\n",
       "      <td>-0.076419</td>\n",
       "      <td>-0.069084</td>\n",
       "      <td>-0.115464</td>\n",
       "      <td>1.000552</td>\n",
       "      <td>0.340592</td>\n",
       "      <td>0.017009</td>\n",
       "      <td>...</td>\n",
       "      <td>0.044693</td>\n",
       "      <td>-0.093934</td>\n",
       "      <td>0.074682</td>\n",
       "      <td>0.227115</td>\n",
       "      <td>-0.019293</td>\n",
       "      <td>0.552050</td>\n",
       "      <td>0.285809</td>\n",
       "      <td>0.337756</td>\n",
       "      <td>0.182938</td>\n",
       "      <td>-1</td>\n",
       "    </tr>\n",
       "    <tr>\n",
       "      <th>#veg_littledragon</th>\n",
       "      <td>0.446218</td>\n",
       "      <td>-0.233135</td>\n",
       "      <td>0.001591</td>\n",
       "      <td>-1.023076</td>\n",
       "      <td>-0.260733</td>\n",
       "      <td>-0.338440</td>\n",
       "      <td>-0.340911</td>\n",
       "      <td>0.538603</td>\n",
       "      <td>0.317904</td>\n",
       "      <td>0.515169</td>\n",
       "      <td>...</td>\n",
       "      <td>1.112406</td>\n",
       "      <td>-0.117533</td>\n",
       "      <td>0.055184</td>\n",
       "      <td>-0.390496</td>\n",
       "      <td>0.004698</td>\n",
       "      <td>-0.082096</td>\n",
       "      <td>-0.106813</td>\n",
       "      <td>-0.137916</td>\n",
       "      <td>-0.379700</td>\n",
       "      <td>7</td>\n",
       "    </tr>\n",
       "    <tr>\n",
       "      <th>#boonlayplace</th>\n",
       "      <td>0.127608</td>\n",
       "      <td>-0.002456</td>\n",
       "      <td>0.114164</td>\n",
       "      <td>0.105075</td>\n",
       "      <td>-0.027901</td>\n",
       "      <td>0.003161</td>\n",
       "      <td>-0.103483</td>\n",
       "      <td>0.698350</td>\n",
       "      <td>0.222533</td>\n",
       "      <td>0.033213</td>\n",
       "      <td>...</td>\n",
       "      <td>0.043968</td>\n",
       "      <td>-0.066202</td>\n",
       "      <td>0.082122</td>\n",
       "      <td>0.510892</td>\n",
       "      <td>0.120980</td>\n",
       "      <td>0.391795</td>\n",
       "      <td>0.387899</td>\n",
       "      <td>0.302420</td>\n",
       "      <td>-0.075724</td>\n",
       "      <td>-1</td>\n",
       "    </tr>\n",
       "    <tr>\n",
       "      <th>#Hawkercentres</th>\n",
       "      <td>-0.010738</td>\n",
       "      <td>-0.230385</td>\n",
       "      <td>-0.038352</td>\n",
       "      <td>-0.049714</td>\n",
       "      <td>-0.176966</td>\n",
       "      <td>-0.029929</td>\n",
       "      <td>-0.473634</td>\n",
       "      <td>0.378915</td>\n",
       "      <td>-0.028496</td>\n",
       "      <td>-0.003084</td>\n",
       "      <td>...</td>\n",
       "      <td>0.564289</td>\n",
       "      <td>-0.137741</td>\n",
       "      <td>0.295685</td>\n",
       "      <td>0.209990</td>\n",
       "      <td>0.076924</td>\n",
       "      <td>0.510847</td>\n",
       "      <td>-0.104981</td>\n",
       "      <td>0.004304</td>\n",
       "      <td>-0.073190</td>\n",
       "      <td>-1</td>\n",
       "    </tr>\n",
       "  </tbody>\n",
       "</table>\n",
       "<p>1247 rows × 21 columns</p>\n",
       "</div>"
      ],
      "text/plain": [
       "                          0         1         2         3         4         5  \\\n",
       "#hawkerculturesg   0.231724 -0.438408  0.085082 -0.044601 -0.161880  0.230221   \n",
       "#hawkerfood       -0.087568 -0.358053 -0.758197 -0.267679  0.033623  0.413672   \n",
       "#sgfood            0.201582 -0.760565 -0.631205  0.026616  0.236416  0.332584   \n",
       "#hawkerfoodsg      0.234289 -0.418587 -1.145511 -0.395781  0.274420 -0.076992   \n",
       "#hawkerculture     0.903687 -0.579991 -0.566129 -0.519868  0.714406 -0.034764   \n",
       "...                     ...       ...       ...       ...       ...       ...   \n",
       "#donburi          -0.124649 -0.110425  0.102686 -0.100214  0.149678  0.015962   \n",
       "#jurongpoint       0.135279  0.253842  0.020803  0.144889 -0.076419 -0.069084   \n",
       "#veg_littledragon  0.446218 -0.233135  0.001591 -1.023076 -0.260733 -0.338440   \n",
       "#boonlayplace      0.127608 -0.002456  0.114164  0.105075 -0.027901  0.003161   \n",
       "#Hawkercentres    -0.010738 -0.230385 -0.038352 -0.049714 -0.176966 -0.029929   \n",
       "\n",
       "                          6         7         8         9  ...        11  \\\n",
       "#hawkerculturesg  -0.312048  0.522622 -0.014925 -0.007604  ...  0.369819   \n",
       "#hawkerfood        0.316812  0.782221  0.278285 -0.142948  ...  0.470201   \n",
       "#sgfood           -0.269419  0.224787 -0.347207  0.026237  ...  1.018802   \n",
       "#hawkerfoodsg      0.007005  0.231066 -0.112920 -0.646784  ...  0.690799   \n",
       "#hawkerculture    -0.112108  0.392918  0.003182 -0.079409  ...  0.224258   \n",
       "...                     ...       ...       ...       ...  ...       ...   \n",
       "#donburi          -0.335696  0.433864 -0.026910 -0.245476  ...  0.911895   \n",
       "#jurongpoint      -0.115464  1.000552  0.340592  0.017009  ...  0.044693   \n",
       "#veg_littledragon -0.340911  0.538603  0.317904  0.515169  ...  1.112406   \n",
       "#boonlayplace     -0.103483  0.698350  0.222533  0.033213  ...  0.043968   \n",
       "#Hawkercentres    -0.473634  0.378915 -0.028496 -0.003084  ...  0.564289   \n",
       "\n",
       "                         12        13        14        15        16        17  \\\n",
       "#hawkerculturesg  -0.230521  0.176492  0.159377 -0.010545  0.514533 -0.217079   \n",
       "#hawkerfood        0.184882  0.116649 -0.256050  0.406531  0.638809 -0.331956   \n",
       "#sgfood           -0.504003  0.218506  0.108897  0.684023 -0.192418  0.369810   \n",
       "#hawkerfoodsg     -0.525070  0.188455  0.020390  0.297954  0.663459  0.115622   \n",
       "#hawkerculture    -0.494966 -0.326256  0.673653  0.076890  0.897546 -0.079822   \n",
       "...                     ...       ...       ...       ...       ...       ...   \n",
       "#donburi          -0.552029  0.207881  0.158411  0.084018 -0.342830  0.303406   \n",
       "#jurongpoint      -0.093934  0.074682  0.227115 -0.019293  0.552050  0.285809   \n",
       "#veg_littledragon -0.117533  0.055184 -0.390496  0.004698 -0.082096 -0.106813   \n",
       "#boonlayplace     -0.066202  0.082122  0.510892  0.120980  0.391795  0.387899   \n",
       "#Hawkercentres    -0.137741  0.295685  0.209990  0.076924  0.510847 -0.104981   \n",
       "\n",
       "                         18        19  labels  \n",
       "#hawkerculturesg  -0.077357 -0.193533       7  \n",
       "#hawkerfood        0.753280 -0.195123       7  \n",
       "#sgfood            0.522200 -0.512197       7  \n",
       "#hawkerfoodsg      0.602854 -0.552952       7  \n",
       "#hawkerculture     0.220579  0.141154       4  \n",
       "...                     ...       ...     ...  \n",
       "#donburi           0.142031 -0.060186      -1  \n",
       "#jurongpoint       0.337756  0.182938      -1  \n",
       "#veg_littledragon -0.137916 -0.379700       7  \n",
       "#boonlayplace      0.302420 -0.075724      -1  \n",
       "#Hawkercentres     0.004304 -0.073190      -1  \n",
       "\n",
       "[1247 rows x 21 columns]"
      ]
     },
     "execution_count": 362,
     "metadata": {},
     "output_type": "execute_result"
    }
   ],
   "source": [
    "node2vec_output"
   ]
  },
  {
   "cell_type": "code",
   "execution_count": 363,
   "id": "0dca7572",
   "metadata": {},
   "outputs": [
    {
     "data": {
      "text/plain": [
       "-1    460\n",
       " 7    288\n",
       " 4    163\n",
       " 6    125\n",
       " 0    107\n",
       " 2     43\n",
       " 3     32\n",
       " 1     29\n",
       "Name: labels, dtype: int64"
      ]
     },
     "execution_count": 363,
     "metadata": {},
     "output_type": "execute_result"
    }
   ],
   "source": [
    "node2vec_output[\"labels\"].value_counts()"
   ]
  },
  {
   "cell_type": "markdown",
   "id": "4c51327a",
   "metadata": {},
   "source": [
    "## Visualize"
   ]
  },
  {
   "cell_type": "code",
   "execution_count": 364,
   "id": "f0f33767",
   "metadata": {},
   "outputs": [
    {
     "data": {
      "text/html": [
       "<div>\n",
       "<style scoped>\n",
       "    .dataframe tbody tr th:only-of-type {\n",
       "        vertical-align: middle;\n",
       "    }\n",
       "\n",
       "    .dataframe tbody tr th {\n",
       "        vertical-align: top;\n",
       "    }\n",
       "\n",
       "    .dataframe thead th {\n",
       "        text-align: right;\n",
       "    }\n",
       "</style>\n",
       "<table border=\"1\" class=\"dataframe\">\n",
       "  <thead>\n",
       "    <tr style=\"text-align: right;\">\n",
       "      <th></th>\n",
       "      <th>0</th>\n",
       "      <th>1</th>\n",
       "      <th>2</th>\n",
       "      <th>3</th>\n",
       "      <th>4</th>\n",
       "      <th>5</th>\n",
       "      <th>6</th>\n",
       "      <th>7</th>\n",
       "      <th>8</th>\n",
       "      <th>9</th>\n",
       "      <th>...</th>\n",
       "      <th>11</th>\n",
       "      <th>12</th>\n",
       "      <th>13</th>\n",
       "      <th>14</th>\n",
       "      <th>15</th>\n",
       "      <th>16</th>\n",
       "      <th>17</th>\n",
       "      <th>18</th>\n",
       "      <th>19</th>\n",
       "      <th>labels</th>\n",
       "    </tr>\n",
       "  </thead>\n",
       "  <tbody>\n",
       "    <tr>\n",
       "      <th>#hawkerculturesg</th>\n",
       "      <td>0.231724</td>\n",
       "      <td>-0.438408</td>\n",
       "      <td>0.085082</td>\n",
       "      <td>-0.044601</td>\n",
       "      <td>-0.161880</td>\n",
       "      <td>0.230221</td>\n",
       "      <td>-0.312048</td>\n",
       "      <td>0.522622</td>\n",
       "      <td>-0.014925</td>\n",
       "      <td>-0.007604</td>\n",
       "      <td>...</td>\n",
       "      <td>0.369819</td>\n",
       "      <td>-0.230521</td>\n",
       "      <td>0.176492</td>\n",
       "      <td>0.159377</td>\n",
       "      <td>-0.010545</td>\n",
       "      <td>0.514533</td>\n",
       "      <td>-0.217079</td>\n",
       "      <td>-0.077357</td>\n",
       "      <td>-0.193533</td>\n",
       "      <td>7</td>\n",
       "    </tr>\n",
       "    <tr>\n",
       "      <th>#hawkerfood</th>\n",
       "      <td>-0.087568</td>\n",
       "      <td>-0.358053</td>\n",
       "      <td>-0.758197</td>\n",
       "      <td>-0.267679</td>\n",
       "      <td>0.033623</td>\n",
       "      <td>0.413672</td>\n",
       "      <td>0.316812</td>\n",
       "      <td>0.782221</td>\n",
       "      <td>0.278285</td>\n",
       "      <td>-0.142948</td>\n",
       "      <td>...</td>\n",
       "      <td>0.470201</td>\n",
       "      <td>0.184882</td>\n",
       "      <td>0.116649</td>\n",
       "      <td>-0.256050</td>\n",
       "      <td>0.406531</td>\n",
       "      <td>0.638809</td>\n",
       "      <td>-0.331956</td>\n",
       "      <td>0.753280</td>\n",
       "      <td>-0.195123</td>\n",
       "      <td>7</td>\n",
       "    </tr>\n",
       "    <tr>\n",
       "      <th>#sgfood</th>\n",
       "      <td>0.201582</td>\n",
       "      <td>-0.760565</td>\n",
       "      <td>-0.631205</td>\n",
       "      <td>0.026616</td>\n",
       "      <td>0.236416</td>\n",
       "      <td>0.332584</td>\n",
       "      <td>-0.269419</td>\n",
       "      <td>0.224787</td>\n",
       "      <td>-0.347207</td>\n",
       "      <td>0.026237</td>\n",
       "      <td>...</td>\n",
       "      <td>1.018802</td>\n",
       "      <td>-0.504003</td>\n",
       "      <td>0.218506</td>\n",
       "      <td>0.108897</td>\n",
       "      <td>0.684023</td>\n",
       "      <td>-0.192418</td>\n",
       "      <td>0.369810</td>\n",
       "      <td>0.522200</td>\n",
       "      <td>-0.512197</td>\n",
       "      <td>7</td>\n",
       "    </tr>\n",
       "    <tr>\n",
       "      <th>#hawkerfoodsg</th>\n",
       "      <td>0.234289</td>\n",
       "      <td>-0.418587</td>\n",
       "      <td>-1.145511</td>\n",
       "      <td>-0.395781</td>\n",
       "      <td>0.274420</td>\n",
       "      <td>-0.076992</td>\n",
       "      <td>0.007005</td>\n",
       "      <td>0.231066</td>\n",
       "      <td>-0.112920</td>\n",
       "      <td>-0.646784</td>\n",
       "      <td>...</td>\n",
       "      <td>0.690799</td>\n",
       "      <td>-0.525070</td>\n",
       "      <td>0.188455</td>\n",
       "      <td>0.020390</td>\n",
       "      <td>0.297954</td>\n",
       "      <td>0.663459</td>\n",
       "      <td>0.115622</td>\n",
       "      <td>0.602854</td>\n",
       "      <td>-0.552952</td>\n",
       "      <td>7</td>\n",
       "    </tr>\n",
       "    <tr>\n",
       "      <th>#hawkerculture</th>\n",
       "      <td>0.903687</td>\n",
       "      <td>-0.579991</td>\n",
       "      <td>-0.566129</td>\n",
       "      <td>-0.519868</td>\n",
       "      <td>0.714406</td>\n",
       "      <td>-0.034764</td>\n",
       "      <td>-0.112108</td>\n",
       "      <td>0.392918</td>\n",
       "      <td>0.003182</td>\n",
       "      <td>-0.079409</td>\n",
       "      <td>...</td>\n",
       "      <td>0.224258</td>\n",
       "      <td>-0.494966</td>\n",
       "      <td>-0.326256</td>\n",
       "      <td>0.673653</td>\n",
       "      <td>0.076890</td>\n",
       "      <td>0.897546</td>\n",
       "      <td>-0.079822</td>\n",
       "      <td>0.220579</td>\n",
       "      <td>0.141154</td>\n",
       "      <td>4</td>\n",
       "    </tr>\n",
       "    <tr>\n",
       "      <th>...</th>\n",
       "      <td>...</td>\n",
       "      <td>...</td>\n",
       "      <td>...</td>\n",
       "      <td>...</td>\n",
       "      <td>...</td>\n",
       "      <td>...</td>\n",
       "      <td>...</td>\n",
       "      <td>...</td>\n",
       "      <td>...</td>\n",
       "      <td>...</td>\n",
       "      <td>...</td>\n",
       "      <td>...</td>\n",
       "      <td>...</td>\n",
       "      <td>...</td>\n",
       "      <td>...</td>\n",
       "      <td>...</td>\n",
       "      <td>...</td>\n",
       "      <td>...</td>\n",
       "      <td>...</td>\n",
       "      <td>...</td>\n",
       "      <td>...</td>\n",
       "    </tr>\n",
       "    <tr>\n",
       "      <th>#donburi</th>\n",
       "      <td>-0.124649</td>\n",
       "      <td>-0.110425</td>\n",
       "      <td>0.102686</td>\n",
       "      <td>-0.100214</td>\n",
       "      <td>0.149678</td>\n",
       "      <td>0.015962</td>\n",
       "      <td>-0.335696</td>\n",
       "      <td>0.433864</td>\n",
       "      <td>-0.026910</td>\n",
       "      <td>-0.245476</td>\n",
       "      <td>...</td>\n",
       "      <td>0.911895</td>\n",
       "      <td>-0.552029</td>\n",
       "      <td>0.207881</td>\n",
       "      <td>0.158411</td>\n",
       "      <td>0.084018</td>\n",
       "      <td>-0.342830</td>\n",
       "      <td>0.303406</td>\n",
       "      <td>0.142031</td>\n",
       "      <td>-0.060186</td>\n",
       "      <td>-1</td>\n",
       "    </tr>\n",
       "    <tr>\n",
       "      <th>#jurongpoint</th>\n",
       "      <td>0.135279</td>\n",
       "      <td>0.253842</td>\n",
       "      <td>0.020803</td>\n",
       "      <td>0.144889</td>\n",
       "      <td>-0.076419</td>\n",
       "      <td>-0.069084</td>\n",
       "      <td>-0.115464</td>\n",
       "      <td>1.000552</td>\n",
       "      <td>0.340592</td>\n",
       "      <td>0.017009</td>\n",
       "      <td>...</td>\n",
       "      <td>0.044693</td>\n",
       "      <td>-0.093934</td>\n",
       "      <td>0.074682</td>\n",
       "      <td>0.227115</td>\n",
       "      <td>-0.019293</td>\n",
       "      <td>0.552050</td>\n",
       "      <td>0.285809</td>\n",
       "      <td>0.337756</td>\n",
       "      <td>0.182938</td>\n",
       "      <td>-1</td>\n",
       "    </tr>\n",
       "    <tr>\n",
       "      <th>#veg_littledragon</th>\n",
       "      <td>0.446218</td>\n",
       "      <td>-0.233135</td>\n",
       "      <td>0.001591</td>\n",
       "      <td>-1.023076</td>\n",
       "      <td>-0.260733</td>\n",
       "      <td>-0.338440</td>\n",
       "      <td>-0.340911</td>\n",
       "      <td>0.538603</td>\n",
       "      <td>0.317904</td>\n",
       "      <td>0.515169</td>\n",
       "      <td>...</td>\n",
       "      <td>1.112406</td>\n",
       "      <td>-0.117533</td>\n",
       "      <td>0.055184</td>\n",
       "      <td>-0.390496</td>\n",
       "      <td>0.004698</td>\n",
       "      <td>-0.082096</td>\n",
       "      <td>-0.106813</td>\n",
       "      <td>-0.137916</td>\n",
       "      <td>-0.379700</td>\n",
       "      <td>7</td>\n",
       "    </tr>\n",
       "    <tr>\n",
       "      <th>#boonlayplace</th>\n",
       "      <td>0.127608</td>\n",
       "      <td>-0.002456</td>\n",
       "      <td>0.114164</td>\n",
       "      <td>0.105075</td>\n",
       "      <td>-0.027901</td>\n",
       "      <td>0.003161</td>\n",
       "      <td>-0.103483</td>\n",
       "      <td>0.698350</td>\n",
       "      <td>0.222533</td>\n",
       "      <td>0.033213</td>\n",
       "      <td>...</td>\n",
       "      <td>0.043968</td>\n",
       "      <td>-0.066202</td>\n",
       "      <td>0.082122</td>\n",
       "      <td>0.510892</td>\n",
       "      <td>0.120980</td>\n",
       "      <td>0.391795</td>\n",
       "      <td>0.387899</td>\n",
       "      <td>0.302420</td>\n",
       "      <td>-0.075724</td>\n",
       "      <td>-1</td>\n",
       "    </tr>\n",
       "    <tr>\n",
       "      <th>#Hawkercentres</th>\n",
       "      <td>-0.010738</td>\n",
       "      <td>-0.230385</td>\n",
       "      <td>-0.038352</td>\n",
       "      <td>-0.049714</td>\n",
       "      <td>-0.176966</td>\n",
       "      <td>-0.029929</td>\n",
       "      <td>-0.473634</td>\n",
       "      <td>0.378915</td>\n",
       "      <td>-0.028496</td>\n",
       "      <td>-0.003084</td>\n",
       "      <td>...</td>\n",
       "      <td>0.564289</td>\n",
       "      <td>-0.137741</td>\n",
       "      <td>0.295685</td>\n",
       "      <td>0.209990</td>\n",
       "      <td>0.076924</td>\n",
       "      <td>0.510847</td>\n",
       "      <td>-0.104981</td>\n",
       "      <td>0.004304</td>\n",
       "      <td>-0.073190</td>\n",
       "      <td>-1</td>\n",
       "    </tr>\n",
       "  </tbody>\n",
       "</table>\n",
       "<p>1247 rows × 21 columns</p>\n",
       "</div>"
      ],
      "text/plain": [
       "                          0         1         2         3         4         5  \\\n",
       "#hawkerculturesg   0.231724 -0.438408  0.085082 -0.044601 -0.161880  0.230221   \n",
       "#hawkerfood       -0.087568 -0.358053 -0.758197 -0.267679  0.033623  0.413672   \n",
       "#sgfood            0.201582 -0.760565 -0.631205  0.026616  0.236416  0.332584   \n",
       "#hawkerfoodsg      0.234289 -0.418587 -1.145511 -0.395781  0.274420 -0.076992   \n",
       "#hawkerculture     0.903687 -0.579991 -0.566129 -0.519868  0.714406 -0.034764   \n",
       "...                     ...       ...       ...       ...       ...       ...   \n",
       "#donburi          -0.124649 -0.110425  0.102686 -0.100214  0.149678  0.015962   \n",
       "#jurongpoint       0.135279  0.253842  0.020803  0.144889 -0.076419 -0.069084   \n",
       "#veg_littledragon  0.446218 -0.233135  0.001591 -1.023076 -0.260733 -0.338440   \n",
       "#boonlayplace      0.127608 -0.002456  0.114164  0.105075 -0.027901  0.003161   \n",
       "#Hawkercentres    -0.010738 -0.230385 -0.038352 -0.049714 -0.176966 -0.029929   \n",
       "\n",
       "                          6         7         8         9  ...        11  \\\n",
       "#hawkerculturesg  -0.312048  0.522622 -0.014925 -0.007604  ...  0.369819   \n",
       "#hawkerfood        0.316812  0.782221  0.278285 -0.142948  ...  0.470201   \n",
       "#sgfood           -0.269419  0.224787 -0.347207  0.026237  ...  1.018802   \n",
       "#hawkerfoodsg      0.007005  0.231066 -0.112920 -0.646784  ...  0.690799   \n",
       "#hawkerculture    -0.112108  0.392918  0.003182 -0.079409  ...  0.224258   \n",
       "...                     ...       ...       ...       ...  ...       ...   \n",
       "#donburi          -0.335696  0.433864 -0.026910 -0.245476  ...  0.911895   \n",
       "#jurongpoint      -0.115464  1.000552  0.340592  0.017009  ...  0.044693   \n",
       "#veg_littledragon -0.340911  0.538603  0.317904  0.515169  ...  1.112406   \n",
       "#boonlayplace     -0.103483  0.698350  0.222533  0.033213  ...  0.043968   \n",
       "#Hawkercentres    -0.473634  0.378915 -0.028496 -0.003084  ...  0.564289   \n",
       "\n",
       "                         12        13        14        15        16        17  \\\n",
       "#hawkerculturesg  -0.230521  0.176492  0.159377 -0.010545  0.514533 -0.217079   \n",
       "#hawkerfood        0.184882  0.116649 -0.256050  0.406531  0.638809 -0.331956   \n",
       "#sgfood           -0.504003  0.218506  0.108897  0.684023 -0.192418  0.369810   \n",
       "#hawkerfoodsg     -0.525070  0.188455  0.020390  0.297954  0.663459  0.115622   \n",
       "#hawkerculture    -0.494966 -0.326256  0.673653  0.076890  0.897546 -0.079822   \n",
       "...                     ...       ...       ...       ...       ...       ...   \n",
       "#donburi          -0.552029  0.207881  0.158411  0.084018 -0.342830  0.303406   \n",
       "#jurongpoint      -0.093934  0.074682  0.227115 -0.019293  0.552050  0.285809   \n",
       "#veg_littledragon -0.117533  0.055184 -0.390496  0.004698 -0.082096 -0.106813   \n",
       "#boonlayplace     -0.066202  0.082122  0.510892  0.120980  0.391795  0.387899   \n",
       "#Hawkercentres    -0.137741  0.295685  0.209990  0.076924  0.510847 -0.104981   \n",
       "\n",
       "                         18        19  labels  \n",
       "#hawkerculturesg  -0.077357 -0.193533       7  \n",
       "#hawkerfood        0.753280 -0.195123       7  \n",
       "#sgfood            0.522200 -0.512197       7  \n",
       "#hawkerfoodsg      0.602854 -0.552952       7  \n",
       "#hawkerculture     0.220579  0.141154       4  \n",
       "...                     ...       ...     ...  \n",
       "#donburi           0.142031 -0.060186      -1  \n",
       "#jurongpoint       0.337756  0.182938      -1  \n",
       "#veg_littledragon -0.137916 -0.379700       7  \n",
       "#boonlayplace      0.302420 -0.075724      -1  \n",
       "#Hawkercentres     0.004304 -0.073190      -1  \n",
       "\n",
       "[1247 rows x 21 columns]"
      ]
     },
     "execution_count": 364,
     "metadata": {},
     "output_type": "execute_result"
    }
   ],
   "source": [
    "node2vec_output"
   ]
  },
  {
   "cell_type": "code",
   "execution_count": 365,
   "id": "063708d3",
   "metadata": {},
   "outputs": [
    {
     "name": "stderr",
     "output_type": "stream",
     "text": [
      "/tmp/ipykernel_258/439335830.py:1: FutureWarning:\n",
      "\n",
      "In a future version of pandas all arguments of DataFrame.drop except for the argument 'labels' will be keyword-only.\n",
      "\n"
     ]
    }
   ],
   "source": [
    "data_subset = node2vec_output.drop('labels', 1)"
   ]
  },
  {
   "cell_type": "code",
   "execution_count": 366,
   "id": "463e7b38",
   "metadata": {},
   "outputs": [
    {
     "data": {
      "text/html": [
       "<div>\n",
       "<style scoped>\n",
       "    .dataframe tbody tr th:only-of-type {\n",
       "        vertical-align: middle;\n",
       "    }\n",
       "\n",
       "    .dataframe tbody tr th {\n",
       "        vertical-align: top;\n",
       "    }\n",
       "\n",
       "    .dataframe thead th {\n",
       "        text-align: right;\n",
       "    }\n",
       "</style>\n",
       "<table border=\"1\" class=\"dataframe\">\n",
       "  <thead>\n",
       "    <tr style=\"text-align: right;\">\n",
       "      <th></th>\n",
       "      <th>0</th>\n",
       "      <th>1</th>\n",
       "      <th>2</th>\n",
       "      <th>3</th>\n",
       "      <th>4</th>\n",
       "      <th>5</th>\n",
       "      <th>6</th>\n",
       "      <th>7</th>\n",
       "      <th>8</th>\n",
       "      <th>9</th>\n",
       "      <th>10</th>\n",
       "      <th>11</th>\n",
       "      <th>12</th>\n",
       "      <th>13</th>\n",
       "      <th>14</th>\n",
       "      <th>15</th>\n",
       "      <th>16</th>\n",
       "      <th>17</th>\n",
       "      <th>18</th>\n",
       "      <th>19</th>\n",
       "    </tr>\n",
       "  </thead>\n",
       "  <tbody>\n",
       "    <tr>\n",
       "      <th>#hawkerculturesg</th>\n",
       "      <td>0.231724</td>\n",
       "      <td>-0.438408</td>\n",
       "      <td>0.085082</td>\n",
       "      <td>-0.044601</td>\n",
       "      <td>-0.161880</td>\n",
       "      <td>0.230221</td>\n",
       "      <td>-0.312048</td>\n",
       "      <td>0.522622</td>\n",
       "      <td>-0.014925</td>\n",
       "      <td>-0.007604</td>\n",
       "      <td>0.310229</td>\n",
       "      <td>0.369819</td>\n",
       "      <td>-0.230521</td>\n",
       "      <td>0.176492</td>\n",
       "      <td>0.159377</td>\n",
       "      <td>-0.010545</td>\n",
       "      <td>0.514533</td>\n",
       "      <td>-0.217079</td>\n",
       "      <td>-0.077357</td>\n",
       "      <td>-0.193533</td>\n",
       "    </tr>\n",
       "    <tr>\n",
       "      <th>#hawkerfood</th>\n",
       "      <td>-0.087568</td>\n",
       "      <td>-0.358053</td>\n",
       "      <td>-0.758197</td>\n",
       "      <td>-0.267679</td>\n",
       "      <td>0.033623</td>\n",
       "      <td>0.413672</td>\n",
       "      <td>0.316812</td>\n",
       "      <td>0.782221</td>\n",
       "      <td>0.278285</td>\n",
       "      <td>-0.142948</td>\n",
       "      <td>0.200718</td>\n",
       "      <td>0.470201</td>\n",
       "      <td>0.184882</td>\n",
       "      <td>0.116649</td>\n",
       "      <td>-0.256050</td>\n",
       "      <td>0.406531</td>\n",
       "      <td>0.638809</td>\n",
       "      <td>-0.331956</td>\n",
       "      <td>0.753280</td>\n",
       "      <td>-0.195123</td>\n",
       "    </tr>\n",
       "    <tr>\n",
       "      <th>#sgfood</th>\n",
       "      <td>0.201582</td>\n",
       "      <td>-0.760565</td>\n",
       "      <td>-0.631205</td>\n",
       "      <td>0.026616</td>\n",
       "      <td>0.236416</td>\n",
       "      <td>0.332584</td>\n",
       "      <td>-0.269419</td>\n",
       "      <td>0.224787</td>\n",
       "      <td>-0.347207</td>\n",
       "      <td>0.026237</td>\n",
       "      <td>0.618476</td>\n",
       "      <td>1.018802</td>\n",
       "      <td>-0.504003</td>\n",
       "      <td>0.218506</td>\n",
       "      <td>0.108897</td>\n",
       "      <td>0.684023</td>\n",
       "      <td>-0.192418</td>\n",
       "      <td>0.369810</td>\n",
       "      <td>0.522200</td>\n",
       "      <td>-0.512197</td>\n",
       "    </tr>\n",
       "    <tr>\n",
       "      <th>#hawkerfoodsg</th>\n",
       "      <td>0.234289</td>\n",
       "      <td>-0.418587</td>\n",
       "      <td>-1.145511</td>\n",
       "      <td>-0.395781</td>\n",
       "      <td>0.274420</td>\n",
       "      <td>-0.076992</td>\n",
       "      <td>0.007005</td>\n",
       "      <td>0.231066</td>\n",
       "      <td>-0.112920</td>\n",
       "      <td>-0.646784</td>\n",
       "      <td>0.747784</td>\n",
       "      <td>0.690799</td>\n",
       "      <td>-0.525070</td>\n",
       "      <td>0.188455</td>\n",
       "      <td>0.020390</td>\n",
       "      <td>0.297954</td>\n",
       "      <td>0.663459</td>\n",
       "      <td>0.115622</td>\n",
       "      <td>0.602854</td>\n",
       "      <td>-0.552952</td>\n",
       "    </tr>\n",
       "    <tr>\n",
       "      <th>#hawkerculture</th>\n",
       "      <td>0.903687</td>\n",
       "      <td>-0.579991</td>\n",
       "      <td>-0.566129</td>\n",
       "      <td>-0.519868</td>\n",
       "      <td>0.714406</td>\n",
       "      <td>-0.034764</td>\n",
       "      <td>-0.112108</td>\n",
       "      <td>0.392918</td>\n",
       "      <td>0.003182</td>\n",
       "      <td>-0.079409</td>\n",
       "      <td>-0.491818</td>\n",
       "      <td>0.224258</td>\n",
       "      <td>-0.494966</td>\n",
       "      <td>-0.326256</td>\n",
       "      <td>0.673653</td>\n",
       "      <td>0.076890</td>\n",
       "      <td>0.897546</td>\n",
       "      <td>-0.079822</td>\n",
       "      <td>0.220579</td>\n",
       "      <td>0.141154</td>\n",
       "    </tr>\n",
       "    <tr>\n",
       "      <th>...</th>\n",
       "      <td>...</td>\n",
       "      <td>...</td>\n",
       "      <td>...</td>\n",
       "      <td>...</td>\n",
       "      <td>...</td>\n",
       "      <td>...</td>\n",
       "      <td>...</td>\n",
       "      <td>...</td>\n",
       "      <td>...</td>\n",
       "      <td>...</td>\n",
       "      <td>...</td>\n",
       "      <td>...</td>\n",
       "      <td>...</td>\n",
       "      <td>...</td>\n",
       "      <td>...</td>\n",
       "      <td>...</td>\n",
       "      <td>...</td>\n",
       "      <td>...</td>\n",
       "      <td>...</td>\n",
       "      <td>...</td>\n",
       "    </tr>\n",
       "    <tr>\n",
       "      <th>#donburi</th>\n",
       "      <td>-0.124649</td>\n",
       "      <td>-0.110425</td>\n",
       "      <td>0.102686</td>\n",
       "      <td>-0.100214</td>\n",
       "      <td>0.149678</td>\n",
       "      <td>0.015962</td>\n",
       "      <td>-0.335696</td>\n",
       "      <td>0.433864</td>\n",
       "      <td>-0.026910</td>\n",
       "      <td>-0.245476</td>\n",
       "      <td>0.086766</td>\n",
       "      <td>0.911895</td>\n",
       "      <td>-0.552029</td>\n",
       "      <td>0.207881</td>\n",
       "      <td>0.158411</td>\n",
       "      <td>0.084018</td>\n",
       "      <td>-0.342830</td>\n",
       "      <td>0.303406</td>\n",
       "      <td>0.142031</td>\n",
       "      <td>-0.060186</td>\n",
       "    </tr>\n",
       "    <tr>\n",
       "      <th>#jurongpoint</th>\n",
       "      <td>0.135279</td>\n",
       "      <td>0.253842</td>\n",
       "      <td>0.020803</td>\n",
       "      <td>0.144889</td>\n",
       "      <td>-0.076419</td>\n",
       "      <td>-0.069084</td>\n",
       "      <td>-0.115464</td>\n",
       "      <td>1.000552</td>\n",
       "      <td>0.340592</td>\n",
       "      <td>0.017009</td>\n",
       "      <td>0.442484</td>\n",
       "      <td>0.044693</td>\n",
       "      <td>-0.093934</td>\n",
       "      <td>0.074682</td>\n",
       "      <td>0.227115</td>\n",
       "      <td>-0.019293</td>\n",
       "      <td>0.552050</td>\n",
       "      <td>0.285809</td>\n",
       "      <td>0.337756</td>\n",
       "      <td>0.182938</td>\n",
       "    </tr>\n",
       "    <tr>\n",
       "      <th>#veg_littledragon</th>\n",
       "      <td>0.446218</td>\n",
       "      <td>-0.233135</td>\n",
       "      <td>0.001591</td>\n",
       "      <td>-1.023076</td>\n",
       "      <td>-0.260733</td>\n",
       "      <td>-0.338440</td>\n",
       "      <td>-0.340911</td>\n",
       "      <td>0.538603</td>\n",
       "      <td>0.317904</td>\n",
       "      <td>0.515169</td>\n",
       "      <td>0.389587</td>\n",
       "      <td>1.112406</td>\n",
       "      <td>-0.117533</td>\n",
       "      <td>0.055184</td>\n",
       "      <td>-0.390496</td>\n",
       "      <td>0.004698</td>\n",
       "      <td>-0.082096</td>\n",
       "      <td>-0.106813</td>\n",
       "      <td>-0.137916</td>\n",
       "      <td>-0.379700</td>\n",
       "    </tr>\n",
       "    <tr>\n",
       "      <th>#boonlayplace</th>\n",
       "      <td>0.127608</td>\n",
       "      <td>-0.002456</td>\n",
       "      <td>0.114164</td>\n",
       "      <td>0.105075</td>\n",
       "      <td>-0.027901</td>\n",
       "      <td>0.003161</td>\n",
       "      <td>-0.103483</td>\n",
       "      <td>0.698350</td>\n",
       "      <td>0.222533</td>\n",
       "      <td>0.033213</td>\n",
       "      <td>0.252701</td>\n",
       "      <td>0.043968</td>\n",
       "      <td>-0.066202</td>\n",
       "      <td>0.082122</td>\n",
       "      <td>0.510892</td>\n",
       "      <td>0.120980</td>\n",
       "      <td>0.391795</td>\n",
       "      <td>0.387899</td>\n",
       "      <td>0.302420</td>\n",
       "      <td>-0.075724</td>\n",
       "    </tr>\n",
       "    <tr>\n",
       "      <th>#Hawkercentres</th>\n",
       "      <td>-0.010738</td>\n",
       "      <td>-0.230385</td>\n",
       "      <td>-0.038352</td>\n",
       "      <td>-0.049714</td>\n",
       "      <td>-0.176966</td>\n",
       "      <td>-0.029929</td>\n",
       "      <td>-0.473634</td>\n",
       "      <td>0.378915</td>\n",
       "      <td>-0.028496</td>\n",
       "      <td>-0.003084</td>\n",
       "      <td>0.492299</td>\n",
       "      <td>0.564289</td>\n",
       "      <td>-0.137741</td>\n",
       "      <td>0.295685</td>\n",
       "      <td>0.209990</td>\n",
       "      <td>0.076924</td>\n",
       "      <td>0.510847</td>\n",
       "      <td>-0.104981</td>\n",
       "      <td>0.004304</td>\n",
       "      <td>-0.073190</td>\n",
       "    </tr>\n",
       "  </tbody>\n",
       "</table>\n",
       "<p>1247 rows × 20 columns</p>\n",
       "</div>"
      ],
      "text/plain": [
       "                          0         1         2         3         4         5  \\\n",
       "#hawkerculturesg   0.231724 -0.438408  0.085082 -0.044601 -0.161880  0.230221   \n",
       "#hawkerfood       -0.087568 -0.358053 -0.758197 -0.267679  0.033623  0.413672   \n",
       "#sgfood            0.201582 -0.760565 -0.631205  0.026616  0.236416  0.332584   \n",
       "#hawkerfoodsg      0.234289 -0.418587 -1.145511 -0.395781  0.274420 -0.076992   \n",
       "#hawkerculture     0.903687 -0.579991 -0.566129 -0.519868  0.714406 -0.034764   \n",
       "...                     ...       ...       ...       ...       ...       ...   \n",
       "#donburi          -0.124649 -0.110425  0.102686 -0.100214  0.149678  0.015962   \n",
       "#jurongpoint       0.135279  0.253842  0.020803  0.144889 -0.076419 -0.069084   \n",
       "#veg_littledragon  0.446218 -0.233135  0.001591 -1.023076 -0.260733 -0.338440   \n",
       "#boonlayplace      0.127608 -0.002456  0.114164  0.105075 -0.027901  0.003161   \n",
       "#Hawkercentres    -0.010738 -0.230385 -0.038352 -0.049714 -0.176966 -0.029929   \n",
       "\n",
       "                          6         7         8         9        10        11  \\\n",
       "#hawkerculturesg  -0.312048  0.522622 -0.014925 -0.007604  0.310229  0.369819   \n",
       "#hawkerfood        0.316812  0.782221  0.278285 -0.142948  0.200718  0.470201   \n",
       "#sgfood           -0.269419  0.224787 -0.347207  0.026237  0.618476  1.018802   \n",
       "#hawkerfoodsg      0.007005  0.231066 -0.112920 -0.646784  0.747784  0.690799   \n",
       "#hawkerculture    -0.112108  0.392918  0.003182 -0.079409 -0.491818  0.224258   \n",
       "...                     ...       ...       ...       ...       ...       ...   \n",
       "#donburi          -0.335696  0.433864 -0.026910 -0.245476  0.086766  0.911895   \n",
       "#jurongpoint      -0.115464  1.000552  0.340592  0.017009  0.442484  0.044693   \n",
       "#veg_littledragon -0.340911  0.538603  0.317904  0.515169  0.389587  1.112406   \n",
       "#boonlayplace     -0.103483  0.698350  0.222533  0.033213  0.252701  0.043968   \n",
       "#Hawkercentres    -0.473634  0.378915 -0.028496 -0.003084  0.492299  0.564289   \n",
       "\n",
       "                         12        13        14        15        16        17  \\\n",
       "#hawkerculturesg  -0.230521  0.176492  0.159377 -0.010545  0.514533 -0.217079   \n",
       "#hawkerfood        0.184882  0.116649 -0.256050  0.406531  0.638809 -0.331956   \n",
       "#sgfood           -0.504003  0.218506  0.108897  0.684023 -0.192418  0.369810   \n",
       "#hawkerfoodsg     -0.525070  0.188455  0.020390  0.297954  0.663459  0.115622   \n",
       "#hawkerculture    -0.494966 -0.326256  0.673653  0.076890  0.897546 -0.079822   \n",
       "...                     ...       ...       ...       ...       ...       ...   \n",
       "#donburi          -0.552029  0.207881  0.158411  0.084018 -0.342830  0.303406   \n",
       "#jurongpoint      -0.093934  0.074682  0.227115 -0.019293  0.552050  0.285809   \n",
       "#veg_littledragon -0.117533  0.055184 -0.390496  0.004698 -0.082096 -0.106813   \n",
       "#boonlayplace     -0.066202  0.082122  0.510892  0.120980  0.391795  0.387899   \n",
       "#Hawkercentres    -0.137741  0.295685  0.209990  0.076924  0.510847 -0.104981   \n",
       "\n",
       "                         18        19  \n",
       "#hawkerculturesg  -0.077357 -0.193533  \n",
       "#hawkerfood        0.753280 -0.195123  \n",
       "#sgfood            0.522200 -0.512197  \n",
       "#hawkerfoodsg      0.602854 -0.552952  \n",
       "#hawkerculture     0.220579  0.141154  \n",
       "...                     ...       ...  \n",
       "#donburi           0.142031 -0.060186  \n",
       "#jurongpoint       0.337756  0.182938  \n",
       "#veg_littledragon -0.137916 -0.379700  \n",
       "#boonlayplace      0.302420 -0.075724  \n",
       "#Hawkercentres     0.004304 -0.073190  \n",
       "\n",
       "[1247 rows x 20 columns]"
      ]
     },
     "execution_count": 366,
     "metadata": {},
     "output_type": "execute_result"
    }
   ],
   "source": [
    "data_subset"
   ]
  },
  {
   "cell_type": "code",
   "execution_count": 367,
   "id": "b42d2157",
   "metadata": {},
   "outputs": [
    {
     "name": "stdout",
     "output_type": "stream",
     "text": [
      "[t-SNE] Computing 121 nearest neighbors...\n",
      "[t-SNE] Indexed 1247 samples in 0.001s...\n",
      "[t-SNE] Computed neighbors for 1247 samples in 0.048s...\n",
      "[t-SNE] Computed conditional probabilities for sample 1000 / 1247\n",
      "[t-SNE] Computed conditional probabilities for sample 1247 / 1247\n",
      "[t-SNE] Mean sigma: 0.791805\n",
      "[t-SNE] KL divergence after 250 iterations with early exaggeration: 67.901459\n",
      "[t-SNE] KL divergence after 300 iterations: 0.621208\n"
     ]
    }
   ],
   "source": [
    "tsne = TSNE(n_components=2, verbose=1, perplexity=40, n_iter=300, random_state=434)\n",
    "tsne_results = tsne.fit_transform(data_subset)"
   ]
  },
  {
   "cell_type": "code",
   "execution_count": 368,
   "id": "82606b44",
   "metadata": {},
   "outputs": [],
   "source": [
    "tsne_2d_one = tsne_results[:,0]\n",
    "tsne_2d_two = tsne_results[:,1]"
   ]
  },
  {
   "cell_type": "code",
   "execution_count": 369,
   "id": "8905ea65",
   "metadata": {},
   "outputs": [],
   "source": [
    "hashtags_list = list(node2vec_output.index)\n",
    "labels = node2vec_output[\"labels\"].to_list()"
   ]
  },
  {
   "cell_type": "code",
   "execution_count": 370,
   "id": "a322c3bc",
   "metadata": {},
   "outputs": [],
   "source": [
    "visualization_df = pd.DataFrame()"
   ]
  },
  {
   "cell_type": "code",
   "execution_count": 371,
   "id": "de9f59af",
   "metadata": {},
   "outputs": [],
   "source": [
    "visualization_df[\"one_d\"] = tsne_2d_one\n",
    "visualization_df[\"two_d\"] = tsne_2d_two\n",
    "visualization_df[\"label\"] = labels\n",
    "visualization_df[\"hashtags\"] = hashtags_list"
   ]
  },
  {
   "cell_type": "code",
   "execution_count": 372,
   "id": "6d465f94",
   "metadata": {},
   "outputs": [
    {
     "name": "stdout",
     "output_type": "stream",
     "text": [
      "<class 'pandas.core.frame.DataFrame'>\n",
      "RangeIndex: 1247 entries, 0 to 1246\n",
      "Data columns (total 4 columns):\n",
      " #   Column    Non-Null Count  Dtype  \n",
      "---  ------    --------------  -----  \n",
      " 0   one_d     1247 non-null   float32\n",
      " 1   two_d     1247 non-null   float32\n",
      " 2   label     1247 non-null   int64  \n",
      " 3   hashtags  1247 non-null   object \n",
      "dtypes: float32(2), int64(1), object(1)\n",
      "memory usage: 29.4+ KB\n"
     ]
    }
   ],
   "source": [
    "visualization_df.info()"
   ]
  },
  {
   "cell_type": "code",
   "execution_count": 373,
   "id": "62857801",
   "metadata": {},
   "outputs": [],
   "source": [
    "def num_to_string(num):\n",
    "    return str(num)\n",
    "visualization_df[\"label\"] = visualization_df[\"label\"].apply(num_to_string) "
   ]
  },
  {
   "cell_type": "code",
   "execution_count": 374,
   "id": "4940f007",
   "metadata": {},
   "outputs": [],
   "source": [
    "average_likes = []\n",
    "for _,row in visualization_df.iterrows():\n",
    "    hashtag = row[\"hashtags\"]\n",
    "    try:\n",
    "        if int(hashtag_avg_likes_dict[hashtag])<1:\n",
    "            average_likes.append(1)\n",
    "        else:\n",
    "            average_likes.append(int(hashtag_avg_likes_dict[hashtag]))\n",
    "    except:\n",
    "        average_likes.append(1)\n",
    "visualization_df[\"average_likes\"] = average_likes"
   ]
  },
  {
   "cell_type": "code",
   "execution_count": 375,
   "id": "17a7422b",
   "metadata": {},
   "outputs": [
    {
     "data": {
      "text/plain": [
       "-1    460\n",
       "7     288\n",
       "4     163\n",
       "6     125\n",
       "0     107\n",
       "2      43\n",
       "3      32\n",
       "1      29\n",
       "Name: label, dtype: int64"
      ]
     },
     "execution_count": 375,
     "metadata": {},
     "output_type": "execute_result"
    }
   ],
   "source": [
    "visualization_df[\"label\"].value_counts()"
   ]
  },
  {
   "cell_type": "code",
   "execution_count": 376,
   "id": "e97ecd8a",
   "metadata": {},
   "outputs": [
    {
     "data": {
      "application/vnd.plotly.v1+json": {
       "config": {
        "plotlyServerURL": "https://plot.ly"
       },
       "data": [
        {
         "customdata": [
          [
           "#hawkerculturesg"
          ],
          [
           "#hawkerfood"
          ],
          [
           "#sgfood"
          ],
          [
           "#hawkerfoodsg"
          ],
          [
           "#sgfoodie"
          ],
          [
           "#sgfoodies"
          ],
          [
           "#sgeats"
          ],
          [
           "#sghawkerfood"
          ],
          [
           "#supportlocalsg"
          ],
          [
           "#sgfoodblogger"
          ],
          [
           "#sgfooddiary"
          ],
          [
           "#instafood"
          ],
          [
           "#sgfoodtrend"
          ],
          [
           "#sgfoodporn"
          ],
          [
           "#foodiesg"
          ],
          [
           "#instafoodsg"
          ],
          [
           "#whati8today"
          ],
          [
           "#sgfoodstagram"
          ],
          [
           "#sgfoodlover"
          ],
          [
           "#eatoutsg"
          ],
          [
           "#igsg"
          ],
          [
           "#locateats"
          ],
          [
           "#burpplesg"
          ],
          [
           "#localjiak"
          ],
          [
           "#sgigfood"
          ],
          [
           "#sgfoodpic"
          ],
          [
           "#sghawkers"
          ],
          [
           "#carrotcake"
          ],
          [
           "#eatbooksg"
          ],
          [
           "#wantonmee"
          ],
          [
           "#comfortfood"
          ],
          [
           "#foodsg"
          ],
          [
           "#foodiesofinstagram"
          ],
          [
           "#bakchormee"
          ],
          [
           "#shiokfoodfind"
          ],
          [
           "#sginstagram"
          ],
          [
           "#lunch"
          ],
          [
           "#globaleats"
          ],
          [
           "#jiaklocal"
          ],
          [
           "#instadaily"
          ],
          [
           "#supporthawkersg"
          ],
          [
           "#michelinguide"
          ],
          [
           "#byo"
          ],
          [
           "#eatsg"
          ],
          [
           "#fooddiarysg"
          ],
          [
           "#byosg"
          ],
          [
           "#foodlover"
          ],
          [
           "#byocontainer"
          ],
          [
           "#reusablenotdisposable"
          ],
          [
           "#byoc"
          ],
          [
           "#goldenmilefoodcentre"
          ],
          [
           "#yongtaufoo"
          ],
          [
           "#lunchtime"
          ],
          [
           "#amkfood"
          ],
          [
           "#foodiesinternationalchat"
          ],
          [
           "#supportlocalbusiness"
          ],
          [
           "#sgigfoodies"
          ],
          [
           "#sgfoodiegram"
          ],
          [
           "#dabaosg"
          ],
          [
           "#sgfoodphotography"
          ],
          [
           "#coffee"
          ],
          [
           "#thefoodieinitiative"
          ],
          [
           "#printmaker"
          ],
          [
           "#toyinstagra"
          ],
          [
           "#printmaking"
          ],
          [
           "#cameraeatsfirst"
          ],
          [
           "#玩具攝影"
          ],
          [
           "#linocutting"
          ],
          [
           "#instagramsg"
          ],
          [
           "#printstudio"
          ],
          [
           "#lino"
          ],
          [
           "#linoleumprint"
          ],
          [
           "#michelinsg"
          ],
          [
           "#printmakingart"
          ],
          [
           "#sgigers"
          ],
          [
           "#fooddeliverysg"
          ],
          [
           "#相機先食"
          ],
          [
           "#exploresingaporeeat"
          ],
          [
           "#hillstreettaihwaporknoodle"
          ],
          [
           "#linoprint"
          ],
          [
           "#honglimfoodcentre"
          ],
          [
           "#linoprinting"
          ],
          [
           "#sgfoodunion"
          ],
          [
           "#linocutprint"
          ],
          [
           "#wontonmee"
          ],
          [
           "#print"
          ],
          [
           "#sgheritage"
          ],
          [
           "#yummy"
          ],
          [
           "#printmakingstudio"
          ],
          [
           "#prints"
          ],
          [
           "#jiaksimipng"
          ],
          [
           "#linocut"
          ],
          [
           "#breakfast"
          ],
          [
           "#sgfoodreview"
          ],
          [
           "#localdelights"
          ],
          [
           "#cranfieldcolours"
          ],
          [
           "#awagamipaper"
          ],
          [
           "#ironfrogpress"
          ],
          [
           "#zerowaste"
          ],
          [
           "#awagami"
          ],
          [
           "#wheretodapao"
          ],
          [
           "#BYOsuccess"
          ],
          [
           "#friedcarrotcake"
          ],
          [
           "#noplastic"
          ],
          [
           "#reuserevolution"
          ],
          [
           "#减塑生活"
          ],
          [
           "#hawkerfare"
          ],
          [
           "#無痕飲食"
          ],
          [
           "#sgfoodshares"
          ],
          [
           "#環境問題"
          ],
          [
           "#whatieatforlunch"
          ],
          [
           "#zerowastelifestyle"
          ],
          [
           "#internationalfoodieschat"
          ],
          [
           "#foodtogo"
          ],
          [
           "#foodstamping"
          ],
          [
           "#pngkueh"
          ],
          [
           "#durian"
          ],
          [
           "#sgfoodieparadise"
          ],
          [
           "#friedoysters"
          ],
          [
           "#refuseplastic"
          ],
          [
           "#不塑之客"
          ],
          [
           "#foodpicture"
          ],
          [
           "#dinner"
          ],
          [
           "#ecofriendlyliving"
          ],
          [
           "#蚝煎🍳"
          ],
          [
           "#sustainablelivingsg"
          ],
          [
           "#drybanmian"
          ],
          [
           "#brandcodes"
          ],
          [
           "#8dayseatout"
          ],
          [
           "#drybanmee"
          ],
          [
           "#蚝煎"
          ],
          [
           "#packagefree"
          ],
          [
           "#tomyumdrybanmian"
          ],
          [
           "#sghawkereats"
          ],
          [
           "#korilakkuma"
          ],
          [
           "#banmian"
          ],
          [
           "#スティッチ"
          ],
          [
           "#oysterlover"
          ],
          [
           "#oysterlovers"
          ],
          [
           "#foodiesoninstagram"
          ],
          [
           "#tomyum"
          ],
          [
           "#localdelicacy"
          ],
          [
           "#angkukueh"
          ],
          [
           "#sgfoodgram"
          ],
          [
           "#sghawkerfare"
          ],
          [
           "#localfoodsg"
          ],
          [
           "#コリラックマ"
          ],
          [
           "#xhhawker"
          ],
          [
           "#lunchtimesg"
          ],
          [
           "#松弛熊"
          ],
          [
           "#friedoyster"
          ],
          [
           "#tomyumdry"
          ],
          [
           "#sgfoodpics"
          ],
          [
           "#movingplates"
          ],
          [
           "#sghawkerfest"
          ],
          [
           "#jrecollectionfood"
          ],
          [
           "#zionriverside"
          ],
          [
           "#nosingleuseplastic"
          ],
          [
           "#banmee"
          ],
          [
           "#byosingapore"
          ],
          [
           "#foodpictures"
          ],
          [
           "#sgfoodshare"
          ],
          [
           "#sglocaleats"
          ],
          [
           "#stfoodtrending"
          ],
          [
           "#星際寶貝"
          ],
          [
           "#sgloklok"
          ],
          [
           "#kiiroitori"
          ],
          [
           "#foodpic"
          ],
          [
           "#sustainablesg"
          ],
          [
           "#LokLokKingSg"
          ],
          [
           "#foodreviewssg"
          ],
          [
           "#discoverunder10k."
          ],
          [
           "#ecofriendly"
          ],
          [
           "#igdaily"
          ],
          [
           "#01-26"
          ],
          [
           "#loklok"
          ],
          [
           "#charkwayteow"
          ],
          [
           "#リラックマ"
          ],
          [
           "#mooping"
          ],
          [
           "#Singaporeinsiders"
          ],
          [
           "#ibringmyownsg"
          ],
          [
           "#キイロイトリ"
          ],
          [
           "#sgvegetarian"
          ],
          [
           "#sgigfoodporn"
          ],
          [
           "#sgtastebud"
          ],
          [
           "#LokLokKing"
          ],
          [
           "#yishuneats"
          ],
          [
           "#laksa"
          ],
          [
           "#popiah"
          ],
          [
           "#rilakkuma"
          ],
          [
           "#sgffxhawkerpicks"
          ],
          [
           "#foodvibes"
          ],
          [
           "#xpphawker"
          ],
          [
           "#streetfoodsg"
          ],
          [
           "#malaysiastreetfood"
          ],
          [
           "#siobak"
          ],
          [
           "#yishunfood"
          ],
          [
           "#thefoodiesinitiative"
          ],
          [
           "#mediainvite"
          ],
          [
           "#channelnewsasia"
          ],
          [
           "#taiwanesefood"
          ],
          [
           "#kekoumian"
          ],
          [
           "#米其林一星"
          ],
          [
           "#blessed"
          ],
          [
           "#01-13"
          ],
          [
           "#beefbrisketnoodle"
          ],
          [
           "#roastmeat"
          ],
          [
           "#chefkin"
          ],
          [
           "#oldschooltaste"
          ],
          [
           "#charsiew"
          ],
          [
           "#charkwayteowsg"
          ],
          [
           "#maruhachi"
          ],
          [
           "#koungwantonmee"
          ],
          [
           "#porridgesg"
          ],
          [
           "#yishun"
          ],
          [
           "#sembawang"
          ],
          [
           "#geylang"
          ],
          [
           "#janggutlaksa"
          ],
          [
           "#sgvegetarians"
          ],
          [
           "#yourdailynibbles"
          ],
          [
           "#brunch"
          ],
          [
           "#supporthawkerfood"
          ],
          [
           "#tonkatsu"
          ],
          [
           "#eatingfortheinsta"
          ],
          [
           "#sgfoodblog"
          ],
          [
           "#indulgence"
          ],
          [
           "#cafesg"
          ],
          [
           "#cafefood"
          ],
          [
           "#eat3bowlssg"
          ],
          [
           "#nyonyafusion"
          ],
          [
           "#seafoodhorfun"
          ],
          [
           "#stayhomestaysafe🏠"
          ],
          [
           "#otah"
          ],
          [
           "#yapkeewantonmee"
          ],
          [
           "#greatcatchup"
          ],
          [
           "#zicharsg"
          ],
          [
           "#softboiledeggs"
          ],
          [
           "#zichardinner"
          ],
          [
           "#tanglinhalttraditionalpeanutpancake"
          ],
          [
           "#luruofan"
          ],
          [
           "#kayabuttertoast"
          ],
          [
           "#saltedbeanpancake"
          ],
          [
           "#peanutpancake"
          ],
          [
           "#01-235,"
          ],
          [
           "#jixiangangkukueh"
          ],
          [
           "#chillicrab🦀"
          ],
          [
           "#tanglinhaltfoodcentre"
          ],
          [
           "#coworkingkitchen"
          ],
          [
           "#michiamkueh"
          ],
          [
           "#bubbletea"
          ],
          [
           "#sgheritagefood"
          ],
          [
           "#fruitsrojak"
          ],
          [
           "#changicitypoint_sg"
          ],
          [
           "#chillicrabs"
          ],
          [
           "#worththecalories"
          ],
          [
           "#sgblogger"
          ],
          [
           "#limkopi"
          ],
          [
           "#吉祥红龟粿"
          ],
          [
           "#yummydinner"
          ],
          [
           "#红龟粿"
          ],
          [
           "#staypositive💯"
          ],
          [
           "#thankful"
          ],
          [
           "#lifangcongee"
          ],
          [
           "#kinexmallsg"
          ],
          [
           "#whati8todaysg"
          ],
          [
           "#oystermeesua蚵仔面线"
          ],
          [
           "#timsum点心"
          ],
          [
           "#claypotcurrychicken"
          ],
          [
           "#meepokdry"
          ],
          [
           "#fishandchips"
          ],
          [
           "#plqmall"
          ],
          [
           "#tabaolunch"
          ],
          [
           "#ahmachimian"
          ],
          [
           "#westernfood"
          ],
          [
           "#braisedduck"
          ],
          [
           "#yummylunch"
          ],
          [
           "#newtonfoodcentre"
          ],
          [
           "#yongtaufoodry"
          ],
          [
           "#P2HA"
          ],
          [
           "#lixinteochewfishballnoodle"
          ],
          [
           "#longtimenoeat"
          ],
          [
           "#grabfood"
          ],
          [
           "#GrabforGood"
          ],
          [
           "#Grab50thHawkerCentre"
          ],
          [
           "#"
          ],
          [
           "#sgclean"
          ],
          [
           "#hokkienprawnmee"
          ],
          [
           "#veg_littledragon"
          ]
         ],
         "hovertemplate": "label=7<br>one_d=%{x}<br>two_d=%{y}<br>average_likes=%{marker.size}<br>hashtags=%{customdata[0]}<extra></extra>",
         "legendgroup": "7",
         "marker": {
          "color": "#636efa",
          "size": [
           47,
           43,
           54,
           53,
           41,
           57,
           50,
           49,
           67,
           70,
           37,
           42,
           66,
           40,
           88,
           76,
           68,
           67,
           145,
           164,
           81,
           46,
           138,
           45,
           193,
           44,
           68,
           70,
           198,
           91,
           39,
           219,
           127,
           50,
           79,
           95,
           70,
           253,
           232,
           160,
           61,
           40,
           51,
           47,
           51,
           95,
           124,
           95,
           95,
           91,
           107,
           60,
           62,
           78,
           259,
           159,
           109,
           151,
           64,
           116,
           66,
           277,
           58,
           53,
           58,
           53,
           53,
           58,
           53,
           58,
           59,
           58,
           53,
           58,
           53,
           223,
           53,
           53,
           53,
           62,
           41,
           58,
           53,
           62,
           55,
           58,
           31,
           45,
           58,
           58,
           232,
           62,
           36,
           145,
           49,
           64,
           64,
           61,
           83,
           65,
           38,
           83,
           123,
           83,
           83,
           83,
           145,
           83,
           54,
           83,
           50,
           83,
           83,
           83,
           47,
           30,
           90,
           38,
           54,
           83,
           83,
           54,
           47,
           83,
           54,
           83,
           38,
           32,
           47,
           38,
           54,
           83,
           38,
           38,
           66,
           38,
           47,
           54,
           54,
           54,
           38,
           47,
           30,
           54,
           38,
           108,
           66,
           47,
           108,
           66,
           54,
           38,
           54,
           57,
           38,
           54,
           238,
           108,
           38,
           108,
           54,
           54,
           43,
           171,
           47,
           171,
           66,
           54,
           108,
           171,
           108,
           194,
           108,
           108,
           238,
           171,
           210,
           66,
           171,
           171,
           108,
           66,
           41,
           194,
           194,
           171,
           270,
           57,
           108,
           66,
           171,
           194,
           48,
           171,
           171,
           30,
           255,
           149,
           194,
           88,
           50,
           270,
           48,
           42,
           149,
           255,
           30,
           255,
           50,
           30,
           149,
           341,
           289,
           270,
           270,
           341,
           289,
           57,
           36,
           36,
           41,
           36,
           341,
           40,
           36,
           41,
           41,
           41,
           53,
           48,
           51,
           49,
           57,
           40,
           52,
           41,
           56,
           32,
           49,
           53,
           56,
           49,
           49,
           255,
           49,
           32,
           49,
           48,
           49,
           53,
           49,
           49,
           58,
           32,
           36,
           255,
           56,
           49,
           41,
           49,
           49,
           52,
           41,
           41,
           255,
           44,
           44,
           50,
           46,
           38,
           38,
           43,
           45,
           38,
           62,
           43,
           38,
           49,
           43,
           42,
           38,
           275,
           275,
           275,
           107,
           30,
           51,
           46
          ],
          "sizemode": "area",
          "sizeref": 1.095,
          "symbol": "circle"
         },
         "mode": "markers",
         "name": "7",
         "showlegend": true,
         "type": "scattergl",
         "x": [
          3.568948268890381,
          3.5234463214874268,
          2.1434881687164307,
          2.3749442100524902,
          1.9466986656188965,
          -1.1149097681045532,
          -0.6496114730834961,
          0.1418457329273224,
          -5.4506683349609375,
          -1.6759426593780518,
          -1.7178932428359985,
          2.2008118629455566,
          -1.6608963012695312,
          -1.5594390630722046,
          1.614833116531372,
          1.6070234775543213,
          -14.770123481750488,
          -13.680684089660645,
          -12.159782409667969,
          -8.178003311157227,
          -18.469017028808594,
          5.541039943695068,
          -7.031244277954102,
          5.559603691101074,
          -9.193500518798828,
          -3.4625837802886963,
          4.249933242797852,
          5.714158535003662,
          -7.33070707321167,
          -6.641047954559326,
          5.148911952972412,
          -9.186591148376465,
          -17.1113224029541,
          -18.11988639831543,
          -17.691951751708984,
          -19.01970100402832,
          3.0904736518859863,
          -9.126443862915039,
          -7.6013503074646,
          -4.320115566253662,
          4.781267166137695,
          -18.510986328125,
          -13.027009010314941,
          5.07086181640625,
          4.649692058563232,
          -11.8006010055542,
          -11.636579513549805,
          -11.782483100891113,
          -11.849611282348633,
          -11.866004943847656,
          -5.53464937210083,
          -17.964353561401367,
          -11.718271255493164,
          -6.758749485015869,
          -8.25277042388916,
          -4.094417572021484,
          4.646342754364014,
          -11.5490140914917,
          -12.616835594177246,
          -3.875077962875366,
          13.173959732055664,
          -8.343735694885254,
          13.56227970123291,
          -19.444385528564453,
          13.524036407470703,
          -19.253215789794922,
          -19.240413665771484,
          13.632118225097656,
          -19.224802017211914,
          13.724096298217773,
          13.533899307250977,
          13.756032943725586,
          -19.317995071411133,
          13.533297538757324,
          -19.2016544342041,
          -17.58283805847168,
          -19.31631088256836,
          -19.40007972717285,
          -19.261093139648438,
          13.461867332458496,
          -11.914451599121094,
          13.701606750488281,
          -19.27841567993164,
          13.493857383728027,
          -0.636803925037384,
          13.685418128967285,
          6.36225700378418,
          4.1771674156188965,
          13.584589958190918,
          13.608717918395996,
          -8.286332130432129,
          13.531466484069824,
          1.884866714477539,
          -3.444793939590454,
          4.611395835876465,
          13.84285831451416,
          13.868597030639648,
          13.744654655456543,
          -12.480520248413086,
          13.839631080627441,
          -6.26415491104126,
          -12.507591247558594,
          -8.099833488464355,
          -12.47789478302002,
          -12.587971687316895,
          -12.503517150878906,
          1.1082755327224731,
          -12.501102447509766,
          -12.217738151550293,
          -12.5459623336792,
          4.463921070098877,
          -12.520021438598633,
          -12.516592025756836,
          -12.499726295471191,
          -18.992300033569336,
          13.635947227478027,
          13.816655158996582,
          4.590554237365723,
          -12.237181663513184,
          -12.555672645568848,
          -12.511054992675781,
          -12.2306547164917,
          4.132903099060059,
          -12.496443748474121,
          -12.234063148498535,
          -12.604795455932617,
          4.6024489402771,
          13.932095527648926,
          -18.983318328857422,
          4.587456703186035,
          -12.24724006652832,
          -12.50855827331543,
          4.6059370040893555,
          4.5864667892456055,
          -19.610445022583008,
          4.589754581451416,
          -18.979206085205078,
          -12.234471321105957,
          -12.237061500549316,
          -12.249868392944336,
          4.5979180335998535,
          -19.078495025634766,
          3.8596272468566895,
          -12.205960273742676,
          4.58963680267334,
          -11.122660636901855,
          -19.646608352661133,
          -19.07762908935547,
          -11.15721321105957,
          -19.59569549560547,
          -12.223673820495605,
          4.604272365570068,
          -12.275615692138672,
          13.897308349609375,
          4.593212127685547,
          -12.229002952575684,
          -8.374191284179688,
          -11.134052276611328,
          4.584474086761475,
          -11.211407661437988,
          -12.198868751525879,
          -12.237846374511719,
          4.574732780456543,
          -17.446287155151367,
          -18.88178825378418,
          -17.441816329956055,
          -19.58271026611328,
          -12.229186058044434,
          -11.17247200012207,
          -17.461240768432617,
          -11.183398246765137,
          -4.198063373565674,
          -11.193780899047852,
          -11.165953636169434,
          -8.49024772644043,
          -17.450843811035156,
          -7.684160232543945,
          -19.556739807128906,
          -17.44852066040039,
          -17.44788932800293,
          -11.193102836608887,
          -19.64765167236328,
          2.1703717708587646,
          -4.213404655456543,
          -4.240311622619629,
          -17.43842887878418,
          -7.910175323486328,
          4.445169925689697,
          -11.203143119812012,
          -19.562856674194336,
          -17.439788818359375,
          -4.182956218719482,
          -19.078771591186523,
          -17.480695724487305,
          -17.444883346557617,
          -3.8762831687927246,
          -8.062278747558594,
          -7.928697109222412,
          -4.215958595275879,
          13.519023895263672,
          3.7334940433502197,
          -8.116726875305176,
          -18.925630569458008,
          3.1572232246398926,
          -7.836810111999512,
          -8.097002029418945,
          -4.373777389526367,
          -7.950046539306641,
          3.354825496673584,
          -4.42915153503418,
          -7.910061359405518,
          -8.215265274047852,
          -8.166266441345215,
          -7.986794948577881,
          -7.971381187438965,
          -8.06832504272461,
          -8.097651481628418,
          4.424155235290527,
          2.15677547454834,
          2.1408531665802,
          4.704644680023193,
          2.150822162628174,
          -8.156983375549316,
          -6.329366683959961,
          2.1504404544830322,
          4.84241247177124,
          4.908725261688232,
          4.786266326904297,
          3.570594072341919,
          8.01545524597168,
          4.50547456741333,
          4.154587268829346,
          4.185054779052734,
          -6.336777687072754,
          3.4728312492370605,
          2.954700469970703,
          3.641284942626953,
          2.946611166000366,
          14.182374954223633,
          3.5081796646118164,
          3.593895673751831,
          14.172754287719727,
          14.212739944458008,
          -3.841024398803711,
          4.272363185882568,
          2.876469373703003,
          14.173683166503906,
          8.016247749328613,
          14.207332611083984,
          3.4574875831604004,
          14.158748626708984,
          4.1553826332092285,
          4.1650309562683105,
          3.090988874435425,
          2.8184304237365723,
          -3.9048614501953125,
          3.692164659500122,
          4.203545570373535,
          4.108036041259766,
          4.213239669799805,
          4.027856826782227,
          3.564723014831543,
          4.07929801940918,
          4.083896160125732,
          -3.8729300498962402,
          3.9949541091918945,
          3.916957139968872,
          3.0602192878723145,
          3.8730952739715576,
          3.787958860397339,
          3.9182112216949463,
          3.0076522827148438,
          3.1044654846191406,
          2.8262853622436523,
          3.5867552757263184,
          2.763439655303955,
          0.26046594977378845,
          3.043693780899048,
          3.0134899616241455,
          3.3409805297851562,
          2.6696648597717285,
          -0.2610257863998413,
          -0.25170189142227173,
          -0.24557185173034668,
          3.9008240699768066,
          3.9201412200927734,
          0.2496797889471054,
          2.2292137145996094
         ],
         "xaxis": "x",
         "y": [
          0.6695083379745483,
          0.6358552575111389,
          -4.30745792388916,
          -3.932431936264038,
          -4.447680473327637,
          -3.996466636657715,
          -4.399697303771973,
          -4.592288970947266,
          0.7870861291885376,
          -3.2156691551208496,
          -3.080583333969116,
          -14.501815795898438,
          -3.1866049766540527,
          -3.222158670425415,
          -13.985891342163086,
          -13.86076831817627,
          -6.406294345855713,
          -0.7159712910652161,
          -12.896303176879883,
          -9.408929824829102,
          -2.6908938884735107,
          -13.646926879882812,
          -11.90812873840332,
          -13.649493217468262,
          -10.476491928100586,
          -6.31089973449707,
          9.65092945098877,
          4.225389003753662,
          -9.982772827148438,
          -9.016878128051758,
          -12.125176429748535,
          -11.850796699523926,
          -0.49825233221054077,
          -0.8303133845329285,
          8.06507682800293,
          0.505060613155365,
          -18.061100006103516,
          -11.766178131103516,
          -11.128907203674316,
          4.072915554046631,
          1.7886158227920532,
          -0.6875598430633545,
          -15.661221504211426,
          -15.161615371704102,
          -14.876815795898438,
          -14.585247039794922,
          -1.9250314235687256,
          -14.570690155029297,
          -14.641202926635742,
          -14.67089557647705,
          -8.717082977294922,
          10.528433799743652,
          -16.056522369384766,
          -10.87868881225586,
          -10.639458656311035,
          3.47442889213562,
          2.8237686157226562,
          -13.076964378356934,
          -16.159351348876953,
          2.7137014865875244,
          8.365121841430664,
          -10.726678848266602,
          9.242707252502441,
          -0.6189377903938293,
          9.32483959197998,
          -0.4805956184864044,
          -0.5897789001464844,
          9.15160846710205,
          -0.8527759313583374,
          9.282722473144531,
          9.289530754089355,
          9.197492599487305,
          -0.5003204345703125,
          9.141104698181152,
          -0.8021566867828369,
          6.998834609985352,
          -0.4647892713546753,
          -0.5130172967910767,
          -0.6392310261726379,
          9.328784942626953,
          1.312028408050537,
          9.215753555297852,
          -0.6495700478553772,
          9.15630054473877,
          -17.98914909362793,
          9.384592056274414,
          -6.62444543838501,
          -14.816512107849121,
          9.195090293884277,
          9.180707931518555,
          -10.800932884216309,
          9.136499404907227,
          -9.580187797546387,
          3.231482744216919,
          -14.820781707763672,
          8.968807220458984,
          8.989616394042969,
          9.116281509399414,
          -15.55949592590332,
          8.997228622436523,
          -6.566590785980225,
          -15.500993728637695,
          -11.165471076965332,
          -15.520956039428711,
          -15.54307746887207,
          -15.51827621459961,
          -8.717822074890137,
          -15.552743911743164,
          -2.1680166721343994,
          -15.596403121948242,
          -14.439122200012207,
          -15.560726165771484,
          -15.49522590637207,
          -15.477048873901367,
          -0.43212854862213135,
          9.407610893249512,
          9.476499557495117,
          -1.5351999998092651,
          -2.155931234359741,
          -15.509136199951172,
          -15.562331199645996,
          -2.1847524642944336,
          -13.526531219482422,
          -15.528498649597168,
          -2.1866910457611084,
          -15.439066886901855,
          -1.5398280620574951,
          9.077712059020996,
          -0.5245831608772278,
          -1.5078788995742798,
          -2.1668248176574707,
          -15.535965919494629,
          -1.5401021242141724,
          -1.522214651107788,
          -0.7670584321022034,
          -1.5194876194000244,
          -0.6371682286262512,
          -2.183717966079712,
          -2.179675817489624,
          -2.1815428733825684,
          -1.5270328521728516,
          -0.6643244028091431,
          -10.22767448425293,
          -2.1663031578063965,
          -1.5391596555709839,
          -13.762455940246582,
          -0.8944247364997864,
          -0.8170115351676941,
          -13.76784896850586,
          -0.9194653630256653,
          -2.191533088684082,
          -1.5426528453826904,
          -2.146221876144409,
          9.243754386901855,
          -1.5266754627227783,
          -2.179486036300659,
          -10.867297172546387,
          -13.754453659057617,
          -1.5061885118484497,
          -13.802157402038574,
          -2.1723873615264893,
          -2.170170545578003,
          -13.837024688720703,
          7.308884620666504,
          -0.6164089441299438,
          7.321500301361084,
          -0.8607637286186218,
          -2.1783289909362793,
          -13.786540031433105,
          7.295914649963379,
          -13.780618667602539,
          3.2457571029663086,
          -13.808692932128906,
          -13.782430648803711,
          -10.823915481567383,
          7.331671237945557,
          -10.710853576660156,
          -0.9729818105697632,
          7.339941501617432,
          7.333048343658447,
          -13.842490196228027,
          -0.8570219278335571,
          -2.0259850025177,
          3.2667601108551025,
          3.2657105922698975,
          7.2985639572143555,
          -10.736366271972656,
          -14.74738597869873,
          -13.774051666259766,
          -0.8102381825447083,
          7.329322814941406,
          3.256366729736328,
          -0.29644352197647095,
          7.349002838134766,
          7.345034122467041,
          -2.019127130508423,
          -10.420918464660645,
          -10.483501434326172,
          3.278956890106201,
          9.463409423828125,
          -14.681621551513672,
          -10.458858489990234,
          -0.3551087975502014,
          -13.440400123596191,
          -10.547737121582031,
          -10.43737506866455,
          -1.6880159378051758,
          -10.435094833374023,
          -11.708704948425293,
          -1.7769420146942139,
          -10.537497520446777,
          -10.35224723815918,
          -10.355448722839355,
          -10.534330368041992,
          -10.634803771972656,
          -10.47403335571289,
          -10.535512924194336,
          -14.354931831359863,
          -2.0240671634674072,
          -2.016221284866333,
          -13.199935913085938,
          -2.0179502964019775,
          -10.385781288146973,
          -6.850872039794922,
          -2.014016628265381,
          -13.180670738220215,
          -13.206110000610352,
          -13.208404541015625,
          -14.626108169555664,
          -8.742134094238281,
          -14.011817932128906,
          -14.17947769165039,
          -14.32330322265625,
          -6.8331298828125,
          -13.621828079223633,
          -12.945009231567383,
          -11.65200138092041,
          -13.081963539123535,
          -5.848682403564453,
          -14.683550834655762,
          -11.644750595092773,
          -5.841657638549805,
          -5.861353397369385,
          3.562051773071289,
          -11.322449684143066,
          -12.97653865814209,
          -5.838256359100342,
          -8.729466438293457,
          -5.849110126495361,
          -14.3046875,
          -5.830704212188721,
          -14.173151969909668,
          -14.710346221923828,
          -13.295679092407227,
          -13.681281089782715,
          3.554741859436035,
          -11.686518669128418,
          -11.458475112915039,
          -12.412671089172363,
          -11.276124954223633,
          -14.211214065551758,
          -13.476583480834961,
          -12.443747520446777,
          -12.613086700439453,
          3.543940782546997,
          -12.37575626373291,
          -12.257784843444824,
          -13.376545906066895,
          -12.996427536010742,
          -12.4937744140625,
          -12.60118293762207,
          -12.859431266784668,
          -12.109041213989258,
          -13.509040832519531,
          -13.83422565460205,
          -12.962630271911621,
          -3.242640972137451,
          -12.680060386657715,
          -12.847602844238281,
          -12.887099266052246,
          -13.0084810256958,
          3.527017593383789,
          3.5369300842285156,
          3.5343055725097656,
          9.875077247619629,
          9.850279808044434,
          -3.254601240158081,
          -2.0197932720184326
         ],
         "yaxis": "y"
        },
        {
         "customdata": [
          [
           "#hawkerculture"
          ],
          [
           "#singaporefood"
          ],
          [
           "#foodporn"
          ],
          [
           "#foodie"
          ],
          [
           "#foodstagram"
          ],
          [
           "#singapore"
          ],
          [
           "#food"
          ],
          [
           "#foodphotography"
          ],
          [
           "#sgfoodhunt"
          ],
          [
           "#supportsmallbusiness"
          ],
          [
           "#chickenrice"
          ],
          [
           "#foodpics"
          ],
          [
           "#8dayseat"
          ],
          [
           "#foodies"
          ],
          [
           "#foodblogger"
          ],
          [
           "#noodles"
          ],
          [
           "#igfood"
          ],
          [
           "#sginfluencer"
          ],
          [
           "#foodgasm"
          ],
          [
           "#singapore🇸🇬"
          ],
          [
           "#sgcafe"
          ],
          [
           "#fishballnoodles"
          ],
          [
           "#foodgram"
          ],
          [
           "#foodshare"
          ],
          [
           "#meepok"
          ],
          [
           "#foodcoma"
          ],
          [
           "#sgrestaurant"
          ],
          [
           "#delicious"
          ],
          [
           "#yummyfood"
          ],
          [
           "#foodinsg"
          ],
          [
           "#friedchickenwings"
          ],
          [
           "#foodstylist"
          ],
          [
           "#instafoodie"
          ],
          [
           "#sgdaily"
          ],
          [
           "#travel"
          ],
          [
           "#sg"
          ],
          [
           "#travelphotography"
          ],
          [
           "#foodspotting"
          ],
          [
           "#chinesefood"
          ],
          [
           "#chicken"
          ],
          [
           "#zichar"
          ],
          [
           "#prawnnoodles"
          ],
          [
           "#foodpornsg"
          ],
          [
           "#chinese"
          ],
          [
           "#japanesefood"
          ],
          [
           "#tiongbahru"
          ],
          [
           "#porridge"
          ],
          [
           "#foodart"
          ],
          [
           "#zicharfood"
          ],
          [
           "#travelblogger"
          ],
          [
           "#foodstyling"
          ],
          [
           "#traveladdict"
          ],
          [
           "#菜头粿"
          ],
          [
           "#koreanfood"
          ],
          [
           "#foodlovers"
          ],
          [
           "#phase2"
          ],
          [
           "#meerebus"
          ],
          [
           "#foodheaven"
          ],
          [
           "#foodblog"
          ],
          [
           "#korea"
          ],
          [
           "#curry"
          ],
          [
           "#SingaporeFood"
          ],
          [
           "#foodpornasia"
          ],
          [
           "#Congress"
          ],
          [
           "#fooddiary"
          ],
          [
           "#foodforthought"
          ],
          [
           "#kopitiam"
          ],
          [
           "#Seafood"
          ],
          [
           "#cheap"
          ],
          [
           "#pasirris"
          ],
          [
           "#bcm"
          ],
          [
           "#SGFoodies"
          ],
          [
           "#foodgramsg"
          ],
          [
           "#mincedporknoodles"
          ],
          [
           "#korean"
          ],
          [
           "#koreanfoodlovers"
          ],
          [
           "#seafoodcongee"
          ],
          [
           "#travelpics"
          ],
          [
           "#prawns"
          ],
          [
           "#jalanbesar"
          ],
          [
           "#scissorscutcurryrice"
          ],
          [
           "#meepoktah"
          ],
          [
           "#foodbloggers"
          ],
          [
           "#foodforfoodies"
          ],
          [
           "#trending"
          ],
          [
           "#curryrice"
          ],
          [
           "#koreanfoodsg"
          ],
          [
           "#haidilaosingapore"
          ],
          [
           "#foodofinstagram"
          ],
          [
           "#foodiesofig"
          ],
          [
           "#foodbloggerSG"
          ],
          [
           "#support"
          ],
          [
           "#foodprep"
          ],
          [
           "#foodphotographer"
          ],
          [
           "#eatnowburnnexttime"
          ],
          [
           "#hainanesecurryrice"
          ],
          [
           "#orhluak"
          ],
          [
           "#eeeeeats"
          ],
          [
           "#training"
          ],
          [
           "#igfoodies"
          ],
          [
           "#shiokfoodsg"
          ],
          [
           "#singaporefoodporn"
          ],
          [
           "#hotpot"
          ],
          [
           "#pigorgansoup"
          ],
          [
           "#eatingforinsta"
          ],
          [
           "#haidilao"
          ],
          [
           "#thesingaporefoodbutler"
          ],
          [
           "#sgdining"
          ],
          [
           "#oyster"
          ],
          [
           "#thaibasil"
          ],
          [
           "#foodinstagram"
          ],
          [
           "#amoyfoodcentre"
          ],
          [
           "#nourishyoursoul"
          ],
          [
           "#delish"
          ],
          [
           "#eidmubarak"
          ],
          [
           "#oysteromellete"
          ],
          [
           "#wanton"
          ],
          [
           "#hariraya"
          ],
          [
           "#hollandbukittimahgrc"
          ],
          [
           "#travelawesome"
          ],
          [
           "#sgfoodhunter"
          ],
          [
           "#eatersg"
          ],
          [
           "#thaicuisine"
          ],
          [
           "#foodpornography"
          ],
          [
           "#madaboutsingapore"
          ],
          [
           "#halalsg"
          ],
          [
           "#orhluaksg"
          ],
          [
           "#amoy"
          ],
          [
           "#hollandbukittimah"
          ],
          [
           "#ahgohgohlaksa"
          ],
          [
           "#greenchilichickenrice"
          ],
          [
           "#rayyanswaroengupnormal"
          ],
          [
           "#eidilfitri"
          ],
          [
           "#staysafe"
          ],
          [
           "#thaibasilchicken"
          ],
          [
           "#bukittimahhawkercentre"
          ],
          [
           "#dumplings"
          ],
          [
           "#sgbreakfast"
          ],
          [
           "#ilovehawkerfood"
          ],
          [
           "#sdphbt"
          ],
          [
           "#yoursdp"
          ],
          [
           "#bukittimah"
          ],
          [
           "#Singapore"
          ],
          [
           "#rwp"
          ],
          [
           "#stayhealthy"
          ],
          [
           "#flightmeal✈️"
          ],
          [
           "#airlinefoodselfie"
          ],
          [
           "#joyousdec21"
          ],
          [
           "#simsvistamarketandfoodcentre"
          ],
          [
           "#amoystreetfoodcentre"
          ],
          [
           "#simsvista"
          ],
          [
           "#amoystreetfoodcenter"
          ],
          [
           "#kosong"
          ],
          [
           "#rotiprataegg"
          ],
          [
           "#吃货"
          ],
          [
           "#peoplesparkfoodcentre"
          ],
          [
           "#印度煎饼"
          ],
          [
           "#bepositive"
          ],
          [
           "#小贩中心"
          ],
          [
           "#shotbyiphone"
          ],
          [
           "#ljonelrecommends"
          ],
          [
           "#hakkacusine"
          ],
          [
           "#wfh"
          ]
         ],
         "hovertemplate": "label=4<br>one_d=%{x}<br>two_d=%{y}<br>average_likes=%{marker.size}<br>hashtags=%{customdata[0]}<extra></extra>",
         "legendgroup": "4",
         "marker": {
          "color": "#EF553B",
          "size": [
           30,
           52,
           75,
           46,
           62,
           74,
           65,
           49,
           174,
           106,
           93,
           153,
           182,
           73,
           123,
           31,
           46,
           135,
           121,
           115,
           44,
           37,
           69,
           112,
           44,
           33,
           44,
           35,
           61,
           196,
           279,
           209,
           300,
           134,
           209,
           209,
           209,
           175,
           48,
           35,
           41,
           42,
           50,
           48,
           184,
           31,
           165,
           200,
           48,
           199,
           229,
           199,
           39,
           89,
           120,
           32,
           30,
           32,
           230,
           171,
           34,
           361,
           361,
           60,
           54,
           73,
           230,
           60,
           230,
           60,
           73,
           361,
           73,
           73,
           171,
           171,
           60,
           171,
           60,
           47,
           47,
           73,
           228,
           361,
           171,
           34,
           171,
           228,
           361,
           361,
           73,
           230,
           171,
           361,
           361,
           47,
           66,
           83,
           171,
           83,
           42,
           42,
           228,
           39,
           83,
           228,
           83,
           83,
           66,
           37,
           83,
           46,
           42,
           83,
           56,
           66,
           46,
           56,
           38,
           228,
           42,
           83,
           37,
           42,
           38,
           56,
           66,
           46,
           38,
           36,
           123,
           56,
           56,
           56,
           37,
           38,
           46,
           42,
           123,
           38,
           38,
           38,
           38,
           56,
           56,
           123,
           123,
           123,
           123,
           56,
           123,
           56,
           55,
           55,
           54,
           54,
           55,
           55,
           54,
           54,
           30,
           30,
           30
          ],
          "sizemode": "area",
          "sizeref": 1.095,
          "symbol": "circle"
         },
         "mode": "markers",
         "name": "4",
         "showlegend": true,
         "type": "scattergl",
         "x": [
          7.5690083503723145,
          3.0099387168884277,
          -10.32083511352539,
          -4.5557122230529785,
          -4.573248863220215,
          0.7009403109550476,
          -10.862621307373047,
          -5.920357704162598,
          -11.666595458984375,
          -13.885297775268555,
          -13.88296890258789,
          -10.585245132446289,
          -8.677032470703125,
          -9.385696411132812,
          -10.372750282287598,
          1.163547396659851,
          -5.798020362854004,
          -6.297665596008301,
          -13.001952171325684,
          -7.0266618728637695,
          -13.001787185668945,
          -5.77114200592041,
          -10.500843048095703,
          -12.10909366607666,
          10.694618225097656,
          2.0113747119903564,
          -13.04599380493164,
          -3.961557149887085,
          -11.641246795654297,
          -13.845948219299316,
          -14.296897888183594,
          -9.184369087219238,
          -14.291131973266602,
          -7.565176486968994,
          -9.271347999572754,
          -9.151573181152344,
          -9.231806755065918,
          -8.553945541381836,
          -13.763221740722656,
          -4.57411003112793,
          -13.99067497253418,
          -14.526213645935059,
          -11.474019050598145,
          -13.599420547485352,
          -11.51842212677002,
          10.443795204162598,
          -13.69214916229248,
          -9.165812492370605,
          -13.935920715332031,
          -9.542608261108398,
          -9.04698657989502,
          -9.556828498840332,
          5.399284839630127,
          -9.001503944396973,
          -8.635250091552734,
          -12.858461380004883,
          0.6227681040763855,
          -10.171280860900879,
          -8.777957916259766,
          -9.521612167358398,
          -13.465079307556152,
          -14.131265640258789,
          -14.134836196899414,
          -14.04550838470459,
          5.157810211181641,
          -11.93563175201416,
          -8.800601959228516,
          -14.024971008300781,
          -8.8011474609375,
          -13.859461784362793,
          -11.9434232711792,
          -14.140362739562988,
          -11.94913101196289,
          -11.959345817565918,
          -9.498995780944824,
          -9.471549034118652,
          -13.912712097167969,
          -9.52963638305664,
          -14.035676956176758,
          -13.374960899353027,
          -13.377440452575684,
          -11.951967239379883,
          -9.523978233337402,
          -14.135266304016113,
          -9.512120246887207,
          -13.501656532287598,
          -9.493141174316406,
          -9.561331748962402,
          -14.135591506958008,
          -14.119730949401855,
          -11.955343246459961,
          -8.91511058807373,
          -9.492364883422852,
          -14.133158683776855,
          -14.1383695602417,
          -13.556426048278809,
          -13.679961204528809,
          -0.5460286736488342,
          -9.5089750289917,
          -0.5144250988960266,
          -10.26555061340332,
          -10.304068565368652,
          -9.465665817260742,
          -10.314711570739746,
          -0.5443556904792786,
          -9.618504524230957,
          -0.5676321387290955,
          -0.5417457222938538,
          -13.703279495239258,
          2.9994821548461914,
          -0.5464887022972107,
          -12.871783256530762,
          -10.288570404052734,
          -0.5417225360870361,
          -2.209420919418335,
          -13.819647789001465,
          -13.16231918334961,
          -2.211726188659668,
          -7.035459041595459,
          -9.576247215270996,
          -10.304925918579102,
          -0.5237619280815125,
          3.0050413608551025,
          -10.272079467773438,
          -7.023678779602051,
          -2.2106738090515137,
          -13.839008331298828,
          -13.115388870239258,
          -7.030242919921875,
          -10.331308364868164,
          0.7459449172019958,
          -2.2062227725982666,
          -2.2128007411956787,
          -2.2112810611724854,
          2.976013660430908,
          -7.029777526855469,
          -12.979034423828125,
          -10.285826683044434,
          0.7448781728744507,
          -7.040976047515869,
          -7.034782409667969,
          -7.032538414001465,
          -7.034023284912109,
          -2.2023041248321533,
          -2.207097053527832,
          0.744140088558197,
          0.7452126741409302,
          0.7465825080871582,
          0.7465728521347046,
          -2.2060587406158447,
          0.7456961274147034,
          -2.208789348602295,
          4.635928630828857,
          4.6382060050964355,
          5.407036304473877,
          5.447426795959473,
          4.6282453536987305,
          4.595688343048096,
          5.4486799240112305,
          5.446254730224609,
          -1.5150090456008911,
          -1.5096235275268555,
          -1.5076850652694702
         ],
         "xaxis": "x",
         "y": [
          0.057173531502485275,
          0.8929443955421448,
          -5.973438739776611,
          -4.295945167541504,
          -4.359774589538574,
          7.975682735443115,
          -6.27516508102417,
          -1.6147841215133667,
          -8.338134765625,
          -5.971909523010254,
          -14.305376052856445,
          5.217841148376465,
          -9.540932655334473,
          -2.789440393447876,
          3.73030948638916,
          -19.89456558227539,
          -1.1085007190704346,
          4.067176342010498,
          2.5748541355133057,
          11.915018081665039,
          -6.725717067718506,
          -19.080299377441406,
          3.756009340286255,
          2.1427512168884277,
          -9.001595497131348,
          -19.91259002685547,
          -7.366952896118164,
          -19.866846084594727,
          -6.960334300994873,
          3.6706008911132812,
          5.669279098510742,
          5.383738040924072,
          5.717072486877441,
          2.9136910438537598,
          5.456021785736084,
          5.504153728485107,
          5.398006916046143,
          -5.635594367980957,
          -7.295344352722168,
          -21.22052764892578,
          -7.595028877258301,
          -7.760977745056152,
          1.8115687370300293,
          -7.4505462646484375,
          -8.234785079956055,
          -5.363098621368408,
          -8.359777450561523,
          5.3928961753845215,
          -7.356915473937988,
          5.803016185760498,
          5.057736396789551,
          5.79157829284668,
          3.486943006515503,
          6.5768818855285645,
          4.500683307647705,
          -7.027266502380371,
          -12.30141544342041,
          2.211059331893921,
          4.80715274810791,
          6.002679824829102,
          -6.955996036529541,
          3.463906764984131,
          3.4559524059295654,
          -7.552116870880127,
          5.537266731262207,
          1.4800539016723633,
          4.811375141143799,
          -7.636029243469238,
          4.768443584442139,
          -7.5530805587768555,
          1.4490309953689575,
          3.4633240699768066,
          1.4293341636657715,
          1.4572991132736206,
          6.104681491851807,
          6.1158528327941895,
          -7.637082099914551,
          6.083230495452881,
          -7.593001842498779,
          -7.078206539154053,
          -7.029947757720947,
          1.4537774324417114,
          5.338257312774658,
          3.476632833480835,
          6.129873752593994,
          -7.010950565338135,
          6.09157657623291,
          5.345292091369629,
          3.463721990585327,
          3.4446444511413574,
          1.4651036262512207,
          4.880838394165039,
          6.0637125968933105,
          3.464778184890747,
          3.4661200046539307,
          -6.9763875007629395,
          -7.316957950592041,
          -18.228225708007812,
          6.087165355682373,
          -18.247154235839844,
          2.2103195190429688,
          2.1930363178253174,
          5.29755163192749,
          2.1796510219573975,
          -18.21592140197754,
          5.393111705780029,
          -18.248205184936523,
          -18.232345581054688,
          -7.283475399017334,
          -20.39961051940918,
          -18.24332618713379,
          -7.404212951660156,
          2.202991008758545,
          -18.229339599609375,
          -11.189910888671875,
          -7.2965168952941895,
          -7.385011196136475,
          -11.188868522644043,
          2.0495128631591797,
          5.498368263244629,
          2.1883904933929443,
          -18.24564552307129,
          -20.32326889038086,
          2.200333833694458,
          2.0382823944091797,
          -11.194222450256348,
          -7.36720609664917,
          -7.397458076477051,
          2.045090913772583,
          2.1852810382843018,
          -6.243342399597168,
          -11.188082695007324,
          -11.19344711303711,
          -11.190332412719727,
          -20.303926467895508,
          2.036646842956543,
          -7.320882320404053,
          2.1949596405029297,
          -6.232827186584473,
          2.0618958473205566,
          2.0400586128234863,
          2.043307304382324,
          2.0441439151763916,
          -11.193313598632812,
          -11.18764591217041,
          -6.233510494232178,
          -6.237943649291992,
          -6.235640525817871,
          -6.240411281585693,
          -11.193766593933105,
          -6.232333660125732,
          -11.190755844116211,
          6.1318817138671875,
          6.124868392944336,
          5.138700485229492,
          5.03359842300415,
          6.134176731109619,
          6.148624897003174,
          5.072484970092773,
          5.050590991973877,
          10.023469924926758,
          10.018514633178711,
          10.017955780029297
         ],
         "yaxis": "y"
        },
        {
         "customdata": [
          [
           "#hawkercentre"
          ],
          [
           "#hawkersg"
          ],
          [
           "#hawker"
          ],
          [
           "#sghawker"
          ],
          [
           "#ourhawkerculture"
          ],
          [
           "#supportlocal"
          ],
          [
           "#sghawkerculture"
          ],
          [
           "#singaporefoodie"
          ],
          [
           "#supporthawker"
          ],
          [
           "#singaporehawkerfood"
          ],
          [
           "#甄好吃"
          ],
          [
           "#chinhojiak"
          ],
          [
           "#甄好介绍"
          ],
          [
           "#singaporefoodculture"
          ],
          [
           "#chinhogaixiao"
          ],
          [
           "#livetoeat"
          ],
          [
           "#nasilemak"
          ],
          [
           "#rotiprata"
          ],
          [
           "#abcmarket"
          ],
          [
           "#friedrice"
          ],
          [
           "#fishballnoodle"
          ],
          [
           "#ramen"
          ],
          [
           "#meesiam"
          ],
          [
           "#claypotrice"
          ],
          [
           "#ghimmoh"
          ],
          [
           "#vegetarian"
          ],
          [
           "#toapayoh"
          ],
          [
           "#油鸡面"
          ],
          [
           "#noodlesoup"
          ],
          [
           "#barchormee"
          ],
          [
           "#clementifoodcentre"
          ],
          [
           "#tiongbahrumarket"
          ],
          [
           "#boatquay"
          ],
          [
           "#soysaucechickennoodle"
          ],
          [
           "#meekia"
          ],
          [
           "#tiongbahrufood"
          ],
          [
           "#clementihawker"
          ],
          [
           "#eunosbarchormee"
          ],
          [
           "#tiongbahruhawker"
          ],
          [
           "#nomeatballsplease"
          ],
          [
           "#吃不到不要怪我"
          ],
          [
           "#seafoodsoup"
          ],
          [
           "#bedokbarchormee"
          ],
          [
           "#clementifood"
          ],
          [
           "#clementi"
          ],
          [
           "#prata"
          ],
          [
           "#tanjongpagar"
          ],
          [
           "#soysaucechicken"
          ],
          [
           "#炒饭"
          ],
          [
           "#seafood"
          ],
          [
           "#toapayohfood"
          ],
          [
           "#japan"
          ],
          [
           "#redhillcoffeeshop"
          ],
          [
           "#vegetarianbeehoon"
          ],
          [
           "#redhill"
          ],
          [
           "#chinesenasilemak"
          ],
          [
           "#yakiniku"
          ],
          [
           "#eunos"
          ],
          [
           "#tebangardens"
          ],
          [
           "#fochroad"
          ],
          [
           "#queenstown"
          ],
          [
           "#tebangardensfoodcentre"
          ],
          [
           "#barchormeesoup"
          ],
          [
           "#prawnmeesoup"
          ],
          [
           "#tiongbahrufoodcentre"
          ],
          [
           "#serangoon"
          ],
          [
           "#songkeefishball"
          ],
          [
           "#barchor"
          ],
          [
           "#prawnmee"
          ],
          [
           "#泡饭"
          ],
          [
           "#claypot"
          ],
          [
           "#abchawkercentre"
          ],
          [
           "#serangoonfood"
          ],
          [
           "#geylangfood"
          ],
          [
           "#tebangarden"
          ],
          [
           "#superwokhey"
          ],
          [
           "#toapayohhawker"
          ],
          [
           "#wemissjapan"
          ],
          [
           "#queenstownfood"
          ],
          [
           "#alexandravillage"
          ],
          [
           "#一得阁"
          ],
          [
           "#tiongbahruhawkercentre"
          ],
          [
           "#ghimmohfoodcentre"
          ],
          [
           "#toapayohcoffeeshop"
          ],
          [
           "#chickenpot"
          ],
          [
           "#毛笔"
          ],
          [
           "#红纸"
          ],
          [
           "#abcbrickworksmarket"
          ],
          [
           "#paofan"
          ],
          [
           "#楷书"
          ],
          [
           "#小贩"
          ],
          [
           "#月光河粉"
          ],
          [
           "#一得阁墨汁"
          ],
          [
           "#春联"
          ],
          [
           "#abcbrickworksfoodcentre"
          ],
          [
           "#sglocal"
          ],
          [
           "#yuzu"
          ],
          [
           "#沙爹"
          ],
          [
           "#abcfood"
          ],
          [
           "#bluepea"
          ],
          [
           "#rendangchicken"
          ],
          [
           "#butterflypea"
          ],
          [
           "#culturespoonsg"
          ],
          [
           "#supporthawkers"
          ],
          [
           "#mothersday"
          ],
          [
           "#yummylocalfare"
          ],
          [
           "#wavebye21"
          ]
         ],
         "hovertemplate": "label=0<br>one_d=%{x}<br>two_d=%{y}<br>average_likes=%{marker.size}<br>hashtags=%{customdata[0]}<extra></extra>",
         "legendgroup": "0",
         "marker": {
          "color": "#00cc96",
          "size": [
           34,
           33,
           30,
           33,
           52,
           60,
           45,
           78,
           38,
           50,
           41,
           41,
           41,
           41,
           41,
           74,
           49,
           40,
           39,
           35,
           45,
           35,
           52,
           51,
           36,
           31,
           47,
           47,
           31,
           35,
           47,
           40,
           31,
           47,
           31,
           36,
           47,
           40,
           40,
           31,
           46,
           34,
           31,
           47,
           47,
           40,
           41,
           47,
           50,
           34,
           47,
           33,
           46,
           46,
           46,
           41,
           33,
           40,
           34,
           47,
           36,
           34,
           40,
           34,
           33,
           43,
           47,
           34,
           34,
           45,
           47,
           50,
           43,
           33,
           40,
           49,
           47,
           33,
           36,
           34,
           52,
           40,
           51,
           47,
           43,
           52,
           52,
           36,
           45,
           52,
           52,
           49,
           52,
           52,
           36,
           38,
           41,
           52,
           40,
           48,
           48,
           48,
           48,
           32,
           36,
           98,
           98
          ],
          "sizemode": "area",
          "sizeref": 1.095,
          "symbol": "circle"
         },
         "mode": "markers",
         "name": "0",
         "showlegend": true,
         "type": "scattergl",
         "x": [
          7.84027099609375,
          1.8340327739715576,
          2.229789972305298,
          2.043506145477295,
          11.94461441040039,
          11.960351943969727,
          10.737706184387207,
          11.16960620880127,
          9.346518516540527,
          12.206958770751953,
          12.533875465393066,
          12.532458305358887,
          12.540661811828613,
          12.563197135925293,
          12.5457181930542,
          7.714606761932373,
          8.617691040039062,
          4.603378772735596,
          11.62351131439209,
          -5.13280725479126,
          8.829451560974121,
          7.254546165466309,
          8.758367538452148,
          8.868976593017578,
          8.359010696411133,
          7.863375186920166,
          9.14709758758545,
          10.554156303405762,
          10.16247844696045,
          9.955467224121094,
          10.100920677185059,
          10.380638122558594,
          10.026561737060547,
          11.068124771118164,
          9.928497314453125,
          10.811744689941406,
          11.122068405151367,
          9.996484756469727,
          9.687518119812012,
          10.097176551818848,
          8.352425575256348,
          10.082747459411621,
          10.02877140045166,
          10.922663688659668,
          10.94335651397705,
          9.131241798400879,
          9.555200576782227,
          10.974206924438477,
          11.305691719055176,
          10.319086074829102,
          9.434191703796387,
          10.804790496826172,
          8.375834465026855,
          8.287034034729004,
          8.594868659973145,
          9.021767616271973,
          9.932608604431152,
          9.623587608337402,
          9.61923599243164,
          9.107538223266602,
          11.666358947753906,
          9.674153327941895,
          9.168901443481445,
          9.25987720489502,
          10.362662315368652,
          10.601065635681152,
          9.4669771194458,
          10.138432502746582,
          9.702509880065918,
          9.704055786132812,
          9.28061294555664,
          11.415154457092285,
          10.516060829162598,
          10.21107006072998,
          8.70754337310791,
          10.019335746765137,
          9.511298179626465,
          10.438986778259277,
          11.665149688720703,
          9.855993270874023,
          17.05586051940918,
          9.979964256286621,
          9.321361541748047,
          8.970860481262207,
          10.963706016540527,
          17.057456970214844,
          17.06060218811035,
          11.663054466247559,
          9.215551376342773,
          17.052845001220703,
          17.060752868652344,
          10.493496894836426,
          17.058740615844727,
          17.06336212158203,
          11.660197257995605,
          11.655736923217773,
          9.1258544921875,
          17.055917739868164,
          11.650835037231445,
          8.028910636901855,
          8.028923988342285,
          8.02116584777832,
          8.025731086730957,
          11.665188789367676,
          11.670689582824707,
          2.1677615642547607,
          2.1459574699401855
         ],
         "xaxis": "x",
         "y": [
          -0.3193729519844055,
          1.7092787027359009,
          -4.326789379119873,
          -4.395662307739258,
          -4.479650497436523,
          -1.3559995889663696,
          -0.9057711362838745,
          -5.220984935760498,
          -0.951886773109436,
          -1.746897578239441,
          -2.4595813751220703,
          -2.4466536045074463,
          -2.4790165424346924,
          -2.5053040981292725,
          -2.4523372650146484,
          9.499388694763184,
          -6.867398738861084,
          6.13300895690918,
          -7.448192119598389,
          -14.370814323425293,
          -6.104287624359131,
          -1.2598673105239868,
          -6.353963375091553,
          -6.005988121032715,
          -1.7597386837005615,
          -3.9026613235473633,
          -4.611559867858887,
          -2.863058090209961,
          -2.0238730907440186,
          -1.8859058618545532,
          -3.3002212047576904,
          -4.771383762359619,
          -1.895186185836792,
          -2.4488978385925293,
          -2.6389124393463135,
          -4.448454856872559,
          -2.2922451496124268,
          -2.6068332195281982,
          -4.167988300323486,
          -2.8138222694396973,
          -3.570636510848999,
          -2.1218996047973633,
          -2.5968377590179443,
          -2.7131059169769287,
          -2.8579320907592773,
          -3.1724765300750732,
          -2.980429172515869,
          -2.267544984817505,
          -4.03595495223999,
          -2.43977952003479,
          -4.412110805511475,
          -3.8467090129852295,
          -3.7593321800231934,
          -3.81144642829895,
          -3.5875661373138428,
          -2.4028496742248535,
          -3.7496399879455566,
          -2.842797040939331,
          -2.3236968517303467,
          -3.2054390907287598,
          -7.751195907592773,
          -2.414571523666382,
          -2.429743766784668,
          -2.6442222595214844,
          -4.271142482757568,
          -3.373985767364502,
          -3.8128368854522705,
          -1.4345506429672241,
          -2.2124826908111572,
          -3.785338878631592,
          -4.090506553649902,
          -3.82867431640625,
          -3.4230616092681885,
          -3.492844343185425,
          -2.541846752166748,
          -2.5556185245513916,
          -4.118204116821289,
          -3.2938756942749023,
          -7.758261203765869,
          -2.209700584411621,
          -4.1027421951293945,
          -3.8632524013519287,
          -2.9779868125915527,
          -3.5910913944244385,
          -3.66827130317688,
          -4.081525802612305,
          -4.089183807373047,
          -7.758387088775635,
          -3.5427768230438232,
          -4.101696968078613,
          -4.077304840087891,
          -3.163346290588379,
          -4.082204818725586,
          -4.116065979003906,
          -7.742281913757324,
          -7.783629894256592,
          -2.84783673286438,
          -4.086071968078613,
          -7.78970193862915,
          -8.708649635314941,
          -8.71426773071289,
          -8.72736644744873,
          -8.714282035827637,
          -7.697173595428467,
          -7.760380268096924,
          1.7638118267059326,
          1.7451999187469482
         ],
         "yaxis": "y"
        },
        {
         "customdata": [
          [
           "#burpple"
          ],
          [
           "#DCfoodjournal"
          ],
          [
           "#localfood"
          ],
          [
           "#kopiculture"
          ],
          [
           "#ilovecoffee"
          ],
          [
           "#touristinhomecountry"
          ],
          [
           "#localcoffee"
          ],
          [
           "#igsgfood"
          ],
          [
           "#satay"
          ],
          [
           "#hawkerheritage"
          ],
          [
           "#igsgdrinks"
          ],
          [
           "#covid"
          ],
          [
           "#singaporeheritage"
          ],
          [
           "#meatball"
          ],
          [
           "#coffeeislife"
          ],
          [
           "#yuanyangpengsiudai"
          ],
          [
           "#butfirstcoffee"
          ],
          [
           "#bakersim"
          ],
          [
           "#sgcoffee"
          ],
          [
           "#bakersimfood"
          ],
          [
           "#shiok"
          ],
          [
           "#localbusiness"
          ],
          [
           "#coffeenation"
          ],
          [
           "#onsenegg"
          ],
          [
           "#bestnasilemakintown#worththewait"
          ],
          [
           "#localculture"
          ],
          [
           "#hawkerculture#hawkerculturesg"
          ],
          [
           "#singaporeculture"
          ],
          [
           "#nasilemakayamtaliwang"
          ],
          [
           "#سنغافورة"
          ],
          [
           "#hawkerfood#hawkerfoodsg#hawkercentre"
          ],
          [
           "#زوروا_سنغافورة"
          ],
          [
           "#gracefulleejurongeast"
          ],
          [
           "#02-35"
          ],
          [
           "#gracefulleeTanjongPagar"
          ],
          [
           "#01-05,"
          ],
          [
           "#gracefulleeCommonwealth"
          ],
          [
           "#02-93"
          ],
          [
           "#localeats"
          ],
          [
           "#VisitSingapore."
          ],
          [
           "#hawkerlegacy"
          ],
          [
           "#oneprawnnoodle#一號蝦麵"
          ],
          [
           "#nasilemakayamtaliwangsg#halalfoodie#halalfoodiesg#halalfood#hawkercentresg#hawkerculturesg"
          ],
          [
           "#bestnasilemaksg"
          ],
          [
           "#impressive"
          ],
          [
           "#awesomefood"
          ],
          [
           "#exploration"
          ],
          [
           "#unescointangibleculturalheritage"
          ],
          [
           "#lifestories"
          ],
          [
           "#hokkienmee"
          ],
          [
           "#livelifetothefullest"
          ],
          [
           "#livelife"
          ],
          [
           "#grateful"
          ],
          [
           "#besurprised"
          ],
          [
           "#hueats"
          ],
          [
           "#dessertsg"
          ],
          [
           "#beextraordinary"
          ],
          [
           "#vegetariansg"
          ],
          [
           "#meihueats"
          ],
          [
           "#sengkeebakkutteh"
          ],
          [
           "#iwannacomebackhere"
          ],
          [
           "#foodexploring"
          ],
          [
           "#curious"
          ],
          [
           "#lovefood"
          ],
          [
           "#explorefood"
          ],
          [
           "#lifeblogger"
          ],
          [
           "#beoriginal"
          ],
          [
           "#foodrecommendation"
          ],
          [
           "#wakerchickensg"
          ],
          [
           "#goodfood"
          ],
          [
           "#love"
          ],
          [
           "#angmokio"
          ],
          [
           "#成記肉骨茶"
          ],
          [
           "#ilikefood"
          ],
          [
           "#foodreview"
          ],
          [
           "#vegansg"
          ],
          [
           "#foods"
          ],
          [
           "#singaporeteochewfood"
          ],
          [
           "#lifeblog"
          ],
          [
           "#hainanese"
          ],
          [
           "#iwillbeback"
          ],
          [
           "#affordable"
          ],
          [
           "#coffeebreak"
          ],
          [
           "#sghawkercentre"
          ],
          [
           "#glutenfreesg"
          ],
          [
           "#weekendcoffee"
          ],
          [
           "#localdessert"
          ],
          [
           "#cat"
          ],
          [
           "#nokonnyaku"
          ],
          [
           "#fishsoup"
          ],
          [
           "#foodexplorer"
          ],
          [
           "#agaragar"
          ],
          [
           "#foodillustration"
          ],
          [
           "#maxwellfoodcentre"
          ],
          [
           "#morningcoffee"
          ],
          [
           "#teochew"
          ],
          [
           "#coffeeislove"
          ],
          [
           "#positive"
          ],
          [
           "#sggdfood"
          ],
          [
           "#drawingpassion"
          ],
          [
           "#nokonjac"
          ],
          [
           "#weekendcoffeesg"
          ],
          [
           "#wakerchicken"
          ],
          [
           "#bakkutteh"
          ],
          [
           "#agarcakesingapore"
          ],
          [
           "#coffeeisdrug"
          ],
          [
           "#yummypigtrotter"
          ],
          [
           "#foodhunt"
          ],
          [
           "#liveforfood"
          ],
          [
           "#foodpassion"
          ],
          [
           "#catdrawing"
          ],
          [
           "#wahoo"
          ],
          [
           "#chongboonmarket"
          ],
          [
           "#kopimore"
          ],
          [
           "#yuanyangcoffee"
          ],
          [
           "#sgcoffeefest"
          ],
          [
           "#潮州美食"
          ],
          [
           "#hungry"
          ],
          [
           "#coffeeandfriends"
          ],
          [
           "#specialtycoffeesg"
          ],
          [
           "#dreams"
          ],
          [
           "#howilikemycoffee"
          ],
          [
           "#morningfix"
          ],
          [
           "#coffeevibes"
          ],
          [
           "#catlovers"
          ],
          [
           "#backformore"
          ],
          [
           "#travelathome"
          ],
          [
           "#sengkee"
          ],
          [
           "#traveldiary"
          ],
          [
           "#cartoon"
          ],
          [
           "#kopiandtoast"
          ],
          [
           "#coffeeart"
          ],
          [
           "#coffeelover"
          ],
          [
           "#localpeople"
          ],
          [
           "#walktheworldthroughcoffee"
          ],
          [
           "#cheecheongfun"
          ],
          [
           "#coffeeortea"
          ],
          [
           "#kopi"
          ],
          [
           "#latteart"
          ],
          [
           "#sgkopi"
          ],
          [
           "#tapiocakueh"
          ],
          [
           "#specialtycoffee"
          ],
          [
           "#traditionalcoffee"
          ],
          [
           "#coffeebrew"
          ],
          [
           "#takeaway"
          ],
          [
           "#naise"
          ],
          [
           "#ondehondehcake"
          ],
          [
           "#throwback"
          ],
          [
           "#fishball"
          ],
          [
           "#drinksreviewsg"
          ],
          [
           "#hainesechickenrice"
          ],
          [
           "#whitechicken"
          ],
          [
           "#flavoursomesoup"
          ],
          [
           "#justsaying"
          ],
          [
           "#fishmaw"
          ],
          [
           "#chickencutlet"
          ],
          [
           "#yummydeals"
          ],
          [
           "#curiousaccountant"
          ],
          [
           "#fightofthebestfishballnoodle"
          ],
          [
           "#expatsingapore"
          ],
          [
           "#expatsg"
          ],
          [
           "#flavourbomb"
          ],
          [
           "#coffeeshopsg"
          ],
          [
           "#coffeeartist"
          ],
          [
           "#foodcomparing"
          ],
          [
           "#sgcoffeeshop"
          ],
          [
           "#eatyourvegetables"
          ],
          [
           "#braisedmushrooms"
          ],
          [
           "#healthyeating"
          ],
          [
           "#coronavirussingapore"
          ],
          [
           "#cheeseburgers"
          ],
          [
           "#covid_19"
          ],
          [
           "#dabao"
          ],
          [
           "#unescohawkerculture"
          ],
          [
           "#burgers"
          ],
          [
           "#dapaoculture"
          ],
          [
           "#coffeeandtea"
          ],
          [
           "#bestchickenrice"
          ],
          [
           "#sengkeebakchormee"
          ],
          [
           "#exploringamk"
          ],
          [
           "#expatlivingsg"
          ],
          [
           "#covid_19singapore"
          ],
          [
           "#umami"
          ],
          [
           "#lorbakmama"
          ],
          [
           "#foodtrend"
          ],
          [
           "#travelsoon"
          ],
          [
           "#travelgoals"
          ],
          [
           "#ᴠᴀᴄᴄɪɴᴇssᴀᴠᴇʟɪᴠᴇs"
          ],
          [
           "#ramensg"
          ],
          [
           "#localfare"
          ],
          [
           "#beefburgers"
          ],
          [
           "#gubakkia"
          ],
          [
           "#prawnnoodle"
          ],
          [
           "#wokhei"
          ],
          [
           "#igsgfoodies"
          ],
          [
           "#蛋香味"
          ],
          [
           "#168currychicken"
          ],
          [
           "#02-32"
          ],
          [
           "#stjohnisland"
          ],
          [
           "#geylangbriyanistall"
          ],
          [
           "#01-14"
          ],
          [
           "#eatlikealocal"
          ],
          [
           "#indianexpats"
          ],
          [
           "#yuanyangpeng"
          ],
          [
           "#singaporefoodscene"
          ],
          [
           "#01-44"
          ],
          [
           "#hawkercenter"
          ],
          [
           "#salmonmentaiko"
          ],
          [
           "#instafood_sg"
          ],
          [
           "#cheapeats"
          ],
          [
           "#covidtakeaway"
          ],
          [
           "#localway"
          ],
          [
           "#01-93,"
          ],
          [
           "#japanese"
          ],
          [
           "#kopisg"
          ],
          [
           "#sliimuffin"
          ],
          [
           "#oneprawnnoodle"
          ],
          [
           "#singaporeanindian"
          ],
          [
           "#muffins"
          ],
          [
           "#kopio"
          ],
          [
           "#laska"
          ],
          [
           "#yuanyang"
          ],
          [
           "#01-38,"
          ],
          [
           "#cheecheongfunclub"
          ],
          [
           "#eatlikeaqueen"
          ],
          [
           "#singaporeanindiannarrative"
          ],
          [
           "#01-39"
          ],
          [
           "#munchidelights"
          ],
          [
           "#healthyliving"
          ],
          [
           "#muffinsg"
          ],
          [
           "#minjiangkueh"
          ],
          [
           "#singaporehistory"
          ],
          [
           "#ricebowl"
          ],
          [
           "#beautyworldcentre"
          ],
          [
           "#beehoon"
          ],
          [
           "#simple"
          ],
          [
           "#thepeaksg"
          ],
          [
           "#yishunparkhawkercentre"
          ],
          [
           "#yypsd"
          ],
          [
           "#pancake"
          ],
          [
           "#ahsengbraisedduckrice"
          ],
          [
           "#01-36,"
          ],
          [
           "#dapao"
          ],
          [
           "#foodislife"
          ],
          [
           "#好吃"
          ],
          [
           "#muffin"
          ],
          [
           "#ahterfishballnoodles"
          ],
          [
           "#beprepared"
          ],
          [
           "#japanesedon"
          ],
          [
           "#eggy"
          ],
          [
           "#p2ha"
          ],
          [
           "#kkitchensg"
          ],
          [
           "#projectdignity"
          ],
          [
           "#katonglaksa"
          ],
          [
           "#explore_singapore"
          ],
          [
           "#mentaiko"
          ],
          [
           "#01-01,"
          ],
          [
           "#top3kwaychapthusfar"
          ],
          [
           "#drynoodles"
          ],
          [
           "#04-44,"
          ],
          [
           "#mural"
          ],
          [
           "#fullofflavours"
          ],
          [
           "#01-26,"
          ],
          [
           "#braisedduckrice"
          ],
          [
           "#artiseverywhere"
          ],
          [
           "#chickenball"
          ],
          [
           "#壁アート"
          ],
          [
           "#1"
          ],
          [
           "#saltedvegetable"
          ],
          [
           "#シンガポール散歩"
          ],
          [
           "#meehoonkueh"
          ],
          [
           "#01-101,"
          ],
          [
           "#top1handmadenoodle"
          ],
          [
           "#ionorchard"
          ],
          [
           "#anoodlestory"
          ],
          [
           "#springleafprataplace"
          ],
          [
           "#手工面粉粿"
          ],
          [
           "#handmade"
          ],
          [
           "#sinhoehuatcafe"
          ],
          [
           "#01-20,"
          ],
          [
           "#handmadenoodles"
          ],
          [
           "#coffeeshop"
          ],
          [
           "#sengkeemushroommincedmeatnoodle"
          ],
          [
           "#whatieatinaday"
          ],
          [
           "#xinglongcookedfood"
          ],
          [
           "#lazarusisland"
          ],
          [
           "#壁アート探し"
          ],
          [
           "#serangoongardenfoodcentre"
          ],
          [
           "#lormeesg"
          ],
          [
           "#sembawanghillsfoodcentre"
          ],
          [
           "#02-88,"
          ],
          [
           "#lormee"
          ],
          [
           "#stickycakewithsweetpotato"
          ],
          [
           "#umamibroth"
          ],
          [
           "#01-33,"
          ],
          [
           "#01-44,"
          ],
          [
           "#hillstreettaihwaporknoodles"
          ],
          [
           "#wuxiang"
          ],
          [
           "#02-048,"
          ],
          [
           "#michelinstar"
          ],
          [
           "#01-17,"
          ],
          [
           "#whatihadforlunch"
          ],
          [
           "#kolomee"
          ],
          [
           "#angmokiolohmeelaksa"
          ],
          [
           "#kopifellas"
          ],
          [
           "#madroaster"
          ],
          [
           "#unagiricebowl"
          ],
          [
           "#unagi"
          ],
          [
           "#saturday"
          ],
          [
           "#savefnbsg"
          ],
          [
           "#01-53,"
          ],
          [
           "#xiujiikanbilisyongtaufu"
          ],
          [
           "#04-67,"
          ],
          [
           "#boonkeng"
          ],
          [
           "#chinatowncomplexfoodcentre"
          ],
          [
           "#laosankwaychap"
          ],
          [
           "#hawkerheroes"
          ],
          [
           "#kingoffriedrice"
          ],
          [
           "#airportfood"
          ],
          [
           "#ishirosg"
          ],
          [
           "#gorengpisang"
          ],
          [
           "#蛋炒飯"
          ],
          [
           "#laozhongzhong"
          ],
          [
           "#fnbsg"
          ],
          [
           "#whatiatetoday"
          ],
          [
           "#nomnom"
          ],
          [
           "#sghistory"
          ],
          [
           "#chompchompfoodcentre"
          ],
          [
           "#sweeguanhokkienmee"
          ],
          [
           "#01-17"
          ],
          [
           "#猪扒饭"
          ],
          [
           "#ngohhiang"
          ],
          [
           "#tiongbahrumarketandfoodcentre"
          ],
          [
           "#zicharnation"
          ],
          [
           "#teamfnbsg"
          ],
          [
           "#bainianyongtaufoo"
          ],
          [
           "#victorfamousfriedchickenwingrice"
          ],
          [
           "#kasohsg"
          ],
          [
           "#the1950scoffee"
          ],
          [
           "#sourspicychili"
          ],
          [
           "#oldshifucharcoalporridge"
          ],
          [
           "#sugarcanejuice"
          ],
          [
           "#redcross"
          ],
          [
           "#tribecar"
          ],
          [
           "#caifan"
          ],
          [
           "#oldairportroadfoodcentre"
          ],
          [
           "#01-12,"
          ],
          [
           "#dapaonation"
          ],
          [
           "#caipng"
          ],
          [
           "#janusgoesnomnom"
          ],
          [
           "#gluteniousrice"
          ],
          [
           "#porkcutlet"
          ],
          [
           "#proudtosupport"
          ],
          [
           "#carsharing"
          ],
          [
           "#cantoneseporridge"
          ],
          [
           "#lovesg"
          ],
          [
           "#notsponsored"
          ],
          [
           "#mobilephotography"
          ],
          [
           "#01-27"
          ],
          [
           "#llama"
          ],
          [
           "#01-5109,"
          ],
          [
           "#02-107,"
          ],
          [
           "#sgrestaurants"
          ],
          [
           "#newfinds"
          ],
          [
           "#butterfly"
          ],
          [
           "#travel2021"
          ],
          [
           "#drynoodle"
          ],
          [
           "#bedokmarketplace"
          ],
          [
           "#uniquelysg"
          ],
          [
           "#ahhockfriedhokkienmee"
          ],
          [
           "#westernbarbeque"
          ],
          [
           "#sgfoodiary"
          ],
          [
           "#heapsengleong"
          ],
          [
           "#ion"
          ],
          [
           "#killineykopithiam"
          ],
          [
           "#walkabout"
          ],
          [
           "#lovehawkerfood"
          ],
          [
           "#ourhawkerheritage"
          ],
          [
           "#01-02,"
          ],
          [
           "#unpretentious"
          ],
          [
           "#B4-66,"
          ],
          [
           "#westernhawkerfood"
          ],
          [
           "#communitydiningroom"
          ],
          [
           "#famouseunosbakchormee"
          ],
          [
           "#grandpawesternfood"
          ],
          [
           "#uniquelysingapore"
          ],
          [
           "#local"
          ],
          [
           "#goldenmile"
          ],
          [
           "#denial"
          ],
          [
           "#koreanfriedchicken"
          ],
          [
           "#peranakancuisine"
          ],
          [
           "#chaitaokueh"
          ],
          [
           "#telokblangahcrescrentfoodcentre"
          ],
          [
           "#wantonnoodles"
          ],
          [
           "#greattastingfood"
          ],
          [
           "#singaporeidentity"
          ],
          [
           "#wontonnoodles"
          ],
          [
           "#peranakan"
          ],
          [
           "#urbanphotography"
          ],
          [
           "#foodstall"
          ],
          [
           "#anglohainanesecuisine"
          ],
          [
           "#hawkerstall"
          ],
          [
           "#littleindiasingapore"
          ],
          [
           "#wenkangji"
          ],
          [
           "#peranakanfood"
          ],
          [
           "#bersehfoodcentre"
          ],
          [
           "#meehoonkway"
          ],
          [
           "#sgfoodtrending"
          ],
          [
           "#note20ultraphotography"
          ],
          [
           "#nhbsg"
          ],
          [
           "#aphotoaday"
          ],
          [
           "#bujiantiancharsiew"
          ],
          [
           "#sgeatout"
          ],
          [
           "#sgopening"
          ],
          [
           "#openingsoon"
          ],
          [
           "#rediscoversingapore"
          ],
          [
           "#kueh"
          ],
          [
           "#sgunited"
          ],
          [
           "#apad"
          ],
          [
           "#bbqseafood"
          ],
          [
           "#nolimit"
          ],
          [
           "#sgdelights"
          ],
          [
           "#goodmorning"
          ],
          [
           "#foodtrip"
          ],
          [
           "#city_noms"
          ],
          [
           "#ayampenyet"
          ],
          [
           "#fondmemories"
          ],
          [
           "#foodplaces"
          ],
          [
           "#rafflesplace"
          ],
          [
           "#sglife"
          ],
          [
           "#malayfood"
          ],
          [
           "#1-30."
          ],
          [
           "#prawnomelette"
          ],
          [
           "#laupasat"
          ],
          [
           "#kuehlover"
          ],
          [
           "#coconut"
          ],
          [
           "#supportsghawkers"
          ],
          [
           "#kopifrens"
          ],
          [
           "#hawkersofsingapore"
          ],
          [
           "#singaporenews"
          ],
          [
           "#hawkersofsg"
          ],
          [
           "#muslimfood"
          ],
          [
           "#uniqlo"
          ],
          [
           "#kopifrensfood"
          ],
          [
           "#freshcoconut"
          ],
          [
           "#singaporelifestyle"
          ],
          [
           "#horfun"
          ],
          [
           "#foodgrammer"
          ],
          [
           "#kwaychap"
          ],
          [
           "#smallbusiness"
          ],
          [
           "#mlxg"
          ],
          [
           "#groupbuysg"
          ],
          [
           "#newton"
          ],
          [
           "#ytf"
          ],
          [
           "#unescoworldheritage"
          ],
          [
           "#haha"
          ],
          [
           "#donburi"
          ],
          [
           "#jurongpoint"
          ],
          [
           "#boonlayplace"
          ],
          [
           "#Hawkercentres"
          ]
         ],
         "hovertemplate": "label=-1<br>one_d=%{x}<br>two_d=%{y}<br>average_likes=%{marker.size}<br>hashtags=%{customdata[0]}<extra></extra>",
         "legendgroup": "-1",
         "marker": {
          "color": "#ab63fa",
          "size": [
           21,
           22,
           27,
           13,
           13,
           5,
           6,
           16,
           25,
           11,
           11,
           27,
           22,
           7,
           12,
           12,
           12,
           9,
           17,
           9,
           25,
           10,
           17,
           14,
           12,
           5,
           18,
           13,
           12,
           23,
           18,
           23,
           16,
           16,
           17,
           17,
           21,
           21,
           5,
           23,
           5,
           18,
           12,
           12,
           19,
           19,
           26,
           16,
           26,
           25,
           26,
           26,
           26,
           10,
           19,
           10,
           10,
           10,
           19,
           25,
           19,
           19,
           26,
           19,
           19,
           26,
           10,
           25,
           10,
           19,
           25,
           25,
           25,
           19,
           19,
           10,
           25,
           25,
           26,
           3,
           19,
           19,
           3,
           24,
           10,
           7,
           12,
           25,
           10,
           27,
           25,
           10,
           25,
           20,
           3,
           25,
           7,
           25,
           19,
           25,
           10,
           7,
           10,
           25,
           10,
           3,
           25,
           19,
           19,
           25,
           25,
           12,
           25,
           3,
           7,
           7,
           25,
           19,
           3,
           3,
           3,
           7,
           3,
           3,
           25,
           3,
           7,
           25,
           7,
           25,
           20,
           3,
           7,
           6,
           3,
           17,
           7,
           3,
           3,
           7,
           13,
           3,
           7,
           3,
           16,
           16,
           10,
           26,
           17,
           16,
           27,
           27,
           7,
           27,
           7,
           26,
           6,
           29,
           17,
           12,
           12,
           7,
           10,
           18,
           17,
           16,
           6,
           7,
           6,
           12,
           14,
           12,
           16,
           6,
           14,
           6,
           16,
           27,
           7,
           7,
           12,
           12,
           7,
           16,
           25,
           10,
           10,
           12,
           29,
           6,
           14,
           16,
           24,
           25,
           25,
           25,
           16,
           24,
           21,
           16,
           21,
           10,
           12,
           18,
           6,
           17,
           18,
           27,
           25,
           6,
           6,
           10,
           24,
           27,
           18,
           24,
           24,
           12,
           24,
           10,
           21,
           16,
           26,
           26,
           10,
           12,
           29,
           19,
           6,
           24,
           19,
           12,
           6,
           24,
           21,
           25,
           16,
           19,
           18,
           19,
           17,
           21,
           27,
           18,
           25,
           24,
           21,
           21,
           27,
           25,
           25,
           8,
           1,
           21,
           12,
           27,
           25,
           12,
           24,
           27,
           1,
           25,
           23,
           17,
           1,
           8,
           1,
           27,
           12,
           1,
           8,
           26,
           27,
           20,
           29,
           26,
           8,
           8,
           25,
           18,
           27,
           10,
           18,
           12,
           18,
           21,
           1,
           18,
           22,
           25,
           21,
           22,
           16,
           12,
           22,
           22,
           25,
           24,
           14,
           25,
           26,
           20,
           20,
           22,
           22,
           20,
           27,
           27,
           16,
           14,
           26,
           21,
           22,
           1,
           21,
           12,
           27,
           20,
           4,
           27,
           16,
           20,
           24,
           14,
           20,
           16,
           14,
           24,
           19,
           22,
           20,
           24,
           21,
           14,
           14,
           22,
           26,
           14,
           14,
           12,
           26,
           4,
           27,
           2,
           18,
           26,
           25,
           14,
           18,
           16,
           16,
           20,
           2,
           2,
           26,
           5,
           16,
           16,
           21,
           29,
           29,
           20,
           14,
           20,
           16,
           4,
           27,
           27,
           26,
           21,
           26,
           26,
           29,
           26,
           11,
           29,
           5,
           20,
           19,
           2,
           26,
           20,
           18,
           28,
           20,
           18,
           26,
           27,
           4,
           10,
           2,
           14,
           5,
           27,
           18,
           18,
           27,
           2,
           14,
           14,
           20,
           14,
           20,
           27,
           2,
           20,
           5,
           12,
           1,
           18,
           1,
           27,
           8,
           12,
           12,
           18,
           11,
           8,
           1,
           11,
           11,
           12,
           11,
           1,
           11,
           27,
           11,
           1,
           1,
           1,
           11,
           27,
           15,
           1,
           11,
           15,
           27,
           10,
           7,
           1,
           7,
           27,
           1,
           10,
           15,
           1,
           12,
           22,
           17,
           12,
           12,
           12,
           25,
           6,
           23,
           3,
           15,
           1,
           10,
           26
          ],
          "sizemode": "area",
          "sizeref": 1.095,
          "symbol": "circle"
         },
         "mode": "markers",
         "name": "-1",
         "showlegend": true,
         "type": "scattergl",
         "x": [
          -0.5008178949356079,
          -0.4324357211589813,
          16.16032600402832,
          22.30426788330078,
          22.218374252319336,
          16.17804718017578,
          16.082881927490234,
          5.848322868347168,
          17.06816864013672,
          20.980268478393555,
          22.4915828704834,
          -12.452028274536133,
          -4.08488130569458,
          10.316944122314453,
          21.792503356933594,
          21.8254451751709,
          21.871898651123047,
          9.576622009277344,
          22.369176864624023,
          9.569280624389648,
          -7.851047515869141,
          2.9490890502929688,
          22.44972038269043,
          11.60197639465332,
          19.50817108154297,
          16.339950561523438,
          11.155518531799316,
          -2.940279960632324,
          19.508420944213867,
          8.608668327331543,
          11.154557228088379,
          8.608755111694336,
          5.275845527648926,
          5.276250839233398,
          2.1595513820648193,
          2.1601452827453613,
          6.959342002868652,
          6.959390163421631,
          16.32124137878418,
          8.608726501464844,
          16.32332420349121,
          11.155330657958984,
          19.50850486755371,
          19.509122848510742,
          -4.9152679443359375,
          -5.256617546081543,
          2.877532720565796,
          9.101724624633789,
          2.9595041275024414,
          -2.697575330734253,
          2.8708536624908447,
          2.90195631980896,
          2.980231523513794,
          2.9139881134033203,
          -5.146656036376953,
          2.894186496734619,
          2.9022750854492188,
          2.905473470687866,
          -5.141541957855225,
          12.21964168548584,
          -5.0668230056762695,
          -4.954739093780518,
          2.9284214973449707,
          -5.0013580322265625,
          -4.876047611236572,
          2.8959689140319824,
          2.9035823345184326,
          12.082601547241211,
          1.7532212734222412,
          -4.871739387512207,
          12.0741548538208,
          12.191067695617676,
          12.19897747039795,
          -5.280231952667236,
          -5.2176737785339355,
          2.908271551132202,
          12.031661033630371,
          12.31800651550293,
          2.826676845550537,
          15.874157905578613,
          -4.73653507232666,
          -4.8172125816345215,
          15.872394561767578,
          4.726525783538818,
          2.9048283100128174,
          21.875049591064453,
          2.9075844287872314,
          12.134025573730469,
          2.900656223297119,
          7.397010326385498,
          12.071146965026855,
          2.907843589782715,
          12.072352409362793,
          -3.785698413848877,
          15.853909492492676,
          12.105406761169434,
          21.874332427978516,
          12.131075859069824,
          -4.772106170654297,
          12.119987487792969,
          2.902517318725586,
          21.846467971801758,
          1.7796815633773804,
          12.09744644165039,
          2.9093239307403564,
          15.877378463745117,
          12.110130310058594,
          -5.248623847961426,
          -5.35893440246582,
          12.272662162780762,
          12.217967987060547,
          2.9064462184906006,
          12.190350532531738,
          15.873980522155762,
          21.85419273376465,
          21.904794692993164,
          12.228177070617676,
          -5.210021495819092,
          15.843270301818848,
          15.884958267211914,
          15.880110740661621,
          21.907032012939453,
          15.891077041625977,
          15.874570846557617,
          12.056665420532227,
          15.873237609863281,
          16.342988967895508,
          12.187373161315918,
          16.410320281982422,
          12.01491641998291,
          0.9377953410148621,
          15.867280960083008,
          21.854318618774414,
          16.136072158813477,
          15.879373550415039,
          -3.7872679233551025,
          21.889331817626953,
          15.872488021850586,
          15.895960807800293,
          21.88854217529297,
          1.7782015800476074,
          15.845254898071289,
          21.82437515258789,
          15.876588821411133,
          22.852977752685547,
          22.853317260742188,
          2.902259588241577,
          0.6160251498222351,
          -5.196167469024658,
          22.817424774169922,
          -4.771738052368164,
          -4.792413234710693,
          9.837510108947754,
          3.6685147285461426,
          9.828072547912598,
          15.552278518676758,
          -7.883442401885986,
          3.1398823261260986,
          -5.118347644805908,
          -3.491262912750244,
          -3.504945993423462,
          9.806367874145508,
          22.821470260620117,
          21.890506744384766,
          -4.835631370544434,
          22.838058471679688,
          -7.866641521453857,
          9.839536666870117,
          -7.870030879974365,
          -3.4731967449188232,
          -4.7987518310546875,
          -3.4932963848114014,
          22.869239807128906,
          -7.8931684494018555,
          -4.9066243171691895,
          -7.852760314941406,
          22.793275833129883,
          -5.080646514892578,
          9.809057235717773,
          9.816549301147461,
          -3.5043838024139404,
          -3.51945424079895,
          9.820446014404297,
          11.424426078796387,
          5.300905227661133,
          16.121597290039062,
          16.143291473388672,
          -3.513650417327881,
          -4.144443035125732,
          -7.882456302642822,
          -4.9632887840271,
          11.421504974365234,
          -4.460020542144775,
          5.3199357986450195,
          5.2918806076049805,
          5.328621864318848,
          11.41594409942627,
          -4.4382524490356445,
          3.018641948699951,
          11.448800086975098,
          -4.089517116546631,
          16.103565216064453,
          -3.4732038974761963,
          21.727474212646484,
          -7.873630523681641,
          -4.542133808135986,
          2.3106436729431152,
          -12.555569648742676,
          5.319243431091309,
          -7.865720272064209,
          -7.858030796051025,
          16.184228897094727,
          -4.553725242614746,
          -12.424050331115723,
          21.810903549194336,
          -4.2378010749816895,
          -4.553839206695557,
          -3.5171122550964355,
          -4.329493522644043,
          16.189943313598633,
          -4.327771186828613,
          22.854995727539062,
          -4.2257914543151855,
          -4.401647567749023,
          16.14936065673828,
          -3.5150341987609863,
          -4.177223205566406,
          -14.682974815368652,
          -7.855913162231445,
          -4.605348110198975,
          -14.68936538696289,
          -3.4994444847106934,
          -7.862934112548828,
          0.4353289306163788,
          3.0678882598876953,
          5.307729721069336,
          11.423282623291016,
          -14.68558120727539,
          21.81631088256836,
          -14.686956405639648,
          -4.707463264465332,
          0.6383233666419983,
          -12.478795051574707,
          21.74885368347168,
          5.306447982788086,
          -4.301787376403809,
          -4.120514869689941,
          3.05057692527771,
          -12.35542106628418,
          5.3254876136779785,
          5.309023380279541,
          11.052517890930176,
          -4.881854057312012,
          -4.016944885253906,
          -2.6911165714263916,
          -12.402421951293945,
          -0.012793736532330513,
          9.296442985534668,
          2.6204941272735596,
          0.05488032475113869,
          -4.888568878173828,
          5.32042121887207,
          -3.943650245666504,
          -4.319019317626953,
          -4.88840913772583,
          11.092041015625,
          -4.893162727355957,
          -0.5535969734191895,
          9.27916431427002,
          -4.873288154602051,
          11.090039253234863,
          -1.8088165521621704,
          0.031124385073781013,
          -5.328461647033691,
          -3.954782724380493,
          -4.6918511390686035,
          11.076196670532227,
          11.070103645324707,
          -1.3799128532409668,
          -1.5724278688430786,
          -0.4541824162006378,
          -1.614488959312439,
          0.20865708589553833,
          2.034297466278076,
          -1.5031118392944336,
          3.0296249389648438,
          -4.878609657287598,
          0.2807225286960602,
          -0.5724737048149109,
          0.17113250494003296,
          -1.9947391748428345,
          -0.2230207622051239,
          1.432284951210022,
          9.31393051147461,
          -0.27100029587745667,
          -1.044939398765564,
          0.6748682260513306,
          -0.432820200920105,
          0.2944544851779938,
          0.4192051589488983,
          0.35700204968452454,
          -5.313882350921631,
          -1.3772450685501099,
          -0.5719642639160156,
          -0.4888005256652832,
          -0.4889746308326721,
          12.12205696105957,
          12.11840534210205,
          1.4308267831802368,
          5.943061828613281,
          -0.5057651400566101,
          -2.15411376953125,
          -0.3979186415672302,
          -4.8677239418029785,
          -2.508969783782959,
          9.308080673217773,
          12.131599426269531,
          -5.31717586517334,
          16.714065551757812,
          12.128433227539062,
          1.4401448965072632,
          -5.332401752471924,
          -1.7673348188400269,
          5.918889045715332,
          -5.319250106811523,
          1.4289737939834595,
          5.934601306915283,
          -1.9386341571807861,
          -1.4048852920532227,
          -0.4082377254962921,
          -5.326473712921143,
          -0.8341522216796875,
          2.69358229637146,
          5.9262919425964355,
          5.9295334815979,
          -0.9700363278388977,
          -1.836443305015564,
          5.917920112609863,
          0.6554545164108276,
          9.311917304992676,
          0.06376650929450989,
          16.65888214111328,
          2.6692326068878174,
          9.744884490966797,
          -1.244862675666809,
          -0.3782013952732086,
          0.4857751727104187,
          5.92608642578125,
          -1.3329510688781738,
          1.4129694700241089,
          1.4453669786453247,
          -5.323432922363281,
          9.73707389831543,
          9.755987167358398,
          -0.627924382686615,
          10.894639015197754,
          -7.34052848815918,
          -7.350317478179932,
          -1.3357421159744263,
          9.779813766479492,
          -0.5924572348594666,
          -0.7062065005302429,
          5.923847675323486,
          -5.330230236053467,
          1.4250305891036987,
          16.675540924072266,
          2.8200252056121826,
          12.155388832092285,
          -2.72377610206604,
          -1.4486055374145508,
          -0.22469483315944672,
          -2.7174417972564697,
          -0.6640837788581848,
          -2.7326393127441406,
          -0.32167646288871765,
          2.74401593208313,
          10.898185729980469,
          15.544564247131348,
          0.07891611009836197,
          16.009130477905273,
          -2.7261927127838135,
          15.554627418518066,
          1.419790267944336,
          -1.1665172576904297,
          15.535048484802246,
          1.4068814516067505,
          -2.721975564956665,
          -4.668274879455566,
          16.627687454223633,
          1.7809393405914307,
          15.961211204528809,
          -1.683857798576355,
          10.894357681274414,
          -4.607205390930176,
          1.4369316101074219,
          1.3733701705932617,
          -4.620677471160889,
          15.944100379943848,
          -1.675269603729248,
          -1.6953753232955933,
          15.554661750793457,
          -1.6903129816055298,
          15.539616584777832,
          -4.604559421539307,
          15.882207870483398,
          15.555766105651855,
          10.903888702392578,
          2.1558549404144287,
          12.420381546020508,
          1.3940212726593018,
          12.419154167175293,
          -4.640388488769531,
          1.4593698978424072,
          2.195065498352051,
          2.2002618312835693,
          1.3744211196899414,
          3.558925151824951,
          1.3690835237503052,
          12.415082931518555,
          -2.682154655456543,
          -7.399688720703125,
          2.1658196449279785,
          3.549215316772461,
          -1.8324592113494873,
          -2.679138422012329,
          -6.0692901611328125,
          3.521821975708008,
          -1.8310755491256714,
          -1.8349334001541138,
          12.413652420043945,
          -7.385510444641113,
          -6.061773300170898,
          3.975196123123169,
          -1.824793815612793,
          3.5621047019958496,
          3.969216823577881,
          -6.069627285003662,
          5.113536834716797,
          1.623598337173462,
          2.8301949501037598,
          1.687869668006897,
          -6.064155578613281,
          2.8559064865112305,
          5.139648914337158,
          3.973301649093628,
          2.7613542079925537,
          -2.7329466342926025,
          -7.269533634185791,
          -2.7006726264953613,
          8.018969535827637,
          -2.714888334274292,
          8.031221389770508,
          0.2890321612358093,
          -1.5172240734100342,
          4.046906471252441,
          -9.74496078491211,
          2.580035924911499,
          2.990426778793335,
          3.0269575119018555,
          3.574162483215332
         ],
         "xaxis": "x",
         "y": [
          -2.3701295852661133,
          -2.298565149307251,
          -0.7035577893257141,
          2.7349181175231934,
          2.723175287246704,
          1.4820201396942139,
          1.6689255237579346,
          2.812089204788208,
          -3.174185037612915,
          1.1547986268997192,
          2.82851243019104,
          -6.104111671447754,
          7.6471147537231445,
          -13.389625549316406,
          2.8245859146118164,
          2.8548293113708496,
          2.9123549461364746,
          -12.50019359588623,
          2.190579414367676,
          -12.490157127380371,
          -4.018939018249512,
          15.304168701171875,
          2.1935834884643555,
          -14.322714805603027,
          9.1212739944458,
          0.22110797464847565,
          19.59058380126953,
          8.049360275268555,
          9.12087631225586,
          6.323678493499756,
          19.59113311767578,
          6.323389530181885,
          19.541189193725586,
          19.540651321411133,
          18.952220916748047,
          18.94976234436035,
          12.922757148742676,
          12.913653373718262,
          0.1982305347919464,
          6.323713302612305,
          0.20539610087871552,
          19.59095001220703,
          9.120722770690918,
          9.120515823364258,
          -20.407333374023438,
          -20.215290069580078,
          -20.381839752197266,
          -11.736249923706055,
          -20.457359313964844,
          -5.1421637535095215,
          -20.358198165893555,
          -20.431175231933594,
          -20.28445053100586,
          15.649528503417969,
          -20.281126022338867,
          15.647754669189453,
          15.657489776611328,
          15.635459899902344,
          -20.430150985717773,
          14.849985122680664,
          -20.451168060302734,
          -20.531620025634766,
          -20.40688133239746,
          -20.52775764465332,
          -20.073509216308594,
          -20.34325408935547,
          15.649924278259277,
          14.854867935180664,
          4.5320587158203125,
          -20.0133056640625,
          14.992879867553711,
          14.739500999450684,
          14.831181526184082,
          -20.314056396484375,
          -20.400976181030273,
          15.619439125061035,
          14.951212882995605,
          14.777146339416504,
          -20.386674880981445,
          3.1558752059936523,
          -20.21139907836914,
          -20.237159729003906,
          3.129972457885742,
          -1.7161998748779297,
          15.645652770996094,
          3.325746536254883,
          15.62806510925293,
          14.833709716796875,
          15.64626407623291,
          -1.262733817100525,
          14.611797332763672,
          15.63054370880127,
          14.87739372253418,
          -3.0243420600891113,
          3.155205011367798,
          14.919862747192383,
          3.351485252380371,
          14.83787727355957,
          -20.416309356689453,
          14.872894287109375,
          15.630796432495117,
          3.4130969047546387,
          4.532809257507324,
          14.798038482666016,
          15.633234977722168,
          3.157102584838867,
          14.928627014160156,
          -20.300880432128906,
          -20.256845474243164,
          15.01722240447998,
          14.869970321655273,
          15.636388778686523,
          14.950904846191406,
          3.1475627422332764,
          3.4487147331237793,
          3.436123847961426,
          15.000371932983398,
          -20.438093185424805,
          3.18326735496521,
          3.059542179107666,
          3.101653575897217,
          3.3903889656066895,
          3.099952459335327,
          3.0894670486450195,
          14.849431991577148,
          3.1190853118896484,
          0.26612523198127747,
          14.850634574890137,
          0.25738707184791565,
          14.978652000427246,
          -0.654783308506012,
          3.1010732650756836,
          3.3728575706481934,
          0.36400938034057617,
          3.088662624359131,
          -2.9697861671447754,
          3.34371018409729,
          3.105990409851074,
          3.0583527088165283,
          3.390230417251587,
          -9.007475852966309,
          3.107846260070801,
          3.4549734592437744,
          3.132028579711914,
          2.226390838623047,
          2.1846463680267334,
          15.625261306762695,
          -12.294791221618652,
          -19.97476577758789,
          2.2443525791168213,
          -20.56240463256836,
          -20.432241439819336,
          -12.944313049316406,
          6.584891319274902,
          -12.93669319152832,
          -7.028989791870117,
          -3.415472984313965,
          -20.262908935546875,
          -19.92810821533203,
          8.332369804382324,
          8.342503547668457,
          -12.897911071777344,
          2.278989791870117,
          2.27946138381958,
          -20.04051399230957,
          2.232407331466675,
          -3.4307188987731934,
          -12.935504913330078,
          -3.4173080921173096,
          8.34245491027832,
          -19.93447494506836,
          8.34717845916748,
          2.221652030944824,
          -3.418940305709839,
          -19.96503257751465,
          -3.4381561279296875,
          2.1870806217193604,
          -20.058290481567383,
          -12.917536735534668,
          -12.921154022216797,
          8.340303421020508,
          8.339848518371582,
          -12.920916557312012,
          2.2389135360717773,
          2.9796009063720703,
          0.4486108422279358,
          0.46913471817970276,
          8.352055549621582,
          -1.600169062614441,
          -3.4391353130340576,
          -19.939645767211914,
          2.2354848384857178,
          -2.5658886432647705,
          2.9940037727355957,
          2.9763023853302,
          2.984771251678467,
          2.2328450679779053,
          -1.7728569507598877,
          -20.166156768798828,
          2.225792646408081,
          -1.366254210472107,
          0.5139601826667786,
          8.332664489746094,
          2.1937670707702637,
          -3.431856155395508,
          -1.8788998126983643,
          11.800772666931152,
          -7.021411418914795,
          2.9533510208129883,
          -3.414017915725708,
          -3.4372637271881104,
          0.3827924132347107,
          -2.759364366531372,
          -7.066818714141846,
          2.2154006958007812,
          -1.8211071491241455,
          -2.7232890129089355,
          8.346362113952637,
          -1.8173683881759644,
          0.4273388683795929,
          -1.8356631994247437,
          2.278899908065796,
          -2.4557132720947266,
          -2.39534330368042,
          0.3971336781978607,
          8.361140251159668,
          -1.740615963935852,
          -15.803482055664062,
          -3.423501968383789,
          -1.641279935836792,
          -15.804805755615234,
          8.354033470153809,
          -3.43527889251709,
          0.9838705062866211,
          -20.23470687866211,
          2.958832263946533,
          2.231569528579712,
          -15.80423355102539,
          2.2344865798950195,
          -15.804316520690918,
          -1.7388540506362915,
          -0.9722603559494019,
          -7.057657241821289,
          2.214707612991333,
          2.998382806777954,
          -1.9897751808166504,
          -1.2906454801559448,
          -19.996374130249023,
          -6.989624977111816,
          2.998032808303833,
          2.968187093734741,
          -14.077495574951172,
          14.71230697631836,
          -1.7950382232666016,
          -6.872742176055908,
          -7.063755989074707,
          0.6333270072937012,
          -12.021773338317871,
          -20.296018600463867,
          1.058461308479309,
          14.696599006652832,
          2.988968849182129,
          -1.5101773738861084,
          -1.982033371925354,
          14.69986629486084,
          -14.082350730895996,
          14.681405067443848,
          0.7523505091667175,
          -11.9947509765625,
          14.709636688232422,
          -14.083454132080078,
          1.1377989053726196,
          1.1180915832519531,
          -14.3433256149292,
          -1.509413242340088,
          -1.4662318229675293,
          -14.076044082641602,
          -14.073625564575195,
          -0.10411695390939713,
          -0.45605218410491943,
          0.3451087474822998,
          7.158535957336426,
          -1.2659560441970825,
          4.505465984344482,
          -0.26321282982826233,
          -20.23609733581543,
          14.695399284362793,
          -0.5966907739639282,
          -0.6539332866668701,
          0.0984770655632019,
          -0.4266202449798584,
          -0.5933166146278381,
          -8.953237533569336,
          -12.031763076782227,
          0.16097278892993927,
          -0.5097194314002991,
          -0.09188603609800339,
          0.7112390398979187,
          -0.2619478702545166,
          -0.3468427062034607,
          0.5737813711166382,
          -14.335724830627441,
          -0.46783483028411865,
          -0.5572251081466675,
          -0.03998461738228798,
          -0.09581460803747177,
          -14.539329528808594,
          -14.535900115966797,
          -8.958931922912598,
          -6.636960029602051,
          0.4080745279788971,
          -0.029129713773727417,
          0.9626607298851013,
          14.721837997436523,
          -0.6009156107902527,
          -12.03863525390625,
          -14.536664962768555,
          -14.340639114379883,
          -0.1786697506904602,
          -14.53992748260498,
          -8.955280303955078,
          -14.332733154296875,
          -0.007697064429521561,
          -6.647592544555664,
          -14.351004600524902,
          -8.956733703613281,
          -6.645974159240723,
          -1.0524184703826904,
          -0.8816359639167786,
          -0.8864266872406006,
          -14.347983360290527,
          0.34332504868507385,
          -20.33147621154785,
          -6.6416168212890625,
          -6.639513969421387,
          -0.34908559918403625,
          1.0433241128921509,
          -6.650232791900635,
          -0.10560007393360138,
          -12.037970542907715,
          0.060715727508068085,
          -0.18138903379440308,
          -20.34928321838379,
          3.304583787918091,
          0.32660984992980957,
          -0.14434656500816345,
          -0.3489340543746948,
          -6.637481212615967,
          -0.389620840549469,
          -8.951704978942871,
          -8.97279167175293,
          -14.345136642456055,
          3.3034229278564453,
          3.3030924797058105,
          0.3755193054676056,
          5.239469528198242,
          -0.4586260914802551,
          -0.45259207487106323,
          -1.446102261543274,
          3.375361442565918,
          -0.9119530320167542,
          -0.2613355219364166,
          -6.647035598754883,
          -14.338294982910156,
          -8.958630561828613,
          -0.1650618612766266,
          -20.543840408325195,
          -14.549976348876953,
          -5.411574840545654,
          -0.9866370558738708,
          -0.6486067175865173,
          -5.423090934753418,
          -0.1604616492986679,
          -5.441019535064697,
          0.536830723285675,
          -20.285425186157227,
          5.2278523445129395,
          -6.894686698913574,
          0.10515924543142319,
          -0.14353804290294647,
          -5.438934326171875,
          -6.884997844696045,
          7.653950214385986,
          -0.33010411262512207,
          -6.877947807312012,
          7.659886360168457,
          -5.398682117462158,
          -8.870782852172852,
          -0.16911420226097107,
          4.523759841918945,
          -0.05043213441967964,
          7.268831729888916,
          5.225347518920898,
          -8.8839111328125,
          7.645196914672852,
          7.666047096252441,
          -8.885590553283691,
          -0.11103513091802597,
          7.27509880065918,
          7.280083656311035,
          -6.871403217315674,
          7.279818058013916,
          -6.882131576538086,
          -8.896631240844727,
          -0.18356169760227203,
          -6.876736164093018,
          5.229848384857178,
          4.483137607574463,
          7.235545635223389,
          7.66259765625,
          7.23222541809082,
          -8.87536907196045,
          4.541870594024658,
          4.472866535186768,
          4.478121757507324,
          7.671075820922852,
          -9.166594505310059,
          4.565207481384277,
          7.2235188484191895,
          -6.824672698974609,
          -0.4083925187587738,
          4.478806495666504,
          -9.129151344299316,
          3.073835611343384,
          -6.913475513458252,
          -5.958648204803467,
          -9.12938404083252,
          3.0710771083831787,
          3.07675838470459,
          7.227338790893555,
          -0.44608640670776367,
          -5.970746994018555,
          -5.449930191040039,
          3.069352388381958,
          -9.147208213806152,
          -5.433126926422119,
          -5.9666900634765625,
          -2.322288751602173,
          4.507577896118164,
          6.918783187866211,
          4.5144243240356445,
          -5.963576793670654,
          6.922563552856445,
          -2.3590400218963623,
          -5.439312934875488,
          6.964195728302002,
          -6.830284118652344,
          -0.4759162366390228,
          -6.756199359893799,
          2.7871198654174805,
          -6.794190406799316,
          2.7787022590637207,
          -3.176283359527588,
          6.996314525604248,
          -5.460598468780518,
          2.209693670272827,
          -7.258415699005127,
          0.8897844552993774,
          0.8812114000320435,
          0.640769898891449
         ],
         "yaxis": "y"
        },
        {
         "customdata": [
          [
           "#singaporelife"
          ],
          [
           "#whatissingapore"
          ],
          [
           "#thisissingapore"
          ],
          [
           "#streetphotography"
          ],
          [
           "#sgig"
          ],
          [
           "#instasg"
          ],
          [
           "#HawkerCultureSG"
          ],
          [
           "#iluvsg"
          ],
          [
           "#chinatown"
          ],
          [
           "#yoursingapore"
          ],
          [
           "#capturestreets"
          ],
          [
           "#visitsingapore"
          ],
          [
           "#singaporeinsiders"
          ],
          [
           "#travelgram"
          ],
          [
           "#oldschool"
          ],
          [
           "#singaporetimes"
          ],
          [
           "#foodiegram"
          ],
          [
           "#HawkercultureSg"
          ],
          [
           "#exploresingapore"
          ],
          [
           "#singaporeeats"
          ],
          [
           "#whattoeat"
          ],
          [
           "#friedchicken"
          ],
          [
           "#street_gallery"
          ],
          [
           "#streetvision"
          ],
          [
           "#urbangallery"
          ],
          [
           "#illgrammers"
          ],
          [
           "#shoot2kill"
          ],
          [
           "#instamagazine"
          ],
          [
           "#chinatownsg"
          ],
          [
           "#prelockdownlife"
          ],
          [
           "#hawkers"
          ],
          [
           "#exploretocreate"
          ],
          [
           "#streetframe"
          ],
          [
           "#lifeinsingapore"
          ],
          [
           "#streetshots"
          ],
          [
           "#urbanstreet"
          ],
          [
           "#neverstopexploring"
          ],
          [
           "#nikonphotography"
          ],
          [
           "#sgphotographer"
          ],
          [
           "#imaginatones"
          ],
          [
           "#igersone"
          ],
          [
           "#nikonsg"
          ],
          [
           "#twgrammersy"
          ],
          [
           "#cityscape"
          ],
          [
           "#nikonz7"
          ],
          [
           "#streethunters"
          ],
          [
           "#covidlifestyle"
          ],
          [
           "#streetgrammers"
          ],
          [
           "#singaporestreetphotography"
          ],
          [
           "#wearethestreets"
          ],
          [
           "#sg_street_collective"
          ],
          [
           "#life_is_street"
          ],
          [
           "#peopleofsingapore"
          ],
          [
           "#streetstorytelling"
          ],
          [
           "#everydayasia"
          ],
          [
           "#singaporestreetscape"
          ],
          [
           "#xt3"
          ],
          [
           "#femalephotographers"
          ],
          [
           "#womeninstreet"
          ],
          [
           "#womenstreetphotographers"
          ],
          [
           "#moments_in_streetlife"
          ],
          [
           "#sgstreetcollective"
          ],
          [
           "#wetmarket"
          ],
          [
           "#womeninstreetsg"
          ],
          [
           "#fromstreetswithlove"
          ],
          [
           "#streetphotographer"
          ],
          [
           "#friendsinstreets"
          ],
          [
           "#raw_community"
          ],
          [
           "#raw_snap_morning"
          ],
          [
           "#safrasg"
          ],
          [
           "#instagram"
          ],
          [
           "#麻辣香锅"
          ],
          [
           "#streetphotographytribe"
          ],
          [
           "#sghalal"
          ],
          [
           "#halalfoodsg"
          ],
          [
           "#snapwithcanon"
          ],
          [
           "#coffeeaddict"
          ],
          [
           "#yongtaufu"
          ],
          [
           "#DaJieBedok"
          ],
          [
           "#釀豆腐"
          ],
          [
           "#DaJie"
          ],
          [
           "#DaJieMakanPlace"
          ],
          [
           "#fujifilm"
          ],
          [
           "#citygrammers"
          ],
          [
           "#portraitphotography"
          ],
          [
           "#beautifuldestinations"
          ],
          [
           "#killeverygram"
          ],
          [
           "#rediscoversg"
          ],
          [
           "#sghome"
          ],
          [
           "#ampangyongtaufoo"
          ],
          [
           "#DaJieNiangDouFu"
          ],
          [
           "#SgHeritageFood"
          ],
          [
           "#hakkayongtaufoo"
          ],
          [
           "#mala"
          ],
          [
           "#kampungfriedrice"
          ],
          [
           "#字述一年2021"
          ],
          [
           "#字述一年"
          ],
          [
           "#instagood10"
          ],
          [
           "#simpangbedok"
          ],
          [
           "#thankyouhawkers"
          ],
          [
           "#8DaysEat"
          ],
          [
           "#instasgsunday10pm"
          ],
          [
           "#tedsingapore"
          ],
          [
           "#whatmakesSG"
          ],
          [
           "#exploreSG"
          ],
          [
           "#communityfirst"
          ],
          [
           "#instasgSundayOurHawkers"
          ],
          [
           "#hainanesechickenrice"
          ],
          [
           "#hawkerCultureSG"
          ],
          [
           "#urbansketch"
          ],
          [
           "#BenEatsApr2021"
          ],
          [
           "#GoldenMileFoodCentre"
          ],
          [
           "#SgHawkerFood"
          ],
          [
           "#traditionalsnacks"
          ],
          [
           "#usksg"
          ],
          [
           "#usk"
          ],
          [
           "#tanglinhalt"
          ],
          [
           "#OurHawkerCulture"
          ],
          [
           "#YouFuHokkienMeeSG"
          ],
          [
           "#HawkerFood"
          ],
          [
           "#natgeoasia"
          ],
          [
           "#HawkerCenter"
          ],
          [
           "#YourSingapore"
          ],
          [
           "#WhatMakesSG"
          ],
          [
           "#ExploreSG"
          ]
         ],
         "hovertemplate": "label=6<br>one_d=%{x}<br>two_d=%{y}<br>average_likes=%{marker.size}<br>hashtags=%{customdata[0]}<extra></extra>",
         "legendgroup": "6",
         "marker": {
          "color": "#FFA15A",
          "size": [
           131,
           199,
           194,
           36,
           231,
           237,
           218,
           259,
           58,
           169,
           51,
           91,
           65,
           279,
           254,
           338,
           205,
           135,
           39,
           49,
           63,
           123,
           55,
           55,
           55,
           55,
           55,
           55,
           55,
           55,
           123,
           55,
           55,
           55,
           55,
           55,
           55,
           55,
           55,
           55,
           55,
           55,
           55,
           55,
           55,
           47,
           55,
           55,
           47,
           47,
           47,
           47,
           47,
           47,
           47,
           55,
           47,
           47,
           47,
           47,
           47,
           47,
           47,
           47,
           47,
           47,
           47,
           438,
           438,
           438,
           438,
           100,
           47,
           100,
           100,
           438,
           438,
           100,
           100,
           100,
           100,
           100,
           47,
           438,
           438,
           438,
           438,
           438,
           438,
           100,
           100,
           100,
           100,
           100,
           100,
           438,
           438,
           438,
           100,
           239,
           100,
           239,
           239,
           239,
           239,
           239,
           239,
           239,
           239,
           70,
           53,
           53,
           53,
           70,
           70,
           70,
           70,
           163,
           53,
           163,
           163,
           163,
           163,
           163,
           163
          ],
          "sizemode": "area",
          "sizeref": 1.095,
          "symbol": "circle"
         },
         "mode": "markers",
         "name": "6",
         "showlegend": true,
         "type": "scattergl",
         "x": [
          -9.270856857299805,
          -15.18095874786377,
          -14.161141395568848,
          -4.191497325897217,
          -15.995108604431152,
          -15.362957000732422,
          -12.394813537597656,
          -15.140262603759766,
          -6.692412853240967,
          -13.507959365844727,
          -4.181759834289551,
          -12.084851264953613,
          -20.026132583618164,
          -10.210572242736816,
          -12.616097450256348,
          -13.99982738494873,
          -16.01358413696289,
          -17.618186950683594,
          -1.2648954391479492,
          -17.90801239013672,
          -18.508203506469727,
          -14.18537425994873,
          -2.2480204105377197,
          -1.9460538625717163,
          -2.084425926208496,
          -1.8044193983078003,
          -1.9448950290679932,
          -2.2242090702056885,
          -1.739606261253357,
          -1.888307809829712,
          -14.127639770507812,
          -1.6369379758834839,
          -1.7551798820495605,
          -2.176487445831299,
          -1.8041621446609497,
          -1.8763195276260376,
          -1.99830162525177,
          -1.8331929445266724,
          -1.97018301486969,
          -2.210949659347534,
          -1.9892511367797852,
          -2.132796287536621,
          -2.056168556213379,
          -1.6855298280715942,
          -1.8811508417129517,
          -5.326440811157227,
          -2.102590322494507,
          -2.01003098487854,
          -5.609309196472168,
          -5.623671054840088,
          -5.626402854919434,
          -5.587428092956543,
          -5.618649005889893,
          -5.4946393966674805,
          -5.646096706390381,
          -1.8597339391708374,
          -5.6834397315979,
          -5.4555583000183105,
          -5.5951337814331055,
          -5.5581865310668945,
          -5.398652076721191,
          -5.625277519226074,
          -5.725863933563232,
          -5.75691556930542,
          -5.501755714416504,
          -5.588442802429199,
          -5.387084484100342,
          -13.192072868347168,
          -13.216095924377441,
          -13.203417778015137,
          -13.20975399017334,
          -17.716751098632812,
          -5.647238731384277,
          -17.817413330078125,
          -17.794082641601562,
          -13.205683708190918,
          -13.202776908874512,
          -17.8110408782959,
          -17.7932071685791,
          -17.791555404663086,
          -17.76730728149414,
          -17.878074645996094,
          -5.795091152191162,
          -13.18916130065918,
          -13.246335983276367,
          -13.250415802001953,
          -13.198712348937988,
          -13.261260986328125,
          -13.198779106140137,
          -17.797780990600586,
          -17.860383987426758,
          -17.85093116760254,
          -17.8056583404541,
          -17.798662185668945,
          -17.747196197509766,
          -13.236659049987793,
          -13.166397094726562,
          -13.175426483154297,
          -17.766857147216797,
          -14.370343208312988,
          -17.829132080078125,
          -14.334391593933105,
          -14.360868453979492,
          -14.337752342224121,
          -14.366981506347656,
          -14.341374397277832,
          -14.369455337524414,
          -14.363197326660156,
          -14.376246452331543,
          2.294217348098755,
          -12.295069694519043,
          -12.298040390014648,
          -12.296662330627441,
          2.306072235107422,
          2.285679817199707,
          2.3005661964416504,
          2.290191650390625,
          -10.497252464294434,
          -12.29373550415039,
          -10.508023262023926,
          -10.500862121582031,
          -10.51802921295166,
          -10.498255729675293,
          -10.50243854522705,
          -10.495406150817871
         ],
         "xaxis": "x",
         "y": [
          3.8327455520629883,
          9.018421173095703,
          9.004143714904785,
          17.99052619934082,
          9.489219665527344,
          9.036273956298828,
          11.212113380432129,
          9.117493629455566,
          18.544132232666016,
          7.148250579833984,
          19.180408477783203,
          9.28346061706543,
          0.27234387397766113,
          6.924006462097168,
          10.50982666015625,
          8.820958137512207,
          7.238747596740723,
          8.47018051147461,
          19.724740982055664,
          10.507882118225098,
          9.652400016784668,
          6.985622882843018,
          19.610898971557617,
          19.956937789916992,
          19.493003845214844,
          19.521373748779297,
          19.83759117126465,
          19.708759307861328,
          19.870561599731445,
          19.884191513061523,
          6.946468353271484,
          19.649381637573242,
          19.49947166442871,
          19.734010696411133,
          19.504878997802734,
          19.56011390686035,
          19.343217849731445,
          20.014739990234375,
          19.89361000061035,
          19.55188751220703,
          20.00728988647461,
          19.699748992919922,
          19.574094772338867,
          19.94019889831543,
          19.934429168701172,
          19.087778091430664,
          19.54104232788086,
          19.36403465270996,
          19.060081481933594,
          19.07413101196289,
          19.05453109741211,
          19.14626121520996,
          19.050146102905273,
          19.114479064941406,
          19.12509536743164,
          19.983762741088867,
          19.185623168945312,
          18.832233428955078,
          19.01933479309082,
          18.987279891967773,
          19.07016944885254,
          19.218616485595703,
          19.069578170776367,
          19.153465270996094,
          18.927526473999023,
          19.044275283813477,
          19.116090774536133,
          10.34949016571045,
          10.390381813049316,
          10.30189037322998,
          10.36146354675293,
          9.790197372436523,
          19.058225631713867,
          9.743483543395996,
          9.768084526062012,
          10.339823722839355,
          10.353331565856934,
          9.86415958404541,
          9.756280899047852,
          9.707170486450195,
          9.833155632019043,
          9.825715065002441,
          19.131864547729492,
          10.413677215576172,
          10.302274703979492,
          10.329038619995117,
          10.335426330566406,
          10.299347877502441,
          10.342300415039062,
          9.699790000915527,
          9.82707405090332,
          9.835906028747559,
          9.84445858001709,
          9.864843368530273,
          9.778387069702148,
          10.34536361694336,
          10.401349067687988,
          10.422952651977539,
          9.707968711853027,
          7.056779861450195,
          9.688872337341309,
          7.044112682342529,
          7.065769195556641,
          7.0446014404296875,
          7.056011199951172,
          7.0646562576293945,
          7.060571670532227,
          7.061896800994873,
          7.041625499725342,
          11.81529426574707,
          12.690690040588379,
          12.689952850341797,
          12.692401885986328,
          11.810691833496094,
          11.820276260375977,
          11.808353424072266,
          11.811663627624512,
          11.897586822509766,
          12.689020156860352,
          11.88942813873291,
          11.891447067260742,
          11.892833709716797,
          11.893874168395996,
          11.898984909057617,
          11.89421272277832
         ],
         "yaxis": "y"
        },
        {
         "customdata": [
          [
           "#HawkerCultureSg"
          ],
          [
           "#肉骨茶"
          ],
          [
           "#咖啡香"
          ],
          [
           "#SupportLocalSg"
          ],
          [
           "#bakchormee#yishunparkhawkercentre#meekia#meekiadry#chashu#chashupork#porkball#porkballs#fishball#mincedpork#mincedmeat#noodles#porklard#onsenegg#egg#porkfat#saucynoodles#hawkers#hawkerculture#hawkerculturesg#sgfoodie#sgfoodies#sgfoodporn#foodporn#sgeats"
          ],
          [
           "#01-27,"
          ],
          [
           "#SgVibes"
          ],
          [
           "#FishballNoodles"
          ],
          [
           "#OurCoffeeshopFood"
          ],
          [
           "#鱼圆面"
          ],
          [
           "#鱼丸面"
          ],
          [
           "#SupportLocal"
          ],
          [
           "#小日子"
          ],
          [
           "#早安咖啡"
          ],
          [
           "#CoffeeAroma"
          ],
          [
           "#BakKutTeh"
          ],
          [
           "#JooSiahBKT"
          ],
          [
           "#咖啡店吃喝"
          ],
          [
           "#SgFoodie"
          ],
          [
           "#支持小贩文化"
          ],
          [
           "#FoodieSg"
          ],
          [
           "#米其林必比登推薦"
          ],
          [
           "#小確幸"
          ],
          [
           "#从容"
          ],
          [
           "#CoffeeShopEats"
          ],
          [
           "#bibgourmand2021"
          ],
          [
           "#蓝天白云"
          ],
          [
           "#SeeSeeEatEat"
          ],
          [
           "#GoodEats"
          ],
          [
           "#LetsEatAndPlay"
          ],
          [
           "#CKT"
          ],
          [
           "#好好吃饭"
          ]
         ],
         "hovertemplate": "label=3<br>one_d=%{x}<br>two_d=%{y}<br>average_likes=%{marker.size}<br>hashtags=%{customdata[0]}<extra></extra>",
         "legendgroup": "3",
         "marker": {
          "color": "#19d3f3",
          "size": [
           152,
           135,
           106,
           128,
           257,
           257,
           62,
           62,
           62,
           62,
           62,
           62,
           62,
           62,
           62,
           245,
           245,
           62,
           245,
           245,
           245,
           245,
           245,
           245,
           245,
           245,
           150,
           150,
           150,
           150,
           150,
           150
          ],
          "sizemode": "area",
          "sizeref": 1.095,
          "symbol": "circle"
         },
         "mode": "markers",
         "name": "3",
         "showlegend": true,
         "type": "scattergl",
         "x": [
          8.670190811157227,
          11.611603736877441,
          8.173569679260254,
          9.712621688842773,
          7.069974422454834,
          7.072462558746338,
          8.430419921875,
          8.421514511108398,
          8.436556816101074,
          8.427721977233887,
          8.438075065612793,
          8.415281295776367,
          8.436884880065918,
          8.407119750976562,
          8.439170837402344,
          9.232101440429688,
          9.239747047424316,
          8.434253692626953,
          9.245415687561035,
          9.242870330810547,
          9.253567695617676,
          9.242653846740723,
          9.270373344421387,
          9.247079849243164,
          9.259172439575195,
          9.259391784667969,
          7.910805702209473,
          7.942089080810547,
          7.908562183380127,
          7.917547225952148,
          7.943105697631836,
          7.928765773773193
         ],
         "xaxis": "x",
         "y": [
          18.40864372253418,
          15.457901954650879,
          18.81081771850586,
          17.163877487182617,
          16.870765686035156,
          16.873519897460938,
          18.983055114746094,
          18.97226333618164,
          19.001081466674805,
          18.987655639648438,
          19.005661010742188,
          19.017196655273438,
          19.00225257873535,
          19.039535522460938,
          18.99172592163086,
          17.83780860900879,
          17.832212448120117,
          18.980976104736328,
          17.8372802734375,
          17.839344024658203,
          17.823139190673828,
          17.818954467773438,
          17.794618606567383,
          17.830547332763672,
          17.8112735748291,
          17.817840576171875,
          18.51169204711914,
          18.5076904296875,
          18.50756072998047,
          18.51136016845703,
          18.513093948364258,
          18.520034790039062
         ],
         "yaxis": "y"
        },
        {
         "customdata": [
          [
           "#singaporean"
          ],
          [
           "#wallart"
          ],
          [
           "#muralart"
          ],
          [
           "#leekuanyewtribute"
          ],
          [
           "#muralartist"
          ],
          [
           "#sgtravelblogger"
          ],
          [
           "#localtravel"
          ],
          [
           "#sgphotography"
          ],
          [
           "#hawkercentrefood"
          ],
          [
           "#localtrails"
          ],
          [
           "#singapore_insta"
          ],
          [
           "#sginstagrammers"
          ],
          [
           "#leehsienloong"
          ],
          [
           "#wallmural"
          ],
          [
           "#singaporetrip"
          ],
          [
           "#wallpainting"
          ],
          [
           "#murals"
          ],
          [
           "#sgphotoshoot"
          ],
          [
           "#singaporecity"
          ],
          [
           "#singaporetravel"
          ],
          [
           "#leekuanyew"
          ],
          [
           "#hawkercentresg"
          ],
          [
           "#hawkercentres"
          ],
          [
           "#shootoniphone"
          ],
          [
           "#iphonexs"
          ],
          [
           "#natgeomyshot"
          ],
          [
           "#natgeoyourshot"
          ],
          [
           "#iphonephotography"
          ],
          [
           "#streetshooting"
          ]
         ],
         "hovertemplate": "label=1<br>one_d=%{x}<br>two_d=%{y}<br>average_likes=%{marker.size}<br>hashtags=%{customdata[0]}<extra></extra>",
         "legendgroup": "1",
         "marker": {
          "color": "#FF6692",
          "size": [
           131,
           109,
           109,
           220,
           220,
           220,
           220,
           220,
           220,
           220,
           220,
           220,
           220,
           220,
           220,
           220,
           220,
           220,
           220,
           220,
           220,
           220,
           220,
           36,
           36,
           36,
           36,
           36,
           36
          ],
          "sizemode": "area",
          "sizeref": 1.095,
          "symbol": "circle"
         },
         "mode": "markers",
         "name": "1",
         "showlegend": true,
         "type": "scattergl",
         "x": [
          -5.943681240081787,
          -5.645430564880371,
          -5.652792453765869,
          -6.215803623199463,
          -6.202760219573975,
          -6.156414985656738,
          -6.125301837921143,
          -6.163267612457275,
          -6.141524314880371,
          -6.241804599761963,
          -6.178576469421387,
          -6.19371223449707,
          -6.170393466949463,
          -6.300880432128906,
          -6.095981121063232,
          -6.150775909423828,
          -6.191421031951904,
          -6.213576316833496,
          -6.266053676605225,
          -6.288162708282471,
          -6.212641716003418,
          -6.2164506912231445,
          -6.2400031089782715,
          -1.110439419746399,
          -1.1176587343215942,
          -1.115868330001831,
          -1.1075440645217896,
          -1.102198839187622,
          -1.1125015020370483
         ],
         "xaxis": "x",
         "y": [
          11.627461433410645,
          13.740216255187988,
          13.72657299041748,
          13.106217384338379,
          12.90377426147461,
          13.038966178894043,
          12.966226577758789,
          13.096614837646484,
          13.067845344543457,
          12.983879089355469,
          13.00544261932373,
          12.838223457336426,
          12.944599151611328,
          12.83568000793457,
          13.099164009094238,
          13.095229148864746,
          13.05398178100586,
          12.967659950256348,
          12.87175464630127,
          12.842317581176758,
          12.93401050567627,
          13.078694343566895,
          13.14774227142334,
          12.9181547164917,
          12.925732612609863,
          12.928146362304688,
          12.917510986328125,
          12.920084953308105,
          12.92341136932373
         ],
         "yaxis": "y"
        },
        {
         "customdata": [
          [
           "#hawkersinwatercolours"
          ],
          [
           "#urbansketching"
          ],
          [
           "#双语美食库"
          ],
          [
           "#新加坡双语美食库"
          ],
          [
           "#NewtonCircus"
          ],
          [
           "#whatlingeats"
          ],
          [
           "#吃货最棒"
          ],
          [
           "#纽顿"
          ],
          [
           "#SingaporeFoodie"
          ],
          [
           "#越来越宅"
          ],
          [
           "#纽顿熟食中心"
          ],
          [
           "#肉脞面"
          ],
          [
           "#新加坡美食"
          ],
          [
           "#BBQ"
          ],
          [
           "#hawkerFavourite"
          ],
          [
           "#馋嘴双兔"
          ],
          [
           "#烤虾"
          ],
          [
           "#BCM"
          ],
          [
           "#eatatNewton"
          ],
          [
           "#NewtonFood"
          ],
          [
           "#neighbourhoodsg"
          ],
          [
           "#cuisine"
          ],
          [
           "#youth"
          ],
          [
           "#history"
          ],
          [
           "#follow"
          ],
          [
           "#legacy"
          ],
          [
           "#tbt"
          ],
          [
           "#lfl"
          ],
          [
           "#genz"
          ],
          [
           "#f4f"
          ],
          [
           "#instagood"
          ],
          [
           "#like"
          ],
          [
           "#watercolour"
          ],
          [
           "#changivillagehawkercentre"
          ],
          [
           "#travelsketchers"
          ],
          [
           "#watercoloursketch"
          ],
          [
           "#nasilemakayam"
          ],
          [
           "#urbansketcher"
          ],
          [
           "#artablyinlove"
          ],
          [
           "#nomsh"
          ],
          [
           "#travelsketching"
          ],
          [
           "#yearendthanks"
          ],
          [
           "#watercolorsketchbook"
          ]
         ],
         "hovertemplate": "label=2<br>one_d=%{x}<br>two_d=%{y}<br>average_likes=%{marker.size}<br>hashtags=%{customdata[0]}<extra></extra>",
         "legendgroup": "2",
         "marker": {
          "color": "#B6E880",
          "size": [
           48,
           68,
           175,
           175,
           175,
           175,
           175,
           175,
           175,
           175,
           175,
           175,
           175,
           175,
           175,
           175,
           175,
           175,
           175,
           175,
           175,
           32,
           32,
           32,
           32,
           32,
           32,
           32,
           32,
           32,
           32,
           32,
           47,
           47,
           47,
           47,
           47,
           47,
           31,
           31,
           67,
           67,
           67
          ],
          "sizemode": "area",
          "sizeref": 1.095,
          "symbol": "circle"
         },
         "mode": "markers",
         "name": "2",
         "showlegend": true,
         "type": "scattergl",
         "x": [
          3.671647310256958,
          2.6098203659057617,
          8.119975090026855,
          8.145208358764648,
          8.099344253540039,
          8.130983352661133,
          8.099569320678711,
          8.133919715881348,
          8.091673851013184,
          8.110062599182129,
          8.118941307067871,
          8.084464073181152,
          8.122871398925781,
          8.115901947021484,
          8.1101655960083,
          8.09688663482666,
          8.088509559631348,
          8.150920867919922,
          8.111998558044434,
          8.092697143554688,
          8.130932807922363,
          -5.014153957366943,
          -5.019589900970459,
          -5.033083915710449,
          -5.026851654052734,
          -5.025702476501465,
          -5.014220237731934,
          -5.02215576171875,
          -5.023718357086182,
          -5.017452716827393,
          -5.013686180114746,
          -5.019815444946289,
          3.956305503845215,
          3.9523820877075195,
          3.948350429534912,
          3.9478893280029297,
          3.944941282272339,
          3.9363107681274414,
          9.781394958496094,
          9.769190788269043,
          3.1057724952697754,
          3.0679876804351807,
          3.0663506984710693
         ],
         "xaxis": "x",
         "y": [
          10.426403999328613,
          11.536544799804688,
          10.332435607910156,
          10.350738525390625,
          10.278755187988281,
          10.338297843933105,
          10.297737121582031,
          10.333271980285645,
          10.27000617980957,
          10.302366256713867,
          10.299245834350586,
          10.2284517288208,
          10.308430671691895,
          10.311969757080078,
          10.28302001953125,
          10.269171714782715,
          10.254199981689453,
          10.378849029541016,
          10.30624008178711,
          10.323710441589355,
          10.326764106750488,
          6.243106365203857,
          6.240112781524658,
          6.229254245758057,
          6.227746486663818,
          6.242040634155273,
          6.225807189941406,
          6.252976417541504,
          6.231893062591553,
          6.228653907775879,
          6.2533464431762695,
          6.237050533294678,
          10.186383247375488,
          10.191442489624023,
          10.182191848754883,
          10.214567184448242,
          10.206761360168457,
          10.212717056274414,
          3.375037431716919,
          3.3844594955444336,
          11.063015937805176,
          11.105567932128906,
          11.114480972290039
         ],
         "yaxis": "y"
        }
       ],
       "layout": {
        "autosize": true,
        "legend": {
         "itemsizing": "constant",
         "title": {
          "text": "label"
         },
         "tracegroupgap": 0
        },
        "margin": {
         "t": 60
        },
        "template": {
         "data": {
          "bar": [
           {
            "error_x": {
             "color": "#2a3f5f"
            },
            "error_y": {
             "color": "#2a3f5f"
            },
            "marker": {
             "line": {
              "color": "#E5ECF6",
              "width": 0.5
             },
             "pattern": {
              "fillmode": "overlay",
              "size": 10,
              "solidity": 0.2
             }
            },
            "type": "bar"
           }
          ],
          "barpolar": [
           {
            "marker": {
             "line": {
              "color": "#E5ECF6",
              "width": 0.5
             },
             "pattern": {
              "fillmode": "overlay",
              "size": 10,
              "solidity": 0.2
             }
            },
            "type": "barpolar"
           }
          ],
          "carpet": [
           {
            "aaxis": {
             "endlinecolor": "#2a3f5f",
             "gridcolor": "white",
             "linecolor": "white",
             "minorgridcolor": "white",
             "startlinecolor": "#2a3f5f"
            },
            "baxis": {
             "endlinecolor": "#2a3f5f",
             "gridcolor": "white",
             "linecolor": "white",
             "minorgridcolor": "white",
             "startlinecolor": "#2a3f5f"
            },
            "type": "carpet"
           }
          ],
          "choropleth": [
           {
            "colorbar": {
             "outlinewidth": 0,
             "ticks": ""
            },
            "type": "choropleth"
           }
          ],
          "contour": [
           {
            "colorbar": {
             "outlinewidth": 0,
             "ticks": ""
            },
            "colorscale": [
             [
              0,
              "#0d0887"
             ],
             [
              0.1111111111111111,
              "#46039f"
             ],
             [
              0.2222222222222222,
              "#7201a8"
             ],
             [
              0.3333333333333333,
              "#9c179e"
             ],
             [
              0.4444444444444444,
              "#bd3786"
             ],
             [
              0.5555555555555556,
              "#d8576b"
             ],
             [
              0.6666666666666666,
              "#ed7953"
             ],
             [
              0.7777777777777778,
              "#fb9f3a"
             ],
             [
              0.8888888888888888,
              "#fdca26"
             ],
             [
              1,
              "#f0f921"
             ]
            ],
            "type": "contour"
           }
          ],
          "contourcarpet": [
           {
            "colorbar": {
             "outlinewidth": 0,
             "ticks": ""
            },
            "type": "contourcarpet"
           }
          ],
          "heatmap": [
           {
            "colorbar": {
             "outlinewidth": 0,
             "ticks": ""
            },
            "colorscale": [
             [
              0,
              "#0d0887"
             ],
             [
              0.1111111111111111,
              "#46039f"
             ],
             [
              0.2222222222222222,
              "#7201a8"
             ],
             [
              0.3333333333333333,
              "#9c179e"
             ],
             [
              0.4444444444444444,
              "#bd3786"
             ],
             [
              0.5555555555555556,
              "#d8576b"
             ],
             [
              0.6666666666666666,
              "#ed7953"
             ],
             [
              0.7777777777777778,
              "#fb9f3a"
             ],
             [
              0.8888888888888888,
              "#fdca26"
             ],
             [
              1,
              "#f0f921"
             ]
            ],
            "type": "heatmap"
           }
          ],
          "heatmapgl": [
           {
            "colorbar": {
             "outlinewidth": 0,
             "ticks": ""
            },
            "colorscale": [
             [
              0,
              "#0d0887"
             ],
             [
              0.1111111111111111,
              "#46039f"
             ],
             [
              0.2222222222222222,
              "#7201a8"
             ],
             [
              0.3333333333333333,
              "#9c179e"
             ],
             [
              0.4444444444444444,
              "#bd3786"
             ],
             [
              0.5555555555555556,
              "#d8576b"
             ],
             [
              0.6666666666666666,
              "#ed7953"
             ],
             [
              0.7777777777777778,
              "#fb9f3a"
             ],
             [
              0.8888888888888888,
              "#fdca26"
             ],
             [
              1,
              "#f0f921"
             ]
            ],
            "type": "heatmapgl"
           }
          ],
          "histogram": [
           {
            "marker": {
             "pattern": {
              "fillmode": "overlay",
              "size": 10,
              "solidity": 0.2
             }
            },
            "type": "histogram"
           }
          ],
          "histogram2d": [
           {
            "colorbar": {
             "outlinewidth": 0,
             "ticks": ""
            },
            "colorscale": [
             [
              0,
              "#0d0887"
             ],
             [
              0.1111111111111111,
              "#46039f"
             ],
             [
              0.2222222222222222,
              "#7201a8"
             ],
             [
              0.3333333333333333,
              "#9c179e"
             ],
             [
              0.4444444444444444,
              "#bd3786"
             ],
             [
              0.5555555555555556,
              "#d8576b"
             ],
             [
              0.6666666666666666,
              "#ed7953"
             ],
             [
              0.7777777777777778,
              "#fb9f3a"
             ],
             [
              0.8888888888888888,
              "#fdca26"
             ],
             [
              1,
              "#f0f921"
             ]
            ],
            "type": "histogram2d"
           }
          ],
          "histogram2dcontour": [
           {
            "colorbar": {
             "outlinewidth": 0,
             "ticks": ""
            },
            "colorscale": [
             [
              0,
              "#0d0887"
             ],
             [
              0.1111111111111111,
              "#46039f"
             ],
             [
              0.2222222222222222,
              "#7201a8"
             ],
             [
              0.3333333333333333,
              "#9c179e"
             ],
             [
              0.4444444444444444,
              "#bd3786"
             ],
             [
              0.5555555555555556,
              "#d8576b"
             ],
             [
              0.6666666666666666,
              "#ed7953"
             ],
             [
              0.7777777777777778,
              "#fb9f3a"
             ],
             [
              0.8888888888888888,
              "#fdca26"
             ],
             [
              1,
              "#f0f921"
             ]
            ],
            "type": "histogram2dcontour"
           }
          ],
          "mesh3d": [
           {
            "colorbar": {
             "outlinewidth": 0,
             "ticks": ""
            },
            "type": "mesh3d"
           }
          ],
          "parcoords": [
           {
            "line": {
             "colorbar": {
              "outlinewidth": 0,
              "ticks": ""
             }
            },
            "type": "parcoords"
           }
          ],
          "pie": [
           {
            "automargin": true,
            "type": "pie"
           }
          ],
          "scatter": [
           {
            "marker": {
             "colorbar": {
              "outlinewidth": 0,
              "ticks": ""
             }
            },
            "type": "scatter"
           }
          ],
          "scatter3d": [
           {
            "line": {
             "colorbar": {
              "outlinewidth": 0,
              "ticks": ""
             }
            },
            "marker": {
             "colorbar": {
              "outlinewidth": 0,
              "ticks": ""
             }
            },
            "type": "scatter3d"
           }
          ],
          "scattercarpet": [
           {
            "marker": {
             "colorbar": {
              "outlinewidth": 0,
              "ticks": ""
             }
            },
            "type": "scattercarpet"
           }
          ],
          "scattergeo": [
           {
            "marker": {
             "colorbar": {
              "outlinewidth": 0,
              "ticks": ""
             }
            },
            "type": "scattergeo"
           }
          ],
          "scattergl": [
           {
            "marker": {
             "colorbar": {
              "outlinewidth": 0,
              "ticks": ""
             }
            },
            "type": "scattergl"
           }
          ],
          "scattermapbox": [
           {
            "marker": {
             "colorbar": {
              "outlinewidth": 0,
              "ticks": ""
             }
            },
            "type": "scattermapbox"
           }
          ],
          "scatterpolar": [
           {
            "marker": {
             "colorbar": {
              "outlinewidth": 0,
              "ticks": ""
             }
            },
            "type": "scatterpolar"
           }
          ],
          "scatterpolargl": [
           {
            "marker": {
             "colorbar": {
              "outlinewidth": 0,
              "ticks": ""
             }
            },
            "type": "scatterpolargl"
           }
          ],
          "scatterternary": [
           {
            "marker": {
             "colorbar": {
              "outlinewidth": 0,
              "ticks": ""
             }
            },
            "type": "scatterternary"
           }
          ],
          "surface": [
           {
            "colorbar": {
             "outlinewidth": 0,
             "ticks": ""
            },
            "colorscale": [
             [
              0,
              "#0d0887"
             ],
             [
              0.1111111111111111,
              "#46039f"
             ],
             [
              0.2222222222222222,
              "#7201a8"
             ],
             [
              0.3333333333333333,
              "#9c179e"
             ],
             [
              0.4444444444444444,
              "#bd3786"
             ],
             [
              0.5555555555555556,
              "#d8576b"
             ],
             [
              0.6666666666666666,
              "#ed7953"
             ],
             [
              0.7777777777777778,
              "#fb9f3a"
             ],
             [
              0.8888888888888888,
              "#fdca26"
             ],
             [
              1,
              "#f0f921"
             ]
            ],
            "type": "surface"
           }
          ],
          "table": [
           {
            "cells": {
             "fill": {
              "color": "#EBF0F8"
             },
             "line": {
              "color": "white"
             }
            },
            "header": {
             "fill": {
              "color": "#C8D4E3"
             },
             "line": {
              "color": "white"
             }
            },
            "type": "table"
           }
          ]
         },
         "layout": {
          "annotationdefaults": {
           "arrowcolor": "#2a3f5f",
           "arrowhead": 0,
           "arrowwidth": 1
          },
          "autotypenumbers": "strict",
          "coloraxis": {
           "colorbar": {
            "outlinewidth": 0,
            "ticks": ""
           }
          },
          "colorscale": {
           "diverging": [
            [
             0,
             "#8e0152"
            ],
            [
             0.1,
             "#c51b7d"
            ],
            [
             0.2,
             "#de77ae"
            ],
            [
             0.3,
             "#f1b6da"
            ],
            [
             0.4,
             "#fde0ef"
            ],
            [
             0.5,
             "#f7f7f7"
            ],
            [
             0.6,
             "#e6f5d0"
            ],
            [
             0.7,
             "#b8e186"
            ],
            [
             0.8,
             "#7fbc41"
            ],
            [
             0.9,
             "#4d9221"
            ],
            [
             1,
             "#276419"
            ]
           ],
           "sequential": [
            [
             0,
             "#0d0887"
            ],
            [
             0.1111111111111111,
             "#46039f"
            ],
            [
             0.2222222222222222,
             "#7201a8"
            ],
            [
             0.3333333333333333,
             "#9c179e"
            ],
            [
             0.4444444444444444,
             "#bd3786"
            ],
            [
             0.5555555555555556,
             "#d8576b"
            ],
            [
             0.6666666666666666,
             "#ed7953"
            ],
            [
             0.7777777777777778,
             "#fb9f3a"
            ],
            [
             0.8888888888888888,
             "#fdca26"
            ],
            [
             1,
             "#f0f921"
            ]
           ],
           "sequentialminus": [
            [
             0,
             "#0d0887"
            ],
            [
             0.1111111111111111,
             "#46039f"
            ],
            [
             0.2222222222222222,
             "#7201a8"
            ],
            [
             0.3333333333333333,
             "#9c179e"
            ],
            [
             0.4444444444444444,
             "#bd3786"
            ],
            [
             0.5555555555555556,
             "#d8576b"
            ],
            [
             0.6666666666666666,
             "#ed7953"
            ],
            [
             0.7777777777777778,
             "#fb9f3a"
            ],
            [
             0.8888888888888888,
             "#fdca26"
            ],
            [
             1,
             "#f0f921"
            ]
           ]
          },
          "colorway": [
           "#636efa",
           "#EF553B",
           "#00cc96",
           "#ab63fa",
           "#FFA15A",
           "#19d3f3",
           "#FF6692",
           "#B6E880",
           "#FF97FF",
           "#FECB52"
          ],
          "font": {
           "color": "#2a3f5f"
          },
          "geo": {
           "bgcolor": "white",
           "lakecolor": "white",
           "landcolor": "#E5ECF6",
           "showlakes": true,
           "showland": true,
           "subunitcolor": "white"
          },
          "hoverlabel": {
           "align": "left"
          },
          "hovermode": "closest",
          "mapbox": {
           "style": "light"
          },
          "paper_bgcolor": "white",
          "plot_bgcolor": "#E5ECF6",
          "polar": {
           "angularaxis": {
            "gridcolor": "white",
            "linecolor": "white",
            "ticks": ""
           },
           "bgcolor": "#E5ECF6",
           "radialaxis": {
            "gridcolor": "white",
            "linecolor": "white",
            "ticks": ""
           }
          },
          "scene": {
           "xaxis": {
            "backgroundcolor": "#E5ECF6",
            "gridcolor": "white",
            "gridwidth": 2,
            "linecolor": "white",
            "showbackground": true,
            "ticks": "",
            "zerolinecolor": "white"
           },
           "yaxis": {
            "backgroundcolor": "#E5ECF6",
            "gridcolor": "white",
            "gridwidth": 2,
            "linecolor": "white",
            "showbackground": true,
            "ticks": "",
            "zerolinecolor": "white"
           },
           "zaxis": {
            "backgroundcolor": "#E5ECF6",
            "gridcolor": "white",
            "gridwidth": 2,
            "linecolor": "white",
            "showbackground": true,
            "ticks": "",
            "zerolinecolor": "white"
           }
          },
          "shapedefaults": {
           "line": {
            "color": "#2a3f5f"
           }
          },
          "ternary": {
           "aaxis": {
            "gridcolor": "white",
            "linecolor": "white",
            "ticks": ""
           },
           "baxis": {
            "gridcolor": "white",
            "linecolor": "white",
            "ticks": ""
           },
           "bgcolor": "#E5ECF6",
           "caxis": {
            "gridcolor": "white",
            "linecolor": "white",
            "ticks": ""
           }
          },
          "title": {
           "x": 0.05
          },
          "xaxis": {
           "automargin": true,
           "gridcolor": "white",
           "linecolor": "white",
           "ticks": "",
           "title": {
            "standoff": 15
           },
           "zerolinecolor": "white",
           "zerolinewidth": 2
          },
          "yaxis": {
           "automargin": true,
           "gridcolor": "white",
           "linecolor": "white",
           "ticks": "",
           "title": {
            "standoff": 15
           },
           "zerolinecolor": "white",
           "zerolinewidth": 2
          }
         }
        },
        "xaxis": {
         "anchor": "y",
         "autorange": true,
         "domain": [
          0,
          1
         ],
         "range": [
          -23.337095321605446,
          25.748554732272545
         ],
         "title": {
          "text": "one_d"
         },
         "type": "linear"
        },
        "yaxis": {
         "anchor": "x",
         "autorange": true,
         "domain": [
          0,
          1
         ],
         "range": [
          -24.28250936411884,
          23.2504986591372
         ],
         "title": {
          "text": "two_d"
         },
         "type": "linear"
        }
       }
      },
      "text/html": [
       "<div>                            <div id=\"bb1d62f2-0e93-48ec-ab0f-717fa419f375\" class=\"plotly-graph-div\" style=\"height:525px; width:100%;\"></div>            <script type=\"text/javascript\">                require([\"plotly\"], function(Plotly) {                    window.PLOTLYENV=window.PLOTLYENV || {};                                    if (document.getElementById(\"bb1d62f2-0e93-48ec-ab0f-717fa419f375\")) {                    Plotly.newPlot(                        \"bb1d62f2-0e93-48ec-ab0f-717fa419f375\",                        [{\"customdata\":[[\"#hawkerculturesg\"],[\"#hawkerfood\"],[\"#sgfood\"],[\"#hawkerfoodsg\"],[\"#sgfoodie\"],[\"#sgfoodies\"],[\"#sgeats\"],[\"#sghawkerfood\"],[\"#supportlocalsg\"],[\"#sgfoodblogger\"],[\"#sgfooddiary\"],[\"#instafood\"],[\"#sgfoodtrend\"],[\"#sgfoodporn\"],[\"#foodiesg\"],[\"#instafoodsg\"],[\"#whati8today\"],[\"#sgfoodstagram\"],[\"#sgfoodlover\"],[\"#eatoutsg\"],[\"#igsg\"],[\"#locateats\"],[\"#burpplesg\"],[\"#localjiak\"],[\"#sgigfood\"],[\"#sgfoodpic\"],[\"#sghawkers\"],[\"#carrotcake\"],[\"#eatbooksg\"],[\"#wantonmee\"],[\"#comfortfood\"],[\"#foodsg\"],[\"#foodiesofinstagram\"],[\"#bakchormee\"],[\"#shiokfoodfind\"],[\"#sginstagram\"],[\"#lunch\"],[\"#globaleats\"],[\"#jiaklocal\"],[\"#instadaily\"],[\"#supporthawkersg\"],[\"#michelinguide\"],[\"#byo\"],[\"#eatsg\"],[\"#fooddiarysg\"],[\"#byosg\"],[\"#foodlover\"],[\"#byocontainer\"],[\"#reusablenotdisposable\"],[\"#byoc\"],[\"#goldenmilefoodcentre\"],[\"#yongtaufoo\"],[\"#lunchtime\"],[\"#amkfood\"],[\"#foodiesinternationalchat\"],[\"#supportlocalbusiness\"],[\"#sgigfoodies\"],[\"#sgfoodiegram\"],[\"#dabaosg\"],[\"#sgfoodphotography\"],[\"#coffee\"],[\"#thefoodieinitiative\"],[\"#printmaker\"],[\"#toyinstagra\"],[\"#printmaking\"],[\"#cameraeatsfirst\"],[\"#\\u73a9\\u5177\\u651d\\u5f71\"],[\"#linocutting\"],[\"#instagramsg\"],[\"#printstudio\"],[\"#lino\"],[\"#linoleumprint\"],[\"#michelinsg\"],[\"#printmakingart\"],[\"#sgigers\"],[\"#fooddeliverysg\"],[\"#\\u76f8\\u6a5f\\u5148\\u98df\"],[\"#exploresingaporeeat\"],[\"#hillstreettaihwaporknoodle\"],[\"#linoprint\"],[\"#honglimfoodcentre\"],[\"#linoprinting\"],[\"#sgfoodunion\"],[\"#linocutprint\"],[\"#wontonmee\"],[\"#print\"],[\"#sgheritage\"],[\"#yummy\"],[\"#printmakingstudio\"],[\"#prints\"],[\"#jiaksimipng\"],[\"#linocut\"],[\"#breakfast\"],[\"#sgfoodreview\"],[\"#localdelights\"],[\"#cranfieldcolours\"],[\"#awagamipaper\"],[\"#ironfrogpress\"],[\"#zerowaste\"],[\"#awagami\"],[\"#wheretodapao\"],[\"#BYOsuccess\"],[\"#friedcarrotcake\"],[\"#noplastic\"],[\"#reuserevolution\"],[\"#\\u51cf\\u5851\\u751f\\u6d3b\"],[\"#hawkerfare\"],[\"#\\u7121\\u75d5\\u98f2\\u98df\"],[\"#sgfoodshares\"],[\"#\\u74b0\\u5883\\u554f\\u984c\"],[\"#whatieatforlunch\"],[\"#zerowastelifestyle\"],[\"#internationalfoodieschat\"],[\"#foodtogo\"],[\"#foodstamping\"],[\"#pngkueh\"],[\"#durian\"],[\"#sgfoodieparadise\"],[\"#friedoysters\"],[\"#refuseplastic\"],[\"#\\u4e0d\\u5851\\u4e4b\\u5ba2\"],[\"#foodpicture\"],[\"#dinner\"],[\"#ecofriendlyliving\"],[\"#\\u869d\\u714e\\ud83c\\udf73\"],[\"#sustainablelivingsg\"],[\"#drybanmian\"],[\"#brandcodes\"],[\"#8dayseatout\"],[\"#drybanmee\"],[\"#\\u869d\\u714e\"],[\"#packagefree\"],[\"#tomyumdrybanmian\"],[\"#sghawkereats\"],[\"#korilakkuma\"],[\"#banmian\"],[\"#\\u30b9\\u30c6\\u30a3\\u30c3\\u30c1\"],[\"#oysterlover\"],[\"#oysterlovers\"],[\"#foodiesoninstagram\"],[\"#tomyum\"],[\"#localdelicacy\"],[\"#angkukueh\"],[\"#sgfoodgram\"],[\"#sghawkerfare\"],[\"#localfoodsg\"],[\"#\\u30b3\\u30ea\\u30e9\\u30c3\\u30af\\u30de\"],[\"#xhhawker\"],[\"#lunchtimesg\"],[\"#\\u677e\\u5f1b\\u718a\"],[\"#friedoyster\"],[\"#tomyumdry\"],[\"#sgfoodpics\"],[\"#movingplates\"],[\"#sghawkerfest\"],[\"#jrecollectionfood\"],[\"#zionriverside\"],[\"#nosingleuseplastic\"],[\"#banmee\"],[\"#byosingapore\"],[\"#foodpictures\"],[\"#sgfoodshare\"],[\"#sglocaleats\"],[\"#stfoodtrending\"],[\"#\\u661f\\u969b\\u5bf6\\u8c9d\"],[\"#sgloklok\"],[\"#kiiroitori\"],[\"#foodpic\"],[\"#sustainablesg\"],[\"#LokLokKingSg\"],[\"#foodreviewssg\"],[\"#discoverunder10k.\"],[\"#ecofriendly\"],[\"#igdaily\"],[\"#01-26\"],[\"#loklok\"],[\"#charkwayteow\"],[\"#\\u30ea\\u30e9\\u30c3\\u30af\\u30de\"],[\"#mooping\"],[\"#Singaporeinsiders\"],[\"#ibringmyownsg\"],[\"#\\u30ad\\u30a4\\u30ed\\u30a4\\u30c8\\u30ea\"],[\"#sgvegetarian\"],[\"#sgigfoodporn\"],[\"#sgtastebud\"],[\"#LokLokKing\"],[\"#yishuneats\"],[\"#laksa\"],[\"#popiah\"],[\"#rilakkuma\"],[\"#sgffxhawkerpicks\"],[\"#foodvibes\"],[\"#xpphawker\"],[\"#streetfoodsg\"],[\"#malaysiastreetfood\"],[\"#siobak\"],[\"#yishunfood\"],[\"#thefoodiesinitiative\"],[\"#mediainvite\"],[\"#channelnewsasia\"],[\"#taiwanesefood\"],[\"#kekoumian\"],[\"#\\u7c73\\u5176\\u6797\\u4e00\\u661f\"],[\"#blessed\"],[\"#01-13\"],[\"#beefbrisketnoodle\"],[\"#roastmeat\"],[\"#chefkin\"],[\"#oldschooltaste\"],[\"#charsiew\"],[\"#charkwayteowsg\"],[\"#maruhachi\"],[\"#koungwantonmee\"],[\"#porridgesg\"],[\"#yishun\"],[\"#sembawang\"],[\"#geylang\"],[\"#janggutlaksa\"],[\"#sgvegetarians\"],[\"#yourdailynibbles\"],[\"#brunch\"],[\"#supporthawkerfood\"],[\"#tonkatsu\"],[\"#eatingfortheinsta\"],[\"#sgfoodblog\"],[\"#indulgence\"],[\"#cafesg\"],[\"#cafefood\"],[\"#eat3bowlssg\"],[\"#nyonyafusion\"],[\"#seafoodhorfun\"],[\"#stayhomestaysafe\\ud83c\\udfe0\"],[\"#otah\"],[\"#yapkeewantonmee\"],[\"#greatcatchup\"],[\"#zicharsg\"],[\"#softboiledeggs\"],[\"#zichardinner\"],[\"#tanglinhalttraditionalpeanutpancake\"],[\"#luruofan\"],[\"#kayabuttertoast\"],[\"#saltedbeanpancake\"],[\"#peanutpancake\"],[\"#01-235,\"],[\"#jixiangangkukueh\"],[\"#chillicrab\\ud83e\\udd80\"],[\"#tanglinhaltfoodcentre\"],[\"#coworkingkitchen\"],[\"#michiamkueh\"],[\"#bubbletea\"],[\"#sgheritagefood\"],[\"#fruitsrojak\"],[\"#changicitypoint_sg\"],[\"#chillicrabs\"],[\"#worththecalories\"],[\"#sgblogger\"],[\"#limkopi\"],[\"#\\u5409\\u7965\\u7ea2\\u9f9f\\u7cbf\"],[\"#yummydinner\"],[\"#\\u7ea2\\u9f9f\\u7cbf\"],[\"#staypositive\\ud83d\\udcaf\"],[\"#thankful\"],[\"#lifangcongee\"],[\"#kinexmallsg\"],[\"#whati8todaysg\"],[\"#oystermeesua\\u86b5\\u4ed4\\u9762\\u7ebf\"],[\"#timsum\\u70b9\\u5fc3\"],[\"#claypotcurrychicken\"],[\"#meepokdry\"],[\"#fishandchips\"],[\"#plqmall\"],[\"#tabaolunch\"],[\"#ahmachimian\"],[\"#westernfood\"],[\"#braisedduck\"],[\"#yummylunch\"],[\"#newtonfoodcentre\"],[\"#yongtaufoodry\"],[\"#P2HA\"],[\"#lixinteochewfishballnoodle\"],[\"#longtimenoeat\"],[\"#grabfood\"],[\"#GrabforGood\"],[\"#Grab50thHawkerCentre\"],[\"#\"],[\"#sgclean\"],[\"#hokkienprawnmee\"],[\"#veg_littledragon\"]],\"hovertemplate\":\"label=7<br>one_d=%{x}<br>two_d=%{y}<br>average_likes=%{marker.size}<br>hashtags=%{customdata[0]}<extra></extra>\",\"legendgroup\":\"7\",\"marker\":{\"color\":\"#636efa\",\"size\":[47,43,54,53,41,57,50,49,67,70,37,42,66,40,88,76,68,67,145,164,81,46,138,45,193,44,68,70,198,91,39,219,127,50,79,95,70,253,232,160,61,40,51,47,51,95,124,95,95,91,107,60,62,78,259,159,109,151,64,116,66,277,58,53,58,53,53,58,53,58,59,58,53,58,53,223,53,53,53,62,41,58,53,62,55,58,31,45,58,58,232,62,36,145,49,64,64,61,83,65,38,83,123,83,83,83,145,83,54,83,50,83,83,83,47,30,90,38,54,83,83,54,47,83,54,83,38,32,47,38,54,83,38,38,66,38,47,54,54,54,38,47,30,54,38,108,66,47,108,66,54,38,54,57,38,54,238,108,38,108,54,54,43,171,47,171,66,54,108,171,108,194,108,108,238,171,210,66,171,171,108,66,41,194,194,171,270,57,108,66,171,194,48,171,171,30,255,149,194,88,50,270,48,42,149,255,30,255,50,30,149,341,289,270,270,341,289,57,36,36,41,36,341,40,36,41,41,41,53,48,51,49,57,40,52,41,56,32,49,53,56,49,49,255,49,32,49,48,49,53,49,49,58,32,36,255,56,49,41,49,49,52,41,41,255,44,44,50,46,38,38,43,45,38,62,43,38,49,43,42,38,275,275,275,107,30,51,46],\"sizemode\":\"area\",\"sizeref\":1.095,\"symbol\":\"circle\"},\"mode\":\"markers\",\"name\":\"7\",\"showlegend\":true,\"x\":[3.568948268890381,3.5234463214874268,2.1434881687164307,2.3749442100524902,1.9466986656188965,-1.1149097681045532,-0.6496114730834961,0.1418457329273224,-5.4506683349609375,-1.6759426593780518,-1.7178932428359985,2.2008118629455566,-1.6608963012695312,-1.5594390630722046,1.614833116531372,1.6070234775543213,-14.770123481750488,-13.680684089660645,-12.159782409667969,-8.178003311157227,-18.469017028808594,5.541039943695068,-7.031244277954102,5.559603691101074,-9.193500518798828,-3.4625837802886963,4.249933242797852,5.714158535003662,-7.33070707321167,-6.641047954559326,5.148911952972412,-9.186591148376465,-17.1113224029541,-18.11988639831543,-17.691951751708984,-19.01970100402832,3.0904736518859863,-9.126443862915039,-7.6013503074646,-4.320115566253662,4.781267166137695,-18.510986328125,-13.027009010314941,5.07086181640625,4.649692058563232,-11.8006010055542,-11.636579513549805,-11.782483100891113,-11.849611282348633,-11.866004943847656,-5.53464937210083,-17.964353561401367,-11.718271255493164,-6.758749485015869,-8.25277042388916,-4.094417572021484,4.646342754364014,-11.5490140914917,-12.616835594177246,-3.875077962875366,13.173959732055664,-8.343735694885254,13.56227970123291,-19.444385528564453,13.524036407470703,-19.253215789794922,-19.240413665771484,13.632118225097656,-19.224802017211914,13.724096298217773,13.533899307250977,13.756032943725586,-19.317995071411133,13.533297538757324,-19.2016544342041,-17.58283805847168,-19.31631088256836,-19.40007972717285,-19.261093139648438,13.461867332458496,-11.914451599121094,13.701606750488281,-19.27841567993164,13.493857383728027,-0.636803925037384,13.685418128967285,6.36225700378418,4.1771674156188965,13.584589958190918,13.608717918395996,-8.286332130432129,13.531466484069824,1.884866714477539,-3.444793939590454,4.611395835876465,13.84285831451416,13.868597030639648,13.744654655456543,-12.480520248413086,13.839631080627441,-6.26415491104126,-12.507591247558594,-8.099833488464355,-12.47789478302002,-12.587971687316895,-12.503517150878906,1.1082755327224731,-12.501102447509766,-12.217738151550293,-12.5459623336792,4.463921070098877,-12.520021438598633,-12.516592025756836,-12.499726295471191,-18.992300033569336,13.635947227478027,13.816655158996582,4.590554237365723,-12.237181663513184,-12.555672645568848,-12.511054992675781,-12.2306547164917,4.132903099060059,-12.496443748474121,-12.234063148498535,-12.604795455932617,4.6024489402771,13.932095527648926,-18.983318328857422,4.587456703186035,-12.24724006652832,-12.50855827331543,4.6059370040893555,4.5864667892456055,-19.610445022583008,4.589754581451416,-18.979206085205078,-12.234471321105957,-12.237061500549316,-12.249868392944336,4.5979180335998535,-19.078495025634766,3.8596272468566895,-12.205960273742676,4.58963680267334,-11.122660636901855,-19.646608352661133,-19.07762908935547,-11.15721321105957,-19.59569549560547,-12.223673820495605,4.604272365570068,-12.275615692138672,13.897308349609375,4.593212127685547,-12.229002952575684,-8.374191284179688,-11.134052276611328,4.584474086761475,-11.211407661437988,-12.198868751525879,-12.237846374511719,4.574732780456543,-17.446287155151367,-18.88178825378418,-17.441816329956055,-19.58271026611328,-12.229186058044434,-11.17247200012207,-17.461240768432617,-11.183398246765137,-4.198063373565674,-11.193780899047852,-11.165953636169434,-8.49024772644043,-17.450843811035156,-7.684160232543945,-19.556739807128906,-17.44852066040039,-17.44788932800293,-11.193102836608887,-19.64765167236328,2.1703717708587646,-4.213404655456543,-4.240311622619629,-17.43842887878418,-7.910175323486328,4.445169925689697,-11.203143119812012,-19.562856674194336,-17.439788818359375,-4.182956218719482,-19.078771591186523,-17.480695724487305,-17.444883346557617,-3.8762831687927246,-8.062278747558594,-7.928697109222412,-4.215958595275879,13.519023895263672,3.7334940433502197,-8.116726875305176,-18.925630569458008,3.1572232246398926,-7.836810111999512,-8.097002029418945,-4.373777389526367,-7.950046539306641,3.354825496673584,-4.42915153503418,-7.910061359405518,-8.215265274047852,-8.166266441345215,-7.986794948577881,-7.971381187438965,-8.06832504272461,-8.097651481628418,4.424155235290527,2.15677547454834,2.1408531665802,4.704644680023193,2.150822162628174,-8.156983375549316,-6.329366683959961,2.1504404544830322,4.84241247177124,4.908725261688232,4.786266326904297,3.570594072341919,8.01545524597168,4.50547456741333,4.154587268829346,4.185054779052734,-6.336777687072754,3.4728312492370605,2.954700469970703,3.641284942626953,2.946611166000366,14.182374954223633,3.5081796646118164,3.593895673751831,14.172754287719727,14.212739944458008,-3.841024398803711,4.272363185882568,2.876469373703003,14.173683166503906,8.016247749328613,14.207332611083984,3.4574875831604004,14.158748626708984,4.1553826332092285,4.1650309562683105,3.090988874435425,2.8184304237365723,-3.9048614501953125,3.692164659500122,4.203545570373535,4.108036041259766,4.213239669799805,4.027856826782227,3.564723014831543,4.07929801940918,4.083896160125732,-3.8729300498962402,3.9949541091918945,3.916957139968872,3.0602192878723145,3.8730952739715576,3.787958860397339,3.9182112216949463,3.0076522827148438,3.1044654846191406,2.8262853622436523,3.5867552757263184,2.763439655303955,0.26046594977378845,3.043693780899048,3.0134899616241455,3.3409805297851562,2.6696648597717285,-0.2610257863998413,-0.25170189142227173,-0.24557185173034668,3.9008240699768066,3.9201412200927734,0.2496797889471054,2.2292137145996094],\"xaxis\":\"x\",\"y\":[0.6695083379745483,0.6358552575111389,-4.30745792388916,-3.932431936264038,-4.447680473327637,-3.996466636657715,-4.399697303771973,-4.592288970947266,0.7870861291885376,-3.2156691551208496,-3.080583333969116,-14.501815795898438,-3.1866049766540527,-3.222158670425415,-13.985891342163086,-13.86076831817627,-6.406294345855713,-0.7159712910652161,-12.896303176879883,-9.408929824829102,-2.6908938884735107,-13.646926879882812,-11.90812873840332,-13.649493217468262,-10.476491928100586,-6.31089973449707,9.65092945098877,4.225389003753662,-9.982772827148438,-9.016878128051758,-12.125176429748535,-11.850796699523926,-0.49825233221054077,-0.8303133845329285,8.06507682800293,0.505060613155365,-18.061100006103516,-11.766178131103516,-11.128907203674316,4.072915554046631,1.7886158227920532,-0.6875598430633545,-15.661221504211426,-15.161615371704102,-14.876815795898438,-14.585247039794922,-1.9250314235687256,-14.570690155029297,-14.641202926635742,-14.67089557647705,-8.717082977294922,10.528433799743652,-16.056522369384766,-10.87868881225586,-10.639458656311035,3.47442889213562,2.8237686157226562,-13.076964378356934,-16.159351348876953,2.7137014865875244,8.365121841430664,-10.726678848266602,9.242707252502441,-0.6189377903938293,9.32483959197998,-0.4805956184864044,-0.5897789001464844,9.15160846710205,-0.8527759313583374,9.282722473144531,9.289530754089355,9.197492599487305,-0.5003204345703125,9.141104698181152,-0.8021566867828369,6.998834609985352,-0.4647892713546753,-0.5130172967910767,-0.6392310261726379,9.328784942626953,1.312028408050537,9.215753555297852,-0.6495700478553772,9.15630054473877,-17.98914909362793,9.384592056274414,-6.62444543838501,-14.816512107849121,9.195090293884277,9.180707931518555,-10.800932884216309,9.136499404907227,-9.580187797546387,3.231482744216919,-14.820781707763672,8.968807220458984,8.989616394042969,9.116281509399414,-15.55949592590332,8.997228622436523,-6.566590785980225,-15.500993728637695,-11.165471076965332,-15.520956039428711,-15.54307746887207,-15.51827621459961,-8.717822074890137,-15.552743911743164,-2.1680166721343994,-15.596403121948242,-14.439122200012207,-15.560726165771484,-15.49522590637207,-15.477048873901367,-0.43212854862213135,9.407610893249512,9.476499557495117,-1.5351999998092651,-2.155931234359741,-15.509136199951172,-15.562331199645996,-2.1847524642944336,-13.526531219482422,-15.528498649597168,-2.1866910457611084,-15.439066886901855,-1.5398280620574951,9.077712059020996,-0.5245831608772278,-1.5078788995742798,-2.1668248176574707,-15.535965919494629,-1.5401021242141724,-1.522214651107788,-0.7670584321022034,-1.5194876194000244,-0.6371682286262512,-2.183717966079712,-2.179675817489624,-2.1815428733825684,-1.5270328521728516,-0.6643244028091431,-10.22767448425293,-2.1663031578063965,-1.5391596555709839,-13.762455940246582,-0.8944247364997864,-0.8170115351676941,-13.76784896850586,-0.9194653630256653,-2.191533088684082,-1.5426528453826904,-2.146221876144409,9.243754386901855,-1.5266754627227783,-2.179486036300659,-10.867297172546387,-13.754453659057617,-1.5061885118484497,-13.802157402038574,-2.1723873615264893,-2.170170545578003,-13.837024688720703,7.308884620666504,-0.6164089441299438,7.321500301361084,-0.8607637286186218,-2.1783289909362793,-13.786540031433105,7.295914649963379,-13.780618667602539,3.2457571029663086,-13.808692932128906,-13.782430648803711,-10.823915481567383,7.331671237945557,-10.710853576660156,-0.9729818105697632,7.339941501617432,7.333048343658447,-13.842490196228027,-0.8570219278335571,-2.0259850025177,3.2667601108551025,3.2657105922698975,7.2985639572143555,-10.736366271972656,-14.74738597869873,-13.774051666259766,-0.8102381825447083,7.329322814941406,3.256366729736328,-0.29644352197647095,7.349002838134766,7.345034122467041,-2.019127130508423,-10.420918464660645,-10.483501434326172,3.278956890106201,9.463409423828125,-14.681621551513672,-10.458858489990234,-0.3551087975502014,-13.440400123596191,-10.547737121582031,-10.43737506866455,-1.6880159378051758,-10.435094833374023,-11.708704948425293,-1.7769420146942139,-10.537497520446777,-10.35224723815918,-10.355448722839355,-10.534330368041992,-10.634803771972656,-10.47403335571289,-10.535512924194336,-14.354931831359863,-2.0240671634674072,-2.016221284866333,-13.199935913085938,-2.0179502964019775,-10.385781288146973,-6.850872039794922,-2.014016628265381,-13.180670738220215,-13.206110000610352,-13.208404541015625,-14.626108169555664,-8.742134094238281,-14.011817932128906,-14.17947769165039,-14.32330322265625,-6.8331298828125,-13.621828079223633,-12.945009231567383,-11.65200138092041,-13.081963539123535,-5.848682403564453,-14.683550834655762,-11.644750595092773,-5.841657638549805,-5.861353397369385,3.562051773071289,-11.322449684143066,-12.97653865814209,-5.838256359100342,-8.729466438293457,-5.849110126495361,-14.3046875,-5.830704212188721,-14.173151969909668,-14.710346221923828,-13.295679092407227,-13.681281089782715,3.554741859436035,-11.686518669128418,-11.458475112915039,-12.412671089172363,-11.276124954223633,-14.211214065551758,-13.476583480834961,-12.443747520446777,-12.613086700439453,3.543940782546997,-12.37575626373291,-12.257784843444824,-13.376545906066895,-12.996427536010742,-12.4937744140625,-12.60118293762207,-12.859431266784668,-12.109041213989258,-13.509040832519531,-13.83422565460205,-12.962630271911621,-3.242640972137451,-12.680060386657715,-12.847602844238281,-12.887099266052246,-13.0084810256958,3.527017593383789,3.5369300842285156,3.5343055725097656,9.875077247619629,9.850279808044434,-3.254601240158081,-2.0197932720184326],\"yaxis\":\"y\",\"type\":\"scattergl\"},{\"customdata\":[[\"#hawkerculture\"],[\"#singaporefood\"],[\"#foodporn\"],[\"#foodie\"],[\"#foodstagram\"],[\"#singapore\"],[\"#food\"],[\"#foodphotography\"],[\"#sgfoodhunt\"],[\"#supportsmallbusiness\"],[\"#chickenrice\"],[\"#foodpics\"],[\"#8dayseat\"],[\"#foodies\"],[\"#foodblogger\"],[\"#noodles\"],[\"#igfood\"],[\"#sginfluencer\"],[\"#foodgasm\"],[\"#singapore\\ud83c\\uddf8\\ud83c\\uddec\"],[\"#sgcafe\"],[\"#fishballnoodles\"],[\"#foodgram\"],[\"#foodshare\"],[\"#meepok\"],[\"#foodcoma\"],[\"#sgrestaurant\"],[\"#delicious\"],[\"#yummyfood\"],[\"#foodinsg\"],[\"#friedchickenwings\"],[\"#foodstylist\"],[\"#instafoodie\"],[\"#sgdaily\"],[\"#travel\"],[\"#sg\"],[\"#travelphotography\"],[\"#foodspotting\"],[\"#chinesefood\"],[\"#chicken\"],[\"#zichar\"],[\"#prawnnoodles\"],[\"#foodpornsg\"],[\"#chinese\"],[\"#japanesefood\"],[\"#tiongbahru\"],[\"#porridge\"],[\"#foodart\"],[\"#zicharfood\"],[\"#travelblogger\"],[\"#foodstyling\"],[\"#traveladdict\"],[\"#\\u83dc\\u5934\\u7cbf\"],[\"#koreanfood\"],[\"#foodlovers\"],[\"#phase2\"],[\"#meerebus\"],[\"#foodheaven\"],[\"#foodblog\"],[\"#korea\"],[\"#curry\"],[\"#SingaporeFood\"],[\"#foodpornasia\"],[\"#Congress\"],[\"#fooddiary\"],[\"#foodforthought\"],[\"#kopitiam\"],[\"#Seafood\"],[\"#cheap\"],[\"#pasirris\"],[\"#bcm\"],[\"#SGFoodies\"],[\"#foodgramsg\"],[\"#mincedporknoodles\"],[\"#korean\"],[\"#koreanfoodlovers\"],[\"#seafoodcongee\"],[\"#travelpics\"],[\"#prawns\"],[\"#jalanbesar\"],[\"#scissorscutcurryrice\"],[\"#meepoktah\"],[\"#foodbloggers\"],[\"#foodforfoodies\"],[\"#trending\"],[\"#curryrice\"],[\"#koreanfoodsg\"],[\"#haidilaosingapore\"],[\"#foodofinstagram\"],[\"#foodiesofig\"],[\"#foodbloggerSG\"],[\"#support\"],[\"#foodprep\"],[\"#foodphotographer\"],[\"#eatnowburnnexttime\"],[\"#hainanesecurryrice\"],[\"#orhluak\"],[\"#eeeeeats\"],[\"#training\"],[\"#igfoodies\"],[\"#shiokfoodsg\"],[\"#singaporefoodporn\"],[\"#hotpot\"],[\"#pigorgansoup\"],[\"#eatingforinsta\"],[\"#haidilao\"],[\"#thesingaporefoodbutler\"],[\"#sgdining\"],[\"#oyster\"],[\"#thaibasil\"],[\"#foodinstagram\"],[\"#amoyfoodcentre\"],[\"#nourishyoursoul\"],[\"#delish\"],[\"#eidmubarak\"],[\"#oysteromellete\"],[\"#wanton\"],[\"#hariraya\"],[\"#hollandbukittimahgrc\"],[\"#travelawesome\"],[\"#sgfoodhunter\"],[\"#eatersg\"],[\"#thaicuisine\"],[\"#foodpornography\"],[\"#madaboutsingapore\"],[\"#halalsg\"],[\"#orhluaksg\"],[\"#amoy\"],[\"#hollandbukittimah\"],[\"#ahgohgohlaksa\"],[\"#greenchilichickenrice\"],[\"#rayyanswaroengupnormal\"],[\"#eidilfitri\"],[\"#staysafe\"],[\"#thaibasilchicken\"],[\"#bukittimahhawkercentre\"],[\"#dumplings\"],[\"#sgbreakfast\"],[\"#ilovehawkerfood\"],[\"#sdphbt\"],[\"#yoursdp\"],[\"#bukittimah\"],[\"#Singapore\"],[\"#rwp\"],[\"#stayhealthy\"],[\"#flightmeal\\u2708\\ufe0f\"],[\"#airlinefoodselfie\"],[\"#joyousdec21\"],[\"#simsvistamarketandfoodcentre\"],[\"#amoystreetfoodcentre\"],[\"#simsvista\"],[\"#amoystreetfoodcenter\"],[\"#kosong\"],[\"#rotiprataegg\"],[\"#\\u5403\\u8d27\"],[\"#peoplesparkfoodcentre\"],[\"#\\u5370\\u5ea6\\u714e\\u997c\"],[\"#bepositive\"],[\"#\\u5c0f\\u8d29\\u4e2d\\u5fc3\"],[\"#shotbyiphone\"],[\"#ljonelrecommends\"],[\"#hakkacusine\"],[\"#wfh\"]],\"hovertemplate\":\"label=4<br>one_d=%{x}<br>two_d=%{y}<br>average_likes=%{marker.size}<br>hashtags=%{customdata[0]}<extra></extra>\",\"legendgroup\":\"4\",\"marker\":{\"color\":\"#EF553B\",\"size\":[30,52,75,46,62,74,65,49,174,106,93,153,182,73,123,31,46,135,121,115,44,37,69,112,44,33,44,35,61,196,279,209,300,134,209,209,209,175,48,35,41,42,50,48,184,31,165,200,48,199,229,199,39,89,120,32,30,32,230,171,34,361,361,60,54,73,230,60,230,60,73,361,73,73,171,171,60,171,60,47,47,73,228,361,171,34,171,228,361,361,73,230,171,361,361,47,66,83,171,83,42,42,228,39,83,228,83,83,66,37,83,46,42,83,56,66,46,56,38,228,42,83,37,42,38,56,66,46,38,36,123,56,56,56,37,38,46,42,123,38,38,38,38,56,56,123,123,123,123,56,123,56,55,55,54,54,55,55,54,54,30,30,30],\"sizemode\":\"area\",\"sizeref\":1.095,\"symbol\":\"circle\"},\"mode\":\"markers\",\"name\":\"4\",\"showlegend\":true,\"x\":[7.5690083503723145,3.0099387168884277,-10.32083511352539,-4.5557122230529785,-4.573248863220215,0.7009403109550476,-10.862621307373047,-5.920357704162598,-11.666595458984375,-13.885297775268555,-13.88296890258789,-10.585245132446289,-8.677032470703125,-9.385696411132812,-10.372750282287598,1.163547396659851,-5.798020362854004,-6.297665596008301,-13.001952171325684,-7.0266618728637695,-13.001787185668945,-5.77114200592041,-10.500843048095703,-12.10909366607666,10.694618225097656,2.0113747119903564,-13.04599380493164,-3.961557149887085,-11.641246795654297,-13.845948219299316,-14.296897888183594,-9.184369087219238,-14.291131973266602,-7.565176486968994,-9.271347999572754,-9.151573181152344,-9.231806755065918,-8.553945541381836,-13.763221740722656,-4.57411003112793,-13.99067497253418,-14.526213645935059,-11.474019050598145,-13.599420547485352,-11.51842212677002,10.443795204162598,-13.69214916229248,-9.165812492370605,-13.935920715332031,-9.542608261108398,-9.04698657989502,-9.556828498840332,5.399284839630127,-9.001503944396973,-8.635250091552734,-12.858461380004883,0.6227681040763855,-10.171280860900879,-8.777957916259766,-9.521612167358398,-13.465079307556152,-14.131265640258789,-14.134836196899414,-14.04550838470459,5.157810211181641,-11.93563175201416,-8.800601959228516,-14.024971008300781,-8.8011474609375,-13.859461784362793,-11.9434232711792,-14.140362739562988,-11.94913101196289,-11.959345817565918,-9.498995780944824,-9.471549034118652,-13.912712097167969,-9.52963638305664,-14.035676956176758,-13.374960899353027,-13.377440452575684,-11.951967239379883,-9.523978233337402,-14.135266304016113,-9.512120246887207,-13.501656532287598,-9.493141174316406,-9.561331748962402,-14.135591506958008,-14.119730949401855,-11.955343246459961,-8.91511058807373,-9.492364883422852,-14.133158683776855,-14.1383695602417,-13.556426048278809,-13.679961204528809,-0.5460286736488342,-9.5089750289917,-0.5144250988960266,-10.26555061340332,-10.304068565368652,-9.465665817260742,-10.314711570739746,-0.5443556904792786,-9.618504524230957,-0.5676321387290955,-0.5417457222938538,-13.703279495239258,2.9994821548461914,-0.5464887022972107,-12.871783256530762,-10.288570404052734,-0.5417225360870361,-2.209420919418335,-13.819647789001465,-13.16231918334961,-2.211726188659668,-7.035459041595459,-9.576247215270996,-10.304925918579102,-0.5237619280815125,3.0050413608551025,-10.272079467773438,-7.023678779602051,-2.2106738090515137,-13.839008331298828,-13.115388870239258,-7.030242919921875,-10.331308364868164,0.7459449172019958,-2.2062227725982666,-2.2128007411956787,-2.2112810611724854,2.976013660430908,-7.029777526855469,-12.979034423828125,-10.285826683044434,0.7448781728744507,-7.040976047515869,-7.034782409667969,-7.032538414001465,-7.034023284912109,-2.2023041248321533,-2.207097053527832,0.744140088558197,0.7452126741409302,0.7465825080871582,0.7465728521347046,-2.2060587406158447,0.7456961274147034,-2.208789348602295,4.635928630828857,4.6382060050964355,5.407036304473877,5.447426795959473,4.6282453536987305,4.595688343048096,5.4486799240112305,5.446254730224609,-1.5150090456008911,-1.5096235275268555,-1.5076850652694702],\"xaxis\":\"x\",\"y\":[0.057173531502485275,0.8929443955421448,-5.973438739776611,-4.295945167541504,-4.359774589538574,7.975682735443115,-6.27516508102417,-1.6147841215133667,-8.338134765625,-5.971909523010254,-14.305376052856445,5.217841148376465,-9.540932655334473,-2.789440393447876,3.73030948638916,-19.89456558227539,-1.1085007190704346,4.067176342010498,2.5748541355133057,11.915018081665039,-6.725717067718506,-19.080299377441406,3.756009340286255,2.1427512168884277,-9.001595497131348,-19.91259002685547,-7.366952896118164,-19.866846084594727,-6.960334300994873,3.6706008911132812,5.669279098510742,5.383738040924072,5.717072486877441,2.9136910438537598,5.456021785736084,5.504153728485107,5.398006916046143,-5.635594367980957,-7.295344352722168,-21.22052764892578,-7.595028877258301,-7.760977745056152,1.8115687370300293,-7.4505462646484375,-8.234785079956055,-5.363098621368408,-8.359777450561523,5.3928961753845215,-7.356915473937988,5.803016185760498,5.057736396789551,5.79157829284668,3.486943006515503,6.5768818855285645,4.500683307647705,-7.027266502380371,-12.30141544342041,2.211059331893921,4.80715274810791,6.002679824829102,-6.955996036529541,3.463906764984131,3.4559524059295654,-7.552116870880127,5.537266731262207,1.4800539016723633,4.811375141143799,-7.636029243469238,4.768443584442139,-7.5530805587768555,1.4490309953689575,3.4633240699768066,1.4293341636657715,1.4572991132736206,6.104681491851807,6.1158528327941895,-7.637082099914551,6.083230495452881,-7.593001842498779,-7.078206539154053,-7.029947757720947,1.4537774324417114,5.338257312774658,3.476632833480835,6.129873752593994,-7.010950565338135,6.09157657623291,5.345292091369629,3.463721990585327,3.4446444511413574,1.4651036262512207,4.880838394165039,6.0637125968933105,3.464778184890747,3.4661200046539307,-6.9763875007629395,-7.316957950592041,-18.228225708007812,6.087165355682373,-18.247154235839844,2.2103195190429688,2.1930363178253174,5.29755163192749,2.1796510219573975,-18.21592140197754,5.393111705780029,-18.248205184936523,-18.232345581054688,-7.283475399017334,-20.39961051940918,-18.24332618713379,-7.404212951660156,2.202991008758545,-18.229339599609375,-11.189910888671875,-7.2965168952941895,-7.385011196136475,-11.188868522644043,2.0495128631591797,5.498368263244629,2.1883904933929443,-18.24564552307129,-20.32326889038086,2.200333833694458,2.0382823944091797,-11.194222450256348,-7.36720609664917,-7.397458076477051,2.045090913772583,2.1852810382843018,-6.243342399597168,-11.188082695007324,-11.19344711303711,-11.190332412719727,-20.303926467895508,2.036646842956543,-7.320882320404053,2.1949596405029297,-6.232827186584473,2.0618958473205566,2.0400586128234863,2.043307304382324,2.0441439151763916,-11.193313598632812,-11.18764591217041,-6.233510494232178,-6.237943649291992,-6.235640525817871,-6.240411281585693,-11.193766593933105,-6.232333660125732,-11.190755844116211,6.1318817138671875,6.124868392944336,5.138700485229492,5.03359842300415,6.134176731109619,6.148624897003174,5.072484970092773,5.050590991973877,10.023469924926758,10.018514633178711,10.017955780029297],\"yaxis\":\"y\",\"type\":\"scattergl\"},{\"customdata\":[[\"#hawkercentre\"],[\"#hawkersg\"],[\"#hawker\"],[\"#sghawker\"],[\"#ourhawkerculture\"],[\"#supportlocal\"],[\"#sghawkerculture\"],[\"#singaporefoodie\"],[\"#supporthawker\"],[\"#singaporehawkerfood\"],[\"#\\u7504\\u597d\\u5403\"],[\"#chinhojiak\"],[\"#\\u7504\\u597d\\u4ecb\\u7ecd\"],[\"#singaporefoodculture\"],[\"#chinhogaixiao\"],[\"#livetoeat\"],[\"#nasilemak\"],[\"#rotiprata\"],[\"#abcmarket\"],[\"#friedrice\"],[\"#fishballnoodle\"],[\"#ramen\"],[\"#meesiam\"],[\"#claypotrice\"],[\"#ghimmoh\"],[\"#vegetarian\"],[\"#toapayoh\"],[\"#\\u6cb9\\u9e21\\u9762\"],[\"#noodlesoup\"],[\"#barchormee\"],[\"#clementifoodcentre\"],[\"#tiongbahrumarket\"],[\"#boatquay\"],[\"#soysaucechickennoodle\"],[\"#meekia\"],[\"#tiongbahrufood\"],[\"#clementihawker\"],[\"#eunosbarchormee\"],[\"#tiongbahruhawker\"],[\"#nomeatballsplease\"],[\"#\\u5403\\u4e0d\\u5230\\u4e0d\\u8981\\u602a\\u6211\"],[\"#seafoodsoup\"],[\"#bedokbarchormee\"],[\"#clementifood\"],[\"#clementi\"],[\"#prata\"],[\"#tanjongpagar\"],[\"#soysaucechicken\"],[\"#\\u7092\\u996d\"],[\"#seafood\"],[\"#toapayohfood\"],[\"#japan\"],[\"#redhillcoffeeshop\"],[\"#vegetarianbeehoon\"],[\"#redhill\"],[\"#chinesenasilemak\"],[\"#yakiniku\"],[\"#eunos\"],[\"#tebangardens\"],[\"#fochroad\"],[\"#queenstown\"],[\"#tebangardensfoodcentre\"],[\"#barchormeesoup\"],[\"#prawnmeesoup\"],[\"#tiongbahrufoodcentre\"],[\"#serangoon\"],[\"#songkeefishball\"],[\"#barchor\"],[\"#prawnmee\"],[\"#\\u6ce1\\u996d\"],[\"#claypot\"],[\"#abchawkercentre\"],[\"#serangoonfood\"],[\"#geylangfood\"],[\"#tebangarden\"],[\"#superwokhey\"],[\"#toapayohhawker\"],[\"#wemissjapan\"],[\"#queenstownfood\"],[\"#alexandravillage\"],[\"#\\u4e00\\u5f97\\u9601\"],[\"#tiongbahruhawkercentre\"],[\"#ghimmohfoodcentre\"],[\"#toapayohcoffeeshop\"],[\"#chickenpot\"],[\"#\\u6bdb\\u7b14\"],[\"#\\u7ea2\\u7eb8\"],[\"#abcbrickworksmarket\"],[\"#paofan\"],[\"#\\u6977\\u4e66\"],[\"#\\u5c0f\\u8d29\"],[\"#\\u6708\\u5149\\u6cb3\\u7c89\"],[\"#\\u4e00\\u5f97\\u9601\\u58a8\\u6c41\"],[\"#\\u6625\\u8054\"],[\"#abcbrickworksfoodcentre\"],[\"#sglocal\"],[\"#yuzu\"],[\"#\\u6c99\\u7239\"],[\"#abcfood\"],[\"#bluepea\"],[\"#rendangchicken\"],[\"#butterflypea\"],[\"#culturespoonsg\"],[\"#supporthawkers\"],[\"#mothersday\"],[\"#yummylocalfare\"],[\"#wavebye21\"]],\"hovertemplate\":\"label=0<br>one_d=%{x}<br>two_d=%{y}<br>average_likes=%{marker.size}<br>hashtags=%{customdata[0]}<extra></extra>\",\"legendgroup\":\"0\",\"marker\":{\"color\":\"#00cc96\",\"size\":[34,33,30,33,52,60,45,78,38,50,41,41,41,41,41,74,49,40,39,35,45,35,52,51,36,31,47,47,31,35,47,40,31,47,31,36,47,40,40,31,46,34,31,47,47,40,41,47,50,34,47,33,46,46,46,41,33,40,34,47,36,34,40,34,33,43,47,34,34,45,47,50,43,33,40,49,47,33,36,34,52,40,51,47,43,52,52,36,45,52,52,49,52,52,36,38,41,52,40,48,48,48,48,32,36,98,98],\"sizemode\":\"area\",\"sizeref\":1.095,\"symbol\":\"circle\"},\"mode\":\"markers\",\"name\":\"0\",\"showlegend\":true,\"x\":[7.84027099609375,1.8340327739715576,2.229789972305298,2.043506145477295,11.94461441040039,11.960351943969727,10.737706184387207,11.16960620880127,9.346518516540527,12.206958770751953,12.533875465393066,12.532458305358887,12.540661811828613,12.563197135925293,12.5457181930542,7.714606761932373,8.617691040039062,4.603378772735596,11.62351131439209,-5.13280725479126,8.829451560974121,7.254546165466309,8.758367538452148,8.868976593017578,8.359010696411133,7.863375186920166,9.14709758758545,10.554156303405762,10.16247844696045,9.955467224121094,10.100920677185059,10.380638122558594,10.026561737060547,11.068124771118164,9.928497314453125,10.811744689941406,11.122068405151367,9.996484756469727,9.687518119812012,10.097176551818848,8.352425575256348,10.082747459411621,10.02877140045166,10.922663688659668,10.94335651397705,9.131241798400879,9.555200576782227,10.974206924438477,11.305691719055176,10.319086074829102,9.434191703796387,10.804790496826172,8.375834465026855,8.287034034729004,8.594868659973145,9.021767616271973,9.932608604431152,9.623587608337402,9.61923599243164,9.107538223266602,11.666358947753906,9.674153327941895,9.168901443481445,9.25987720489502,10.362662315368652,10.601065635681152,9.4669771194458,10.138432502746582,9.702509880065918,9.704055786132812,9.28061294555664,11.415154457092285,10.516060829162598,10.21107006072998,8.70754337310791,10.019335746765137,9.511298179626465,10.438986778259277,11.665149688720703,9.855993270874023,17.05586051940918,9.979964256286621,9.321361541748047,8.970860481262207,10.963706016540527,17.057456970214844,17.06060218811035,11.663054466247559,9.215551376342773,17.052845001220703,17.060752868652344,10.493496894836426,17.058740615844727,17.06336212158203,11.660197257995605,11.655736923217773,9.1258544921875,17.055917739868164,11.650835037231445,8.028910636901855,8.028923988342285,8.02116584777832,8.025731086730957,11.665188789367676,11.670689582824707,2.1677615642547607,2.1459574699401855],\"xaxis\":\"x\",\"y\":[-0.3193729519844055,1.7092787027359009,-4.326789379119873,-4.395662307739258,-4.479650497436523,-1.3559995889663696,-0.9057711362838745,-5.220984935760498,-0.951886773109436,-1.746897578239441,-2.4595813751220703,-2.4466536045074463,-2.4790165424346924,-2.5053040981292725,-2.4523372650146484,9.499388694763184,-6.867398738861084,6.13300895690918,-7.448192119598389,-14.370814323425293,-6.104287624359131,-1.2598673105239868,-6.353963375091553,-6.005988121032715,-1.7597386837005615,-3.9026613235473633,-4.611559867858887,-2.863058090209961,-2.0238730907440186,-1.8859058618545532,-3.3002212047576904,-4.771383762359619,-1.895186185836792,-2.4488978385925293,-2.6389124393463135,-4.448454856872559,-2.2922451496124268,-2.6068332195281982,-4.167988300323486,-2.8138222694396973,-3.570636510848999,-2.1218996047973633,-2.5968377590179443,-2.7131059169769287,-2.8579320907592773,-3.1724765300750732,-2.980429172515869,-2.267544984817505,-4.03595495223999,-2.43977952003479,-4.412110805511475,-3.8467090129852295,-3.7593321800231934,-3.81144642829895,-3.5875661373138428,-2.4028496742248535,-3.7496399879455566,-2.842797040939331,-2.3236968517303467,-3.2054390907287598,-7.751195907592773,-2.414571523666382,-2.429743766784668,-2.6442222595214844,-4.271142482757568,-3.373985767364502,-3.8128368854522705,-1.4345506429672241,-2.2124826908111572,-3.785338878631592,-4.090506553649902,-3.82867431640625,-3.4230616092681885,-3.492844343185425,-2.541846752166748,-2.5556185245513916,-4.118204116821289,-3.2938756942749023,-7.758261203765869,-2.209700584411621,-4.1027421951293945,-3.8632524013519287,-2.9779868125915527,-3.5910913944244385,-3.66827130317688,-4.081525802612305,-4.089183807373047,-7.758387088775635,-3.5427768230438232,-4.101696968078613,-4.077304840087891,-3.163346290588379,-4.082204818725586,-4.116065979003906,-7.742281913757324,-7.783629894256592,-2.84783673286438,-4.086071968078613,-7.78970193862915,-8.708649635314941,-8.71426773071289,-8.72736644744873,-8.714282035827637,-7.697173595428467,-7.760380268096924,1.7638118267059326,1.7451999187469482],\"yaxis\":\"y\",\"type\":\"scattergl\"},{\"customdata\":[[\"#burpple\"],[\"#DCfoodjournal\"],[\"#localfood\"],[\"#kopiculture\"],[\"#ilovecoffee\"],[\"#touristinhomecountry\"],[\"#localcoffee\"],[\"#igsgfood\"],[\"#satay\"],[\"#hawkerheritage\"],[\"#igsgdrinks\"],[\"#covid\"],[\"#singaporeheritage\"],[\"#meatball\"],[\"#coffeeislife\"],[\"#yuanyangpengsiudai\"],[\"#butfirstcoffee\"],[\"#bakersim\"],[\"#sgcoffee\"],[\"#bakersimfood\"],[\"#shiok\"],[\"#localbusiness\"],[\"#coffeenation\"],[\"#onsenegg\"],[\"#bestnasilemakintown#worththewait\"],[\"#localculture\"],[\"#hawkerculture#hawkerculturesg\"],[\"#singaporeculture\"],[\"#nasilemakayamtaliwang\"],[\"#\\u0633\\u0646\\u063a\\u0627\\u0641\\u0648\\u0631\\u0629\"],[\"#hawkerfood#hawkerfoodsg#hawkercentre\"],[\"#\\u0632\\u0648\\u0631\\u0648\\u0627_\\u0633\\u0646\\u063a\\u0627\\u0641\\u0648\\u0631\\u0629\"],[\"#gracefulleejurongeast\"],[\"#02-35\"],[\"#gracefulleeTanjongPagar\"],[\"#01-05,\"],[\"#gracefulleeCommonwealth\"],[\"#02-93\"],[\"#localeats\"],[\"#VisitSingapore.\"],[\"#hawkerlegacy\"],[\"#oneprawnnoodle#\\u4e00\\u865f\\u8766\\u9eb5\"],[\"#nasilemakayamtaliwangsg#halalfoodie#halalfoodiesg#halalfood#hawkercentresg#hawkerculturesg\"],[\"#bestnasilemaksg\"],[\"#impressive\"],[\"#awesomefood\"],[\"#exploration\"],[\"#unescointangibleculturalheritage\"],[\"#lifestories\"],[\"#hokkienmee\"],[\"#livelifetothefullest\"],[\"#livelife\"],[\"#grateful\"],[\"#besurprised\"],[\"#hueats\"],[\"#dessertsg\"],[\"#beextraordinary\"],[\"#vegetariansg\"],[\"#meihueats\"],[\"#sengkeebakkutteh\"],[\"#iwannacomebackhere\"],[\"#foodexploring\"],[\"#curious\"],[\"#lovefood\"],[\"#explorefood\"],[\"#lifeblogger\"],[\"#beoriginal\"],[\"#foodrecommendation\"],[\"#wakerchickensg\"],[\"#goodfood\"],[\"#love\"],[\"#angmokio\"],[\"#\\u6210\\u8a18\\u8089\\u9aa8\\u8336\"],[\"#ilikefood\"],[\"#foodreview\"],[\"#vegansg\"],[\"#foods\"],[\"#singaporeteochewfood\"],[\"#lifeblog\"],[\"#hainanese\"],[\"#iwillbeback\"],[\"#affordable\"],[\"#coffeebreak\"],[\"#sghawkercentre\"],[\"#glutenfreesg\"],[\"#weekendcoffee\"],[\"#localdessert\"],[\"#cat\"],[\"#nokonnyaku\"],[\"#fishsoup\"],[\"#foodexplorer\"],[\"#agaragar\"],[\"#foodillustration\"],[\"#maxwellfoodcentre\"],[\"#morningcoffee\"],[\"#teochew\"],[\"#coffeeislove\"],[\"#positive\"],[\"#sggdfood\"],[\"#drawingpassion\"],[\"#nokonjac\"],[\"#weekendcoffeesg\"],[\"#wakerchicken\"],[\"#bakkutteh\"],[\"#agarcakesingapore\"],[\"#coffeeisdrug\"],[\"#yummypigtrotter\"],[\"#foodhunt\"],[\"#liveforfood\"],[\"#foodpassion\"],[\"#catdrawing\"],[\"#wahoo\"],[\"#chongboonmarket\"],[\"#kopimore\"],[\"#yuanyangcoffee\"],[\"#sgcoffeefest\"],[\"#\\u6f6e\\u5dde\\u7f8e\\u98df\"],[\"#hungry\"],[\"#coffeeandfriends\"],[\"#specialtycoffeesg\"],[\"#dreams\"],[\"#howilikemycoffee\"],[\"#morningfix\"],[\"#coffeevibes\"],[\"#catlovers\"],[\"#backformore\"],[\"#travelathome\"],[\"#sengkee\"],[\"#traveldiary\"],[\"#cartoon\"],[\"#kopiandtoast\"],[\"#coffeeart\"],[\"#coffeelover\"],[\"#localpeople\"],[\"#walktheworldthroughcoffee\"],[\"#cheecheongfun\"],[\"#coffeeortea\"],[\"#kopi\"],[\"#latteart\"],[\"#sgkopi\"],[\"#tapiocakueh\"],[\"#specialtycoffee\"],[\"#traditionalcoffee\"],[\"#coffeebrew\"],[\"#takeaway\"],[\"#naise\"],[\"#ondehondehcake\"],[\"#throwback\"],[\"#fishball\"],[\"#drinksreviewsg\"],[\"#hainesechickenrice\"],[\"#whitechicken\"],[\"#flavoursomesoup\"],[\"#justsaying\"],[\"#fishmaw\"],[\"#chickencutlet\"],[\"#yummydeals\"],[\"#curiousaccountant\"],[\"#fightofthebestfishballnoodle\"],[\"#expatsingapore\"],[\"#expatsg\"],[\"#flavourbomb\"],[\"#coffeeshopsg\"],[\"#coffeeartist\"],[\"#foodcomparing\"],[\"#sgcoffeeshop\"],[\"#eatyourvegetables\"],[\"#braisedmushrooms\"],[\"#healthyeating\"],[\"#coronavirussingapore\"],[\"#cheeseburgers\"],[\"#covid_19\"],[\"#dabao\"],[\"#unescohawkerculture\"],[\"#burgers\"],[\"#dapaoculture\"],[\"#coffeeandtea\"],[\"#bestchickenrice\"],[\"#sengkeebakchormee\"],[\"#exploringamk\"],[\"#expatlivingsg\"],[\"#covid_19singapore\"],[\"#umami\"],[\"#lorbakmama\"],[\"#foodtrend\"],[\"#travelsoon\"],[\"#travelgoals\"],[\"#\\u1d20\\u1d00\\u1d04\\u1d04\\u026a\\u0274\\u1d07ss\\u1d00\\u1d20\\u1d07\\u029f\\u026a\\u1d20\\u1d07s\"],[\"#ramensg\"],[\"#localfare\"],[\"#beefburgers\"],[\"#gubakkia\"],[\"#prawnnoodle\"],[\"#wokhei\"],[\"#igsgfoodies\"],[\"#\\u86cb\\u9999\\u5473\"],[\"#168currychicken\"],[\"#02-32\"],[\"#stjohnisland\"],[\"#geylangbriyanistall\"],[\"#01-14\"],[\"#eatlikealocal\"],[\"#indianexpats\"],[\"#yuanyangpeng\"],[\"#singaporefoodscene\"],[\"#01-44\"],[\"#hawkercenter\"],[\"#salmonmentaiko\"],[\"#instafood_sg\"],[\"#cheapeats\"],[\"#covidtakeaway\"],[\"#localway\"],[\"#01-93,\"],[\"#japanese\"],[\"#kopisg\"],[\"#sliimuffin\"],[\"#oneprawnnoodle\"],[\"#singaporeanindian\"],[\"#muffins\"],[\"#kopio\"],[\"#laska\"],[\"#yuanyang\"],[\"#01-38,\"],[\"#cheecheongfunclub\"],[\"#eatlikeaqueen\"],[\"#singaporeanindiannarrative\"],[\"#01-39\"],[\"#munchidelights\"],[\"#healthyliving\"],[\"#muffinsg\"],[\"#minjiangkueh\"],[\"#singaporehistory\"],[\"#ricebowl\"],[\"#beautyworldcentre\"],[\"#beehoon\"],[\"#simple\"],[\"#thepeaksg\"],[\"#yishunparkhawkercentre\"],[\"#yypsd\"],[\"#pancake\"],[\"#ahsengbraisedduckrice\"],[\"#01-36,\"],[\"#dapao\"],[\"#foodislife\"],[\"#\\u597d\\u5403\"],[\"#muffin\"],[\"#ahterfishballnoodles\"],[\"#beprepared\"],[\"#japanesedon\"],[\"#eggy\"],[\"#p2ha\"],[\"#kkitchensg\"],[\"#projectdignity\"],[\"#katonglaksa\"],[\"#explore_singapore\"],[\"#mentaiko\"],[\"#01-01,\"],[\"#top3kwaychapthusfar\"],[\"#drynoodles\"],[\"#04-44,\"],[\"#mural\"],[\"#fullofflavours\"],[\"#01-26,\"],[\"#braisedduckrice\"],[\"#artiseverywhere\"],[\"#chickenball\"],[\"#\\u58c1\\u30a2\\u30fc\\u30c8\"],[\"#1\"],[\"#saltedvegetable\"],[\"#\\u30b7\\u30f3\\u30ac\\u30dd\\u30fc\\u30eb\\u6563\\u6b69\"],[\"#meehoonkueh\"],[\"#01-101,\"],[\"#top1handmadenoodle\"],[\"#ionorchard\"],[\"#anoodlestory\"],[\"#springleafprataplace\"],[\"#\\u624b\\u5de5\\u9762\\u7c89\\u7cbf\"],[\"#handmade\"],[\"#sinhoehuatcafe\"],[\"#01-20,\"],[\"#handmadenoodles\"],[\"#coffeeshop\"],[\"#sengkeemushroommincedmeatnoodle\"],[\"#whatieatinaday\"],[\"#xinglongcookedfood\"],[\"#lazarusisland\"],[\"#\\u58c1\\u30a2\\u30fc\\u30c8\\u63a2\\u3057\"],[\"#serangoongardenfoodcentre\"],[\"#lormeesg\"],[\"#sembawanghillsfoodcentre\"],[\"#02-88,\"],[\"#lormee\"],[\"#stickycakewithsweetpotato\"],[\"#umamibroth\"],[\"#01-33,\"],[\"#01-44,\"],[\"#hillstreettaihwaporknoodles\"],[\"#wuxiang\"],[\"#02-048,\"],[\"#michelinstar\"],[\"#01-17,\"],[\"#whatihadforlunch\"],[\"#kolomee\"],[\"#angmokiolohmeelaksa\"],[\"#kopifellas\"],[\"#madroaster\"],[\"#unagiricebowl\"],[\"#unagi\"],[\"#saturday\"],[\"#savefnbsg\"],[\"#01-53,\"],[\"#xiujiikanbilisyongtaufu\"],[\"#04-67,\"],[\"#boonkeng\"],[\"#chinatowncomplexfoodcentre\"],[\"#laosankwaychap\"],[\"#hawkerheroes\"],[\"#kingoffriedrice\"],[\"#airportfood\"],[\"#ishirosg\"],[\"#gorengpisang\"],[\"#\\u86cb\\u7092\\u98ef\"],[\"#laozhongzhong\"],[\"#fnbsg\"],[\"#whatiatetoday\"],[\"#nomnom\"],[\"#sghistory\"],[\"#chompchompfoodcentre\"],[\"#sweeguanhokkienmee\"],[\"#01-17\"],[\"#\\u732a\\u6252\\u996d\"],[\"#ngohhiang\"],[\"#tiongbahrumarketandfoodcentre\"],[\"#zicharnation\"],[\"#teamfnbsg\"],[\"#bainianyongtaufoo\"],[\"#victorfamousfriedchickenwingrice\"],[\"#kasohsg\"],[\"#the1950scoffee\"],[\"#sourspicychili\"],[\"#oldshifucharcoalporridge\"],[\"#sugarcanejuice\"],[\"#redcross\"],[\"#tribecar\"],[\"#caifan\"],[\"#oldairportroadfoodcentre\"],[\"#01-12,\"],[\"#dapaonation\"],[\"#caipng\"],[\"#janusgoesnomnom\"],[\"#gluteniousrice\"],[\"#porkcutlet\"],[\"#proudtosupport\"],[\"#carsharing\"],[\"#cantoneseporridge\"],[\"#lovesg\"],[\"#notsponsored\"],[\"#mobilephotography\"],[\"#01-27\"],[\"#llama\"],[\"#01-5109,\"],[\"#02-107,\"],[\"#sgrestaurants\"],[\"#newfinds\"],[\"#butterfly\"],[\"#travel2021\"],[\"#drynoodle\"],[\"#bedokmarketplace\"],[\"#uniquelysg\"],[\"#ahhockfriedhokkienmee\"],[\"#westernbarbeque\"],[\"#sgfoodiary\"],[\"#heapsengleong\"],[\"#ion\"],[\"#killineykopithiam\"],[\"#walkabout\"],[\"#lovehawkerfood\"],[\"#ourhawkerheritage\"],[\"#01-02,\"],[\"#unpretentious\"],[\"#B4-66,\"],[\"#westernhawkerfood\"],[\"#communitydiningroom\"],[\"#famouseunosbakchormee\"],[\"#grandpawesternfood\"],[\"#uniquelysingapore\"],[\"#local\"],[\"#goldenmile\"],[\"#denial\"],[\"#koreanfriedchicken\"],[\"#peranakancuisine\"],[\"#chaitaokueh\"],[\"#telokblangahcrescrentfoodcentre\"],[\"#wantonnoodles\"],[\"#greattastingfood\"],[\"#singaporeidentity\"],[\"#wontonnoodles\"],[\"#peranakan\"],[\"#urbanphotography\"],[\"#foodstall\"],[\"#anglohainanesecuisine\"],[\"#hawkerstall\"],[\"#littleindiasingapore\"],[\"#wenkangji\"],[\"#peranakanfood\"],[\"#bersehfoodcentre\"],[\"#meehoonkway\"],[\"#sgfoodtrending\"],[\"#note20ultraphotography\"],[\"#nhbsg\"],[\"#aphotoaday\"],[\"#bujiantiancharsiew\"],[\"#sgeatout\"],[\"#sgopening\"],[\"#openingsoon\"],[\"#rediscoversingapore\"],[\"#kueh\"],[\"#sgunited\"],[\"#apad\"],[\"#bbqseafood\"],[\"#nolimit\"],[\"#sgdelights\"],[\"#goodmorning\"],[\"#foodtrip\"],[\"#city_noms\"],[\"#ayampenyet\"],[\"#fondmemories\"],[\"#foodplaces\"],[\"#rafflesplace\"],[\"#sglife\"],[\"#malayfood\"],[\"#1-30.\"],[\"#prawnomelette\"],[\"#laupasat\"],[\"#kuehlover\"],[\"#coconut\"],[\"#supportsghawkers\"],[\"#kopifrens\"],[\"#hawkersofsingapore\"],[\"#singaporenews\"],[\"#hawkersofsg\"],[\"#muslimfood\"],[\"#uniqlo\"],[\"#kopifrensfood\"],[\"#freshcoconut\"],[\"#singaporelifestyle\"],[\"#horfun\"],[\"#foodgrammer\"],[\"#kwaychap\"],[\"#smallbusiness\"],[\"#mlxg\"],[\"#groupbuysg\"],[\"#newton\"],[\"#ytf\"],[\"#unescoworldheritage\"],[\"#haha\"],[\"#donburi\"],[\"#jurongpoint\"],[\"#boonlayplace\"],[\"#Hawkercentres\"]],\"hovertemplate\":\"label=-1<br>one_d=%{x}<br>two_d=%{y}<br>average_likes=%{marker.size}<br>hashtags=%{customdata[0]}<extra></extra>\",\"legendgroup\":\"-1\",\"marker\":{\"color\":\"#ab63fa\",\"size\":[21,22,27,13,13,5,6,16,25,11,11,27,22,7,12,12,12,9,17,9,25,10,17,14,12,5,18,13,12,23,18,23,16,16,17,17,21,21,5,23,5,18,12,12,19,19,26,16,26,25,26,26,26,10,19,10,10,10,19,25,19,19,26,19,19,26,10,25,10,19,25,25,25,19,19,10,25,25,26,3,19,19,3,24,10,7,12,25,10,27,25,10,25,20,3,25,7,25,19,25,10,7,10,25,10,3,25,19,19,25,25,12,25,3,7,7,25,19,3,3,3,7,3,3,25,3,7,25,7,25,20,3,7,6,3,17,7,3,3,7,13,3,7,3,16,16,10,26,17,16,27,27,7,27,7,26,6,29,17,12,12,7,10,18,17,16,6,7,6,12,14,12,16,6,14,6,16,27,7,7,12,12,7,16,25,10,10,12,29,6,14,16,24,25,25,25,16,24,21,16,21,10,12,18,6,17,18,27,25,6,6,10,24,27,18,24,24,12,24,10,21,16,26,26,10,12,29,19,6,24,19,12,6,24,21,25,16,19,18,19,17,21,27,18,25,24,21,21,27,25,25,8,1,21,12,27,25,12,24,27,1,25,23,17,1,8,1,27,12,1,8,26,27,20,29,26,8,8,25,18,27,10,18,12,18,21,1,18,22,25,21,22,16,12,22,22,25,24,14,25,26,20,20,22,22,20,27,27,16,14,26,21,22,1,21,12,27,20,4,27,16,20,24,14,20,16,14,24,19,22,20,24,21,14,14,22,26,14,14,12,26,4,27,2,18,26,25,14,18,16,16,20,2,2,26,5,16,16,21,29,29,20,14,20,16,4,27,27,26,21,26,26,29,26,11,29,5,20,19,2,26,20,18,28,20,18,26,27,4,10,2,14,5,27,18,18,27,2,14,14,20,14,20,27,2,20,5,12,1,18,1,27,8,12,12,18,11,8,1,11,11,12,11,1,11,27,11,1,1,1,11,27,15,1,11,15,27,10,7,1,7,27,1,10,15,1,12,22,17,12,12,12,25,6,23,3,15,1,10,26],\"sizemode\":\"area\",\"sizeref\":1.095,\"symbol\":\"circle\"},\"mode\":\"markers\",\"name\":\"-1\",\"showlegend\":true,\"x\":[-0.5008178949356079,-0.4324357211589813,16.16032600402832,22.30426788330078,22.218374252319336,16.17804718017578,16.082881927490234,5.848322868347168,17.06816864013672,20.980268478393555,22.4915828704834,-12.452028274536133,-4.08488130569458,10.316944122314453,21.792503356933594,21.8254451751709,21.871898651123047,9.576622009277344,22.369176864624023,9.569280624389648,-7.851047515869141,2.9490890502929688,22.44972038269043,11.60197639465332,19.50817108154297,16.339950561523438,11.155518531799316,-2.940279960632324,19.508420944213867,8.608668327331543,11.154557228088379,8.608755111694336,5.275845527648926,5.276250839233398,2.1595513820648193,2.1601452827453613,6.959342002868652,6.959390163421631,16.32124137878418,8.608726501464844,16.32332420349121,11.155330657958984,19.50850486755371,19.509122848510742,-4.9152679443359375,-5.256617546081543,2.877532720565796,9.101724624633789,2.9595041275024414,-2.697575330734253,2.8708536624908447,2.90195631980896,2.980231523513794,2.9139881134033203,-5.146656036376953,2.894186496734619,2.9022750854492188,2.905473470687866,-5.141541957855225,12.21964168548584,-5.0668230056762695,-4.954739093780518,2.9284214973449707,-5.0013580322265625,-4.876047611236572,2.8959689140319824,2.9035823345184326,12.082601547241211,1.7532212734222412,-4.871739387512207,12.0741548538208,12.191067695617676,12.19897747039795,-5.280231952667236,-5.2176737785339355,2.908271551132202,12.031661033630371,12.31800651550293,2.826676845550537,15.874157905578613,-4.73653507232666,-4.8172125816345215,15.872394561767578,4.726525783538818,2.9048283100128174,21.875049591064453,2.9075844287872314,12.134025573730469,2.900656223297119,7.397010326385498,12.071146965026855,2.907843589782715,12.072352409362793,-3.785698413848877,15.853909492492676,12.105406761169434,21.874332427978516,12.131075859069824,-4.772106170654297,12.119987487792969,2.902517318725586,21.846467971801758,1.7796815633773804,12.09744644165039,2.9093239307403564,15.877378463745117,12.110130310058594,-5.248623847961426,-5.35893440246582,12.272662162780762,12.217967987060547,2.9064462184906006,12.190350532531738,15.873980522155762,21.85419273376465,21.904794692993164,12.228177070617676,-5.210021495819092,15.843270301818848,15.884958267211914,15.880110740661621,21.907032012939453,15.891077041625977,15.874570846557617,12.056665420532227,15.873237609863281,16.342988967895508,12.187373161315918,16.410320281982422,12.01491641998291,0.9377953410148621,15.867280960083008,21.854318618774414,16.136072158813477,15.879373550415039,-3.7872679233551025,21.889331817626953,15.872488021850586,15.895960807800293,21.88854217529297,1.7782015800476074,15.845254898071289,21.82437515258789,15.876588821411133,22.852977752685547,22.853317260742188,2.902259588241577,0.6160251498222351,-5.196167469024658,22.817424774169922,-4.771738052368164,-4.792413234710693,9.837510108947754,3.6685147285461426,9.828072547912598,15.552278518676758,-7.883442401885986,3.1398823261260986,-5.118347644805908,-3.491262912750244,-3.504945993423462,9.806367874145508,22.821470260620117,21.890506744384766,-4.835631370544434,22.838058471679688,-7.866641521453857,9.839536666870117,-7.870030879974365,-3.4731967449188232,-4.7987518310546875,-3.4932963848114014,22.869239807128906,-7.8931684494018555,-4.9066243171691895,-7.852760314941406,22.793275833129883,-5.080646514892578,9.809057235717773,9.816549301147461,-3.5043838024139404,-3.51945424079895,9.820446014404297,11.424426078796387,5.300905227661133,16.121597290039062,16.143291473388672,-3.513650417327881,-4.144443035125732,-7.882456302642822,-4.9632887840271,11.421504974365234,-4.460020542144775,5.3199357986450195,5.2918806076049805,5.328621864318848,11.41594409942627,-4.4382524490356445,3.018641948699951,11.448800086975098,-4.089517116546631,16.103565216064453,-3.4732038974761963,21.727474212646484,-7.873630523681641,-4.542133808135986,2.3106436729431152,-12.555569648742676,5.319243431091309,-7.865720272064209,-7.858030796051025,16.184228897094727,-4.553725242614746,-12.424050331115723,21.810903549194336,-4.2378010749816895,-4.553839206695557,-3.5171122550964355,-4.329493522644043,16.189943313598633,-4.327771186828613,22.854995727539062,-4.2257914543151855,-4.401647567749023,16.14936065673828,-3.5150341987609863,-4.177223205566406,-14.682974815368652,-7.855913162231445,-4.605348110198975,-14.68936538696289,-3.4994444847106934,-7.862934112548828,0.4353289306163788,3.0678882598876953,5.307729721069336,11.423282623291016,-14.68558120727539,21.81631088256836,-14.686956405639648,-4.707463264465332,0.6383233666419983,-12.478795051574707,21.74885368347168,5.306447982788086,-4.301787376403809,-4.120514869689941,3.05057692527771,-12.35542106628418,5.3254876136779785,5.309023380279541,11.052517890930176,-4.881854057312012,-4.016944885253906,-2.6911165714263916,-12.402421951293945,-0.012793736532330513,9.296442985534668,2.6204941272735596,0.05488032475113869,-4.888568878173828,5.32042121887207,-3.943650245666504,-4.319019317626953,-4.88840913772583,11.092041015625,-4.893162727355957,-0.5535969734191895,9.27916431427002,-4.873288154602051,11.090039253234863,-1.8088165521621704,0.031124385073781013,-5.328461647033691,-3.954782724380493,-4.6918511390686035,11.076196670532227,11.070103645324707,-1.3799128532409668,-1.5724278688430786,-0.4541824162006378,-1.614488959312439,0.20865708589553833,2.034297466278076,-1.5031118392944336,3.0296249389648438,-4.878609657287598,0.2807225286960602,-0.5724737048149109,0.17113250494003296,-1.9947391748428345,-0.2230207622051239,1.432284951210022,9.31393051147461,-0.27100029587745667,-1.044939398765564,0.6748682260513306,-0.432820200920105,0.2944544851779938,0.4192051589488983,0.35700204968452454,-5.313882350921631,-1.3772450685501099,-0.5719642639160156,-0.4888005256652832,-0.4889746308326721,12.12205696105957,12.11840534210205,1.4308267831802368,5.943061828613281,-0.5057651400566101,-2.15411376953125,-0.3979186415672302,-4.8677239418029785,-2.508969783782959,9.308080673217773,12.131599426269531,-5.31717586517334,16.714065551757812,12.128433227539062,1.4401448965072632,-5.332401752471924,-1.7673348188400269,5.918889045715332,-5.319250106811523,1.4289737939834595,5.934601306915283,-1.9386341571807861,-1.4048852920532227,-0.4082377254962921,-5.326473712921143,-0.8341522216796875,2.69358229637146,5.9262919425964355,5.9295334815979,-0.9700363278388977,-1.836443305015564,5.917920112609863,0.6554545164108276,9.311917304992676,0.06376650929450989,16.65888214111328,2.6692326068878174,9.744884490966797,-1.244862675666809,-0.3782013952732086,0.4857751727104187,5.92608642578125,-1.3329510688781738,1.4129694700241089,1.4453669786453247,-5.323432922363281,9.73707389831543,9.755987167358398,-0.627924382686615,10.894639015197754,-7.34052848815918,-7.350317478179932,-1.3357421159744263,9.779813766479492,-0.5924572348594666,-0.7062065005302429,5.923847675323486,-5.330230236053467,1.4250305891036987,16.675540924072266,2.8200252056121826,12.155388832092285,-2.72377610206604,-1.4486055374145508,-0.22469483315944672,-2.7174417972564697,-0.6640837788581848,-2.7326393127441406,-0.32167646288871765,2.74401593208313,10.898185729980469,15.544564247131348,0.07891611009836197,16.009130477905273,-2.7261927127838135,15.554627418518066,1.419790267944336,-1.1665172576904297,15.535048484802246,1.4068814516067505,-2.721975564956665,-4.668274879455566,16.627687454223633,1.7809393405914307,15.961211204528809,-1.683857798576355,10.894357681274414,-4.607205390930176,1.4369316101074219,1.3733701705932617,-4.620677471160889,15.944100379943848,-1.675269603729248,-1.6953753232955933,15.554661750793457,-1.6903129816055298,15.539616584777832,-4.604559421539307,15.882207870483398,15.555766105651855,10.903888702392578,2.1558549404144287,12.420381546020508,1.3940212726593018,12.419154167175293,-4.640388488769531,1.4593698978424072,2.195065498352051,2.2002618312835693,1.3744211196899414,3.558925151824951,1.3690835237503052,12.415082931518555,-2.682154655456543,-7.399688720703125,2.1658196449279785,3.549215316772461,-1.8324592113494873,-2.679138422012329,-6.0692901611328125,3.521821975708008,-1.8310755491256714,-1.8349334001541138,12.413652420043945,-7.385510444641113,-6.061773300170898,3.975196123123169,-1.824793815612793,3.5621047019958496,3.969216823577881,-6.069627285003662,5.113536834716797,1.623598337173462,2.8301949501037598,1.687869668006897,-6.064155578613281,2.8559064865112305,5.139648914337158,3.973301649093628,2.7613542079925537,-2.7329466342926025,-7.269533634185791,-2.7006726264953613,8.018969535827637,-2.714888334274292,8.031221389770508,0.2890321612358093,-1.5172240734100342,4.046906471252441,-9.74496078491211,2.580035924911499,2.990426778793335,3.0269575119018555,3.574162483215332],\"xaxis\":\"x\",\"y\":[-2.3701295852661133,-2.298565149307251,-0.7035577893257141,2.7349181175231934,2.723175287246704,1.4820201396942139,1.6689255237579346,2.812089204788208,-3.174185037612915,1.1547986268997192,2.82851243019104,-6.104111671447754,7.6471147537231445,-13.389625549316406,2.8245859146118164,2.8548293113708496,2.9123549461364746,-12.50019359588623,2.190579414367676,-12.490157127380371,-4.018939018249512,15.304168701171875,2.1935834884643555,-14.322714805603027,9.1212739944458,0.22110797464847565,19.59058380126953,8.049360275268555,9.12087631225586,6.323678493499756,19.59113311767578,6.323389530181885,19.541189193725586,19.540651321411133,18.952220916748047,18.94976234436035,12.922757148742676,12.913653373718262,0.1982305347919464,6.323713302612305,0.20539610087871552,19.59095001220703,9.120722770690918,9.120515823364258,-20.407333374023438,-20.215290069580078,-20.381839752197266,-11.736249923706055,-20.457359313964844,-5.1421637535095215,-20.358198165893555,-20.431175231933594,-20.28445053100586,15.649528503417969,-20.281126022338867,15.647754669189453,15.657489776611328,15.635459899902344,-20.430150985717773,14.849985122680664,-20.451168060302734,-20.531620025634766,-20.40688133239746,-20.52775764465332,-20.073509216308594,-20.34325408935547,15.649924278259277,14.854867935180664,4.5320587158203125,-20.0133056640625,14.992879867553711,14.739500999450684,14.831181526184082,-20.314056396484375,-20.400976181030273,15.619439125061035,14.951212882995605,14.777146339416504,-20.386674880981445,3.1558752059936523,-20.21139907836914,-20.237159729003906,3.129972457885742,-1.7161998748779297,15.645652770996094,3.325746536254883,15.62806510925293,14.833709716796875,15.64626407623291,-1.262733817100525,14.611797332763672,15.63054370880127,14.87739372253418,-3.0243420600891113,3.155205011367798,14.919862747192383,3.351485252380371,14.83787727355957,-20.416309356689453,14.872894287109375,15.630796432495117,3.4130969047546387,4.532809257507324,14.798038482666016,15.633234977722168,3.157102584838867,14.928627014160156,-20.300880432128906,-20.256845474243164,15.01722240447998,14.869970321655273,15.636388778686523,14.950904846191406,3.1475627422332764,3.4487147331237793,3.436123847961426,15.000371932983398,-20.438093185424805,3.18326735496521,3.059542179107666,3.101653575897217,3.3903889656066895,3.099952459335327,3.0894670486450195,14.849431991577148,3.1190853118896484,0.26612523198127747,14.850634574890137,0.25738707184791565,14.978652000427246,-0.654783308506012,3.1010732650756836,3.3728575706481934,0.36400938034057617,3.088662624359131,-2.9697861671447754,3.34371018409729,3.105990409851074,3.0583527088165283,3.390230417251587,-9.007475852966309,3.107846260070801,3.4549734592437744,3.132028579711914,2.226390838623047,2.1846463680267334,15.625261306762695,-12.294791221618652,-19.97476577758789,2.2443525791168213,-20.56240463256836,-20.432241439819336,-12.944313049316406,6.584891319274902,-12.93669319152832,-7.028989791870117,-3.415472984313965,-20.262908935546875,-19.92810821533203,8.332369804382324,8.342503547668457,-12.897911071777344,2.278989791870117,2.27946138381958,-20.04051399230957,2.232407331466675,-3.4307188987731934,-12.935504913330078,-3.4173080921173096,8.34245491027832,-19.93447494506836,8.34717845916748,2.221652030944824,-3.418940305709839,-19.96503257751465,-3.4381561279296875,2.1870806217193604,-20.058290481567383,-12.917536735534668,-12.921154022216797,8.340303421020508,8.339848518371582,-12.920916557312012,2.2389135360717773,2.9796009063720703,0.4486108422279358,0.46913471817970276,8.352055549621582,-1.600169062614441,-3.4391353130340576,-19.939645767211914,2.2354848384857178,-2.5658886432647705,2.9940037727355957,2.9763023853302,2.984771251678467,2.2328450679779053,-1.7728569507598877,-20.166156768798828,2.225792646408081,-1.366254210472107,0.5139601826667786,8.332664489746094,2.1937670707702637,-3.431856155395508,-1.8788998126983643,11.800772666931152,-7.021411418914795,2.9533510208129883,-3.414017915725708,-3.4372637271881104,0.3827924132347107,-2.759364366531372,-7.066818714141846,2.2154006958007812,-1.8211071491241455,-2.7232890129089355,8.346362113952637,-1.8173683881759644,0.4273388683795929,-1.8356631994247437,2.278899908065796,-2.4557132720947266,-2.39534330368042,0.3971336781978607,8.361140251159668,-1.740615963935852,-15.803482055664062,-3.423501968383789,-1.641279935836792,-15.804805755615234,8.354033470153809,-3.43527889251709,0.9838705062866211,-20.23470687866211,2.958832263946533,2.231569528579712,-15.80423355102539,2.2344865798950195,-15.804316520690918,-1.7388540506362915,-0.9722603559494019,-7.057657241821289,2.214707612991333,2.998382806777954,-1.9897751808166504,-1.2906454801559448,-19.996374130249023,-6.989624977111816,2.998032808303833,2.968187093734741,-14.077495574951172,14.71230697631836,-1.7950382232666016,-6.872742176055908,-7.063755989074707,0.6333270072937012,-12.021773338317871,-20.296018600463867,1.058461308479309,14.696599006652832,2.988968849182129,-1.5101773738861084,-1.982033371925354,14.69986629486084,-14.082350730895996,14.681405067443848,0.7523505091667175,-11.9947509765625,14.709636688232422,-14.083454132080078,1.1377989053726196,1.1180915832519531,-14.3433256149292,-1.509413242340088,-1.4662318229675293,-14.076044082641602,-14.073625564575195,-0.10411695390939713,-0.45605218410491943,0.3451087474822998,7.158535957336426,-1.2659560441970825,4.505465984344482,-0.26321282982826233,-20.23609733581543,14.695399284362793,-0.5966907739639282,-0.6539332866668701,0.0984770655632019,-0.4266202449798584,-0.5933166146278381,-8.953237533569336,-12.031763076782227,0.16097278892993927,-0.5097194314002991,-0.09188603609800339,0.7112390398979187,-0.2619478702545166,-0.3468427062034607,0.5737813711166382,-14.335724830627441,-0.46783483028411865,-0.5572251081466675,-0.03998461738228798,-0.09581460803747177,-14.539329528808594,-14.535900115966797,-8.958931922912598,-6.636960029602051,0.4080745279788971,-0.029129713773727417,0.9626607298851013,14.721837997436523,-0.6009156107902527,-12.03863525390625,-14.536664962768555,-14.340639114379883,-0.1786697506904602,-14.53992748260498,-8.955280303955078,-14.332733154296875,-0.007697064429521561,-6.647592544555664,-14.351004600524902,-8.956733703613281,-6.645974159240723,-1.0524184703826904,-0.8816359639167786,-0.8864266872406006,-14.347983360290527,0.34332504868507385,-20.33147621154785,-6.6416168212890625,-6.639513969421387,-0.34908559918403625,1.0433241128921509,-6.650232791900635,-0.10560007393360138,-12.037970542907715,0.060715727508068085,-0.18138903379440308,-20.34928321838379,3.304583787918091,0.32660984992980957,-0.14434656500816345,-0.3489340543746948,-6.637481212615967,-0.389620840549469,-8.951704978942871,-8.97279167175293,-14.345136642456055,3.3034229278564453,3.3030924797058105,0.3755193054676056,5.239469528198242,-0.4586260914802551,-0.45259207487106323,-1.446102261543274,3.375361442565918,-0.9119530320167542,-0.2613355219364166,-6.647035598754883,-14.338294982910156,-8.958630561828613,-0.1650618612766266,-20.543840408325195,-14.549976348876953,-5.411574840545654,-0.9866370558738708,-0.6486067175865173,-5.423090934753418,-0.1604616492986679,-5.441019535064697,0.536830723285675,-20.285425186157227,5.2278523445129395,-6.894686698913574,0.10515924543142319,-0.14353804290294647,-5.438934326171875,-6.884997844696045,7.653950214385986,-0.33010411262512207,-6.877947807312012,7.659886360168457,-5.398682117462158,-8.870782852172852,-0.16911420226097107,4.523759841918945,-0.05043213441967964,7.268831729888916,5.225347518920898,-8.8839111328125,7.645196914672852,7.666047096252441,-8.885590553283691,-0.11103513091802597,7.27509880065918,7.280083656311035,-6.871403217315674,7.279818058013916,-6.882131576538086,-8.896631240844727,-0.18356169760227203,-6.876736164093018,5.229848384857178,4.483137607574463,7.235545635223389,7.66259765625,7.23222541809082,-8.87536907196045,4.541870594024658,4.472866535186768,4.478121757507324,7.671075820922852,-9.166594505310059,4.565207481384277,7.2235188484191895,-6.824672698974609,-0.4083925187587738,4.478806495666504,-9.129151344299316,3.073835611343384,-6.913475513458252,-5.958648204803467,-9.12938404083252,3.0710771083831787,3.07675838470459,7.227338790893555,-0.44608640670776367,-5.970746994018555,-5.449930191040039,3.069352388381958,-9.147208213806152,-5.433126926422119,-5.9666900634765625,-2.322288751602173,4.507577896118164,6.918783187866211,4.5144243240356445,-5.963576793670654,6.922563552856445,-2.3590400218963623,-5.439312934875488,6.964195728302002,-6.830284118652344,-0.4759162366390228,-6.756199359893799,2.7871198654174805,-6.794190406799316,2.7787022590637207,-3.176283359527588,6.996314525604248,-5.460598468780518,2.209693670272827,-7.258415699005127,0.8897844552993774,0.8812114000320435,0.640769898891449],\"yaxis\":\"y\",\"type\":\"scattergl\"},{\"customdata\":[[\"#singaporelife\"],[\"#whatissingapore\"],[\"#thisissingapore\"],[\"#streetphotography\"],[\"#sgig\"],[\"#instasg\"],[\"#HawkerCultureSG\"],[\"#iluvsg\"],[\"#chinatown\"],[\"#yoursingapore\"],[\"#capturestreets\"],[\"#visitsingapore\"],[\"#singaporeinsiders\"],[\"#travelgram\"],[\"#oldschool\"],[\"#singaporetimes\"],[\"#foodiegram\"],[\"#HawkercultureSg\"],[\"#exploresingapore\"],[\"#singaporeeats\"],[\"#whattoeat\"],[\"#friedchicken\"],[\"#street_gallery\"],[\"#streetvision\"],[\"#urbangallery\"],[\"#illgrammers\"],[\"#shoot2kill\"],[\"#instamagazine\"],[\"#chinatownsg\"],[\"#prelockdownlife\"],[\"#hawkers\"],[\"#exploretocreate\"],[\"#streetframe\"],[\"#lifeinsingapore\"],[\"#streetshots\"],[\"#urbanstreet\"],[\"#neverstopexploring\"],[\"#nikonphotography\"],[\"#sgphotographer\"],[\"#imaginatones\"],[\"#igersone\"],[\"#nikonsg\"],[\"#twgrammersy\"],[\"#cityscape\"],[\"#nikonz7\"],[\"#streethunters\"],[\"#covidlifestyle\"],[\"#streetgrammers\"],[\"#singaporestreetphotography\"],[\"#wearethestreets\"],[\"#sg_street_collective\"],[\"#life_is_street\"],[\"#peopleofsingapore\"],[\"#streetstorytelling\"],[\"#everydayasia\"],[\"#singaporestreetscape\"],[\"#xt3\"],[\"#femalephotographers\"],[\"#womeninstreet\"],[\"#womenstreetphotographers\"],[\"#moments_in_streetlife\"],[\"#sgstreetcollective\"],[\"#wetmarket\"],[\"#womeninstreetsg\"],[\"#fromstreetswithlove\"],[\"#streetphotographer\"],[\"#friendsinstreets\"],[\"#raw_community\"],[\"#raw_snap_morning\"],[\"#safrasg\"],[\"#instagram\"],[\"#\\u9ebb\\u8fa3\\u9999\\u9505\"],[\"#streetphotographytribe\"],[\"#sghalal\"],[\"#halalfoodsg\"],[\"#snapwithcanon\"],[\"#coffeeaddict\"],[\"#yongtaufu\"],[\"#DaJieBedok\"],[\"#\\u91c0\\u8c46\\u8150\"],[\"#DaJie\"],[\"#DaJieMakanPlace\"],[\"#fujifilm\"],[\"#citygrammers\"],[\"#portraitphotography\"],[\"#beautifuldestinations\"],[\"#killeverygram\"],[\"#rediscoversg\"],[\"#sghome\"],[\"#ampangyongtaufoo\"],[\"#DaJieNiangDouFu\"],[\"#SgHeritageFood\"],[\"#hakkayongtaufoo\"],[\"#mala\"],[\"#kampungfriedrice\"],[\"#\\u5b57\\u8ff0\\u4e00\\u5e742021\"],[\"#\\u5b57\\u8ff0\\u4e00\\u5e74\"],[\"#instagood10\"],[\"#simpangbedok\"],[\"#thankyouhawkers\"],[\"#8DaysEat\"],[\"#instasgsunday10pm\"],[\"#tedsingapore\"],[\"#whatmakesSG\"],[\"#exploreSG\"],[\"#communityfirst\"],[\"#instasgSundayOurHawkers\"],[\"#hainanesechickenrice\"],[\"#hawkerCultureSG\"],[\"#urbansketch\"],[\"#BenEatsApr2021\"],[\"#GoldenMileFoodCentre\"],[\"#SgHawkerFood\"],[\"#traditionalsnacks\"],[\"#usksg\"],[\"#usk\"],[\"#tanglinhalt\"],[\"#OurHawkerCulture\"],[\"#YouFuHokkienMeeSG\"],[\"#HawkerFood\"],[\"#natgeoasia\"],[\"#HawkerCenter\"],[\"#YourSingapore\"],[\"#WhatMakesSG\"],[\"#ExploreSG\"]],\"hovertemplate\":\"label=6<br>one_d=%{x}<br>two_d=%{y}<br>average_likes=%{marker.size}<br>hashtags=%{customdata[0]}<extra></extra>\",\"legendgroup\":\"6\",\"marker\":{\"color\":\"#FFA15A\",\"size\":[131,199,194,36,231,237,218,259,58,169,51,91,65,279,254,338,205,135,39,49,63,123,55,55,55,55,55,55,55,55,123,55,55,55,55,55,55,55,55,55,55,55,55,55,55,47,55,55,47,47,47,47,47,47,47,55,47,47,47,47,47,47,47,47,47,47,47,438,438,438,438,100,47,100,100,438,438,100,100,100,100,100,47,438,438,438,438,438,438,100,100,100,100,100,100,438,438,438,100,239,100,239,239,239,239,239,239,239,239,70,53,53,53,70,70,70,70,163,53,163,163,163,163,163,163],\"sizemode\":\"area\",\"sizeref\":1.095,\"symbol\":\"circle\"},\"mode\":\"markers\",\"name\":\"6\",\"showlegend\":true,\"x\":[-9.270856857299805,-15.18095874786377,-14.161141395568848,-4.191497325897217,-15.995108604431152,-15.362957000732422,-12.394813537597656,-15.140262603759766,-6.692412853240967,-13.507959365844727,-4.181759834289551,-12.084851264953613,-20.026132583618164,-10.210572242736816,-12.616097450256348,-13.99982738494873,-16.01358413696289,-17.618186950683594,-1.2648954391479492,-17.90801239013672,-18.508203506469727,-14.18537425994873,-2.2480204105377197,-1.9460538625717163,-2.084425926208496,-1.8044193983078003,-1.9448950290679932,-2.2242090702056885,-1.739606261253357,-1.888307809829712,-14.127639770507812,-1.6369379758834839,-1.7551798820495605,-2.176487445831299,-1.8041621446609497,-1.8763195276260376,-1.99830162525177,-1.8331929445266724,-1.97018301486969,-2.210949659347534,-1.9892511367797852,-2.132796287536621,-2.056168556213379,-1.6855298280715942,-1.8811508417129517,-5.326440811157227,-2.102590322494507,-2.01003098487854,-5.609309196472168,-5.623671054840088,-5.626402854919434,-5.587428092956543,-5.618649005889893,-5.4946393966674805,-5.646096706390381,-1.8597339391708374,-5.6834397315979,-5.4555583000183105,-5.5951337814331055,-5.5581865310668945,-5.398652076721191,-5.625277519226074,-5.725863933563232,-5.75691556930542,-5.501755714416504,-5.588442802429199,-5.387084484100342,-13.192072868347168,-13.216095924377441,-13.203417778015137,-13.20975399017334,-17.716751098632812,-5.647238731384277,-17.817413330078125,-17.794082641601562,-13.205683708190918,-13.202776908874512,-17.8110408782959,-17.7932071685791,-17.791555404663086,-17.76730728149414,-17.878074645996094,-5.795091152191162,-13.18916130065918,-13.246335983276367,-13.250415802001953,-13.198712348937988,-13.261260986328125,-13.198779106140137,-17.797780990600586,-17.860383987426758,-17.85093116760254,-17.8056583404541,-17.798662185668945,-17.747196197509766,-13.236659049987793,-13.166397094726562,-13.175426483154297,-17.766857147216797,-14.370343208312988,-17.829132080078125,-14.334391593933105,-14.360868453979492,-14.337752342224121,-14.366981506347656,-14.341374397277832,-14.369455337524414,-14.363197326660156,-14.376246452331543,2.294217348098755,-12.295069694519043,-12.298040390014648,-12.296662330627441,2.306072235107422,2.285679817199707,2.3005661964416504,2.290191650390625,-10.497252464294434,-12.29373550415039,-10.508023262023926,-10.500862121582031,-10.51802921295166,-10.498255729675293,-10.50243854522705,-10.495406150817871],\"xaxis\":\"x\",\"y\":[3.8327455520629883,9.018421173095703,9.004143714904785,17.99052619934082,9.489219665527344,9.036273956298828,11.212113380432129,9.117493629455566,18.544132232666016,7.148250579833984,19.180408477783203,9.28346061706543,0.27234387397766113,6.924006462097168,10.50982666015625,8.820958137512207,7.238747596740723,8.47018051147461,19.724740982055664,10.507882118225098,9.652400016784668,6.985622882843018,19.610898971557617,19.956937789916992,19.493003845214844,19.521373748779297,19.83759117126465,19.708759307861328,19.870561599731445,19.884191513061523,6.946468353271484,19.649381637573242,19.49947166442871,19.734010696411133,19.504878997802734,19.56011390686035,19.343217849731445,20.014739990234375,19.89361000061035,19.55188751220703,20.00728988647461,19.699748992919922,19.574094772338867,19.94019889831543,19.934429168701172,19.087778091430664,19.54104232788086,19.36403465270996,19.060081481933594,19.07413101196289,19.05453109741211,19.14626121520996,19.050146102905273,19.114479064941406,19.12509536743164,19.983762741088867,19.185623168945312,18.832233428955078,19.01933479309082,18.987279891967773,19.07016944885254,19.218616485595703,19.069578170776367,19.153465270996094,18.927526473999023,19.044275283813477,19.116090774536133,10.34949016571045,10.390381813049316,10.30189037322998,10.36146354675293,9.790197372436523,19.058225631713867,9.743483543395996,9.768084526062012,10.339823722839355,10.353331565856934,9.86415958404541,9.756280899047852,9.707170486450195,9.833155632019043,9.825715065002441,19.131864547729492,10.413677215576172,10.302274703979492,10.329038619995117,10.335426330566406,10.299347877502441,10.342300415039062,9.699790000915527,9.82707405090332,9.835906028747559,9.84445858001709,9.864843368530273,9.778387069702148,10.34536361694336,10.401349067687988,10.422952651977539,9.707968711853027,7.056779861450195,9.688872337341309,7.044112682342529,7.065769195556641,7.0446014404296875,7.056011199951172,7.0646562576293945,7.060571670532227,7.061896800994873,7.041625499725342,11.81529426574707,12.690690040588379,12.689952850341797,12.692401885986328,11.810691833496094,11.820276260375977,11.808353424072266,11.811663627624512,11.897586822509766,12.689020156860352,11.88942813873291,11.891447067260742,11.892833709716797,11.893874168395996,11.898984909057617,11.89421272277832],\"yaxis\":\"y\",\"type\":\"scattergl\"},{\"customdata\":[[\"#HawkerCultureSg\"],[\"#\\u8089\\u9aa8\\u8336\"],[\"#\\u5496\\u5561\\u9999\"],[\"#SupportLocalSg\"],[\"#bakchormee#yishunparkhawkercentre#meekia#meekiadry#chashu#chashupork#porkball#porkballs#fishball#mincedpork#mincedmeat#noodles#porklard#onsenegg#egg#porkfat#saucynoodles#hawkers#hawkerculture#hawkerculturesg#sgfoodie#sgfoodies#sgfoodporn#foodporn#sgeats\"],[\"#01-27,\"],[\"#SgVibes\"],[\"#FishballNoodles\"],[\"#OurCoffeeshopFood\"],[\"#\\u9c7c\\u5706\\u9762\"],[\"#\\u9c7c\\u4e38\\u9762\"],[\"#SupportLocal\"],[\"#\\u5c0f\\u65e5\\u5b50\"],[\"#\\u65e9\\u5b89\\u5496\\u5561\"],[\"#CoffeeAroma\"],[\"#BakKutTeh\"],[\"#JooSiahBKT\"],[\"#\\u5496\\u5561\\u5e97\\u5403\\u559d\"],[\"#SgFoodie\"],[\"#\\u652f\\u6301\\u5c0f\\u8d29\\u6587\\u5316\"],[\"#FoodieSg\"],[\"#\\u7c73\\u5176\\u6797\\u5fc5\\u6bd4\\u767b\\u63a8\\u85a6\"],[\"#\\u5c0f\\u78ba\\u5e78\"],[\"#\\u4ece\\u5bb9\"],[\"#CoffeeShopEats\"],[\"#bibgourmand2021\"],[\"#\\u84dd\\u5929\\u767d\\u4e91\"],[\"#SeeSeeEatEat\"],[\"#GoodEats\"],[\"#LetsEatAndPlay\"],[\"#CKT\"],[\"#\\u597d\\u597d\\u5403\\u996d\"]],\"hovertemplate\":\"label=3<br>one_d=%{x}<br>two_d=%{y}<br>average_likes=%{marker.size}<br>hashtags=%{customdata[0]}<extra></extra>\",\"legendgroup\":\"3\",\"marker\":{\"color\":\"#19d3f3\",\"size\":[152,135,106,128,257,257,62,62,62,62,62,62,62,62,62,245,245,62,245,245,245,245,245,245,245,245,150,150,150,150,150,150],\"sizemode\":\"area\",\"sizeref\":1.095,\"symbol\":\"circle\"},\"mode\":\"markers\",\"name\":\"3\",\"showlegend\":true,\"x\":[8.670190811157227,11.611603736877441,8.173569679260254,9.712621688842773,7.069974422454834,7.072462558746338,8.430419921875,8.421514511108398,8.436556816101074,8.427721977233887,8.438075065612793,8.415281295776367,8.436884880065918,8.407119750976562,8.439170837402344,9.232101440429688,9.239747047424316,8.434253692626953,9.245415687561035,9.242870330810547,9.253567695617676,9.242653846740723,9.270373344421387,9.247079849243164,9.259172439575195,9.259391784667969,7.910805702209473,7.942089080810547,7.908562183380127,7.917547225952148,7.943105697631836,7.928765773773193],\"xaxis\":\"x\",\"y\":[18.40864372253418,15.457901954650879,18.81081771850586,17.163877487182617,16.870765686035156,16.873519897460938,18.983055114746094,18.97226333618164,19.001081466674805,18.987655639648438,19.005661010742188,19.017196655273438,19.00225257873535,19.039535522460938,18.99172592163086,17.83780860900879,17.832212448120117,18.980976104736328,17.8372802734375,17.839344024658203,17.823139190673828,17.818954467773438,17.794618606567383,17.830547332763672,17.8112735748291,17.817840576171875,18.51169204711914,18.5076904296875,18.50756072998047,18.51136016845703,18.513093948364258,18.520034790039062],\"yaxis\":\"y\",\"type\":\"scattergl\"},{\"customdata\":[[\"#singaporean\"],[\"#wallart\"],[\"#muralart\"],[\"#leekuanyewtribute\"],[\"#muralartist\"],[\"#sgtravelblogger\"],[\"#localtravel\"],[\"#sgphotography\"],[\"#hawkercentrefood\"],[\"#localtrails\"],[\"#singapore_insta\"],[\"#sginstagrammers\"],[\"#leehsienloong\"],[\"#wallmural\"],[\"#singaporetrip\"],[\"#wallpainting\"],[\"#murals\"],[\"#sgphotoshoot\"],[\"#singaporecity\"],[\"#singaporetravel\"],[\"#leekuanyew\"],[\"#hawkercentresg\"],[\"#hawkercentres\"],[\"#shootoniphone\"],[\"#iphonexs\"],[\"#natgeomyshot\"],[\"#natgeoyourshot\"],[\"#iphonephotography\"],[\"#streetshooting\"]],\"hovertemplate\":\"label=1<br>one_d=%{x}<br>two_d=%{y}<br>average_likes=%{marker.size}<br>hashtags=%{customdata[0]}<extra></extra>\",\"legendgroup\":\"1\",\"marker\":{\"color\":\"#FF6692\",\"size\":[131,109,109,220,220,220,220,220,220,220,220,220,220,220,220,220,220,220,220,220,220,220,220,36,36,36,36,36,36],\"sizemode\":\"area\",\"sizeref\":1.095,\"symbol\":\"circle\"},\"mode\":\"markers\",\"name\":\"1\",\"showlegend\":true,\"x\":[-5.943681240081787,-5.645430564880371,-5.652792453765869,-6.215803623199463,-6.202760219573975,-6.156414985656738,-6.125301837921143,-6.163267612457275,-6.141524314880371,-6.241804599761963,-6.178576469421387,-6.19371223449707,-6.170393466949463,-6.300880432128906,-6.095981121063232,-6.150775909423828,-6.191421031951904,-6.213576316833496,-6.266053676605225,-6.288162708282471,-6.212641716003418,-6.2164506912231445,-6.2400031089782715,-1.110439419746399,-1.1176587343215942,-1.115868330001831,-1.1075440645217896,-1.102198839187622,-1.1125015020370483],\"xaxis\":\"x\",\"y\":[11.627461433410645,13.740216255187988,13.72657299041748,13.106217384338379,12.90377426147461,13.038966178894043,12.966226577758789,13.096614837646484,13.067845344543457,12.983879089355469,13.00544261932373,12.838223457336426,12.944599151611328,12.83568000793457,13.099164009094238,13.095229148864746,13.05398178100586,12.967659950256348,12.87175464630127,12.842317581176758,12.93401050567627,13.078694343566895,13.14774227142334,12.9181547164917,12.925732612609863,12.928146362304688,12.917510986328125,12.920084953308105,12.92341136932373],\"yaxis\":\"y\",\"type\":\"scattergl\"},{\"customdata\":[[\"#hawkersinwatercolours\"],[\"#urbansketching\"],[\"#\\u53cc\\u8bed\\u7f8e\\u98df\\u5e93\"],[\"#\\u65b0\\u52a0\\u5761\\u53cc\\u8bed\\u7f8e\\u98df\\u5e93\"],[\"#NewtonCircus\"],[\"#whatlingeats\"],[\"#\\u5403\\u8d27\\u6700\\u68d2\"],[\"#\\u7ebd\\u987f\"],[\"#SingaporeFoodie\"],[\"#\\u8d8a\\u6765\\u8d8a\\u5b85\"],[\"#\\u7ebd\\u987f\\u719f\\u98df\\u4e2d\\u5fc3\"],[\"#\\u8089\\u811e\\u9762\"],[\"#\\u65b0\\u52a0\\u5761\\u7f8e\\u98df\"],[\"#BBQ\"],[\"#hawkerFavourite\"],[\"#\\u998b\\u5634\\u53cc\\u5154\"],[\"#\\u70e4\\u867e\"],[\"#BCM\"],[\"#eatatNewton\"],[\"#NewtonFood\"],[\"#neighbourhoodsg\"],[\"#cuisine\"],[\"#youth\"],[\"#history\"],[\"#follow\"],[\"#legacy\"],[\"#tbt\"],[\"#lfl\"],[\"#genz\"],[\"#f4f\"],[\"#instagood\"],[\"#like\"],[\"#watercolour\"],[\"#changivillagehawkercentre\"],[\"#travelsketchers\"],[\"#watercoloursketch\"],[\"#nasilemakayam\"],[\"#urbansketcher\"],[\"#artablyinlove\"],[\"#nomsh\"],[\"#travelsketching\"],[\"#yearendthanks\"],[\"#watercolorsketchbook\"]],\"hovertemplate\":\"label=2<br>one_d=%{x}<br>two_d=%{y}<br>average_likes=%{marker.size}<br>hashtags=%{customdata[0]}<extra></extra>\",\"legendgroup\":\"2\",\"marker\":{\"color\":\"#B6E880\",\"size\":[48,68,175,175,175,175,175,175,175,175,175,175,175,175,175,175,175,175,175,175,175,32,32,32,32,32,32,32,32,32,32,32,47,47,47,47,47,47,31,31,67,67,67],\"sizemode\":\"area\",\"sizeref\":1.095,\"symbol\":\"circle\"},\"mode\":\"markers\",\"name\":\"2\",\"showlegend\":true,\"x\":[3.671647310256958,2.6098203659057617,8.119975090026855,8.145208358764648,8.099344253540039,8.130983352661133,8.099569320678711,8.133919715881348,8.091673851013184,8.110062599182129,8.118941307067871,8.084464073181152,8.122871398925781,8.115901947021484,8.1101655960083,8.09688663482666,8.088509559631348,8.150920867919922,8.111998558044434,8.092697143554688,8.130932807922363,-5.014153957366943,-5.019589900970459,-5.033083915710449,-5.026851654052734,-5.025702476501465,-5.014220237731934,-5.02215576171875,-5.023718357086182,-5.017452716827393,-5.013686180114746,-5.019815444946289,3.956305503845215,3.9523820877075195,3.948350429534912,3.9478893280029297,3.944941282272339,3.9363107681274414,9.781394958496094,9.769190788269043,3.1057724952697754,3.0679876804351807,3.0663506984710693],\"xaxis\":\"x\",\"y\":[10.426403999328613,11.536544799804688,10.332435607910156,10.350738525390625,10.278755187988281,10.338297843933105,10.297737121582031,10.333271980285645,10.27000617980957,10.302366256713867,10.299245834350586,10.2284517288208,10.308430671691895,10.311969757080078,10.28302001953125,10.269171714782715,10.254199981689453,10.378849029541016,10.30624008178711,10.323710441589355,10.326764106750488,6.243106365203857,6.240112781524658,6.229254245758057,6.227746486663818,6.242040634155273,6.225807189941406,6.252976417541504,6.231893062591553,6.228653907775879,6.2533464431762695,6.237050533294678,10.186383247375488,10.191442489624023,10.182191848754883,10.214567184448242,10.206761360168457,10.212717056274414,3.375037431716919,3.3844594955444336,11.063015937805176,11.105567932128906,11.114480972290039],\"yaxis\":\"y\",\"type\":\"scattergl\"}],                        {\"template\":{\"data\":{\"bar\":[{\"error_x\":{\"color\":\"#2a3f5f\"},\"error_y\":{\"color\":\"#2a3f5f\"},\"marker\":{\"line\":{\"color\":\"#E5ECF6\",\"width\":0.5},\"pattern\":{\"fillmode\":\"overlay\",\"size\":10,\"solidity\":0.2}},\"type\":\"bar\"}],\"barpolar\":[{\"marker\":{\"line\":{\"color\":\"#E5ECF6\",\"width\":0.5},\"pattern\":{\"fillmode\":\"overlay\",\"size\":10,\"solidity\":0.2}},\"type\":\"barpolar\"}],\"carpet\":[{\"aaxis\":{\"endlinecolor\":\"#2a3f5f\",\"gridcolor\":\"white\",\"linecolor\":\"white\",\"minorgridcolor\":\"white\",\"startlinecolor\":\"#2a3f5f\"},\"baxis\":{\"endlinecolor\":\"#2a3f5f\",\"gridcolor\":\"white\",\"linecolor\":\"white\",\"minorgridcolor\":\"white\",\"startlinecolor\":\"#2a3f5f\"},\"type\":\"carpet\"}],\"choropleth\":[{\"colorbar\":{\"outlinewidth\":0,\"ticks\":\"\"},\"type\":\"choropleth\"}],\"contour\":[{\"colorbar\":{\"outlinewidth\":0,\"ticks\":\"\"},\"colorscale\":[[0.0,\"#0d0887\"],[0.1111111111111111,\"#46039f\"],[0.2222222222222222,\"#7201a8\"],[0.3333333333333333,\"#9c179e\"],[0.4444444444444444,\"#bd3786\"],[0.5555555555555556,\"#d8576b\"],[0.6666666666666666,\"#ed7953\"],[0.7777777777777778,\"#fb9f3a\"],[0.8888888888888888,\"#fdca26\"],[1.0,\"#f0f921\"]],\"type\":\"contour\"}],\"contourcarpet\":[{\"colorbar\":{\"outlinewidth\":0,\"ticks\":\"\"},\"type\":\"contourcarpet\"}],\"heatmap\":[{\"colorbar\":{\"outlinewidth\":0,\"ticks\":\"\"},\"colorscale\":[[0.0,\"#0d0887\"],[0.1111111111111111,\"#46039f\"],[0.2222222222222222,\"#7201a8\"],[0.3333333333333333,\"#9c179e\"],[0.4444444444444444,\"#bd3786\"],[0.5555555555555556,\"#d8576b\"],[0.6666666666666666,\"#ed7953\"],[0.7777777777777778,\"#fb9f3a\"],[0.8888888888888888,\"#fdca26\"],[1.0,\"#f0f921\"]],\"type\":\"heatmap\"}],\"heatmapgl\":[{\"colorbar\":{\"outlinewidth\":0,\"ticks\":\"\"},\"colorscale\":[[0.0,\"#0d0887\"],[0.1111111111111111,\"#46039f\"],[0.2222222222222222,\"#7201a8\"],[0.3333333333333333,\"#9c179e\"],[0.4444444444444444,\"#bd3786\"],[0.5555555555555556,\"#d8576b\"],[0.6666666666666666,\"#ed7953\"],[0.7777777777777778,\"#fb9f3a\"],[0.8888888888888888,\"#fdca26\"],[1.0,\"#f0f921\"]],\"type\":\"heatmapgl\"}],\"histogram\":[{\"marker\":{\"pattern\":{\"fillmode\":\"overlay\",\"size\":10,\"solidity\":0.2}},\"type\":\"histogram\"}],\"histogram2d\":[{\"colorbar\":{\"outlinewidth\":0,\"ticks\":\"\"},\"colorscale\":[[0.0,\"#0d0887\"],[0.1111111111111111,\"#46039f\"],[0.2222222222222222,\"#7201a8\"],[0.3333333333333333,\"#9c179e\"],[0.4444444444444444,\"#bd3786\"],[0.5555555555555556,\"#d8576b\"],[0.6666666666666666,\"#ed7953\"],[0.7777777777777778,\"#fb9f3a\"],[0.8888888888888888,\"#fdca26\"],[1.0,\"#f0f921\"]],\"type\":\"histogram2d\"}],\"histogram2dcontour\":[{\"colorbar\":{\"outlinewidth\":0,\"ticks\":\"\"},\"colorscale\":[[0.0,\"#0d0887\"],[0.1111111111111111,\"#46039f\"],[0.2222222222222222,\"#7201a8\"],[0.3333333333333333,\"#9c179e\"],[0.4444444444444444,\"#bd3786\"],[0.5555555555555556,\"#d8576b\"],[0.6666666666666666,\"#ed7953\"],[0.7777777777777778,\"#fb9f3a\"],[0.8888888888888888,\"#fdca26\"],[1.0,\"#f0f921\"]],\"type\":\"histogram2dcontour\"}],\"mesh3d\":[{\"colorbar\":{\"outlinewidth\":0,\"ticks\":\"\"},\"type\":\"mesh3d\"}],\"parcoords\":[{\"line\":{\"colorbar\":{\"outlinewidth\":0,\"ticks\":\"\"}},\"type\":\"parcoords\"}],\"pie\":[{\"automargin\":true,\"type\":\"pie\"}],\"scatter\":[{\"marker\":{\"colorbar\":{\"outlinewidth\":0,\"ticks\":\"\"}},\"type\":\"scatter\"}],\"scatter3d\":[{\"line\":{\"colorbar\":{\"outlinewidth\":0,\"ticks\":\"\"}},\"marker\":{\"colorbar\":{\"outlinewidth\":0,\"ticks\":\"\"}},\"type\":\"scatter3d\"}],\"scattercarpet\":[{\"marker\":{\"colorbar\":{\"outlinewidth\":0,\"ticks\":\"\"}},\"type\":\"scattercarpet\"}],\"scattergeo\":[{\"marker\":{\"colorbar\":{\"outlinewidth\":0,\"ticks\":\"\"}},\"type\":\"scattergeo\"}],\"scattergl\":[{\"marker\":{\"colorbar\":{\"outlinewidth\":0,\"ticks\":\"\"}},\"type\":\"scattergl\"}],\"scattermapbox\":[{\"marker\":{\"colorbar\":{\"outlinewidth\":0,\"ticks\":\"\"}},\"type\":\"scattermapbox\"}],\"scatterpolar\":[{\"marker\":{\"colorbar\":{\"outlinewidth\":0,\"ticks\":\"\"}},\"type\":\"scatterpolar\"}],\"scatterpolargl\":[{\"marker\":{\"colorbar\":{\"outlinewidth\":0,\"ticks\":\"\"}},\"type\":\"scatterpolargl\"}],\"scatterternary\":[{\"marker\":{\"colorbar\":{\"outlinewidth\":0,\"ticks\":\"\"}},\"type\":\"scatterternary\"}],\"surface\":[{\"colorbar\":{\"outlinewidth\":0,\"ticks\":\"\"},\"colorscale\":[[0.0,\"#0d0887\"],[0.1111111111111111,\"#46039f\"],[0.2222222222222222,\"#7201a8\"],[0.3333333333333333,\"#9c179e\"],[0.4444444444444444,\"#bd3786\"],[0.5555555555555556,\"#d8576b\"],[0.6666666666666666,\"#ed7953\"],[0.7777777777777778,\"#fb9f3a\"],[0.8888888888888888,\"#fdca26\"],[1.0,\"#f0f921\"]],\"type\":\"surface\"}],\"table\":[{\"cells\":{\"fill\":{\"color\":\"#EBF0F8\"},\"line\":{\"color\":\"white\"}},\"header\":{\"fill\":{\"color\":\"#C8D4E3\"},\"line\":{\"color\":\"white\"}},\"type\":\"table\"}]},\"layout\":{\"annotationdefaults\":{\"arrowcolor\":\"#2a3f5f\",\"arrowhead\":0,\"arrowwidth\":1},\"autotypenumbers\":\"strict\",\"coloraxis\":{\"colorbar\":{\"outlinewidth\":0,\"ticks\":\"\"}},\"colorscale\":{\"diverging\":[[0,\"#8e0152\"],[0.1,\"#c51b7d\"],[0.2,\"#de77ae\"],[0.3,\"#f1b6da\"],[0.4,\"#fde0ef\"],[0.5,\"#f7f7f7\"],[0.6,\"#e6f5d0\"],[0.7,\"#b8e186\"],[0.8,\"#7fbc41\"],[0.9,\"#4d9221\"],[1,\"#276419\"]],\"sequential\":[[0.0,\"#0d0887\"],[0.1111111111111111,\"#46039f\"],[0.2222222222222222,\"#7201a8\"],[0.3333333333333333,\"#9c179e\"],[0.4444444444444444,\"#bd3786\"],[0.5555555555555556,\"#d8576b\"],[0.6666666666666666,\"#ed7953\"],[0.7777777777777778,\"#fb9f3a\"],[0.8888888888888888,\"#fdca26\"],[1.0,\"#f0f921\"]],\"sequentialminus\":[[0.0,\"#0d0887\"],[0.1111111111111111,\"#46039f\"],[0.2222222222222222,\"#7201a8\"],[0.3333333333333333,\"#9c179e\"],[0.4444444444444444,\"#bd3786\"],[0.5555555555555556,\"#d8576b\"],[0.6666666666666666,\"#ed7953\"],[0.7777777777777778,\"#fb9f3a\"],[0.8888888888888888,\"#fdca26\"],[1.0,\"#f0f921\"]]},\"colorway\":[\"#636efa\",\"#EF553B\",\"#00cc96\",\"#ab63fa\",\"#FFA15A\",\"#19d3f3\",\"#FF6692\",\"#B6E880\",\"#FF97FF\",\"#FECB52\"],\"font\":{\"color\":\"#2a3f5f\"},\"geo\":{\"bgcolor\":\"white\",\"lakecolor\":\"white\",\"landcolor\":\"#E5ECF6\",\"showlakes\":true,\"showland\":true,\"subunitcolor\":\"white\"},\"hoverlabel\":{\"align\":\"left\"},\"hovermode\":\"closest\",\"mapbox\":{\"style\":\"light\"},\"paper_bgcolor\":\"white\",\"plot_bgcolor\":\"#E5ECF6\",\"polar\":{\"angularaxis\":{\"gridcolor\":\"white\",\"linecolor\":\"white\",\"ticks\":\"\"},\"bgcolor\":\"#E5ECF6\",\"radialaxis\":{\"gridcolor\":\"white\",\"linecolor\":\"white\",\"ticks\":\"\"}},\"scene\":{\"xaxis\":{\"backgroundcolor\":\"#E5ECF6\",\"gridcolor\":\"white\",\"gridwidth\":2,\"linecolor\":\"white\",\"showbackground\":true,\"ticks\":\"\",\"zerolinecolor\":\"white\"},\"yaxis\":{\"backgroundcolor\":\"#E5ECF6\",\"gridcolor\":\"white\",\"gridwidth\":2,\"linecolor\":\"white\",\"showbackground\":true,\"ticks\":\"\",\"zerolinecolor\":\"white\"},\"zaxis\":{\"backgroundcolor\":\"#E5ECF6\",\"gridcolor\":\"white\",\"gridwidth\":2,\"linecolor\":\"white\",\"showbackground\":true,\"ticks\":\"\",\"zerolinecolor\":\"white\"}},\"shapedefaults\":{\"line\":{\"color\":\"#2a3f5f\"}},\"ternary\":{\"aaxis\":{\"gridcolor\":\"white\",\"linecolor\":\"white\",\"ticks\":\"\"},\"baxis\":{\"gridcolor\":\"white\",\"linecolor\":\"white\",\"ticks\":\"\"},\"bgcolor\":\"#E5ECF6\",\"caxis\":{\"gridcolor\":\"white\",\"linecolor\":\"white\",\"ticks\":\"\"}},\"title\":{\"x\":0.05},\"xaxis\":{\"automargin\":true,\"gridcolor\":\"white\",\"linecolor\":\"white\",\"ticks\":\"\",\"title\":{\"standoff\":15},\"zerolinecolor\":\"white\",\"zerolinewidth\":2},\"yaxis\":{\"automargin\":true,\"gridcolor\":\"white\",\"linecolor\":\"white\",\"ticks\":\"\",\"title\":{\"standoff\":15},\"zerolinecolor\":\"white\",\"zerolinewidth\":2}}},\"xaxis\":{\"anchor\":\"y\",\"domain\":[0.0,1.0],\"title\":{\"text\":\"one_d\"}},\"yaxis\":{\"anchor\":\"x\",\"domain\":[0.0,1.0],\"title\":{\"text\":\"two_d\"}},\"legend\":{\"title\":{\"text\":\"label\"},\"tracegroupgap\":0,\"itemsizing\":\"constant\"},\"margin\":{\"t\":60}},                        {\"responsive\": true}                    ).then(function(){\n",
       "                            \n",
       "var gd = document.getElementById('bb1d62f2-0e93-48ec-ab0f-717fa419f375');\n",
       "var x = new MutationObserver(function (mutations, observer) {{\n",
       "        var display = window.getComputedStyle(gd).display;\n",
       "        if (!display || display === 'none') {{\n",
       "            console.log([gd, 'removed!']);\n",
       "            Plotly.purge(gd);\n",
       "            observer.disconnect();\n",
       "        }}\n",
       "}});\n",
       "\n",
       "// Listen for the removal of the full notebook cells\n",
       "var notebookContainer = gd.closest('#notebook-container');\n",
       "if (notebookContainer) {{\n",
       "    x.observe(notebookContainer, {childList: true});\n",
       "}}\n",
       "\n",
       "// Listen for the clearing of the current output cell\n",
       "var outputEl = gd.closest('.output');\n",
       "if (outputEl) {{\n",
       "    x.observe(outputEl, {childList: true});\n",
       "}}\n",
       "\n",
       "                        })                };                });            </script>        </div>"
      ]
     },
     "metadata": {},
     "output_type": "display_data"
    }
   ],
   "source": [
    "df = px.data.iris()\n",
    "fig = px.scatter(visualization_df, x=\"one_d\", y=\"two_d\", color=\"label\",\n",
    "                 size='average_likes', hover_data=[\"hashtags\"])\n",
    "fig.show()"
   ]
  },
  {
   "cell_type": "code",
   "execution_count": null,
   "id": "265639f6",
   "metadata": {},
   "outputs": [],
   "source": []
  },
  {
   "cell_type": "code",
   "execution_count": null,
   "id": "b1a9781e",
   "metadata": {},
   "outputs": [],
   "source": []
  }
 ],
 "metadata": {
  "kernelspec": {
   "display_name": "Python 3 (ipykernel)",
   "language": "python",
   "name": "python3"
  },
  "language_info": {
   "codemirror_mode": {
    "name": "ipython",
    "version": 3
   },
   "file_extension": ".py",
   "mimetype": "text/x-python",
   "name": "python",
   "nbconvert_exporter": "python",
   "pygments_lexer": "ipython3",
   "version": "3.10.4"
  }
 },
 "nbformat": 4,
 "nbformat_minor": 5
}
