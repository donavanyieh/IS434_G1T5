{
 "cells": [
  {
   "cell_type": "markdown",
   "id": "5e3ba515",
   "metadata": {},
   "source": [
    "# Description of analysis\n",
    "In this notebook, we aim to look at engagement of posts, and whether posting at specific days of the week and timings of the day lead to greater engagement rate. To do so, we have to define the metric for \"engagement\".<br><br>\n",
    "We face certain limitations and concerns when defining engagement of a post on a particular date. We address this points below and come up with our own engagement metric.\n",
    "\n",
    "# Limitation/ concerns\n",
    "This measurement of engagement comes with two limitations/threats to validity:<br>\n",
    "<ol>\n",
    "    <li>Likes of posts will rise will number of followrs. While the ideal metric would be: <i>Number of likes divided by number of followers at the time of posting</i>, instagram does not allow us to retrieve historical number of followers.</li>\n",
    "    <li>If we look at absolute number of likes per day, e.g. all likes gathered on posts on Thursdays, we may have bias, where if Fukudon posts regularly on Thursdays, Thursdays may gain a higher engagement rate</li>\n",
    "</ol>\n",
    "\n",
    "# Mitigation\n",
    "We first construct a linear regressor to fit likes across all dates, and look at the the percentage variance of the post to the regressor line. This is the engagement per post. We do this for all posts, and get the average engagement per post over a date.\n",
    "\n",
    "# Formula for \"Engagement\"\n",
    "In conclusion, we come up with the following formula:<h3><i>Engagement per day: (sum of all percentage variance for a day) divided by (number of posts on that day)</i></h3>\n"
   ]
  },
  {
   "cell_type": "markdown",
   "id": "24156cba",
   "metadata": {},
   "source": [
    "# Import relevant libraries and files"
   ]
  },
  {
   "cell_type": "code",
   "execution_count": 115,
   "id": "023fb9c9",
   "metadata": {},
   "outputs": [],
   "source": [
    "import pandas as pd\n",
    "import numpy as np\n",
    "import plotly.express as px\n",
    "from datetime import datetime, timedelta"
   ]
  },
  {
   "cell_type": "code",
   "execution_count": 116,
   "id": "36b64d65-6975-4d23-9b31-bd9c33958c8d",
   "metadata": {},
   "outputs": [],
   "source": [
    "instagram_df = pd.read_csv(\"../data/instagram_posts.csv\")"
   ]
  },
  {
   "cell_type": "code",
   "execution_count": 117,
   "id": "ad8bdf6b-4ac3-46e1-b1d8-bef53bd70d83",
   "metadata": {},
   "outputs": [
    {
     "data": {
      "text/html": [
       "<div>\n",
       "<style scoped>\n",
       "    .dataframe tbody tr th:only-of-type {\n",
       "        vertical-align: middle;\n",
       "    }\n",
       "\n",
       "    .dataframe tbody tr th {\n",
       "        vertical-align: top;\n",
       "    }\n",
       "\n",
       "    .dataframe thead th {\n",
       "        text-align: right;\n",
       "    }\n",
       "</style>\n",
       "<table border=\"1\" class=\"dataframe\">\n",
       "  <thead>\n",
       "    <tr style=\"text-align: right;\">\n",
       "      <th></th>\n",
       "      <th>Unnamed: 0</th>\n",
       "      <th>node.display_url</th>\n",
       "      <th>node.edge_media_to_caption.edges</th>\n",
       "      <th>node.owner.full_name</th>\n",
       "      <th>node.location.name</th>\n",
       "      <th>node.location.slug</th>\n",
       "      <th>hashtags</th>\n",
       "      <th>Likes</th>\n",
       "      <th>Date</th>\n",
       "      <th>Datetime</th>\n",
       "    </tr>\n",
       "  </thead>\n",
       "  <tbody>\n",
       "    <tr>\n",
       "      <th>0</th>\n",
       "      <td>57</td>\n",
       "      <td>https://instagram.fsin5-1.fna.fbcdn.net/v/t51....</td>\n",
       "      <td>Let us bring you behind the scenes and show yo...</td>\n",
       "      <td>Fukudon | Donburi Specialist</td>\n",
       "      <td>Fukudon</td>\n",
       "      <td>fukudon</td>\n",
       "      <td>NaN</td>\n",
       "      <td>29</td>\n",
       "      <td>7/2/2022</td>\n",
       "      <td>7/2/2022 15:20</td>\n",
       "    </tr>\n",
       "    <tr>\n",
       "      <th>1</th>\n",
       "      <td>56</td>\n",
       "      <td>https://instagram.fsin5-1.fna.fbcdn.net/v/t51....</td>\n",
       "      <td>🐯新年快乐 恭喜发财🍊\\n\\nFrom all of us at Fúkudon, we w...</td>\n",
       "      <td>Fukudon | Donburi Specialist</td>\n",
       "      <td>NaN</td>\n",
       "      <td>NaN</td>\n",
       "      <td>NaN</td>\n",
       "      <td>16</td>\n",
       "      <td>3/2/2022</td>\n",
       "      <td>3/2/2022 11:24</td>\n",
       "    </tr>\n",
       "    <tr>\n",
       "      <th>2</th>\n",
       "      <td>55</td>\n",
       "      <td>https://instagram.fsin5-1.fna.fbcdn.net/v/t51....</td>\n",
       "      <td>We’ve heard you! We are pleased to finally ann...</td>\n",
       "      <td>Fukudon | Donburi Specialist</td>\n",
       "      <td>Fukudon</td>\n",
       "      <td>fukudon</td>\n",
       "      <td>NaN</td>\n",
       "      <td>18</td>\n",
       "      <td>28/1/2022</td>\n",
       "      <td>28/1/2022 18:04</td>\n",
       "    </tr>\n",
       "    <tr>\n",
       "      <th>3</th>\n",
       "      <td>54</td>\n",
       "      <td>https://instagram.fsin5-1.fna.fbcdn.net/v/t51....</td>\n",
       "      <td>🐯🧧 Let us usher in a Roarsome Lunar New Year t...</td>\n",
       "      <td>Fukudon | Donburi Specialist</td>\n",
       "      <td>NaN</td>\n",
       "      <td>NaN</td>\n",
       "      <td>NaN</td>\n",
       "      <td>17</td>\n",
       "      <td>26/1/2022</td>\n",
       "      <td>26/1/2022 13:37</td>\n",
       "    </tr>\n",
       "    <tr>\n",
       "      <th>4</th>\n",
       "      <td>53</td>\n",
       "      <td>https://instagram.fsin5-1.fna.fbcdn.net/v/t51....</td>\n",
       "      <td>🧧Introducing to you our Roaring Combo this Lun...</td>\n",
       "      <td>Fukudon | Donburi Specialist</td>\n",
       "      <td>NaN</td>\n",
       "      <td>NaN</td>\n",
       "      <td>NaN</td>\n",
       "      <td>47</td>\n",
       "      <td>23/1/2022</td>\n",
       "      <td>23/1/2022 16:01</td>\n",
       "    </tr>\n",
       "  </tbody>\n",
       "</table>\n",
       "</div>"
      ],
      "text/plain": [
       "   Unnamed: 0                                   node.display_url  \\\n",
       "0          57  https://instagram.fsin5-1.fna.fbcdn.net/v/t51....   \n",
       "1          56  https://instagram.fsin5-1.fna.fbcdn.net/v/t51....   \n",
       "2          55  https://instagram.fsin5-1.fna.fbcdn.net/v/t51....   \n",
       "3          54  https://instagram.fsin5-1.fna.fbcdn.net/v/t51....   \n",
       "4          53  https://instagram.fsin5-1.fna.fbcdn.net/v/t51....   \n",
       "\n",
       "                    node.edge_media_to_caption.edges  \\\n",
       "0  Let us bring you behind the scenes and show yo...   \n",
       "1  🐯新年快乐 恭喜发财🍊\\n\\nFrom all of us at Fúkudon, we w...   \n",
       "2  We’ve heard you! We are pleased to finally ann...   \n",
       "3  🐯🧧 Let us usher in a Roarsome Lunar New Year t...   \n",
       "4  🧧Introducing to you our Roaring Combo this Lun...   \n",
       "\n",
       "           node.owner.full_name node.location.name node.location.slug  \\\n",
       "0  Fukudon | Donburi Specialist            Fukudon            fukudon   \n",
       "1  Fukudon | Donburi Specialist                NaN                NaN   \n",
       "2  Fukudon | Donburi Specialist            Fukudon            fukudon   \n",
       "3  Fukudon | Donburi Specialist                NaN                NaN   \n",
       "4  Fukudon | Donburi Specialist                NaN                NaN   \n",
       "\n",
       "  hashtags  Likes       Date         Datetime  \n",
       "0      NaN     29   7/2/2022   7/2/2022 15:20  \n",
       "1      NaN     16   3/2/2022   3/2/2022 11:24  \n",
       "2      NaN     18  28/1/2022  28/1/2022 18:04  \n",
       "3      NaN     17  26/1/2022  26/1/2022 13:37  \n",
       "4      NaN     47  23/1/2022  23/1/2022 16:01  "
      ]
     },
     "execution_count": 117,
     "metadata": {},
     "output_type": "execute_result"
    }
   ],
   "source": [
    "instagram_df.head()"
   ]
  },
  {
   "cell_type": "code",
   "execution_count": 118,
   "id": "42eab824",
   "metadata": {
    "scrolled": true
   },
   "outputs": [
    {
     "name": "stdout",
     "output_type": "stream",
     "text": [
      "<class 'pandas.core.frame.DataFrame'>\n",
      "RangeIndex: 58 entries, 0 to 57\n",
      "Data columns (total 10 columns):\n",
      " #   Column                            Non-Null Count  Dtype \n",
      "---  ------                            --------------  ----- \n",
      " 0   Unnamed: 0                        58 non-null     int64 \n",
      " 1   node.display_url                  55 non-null     object\n",
      " 2   node.edge_media_to_caption.edges  58 non-null     object\n",
      " 3   node.owner.full_name              55 non-null     object\n",
      " 4   node.location.name                39 non-null     object\n",
      " 5   node.location.slug                39 non-null     object\n",
      " 6   hashtags                          9 non-null      object\n",
      " 7   Likes                             58 non-null     int64 \n",
      " 8   Date                              58 non-null     object\n",
      " 9   Datetime                          58 non-null     object\n",
      "dtypes: int64(2), object(8)\n",
      "memory usage: 4.7+ KB\n"
     ]
    }
   ],
   "source": [
    "instagram_df.info()"
   ]
  },
  {
   "cell_type": "markdown",
   "id": "7da31ecf",
   "metadata": {},
   "source": [
    "# Sort instagram posts by date"
   ]
  },
  {
   "cell_type": "code",
   "execution_count": 119,
   "id": "c3de0dce",
   "metadata": {},
   "outputs": [],
   "source": [
    "def get_date_from_string(date_string):\n",
    "    return datetime.strptime(date_string, \"%d/%m/%Y\").date()\n",
    "\n",
    "instagram_df[\"date_obj\"] = instagram_df[\"Date\"].apply(get_date_from_string)"
   ]
  },
  {
   "cell_type": "code",
   "execution_count": 120,
   "id": "8784599e",
   "metadata": {},
   "outputs": [
    {
     "data": {
      "text/html": [
       "<div>\n",
       "<style scoped>\n",
       "    .dataframe tbody tr th:only-of-type {\n",
       "        vertical-align: middle;\n",
       "    }\n",
       "\n",
       "    .dataframe tbody tr th {\n",
       "        vertical-align: top;\n",
       "    }\n",
       "\n",
       "    .dataframe thead th {\n",
       "        text-align: right;\n",
       "    }\n",
       "</style>\n",
       "<table border=\"1\" class=\"dataframe\">\n",
       "  <thead>\n",
       "    <tr style=\"text-align: right;\">\n",
       "      <th></th>\n",
       "      <th>Unnamed: 0</th>\n",
       "      <th>node.display_url</th>\n",
       "      <th>node.edge_media_to_caption.edges</th>\n",
       "      <th>node.owner.full_name</th>\n",
       "      <th>node.location.name</th>\n",
       "      <th>node.location.slug</th>\n",
       "      <th>hashtags</th>\n",
       "      <th>Likes</th>\n",
       "      <th>Date</th>\n",
       "      <th>Datetime</th>\n",
       "      <th>date_obj</th>\n",
       "    </tr>\n",
       "  </thead>\n",
       "  <tbody>\n",
       "    <tr>\n",
       "      <th>57</th>\n",
       "      <td>0</td>\n",
       "      <td>https://instagram.fsin5-1.fna.fbcdn.net/v/t51....</td>\n",
       "      <td>FÚKUDON  一口田\\n\\nThe right half of \"福\" (fú) (...</td>\n",
       "      <td>Fukudon | Donburi Specialist</td>\n",
       "      <td>Marine Parade Food Centre</td>\n",
       "      <td>marine-parade-food-centre</td>\n",
       "      <td>NaN</td>\n",
       "      <td>43</td>\n",
       "      <td>2/10/2020</td>\n",
       "      <td>2/10/2020 18:49</td>\n",
       "      <td>2020-10-02</td>\n",
       "    </tr>\n",
       "    <tr>\n",
       "      <th>56</th>\n",
       "      <td>1</td>\n",
       "      <td>https://instagram.fsin5-1.fna.fbcdn.net/v/t51....</td>\n",
       "      <td>Inspired by the quote “Home is where the heart...</td>\n",
       "      <td>Fukudon | Donburi Specialist</td>\n",
       "      <td>Marine Parade Hawker Centre Blk 84</td>\n",
       "      <td>marine-parade-hawker-centre-blk-84</td>\n",
       "      <td>NaN</td>\n",
       "      <td>65</td>\n",
       "      <td>5/10/2020</td>\n",
       "      <td>5/10/2020 19:01</td>\n",
       "      <td>2020-10-05</td>\n",
       "    </tr>\n",
       "    <tr>\n",
       "      <th>55</th>\n",
       "      <td>2</td>\n",
       "      <td>https://instagram.fsin5-1.fna.fbcdn.net/v/t51....</td>\n",
       "      <td>In our next few posts, we will be exploring ho...</td>\n",
       "      <td>Fukudon | Donburi Specialist</td>\n",
       "      <td>Marine Parade Central Food Centre</td>\n",
       "      <td>marine-parade-central-food-centre</td>\n",
       "      <td>NaN</td>\n",
       "      <td>49</td>\n",
       "      <td>8/10/2020</td>\n",
       "      <td>8/10/2020 21:04</td>\n",
       "      <td>2020-10-08</td>\n",
       "    </tr>\n",
       "    <tr>\n",
       "      <th>54</th>\n",
       "      <td>3</td>\n",
       "      <td>https://instagram.fsin5-1.fna.fbcdn.net/v/t51....</td>\n",
       "      <td>This post focuses on two key factors in creati...</td>\n",
       "      <td>Fukudon | Donburi Specialist</td>\n",
       "      <td>Marine Parade Hawker Centre Blk 84</td>\n",
       "      <td>marine-parade-hawker-centre-blk-84</td>\n",
       "      <td>NaN</td>\n",
       "      <td>60</td>\n",
       "      <td>9/10/2020</td>\n",
       "      <td>9/10/2020 18:34</td>\n",
       "      <td>2020-10-09</td>\n",
       "    </tr>\n",
       "    <tr>\n",
       "      <th>53</th>\n",
       "      <td>4</td>\n",
       "      <td>https://instagram.fsin5-1.fna.fbcdn.net/v/t51....</td>\n",
       "      <td>Renovation from the previous workspace has jus...</td>\n",
       "      <td>Fukudon | Donburi Specialist</td>\n",
       "      <td>Marine Parade Food Centre</td>\n",
       "      <td>marine-parade-food-centre</td>\n",
       "      <td>NaN</td>\n",
       "      <td>55</td>\n",
       "      <td>11/10/2020</td>\n",
       "      <td>11/10/2020 17:55</td>\n",
       "      <td>2020-10-11</td>\n",
       "    </tr>\n",
       "  </tbody>\n",
       "</table>\n",
       "</div>"
      ],
      "text/plain": [
       "    Unnamed: 0                                   node.display_url  \\\n",
       "57           0  https://instagram.fsin5-1.fna.fbcdn.net/v/t51....   \n",
       "56           1  https://instagram.fsin5-1.fna.fbcdn.net/v/t51....   \n",
       "55           2  https://instagram.fsin5-1.fna.fbcdn.net/v/t51....   \n",
       "54           3  https://instagram.fsin5-1.fna.fbcdn.net/v/t51....   \n",
       "53           4  https://instagram.fsin5-1.fna.fbcdn.net/v/t51....   \n",
       "\n",
       "                     node.edge_media_to_caption.edges  \\\n",
       "57  FÚKUDON  一口田\\n\\nThe right half of \"福\" (fú) (...   \n",
       "56  Inspired by the quote “Home is where the heart...   \n",
       "55  In our next few posts, we will be exploring ho...   \n",
       "54  This post focuses on two key factors in creati...   \n",
       "53  Renovation from the previous workspace has jus...   \n",
       "\n",
       "            node.owner.full_name                  node.location.name  \\\n",
       "57  Fukudon | Donburi Specialist           Marine Parade Food Centre   \n",
       "56  Fukudon | Donburi Specialist  Marine Parade Hawker Centre Blk 84   \n",
       "55  Fukudon | Donburi Specialist   Marine Parade Central Food Centre   \n",
       "54  Fukudon | Donburi Specialist  Marine Parade Hawker Centre Blk 84   \n",
       "53  Fukudon | Donburi Specialist           Marine Parade Food Centre   \n",
       "\n",
       "                    node.location.slug hashtags  Likes        Date  \\\n",
       "57           marine-parade-food-centre      NaN     43   2/10/2020   \n",
       "56  marine-parade-hawker-centre-blk-84      NaN     65   5/10/2020   \n",
       "55   marine-parade-central-food-centre      NaN     49   8/10/2020   \n",
       "54  marine-parade-hawker-centre-blk-84      NaN     60   9/10/2020   \n",
       "53           marine-parade-food-centre      NaN     55  11/10/2020   \n",
       "\n",
       "            Datetime    date_obj  \n",
       "57   2/10/2020 18:49  2020-10-02  \n",
       "56   5/10/2020 19:01  2020-10-05  \n",
       "55   8/10/2020 21:04  2020-10-08  \n",
       "54   9/10/2020 18:34  2020-10-09  \n",
       "53  11/10/2020 17:55  2020-10-11  "
      ]
     },
     "execution_count": 120,
     "metadata": {},
     "output_type": "execute_result"
    }
   ],
   "source": [
    "instagram_df = instagram_df.sort_values(by=\"date_obj\")\n",
    "instagram_df.head()"
   ]
  },
  {
   "cell_type": "markdown",
   "id": "9ce78c3c",
   "metadata": {},
   "source": [
    "# Plot Linear Regression"
   ]
  },
  {
   "cell_type": "code",
   "execution_count": 123,
   "id": "f2d8ac6c",
   "metadata": {},
   "outputs": [],
   "source": [
    "instagram_df[\"dates_string\"] = instagram_df[\"date_obj\"].apply(lambda x:str(x))"
   ]
  },
  {
   "cell_type": "code",
   "execution_count": 124,
   "id": "9bfe163e",
   "metadata": {},
   "outputs": [
    {
     "data": {
      "text/html": [
       "<div>\n",
       "<style scoped>\n",
       "    .dataframe tbody tr th:only-of-type {\n",
       "        vertical-align: middle;\n",
       "    }\n",
       "\n",
       "    .dataframe tbody tr th {\n",
       "        vertical-align: top;\n",
       "    }\n",
       "\n",
       "    .dataframe thead th {\n",
       "        text-align: right;\n",
       "    }\n",
       "</style>\n",
       "<table border=\"1\" class=\"dataframe\">\n",
       "  <thead>\n",
       "    <tr style=\"text-align: right;\">\n",
       "      <th></th>\n",
       "      <th>Unnamed: 0</th>\n",
       "      <th>node.display_url</th>\n",
       "      <th>node.edge_media_to_caption.edges</th>\n",
       "      <th>node.owner.full_name</th>\n",
       "      <th>node.location.name</th>\n",
       "      <th>node.location.slug</th>\n",
       "      <th>hashtags</th>\n",
       "      <th>Likes</th>\n",
       "      <th>Date</th>\n",
       "      <th>Datetime</th>\n",
       "      <th>date_obj</th>\n",
       "      <th>dates_string</th>\n",
       "    </tr>\n",
       "  </thead>\n",
       "  <tbody>\n",
       "    <tr>\n",
       "      <th>57</th>\n",
       "      <td>0</td>\n",
       "      <td>https://instagram.fsin5-1.fna.fbcdn.net/v/t51....</td>\n",
       "      <td>FÚKUDON  一口田\\n\\nThe right half of \"福\" (fú) (...</td>\n",
       "      <td>Fukudon | Donburi Specialist</td>\n",
       "      <td>Marine Parade Food Centre</td>\n",
       "      <td>marine-parade-food-centre</td>\n",
       "      <td>NaN</td>\n",
       "      <td>43</td>\n",
       "      <td>2/10/2020</td>\n",
       "      <td>2/10/2020 18:49</td>\n",
       "      <td>2020-10-02</td>\n",
       "      <td>2020-10-02</td>\n",
       "    </tr>\n",
       "    <tr>\n",
       "      <th>56</th>\n",
       "      <td>1</td>\n",
       "      <td>https://instagram.fsin5-1.fna.fbcdn.net/v/t51....</td>\n",
       "      <td>Inspired by the quote “Home is where the heart...</td>\n",
       "      <td>Fukudon | Donburi Specialist</td>\n",
       "      <td>Marine Parade Hawker Centre Blk 84</td>\n",
       "      <td>marine-parade-hawker-centre-blk-84</td>\n",
       "      <td>NaN</td>\n",
       "      <td>65</td>\n",
       "      <td>5/10/2020</td>\n",
       "      <td>5/10/2020 19:01</td>\n",
       "      <td>2020-10-05</td>\n",
       "      <td>2020-10-05</td>\n",
       "    </tr>\n",
       "    <tr>\n",
       "      <th>55</th>\n",
       "      <td>2</td>\n",
       "      <td>https://instagram.fsin5-1.fna.fbcdn.net/v/t51....</td>\n",
       "      <td>In our next few posts, we will be exploring ho...</td>\n",
       "      <td>Fukudon | Donburi Specialist</td>\n",
       "      <td>Marine Parade Central Food Centre</td>\n",
       "      <td>marine-parade-central-food-centre</td>\n",
       "      <td>NaN</td>\n",
       "      <td>49</td>\n",
       "      <td>8/10/2020</td>\n",
       "      <td>8/10/2020 21:04</td>\n",
       "      <td>2020-10-08</td>\n",
       "      <td>2020-10-08</td>\n",
       "    </tr>\n",
       "    <tr>\n",
       "      <th>54</th>\n",
       "      <td>3</td>\n",
       "      <td>https://instagram.fsin5-1.fna.fbcdn.net/v/t51....</td>\n",
       "      <td>This post focuses on two key factors in creati...</td>\n",
       "      <td>Fukudon | Donburi Specialist</td>\n",
       "      <td>Marine Parade Hawker Centre Blk 84</td>\n",
       "      <td>marine-parade-hawker-centre-blk-84</td>\n",
       "      <td>NaN</td>\n",
       "      <td>60</td>\n",
       "      <td>9/10/2020</td>\n",
       "      <td>9/10/2020 18:34</td>\n",
       "      <td>2020-10-09</td>\n",
       "      <td>2020-10-09</td>\n",
       "    </tr>\n",
       "    <tr>\n",
       "      <th>53</th>\n",
       "      <td>4</td>\n",
       "      <td>https://instagram.fsin5-1.fna.fbcdn.net/v/t51....</td>\n",
       "      <td>Renovation from the previous workspace has jus...</td>\n",
       "      <td>Fukudon | Donburi Specialist</td>\n",
       "      <td>Marine Parade Food Centre</td>\n",
       "      <td>marine-parade-food-centre</td>\n",
       "      <td>NaN</td>\n",
       "      <td>55</td>\n",
       "      <td>11/10/2020</td>\n",
       "      <td>11/10/2020 17:55</td>\n",
       "      <td>2020-10-11</td>\n",
       "      <td>2020-10-11</td>\n",
       "    </tr>\n",
       "  </tbody>\n",
       "</table>\n",
       "</div>"
      ],
      "text/plain": [
       "    Unnamed: 0                                   node.display_url  \\\n",
       "57           0  https://instagram.fsin5-1.fna.fbcdn.net/v/t51....   \n",
       "56           1  https://instagram.fsin5-1.fna.fbcdn.net/v/t51....   \n",
       "55           2  https://instagram.fsin5-1.fna.fbcdn.net/v/t51....   \n",
       "54           3  https://instagram.fsin5-1.fna.fbcdn.net/v/t51....   \n",
       "53           4  https://instagram.fsin5-1.fna.fbcdn.net/v/t51....   \n",
       "\n",
       "                     node.edge_media_to_caption.edges  \\\n",
       "57  FÚKUDON  一口田\\n\\nThe right half of \"福\" (fú) (...   \n",
       "56  Inspired by the quote “Home is where the heart...   \n",
       "55  In our next few posts, we will be exploring ho...   \n",
       "54  This post focuses on two key factors in creati...   \n",
       "53  Renovation from the previous workspace has jus...   \n",
       "\n",
       "            node.owner.full_name                  node.location.name  \\\n",
       "57  Fukudon | Donburi Specialist           Marine Parade Food Centre   \n",
       "56  Fukudon | Donburi Specialist  Marine Parade Hawker Centre Blk 84   \n",
       "55  Fukudon | Donburi Specialist   Marine Parade Central Food Centre   \n",
       "54  Fukudon | Donburi Specialist  Marine Parade Hawker Centre Blk 84   \n",
       "53  Fukudon | Donburi Specialist           Marine Parade Food Centre   \n",
       "\n",
       "                    node.location.slug hashtags  Likes        Date  \\\n",
       "57           marine-parade-food-centre      NaN     43   2/10/2020   \n",
       "56  marine-parade-hawker-centre-blk-84      NaN     65   5/10/2020   \n",
       "55   marine-parade-central-food-centre      NaN     49   8/10/2020   \n",
       "54  marine-parade-hawker-centre-blk-84      NaN     60   9/10/2020   \n",
       "53           marine-parade-food-centre      NaN     55  11/10/2020   \n",
       "\n",
       "            Datetime    date_obj dates_string  \n",
       "57   2/10/2020 18:49  2020-10-02   2020-10-02  \n",
       "56   5/10/2020 19:01  2020-10-05   2020-10-05  \n",
       "55   8/10/2020 21:04  2020-10-08   2020-10-08  \n",
       "54   9/10/2020 18:34  2020-10-09   2020-10-09  \n",
       "53  11/10/2020 17:55  2020-10-11   2020-10-11  "
      ]
     },
     "execution_count": 124,
     "metadata": {},
     "output_type": "execute_result"
    }
   ],
   "source": [
    "instagram_df.head()"
   ]
  },
  {
   "cell_type": "code",
   "execution_count": 125,
   "id": "5646e7ec",
   "metadata": {},
   "outputs": [],
   "source": [
    "instagram_df[\"date_obj\"] = pd.to_datetime(instagram_df[\"date_obj\"])"
   ]
  },
  {
   "cell_type": "code",
   "execution_count": 126,
   "id": "f4b60acf",
   "metadata": {},
   "outputs": [],
   "source": [
    "fig = px.scatter(instagram_df, x=\"date_obj\", y=\"Likes\",  trendline=\"ols\")"
   ]
  },
  {
   "cell_type": "code",
   "execution_count": 127,
   "id": "ab14a6a0",
   "metadata": {},
   "outputs": [
    {
     "data": {
      "application/vnd.plotly.v1+json": {
       "config": {
        "plotlyServerURL": "https://plot.ly"
       },
       "data": [
        {
         "hovertemplate": "date_obj=%{x}<br>Likes=%{y}<extra></extra>",
         "legendgroup": "",
         "marker": {
          "color": "#636efa",
          "symbol": "circle"
         },
         "mode": "markers",
         "name": "",
         "orientation": "v",
         "showlegend": false,
         "type": "scatter",
         "x": [
          "2020-10-02T00:00:00",
          "2020-10-05T00:00:00",
          "2020-10-08T00:00:00",
          "2020-10-09T00:00:00",
          "2020-10-11T00:00:00",
          "2020-10-11T00:00:00",
          "2020-10-13T00:00:00",
          "2020-10-15T00:00:00",
          "2020-10-18T00:00:00",
          "2020-10-19T00:00:00",
          "2020-10-22T00:00:00",
          "2020-10-27T00:00:00",
          "2020-10-30T00:00:00",
          "2020-11-03T00:00:00",
          "2020-11-20T00:00:00",
          "2020-12-19T00:00:00",
          "2021-01-22T00:00:00",
          "2021-01-26T00:00:00",
          "2021-01-29T00:00:00",
          "2021-02-07T00:00:00",
          "2021-02-07T00:00:00",
          "2021-02-10T00:00:00",
          "2021-05-10T00:00:00",
          "2021-05-11T00:00:00",
          "2021-05-26T00:00:00",
          "2021-06-09T00:00:00",
          "2021-06-16T00:00:00",
          "2021-06-24T00:00:00",
          "2021-07-05T00:00:00",
          "2021-07-08T00:00:00",
          "2021-07-14T00:00:00",
          "2021-08-20T00:00:00",
          "2021-10-17T00:00:00",
          "2021-11-19T00:00:00",
          "2021-12-05T00:00:00",
          "2021-12-05T00:00:00",
          "2021-12-05T00:00:00",
          "2021-12-09T00:00:00",
          "2021-12-09T00:00:00",
          "2021-12-09T00:00:00",
          "2021-12-15T00:00:00",
          "2021-12-20T00:00:00",
          "2021-12-21T00:00:00",
          "2021-12-24T00:00:00",
          "2021-12-26T00:00:00",
          "2021-12-29T00:00:00",
          "2021-12-31T00:00:00",
          "2022-01-04T00:00:00",
          "2022-01-05T00:00:00",
          "2022-01-12T00:00:00",
          "2022-01-14T00:00:00",
          "2022-01-18T00:00:00",
          "2022-01-22T00:00:00",
          "2022-01-23T00:00:00",
          "2022-01-26T00:00:00",
          "2022-01-28T00:00:00",
          "2022-02-03T00:00:00",
          "2022-02-07T00:00:00"
         ],
         "xaxis": "x",
         "y": [
          43,
          65,
          49,
          60,
          55,
          84,
          36,
          43,
          48,
          61,
          117,
          60,
          40,
          70,
          81,
          63,
          80,
          24,
          40,
          14,
          14,
          21,
          69,
          34,
          22,
          37,
          26,
          33,
          21,
          193,
          93,
          87,
          53,
          40,
          21,
          23,
          17,
          29,
          63,
          42,
          26,
          35,
          10,
          11,
          34,
          24,
          21,
          16,
          50,
          23,
          29,
          25,
          16,
          47,
          17,
          18,
          16,
          29
         ],
         "yaxis": "y"
        },
        {
         "hovertemplate": "<b>OLS trendline</b><br>Likes = -7.44962e-07 * date_obj + 1253.64<br>R<sup>2</sup>=0.153042<br><br>date_obj=%{x}<br>Likes=%{y} <b>(trend)</b><extra></extra>",
         "legendgroup": "",
         "marker": {
          "color": "#636efa",
          "symbol": "circle"
         },
         "mode": "lines",
         "name": "",
         "showlegend": false,
         "type": "scatter",
         "x": [
          "2020-10-02T00:00:00",
          "2020-10-05T00:00:00",
          "2020-10-08T00:00:00",
          "2020-10-09T00:00:00",
          "2020-10-11T00:00:00",
          "2020-10-11T00:00:00",
          "2020-10-13T00:00:00",
          "2020-10-15T00:00:00",
          "2020-10-18T00:00:00",
          "2020-10-19T00:00:00",
          "2020-10-22T00:00:00",
          "2020-10-27T00:00:00",
          "2020-10-30T00:00:00",
          "2020-11-03T00:00:00",
          "2020-11-20T00:00:00",
          "2020-12-19T00:00:00",
          "2021-01-22T00:00:00",
          "2021-01-26T00:00:00",
          "2021-01-29T00:00:00",
          "2021-02-07T00:00:00",
          "2021-02-07T00:00:00",
          "2021-02-10T00:00:00",
          "2021-05-10T00:00:00",
          "2021-05-11T00:00:00",
          "2021-05-26T00:00:00",
          "2021-06-09T00:00:00",
          "2021-06-16T00:00:00",
          "2021-06-24T00:00:00",
          "2021-07-05T00:00:00",
          "2021-07-08T00:00:00",
          "2021-07-14T00:00:00",
          "2021-08-20T00:00:00",
          "2021-10-17T00:00:00",
          "2021-11-19T00:00:00",
          "2021-12-05T00:00:00",
          "2021-12-05T00:00:00",
          "2021-12-05T00:00:00",
          "2021-12-09T00:00:00",
          "2021-12-09T00:00:00",
          "2021-12-09T00:00:00",
          "2021-12-15T00:00:00",
          "2021-12-20T00:00:00",
          "2021-12-21T00:00:00",
          "2021-12-24T00:00:00",
          "2021-12-26T00:00:00",
          "2021-12-29T00:00:00",
          "2021-12-31T00:00:00",
          "2022-01-04T00:00:00",
          "2022-01-05T00:00:00",
          "2022-01-12T00:00:00",
          "2022-01-14T00:00:00",
          "2022-01-18T00:00:00",
          "2022-01-22T00:00:00",
          "2022-01-23T00:00:00",
          "2022-01-26T00:00:00",
          "2022-01-28T00:00:00",
          "2022-02-03T00:00:00",
          "2022-02-07T00:00:00"
         ],
         "xaxis": "x",
         "y": [
          60.51482946392298,
          60.32173534797744,
          60.12864123203167,
          60.06427652671641,
          59.9355471160859,
          59.9355471160859,
          59.806817705455614,
          59.6780882948251,
          59.48499417887933,
          59.420629473564304,
          59.227535357618535,
          58.90571183104248,
          58.71261771509671,
          58.455158893835915,
          57.36095890347701,
          55.49438244933572,
          53.30598246861814,
          53.04852364735734,
          52.85542953141157,
          52.276147183574494,
          52.276147183574494,
          52.08305306762895,
          46.3545942945741,
          46.29022958925884,
          45.32475900953068,
          44.42365313511755,
          43.97310019791098,
          43.45818255538916,
          42.75017079692179,
          42.557076680976024,
          42.170888449084714,
          39.789394352421596,
          36.05624144413855,
          33.93220616873623,
          32.90237088369281,
          32.90237088369281,
          32.90237088369281,
          32.644912062431786,
          32.644912062431786,
          32.644912062431786,
          32.258723830540475,
          31.93690030396442,
          31.872535598649165,
          31.679441482703623,
          31.55071207207311,
          31.357617956127342,
          31.228888545497057,
          30.97142972423603,
          30.907065018920775,
          30.45651208171421,
          30.327782671083924,
          30.0703238498229,
          29.8128650285621,
          29.748500323246844,
          29.555406207301303,
          29.42667679667079,
          29.04048856477948,
          28.783029743518455
         ],
         "yaxis": "y"
        }
       ],
       "layout": {
        "legend": {
         "tracegroupgap": 0
        },
        "margin": {
         "t": 60
        },
        "template": {
         "data": {
          "bar": [
           {
            "error_x": {
             "color": "#2a3f5f"
            },
            "error_y": {
             "color": "#2a3f5f"
            },
            "marker": {
             "line": {
              "color": "#E5ECF6",
              "width": 0.5
             },
             "pattern": {
              "fillmode": "overlay",
              "size": 10,
              "solidity": 0.2
             }
            },
            "type": "bar"
           }
          ],
          "barpolar": [
           {
            "marker": {
             "line": {
              "color": "#E5ECF6",
              "width": 0.5
             },
             "pattern": {
              "fillmode": "overlay",
              "size": 10,
              "solidity": 0.2
             }
            },
            "type": "barpolar"
           }
          ],
          "carpet": [
           {
            "aaxis": {
             "endlinecolor": "#2a3f5f",
             "gridcolor": "white",
             "linecolor": "white",
             "minorgridcolor": "white",
             "startlinecolor": "#2a3f5f"
            },
            "baxis": {
             "endlinecolor": "#2a3f5f",
             "gridcolor": "white",
             "linecolor": "white",
             "minorgridcolor": "white",
             "startlinecolor": "#2a3f5f"
            },
            "type": "carpet"
           }
          ],
          "choropleth": [
           {
            "colorbar": {
             "outlinewidth": 0,
             "ticks": ""
            },
            "type": "choropleth"
           }
          ],
          "contour": [
           {
            "colorbar": {
             "outlinewidth": 0,
             "ticks": ""
            },
            "colorscale": [
             [
              0,
              "#0d0887"
             ],
             [
              0.1111111111111111,
              "#46039f"
             ],
             [
              0.2222222222222222,
              "#7201a8"
             ],
             [
              0.3333333333333333,
              "#9c179e"
             ],
             [
              0.4444444444444444,
              "#bd3786"
             ],
             [
              0.5555555555555556,
              "#d8576b"
             ],
             [
              0.6666666666666666,
              "#ed7953"
             ],
             [
              0.7777777777777778,
              "#fb9f3a"
             ],
             [
              0.8888888888888888,
              "#fdca26"
             ],
             [
              1,
              "#f0f921"
             ]
            ],
            "type": "contour"
           }
          ],
          "contourcarpet": [
           {
            "colorbar": {
             "outlinewidth": 0,
             "ticks": ""
            },
            "type": "contourcarpet"
           }
          ],
          "heatmap": [
           {
            "colorbar": {
             "outlinewidth": 0,
             "ticks": ""
            },
            "colorscale": [
             [
              0,
              "#0d0887"
             ],
             [
              0.1111111111111111,
              "#46039f"
             ],
             [
              0.2222222222222222,
              "#7201a8"
             ],
             [
              0.3333333333333333,
              "#9c179e"
             ],
             [
              0.4444444444444444,
              "#bd3786"
             ],
             [
              0.5555555555555556,
              "#d8576b"
             ],
             [
              0.6666666666666666,
              "#ed7953"
             ],
             [
              0.7777777777777778,
              "#fb9f3a"
             ],
             [
              0.8888888888888888,
              "#fdca26"
             ],
             [
              1,
              "#f0f921"
             ]
            ],
            "type": "heatmap"
           }
          ],
          "heatmapgl": [
           {
            "colorbar": {
             "outlinewidth": 0,
             "ticks": ""
            },
            "colorscale": [
             [
              0,
              "#0d0887"
             ],
             [
              0.1111111111111111,
              "#46039f"
             ],
             [
              0.2222222222222222,
              "#7201a8"
             ],
             [
              0.3333333333333333,
              "#9c179e"
             ],
             [
              0.4444444444444444,
              "#bd3786"
             ],
             [
              0.5555555555555556,
              "#d8576b"
             ],
             [
              0.6666666666666666,
              "#ed7953"
             ],
             [
              0.7777777777777778,
              "#fb9f3a"
             ],
             [
              0.8888888888888888,
              "#fdca26"
             ],
             [
              1,
              "#f0f921"
             ]
            ],
            "type": "heatmapgl"
           }
          ],
          "histogram": [
           {
            "marker": {
             "pattern": {
              "fillmode": "overlay",
              "size": 10,
              "solidity": 0.2
             }
            },
            "type": "histogram"
           }
          ],
          "histogram2d": [
           {
            "colorbar": {
             "outlinewidth": 0,
             "ticks": ""
            },
            "colorscale": [
             [
              0,
              "#0d0887"
             ],
             [
              0.1111111111111111,
              "#46039f"
             ],
             [
              0.2222222222222222,
              "#7201a8"
             ],
             [
              0.3333333333333333,
              "#9c179e"
             ],
             [
              0.4444444444444444,
              "#bd3786"
             ],
             [
              0.5555555555555556,
              "#d8576b"
             ],
             [
              0.6666666666666666,
              "#ed7953"
             ],
             [
              0.7777777777777778,
              "#fb9f3a"
             ],
             [
              0.8888888888888888,
              "#fdca26"
             ],
             [
              1,
              "#f0f921"
             ]
            ],
            "type": "histogram2d"
           }
          ],
          "histogram2dcontour": [
           {
            "colorbar": {
             "outlinewidth": 0,
             "ticks": ""
            },
            "colorscale": [
             [
              0,
              "#0d0887"
             ],
             [
              0.1111111111111111,
              "#46039f"
             ],
             [
              0.2222222222222222,
              "#7201a8"
             ],
             [
              0.3333333333333333,
              "#9c179e"
             ],
             [
              0.4444444444444444,
              "#bd3786"
             ],
             [
              0.5555555555555556,
              "#d8576b"
             ],
             [
              0.6666666666666666,
              "#ed7953"
             ],
             [
              0.7777777777777778,
              "#fb9f3a"
             ],
             [
              0.8888888888888888,
              "#fdca26"
             ],
             [
              1,
              "#f0f921"
             ]
            ],
            "type": "histogram2dcontour"
           }
          ],
          "mesh3d": [
           {
            "colorbar": {
             "outlinewidth": 0,
             "ticks": ""
            },
            "type": "mesh3d"
           }
          ],
          "parcoords": [
           {
            "line": {
             "colorbar": {
              "outlinewidth": 0,
              "ticks": ""
             }
            },
            "type": "parcoords"
           }
          ],
          "pie": [
           {
            "automargin": true,
            "type": "pie"
           }
          ],
          "scatter": [
           {
            "marker": {
             "colorbar": {
              "outlinewidth": 0,
              "ticks": ""
             }
            },
            "type": "scatter"
           }
          ],
          "scatter3d": [
           {
            "line": {
             "colorbar": {
              "outlinewidth": 0,
              "ticks": ""
             }
            },
            "marker": {
             "colorbar": {
              "outlinewidth": 0,
              "ticks": ""
             }
            },
            "type": "scatter3d"
           }
          ],
          "scattercarpet": [
           {
            "marker": {
             "colorbar": {
              "outlinewidth": 0,
              "ticks": ""
             }
            },
            "type": "scattercarpet"
           }
          ],
          "scattergeo": [
           {
            "marker": {
             "colorbar": {
              "outlinewidth": 0,
              "ticks": ""
             }
            },
            "type": "scattergeo"
           }
          ],
          "scattergl": [
           {
            "marker": {
             "colorbar": {
              "outlinewidth": 0,
              "ticks": ""
             }
            },
            "type": "scattergl"
           }
          ],
          "scattermapbox": [
           {
            "marker": {
             "colorbar": {
              "outlinewidth": 0,
              "ticks": ""
             }
            },
            "type": "scattermapbox"
           }
          ],
          "scatterpolar": [
           {
            "marker": {
             "colorbar": {
              "outlinewidth": 0,
              "ticks": ""
             }
            },
            "type": "scatterpolar"
           }
          ],
          "scatterpolargl": [
           {
            "marker": {
             "colorbar": {
              "outlinewidth": 0,
              "ticks": ""
             }
            },
            "type": "scatterpolargl"
           }
          ],
          "scatterternary": [
           {
            "marker": {
             "colorbar": {
              "outlinewidth": 0,
              "ticks": ""
             }
            },
            "type": "scatterternary"
           }
          ],
          "surface": [
           {
            "colorbar": {
             "outlinewidth": 0,
             "ticks": ""
            },
            "colorscale": [
             [
              0,
              "#0d0887"
             ],
             [
              0.1111111111111111,
              "#46039f"
             ],
             [
              0.2222222222222222,
              "#7201a8"
             ],
             [
              0.3333333333333333,
              "#9c179e"
             ],
             [
              0.4444444444444444,
              "#bd3786"
             ],
             [
              0.5555555555555556,
              "#d8576b"
             ],
             [
              0.6666666666666666,
              "#ed7953"
             ],
             [
              0.7777777777777778,
              "#fb9f3a"
             ],
             [
              0.8888888888888888,
              "#fdca26"
             ],
             [
              1,
              "#f0f921"
             ]
            ],
            "type": "surface"
           }
          ],
          "table": [
           {
            "cells": {
             "fill": {
              "color": "#EBF0F8"
             },
             "line": {
              "color": "white"
             }
            },
            "header": {
             "fill": {
              "color": "#C8D4E3"
             },
             "line": {
              "color": "white"
             }
            },
            "type": "table"
           }
          ]
         },
         "layout": {
          "annotationdefaults": {
           "arrowcolor": "#2a3f5f",
           "arrowhead": 0,
           "arrowwidth": 1
          },
          "autotypenumbers": "strict",
          "coloraxis": {
           "colorbar": {
            "outlinewidth": 0,
            "ticks": ""
           }
          },
          "colorscale": {
           "diverging": [
            [
             0,
             "#8e0152"
            ],
            [
             0.1,
             "#c51b7d"
            ],
            [
             0.2,
             "#de77ae"
            ],
            [
             0.3,
             "#f1b6da"
            ],
            [
             0.4,
             "#fde0ef"
            ],
            [
             0.5,
             "#f7f7f7"
            ],
            [
             0.6,
             "#e6f5d0"
            ],
            [
             0.7,
             "#b8e186"
            ],
            [
             0.8,
             "#7fbc41"
            ],
            [
             0.9,
             "#4d9221"
            ],
            [
             1,
             "#276419"
            ]
           ],
           "sequential": [
            [
             0,
             "#0d0887"
            ],
            [
             0.1111111111111111,
             "#46039f"
            ],
            [
             0.2222222222222222,
             "#7201a8"
            ],
            [
             0.3333333333333333,
             "#9c179e"
            ],
            [
             0.4444444444444444,
             "#bd3786"
            ],
            [
             0.5555555555555556,
             "#d8576b"
            ],
            [
             0.6666666666666666,
             "#ed7953"
            ],
            [
             0.7777777777777778,
             "#fb9f3a"
            ],
            [
             0.8888888888888888,
             "#fdca26"
            ],
            [
             1,
             "#f0f921"
            ]
           ],
           "sequentialminus": [
            [
             0,
             "#0d0887"
            ],
            [
             0.1111111111111111,
             "#46039f"
            ],
            [
             0.2222222222222222,
             "#7201a8"
            ],
            [
             0.3333333333333333,
             "#9c179e"
            ],
            [
             0.4444444444444444,
             "#bd3786"
            ],
            [
             0.5555555555555556,
             "#d8576b"
            ],
            [
             0.6666666666666666,
             "#ed7953"
            ],
            [
             0.7777777777777778,
             "#fb9f3a"
            ],
            [
             0.8888888888888888,
             "#fdca26"
            ],
            [
             1,
             "#f0f921"
            ]
           ]
          },
          "colorway": [
           "#636efa",
           "#EF553B",
           "#00cc96",
           "#ab63fa",
           "#FFA15A",
           "#19d3f3",
           "#FF6692",
           "#B6E880",
           "#FF97FF",
           "#FECB52"
          ],
          "font": {
           "color": "#2a3f5f"
          },
          "geo": {
           "bgcolor": "white",
           "lakecolor": "white",
           "landcolor": "#E5ECF6",
           "showlakes": true,
           "showland": true,
           "subunitcolor": "white"
          },
          "hoverlabel": {
           "align": "left"
          },
          "hovermode": "closest",
          "mapbox": {
           "style": "light"
          },
          "paper_bgcolor": "white",
          "plot_bgcolor": "#E5ECF6",
          "polar": {
           "angularaxis": {
            "gridcolor": "white",
            "linecolor": "white",
            "ticks": ""
           },
           "bgcolor": "#E5ECF6",
           "radialaxis": {
            "gridcolor": "white",
            "linecolor": "white",
            "ticks": ""
           }
          },
          "scene": {
           "xaxis": {
            "backgroundcolor": "#E5ECF6",
            "gridcolor": "white",
            "gridwidth": 2,
            "linecolor": "white",
            "showbackground": true,
            "ticks": "",
            "zerolinecolor": "white"
           },
           "yaxis": {
            "backgroundcolor": "#E5ECF6",
            "gridcolor": "white",
            "gridwidth": 2,
            "linecolor": "white",
            "showbackground": true,
            "ticks": "",
            "zerolinecolor": "white"
           },
           "zaxis": {
            "backgroundcolor": "#E5ECF6",
            "gridcolor": "white",
            "gridwidth": 2,
            "linecolor": "white",
            "showbackground": true,
            "ticks": "",
            "zerolinecolor": "white"
           }
          },
          "shapedefaults": {
           "line": {
            "color": "#2a3f5f"
           }
          },
          "ternary": {
           "aaxis": {
            "gridcolor": "white",
            "linecolor": "white",
            "ticks": ""
           },
           "baxis": {
            "gridcolor": "white",
            "linecolor": "white",
            "ticks": ""
           },
           "bgcolor": "#E5ECF6",
           "caxis": {
            "gridcolor": "white",
            "linecolor": "white",
            "ticks": ""
           }
          },
          "title": {
           "x": 0.05
          },
          "xaxis": {
           "automargin": true,
           "gridcolor": "white",
           "linecolor": "white",
           "ticks": "",
           "title": {
            "standoff": 15
           },
           "zerolinecolor": "white",
           "zerolinewidth": 2
          },
          "yaxis": {
           "automargin": true,
           "gridcolor": "white",
           "linecolor": "white",
           "ticks": "",
           "title": {
            "standoff": 15
           },
           "zerolinecolor": "white",
           "zerolinewidth": 2
          }
         }
        },
        "xaxis": {
         "anchor": "y",
         "domain": [
          0,
          1
         ],
         "title": {
          "text": "date_obj"
         }
        },
        "yaxis": {
         "anchor": "x",
         "domain": [
          0,
          1
         ],
         "title": {
          "text": "Likes"
         }
        }
       }
      },
      "text/html": [
       "<div>                            <div id=\"589358ee-b23c-4c7c-bdd7-8c4f11b5fd21\" class=\"plotly-graph-div\" style=\"height:525px; width:100%;\"></div>            <script type=\"text/javascript\">                require([\"plotly\"], function(Plotly) {                    window.PLOTLYENV=window.PLOTLYENV || {};                                    if (document.getElementById(\"589358ee-b23c-4c7c-bdd7-8c4f11b5fd21\")) {                    Plotly.newPlot(                        \"589358ee-b23c-4c7c-bdd7-8c4f11b5fd21\",                        [{\"hovertemplate\":\"date_obj=%{x}<br>Likes=%{y}<extra></extra>\",\"legendgroup\":\"\",\"marker\":{\"color\":\"#636efa\",\"symbol\":\"circle\"},\"mode\":\"markers\",\"name\":\"\",\"orientation\":\"v\",\"showlegend\":false,\"x\":[\"2020-10-02T00:00:00\",\"2020-10-05T00:00:00\",\"2020-10-08T00:00:00\",\"2020-10-09T00:00:00\",\"2020-10-11T00:00:00\",\"2020-10-11T00:00:00\",\"2020-10-13T00:00:00\",\"2020-10-15T00:00:00\",\"2020-10-18T00:00:00\",\"2020-10-19T00:00:00\",\"2020-10-22T00:00:00\",\"2020-10-27T00:00:00\",\"2020-10-30T00:00:00\",\"2020-11-03T00:00:00\",\"2020-11-20T00:00:00\",\"2020-12-19T00:00:00\",\"2021-01-22T00:00:00\",\"2021-01-26T00:00:00\",\"2021-01-29T00:00:00\",\"2021-02-07T00:00:00\",\"2021-02-07T00:00:00\",\"2021-02-10T00:00:00\",\"2021-05-10T00:00:00\",\"2021-05-11T00:00:00\",\"2021-05-26T00:00:00\",\"2021-06-09T00:00:00\",\"2021-06-16T00:00:00\",\"2021-06-24T00:00:00\",\"2021-07-05T00:00:00\",\"2021-07-08T00:00:00\",\"2021-07-14T00:00:00\",\"2021-08-20T00:00:00\",\"2021-10-17T00:00:00\",\"2021-11-19T00:00:00\",\"2021-12-05T00:00:00\",\"2021-12-05T00:00:00\",\"2021-12-05T00:00:00\",\"2021-12-09T00:00:00\",\"2021-12-09T00:00:00\",\"2021-12-09T00:00:00\",\"2021-12-15T00:00:00\",\"2021-12-20T00:00:00\",\"2021-12-21T00:00:00\",\"2021-12-24T00:00:00\",\"2021-12-26T00:00:00\",\"2021-12-29T00:00:00\",\"2021-12-31T00:00:00\",\"2022-01-04T00:00:00\",\"2022-01-05T00:00:00\",\"2022-01-12T00:00:00\",\"2022-01-14T00:00:00\",\"2022-01-18T00:00:00\",\"2022-01-22T00:00:00\",\"2022-01-23T00:00:00\",\"2022-01-26T00:00:00\",\"2022-01-28T00:00:00\",\"2022-02-03T00:00:00\",\"2022-02-07T00:00:00\"],\"xaxis\":\"x\",\"y\":[43,65,49,60,55,84,36,43,48,61,117,60,40,70,81,63,80,24,40,14,14,21,69,34,22,37,26,33,21,193,93,87,53,40,21,23,17,29,63,42,26,35,10,11,34,24,21,16,50,23,29,25,16,47,17,18,16,29],\"yaxis\":\"y\",\"type\":\"scatter\"},{\"hovertemplate\":\"<b>OLS trendline</b><br>Likes = -7.44962e-07 * date_obj + 1253.64<br>R<sup>2</sup>=0.153042<br><br>date_obj=%{x}<br>Likes=%{y} <b>(trend)</b><extra></extra>\",\"legendgroup\":\"\",\"marker\":{\"color\":\"#636efa\",\"symbol\":\"circle\"},\"mode\":\"lines\",\"name\":\"\",\"showlegend\":false,\"x\":[\"2020-10-02T00:00:00\",\"2020-10-05T00:00:00\",\"2020-10-08T00:00:00\",\"2020-10-09T00:00:00\",\"2020-10-11T00:00:00\",\"2020-10-11T00:00:00\",\"2020-10-13T00:00:00\",\"2020-10-15T00:00:00\",\"2020-10-18T00:00:00\",\"2020-10-19T00:00:00\",\"2020-10-22T00:00:00\",\"2020-10-27T00:00:00\",\"2020-10-30T00:00:00\",\"2020-11-03T00:00:00\",\"2020-11-20T00:00:00\",\"2020-12-19T00:00:00\",\"2021-01-22T00:00:00\",\"2021-01-26T00:00:00\",\"2021-01-29T00:00:00\",\"2021-02-07T00:00:00\",\"2021-02-07T00:00:00\",\"2021-02-10T00:00:00\",\"2021-05-10T00:00:00\",\"2021-05-11T00:00:00\",\"2021-05-26T00:00:00\",\"2021-06-09T00:00:00\",\"2021-06-16T00:00:00\",\"2021-06-24T00:00:00\",\"2021-07-05T00:00:00\",\"2021-07-08T00:00:00\",\"2021-07-14T00:00:00\",\"2021-08-20T00:00:00\",\"2021-10-17T00:00:00\",\"2021-11-19T00:00:00\",\"2021-12-05T00:00:00\",\"2021-12-05T00:00:00\",\"2021-12-05T00:00:00\",\"2021-12-09T00:00:00\",\"2021-12-09T00:00:00\",\"2021-12-09T00:00:00\",\"2021-12-15T00:00:00\",\"2021-12-20T00:00:00\",\"2021-12-21T00:00:00\",\"2021-12-24T00:00:00\",\"2021-12-26T00:00:00\",\"2021-12-29T00:00:00\",\"2021-12-31T00:00:00\",\"2022-01-04T00:00:00\",\"2022-01-05T00:00:00\",\"2022-01-12T00:00:00\",\"2022-01-14T00:00:00\",\"2022-01-18T00:00:00\",\"2022-01-22T00:00:00\",\"2022-01-23T00:00:00\",\"2022-01-26T00:00:00\",\"2022-01-28T00:00:00\",\"2022-02-03T00:00:00\",\"2022-02-07T00:00:00\"],\"xaxis\":\"x\",\"y\":[60.51482946392298,60.32173534797744,60.12864123203167,60.06427652671641,59.9355471160859,59.9355471160859,59.806817705455614,59.6780882948251,59.48499417887933,59.420629473564304,59.227535357618535,58.90571183104248,58.71261771509671,58.455158893835915,57.36095890347701,55.49438244933572,53.30598246861814,53.04852364735734,52.85542953141157,52.276147183574494,52.276147183574494,52.08305306762895,46.3545942945741,46.29022958925884,45.32475900953068,44.42365313511755,43.97310019791098,43.45818255538916,42.75017079692179,42.557076680976024,42.170888449084714,39.789394352421596,36.05624144413855,33.93220616873623,32.90237088369281,32.90237088369281,32.90237088369281,32.644912062431786,32.644912062431786,32.644912062431786,32.258723830540475,31.93690030396442,31.872535598649165,31.679441482703623,31.55071207207311,31.357617956127342,31.228888545497057,30.97142972423603,30.907065018920775,30.45651208171421,30.327782671083924,30.0703238498229,29.8128650285621,29.748500323246844,29.555406207301303,29.42667679667079,29.04048856477948,28.783029743518455],\"yaxis\":\"y\",\"type\":\"scatter\"}],                        {\"template\":{\"data\":{\"bar\":[{\"error_x\":{\"color\":\"#2a3f5f\"},\"error_y\":{\"color\":\"#2a3f5f\"},\"marker\":{\"line\":{\"color\":\"#E5ECF6\",\"width\":0.5},\"pattern\":{\"fillmode\":\"overlay\",\"size\":10,\"solidity\":0.2}},\"type\":\"bar\"}],\"barpolar\":[{\"marker\":{\"line\":{\"color\":\"#E5ECF6\",\"width\":0.5},\"pattern\":{\"fillmode\":\"overlay\",\"size\":10,\"solidity\":0.2}},\"type\":\"barpolar\"}],\"carpet\":[{\"aaxis\":{\"endlinecolor\":\"#2a3f5f\",\"gridcolor\":\"white\",\"linecolor\":\"white\",\"minorgridcolor\":\"white\",\"startlinecolor\":\"#2a3f5f\"},\"baxis\":{\"endlinecolor\":\"#2a3f5f\",\"gridcolor\":\"white\",\"linecolor\":\"white\",\"minorgridcolor\":\"white\",\"startlinecolor\":\"#2a3f5f\"},\"type\":\"carpet\"}],\"choropleth\":[{\"colorbar\":{\"outlinewidth\":0,\"ticks\":\"\"},\"type\":\"choropleth\"}],\"contour\":[{\"colorbar\":{\"outlinewidth\":0,\"ticks\":\"\"},\"colorscale\":[[0.0,\"#0d0887\"],[0.1111111111111111,\"#46039f\"],[0.2222222222222222,\"#7201a8\"],[0.3333333333333333,\"#9c179e\"],[0.4444444444444444,\"#bd3786\"],[0.5555555555555556,\"#d8576b\"],[0.6666666666666666,\"#ed7953\"],[0.7777777777777778,\"#fb9f3a\"],[0.8888888888888888,\"#fdca26\"],[1.0,\"#f0f921\"]],\"type\":\"contour\"}],\"contourcarpet\":[{\"colorbar\":{\"outlinewidth\":0,\"ticks\":\"\"},\"type\":\"contourcarpet\"}],\"heatmap\":[{\"colorbar\":{\"outlinewidth\":0,\"ticks\":\"\"},\"colorscale\":[[0.0,\"#0d0887\"],[0.1111111111111111,\"#46039f\"],[0.2222222222222222,\"#7201a8\"],[0.3333333333333333,\"#9c179e\"],[0.4444444444444444,\"#bd3786\"],[0.5555555555555556,\"#d8576b\"],[0.6666666666666666,\"#ed7953\"],[0.7777777777777778,\"#fb9f3a\"],[0.8888888888888888,\"#fdca26\"],[1.0,\"#f0f921\"]],\"type\":\"heatmap\"}],\"heatmapgl\":[{\"colorbar\":{\"outlinewidth\":0,\"ticks\":\"\"},\"colorscale\":[[0.0,\"#0d0887\"],[0.1111111111111111,\"#46039f\"],[0.2222222222222222,\"#7201a8\"],[0.3333333333333333,\"#9c179e\"],[0.4444444444444444,\"#bd3786\"],[0.5555555555555556,\"#d8576b\"],[0.6666666666666666,\"#ed7953\"],[0.7777777777777778,\"#fb9f3a\"],[0.8888888888888888,\"#fdca26\"],[1.0,\"#f0f921\"]],\"type\":\"heatmapgl\"}],\"histogram\":[{\"marker\":{\"pattern\":{\"fillmode\":\"overlay\",\"size\":10,\"solidity\":0.2}},\"type\":\"histogram\"}],\"histogram2d\":[{\"colorbar\":{\"outlinewidth\":0,\"ticks\":\"\"},\"colorscale\":[[0.0,\"#0d0887\"],[0.1111111111111111,\"#46039f\"],[0.2222222222222222,\"#7201a8\"],[0.3333333333333333,\"#9c179e\"],[0.4444444444444444,\"#bd3786\"],[0.5555555555555556,\"#d8576b\"],[0.6666666666666666,\"#ed7953\"],[0.7777777777777778,\"#fb9f3a\"],[0.8888888888888888,\"#fdca26\"],[1.0,\"#f0f921\"]],\"type\":\"histogram2d\"}],\"histogram2dcontour\":[{\"colorbar\":{\"outlinewidth\":0,\"ticks\":\"\"},\"colorscale\":[[0.0,\"#0d0887\"],[0.1111111111111111,\"#46039f\"],[0.2222222222222222,\"#7201a8\"],[0.3333333333333333,\"#9c179e\"],[0.4444444444444444,\"#bd3786\"],[0.5555555555555556,\"#d8576b\"],[0.6666666666666666,\"#ed7953\"],[0.7777777777777778,\"#fb9f3a\"],[0.8888888888888888,\"#fdca26\"],[1.0,\"#f0f921\"]],\"type\":\"histogram2dcontour\"}],\"mesh3d\":[{\"colorbar\":{\"outlinewidth\":0,\"ticks\":\"\"},\"type\":\"mesh3d\"}],\"parcoords\":[{\"line\":{\"colorbar\":{\"outlinewidth\":0,\"ticks\":\"\"}},\"type\":\"parcoords\"}],\"pie\":[{\"automargin\":true,\"type\":\"pie\"}],\"scatter\":[{\"marker\":{\"colorbar\":{\"outlinewidth\":0,\"ticks\":\"\"}},\"type\":\"scatter\"}],\"scatter3d\":[{\"line\":{\"colorbar\":{\"outlinewidth\":0,\"ticks\":\"\"}},\"marker\":{\"colorbar\":{\"outlinewidth\":0,\"ticks\":\"\"}},\"type\":\"scatter3d\"}],\"scattercarpet\":[{\"marker\":{\"colorbar\":{\"outlinewidth\":0,\"ticks\":\"\"}},\"type\":\"scattercarpet\"}],\"scattergeo\":[{\"marker\":{\"colorbar\":{\"outlinewidth\":0,\"ticks\":\"\"}},\"type\":\"scattergeo\"}],\"scattergl\":[{\"marker\":{\"colorbar\":{\"outlinewidth\":0,\"ticks\":\"\"}},\"type\":\"scattergl\"}],\"scattermapbox\":[{\"marker\":{\"colorbar\":{\"outlinewidth\":0,\"ticks\":\"\"}},\"type\":\"scattermapbox\"}],\"scatterpolar\":[{\"marker\":{\"colorbar\":{\"outlinewidth\":0,\"ticks\":\"\"}},\"type\":\"scatterpolar\"}],\"scatterpolargl\":[{\"marker\":{\"colorbar\":{\"outlinewidth\":0,\"ticks\":\"\"}},\"type\":\"scatterpolargl\"}],\"scatterternary\":[{\"marker\":{\"colorbar\":{\"outlinewidth\":0,\"ticks\":\"\"}},\"type\":\"scatterternary\"}],\"surface\":[{\"colorbar\":{\"outlinewidth\":0,\"ticks\":\"\"},\"colorscale\":[[0.0,\"#0d0887\"],[0.1111111111111111,\"#46039f\"],[0.2222222222222222,\"#7201a8\"],[0.3333333333333333,\"#9c179e\"],[0.4444444444444444,\"#bd3786\"],[0.5555555555555556,\"#d8576b\"],[0.6666666666666666,\"#ed7953\"],[0.7777777777777778,\"#fb9f3a\"],[0.8888888888888888,\"#fdca26\"],[1.0,\"#f0f921\"]],\"type\":\"surface\"}],\"table\":[{\"cells\":{\"fill\":{\"color\":\"#EBF0F8\"},\"line\":{\"color\":\"white\"}},\"header\":{\"fill\":{\"color\":\"#C8D4E3\"},\"line\":{\"color\":\"white\"}},\"type\":\"table\"}]},\"layout\":{\"annotationdefaults\":{\"arrowcolor\":\"#2a3f5f\",\"arrowhead\":0,\"arrowwidth\":1},\"autotypenumbers\":\"strict\",\"coloraxis\":{\"colorbar\":{\"outlinewidth\":0,\"ticks\":\"\"}},\"colorscale\":{\"diverging\":[[0,\"#8e0152\"],[0.1,\"#c51b7d\"],[0.2,\"#de77ae\"],[0.3,\"#f1b6da\"],[0.4,\"#fde0ef\"],[0.5,\"#f7f7f7\"],[0.6,\"#e6f5d0\"],[0.7,\"#b8e186\"],[0.8,\"#7fbc41\"],[0.9,\"#4d9221\"],[1,\"#276419\"]],\"sequential\":[[0.0,\"#0d0887\"],[0.1111111111111111,\"#46039f\"],[0.2222222222222222,\"#7201a8\"],[0.3333333333333333,\"#9c179e\"],[0.4444444444444444,\"#bd3786\"],[0.5555555555555556,\"#d8576b\"],[0.6666666666666666,\"#ed7953\"],[0.7777777777777778,\"#fb9f3a\"],[0.8888888888888888,\"#fdca26\"],[1.0,\"#f0f921\"]],\"sequentialminus\":[[0.0,\"#0d0887\"],[0.1111111111111111,\"#46039f\"],[0.2222222222222222,\"#7201a8\"],[0.3333333333333333,\"#9c179e\"],[0.4444444444444444,\"#bd3786\"],[0.5555555555555556,\"#d8576b\"],[0.6666666666666666,\"#ed7953\"],[0.7777777777777778,\"#fb9f3a\"],[0.8888888888888888,\"#fdca26\"],[1.0,\"#f0f921\"]]},\"colorway\":[\"#636efa\",\"#EF553B\",\"#00cc96\",\"#ab63fa\",\"#FFA15A\",\"#19d3f3\",\"#FF6692\",\"#B6E880\",\"#FF97FF\",\"#FECB52\"],\"font\":{\"color\":\"#2a3f5f\"},\"geo\":{\"bgcolor\":\"white\",\"lakecolor\":\"white\",\"landcolor\":\"#E5ECF6\",\"showlakes\":true,\"showland\":true,\"subunitcolor\":\"white\"},\"hoverlabel\":{\"align\":\"left\"},\"hovermode\":\"closest\",\"mapbox\":{\"style\":\"light\"},\"paper_bgcolor\":\"white\",\"plot_bgcolor\":\"#E5ECF6\",\"polar\":{\"angularaxis\":{\"gridcolor\":\"white\",\"linecolor\":\"white\",\"ticks\":\"\"},\"bgcolor\":\"#E5ECF6\",\"radialaxis\":{\"gridcolor\":\"white\",\"linecolor\":\"white\",\"ticks\":\"\"}},\"scene\":{\"xaxis\":{\"backgroundcolor\":\"#E5ECF6\",\"gridcolor\":\"white\",\"gridwidth\":2,\"linecolor\":\"white\",\"showbackground\":true,\"ticks\":\"\",\"zerolinecolor\":\"white\"},\"yaxis\":{\"backgroundcolor\":\"#E5ECF6\",\"gridcolor\":\"white\",\"gridwidth\":2,\"linecolor\":\"white\",\"showbackground\":true,\"ticks\":\"\",\"zerolinecolor\":\"white\"},\"zaxis\":{\"backgroundcolor\":\"#E5ECF6\",\"gridcolor\":\"white\",\"gridwidth\":2,\"linecolor\":\"white\",\"showbackground\":true,\"ticks\":\"\",\"zerolinecolor\":\"white\"}},\"shapedefaults\":{\"line\":{\"color\":\"#2a3f5f\"}},\"ternary\":{\"aaxis\":{\"gridcolor\":\"white\",\"linecolor\":\"white\",\"ticks\":\"\"},\"baxis\":{\"gridcolor\":\"white\",\"linecolor\":\"white\",\"ticks\":\"\"},\"bgcolor\":\"#E5ECF6\",\"caxis\":{\"gridcolor\":\"white\",\"linecolor\":\"white\",\"ticks\":\"\"}},\"title\":{\"x\":0.05},\"xaxis\":{\"automargin\":true,\"gridcolor\":\"white\",\"linecolor\":\"white\",\"ticks\":\"\",\"title\":{\"standoff\":15},\"zerolinecolor\":\"white\",\"zerolinewidth\":2},\"yaxis\":{\"automargin\":true,\"gridcolor\":\"white\",\"linecolor\":\"white\",\"ticks\":\"\",\"title\":{\"standoff\":15},\"zerolinecolor\":\"white\",\"zerolinewidth\":2}}},\"xaxis\":{\"anchor\":\"y\",\"domain\":[0.0,1.0],\"title\":{\"text\":\"date_obj\"}},\"yaxis\":{\"anchor\":\"x\",\"domain\":[0.0,1.0],\"title\":{\"text\":\"Likes\"}},\"legend\":{\"tracegroupgap\":0},\"margin\":{\"t\":60}},                        {\"responsive\": true}                    ).then(function(){\n",
       "                            \n",
       "var gd = document.getElementById('589358ee-b23c-4c7c-bdd7-8c4f11b5fd21');\n",
       "var x = new MutationObserver(function (mutations, observer) {{\n",
       "        var display = window.getComputedStyle(gd).display;\n",
       "        if (!display || display === 'none') {{\n",
       "            console.log([gd, 'removed!']);\n",
       "            Plotly.purge(gd);\n",
       "            observer.disconnect();\n",
       "        }}\n",
       "}});\n",
       "\n",
       "// Listen for the removal of the full notebook cells\n",
       "var notebookContainer = gd.closest('#notebook-container');\n",
       "if (notebookContainer) {{\n",
       "    x.observe(notebookContainer, {childList: true});\n",
       "}}\n",
       "\n",
       "// Listen for the clearing of the current output cell\n",
       "var outputEl = gd.closest('.output');\n",
       "if (outputEl) {{\n",
       "    x.observe(outputEl, {childList: true});\n",
       "}}\n",
       "\n",
       "                        })                };                });            </script>        </div>"
      ]
     },
     "metadata": {},
     "output_type": "display_data"
    }
   ],
   "source": [
    "fig.show()"
   ]
  },
  {
   "cell_type": "markdown",
   "id": "e1e103c5",
   "metadata": {},
   "source": [
    "# Calculate variance"
   ]
  },
  {
   "cell_type": "code",
   "execution_count": 128,
   "id": "3c68c0b8",
   "metadata": {},
   "outputs": [
    {
     "data": {
      "text/html": [
       "<div>\n",
       "<style scoped>\n",
       "    .dataframe tbody tr th:only-of-type {\n",
       "        vertical-align: middle;\n",
       "    }\n",
       "\n",
       "    .dataframe tbody tr th {\n",
       "        vertical-align: top;\n",
       "    }\n",
       "\n",
       "    .dataframe thead th {\n",
       "        text-align: right;\n",
       "    }\n",
       "</style>\n",
       "<table border=\"1\" class=\"dataframe\">\n",
       "  <thead>\n",
       "    <tr style=\"text-align: right;\">\n",
       "      <th></th>\n",
       "      <th>Unnamed: 0</th>\n",
       "      <th>node.display_url</th>\n",
       "      <th>node.edge_media_to_caption.edges</th>\n",
       "      <th>node.owner.full_name</th>\n",
       "      <th>node.location.name</th>\n",
       "      <th>node.location.slug</th>\n",
       "      <th>hashtags</th>\n",
       "      <th>Likes</th>\n",
       "      <th>Date</th>\n",
       "      <th>Datetime</th>\n",
       "      <th>date_obj</th>\n",
       "      <th>dates_string</th>\n",
       "    </tr>\n",
       "  </thead>\n",
       "  <tbody>\n",
       "    <tr>\n",
       "      <th>57</th>\n",
       "      <td>0</td>\n",
       "      <td>https://instagram.fsin5-1.fna.fbcdn.net/v/t51....</td>\n",
       "      <td>FÚKUDON  一口田\\n\\nThe right half of \"福\" (fú) (...</td>\n",
       "      <td>Fukudon | Donburi Specialist</td>\n",
       "      <td>Marine Parade Food Centre</td>\n",
       "      <td>marine-parade-food-centre</td>\n",
       "      <td>NaN</td>\n",
       "      <td>43</td>\n",
       "      <td>2/10/2020</td>\n",
       "      <td>2/10/2020 18:49</td>\n",
       "      <td>2020-10-02</td>\n",
       "      <td>2020-10-02</td>\n",
       "    </tr>\n",
       "    <tr>\n",
       "      <th>56</th>\n",
       "      <td>1</td>\n",
       "      <td>https://instagram.fsin5-1.fna.fbcdn.net/v/t51....</td>\n",
       "      <td>Inspired by the quote “Home is where the heart...</td>\n",
       "      <td>Fukudon | Donburi Specialist</td>\n",
       "      <td>Marine Parade Hawker Centre Blk 84</td>\n",
       "      <td>marine-parade-hawker-centre-blk-84</td>\n",
       "      <td>NaN</td>\n",
       "      <td>65</td>\n",
       "      <td>5/10/2020</td>\n",
       "      <td>5/10/2020 19:01</td>\n",
       "      <td>2020-10-05</td>\n",
       "      <td>2020-10-05</td>\n",
       "    </tr>\n",
       "    <tr>\n",
       "      <th>55</th>\n",
       "      <td>2</td>\n",
       "      <td>https://instagram.fsin5-1.fna.fbcdn.net/v/t51....</td>\n",
       "      <td>In our next few posts, we will be exploring ho...</td>\n",
       "      <td>Fukudon | Donburi Specialist</td>\n",
       "      <td>Marine Parade Central Food Centre</td>\n",
       "      <td>marine-parade-central-food-centre</td>\n",
       "      <td>NaN</td>\n",
       "      <td>49</td>\n",
       "      <td>8/10/2020</td>\n",
       "      <td>8/10/2020 21:04</td>\n",
       "      <td>2020-10-08</td>\n",
       "      <td>2020-10-08</td>\n",
       "    </tr>\n",
       "    <tr>\n",
       "      <th>54</th>\n",
       "      <td>3</td>\n",
       "      <td>https://instagram.fsin5-1.fna.fbcdn.net/v/t51....</td>\n",
       "      <td>This post focuses on two key factors in creati...</td>\n",
       "      <td>Fukudon | Donburi Specialist</td>\n",
       "      <td>Marine Parade Hawker Centre Blk 84</td>\n",
       "      <td>marine-parade-hawker-centre-blk-84</td>\n",
       "      <td>NaN</td>\n",
       "      <td>60</td>\n",
       "      <td>9/10/2020</td>\n",
       "      <td>9/10/2020 18:34</td>\n",
       "      <td>2020-10-09</td>\n",
       "      <td>2020-10-09</td>\n",
       "    </tr>\n",
       "    <tr>\n",
       "      <th>53</th>\n",
       "      <td>4</td>\n",
       "      <td>https://instagram.fsin5-1.fna.fbcdn.net/v/t51....</td>\n",
       "      <td>Renovation from the previous workspace has jus...</td>\n",
       "      <td>Fukudon | Donburi Specialist</td>\n",
       "      <td>Marine Parade Food Centre</td>\n",
       "      <td>marine-parade-food-centre</td>\n",
       "      <td>NaN</td>\n",
       "      <td>55</td>\n",
       "      <td>11/10/2020</td>\n",
       "      <td>11/10/2020 17:55</td>\n",
       "      <td>2020-10-11</td>\n",
       "      <td>2020-10-11</td>\n",
       "    </tr>\n",
       "  </tbody>\n",
       "</table>\n",
       "</div>"
      ],
      "text/plain": [
       "    Unnamed: 0                                   node.display_url  \\\n",
       "57           0  https://instagram.fsin5-1.fna.fbcdn.net/v/t51....   \n",
       "56           1  https://instagram.fsin5-1.fna.fbcdn.net/v/t51....   \n",
       "55           2  https://instagram.fsin5-1.fna.fbcdn.net/v/t51....   \n",
       "54           3  https://instagram.fsin5-1.fna.fbcdn.net/v/t51....   \n",
       "53           4  https://instagram.fsin5-1.fna.fbcdn.net/v/t51....   \n",
       "\n",
       "                     node.edge_media_to_caption.edges  \\\n",
       "57  FÚKUDON  一口田\\n\\nThe right half of \"福\" (fú) (...   \n",
       "56  Inspired by the quote “Home is where the heart...   \n",
       "55  In our next few posts, we will be exploring ho...   \n",
       "54  This post focuses on two key factors in creati...   \n",
       "53  Renovation from the previous workspace has jus...   \n",
       "\n",
       "            node.owner.full_name                  node.location.name  \\\n",
       "57  Fukudon | Donburi Specialist           Marine Parade Food Centre   \n",
       "56  Fukudon | Donburi Specialist  Marine Parade Hawker Centre Blk 84   \n",
       "55  Fukudon | Donburi Specialist   Marine Parade Central Food Centre   \n",
       "54  Fukudon | Donburi Specialist  Marine Parade Hawker Centre Blk 84   \n",
       "53  Fukudon | Donburi Specialist           Marine Parade Food Centre   \n",
       "\n",
       "                    node.location.slug hashtags  Likes        Date  \\\n",
       "57           marine-parade-food-centre      NaN     43   2/10/2020   \n",
       "56  marine-parade-hawker-centre-blk-84      NaN     65   5/10/2020   \n",
       "55   marine-parade-central-food-centre      NaN     49   8/10/2020   \n",
       "54  marine-parade-hawker-centre-blk-84      NaN     60   9/10/2020   \n",
       "53           marine-parade-food-centre      NaN     55  11/10/2020   \n",
       "\n",
       "            Datetime   date_obj dates_string  \n",
       "57   2/10/2020 18:49 2020-10-02   2020-10-02  \n",
       "56   5/10/2020 19:01 2020-10-05   2020-10-05  \n",
       "55   8/10/2020 21:04 2020-10-08   2020-10-08  \n",
       "54   9/10/2020 18:34 2020-10-09   2020-10-09  \n",
       "53  11/10/2020 17:55 2020-10-11   2020-10-11  "
      ]
     },
     "execution_count": 128,
     "metadata": {},
     "output_type": "execute_result"
    }
   ],
   "source": [
    "instagram_df.head()"
   ]
  },
  {
   "cell_type": "code",
   "execution_count": 129,
   "id": "7884d197",
   "metadata": {},
   "outputs": [],
   "source": [
    "instagram_df[\"date_float\"] = pd.to_datetime(instagram_df['date_obj'])\n",
    "instagram_df['date_float'] = instagram_df['date_obj'].map(datetime.toordinal)"
   ]
  },
  {
   "cell_type": "code",
   "execution_count": 130,
   "id": "1753acfd",
   "metadata": {},
   "outputs": [],
   "source": [
    "import statsmodels.api as sm\n",
    "\n",
    "x = instagram_df[\"date_float\"].tolist()\n",
    "y = instagram_df[\"Likes\"].tolist()\n",
    "\n",
    "x = sm.add_constant(x)\n",
    "result = sm.OLS(y,x).fit()"
   ]
  },
  {
   "cell_type": "code",
   "execution_count": 131,
   "id": "e110ce21",
   "metadata": {},
   "outputs": [
    {
     "name": "stdout",
     "output_type": "stream",
     "text": [
      "                            OLS Regression Results                            \n",
      "==============================================================================\n",
      "Dep. Variable:                      y   R-squared:                       0.153\n",
      "Model:                            OLS   Adj. R-squared:                  0.138\n",
      "Method:                 Least Squares   F-statistic:                     10.12\n",
      "Date:                Mon, 28 Feb 2022   Prob (F-statistic):            0.00239\n",
      "Time:                        20:16:44   Log-Likelihood:                -276.08\n",
      "No. Observations:                  58   AIC:                             556.2\n",
      "Df Residuals:                      56   BIC:                             560.3\n",
      "Df Model:                           1                                         \n",
      "Covariance Type:            nonrobust                                         \n",
      "==============================================================================\n",
      "                 coef    std err          t      P>|t|      [0.025      0.975]\n",
      "------------------------------------------------------------------------------\n",
      "const       4.754e+04   1.49e+04      3.184      0.002    1.76e+04    7.75e+04\n",
      "x1            -0.0644      0.020     -3.181      0.002      -0.105      -0.024\n",
      "==============================================================================\n",
      "Omnibus:                       60.155   Durbin-Watson:                   1.511\n",
      "Prob(Omnibus):                  0.000   Jarque-Bera (JB):              411.019\n",
      "Skew:                           2.804   Prob(JB):                     5.60e-90\n",
      "Kurtosis:                      14.774   Cond. No.                     2.92e+09\n",
      "==============================================================================\n",
      "\n",
      "Notes:\n",
      "[1] Standard Errors assume that the covariance matrix of the errors is correctly specified.\n",
      "[2] The condition number is large, 2.92e+09. This might indicate that there are\n",
      "strong multicollinearity or other numerical problems.\n"
     ]
    }
   ],
   "source": [
    "print(result.summary())"
   ]
  },
  {
   "cell_type": "code",
   "execution_count": 132,
   "id": "a6cab204",
   "metadata": {},
   "outputs": [],
   "source": [
    "const = result.params[0]\n",
    "slope = result.params[1]\n",
    "\n",
    "def calculate_expected(date_float):\n",
    "    return slope*(date_float) + const"
   ]
  },
  {
   "cell_type": "code",
   "execution_count": 133,
   "id": "6985f19b",
   "metadata": {},
   "outputs": [],
   "source": [
    "instagram_df[\"variance\"] = instagram_df[\"date_float\"].apply(calculate_expected)\n",
    "instagram_df[\"variance\"] = abs(instagram_df[\"variance\"] - instagram_df[\"Likes\"])"
   ]
  },
  {
   "cell_type": "code",
   "execution_count": 134,
   "id": "e436b7bb",
   "metadata": {},
   "outputs": [
    {
     "data": {
      "text/html": [
       "<div>\n",
       "<style scoped>\n",
       "    .dataframe tbody tr th:only-of-type {\n",
       "        vertical-align: middle;\n",
       "    }\n",
       "\n",
       "    .dataframe tbody tr th {\n",
       "        vertical-align: top;\n",
       "    }\n",
       "\n",
       "    .dataframe thead th {\n",
       "        text-align: right;\n",
       "    }\n",
       "</style>\n",
       "<table border=\"1\" class=\"dataframe\">\n",
       "  <thead>\n",
       "    <tr style=\"text-align: right;\">\n",
       "      <th></th>\n",
       "      <th>Unnamed: 0</th>\n",
       "      <th>node.display_url</th>\n",
       "      <th>node.edge_media_to_caption.edges</th>\n",
       "      <th>node.owner.full_name</th>\n",
       "      <th>node.location.name</th>\n",
       "      <th>node.location.slug</th>\n",
       "      <th>hashtags</th>\n",
       "      <th>Likes</th>\n",
       "      <th>Date</th>\n",
       "      <th>Datetime</th>\n",
       "      <th>date_obj</th>\n",
       "      <th>dates_string</th>\n",
       "      <th>date_float</th>\n",
       "      <th>variance</th>\n",
       "    </tr>\n",
       "  </thead>\n",
       "  <tbody>\n",
       "    <tr>\n",
       "      <th>57</th>\n",
       "      <td>0</td>\n",
       "      <td>https://instagram.fsin5-1.fna.fbcdn.net/v/t51....</td>\n",
       "      <td>FÚKUDON  一口田\\n\\nThe right half of \"福\" (fú) (...</td>\n",
       "      <td>Fukudon | Donburi Specialist</td>\n",
       "      <td>Marine Parade Food Centre</td>\n",
       "      <td>marine-parade-food-centre</td>\n",
       "      <td>NaN</td>\n",
       "      <td>43</td>\n",
       "      <td>2/10/2020</td>\n",
       "      <td>2/10/2020 18:49</td>\n",
       "      <td>2020-10-02</td>\n",
       "      <td>2020-10-02</td>\n",
       "      <td>737700</td>\n",
       "      <td>17.514829</td>\n",
       "    </tr>\n",
       "    <tr>\n",
       "      <th>56</th>\n",
       "      <td>1</td>\n",
       "      <td>https://instagram.fsin5-1.fna.fbcdn.net/v/t51....</td>\n",
       "      <td>Inspired by the quote “Home is where the heart...</td>\n",
       "      <td>Fukudon | Donburi Specialist</td>\n",
       "      <td>Marine Parade Hawker Centre Blk 84</td>\n",
       "      <td>marine-parade-hawker-centre-blk-84</td>\n",
       "      <td>NaN</td>\n",
       "      <td>65</td>\n",
       "      <td>5/10/2020</td>\n",
       "      <td>5/10/2020 19:01</td>\n",
       "      <td>2020-10-05</td>\n",
       "      <td>2020-10-05</td>\n",
       "      <td>737703</td>\n",
       "      <td>4.678265</td>\n",
       "    </tr>\n",
       "    <tr>\n",
       "      <th>55</th>\n",
       "      <td>2</td>\n",
       "      <td>https://instagram.fsin5-1.fna.fbcdn.net/v/t51....</td>\n",
       "      <td>In our next few posts, we will be exploring ho...</td>\n",
       "      <td>Fukudon | Donburi Specialist</td>\n",
       "      <td>Marine Parade Central Food Centre</td>\n",
       "      <td>marine-parade-central-food-centre</td>\n",
       "      <td>NaN</td>\n",
       "      <td>49</td>\n",
       "      <td>8/10/2020</td>\n",
       "      <td>8/10/2020 21:04</td>\n",
       "      <td>2020-10-08</td>\n",
       "      <td>2020-10-08</td>\n",
       "      <td>737706</td>\n",
       "      <td>11.128641</td>\n",
       "    </tr>\n",
       "    <tr>\n",
       "      <th>54</th>\n",
       "      <td>3</td>\n",
       "      <td>https://instagram.fsin5-1.fna.fbcdn.net/v/t51....</td>\n",
       "      <td>This post focuses on two key factors in creati...</td>\n",
       "      <td>Fukudon | Donburi Specialist</td>\n",
       "      <td>Marine Parade Hawker Centre Blk 84</td>\n",
       "      <td>marine-parade-hawker-centre-blk-84</td>\n",
       "      <td>NaN</td>\n",
       "      <td>60</td>\n",
       "      <td>9/10/2020</td>\n",
       "      <td>9/10/2020 18:34</td>\n",
       "      <td>2020-10-09</td>\n",
       "      <td>2020-10-09</td>\n",
       "      <td>737707</td>\n",
       "      <td>0.064277</td>\n",
       "    </tr>\n",
       "    <tr>\n",
       "      <th>53</th>\n",
       "      <td>4</td>\n",
       "      <td>https://instagram.fsin5-1.fna.fbcdn.net/v/t51....</td>\n",
       "      <td>Renovation from the previous workspace has jus...</td>\n",
       "      <td>Fukudon | Donburi Specialist</td>\n",
       "      <td>Marine Parade Food Centre</td>\n",
       "      <td>marine-parade-food-centre</td>\n",
       "      <td>NaN</td>\n",
       "      <td>55</td>\n",
       "      <td>11/10/2020</td>\n",
       "      <td>11/10/2020 17:55</td>\n",
       "      <td>2020-10-11</td>\n",
       "      <td>2020-10-11</td>\n",
       "      <td>737709</td>\n",
       "      <td>4.935547</td>\n",
       "    </tr>\n",
       "  </tbody>\n",
       "</table>\n",
       "</div>"
      ],
      "text/plain": [
       "    Unnamed: 0                                   node.display_url  \\\n",
       "57           0  https://instagram.fsin5-1.fna.fbcdn.net/v/t51....   \n",
       "56           1  https://instagram.fsin5-1.fna.fbcdn.net/v/t51....   \n",
       "55           2  https://instagram.fsin5-1.fna.fbcdn.net/v/t51....   \n",
       "54           3  https://instagram.fsin5-1.fna.fbcdn.net/v/t51....   \n",
       "53           4  https://instagram.fsin5-1.fna.fbcdn.net/v/t51....   \n",
       "\n",
       "                     node.edge_media_to_caption.edges  \\\n",
       "57  FÚKUDON  一口田\\n\\nThe right half of \"福\" (fú) (...   \n",
       "56  Inspired by the quote “Home is where the heart...   \n",
       "55  In our next few posts, we will be exploring ho...   \n",
       "54  This post focuses on two key factors in creati...   \n",
       "53  Renovation from the previous workspace has jus...   \n",
       "\n",
       "            node.owner.full_name                  node.location.name  \\\n",
       "57  Fukudon | Donburi Specialist           Marine Parade Food Centre   \n",
       "56  Fukudon | Donburi Specialist  Marine Parade Hawker Centre Blk 84   \n",
       "55  Fukudon | Donburi Specialist   Marine Parade Central Food Centre   \n",
       "54  Fukudon | Donburi Specialist  Marine Parade Hawker Centre Blk 84   \n",
       "53  Fukudon | Donburi Specialist           Marine Parade Food Centre   \n",
       "\n",
       "                    node.location.slug hashtags  Likes        Date  \\\n",
       "57           marine-parade-food-centre      NaN     43   2/10/2020   \n",
       "56  marine-parade-hawker-centre-blk-84      NaN     65   5/10/2020   \n",
       "55   marine-parade-central-food-centre      NaN     49   8/10/2020   \n",
       "54  marine-parade-hawker-centre-blk-84      NaN     60   9/10/2020   \n",
       "53           marine-parade-food-centre      NaN     55  11/10/2020   \n",
       "\n",
       "            Datetime   date_obj dates_string  date_float   variance  \n",
       "57   2/10/2020 18:49 2020-10-02   2020-10-02      737700  17.514829  \n",
       "56   5/10/2020 19:01 2020-10-05   2020-10-05      737703   4.678265  \n",
       "55   8/10/2020 21:04 2020-10-08   2020-10-08      737706  11.128641  \n",
       "54   9/10/2020 18:34 2020-10-09   2020-10-09      737707   0.064277  \n",
       "53  11/10/2020 17:55 2020-10-11   2020-10-11      737709   4.935547  "
      ]
     },
     "execution_count": 134,
     "metadata": {},
     "output_type": "execute_result"
    }
   ],
   "source": [
    "instagram_df.head()"
   ]
  },
  {
   "cell_type": "markdown",
   "id": "a0fa3f4c",
   "metadata": {},
   "source": [
    "# Feature Engineering for Day and Time"
   ]
  },
  {
   "cell_type": "code",
   "execution_count": null,
   "id": "8639937b",
   "metadata": {},
   "outputs": [],
   "source": []
  }
 ],
 "metadata": {
  "kernelspec": {
   "display_name": "Python 3 (ipykernel)",
   "language": "python",
   "name": "python3"
  },
  "language_info": {
   "codemirror_mode": {
    "name": "ipython",
    "version": 3
   },
   "file_extension": ".py",
   "mimetype": "text/x-python",
   "name": "python",
   "nbconvert_exporter": "python",
   "pygments_lexer": "ipython3",
   "version": "3.9.9"
  }
 },
 "nbformat": 4,
 "nbformat_minor": 5
}
