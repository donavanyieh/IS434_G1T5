{
 "cells": [
  {
   "cell_type": "markdown",
   "id": "5e3ba515",
   "metadata": {},
   "source": [
    "# Description of analysis\n",
    "In this notebook, we aim to look at engagement of posts, and whether posting at specific days of the week and timings of the day lead to greater engagement rate. To do so, we have to define the metric for \"engagement\".<br><br>\n",
    "We face certain limitations and concerns when defining engagement of a post on a particular date. We address this points below and come up with our own engagement metric.\n",
    "\n",
    "# Limitation/ concerns\n",
    "This measurement of engagement comes with two limitations/threats to validity:<br>\n",
    "<ol>\n",
    "    <li>Likes of posts will rise will number of followrs. While the ideal metric would be: <i>Number of likes divided by number of followers at the time of posting</i>, instagram does not allow us to retrieve historical number of followers.</li>\n",
    "    <li>If we look at absolute number of likes per day, e.g. all likes gathered on posts on Thursdays, we may have bias, where if Fukudon posts regularly on Thursdays, Thursdays may gain a higher engagement rate</li>\n",
    "</ol>\n",
    "\n",
    "# Mitigation\n",
    "We first construct a linear regressor to fit likes across all dates, and look at the the percentage variance of the post to the regressor line. This is the engagement per post. We do this for all posts, and get the average engagement per post over a date.\n",
    "\n",
    "# Formula for \"Engagement\"\n",
    "In conclusion, we come up with the following formula:<h3><i>Engagement per day: (sum of all percentage variance for a day) divided by (number of posts on that day)</i></h3>\n"
   ]
  },
  {
   "cell_type": "markdown",
   "id": "24156cba",
   "metadata": {},
   "source": [
    "# Import relevant libraries and files"
   ]
  },
  {
   "cell_type": "code",
   "execution_count": 44,
   "id": "023fb9c9",
   "metadata": {},
   "outputs": [],
   "source": [
    "import pandas as pd\n",
    "import numpy as np\n",
    "\n",
    "from datetime import datetime, timedelta"
   ]
  },
  {
   "cell_type": "code",
   "execution_count": 45,
   "id": "36b64d65-6975-4d23-9b31-bd9c33958c8d",
   "metadata": {},
   "outputs": [],
   "source": [
    "instagram_df = pd.read_csv(\"../data/instagram_posts.csv\")"
   ]
  },
  {
   "cell_type": "code",
   "execution_count": 46,
   "id": "ad8bdf6b-4ac3-46e1-b1d8-bef53bd70d83",
   "metadata": {},
   "outputs": [
    {
     "data": {
      "text/html": [
       "<div>\n",
       "<style scoped>\n",
       "    .dataframe tbody tr th:only-of-type {\n",
       "        vertical-align: middle;\n",
       "    }\n",
       "\n",
       "    .dataframe tbody tr th {\n",
       "        vertical-align: top;\n",
       "    }\n",
       "\n",
       "    .dataframe thead th {\n",
       "        text-align: right;\n",
       "    }\n",
       "</style>\n",
       "<table border=\"1\" class=\"dataframe\">\n",
       "  <thead>\n",
       "    <tr style=\"text-align: right;\">\n",
       "      <th></th>\n",
       "      <th>Unnamed: 0</th>\n",
       "      <th>node.display_url</th>\n",
       "      <th>node.edge_media_to_caption.edges</th>\n",
       "      <th>node.owner.full_name</th>\n",
       "      <th>node.location.name</th>\n",
       "      <th>node.location.slug</th>\n",
       "      <th>hashtags</th>\n",
       "      <th>Likes</th>\n",
       "      <th>Date</th>\n",
       "      <th>Datetime</th>\n",
       "    </tr>\n",
       "  </thead>\n",
       "  <tbody>\n",
       "    <tr>\n",
       "      <th>0</th>\n",
       "      <td>57</td>\n",
       "      <td>https://instagram.fsin5-1.fna.fbcdn.net/v/t51....</td>\n",
       "      <td>Let us bring you behind the scenes and show yo...</td>\n",
       "      <td>Fukudon | Donburi Specialist</td>\n",
       "      <td>Fukudon</td>\n",
       "      <td>fukudon</td>\n",
       "      <td>NaN</td>\n",
       "      <td>29</td>\n",
       "      <td>7/2/2022</td>\n",
       "      <td>7/2/2022 15:20</td>\n",
       "    </tr>\n",
       "    <tr>\n",
       "      <th>1</th>\n",
       "      <td>56</td>\n",
       "      <td>https://instagram.fsin5-1.fna.fbcdn.net/v/t51....</td>\n",
       "      <td>🐯新年快乐 恭喜发财🍊\\n\\nFrom all of us at Fúkudon, we w...</td>\n",
       "      <td>Fukudon | Donburi Specialist</td>\n",
       "      <td>NaN</td>\n",
       "      <td>NaN</td>\n",
       "      <td>NaN</td>\n",
       "      <td>16</td>\n",
       "      <td>3/2/2022</td>\n",
       "      <td>3/2/2022 11:24</td>\n",
       "    </tr>\n",
       "    <tr>\n",
       "      <th>2</th>\n",
       "      <td>55</td>\n",
       "      <td>https://instagram.fsin5-1.fna.fbcdn.net/v/t51....</td>\n",
       "      <td>We’ve heard you! We are pleased to finally ann...</td>\n",
       "      <td>Fukudon | Donburi Specialist</td>\n",
       "      <td>Fukudon</td>\n",
       "      <td>fukudon</td>\n",
       "      <td>NaN</td>\n",
       "      <td>18</td>\n",
       "      <td>28/1/2022</td>\n",
       "      <td>28/1/2022 18:04</td>\n",
       "    </tr>\n",
       "    <tr>\n",
       "      <th>3</th>\n",
       "      <td>54</td>\n",
       "      <td>https://instagram.fsin5-1.fna.fbcdn.net/v/t51....</td>\n",
       "      <td>🐯🧧 Let us usher in a Roarsome Lunar New Year t...</td>\n",
       "      <td>Fukudon | Donburi Specialist</td>\n",
       "      <td>NaN</td>\n",
       "      <td>NaN</td>\n",
       "      <td>NaN</td>\n",
       "      <td>17</td>\n",
       "      <td>26/1/2022</td>\n",
       "      <td>26/1/2022 13:37</td>\n",
       "    </tr>\n",
       "    <tr>\n",
       "      <th>4</th>\n",
       "      <td>53</td>\n",
       "      <td>https://instagram.fsin5-1.fna.fbcdn.net/v/t51....</td>\n",
       "      <td>🧧Introducing to you our Roaring Combo this Lun...</td>\n",
       "      <td>Fukudon | Donburi Specialist</td>\n",
       "      <td>NaN</td>\n",
       "      <td>NaN</td>\n",
       "      <td>NaN</td>\n",
       "      <td>47</td>\n",
       "      <td>23/1/2022</td>\n",
       "      <td>23/1/2022 16:01</td>\n",
       "    </tr>\n",
       "  </tbody>\n",
       "</table>\n",
       "</div>"
      ],
      "text/plain": [
       "   Unnamed: 0                                   node.display_url  \\\n",
       "0          57  https://instagram.fsin5-1.fna.fbcdn.net/v/t51....   \n",
       "1          56  https://instagram.fsin5-1.fna.fbcdn.net/v/t51....   \n",
       "2          55  https://instagram.fsin5-1.fna.fbcdn.net/v/t51....   \n",
       "3          54  https://instagram.fsin5-1.fna.fbcdn.net/v/t51....   \n",
       "4          53  https://instagram.fsin5-1.fna.fbcdn.net/v/t51....   \n",
       "\n",
       "                    node.edge_media_to_caption.edges  \\\n",
       "0  Let us bring you behind the scenes and show yo...   \n",
       "1  🐯新年快乐 恭喜发财🍊\\n\\nFrom all of us at Fúkudon, we w...   \n",
       "2  We’ve heard you! We are pleased to finally ann...   \n",
       "3  🐯🧧 Let us usher in a Roarsome Lunar New Year t...   \n",
       "4  🧧Introducing to you our Roaring Combo this Lun...   \n",
       "\n",
       "           node.owner.full_name node.location.name node.location.slug  \\\n",
       "0  Fukudon | Donburi Specialist            Fukudon            fukudon   \n",
       "1  Fukudon | Donburi Specialist                NaN                NaN   \n",
       "2  Fukudon | Donburi Specialist            Fukudon            fukudon   \n",
       "3  Fukudon | Donburi Specialist                NaN                NaN   \n",
       "4  Fukudon | Donburi Specialist                NaN                NaN   \n",
       "\n",
       "  hashtags  Likes       Date         Datetime  \n",
       "0      NaN     29   7/2/2022   7/2/2022 15:20  \n",
       "1      NaN     16   3/2/2022   3/2/2022 11:24  \n",
       "2      NaN     18  28/1/2022  28/1/2022 18:04  \n",
       "3      NaN     17  26/1/2022  26/1/2022 13:37  \n",
       "4      NaN     47  23/1/2022  23/1/2022 16:01  "
      ]
     },
     "execution_count": 46,
     "metadata": {},
     "output_type": "execute_result"
    }
   ],
   "source": [
    "instagram_df.head()"
   ]
  },
  {
   "cell_type": "code",
   "execution_count": 47,
   "id": "42eab824",
   "metadata": {
    "scrolled": true
   },
   "outputs": [
    {
     "name": "stdout",
     "output_type": "stream",
     "text": [
      "<class 'pandas.core.frame.DataFrame'>\n",
      "RangeIndex: 58 entries, 0 to 57\n",
      "Data columns (total 10 columns):\n",
      " #   Column                            Non-Null Count  Dtype \n",
      "---  ------                            --------------  ----- \n",
      " 0   Unnamed: 0                        58 non-null     int64 \n",
      " 1   node.display_url                  55 non-null     object\n",
      " 2   node.edge_media_to_caption.edges  58 non-null     object\n",
      " 3   node.owner.full_name              55 non-null     object\n",
      " 4   node.location.name                39 non-null     object\n",
      " 5   node.location.slug                39 non-null     object\n",
      " 6   hashtags                          9 non-null      object\n",
      " 7   Likes                             58 non-null     int64 \n",
      " 8   Date                              58 non-null     object\n",
      " 9   Datetime                          58 non-null     object\n",
      "dtypes: int64(2), object(8)\n",
      "memory usage: 4.7+ KB\n"
     ]
    }
   ],
   "source": [
    "instagram_df.info()"
   ]
  },
  {
   "cell_type": "markdown",
   "id": "ddb4a0ff",
   "metadata": {},
   "source": [
    "<h1> Archive: Look for alternative method </h1>"
   ]
  },
  {
   "cell_type": "code",
   "execution_count": null,
   "id": "c3de0dce",
   "metadata": {},
   "outputs": [],
   "source": []
  },
  {
   "cell_type": "code",
   "execution_count": null,
   "id": "8784599e",
   "metadata": {},
   "outputs": [],
   "source": []
  },
  {
   "cell_type": "code",
   "execution_count": null,
   "id": "30e8ba71",
   "metadata": {},
   "outputs": [],
   "source": []
  },
  {
   "cell_type": "markdown",
   "id": "6da47bfd-35cd-4b54-9365-b8b9c9fd27b1",
   "metadata": {},
   "source": [
    "# Get series of dates from oldest to newest post"
   ]
  },
  {
   "cell_type": "code",
   "execution_count": 48,
   "id": "d3131b99",
   "metadata": {},
   "outputs": [],
   "source": [
    "def get_date_from_string(date_string):\n",
    "    return datetime.strptime(date_string, \"%d/%m/%Y\").date()\n",
    "\n",
    "instagram_df[\"date_obj\"] = instagram_df[\"Date\"].apply(get_date_from_string)\n",
    "\n",
    "# Sort dataframe from oldest post to newest post\n",
    "instagram_df = instagram_df.sort_values(by=\"date_obj\")"
   ]
  },
  {
   "cell_type": "code",
   "execution_count": 49,
   "id": "b2e0c43b",
   "metadata": {},
   "outputs": [],
   "source": [
    "dates_of_posts = instagram_df[\"date_obj\"].to_list()\n",
    "oldest_post_date = dates_of_posts[0]\n",
    "newest_post_date = dates_of_posts[-1]"
   ]
  },
  {
   "cell_type": "code",
   "execution_count": 60,
   "id": "8e1f27c5",
   "metadata": {},
   "outputs": [],
   "source": [
    "list_of_dates = pd.date_range(oldest_post_date, newest_post_date, freq='d').tolist()\n",
    "list_of_dates = [item.date() for item in list_of_dates]"
   ]
  },
  {
   "cell_type": "code",
   "execution_count": 61,
   "id": "a6d983a9",
   "metadata": {},
   "outputs": [],
   "source": [
    "# Sanity check\n",
    "assert (list_of_dates[0] == oldest_post_date) and (list_of_dates[-1] == newest_post_date), \"Oldest or newest date not correct\""
   ]
  }
 ],
 "metadata": {
  "kernelspec": {
   "display_name": "Python 3 (ipykernel)",
   "language": "python",
   "name": "python3"
  },
  "language_info": {
   "codemirror_mode": {
    "name": "ipython",
    "version": 3
   },
   "file_extension": ".py",
   "mimetype": "text/x-python",
   "name": "python",
   "nbconvert_exporter": "python",
   "pygments_lexer": "ipython3",
   "version": "3.9.9"
  }
 },
 "nbformat": 4,
 "nbformat_minor": 5
}
