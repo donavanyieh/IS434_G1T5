{
  "nbformat": 4,
  "nbformat_minor": 0,
  "metadata": {
    "colab": {
      "name": "ObjectDetection.ipynb",
      "provenance": []
    },
    "kernelspec": {
      "name": "python3",
      "display_name": "Python 3"
    },
    "language_info": {
      "name": "python"
    },
    "accelerator": "GPU"
  },
  "cells": [
    {
      "cell_type": "markdown",
      "source": [
        "# Notebook to analyze interests of Fukudon's followers. Please read the text below."
      ],
      "metadata": {
        "id": "ZjizX9wE7uTf"
      }
    },
    {
      "cell_type": "markdown",
      "source": [
        "# Important Information\n",
        "This notebook was ran on Google Colab Pro (<b>not</b> drive mounted). To replicate this notebook:\n",
        "<ol>\n",
        "<li> Import notebook to colab</li>\n",
        "<li> Download resnet50_coco_best_v2.1.0.h5 from this link: https://github.com/OlafenwaMoses/ImageAI/releases/download/essentials-v5/resnet50_coco_best_v2.1.0.h5/\n",
        "<li> Place model in root directory of Google Colab</li>\n",
        "<li> Import \"recent_five_pictures\" folder into root directory of Google Colab (recent_five_pictures folder can be found in \"data\" folder)</li>\n",
        "<li> Create \"recent_five_picutres_output\" folder in Google Colab </li>\n",
        "<li> Change runtime to GPU</li>\n",
        "<li> Install dependencies and run code (you may be asked to restart runtime after installing </li>\n",
        "</ol>"
      ],
      "metadata": {
        "id": "fjlbzxyd-upu"
      }
    },
    {
      "cell_type": "markdown",
      "source": [
        "# Expected Directory\n",
        "In Google Colab, your directory should now consist of 3 folders and 1 file:\n",
        "<ol>\n",
        "<li>recent_five_pictures: folder with photos</li>\n",
        "<li>recent_five_pictures_output: empty folder. Once object detection is performed, pictures with bounding boxes will be saved here.</li>\n",
        "<li>sample_data: default folder from Google Colab</li>\n",
        "<li>resnet50_coco_best_v2.1.0.h5: model file</li>\n",
        "</ol>  "
      ],
      "metadata": {
        "id": "Ie7JwliVCr9o"
      }
    },
    {
      "cell_type": "markdown",
      "source": [
        "# Methodology\n",
        "This notebook aims to gather demographic information surrounding Fukudon followers, namely interst. We do so by utilizing ImageAI to perform object detection on: the first five posts of EACH of Fukudon's followers.<br><br>\n",
        "We specifically perform object detection on only <b>active and non-spam users</b>, defined by the following criterias:\n",
        "1. Public accounts\n",
        "2. Number of posts > 5\n",
        "3. Number of followers > 100 \n",
        "4. Number of followees > 2/3 number of followers"
      ],
      "metadata": {
        "id": "5xYe8-Ah7xEl"
      }
    },
    {
      "cell_type": "markdown",
      "source": [
        "# Acknowledgement\n",
        "While modifications were made to suit our use case, code was heavily referred from: https://towardsdatascience.com/object-detection-with-10-lines-of-code-d6cb4d86f606"
      ],
      "metadata": {
        "id": "VHTlcowlBPWC"
      }
    },
    {
      "cell_type": "markdown",
      "source": [
        "## Install and import dependencies"
      ],
      "metadata": {
        "id": "I2V-K4QaCAJw"
      }
    },
    {
      "cell_type": "code",
      "execution_count": 2,
      "metadata": {
        "id": "LTDrnLhUwVuY"
      },
      "outputs": [],
      "source": [
        "!pip3 install tensorflow==2.4.0\n",
        "!pip3 install opencv-python\n",
        "!pip3 install keras\n",
        "!pip3 install imageai --upgrade\n",
        "\n",
        "from imageai.Detection import ObjectDetection\n",
        "import os"
      ]
    },
    {
      "cell_type": "code",
      "source": [
        "execution_path = os.getcwd()\n",
        "detector = ObjectDetection()\n",
        "detector.setModelTypeAsRetinaNet()\n",
        "detector.setModelPath(\"/content/resnet50_coco_best_v2.1.0.h5\")\n",
        "detector.loadModel()"
      ],
      "metadata": {
        "colab": {
          "base_uri": "https://localhost:8080/"
        },
        "id": "t7NNEdlw464O",
        "outputId": "b04f5687-5a71-4647-9685-c711edda2b56"
      },
      "execution_count": 7,
      "outputs": [
        {
          "output_type": "stream",
          "name": "stdout",
          "text": [
            "WARNING:tensorflow:No training configuration found in the save file, so the model was *not* compiled. Compile it manually.\n"
          ]
        }
      ]
    },
    {
      "cell_type": "code",
      "source": [
        "object_frequency_dict = {}\n",
        "for filename in os.listdir(\"/content/recent_five_pictures/\"):\n",
        "    if filename.endswith(\".png\"): \n",
        "         input_path = f\"/content/recent_five_pictures/{filename}\"\n",
        "         output_path = f\"/content/recent_five_pictures_output/{filename}\"\n",
        "         detections = detector.detectObjectsFromImage(input_image=input_path, output_image_path=output_path)\n",
        "         for eachObject in detections:\n",
        "            if eachObject[\"percentage_probability\"] > 70:\n",
        "                if eachObject[\"name\"] not in object_frequency_dict:\n",
        "                    object_frequency_dict[eachObject[\"name\"]] = 1\n",
        "                else:\n",
        "                    object_frequency_dict[eachObject[\"name\"]] += 1"
      ],
      "metadata": {
        "id": "6Eh0iFWi53Jc"
      },
      "execution_count": 10,
      "outputs": []
    },
    {
      "cell_type": "code",
      "source": [
        "object_frequency_dict"
      ],
      "metadata": {
        "colab": {
          "base_uri": "https://localhost:8080/"
        },
        "id": "eEfaX5OXBFIi",
        "outputId": "31d9c598-ba51-4889-b6f8-cb6361a40323"
      },
      "execution_count": 18,
      "outputs": [
        {
          "output_type": "execute_result",
          "data": {
            "text/plain": [
              "{'backpack': 3,\n",
              " 'bed': 3,\n",
              " 'bench': 3,\n",
              " 'bird': 1,\n",
              " 'boat': 2,\n",
              " 'book': 1,\n",
              " 'bottle': 6,\n",
              " 'bowl': 98,\n",
              " 'broccoli': 5,\n",
              " 'cake': 22,\n",
              " 'car': 50,\n",
              " 'carrot': 2,\n",
              " 'cat': 5,\n",
              " 'cell phone': 15,\n",
              " 'chair': 19,\n",
              " 'clock': 6,\n",
              " 'couch': 3,\n",
              " 'cup': 58,\n",
              " 'dining table': 25,\n",
              " 'dog': 10,\n",
              " 'donut': 4,\n",
              " 'fire hydrant': 1,\n",
              " 'fork': 3,\n",
              " 'frisbee': 3,\n",
              " 'handbag': 4,\n",
              " 'hot dog': 3,\n",
              " 'keyboard': 1,\n",
              " 'knife': 5,\n",
              " 'laptop': 1,\n",
              " 'motorcycle': 3,\n",
              " 'mouse': 1,\n",
              " 'orange': 6,\n",
              " 'person': 745,\n",
              " 'pizza': 4,\n",
              " 'potted plant': 14,\n",
              " 'sandwich': 12,\n",
              " 'snowboard': 1,\n",
              " 'spoon': 5,\n",
              " 'teddy bear': 1,\n",
              " 'tie': 2,\n",
              " 'toilet': 1,\n",
              " 'traffic light': 1,\n",
              " 'truck': 1,\n",
              " 'tv': 2,\n",
              " 'umbrella': 2,\n",
              " 'vase': 3,\n",
              " 'wine glass': 9}"
            ]
          },
          "metadata": {},
          "execution_count": 18
        }
      ]
    },
    {
      "cell_type": "markdown",
      "source": [
        "# Wordcloud"
      ],
      "metadata": {
        "id": "iGFm5fFkECtm"
      }
    },
    {
      "cell_type": "code",
      "source": [
        "# TODO"
      ],
      "metadata": {
        "id": "HAjywpdNEEmR"
      },
      "execution_count": null,
      "outputs": []
    },
    {
      "cell_type": "markdown",
      "source": [
        "# Barchart (same as Wordcloud but just serves as another visualization)"
      ],
      "metadata": {
        "id": "ktDq-RKhEHUL"
      }
    },
    {
      "cell_type": "code",
      "source": [
        "# TODO"
      ],
      "metadata": {
        "id": "1Q8wBvksEGxX"
      },
      "execution_count": null,
      "outputs": []
    },
    {
      "cell_type": "markdown",
      "source": [
        "# Clustering and Visualization"
      ],
      "metadata": {
        "id": "wPf9EXCQEOrH"
      }
    },
    {
      "cell_type": "markdown",
      "source": [
        "Step 1) Encode each key in object_frequency_dict with BERT or GloVe <br>\n",
        "Step 2) Perform KMeans Clustering <br>\n",
        "Step 3) Perform t-SNE and visualization <br>"
      ],
      "metadata": {
        "id": "ANPZvQm7Eg-q"
      }
    },
    {
      "cell_type": "code",
      "source": [
        "# TODO"
      ],
      "metadata": {
        "id": "8Q3GS4AhER7k"
      },
      "execution_count": null,
      "outputs": []
    }
  ]
}